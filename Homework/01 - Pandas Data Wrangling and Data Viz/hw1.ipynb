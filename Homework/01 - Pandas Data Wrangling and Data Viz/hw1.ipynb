{
 "cells": [
  {
   "cell_type": "markdown",
   "id": "41f19621",
   "metadata": {
    "pycharm": {
     "name": "#%% md\n"
    }
   },
   "source": [
    "# Homework 1 (HW1)\n",
    "\n",
    "By the end of this homework, we expect you to be able to:\n",
    "\n",
    "- Load data and handle data using pandas;\n",
    "- Navigate the documentation of Python packages by yourself;\n",
    "- Filter and tidy up noisy real-world datasets;\n",
    "- Aggregate your data in different (and hopefully helpful) ways; \n",
    "- Create meaningful visualizations to analyze the data;\n",
    "\n",
    "---\n",
    "\n",
    "## Important Dates\n",
    "\n",
    "- Homework release: Fri 14 Oct 2022\n",
    "- **Homework due**: Sat 29 Oct 2022, 23:59\n",
    "- Grade release: Mon 07 Nov 2022\n",
    "\n",
    "---\n",
    "\n",
    "##  Some rules\n",
    "\n",
    "1. You are allowed to use any built-in Python library that comes with Anaconda. If you want to use an external library, \n",
    "you may do so, but must justify your choice.\n",
    "2. Make sure you use the `data` folder provided in the repository in read-only mode. (Or alternatively, be sure you \n",
    "don’t change any of the files.)\n",
    "3. Be sure to provide a textual description of your thought process, the assumptions you made, the solution you \n",
    "implemented, and explanations for your answers. A notebook that only has code cells will not suffice.\n",
    "4. For questions containing the **/Discuss:/** prefix, answer not with code, but with a textual explanation\n",
    " (**in markdown**).\n",
    "5. Back up any hypotheses and claims with data, since this is an important aspect of the course.\n",
    "6. Please write all your comments in English, and use meaningful variable names in your code. Your repo should have a \n",
    "single notebook (plus the required data files) in the *master/main* branch. If there are multiple notebooks present, \n",
    "we will **not grade** anything.\n",
    "7. We will **not run your notebook for you**! Rather, we will grade it as is, which means that only the results \n",
    "contained in your evaluated code cells will be considered, and we will not see the results in unevaluated code cells. \n",
    "Thus, be sure to hand in a **fully-run and evaluated notebook**. In order to check whether everything looks as intended,\n",
    " you can check the rendered notebook on the GitHub website once you have pushed your solution there.\n",
    "8. In continuation to the previous point, interactive plots, such as those generated using `plotly`, should be \n",
    "**strictly avoided**!\n",
    "9. Make sure to print results or dataframes that confirm you have properly addressed the task.\n",
    "\n",
    "---\n",
    "\n",
    "In this homework, we will analyze data from A/B tests of headlines conducted by Upworthy from January 2013 to April 2015 to study whether the language used in the headline determines the number of people that will read the associated news piece. The homework contains four tasks: in task 1, we will process the data; in task 2, we will extract meaningful signals from the data; in task 3, we will test whether the language of headlines impacts their success; and in task 4, we will explore the heterogeneity of this effects (e.g., does it vary through time?).\n",
    "\n",
    "\n",
    "### **What is an A/B test?** \n",
    "A/B tests are experiments that compare two scenarios (e.g., scenario A vs. scenario B). \n",
    "They test subjects' responses to each of the variants to determine which is more effective ([read more about A/B tests on Wikipedia](https://en.wikipedia.org/wiki/A/B_testing)). \n",
    "A/B tests allow us to draw conclusions about the different scenarios by randomizing exposure to them, e.g., one could flip a coin and assign a user to scenario A if it lands heads and to B if it lands tails. \n",
    "Since exposure is randomized, we can be confident that the scenarios are the sole explanation for statistically significant differences in subjects' responses (if they exist). \n",
    "In theory, A/B testing refers to an experiment that compares two scenarios; however, in practice, the term is also used when we compare multiple scenarios (e.g., A vs. B vs. C), although the more precise terminology would be to call such an experiment a \"multinomial test.\"\n",
    "\n",
    "### **How were A/B tests used by Upworthy?** \n",
    "Upworthy used A/B testing to increase news readership, conducting experiments for each published news piece. \n",
    "In each experiment, they created multiple \"packages\" of stimuli, varying headlines, images, excerpts, and ledes for the same news piece. \n",
    "Different \"packages\" were shown on their (now defunct) website to engage users with the news pieces they produced. Upworthy found \"the best\" package by conducting A/B tests, showing different packages to different users, and measuring how often users clicked on each version. \n",
    "Below, we show three \"packages\" used by Upworthy in an experiment, each with a different headline for the same news piece. \n",
    "Upworthy randomized users that visited their website saw one of the three versions of the headline below. Then, they measured the percentage of times users in each scenario clicked to read the news. \n",
    "The headline with the highest percentage of clicks per view (click through rate) was then declared the \"winner\" and became the default for all visitors.\n",
    "\n",
    "![Example A/B test](example.png)\n",
    "\n",
    " ### **Where does this data come from?** \n",
    " \n",
    " From a paper [1].\n",
    "\n",
    "[1] Matias, J.N., Munger, K., Le Quere, M.A. et al. The Upworthy Research Archive, a time series of 32,487 experiments in U.S. media. Sci Data 8, 195 (2021). https://doi.org/10.1038/s41597-021-00934-7\n",
    "\n",
    "### **Where can I find this data?**  \n",
    "\n",
    "You can find it in the `/data/` folder.\n",
    "\n",
    "### **Terminology**\n",
    "\n",
    "- **News piece:** A news article. In the dataset considered, these were all produced by Upworthy.\n",
    "- **Package:** The set of visual stimuli inviting the user to read an article. The figure above shows a package with a headline and an image. At times, there was an excerpt of the article also shown in the package and/or the lede, i.e., [\"the introductory section of a news story that is intended to entice the reader to read the full story.\"](https://www.merriam-webster.com/words-at-play/bury-the-lede-versus-lead#:~:text=In%20journalism%2C%20the%20lede%20refers,machines%20began%20disappearing%20from%20newsrooms.)\n",
    "- **Experiment:** Each experiment is an A/B test (or multinomial test, to be more precise) comparing how users reacted to different \"packages.\" Experiments measured two things: 1) how many users were shown each package; and 2) how many individuals clicked each package.\n",
    "\n",
    "### **Data description**\n",
    "\n",
    "| Column name          | Description                                                                                                                                                                                       |   |   |   |\n",
    "|----------------------|---------------------------------------------------------------------------------------------------------------------------------------------------------------------------------------------------|---|---|---|\n",
    "| created_at           | Time the package was created (timezone unknown)                                                                                                                                                   |   |   |   |\n",
    "| test_week            | Week the package was created, a variable constructed by the archive creators for stratified random sampling                                                                                       |   |   |   |\n",
    "| clickability_test_id | The test ID. Viewers were randomly assigned to packages with the same test ID                                                                                                                     |   |   |   |\n",
    "| impressions          | The number of viewers who were assigned to this package. The total number of participants for a given test is the sum of impressions for all packages that share the same clickability_test_id    |   |   |   |\n",
    "| headline             | The headline being tested                                                                                                                                                                         |   |   |   |\n",
    "| eyecatcher_id        | Image ID. Image files are not available. Packages that shared the same image have the same eyecatcher_id                                                                                          |   |   |   |\n",
    "| clicks               | The number of viewers (impressions) that clicked on the package. The clickrate for a given package is the number of clicks divided by the number of impressions                                   |   |   |   |\n",
    "| excerpt              | Article excerpt                                                                                                                                                                                   |   |   |   |\n",
    "| lede                 | The opening sentence or paragraph of the story                                                                                                                                                    |   |   |   |\n",
    "| slug                 | Internal name for the web address                                                                                                                                                                 |   |   |   |\n",
    "| share_text           | Summary for display on social media when the article is shared. This was not shown in tests, since tests were conducted on the Upworthy website                                                   |   |   |   |\n",
    "| square               | When used, part of the same social media sharing suggestion as the share text                                                                                                                     |   |   |   |\n",
    "| significance         | NOT an estimate of statistical significance; a complex, inconsistent calculation that compared the clicks on a package to the clicks on all previous packages that were fielded on the same pages |   |   |   |\n",
    "| first_place          | Along with significance, shown to editors to guide decisions about what test to choose                                                                                                            |   |   |   |\n",
    "| winner               | Whether a package was selected by editors to be used on the Upworthy site after the test                                                                                                          |   |   |   |\n",
    "| updated_at           | The last time the package was updated in the Upworthy system                                                                                                                                      |   |   |   |\n"
   ]
  },
  {
   "cell_type": "markdown",
   "source": [
    "## Task 1: Getting familiar with the data\n",
    "\n",
    "Your first task is to conduct initial analyses to understand the data and process it in a way that will allow us to more easily answer our key question: *how does the language of a headline determine its success?*\n",
    "\n",
    "1.1 Load the data into memory using pandas and print the first lines to get a sense of it.\n",
    "\n",
    "1.2 Each experiment comparing different versions of the same news piece (\"packages\") has a unique identifier (`clickability_test_id` column).\n",
    "Calculate how many different experiments were conducted in this dataset and, on average, how many packages were considered per experiment.\n",
    "Last, plot the distribution of packages per experiment with a visualization of your choice.\n",
    "\n",
    "1.3 A common way to measure success in online A/B tests is what is called \"the clickthrough rate.\"\n",
    "Given that often A/B tests are created to find what engages users (here, \"packages\" of headlines, images, etc), we would expect that a \"good\" package makes people click often.\n",
    "Create a column named `ctr` by dividing the number of clicks a package received (`clicks` column) by the number of impressions it received (`impressions` column).\n",
    "\n",
    "1.4 Packages varied any combination of the headline (`headline` column), the excerpt (`excerpt`), the first sentence of the article (`lede`), and the image that illustrates the news piece (`eyecatcher_id`, a hash per image).\n",
    "But we want to isolate the effect of the headline on the clickthrough rate. To do that, create a new dataframe where you filter all experiments where only one headline is present.\n",
    "Print the length of this new dataframe and how many experiments were discarded in the filtering process.\n",
    "\n",
    "1.5 For comparison, repeat the procedure described in **T1.4** with the `eyecatcher_id` column, i.e., create a dataframe considering only experiments that vary the image.\n",
    "Again, print the length of this new dataframe and how many experiments were discarded in the filtering process.\n",
    "\n",
    "1.6 **Discuss:** Considering the answers to questions **T1.4** and **T1.5**, what can we say about the different versions of the news tested by Upworthy?\n",
    "\n",
    "1.7 For our subsequent analysis, we want to compare the causal effect of headlines on the success of a news piece.\n",
    "For that, we can compare pairs of packages with the same `eyecatcher_id`, `lede`, and `excerpt`, but different `headlines`.\n",
    "Note that this means that if an experiment considered 5 different headlines and did not vary any other stimulus, we would have 5C2 (i.e., 5 choose 2, 10) pairs to consider.\n",
    "Create a dataset where:\n",
    "- each row corresponds to a pair of packages with different `headline` but the same `eyecatcher_id`, `lede`, and `excerpt`.\n",
    "- there are columns containing the headlines of each of the news versions (`headline1`, `headline2`) and the clickthrough rate of each of the news versions (`ctr1`, `ctr2`).\n",
    "- the columns `headline1` and `ctr1` contain the data associated with the news version with the highest clickthrough rate. Print the first rows of your newly created dataframe, as well as its length.\n",
    "-  the rows where the two news pieces had exactly the same clickthrough rate should be filtered out (this is for simplicity's sake).\n",
    "-  the column `date_created` contains the date when the news version with the highest clickthrough rate was created.\n",
    "\n",
    "1.8 To get a sense of the impact of headline change, measure the average difference per pair between the most clicked-through (`ctr1`) and the least clicked-through headline (`ctr2`), as well as the average clickthrough rate for the least clicked through headline (`ctr2`).\n",
    "\n",
    "1.9 **Discuss:** Considering your answer to **T1.8**, and assuming the average differences in clickthrough rates between pairs are statistically significant, do you think that headlines are impactful in the news business? Justify with the data."
   ],
   "metadata": {
    "collapsed": false,
    "pycharm": {
     "name": "#%% md\n"
    }
   }
  },
  {
   "cell_type": "code",
   "execution_count": 103,
   "outputs": [],
   "source": [
    "# define some names\n",
    "import string\n",
    "\n",
    "data_path_root = './data/'"
   ],
   "metadata": {
    "collapsed": false,
    "pycharm": {
     "name": "#%%\n"
    }
   }
  },
  {
   "cell_type": "code",
   "execution_count": 104,
   "outputs": [],
   "source": [
    "# import the needed libraries\n",
    "import os\n",
    "import numpy as np\n",
    "import pandas as pd\n",
    "import seaborn as sns\n",
    "import matplotlib.pyplot as plt\n",
    "%matplotlib inline"
   ],
   "metadata": {
    "collapsed": false,
    "pycharm": {
     "name": "#%%\n"
    }
   }
  },
  {
   "cell_type": "code",
   "execution_count": 105,
   "outputs": [],
   "source": [
    "# for style of plots\n",
    "sns.set_context(\"notebook\")\n",
    "sns.set_palette(\"tab10\")"
   ],
   "metadata": {
    "collapsed": false,
    "pycharm": {
     "name": "#%%\n"
    }
   }
  },
  {
   "cell_type": "markdown",
   "source": [
    "### 1.1 Load the data into memory using pandas and print the first lines to get a sense of it."
   ],
   "metadata": {
    "collapsed": false,
    "pycharm": {
     "name": "#%% md\n"
    }
   }
  },
  {
   "cell_type": "code",
   "execution_count": 106,
   "outputs": [
    {
     "data": {
      "text/plain": "                created_at               updated_at      clickability_test_id  \\\n0  2014-11-20 06:43:16.005  2016-04-02 16:33:38.062  546d88fb84ad38b2ce000024   \n1  2014-11-20 06:54:36.335  2016-04-02 16:25:54.027  546d902c26714c6c44000039   \n2  2014-11-20 06:54:57.878  2016-04-02 16:31:45.671  546d902c26714c6c44000039   \n3  2014-11-20 06:55:07.212  2016-04-02 16:25:54.029  546d902c26714c6c44000039   \n4  2014-11-20 06:55:20.347  2016-04-02 16:25:54.032  546d902c26714c6c44000039   \n\n                            excerpt  \\\n0  Things that matter. Pass 'em on.   \n1  Things that matter. Pass 'em on.   \n2  Things that matter. Pass 'em on.   \n3  Things that matter. Pass 'em on.   \n4  Things that matter. Pass 'em on.   \n\n                                            headline  \\\n0  They're Being Called 'Walmart's Worst Nightmar...   \n1        This Is What Sexism Against Men Sounds Like   \n2        This Is What Sexism Against Men Sounds Like   \n3        This Is What Sexism Against Men Sounds Like   \n4        This Is What Sexism Against Men Sounds Like   \n\n                                                lede  \\\n0  <p>When I saw *why* people are calling them \"W...   \n1  <p>DISCLOSURE: I'm a dude. I have cried on mul...   \n2  <p>DISCLOSURE: I'm a dude. I have cried on mul...   \n3  <p>DISCLOSURE: I'm a dude. I have cried on mul...   \n4  <p>DISCLOSURE: I'm a dude. I have cried on mul...   \n\n                                                slug  \\\n0  theyre-being-called-walmarts-worst-nightmare-a...   \n1  this-is-what-sexism-against-men-sounds-like-am...   \n2  this-is-what-sexism-against-men-sounds-like-am...   \n3  this-is-what-sexism-against-men-sounds-like-am...   \n4  this-is-what-sexism-against-men-sounds-like-am...   \n\n              eyecatcher_id  impressions  clicks  significance  first_place  \\\n0  546d6fa19ad54eec8d00002d         3052     150         100.0         True   \n1  546bc55335992b86c8000043         3526      90           4.1        False   \n2  546d900426714cd2dd00002e         3506     120         100.0         True   \n3  546d900426714c6c44000038         3380      98          25.3        False   \n4  546d900426714c1ad900001e         3465      75           0.2        False   \n\n   winner                                         share_text square  test_week  \n0    True  Anyone who's ever felt guilty about shopping a...    NaN     201446  \n1   False  If you ever wondered, \"but what about the men?...    NaN     201446  \n2   False  If you ever wondered, \"but what about the men?...    NaN     201446  \n3   False  If you ever wondered, \"but what about the men?...    NaN     201446  \n4   False  If you ever wondered, \"but what about the men?...    NaN     201446  ",
      "text/html": "<div>\n<style scoped>\n    .dataframe tbody tr th:only-of-type {\n        vertical-align: middle;\n    }\n\n    .dataframe tbody tr th {\n        vertical-align: top;\n    }\n\n    .dataframe thead th {\n        text-align: right;\n    }\n</style>\n<table border=\"1\" class=\"dataframe\">\n  <thead>\n    <tr style=\"text-align: right;\">\n      <th></th>\n      <th>created_at</th>\n      <th>updated_at</th>\n      <th>clickability_test_id</th>\n      <th>excerpt</th>\n      <th>headline</th>\n      <th>lede</th>\n      <th>slug</th>\n      <th>eyecatcher_id</th>\n      <th>impressions</th>\n      <th>clicks</th>\n      <th>significance</th>\n      <th>first_place</th>\n      <th>winner</th>\n      <th>share_text</th>\n      <th>square</th>\n      <th>test_week</th>\n    </tr>\n  </thead>\n  <tbody>\n    <tr>\n      <th>0</th>\n      <td>2014-11-20 06:43:16.005</td>\n      <td>2016-04-02 16:33:38.062</td>\n      <td>546d88fb84ad38b2ce000024</td>\n      <td>Things that matter. Pass 'em on.</td>\n      <td>They're Being Called 'Walmart's Worst Nightmar...</td>\n      <td>&lt;p&gt;When I saw *why* people are calling them \"W...</td>\n      <td>theyre-being-called-walmarts-worst-nightmare-a...</td>\n      <td>546d6fa19ad54eec8d00002d</td>\n      <td>3052</td>\n      <td>150</td>\n      <td>100.0</td>\n      <td>True</td>\n      <td>True</td>\n      <td>Anyone who's ever felt guilty about shopping a...</td>\n      <td>NaN</td>\n      <td>201446</td>\n    </tr>\n    <tr>\n      <th>1</th>\n      <td>2014-11-20 06:54:36.335</td>\n      <td>2016-04-02 16:25:54.027</td>\n      <td>546d902c26714c6c44000039</td>\n      <td>Things that matter. Pass 'em on.</td>\n      <td>This Is What Sexism Against Men Sounds Like</td>\n      <td>&lt;p&gt;DISCLOSURE: I'm a dude. I have cried on mul...</td>\n      <td>this-is-what-sexism-against-men-sounds-like-am...</td>\n      <td>546bc55335992b86c8000043</td>\n      <td>3526</td>\n      <td>90</td>\n      <td>4.1</td>\n      <td>False</td>\n      <td>False</td>\n      <td>If you ever wondered, \"but what about the men?...</td>\n      <td>NaN</td>\n      <td>201446</td>\n    </tr>\n    <tr>\n      <th>2</th>\n      <td>2014-11-20 06:54:57.878</td>\n      <td>2016-04-02 16:31:45.671</td>\n      <td>546d902c26714c6c44000039</td>\n      <td>Things that matter. Pass 'em on.</td>\n      <td>This Is What Sexism Against Men Sounds Like</td>\n      <td>&lt;p&gt;DISCLOSURE: I'm a dude. I have cried on mul...</td>\n      <td>this-is-what-sexism-against-men-sounds-like-am...</td>\n      <td>546d900426714cd2dd00002e</td>\n      <td>3506</td>\n      <td>120</td>\n      <td>100.0</td>\n      <td>True</td>\n      <td>False</td>\n      <td>If you ever wondered, \"but what about the men?...</td>\n      <td>NaN</td>\n      <td>201446</td>\n    </tr>\n    <tr>\n      <th>3</th>\n      <td>2014-11-20 06:55:07.212</td>\n      <td>2016-04-02 16:25:54.029</td>\n      <td>546d902c26714c6c44000039</td>\n      <td>Things that matter. Pass 'em on.</td>\n      <td>This Is What Sexism Against Men Sounds Like</td>\n      <td>&lt;p&gt;DISCLOSURE: I'm a dude. I have cried on mul...</td>\n      <td>this-is-what-sexism-against-men-sounds-like-am...</td>\n      <td>546d900426714c6c44000038</td>\n      <td>3380</td>\n      <td>98</td>\n      <td>25.3</td>\n      <td>False</td>\n      <td>False</td>\n      <td>If you ever wondered, \"but what about the men?...</td>\n      <td>NaN</td>\n      <td>201446</td>\n    </tr>\n    <tr>\n      <th>4</th>\n      <td>2014-11-20 06:55:20.347</td>\n      <td>2016-04-02 16:25:54.032</td>\n      <td>546d902c26714c6c44000039</td>\n      <td>Things that matter. Pass 'em on.</td>\n      <td>This Is What Sexism Against Men Sounds Like</td>\n      <td>&lt;p&gt;DISCLOSURE: I'm a dude. I have cried on mul...</td>\n      <td>this-is-what-sexism-against-men-sounds-like-am...</td>\n      <td>546d900426714c1ad900001e</td>\n      <td>3465</td>\n      <td>75</td>\n      <td>0.2</td>\n      <td>False</td>\n      <td>False</td>\n      <td>If you ever wondered, \"but what about the men?...</td>\n      <td>NaN</td>\n      <td>201446</td>\n    </tr>\n  </tbody>\n</table>\n</div>"
     },
     "execution_count": 106,
     "metadata": {},
     "output_type": "execute_result"
    }
   ],
   "source": [
    "data_path = os.path.join(data_path_root, 'upworthy.csv.gz')\n",
    "data = pd.read_csv(data_path, compression='gzip')\n",
    "data.head()"
   ],
   "metadata": {
    "collapsed": false,
    "pycharm": {
     "name": "#%%\n"
    }
   }
  },
  {
   "cell_type": "markdown",
   "source": [
    "### 1.2 Each experiment comparing different versions of the same news piece (“packages”) has a unique identifier (clickability_test_id column). Calculate how many different experiments were conducted in this dataset and, on average, how many packages were considered per experiment. Last, plot the distribution of packages per experiment with a visualization of your choice."
   ],
   "metadata": {
    "collapsed": false,
    "pycharm": {
     "name": "#%% md\n"
    }
   }
  },
  {
   "cell_type": "code",
   "execution_count": 107,
   "outputs": [
    {
     "name": "stdout",
     "output_type": "stream",
     "text": [
      "There are 4822 different experiments conducted in this data set.\n",
      "On average 4.2727084197428455 packages were considered per experiment.\n"
     ]
    }
   ],
   "source": [
    "experiments = data['clickability_test_id'].drop_duplicates()\n",
    "num_of_experiments = len(experiments)\n",
    "print(f'There are {num_of_experiments} different experiments conducted in this data set.')\n",
    "num_of_packages = data.shape[0]\n",
    "avg_pkg_per_exp = num_of_packages / num_of_experiments\n",
    "print(f'On average {avg_pkg_per_exp} packages were considered per experiment.')"
   ],
   "metadata": {
    "collapsed": false,
    "pycharm": {
     "name": "#%%\n"
    }
   }
  },
  {
   "cell_type": "markdown",
   "source": [
    "There are 4822 different experiments conducted in this data set.\n",
    "On average 4.2727084197428455 packages were considered per experiment.\n",
    "The visualization is at below:"
   ],
   "metadata": {
    "collapsed": false,
    "pycharm": {
     "name": "#%% md\n"
    }
   }
  },
  {
   "cell_type": "code",
   "execution_count": 108,
   "outputs": [
    {
     "data": {
      "text/plain": "Text(0.5, 1.0, 'Distribution of packages per experiment')"
     },
     "execution_count": 108,
     "metadata": {},
     "output_type": "execute_result"
    },
    {
     "data": {
      "text/plain": "<Figure size 432x288 with 1 Axes>",
      "image/png": "[encoded data removed]"
     },
     "metadata": {
      "needs_background": "light"
     },
     "output_type": "display_data"
    }
   ],
   "source": [
    "for_distribution = data.groupby('clickability_test_id').count()\n",
    "sns.histplot(data=for_distribution['created_at'], bins=100)\n",
    "plt.xlabel('packages per experiment')\n",
    "plt.title('Distribution of packages per experiment')"
   ],
   "metadata": {
    "collapsed": false,
    "pycharm": {
     "name": "#%%\n"
    }
   }
  },
  {
   "cell_type": "markdown",
   "source": [
    "### 1.3 A common way to measure success in online A/B tests is what is called “the clickthrough rate.” Given that often A/B tests are created to find what engages users (here, “packages” of headlines, images, etc), we would expect that a “good” package makes people click often. Create a column named ctr by dividing the number of clicks a package received (clicks column) by the number of impressions it received (impressions column)."
   ],
   "metadata": {
    "collapsed": false,
    "pycharm": {
     "name": "#%% md\n"
    }
   }
  },
  {
   "cell_type": "code",
   "execution_count": 109,
   "outputs": [
    {
     "name": "stdout",
     "output_type": "stream",
     "text": [
      "The visualization is at below:\n"
     ]
    },
    {
     "data": {
      "text/plain": "   clicks  impressions       ctr\n0     150         3052  0.049148\n1      90         3526  0.025525\n2     120         3506  0.034227\n3      98         3380  0.028994\n4      75         3465  0.021645",
      "text/html": "<div>\n<style scoped>\n    .dataframe tbody tr th:only-of-type {\n        vertical-align: middle;\n    }\n\n    .dataframe tbody tr th {\n        vertical-align: top;\n    }\n\n    .dataframe thead th {\n        text-align: right;\n    }\n</style>\n<table border=\"1\" class=\"dataframe\">\n  <thead>\n    <tr style=\"text-align: right;\">\n      <th></th>\n      <th>clicks</th>\n      <th>impressions</th>\n      <th>ctr</th>\n    </tr>\n  </thead>\n  <tbody>\n    <tr>\n      <th>0</th>\n      <td>150</td>\n      <td>3052</td>\n      <td>0.049148</td>\n    </tr>\n    <tr>\n      <th>1</th>\n      <td>90</td>\n      <td>3526</td>\n      <td>0.025525</td>\n    </tr>\n    <tr>\n      <th>2</th>\n      <td>120</td>\n      <td>3506</td>\n      <td>0.034227</td>\n    </tr>\n    <tr>\n      <th>3</th>\n      <td>98</td>\n      <td>3380</td>\n      <td>0.028994</td>\n    </tr>\n    <tr>\n      <th>4</th>\n      <td>75</td>\n      <td>3465</td>\n      <td>0.021645</td>\n    </tr>\n  </tbody>\n</table>\n</div>"
     },
     "execution_count": 109,
     "metadata": {},
     "output_type": "execute_result"
    }
   ],
   "source": [
    "data['ctr'] = data['clicks'] / data['impressions']\n",
    "print('The visualization is at below:')\n",
    "data[['clicks', 'impressions', 'ctr']].head()"
   ],
   "metadata": {
    "collapsed": false,
    "pycharm": {
     "name": "#%%\n"
    }
   }
  },
  {
   "cell_type": "markdown",
   "source": [
    "### 1.4 Packages varied any combination of the headline (headline column), the excerpt (excerpt), the first sentence of the article (lede), and the image that illustrates the news piece (eyecatcher_id, a hash per image). But we want to isolate the effect of the headline on the clickthrough rate. To do that, create a new dataframe where you filter all experiments where only one headline is present. Print the length of this new dataframe and how many experiments were discarded in the filtering process.\n",
    "\n",
    "- The length of this new dataframe is 2568.\n",
    "- 2236 experiments were discarded in the filtering process.\n"
   ],
   "metadata": {
    "collapsed": false,
    "pycharm": {
     "name": "#%% md\n"
    }
   }
  },
  {
   "cell_type": "code",
   "execution_count": 110,
   "outputs": [
    {
     "name": "stdout",
     "output_type": "stream",
     "text": [
      "The length of this new dataframe is 2586.\n",
      "2236 experiments were discarded in the filtering process.\n"
     ]
    }
   ],
   "source": [
    "# find one headline\n",
    "one_headline = data.groupby('clickability_test_id').nunique()\n",
    "one_headline = pd.DataFrame(one_headline.to_records())\n",
    "one_headline_name = one_headline[one_headline['headline'] > 1]['clickability_test_id']\n",
    "filter_one_headline = data.loc[data['clickability_test_id'].isin(one_headline_name)]\n",
    "num_of_experiments_one_headline = filter_one_headline.clickability_test_id.nunique()\n",
    "print(f'The length of this new dataframe is {num_of_experiments_one_headline}.')\n",
    "print(f'{num_of_experiments - num_of_experiments_one_headline} experiments were discarded in the filtering process.')"
   ],
   "metadata": {
    "collapsed": false,
    "pycharm": {
     "name": "#%%\n"
    }
   }
  },
  {
   "cell_type": "markdown",
   "source": [
    "### 1.5 For comparison, repeat the procedure described in T1.4 with the eyecatcher_id column, i.e., create a dataframe considering only experiments that vary the image. Again, print the length of this new dataframe and how many experiments were discarded in the filtering process.\n",
    "- The length of this new dataframe is 3108.\n",
    "- 1714 experiments were discarded in the filtering process."
   ],
   "metadata": {
    "collapsed": false,
    "pycharm": {
     "name": "#%% md\n"
    }
   }
  },
  {
   "cell_type": "code",
   "execution_count": 111,
   "outputs": [
    {
     "name": "stdout",
     "output_type": "stream",
     "text": [
      "The length of this new dataframe is 1714.\n",
      "3108 experiments were discarded in the filtering process.\n"
     ]
    }
   ],
   "source": [
    "# find one headline\n",
    "one_image = data.groupby('clickability_test_id').nunique()\n",
    "one_image = pd.DataFrame(one_image.to_records())\n",
    "one_image_name = one_image[one_image['eyecatcher_id'] > 1]['clickability_test_id']\n",
    "filter_one_image = data.loc[data['clickability_test_id'].isin(one_image_name)]\n",
    "num_of_experiments_one_image = filter_one_image.clickability_test_id.nunique()\n",
    "print(f'The length of this new dataframe is {num_of_experiments_one_image}.')\n",
    "print(f'{num_of_experiments - num_of_experiments_one_image} experiments were discarded in the filtering process.')"
   ],
   "metadata": {
    "collapsed": false,
    "pycharm": {
     "name": "#%%\n"
    }
   }
  },
  {
   "cell_type": "code",
   "execution_count": 112,
   "outputs": [],
   "source": [
    "# experiments_one_image = data.groupby('clickability_test_id').filter(lambda x: x['eyecatcher_id'].count()==1)\n",
    "# num_of_experiments_one_image = experiments_one_image.shape[0]\n",
    "# print(f'The length of this new dataframe is {num_of_experiments - num_of_experiments_one_image}.')\n",
    "#\n",
    "# num_of_experiments_discarded = experiments_one_image.shape[0]\n",
    "# print(f'{num_of_experiments_discarded} experiments were discarded in the filtering process.')"
   ],
   "metadata": {
    "collapsed": false,
    "pycharm": {
     "name": "#%%\n"
    }
   }
  },
  {
   "cell_type": "markdown",
   "source": [
    "### 1.6 Discuss: Considering the answers to questions T1.4 and T1.4, what can we say about the different versions of the news tested by Upworthy?\n",
    "Answer: The numbers of news with one headline and one image are roughly the same."
   ],
   "metadata": {
    "collapsed": false,
    "pycharm": {
     "name": "#%% md\n"
    }
   }
  },
  {
   "cell_type": "markdown",
   "source": [
    "### 1.7 For our subsequent analysis, we want to compare the causal effect of headlines on the success of a news piece.\n",
    "For that, we can compare pairs of packages with the same `eyecatcher_id`, `lede`, and `excerpt`, but different `headlines`.\n",
    "Note that this means that if an experiment considered 5 different headlines and did not vary any other stimulus, we would have 5C2 (i.e., 5 choose 2, 10) pairs to consider.\n",
    "Create a dataset where:\n",
    "- each row corresponds to a pair of packages with different `headline` but the same `eyecatcher_id`, `lede`, and `excerpt`.\n",
    "- there are columns containing the headlines of each of the news versions (`headline1`, `headline2`) and the clickthrough rate of each of the news versions (`ctr1`, `ctr2`).\n",
    "- the columns `headline1` and `ctr1` contain the data associated with the news version with the highest clickthrough rate. Print the first rows of your newly created dataframe, as well as its length.\n",
    "-  the rows where the two news pieces had exactly the same clickthrough rate should be filtered out (this is for simplicity's sake).\n",
    "-  the column `date_created` contains the date when the news version with the highest clickthrough rate was created."
   ],
   "metadata": {
    "collapsed": false,
    "pycharm": {
     "name": "#%% md\n"
    }
   }
  },
  {
   "cell_type": "code",
   "execution_count": 113,
   "outputs": [
    {
     "name": "stdout",
     "output_type": "stream",
     "text": [
      "The length of this new dataset is 17727.\n"
     ]
    },
    {
     "data": {
      "text/plain": "                                                                                                                                                                                                 headline1  \\\nclickability_test_id     eyecatcher_id            lede                                               excerpt                                                                                                 \n51436069220cb800020005bd 5332ba141fae79f09f002c47 <p>The President made a lot of promises, and he... You have so much potential. Why are you wasting...  Mr. President, I'm Not Mad. I'm Just Disappoin...   \n5143606a220cb800020005c6 5332ba211fae79f09f002dcf <p>If you think Fawzia Koofi is crazy for wanti... You don't want to miss this incredible story.       MAD RESPECT: This Brave Woman Is Running For P...   \n                                                                                                     You don't want to miss this incredible story.       If You Think Hillary Had A Rough Campaign, You...   \n                                                                                                     You don't want to miss this incredible story.       If You Think Hillary Had A Rough Campaign, You...   \n5143606b220cb800020005d7 5332ba581fae79f09f003326 <p><p>Sean Hannity thinks all women should have... Science can be confusing if you don't believe i...  Sean Hannity Thinks Telling Men Not To Attack ...   \n...                                                                                                                                                                                                    ...   \n5143608a220cb800020009c0 5332ba631fae79f09f0033f7 <p>You won't <b>believe</b> what happened to th... Jasmine's gonna need more than 3 wishes to get ...  Politically Correct Alternate Endings To Princ...   \n                                                                                                     Jasmine's gonna need more than 3 wishes to get ...  Politically Correct Alternate Endings To Princ...   \n                                                                                                     Jasmine's gonna need more than 3 wishes to get ...  LOL: Politically Correct Alternate Endings To ...   \n                                                                                                     Jasmine's gonna need more than 3 wishes to get ...  LOL: Politically Correct Alternate Endings To ...   \n                                                                                                     Jasmine's gonna need more than 3 wishes to get ...  The Disturbing True Story Of What Happens In D...   \n\n                                                                                                                                                             ctr1  \\\nclickability_test_id     eyecatcher_id            lede                                               excerpt                                                        \n51436069220cb800020005bd 5332ba141fae79f09f002c47 <p>The President made a lot of promises, and he... You have so much potential. Why are you wasting...  0.019770   \n5143606a220cb800020005c6 5332ba211fae79f09f002dcf <p>If you think Fawzia Koofi is crazy for wanti... You don't want to miss this incredible story.       0.011216   \n                                                                                                     You don't want to miss this incredible story.       0.012807   \n                                                                                                     You don't want to miss this incredible story.       0.012807   \n5143606b220cb800020005d7 5332ba581fae79f09f003326 <p><p>Sean Hannity thinks all women should have... Science can be confusing if you don't believe i...  0.013675   \n...                                                                                                                                                           ...   \n5143608a220cb800020009c0 5332ba631fae79f09f0033f7 <p>You won't <b>believe</b> what happened to th... Jasmine's gonna need more than 3 wishes to get ...  0.021062   \n                                                                                                     Jasmine's gonna need more than 3 wishes to get ...  0.021062   \n                                                                                                     Jasmine's gonna need more than 3 wishes to get ...  0.018564   \n                                                                                                     Jasmine's gonna need more than 3 wishes to get ...  0.018564   \n                                                                                                     Jasmine's gonna need more than 3 wishes to get ...  0.016571   \n\n                                                                                                                                                                date_created  \\\nclickability_test_id     eyecatcher_id            lede                                               excerpt                                                                   \n51436069220cb800020005bd 5332ba141fae79f09f002c47 <p>The President made a lot of promises, and he... You have so much potential. Why are you wasting...  2013-02-07 05:42:25   \n5143606a220cb800020005c6 5332ba211fae79f09f002dcf <p>If you think Fawzia Koofi is crazy for wanti... You don't want to miss this incredible story.       2013-02-19 19:05:45   \n                                                                                                     You don't want to miss this incredible story.       2013-02-19 19:03:39   \n                                                                                                     You don't want to miss this incredible story.       2013-02-19 19:03:39   \n5143606b220cb800020005d7 5332ba581fae79f09f003326 <p><p>Sean Hannity thinks all women should have... Science can be confusing if you don't believe i...  2013-03-09 06:55:39   \n...                                                                                                                                                                      ...   \n5143608a220cb800020009c0 5332ba631fae79f09f0033f7 <p>You won't <b>believe</b> what happened to th... Jasmine's gonna need more than 3 wishes to get ...  2013-03-14 20:35:36   \n                                                                                                     Jasmine's gonna need more than 3 wishes to get ...  2013-03-14 20:35:36   \n                                                                                                     Jasmine's gonna need more than 3 wishes to get ...  2013-03-14 20:36:15   \n                                                                                                     Jasmine's gonna need more than 3 wishes to get ...  2013-03-14 20:36:15   \n                                                                                                     Jasmine's gonna need more than 3 wishes to get ...  2013-03-14 20:37:56   \n\n                                                                                                                                                                                                 headline2  \\\nclickability_test_id     eyecatcher_id            lede                                               excerpt                                                                                                 \n51436069220cb800020005bd 5332ba141fae79f09f002c47 <p>The President made a lot of promises, and he... You have so much potential. Why are you wasting...  Mr. President, I'm Not Mad. I'm Just Disappoin...   \n5143606a220cb800020005c6 5332ba211fae79f09f002dcf <p>If you think Fawzia Koofi is crazy for wanti... You don't want to miss this incredible story.       This Brave Woman Is Running For President Of A...   \n                                                                                                     You don't want to miss this incredible story.       MAD RESPECT: This Brave Woman Is Running For P...   \n                                                                                                     You don't want to miss this incredible story.       This Brave Woman Is Running For President Of A...   \n5143606b220cb800020005d7 5332ba581fae79f09f003326 <p><p>Sean Hannity thinks all women should have... Science can be confusing if you don't believe i...  Sean Hannity Thinks Its Waaaaay Too Hard To Te...   \n...                                                                                                                                                                                                    ...   \n5143608a220cb800020009c0 5332ba631fae79f09f0033f7 <p>You won't <b>believe</b> what happened to th... Jasmine's gonna need more than 3 wishes to get ...  The Disturbing True Story Of What Happens In D...   \n                                                                                                     Jasmine's gonna need more than 3 wishes to get ...  Disney Movies Tend To End In Lies. Here's What...   \n                                                                                                     Jasmine's gonna need more than 3 wishes to get ...  The Disturbing True Story Of What Happens In D...   \n                                                                                                     Jasmine's gonna need more than 3 wishes to get ...  Disney Movies Tend To End In Lies. Here's What...   \n                                                                                                     Jasmine's gonna need more than 3 wishes to get ...  Disney Movies Tend To End In Lies. Here's What...   \n\n                                                                                                                                                             ctr2  \nclickability_test_id     eyecatcher_id            lede                                               excerpt                                                       \n51436069220cb800020005bd 5332ba141fae79f09f002c47 <p>The President made a lot of promises, and he... You have so much potential. Why are you wasting...  0.016595  \n5143606a220cb800020005c6 5332ba211fae79f09f002dcf <p>If you think Fawzia Koofi is crazy for wanti... You don't want to miss this incredible story.       0.009410  \n                                                                                                     You don't want to miss this incredible story.       0.011216  \n                                                                                                     You don't want to miss this incredible story.       0.009410  \n5143606b220cb800020005d7 5332ba581fae79f09f003326 <p><p>Sean Hannity thinks all women should have... Science can be confusing if you don't believe i...  0.013050  \n...                                                                                                                                                           ...  \n5143608a220cb800020009c0 5332ba631fae79f09f0033f7 <p>You won't <b>believe</b> what happened to th... Jasmine's gonna need more than 3 wishes to get ...  0.016571  \n                                                                                                     Jasmine's gonna need more than 3 wishes to get ...  0.012496  \n                                                                                                     Jasmine's gonna need more than 3 wishes to get ...  0.016571  \n                                                                                                     Jasmine's gonna need more than 3 wishes to get ...  0.012496  \n                                                                                                     Jasmine's gonna need more than 3 wishes to get ...  0.012496  \n\n[100 rows x 5 columns]",
      "text/html": "<div>\n<style scoped>\n    .dataframe tbody tr th:only-of-type {\n        vertical-align: middle;\n    }\n\n    .dataframe tbody tr th {\n        vertical-align: top;\n    }\n\n    .dataframe thead th {\n        text-align: right;\n    }\n</style>\n<table border=\"1\" class=\"dataframe\">\n  <thead>\n    <tr style=\"text-align: right;\">\n      <th></th>\n      <th></th>\n      <th></th>\n      <th></th>\n      <th>headline1</th>\n      <th>ctr1</th>\n      <th>date_created</th>\n      <th>headline2</th>\n      <th>ctr2</th>\n    </tr>\n    <tr>\n      <th>clickability_test_id</th>\n      <th>eyecatcher_id</th>\n      <th>lede</th>\n      <th>excerpt</th>\n      <th></th>\n      <th></th>\n      <th></th>\n      <th></th>\n      <th></th>\n    </tr>\n  </thead>\n  <tbody>\n    <tr>\n      <th>51436069220cb800020005bd</th>\n      <th>5332ba141fae79f09f002c47</th>\n      <th>&lt;p&gt;The President made a lot of promises, and he took a lot of action on many of them. Not all of them, though. Somewhere along the way he seems to have gotten distracted. We should probably get to the bottom of that.&lt;br&gt;&lt;/p&gt;</th>\n      <th>You have so much potential. Why are you wasting it?</th>\n      <td>Mr. President, I'm Not Mad. I'm Just Disappoin...</td>\n      <td>0.019770</td>\n      <td>2013-02-07 05:42:25</td>\n      <td>Mr. President, I'm Not Mad. I'm Just Disappoin...</td>\n      <td>0.016595</td>\n    </tr>\n    <tr>\n      <th rowspan=\"3\" valign=\"top\">5143606a220cb800020005c6</th>\n      <th rowspan=\"3\" valign=\"top\">5332ba211fae79f09f002dcf</th>\n      <th rowspan=\"3\" valign=\"top\">&lt;p&gt;If you think Fawzia Koofi is crazy for wanting to be president of Afghanistan (yes, Afghanistan), you won't after listening to her incredible story (especially how many times she's almost died and/or been killed). She's a fierce lady who knows &lt;i&gt;exactly&lt;/i&gt; what she's doing. What an inspiration.&lt;/p&gt;\\n</th>\n      <th>You don't want to miss this incredible story.</th>\n      <td>MAD RESPECT: This Brave Woman Is Running For P...</td>\n      <td>0.011216</td>\n      <td>2013-02-19 19:05:45</td>\n      <td>This Brave Woman Is Running For President Of A...</td>\n      <td>0.009410</td>\n    </tr>\n    <tr>\n      <th>You don't want to miss this incredible story.</th>\n      <td>If You Think Hillary Had A Rough Campaign, You...</td>\n      <td>0.012807</td>\n      <td>2013-02-19 19:03:39</td>\n      <td>MAD RESPECT: This Brave Woman Is Running For P...</td>\n      <td>0.011216</td>\n    </tr>\n    <tr>\n      <th>You don't want to miss this incredible story.</th>\n      <td>If You Think Hillary Had A Rough Campaign, You...</td>\n      <td>0.012807</td>\n      <td>2013-02-19 19:03:39</td>\n      <td>This Brave Woman Is Running For President Of A...</td>\n      <td>0.009410</td>\n    </tr>\n    <tr>\n      <th>5143606b220cb800020005d7</th>\n      <th>5332ba581fae79f09f003326</th>\n      <th>&lt;p&gt;&lt;p&gt;Sean Hannity thinks all women should have the right to choose... to be armed. Zerlina Maxwell didn't disagree, yet she went on a 3 minute campaign suggesting that perhaps instead of arming victims, we take another more obvious route, like, I dunno,&lt;b&gt; teaching men not to rape&lt;/b&gt;, since that seems to work really well. Seriously, it works &lt;a href=\"http://upwr.me/ZnDHAP\"&gt;REALLY WELL&lt;/a&gt;.&lt;/p&gt;&lt;p&gt;He thought ignoring her would be the best way not to hear that. And &lt;a href=\"http://upwr.me/Xx5sKO\" target=\"_blank\"&gt;now his fans are threatening her&lt;/a&gt;.&lt;/p&gt;&lt;br&gt;&lt;/p&gt;</th>\n      <th>Science can be confusing if you don't believe in it.</th>\n      <td>Sean Hannity Thinks Telling Men Not To Attack ...</td>\n      <td>0.013675</td>\n      <td>2013-03-09 06:55:39</td>\n      <td>Sean Hannity Thinks Its Waaaaay Too Hard To Te...</td>\n      <td>0.013050</td>\n    </tr>\n    <tr>\n      <th>...</th>\n      <th>...</th>\n      <th>...</th>\n      <th>...</th>\n      <td>...</td>\n      <td>...</td>\n      <td>...</td>\n      <td>...</td>\n      <td>...</td>\n    </tr>\n    <tr>\n      <th rowspan=\"5\" valign=\"top\">5143608a220cb800020009c0</th>\n      <th rowspan=\"5\" valign=\"top\">5332ba631fae79f09f0033f7</th>\n      <th rowspan=\"5\" valign=\"top\">&lt;p&gt;You won't &lt;b&gt;believe&lt;/b&gt; what happened to the Little Mermaid last week. And Jasmine? She's gonna need more than three wishes to get out of &lt;b&gt;that&lt;/b&gt; mess. &lt;/p&gt;&lt;p&gt;Me? I'm just going to sit here and watch this on repeat until my body shrivels up due to lack of moisture because this makes me laugh so hard I cry. &lt;/p&gt;\\n</th>\n      <th>Jasmine's gonna need more than 3 wishes to get out of THAT mess.</th>\n      <td>Politically Correct Alternate Endings To Princ...</td>\n      <td>0.021062</td>\n      <td>2013-03-14 20:35:36</td>\n      <td>The Disturbing True Story Of What Happens In D...</td>\n      <td>0.016571</td>\n    </tr>\n    <tr>\n      <th>Jasmine's gonna need more than 3 wishes to get out of THAT mess.</th>\n      <td>Politically Correct Alternate Endings To Princ...</td>\n      <td>0.021062</td>\n      <td>2013-03-14 20:35:36</td>\n      <td>Disney Movies Tend To End In Lies. Here's What...</td>\n      <td>0.012496</td>\n    </tr>\n    <tr>\n      <th>Jasmine's gonna need more than 3 wishes to get out of THAT mess.</th>\n      <td>LOL: Politically Correct Alternate Endings To ...</td>\n      <td>0.018564</td>\n      <td>2013-03-14 20:36:15</td>\n      <td>The Disturbing True Story Of What Happens In D...</td>\n      <td>0.016571</td>\n    </tr>\n    <tr>\n      <th>Jasmine's gonna need more than 3 wishes to get out of THAT mess.</th>\n      <td>LOL: Politically Correct Alternate Endings To ...</td>\n      <td>0.018564</td>\n      <td>2013-03-14 20:36:15</td>\n      <td>Disney Movies Tend To End In Lies. Here's What...</td>\n      <td>0.012496</td>\n    </tr>\n    <tr>\n      <th>Jasmine's gonna need more than 3 wishes to get out of THAT mess.</th>\n      <td>The Disturbing True Story Of What Happens In D...</td>\n      <td>0.016571</td>\n      <td>2013-03-14 20:37:56</td>\n      <td>Disney Movies Tend To End In Lies. Here's What...</td>\n      <td>0.012496</td>\n    </tr>\n  </tbody>\n</table>\n<p>100 rows × 5 columns</p>\n</div>"
     },
     "execution_count": 113,
     "metadata": {},
     "output_type": "execute_result"
    }
   ],
   "source": [
    "data_ = data.copy()\n",
    "# to prevent only 1 headline\n",
    "data_= data_.groupby('clickability_test_id').filter(lambda x: x['headline'].count()>1)\n",
    "data_same_id_lede_diff_headline1 = data_[['clickability_test_id', 'eyecatcher_id','lede','excerpt','headline','ctr','created_at']]\n",
    "data_same_id_lede_diff_headline1 = data_same_id_lede_diff_headline1.set_index(['clickability_test_id', 'eyecatcher_id','lede','excerpt']).sort_index()\n",
    "data_same_id_lede_diff_headline2 = data_[['clickability_test_id', 'eyecatcher_id','lede','excerpt','headline','ctr','created_at']]\n",
    "data_same_id_lede_diff_headline2 = data_same_id_lede_diff_headline2.set_index(['clickability_test_id', 'eyecatcher_id','lede','excerpt',]).sort_index()\n",
    "data_same_id_lede_diff_headline1.rename(columns={'headline':'headline1', 'ctr':'ctr1','created_at':'date_created'}, inplace=True)\n",
    "data_same_id_lede_diff_headline2.rename(columns={'headline':'headline2', 'ctr':'ctr2','created_at':'date_created'}, inplace=True)\n",
    "# merge the two almost same dataframe to get the new dataset\n",
    "new_dataset = pd.merge(data_same_id_lede_diff_headline1, data_same_id_lede_diff_headline2, left_index=True, right_index=True)\n",
    "mask = new_dataset['headline1'] == new_dataset['headline2']\n",
    "# delete meaningless lines\n",
    "new_dataset = new_dataset[~mask]\n",
    "# since every pair will appear twice we will just delete the lines that ctr1 < ctr2\n",
    "mask2 = new_dataset['ctr2'] >= new_dataset['ctr1']\n",
    "new_dataset = new_dataset[~mask2]\n",
    "# swap ctr1 and ctr2 with the correct order\n",
    "# id_ = 0\n",
    "# for idx, row in new_dataset.iterrows():\n",
    "#     smaller, greater = 0, 0\n",
    "#     smaller = min(row.ctr1, row.ctr2)\n",
    "#     greater = max(row.ctr1, row.ctr2)\n",
    "#     index = row.index\n",
    "#     r = row.copy()\n",
    "#     if row.ctr1 < row.ctr2:\n",
    "#         new_dataset[index]['ctr1'] = greater\n",
    "#         new_dataset[index]['ctr2'] = smaller\n",
    "#         g_head = r.headline2\n",
    "#         s_head = r.headline1\n",
    "#         new_dataset[index]['headline1'] = g_head\n",
    "#         new_dataset[index]['headline1'] = s_head\n",
    "new_dataset.drop_duplicates(inplace=True)\n",
    "new_dataset.rename(columns={'date_created_x': 'date_created'}, inplace=True)\n",
    "new_dataset = new_dataset.drop(columns='date_created_y', axis=1)\n",
    "print(f'The length of this new dataset is {len(new_dataset)}.')\n",
    "\n",
    "new_dataset.head(100)\n"
   ],
   "metadata": {
    "collapsed": false,
    "pycharm": {
     "name": "#%%\n"
    }
   }
  },
  {
   "cell_type": "markdown",
   "source": [
    "The length is 17727"
   ],
   "metadata": {
    "collapsed": false,
    "pycharm": {
     "name": "#%% md\n"
    }
   }
  },
  {
   "cell_type": "code",
   "execution_count": 113,
   "outputs": [],
   "source": [],
   "metadata": {
    "collapsed": false,
    "pycharm": {
     "name": "#%%\n"
    }
   }
  },
  {
   "cell_type": "markdown",
   "source": [
    "### 1.8 To get a sense of the impact of headline change, measure the average difference per pair between the most clicked-through (ctr1) and the least clicked-through headline (ctr2), as well as the average clickthrough rate for the least clicked through headline (ctr2)."
   ],
   "metadata": {
    "collapsed": false,
    "pycharm": {
     "name": "#%% md\n"
    }
   }
  },
  {
   "cell_type": "code",
   "execution_count": 114,
   "outputs": [
    {
     "name": "stdout",
     "output_type": "stream",
     "text": [
      "The average difference per pair between the most clicked-through (ctr1) and the least clicked-through headline (ctr2) is 0.004116426877032496.\n",
      "The average clicked-through rate for the least clicked through headline (ctr2) is 0.010691857228802414.\n"
     ]
    }
   ],
   "source": [
    "avg_diff_per_pair = (new_dataset['ctr1'].values - new_dataset['ctr2'].values).mean()\n",
    "avg_ctr2 = new_dataset['ctr2'].values.mean()\n",
    "print(f'The average difference per pair between the most clicked-through (ctr1) and the least clicked-through headline (ctr2) is {avg_diff_per_pair}.\\nThe average clicked-through rate for the least clicked through headline (ctr2) is {avg_ctr2}.')"
   ],
   "metadata": {
    "collapsed": false,
    "pycharm": {
     "name": "#%%\n"
    }
   }
  },
  {
   "cell_type": "markdown",
   "source": [
    "### 1.9 Discuss: Considering your answer to T1.8, and assuming the average differences in clickthrough rates between pairs are statistically significant, do you think that headlines are impactful in the news business? Justify with the data."
   ],
   "metadata": {
    "collapsed": false,
    "pycharm": {
     "name": "#%% md\n"
    }
   }
  },
  {
   "cell_type": "markdown",
   "source": [
    "Answer: I do think that headlines are impactful in the news business, since a good headline increased about 40% percent of clicked-through rate for the same news on average, it is really a large portion."
   ],
   "metadata": {
    "collapsed": false,
    "pycharm": {
     "name": "#%% md\n"
    }
   }
  },
  {
   "cell_type": "markdown",
   "source": [
    "## Task 2: Extracting signals from the data\n",
    "\n",
    "Your second task is to extract meaningful signals from the data.\n",
    "We start this task from the dataset obtained in **T1.7**.\n",
    "Recall that we have one A/B test per row with the clickthrough rate of two news pieces that differ only in their headline.\n",
    "We refer to the version with the higher clickthrough rate as the \"winner\" and the version with the lower as the \"loser.\"\n",
    "(Note that this is not the same as the column `winner` in the original data, which captures a similar concept but considering the original experiments, where multiple comparisons were made!)\n",
    "\n",
    "2.1 Using the function provided below, count the number of words in each headline, creating columns `numwords1` and `numwords2` corresponding to the number of words in the winner and loser headlines.\n",
    "\n",
    "2.2 Using the dictionary of pronouns provided below, create indicator variables corresponding to each set of pronouns (e.g., first-person singular may yield columns `first_person_singular1` and `first_person_singular2` for the headlines in each A/B test).\n",
    "Each indicator variable in the dataframe should equal 1 if the corresponding headline uses the corresponding type of pronoun and 0 otherwise.\n",
    "Your code should be agnostic to lower/upper case.\n",
    "\n",
    "2.3 One easy way to classify sentiment is simply to match negative or positive words.\n",
    "Use the linked lists of words ([positive][1], [negative][2]) to obtain \"positive sentiment\" and \"negative sentiment\" scores for each headline. Create columns `positive1`/`positive2` and `negative1`/`negative2` containing indicator variables for positive and negative sentiment, i.e., A headline has a \"positive sentiment\" (or negative) score equal 1 if it contains at least one positive (or negative) sentiment word on the list. Otherwise, its \"positive sentiment\" (or negative) score equals 0.\n",
    "\n",
    "[1]: https://ptrckprry.com/course/ssd/data/positive-words.txt\n",
    "[2]: https://ptrckprry.com/course/ssd/data/negative-words.txt\n",
    "\n",
    "---\n",
    "\n",
    "**Comments**\n",
    "\n",
    "- For **T2.3**, beware of encodings!"
   ],
   "metadata": {
    "collapsed": false,
    "pycharm": {
     "name": "#%% md\n"
    }
   }
  },
  {
   "cell_type": "markdown",
   "source": [
    "### 2.1 Using the function provided below, count the number of words in each headline, creating columns numwords1 and numwords2 corresponding to the number of words in the winner and loser headlines."
   ],
   "metadata": {
    "collapsed": false,
    "pycharm": {
     "name": "#%% md\n"
    }
   }
  },
  {
   "cell_type": "code",
   "execution_count": 115,
   "outputs": [
    {
     "name": "stdout",
     "output_type": "stream",
     "text": [
      "How many words are here? 5\n"
     ]
    }
   ],
   "source": [
    "# 2.1 (provided code)\n",
    "def count_words_simple(x):\n",
    "    return len(x.split(\" \"))\n",
    "str_test = \"How many words are here?\"\n",
    "print(str_test, count_words_simple(str_test))\n"
   ],
   "metadata": {
    "collapsed": false,
    "pycharm": {
     "name": "#%%\n"
    }
   }
  },
  {
   "cell_type": "code",
   "execution_count": 116,
   "outputs": [
    {
     "data": {
      "text/plain": "                                                                                                                                                                                                 headline1  \\\nclickability_test_id     eyecatcher_id            lede                                               excerpt                                                                                                 \n51436069220cb800020005bd 5332ba141fae79f09f002c47 <p>The President made a lot of promises, and he... You have so much potential. Why are you wasting...  Mr. President, I'm Not Mad. I'm Just Disappoin...   \n5143606a220cb800020005c6 5332ba211fae79f09f002dcf <p>If you think Fawzia Koofi is crazy for wanti... You don't want to miss this incredible story.       MAD RESPECT: This Brave Woman Is Running For P...   \n                                                                                                     You don't want to miss this incredible story.       If You Think Hillary Had A Rough Campaign, You...   \n                                                                                                     You don't want to miss this incredible story.       If You Think Hillary Had A Rough Campaign, You...   \n5143606b220cb800020005d7 5332ba581fae79f09f003326 <p><p>Sean Hannity thinks all women should have... Science can be confusing if you don't believe i...  Sean Hannity Thinks Telling Men Not To Attack ...   \n                                                                                                     Science can be confusing if you don't believe i...  Feminist Confuses Fox News Host By Suggesting ...   \n                                                                                                     Science can be confusing if you don't believe i...  Feminist Confuses Fox News Host By Suggesting ...   \n5143606e220cb800020006ba 5332b5951fae79f09f000632 Kate Makkai answers a question she's had since ... This woman answers a question she's had since s...  Now For Sale: Daughters, $10,000 Each (If They...   \n                                                                                                     This woman answers a question she's had since s...  Why Doesn't This Woman Want Her Daughter To Be...   \n                                                                                                     This woman answers a question she's had since s...  Why Doesn't This Woman Want Her Daughter To Be...   \n\n                                                                                                                                                             ctr1  \\\nclickability_test_id     eyecatcher_id            lede                                               excerpt                                                        \n51436069220cb800020005bd 5332ba141fae79f09f002c47 <p>The President made a lot of promises, and he... You have so much potential. Why are you wasting...  0.019770   \n5143606a220cb800020005c6 5332ba211fae79f09f002dcf <p>If you think Fawzia Koofi is crazy for wanti... You don't want to miss this incredible story.       0.011216   \n                                                                                                     You don't want to miss this incredible story.       0.012807   \n                                                                                                     You don't want to miss this incredible story.       0.012807   \n5143606b220cb800020005d7 5332ba581fae79f09f003326 <p><p>Sean Hannity thinks all women should have... Science can be confusing if you don't believe i...  0.013675   \n                                                                                                     Science can be confusing if you don't believe i...  0.024444   \n                                                                                                     Science can be confusing if you don't believe i...  0.024444   \n5143606e220cb800020006ba 5332b5951fae79f09f000632 Kate Makkai answers a question she's had since ... This woman answers a question she's had since s...  0.034099   \n                                                                                                     This woman answers a question she's had since s...  0.034483   \n                                                                                                     This woman answers a question she's had since s...  0.034483   \n\n                                                                                                                                                                date_created  \\\nclickability_test_id     eyecatcher_id            lede                                               excerpt                                                                   \n51436069220cb800020005bd 5332ba141fae79f09f002c47 <p>The President made a lot of promises, and he... You have so much potential. Why are you wasting...  2013-02-07 05:42:25   \n5143606a220cb800020005c6 5332ba211fae79f09f002dcf <p>If you think Fawzia Koofi is crazy for wanti... You don't want to miss this incredible story.       2013-02-19 19:05:45   \n                                                                                                     You don't want to miss this incredible story.       2013-02-19 19:03:39   \n                                                                                                     You don't want to miss this incredible story.       2013-02-19 19:03:39   \n5143606b220cb800020005d7 5332ba581fae79f09f003326 <p><p>Sean Hannity thinks all women should have... Science can be confusing if you don't believe i...  2013-03-09 06:55:39   \n                                                                                                     Science can be confusing if you don't believe i...  2013-03-09 06:59:29   \n                                                                                                     Science can be confusing if you don't believe i...  2013-03-09 06:59:29   \n5143606e220cb800020006ba 5332b5951fae79f09f000632 Kate Makkai answers a question she's had since ... This woman answers a question she's had since s...  2013-03-26 01:52:11   \n                                                                                                     This woman answers a question she's had since s...  2013-03-26 01:52:31   \n                                                                                                     This woman answers a question she's had since s...  2013-03-26 01:52:31   \n\n                                                                                                                                                         numwords1  \\\nclickability_test_id     eyecatcher_id            lede                                               excerpt                                                         \n51436069220cb800020005bd 5332ba141fae79f09f002c47 <p>The President made a lot of promises, and he... You have so much potential. Why are you wasting...          9   \n5143606a220cb800020005c6 5332ba211fae79f09f002dcf <p>If you think Fawzia Koofi is crazy for wanti... You don't want to miss this incredible story.              17   \n                                                                                                     You don't want to miss this incredible story.              15   \n                                                                                                     You don't want to miss this incredible story.              15   \n5143606b220cb800020005d7 5332ba581fae79f09f003326 <p><p>Sean Hannity thinks all women should have... Science can be confusing if you don't believe i...         11   \n                                                                                                     Science can be confusing if you don't believe i...         15   \n                                                                                                     Science can be confusing if you don't believe i...         15   \n5143606e220cb800020006ba 5332b5951fae79f09f000632 Kate Makkai answers a question she's had since ... This woman answers a question she's had since s...          9   \n                                                                                                     This woman answers a question she's had since s...         10   \n                                                                                                     This woman answers a question she's had since s...         10   \n\n                                                                                                                                                                                                 headline2  \\\nclickability_test_id     eyecatcher_id            lede                                               excerpt                                                                                                 \n51436069220cb800020005bd 5332ba141fae79f09f002c47 <p>The President made a lot of promises, and he... You have so much potential. Why are you wasting...  Mr. President, I'm Not Mad. I'm Just Disappoin...   \n5143606a220cb800020005c6 5332ba211fae79f09f002dcf <p>If you think Fawzia Koofi is crazy for wanti... You don't want to miss this incredible story.       This Brave Woman Is Running For President Of A...   \n                                                                                                     You don't want to miss this incredible story.       MAD RESPECT: This Brave Woman Is Running For P...   \n                                                                                                     You don't want to miss this incredible story.       This Brave Woman Is Running For President Of A...   \n5143606b220cb800020005d7 5332ba581fae79f09f003326 <p><p>Sean Hannity thinks all women should have... Science can be confusing if you don't believe i...  Sean Hannity Thinks Its Waaaaay Too Hard To Te...   \n                                                                                                     Science can be confusing if you don't believe i...  Sean Hannity Thinks Its Waaaaay Too Hard To Te...   \n                                                                                                     Science can be confusing if you don't believe i...  Sean Hannity Thinks Telling Men Not To Attack ...   \n5143606e220cb800020006ba 5332b5951fae79f09f000632 Kate Makkai answers a question she's had since ... This woman answers a question she's had since s...          Why This Woman Thinks Pretty Isn't Enough   \n                                                                                                     This woman answers a question she's had since s...  Now For Sale: Daughters, $10,000 Each (If They...   \n                                                                                                     This woman answers a question she's had since s...          Why This Woman Thinks Pretty Isn't Enough   \n\n                                                                                                                                                             ctr2  \\\nclickability_test_id     eyecatcher_id            lede                                               excerpt                                                        \n51436069220cb800020005bd 5332ba141fae79f09f002c47 <p>The President made a lot of promises, and he... You have so much potential. Why are you wasting...  0.016595   \n5143606a220cb800020005c6 5332ba211fae79f09f002dcf <p>If you think Fawzia Koofi is crazy for wanti... You don't want to miss this incredible story.       0.009410   \n                                                                                                     You don't want to miss this incredible story.       0.011216   \n                                                                                                     You don't want to miss this incredible story.       0.009410   \n5143606b220cb800020005d7 5332ba581fae79f09f003326 <p><p>Sean Hannity thinks all women should have... Science can be confusing if you don't believe i...  0.013050   \n                                                                                                     Science can be confusing if you don't believe i...  0.013050   \n                                                                                                     Science can be confusing if you don't believe i...  0.013675   \n5143606e220cb800020006ba 5332b5951fae79f09f000632 Kate Makkai answers a question she's had since ... This woman answers a question she's had since s...  0.025942   \n                                                                                                     This woman answers a question she's had since s...  0.034099   \n                                                                                                     This woman answers a question she's had since s...  0.025942   \n\n                                                                                                                                                         numwords2  \nclickability_test_id     eyecatcher_id            lede                                               excerpt                                                        \n51436069220cb800020005bd 5332ba141fae79f09f002c47 <p>The President made a lot of promises, and he... You have so much potential. Why are you wasting...         15  \n5143606a220cb800020005c6 5332ba211fae79f09f002dcf <p>If you think Fawzia Koofi is crazy for wanti... You don't want to miss this incredible story.              11  \n                                                                                                     You don't want to miss this incredible story.              17  \n                                                                                                     You don't want to miss this incredible story.              11  \n5143606b220cb800020005d7 5332ba581fae79f09f003326 <p><p>Sean Hannity thinks all women should have... Science can be confusing if you don't believe i...         14  \n                                                                                                     Science can be confusing if you don't believe i...         14  \n                                                                                                     Science can be confusing if you don't believe i...         11  \n5143606e220cb800020006ba 5332b5951fae79f09f000632 Kate Makkai answers a question she's had since ... This woman answers a question she's had since s...          7  \n                                                                                                     This woman answers a question she's had since s...          9  \n                                                                                                     This woman answers a question she's had since s...          7  ",
      "text/html": "<div>\n<style scoped>\n    .dataframe tbody tr th:only-of-type {\n        vertical-align: middle;\n    }\n\n    .dataframe tbody tr th {\n        vertical-align: top;\n    }\n\n    .dataframe thead th {\n        text-align: right;\n    }\n</style>\n<table border=\"1\" class=\"dataframe\">\n  <thead>\n    <tr style=\"text-align: right;\">\n      <th></th>\n      <th></th>\n      <th></th>\n      <th></th>\n      <th>headline1</th>\n      <th>ctr1</th>\n      <th>date_created</th>\n      <th>numwords1</th>\n      <th>headline2</th>\n      <th>ctr2</th>\n      <th>numwords2</th>\n    </tr>\n    <tr>\n      <th>clickability_test_id</th>\n      <th>eyecatcher_id</th>\n      <th>lede</th>\n      <th>excerpt</th>\n      <th></th>\n      <th></th>\n      <th></th>\n      <th></th>\n      <th></th>\n      <th></th>\n      <th></th>\n    </tr>\n  </thead>\n  <tbody>\n    <tr>\n      <th>51436069220cb800020005bd</th>\n      <th>5332ba141fae79f09f002c47</th>\n      <th>&lt;p&gt;The President made a lot of promises, and he took a lot of action on many of them. Not all of them, though. Somewhere along the way he seems to have gotten distracted. We should probably get to the bottom of that.&lt;br&gt;&lt;/p&gt;</th>\n      <th>You have so much potential. Why are you wasting it?</th>\n      <td>Mr. President, I'm Not Mad. I'm Just Disappoin...</td>\n      <td>0.019770</td>\n      <td>2013-02-07 05:42:25</td>\n      <td>9</td>\n      <td>Mr. President, I'm Not Mad. I'm Just Disappoin...</td>\n      <td>0.016595</td>\n      <td>15</td>\n    </tr>\n    <tr>\n      <th rowspan=\"3\" valign=\"top\">5143606a220cb800020005c6</th>\n      <th rowspan=\"3\" valign=\"top\">5332ba211fae79f09f002dcf</th>\n      <th rowspan=\"3\" valign=\"top\">&lt;p&gt;If you think Fawzia Koofi is crazy for wanting to be president of Afghanistan (yes, Afghanistan), you won't after listening to her incredible story (especially how many times she's almost died and/or been killed). She's a fierce lady who knows &lt;i&gt;exactly&lt;/i&gt; what she's doing. What an inspiration.&lt;/p&gt;\\n</th>\n      <th>You don't want to miss this incredible story.</th>\n      <td>MAD RESPECT: This Brave Woman Is Running For P...</td>\n      <td>0.011216</td>\n      <td>2013-02-19 19:05:45</td>\n      <td>17</td>\n      <td>This Brave Woman Is Running For President Of A...</td>\n      <td>0.009410</td>\n      <td>11</td>\n    </tr>\n    <tr>\n      <th>You don't want to miss this incredible story.</th>\n      <td>If You Think Hillary Had A Rough Campaign, You...</td>\n      <td>0.012807</td>\n      <td>2013-02-19 19:03:39</td>\n      <td>15</td>\n      <td>MAD RESPECT: This Brave Woman Is Running For P...</td>\n      <td>0.011216</td>\n      <td>17</td>\n    </tr>\n    <tr>\n      <th>You don't want to miss this incredible story.</th>\n      <td>If You Think Hillary Had A Rough Campaign, You...</td>\n      <td>0.012807</td>\n      <td>2013-02-19 19:03:39</td>\n      <td>15</td>\n      <td>This Brave Woman Is Running For President Of A...</td>\n      <td>0.009410</td>\n      <td>11</td>\n    </tr>\n    <tr>\n      <th rowspan=\"3\" valign=\"top\">5143606b220cb800020005d7</th>\n      <th rowspan=\"3\" valign=\"top\">5332ba581fae79f09f003326</th>\n      <th rowspan=\"3\" valign=\"top\">&lt;p&gt;&lt;p&gt;Sean Hannity thinks all women should have the right to choose... to be armed. Zerlina Maxwell didn't disagree, yet she went on a 3 minute campaign suggesting that perhaps instead of arming victims, we take another more obvious route, like, I dunno,&lt;b&gt; teaching men not to rape&lt;/b&gt;, since that seems to work really well. Seriously, it works &lt;a href=\"http://upwr.me/ZnDHAP\"&gt;REALLY WELL&lt;/a&gt;.&lt;/p&gt;&lt;p&gt;He thought ignoring her would be the best way not to hear that. And &lt;a href=\"http://upwr.me/Xx5sKO\" target=\"_blank\"&gt;now his fans are threatening her&lt;/a&gt;.&lt;/p&gt;&lt;br&gt;&lt;/p&gt;</th>\n      <th>Science can be confusing if you don't believe in it.</th>\n      <td>Sean Hannity Thinks Telling Men Not To Attack ...</td>\n      <td>0.013675</td>\n      <td>2013-03-09 06:55:39</td>\n      <td>11</td>\n      <td>Sean Hannity Thinks Its Waaaaay Too Hard To Te...</td>\n      <td>0.013050</td>\n      <td>14</td>\n    </tr>\n    <tr>\n      <th>Science can be confusing if you don't believe in it.</th>\n      <td>Feminist Confuses Fox News Host By Suggesting ...</td>\n      <td>0.024444</td>\n      <td>2013-03-09 06:59:29</td>\n      <td>15</td>\n      <td>Sean Hannity Thinks Its Waaaaay Too Hard To Te...</td>\n      <td>0.013050</td>\n      <td>14</td>\n    </tr>\n    <tr>\n      <th>Science can be confusing if you don't believe in it.</th>\n      <td>Feminist Confuses Fox News Host By Suggesting ...</td>\n      <td>0.024444</td>\n      <td>2013-03-09 06:59:29</td>\n      <td>15</td>\n      <td>Sean Hannity Thinks Telling Men Not To Attack ...</td>\n      <td>0.013675</td>\n      <td>11</td>\n    </tr>\n    <tr>\n      <th rowspan=\"3\" valign=\"top\">5143606e220cb800020006ba</th>\n      <th rowspan=\"3\" valign=\"top\">5332b5951fae79f09f000632</th>\n      <th rowspan=\"3\" valign=\"top\">Kate Makkai answers a question she's had since she was very young in exactly the kind of way that slams into your gut and stays there.\\n</th>\n      <th>This woman answers a question she's had since she was young in exactly the kind of way that slams into your gut and stays there.</th>\n      <td>Now For Sale: Daughters, $10,000 Each (If They...</td>\n      <td>0.034099</td>\n      <td>2013-03-26 01:52:11</td>\n      <td>9</td>\n      <td>Why This Woman Thinks Pretty Isn't Enough</td>\n      <td>0.025942</td>\n      <td>7</td>\n    </tr>\n    <tr>\n      <th>This woman answers a question she's had since she was young in exactly the kind of way that slams into your gut and stays there.</th>\n      <td>Why Doesn't This Woman Want Her Daughter To Be...</td>\n      <td>0.034483</td>\n      <td>2013-03-26 01:52:31</td>\n      <td>10</td>\n      <td>Now For Sale: Daughters, $10,000 Each (If They...</td>\n      <td>0.034099</td>\n      <td>9</td>\n    </tr>\n    <tr>\n      <th>This woman answers a question she's had since she was young in exactly the kind of way that slams into your gut and stays there.</th>\n      <td>Why Doesn't This Woman Want Her Daughter To Be...</td>\n      <td>0.034483</td>\n      <td>2013-03-26 01:52:31</td>\n      <td>10</td>\n      <td>Why This Woman Thinks Pretty Isn't Enough</td>\n      <td>0.025942</td>\n      <td>7</td>\n    </tr>\n  </tbody>\n</table>\n</div>"
     },
     "execution_count": 116,
     "metadata": {},
     "output_type": "execute_result"
    }
   ],
   "source": [
    "# initialization\n",
    "new_dataset['numwords1'] = [count_words_simple(x) for x in new_dataset['headline1']]\n",
    "new_dataset['numwords2'] = [count_words_simple(x) for x in new_dataset['headline2']]\n",
    "new_dataset = new_dataset[['headline1', 'ctr1', 'date_created', 'numwords1', 'headline2', 'ctr2', 'numwords2']]\n",
    "new_dataset.head(10)"
   ],
   "metadata": {
    "collapsed": false,
    "pycharm": {
     "name": "#%%\n"
    }
   }
  },
  {
   "cell_type": "markdown",
   "source": [
    "### 2.2 Using the dictionary of pronouns provided below, create indicator variables corresponding to each set of pronouns (e.g., first-person singular may yield columns first_person_singular1 and first_person_singular2 for the headlines in each A/B test). Each indicator variable in the dataframe should equal 1 if the corresponding headline uses the corresponding type of pronoun and 0 otherwise. Your code should be agnostic to lower/upper case."
   ],
   "metadata": {
    "collapsed": false,
    "pycharm": {
     "name": "#%% md\n"
    }
   }
  },
  {
   "cell_type": "code",
   "execution_count": 117,
   "outputs": [],
   "source": [
    "# 2.2 (provided code)\n",
    "feature_wordsets = dict([\n",
    "    # https://en.wikipedia.org/wiki/English_personal_pronouns\n",
    "    ('first_person_singular', ['i', 'me', 'my', 'mine', 'myself',\n",
    "                               \"i'd\", \"i'll\", \"i'm\", \"i've\", 'id', 'im', 'ive']),\n",
    "    ('first_person_plural', ['we', 'us', 'our', 'ours', 'ourselves',\n",
    "                              \"we'd\", \"we'll\", \"we're\", \"we've\",]),\n",
    "    ('second_person', ['you','your','yours','yourself',\n",
    "                              \"ya\", \"you'd\", \"you'll\", \"you're\", \"you've\", 'youll', 'youre', 'youve', \n",
    "                              'yourselves']),\n",
    "    ('third_person_singular', ['he','him','his','himself',\n",
    "                               \"he'd\", \"he's\", 'hes',\n",
    "                               'she','her','hers','herself', \n",
    "                               \"she'll\", \"she's\", 'shes',\n",
    "                               'it','its','itself',\n",
    "                               'themself']),\n",
    "    ('third_person_plural', ['they','them','their','theirs','themselves',\n",
    "                              \"they'd\", \"they'll\", \"they've\", 'theyll', 'theyve'])\n",
    "])"
   ],
   "metadata": {
    "collapsed": false,
    "pycharm": {
     "name": "#%%\n"
    }
   }
  },
  {
   "cell_type": "code",
   "execution_count": 118,
   "id": "dc716364",
   "metadata": {
    "pycharm": {
     "name": "#%%\n"
    }
   },
   "outputs": [
    {
     "name": "stdout",
     "output_type": "stream",
     "text": [
      "['i', 'am', 'a', 'fucking', 'idiot', 'but', 'i', 'love', 'iris', 'how', 'sarcastic']\n"
     ]
    }
   ],
   "source": [
    "# Function to extract words from string\n",
    "import re\n",
    "def extract_word(sentence: str):\n",
    "    '''take a sentence in and then return the list of words without punctuation'''\n",
    "    sentence = re.findall(r'[\\w]+', sentence)\n",
    "    s = []\n",
    "    for word in sentence:\n",
    "        s.append(str(word).lower())\n",
    "    return s\n",
    "str_ = 'I am a fucking idiot. But I love Iris. How sarcastic!'\n",
    "print(extract_word(str_))"
   ]
  },
  {
   "cell_type": "code",
   "execution_count": 119,
   "outputs": [],
   "source": [
    "# Function to extract words from string\n",
    "import re\n",
    "def extract_word(sentence: str):\n",
    "    '''take a sentence in and then return the list of words without punctuation'''\n",
    "    sentence = re.findall(r'[\\w]+', sentence)\n",
    "    s = []\n",
    "    for word in sentence:\n",
    "        s.append(str(word).lower())\n",
    "    return s\n",
    "def check_existence(feature_wordsets:dict, headline:str):\n",
    "    '''Return the list that used to generate the indicator variables'''\n",
    "    list = [0,0,0,0,0]\n",
    "    sentence = extract_word(headline)\n",
    "    fs, fp, sp, ts, tp = False, False, False, False, False\n",
    "    # print(sentence)\n",
    "    # print('\\n')\n",
    "    for word in sentence:\n",
    "        fs, fp, sp, ts, tp = False, False, False, False, False\n",
    "        if (word in feature_wordsets['first_person_singular']) & (fs == False) :\n",
    "            list[0] = 1\n",
    "            fs = True\n",
    "        if (word in feature_wordsets['first_person_plural']) & (fp == False):\n",
    "            list[1] = 1\n",
    "            fp = True\n",
    "        if (word in feature_wordsets['second_person']) & (sp == False):\n",
    "            list[2] = 1\n",
    "            sp =True\n",
    "        if (word in feature_wordsets['third_person_singular']) & (ts == False):\n",
    "            list[3] = 1\n",
    "            ts = True\n",
    "        if (word in feature_wordsets['third_person_plural']) & (tp == False):\n",
    "            list[4] = 1\n",
    "            tp = True\n",
    "    return list"
   ],
   "metadata": {
    "collapsed": false,
    "pycharm": {
     "name": "#%%\n"
    }
   }
  },
  {
   "cell_type": "code",
   "execution_count": 120,
   "outputs": [
    {
     "data": {
      "text/plain": "[[1, 0, 0, 0, 0],\n [0, 0, 0, 0, 0],\n [0, 0, 1, 0, 0],\n [0, 0, 1, 0, 0],\n [0, 0, 0, 0, 0]]"
     },
     "execution_count": 120,
     "metadata": {},
     "output_type": "execute_result"
    }
   ],
   "source": [
    "# testing\n",
    "[check_existence(feature_wordsets, x) for x in new_dataset.headline1[:5]]"
   ],
   "metadata": {
    "collapsed": false,
    "pycharm": {
     "name": "#%%\n"
    }
   }
  },
  {
   "cell_type": "code",
   "execution_count": 121,
   "outputs": [],
   "source": [
    "new_dataset[['first_person_singular1', 'first_person_plural1', 'second_person1', 'third_person_singular1', 'third_person_plural1']] = [check_existence(feature_wordsets, x) for x in new_dataset.headline1]\n",
    "new_dataset[['first_person_singular2', 'first_person_plural2', 'second_person2', 'third_person_singular2', 'third_person_plural2']] = [check_existence(feature_wordsets, x) for x in new_dataset.headline2]\n",
    "new_dataset = new_dataset[['headline1', 'ctr1', 'date_created', 'numwords1', 'first_person_singular1', 'first_person_plural1', 'second_person1', 'third_person_singular1', 'third_person_plural1', 'headline2', 'ctr2', 'numwords2',  'first_person_singular2', 'first_person_plural2', 'second_person2', 'third_person_singular2', 'third_person_plural2']]\n"
   ],
   "metadata": {
    "collapsed": false,
    "pycharm": {
     "name": "#%%\n"
    }
   }
  },
  {
   "cell_type": "code",
   "execution_count": 122,
   "outputs": [
    {
     "data": {
      "text/plain": "                                                                                                                                                                                                 headline1  \\\nclickability_test_id     eyecatcher_id            lede                                               excerpt                                                                                                 \n51436069220cb800020005bd 5332ba141fae79f09f002c47 <p>The President made a lot of promises, and he... You have so much potential. Why are you wasting...  Mr. President, I'm Not Mad. I'm Just Disappoin...   \n5143606a220cb800020005c6 5332ba211fae79f09f002dcf <p>If you think Fawzia Koofi is crazy for wanti... You don't want to miss this incredible story.       MAD RESPECT: This Brave Woman Is Running For P...   \n                                                                                                     You don't want to miss this incredible story.       If You Think Hillary Had A Rough Campaign, You...   \n                                                                                                     You don't want to miss this incredible story.       If You Think Hillary Had A Rough Campaign, You...   \n5143606b220cb800020005d7 5332ba581fae79f09f003326 <p><p>Sean Hannity thinks all women should have... Science can be confusing if you don't believe i...  Sean Hannity Thinks Telling Men Not To Attack ...   \n                                                                                                     Science can be confusing if you don't believe i...  Feminist Confuses Fox News Host By Suggesting ...   \n                                                                                                     Science can be confusing if you don't believe i...  Feminist Confuses Fox News Host By Suggesting ...   \n5143606e220cb800020006ba 5332b5951fae79f09f000632 Kate Makkai answers a question she's had since ... This woman answers a question she's had since s...  Now For Sale: Daughters, $10,000 Each (If They...   \n                                                                                                     This woman answers a question she's had since s...  Why Doesn't This Woman Want Her Daughter To Be...   \n                                                                                                     This woman answers a question she's had since s...  Why Doesn't This Woman Want Her Daughter To Be...   \n\n                                                                                                                                                             ctr1  \\\nclickability_test_id     eyecatcher_id            lede                                               excerpt                                                        \n51436069220cb800020005bd 5332ba141fae79f09f002c47 <p>The President made a lot of promises, and he... You have so much potential. Why are you wasting...  0.019770   \n5143606a220cb800020005c6 5332ba211fae79f09f002dcf <p>If you think Fawzia Koofi is crazy for wanti... You don't want to miss this incredible story.       0.011216   \n                                                                                                     You don't want to miss this incredible story.       0.012807   \n                                                                                                     You don't want to miss this incredible story.       0.012807   \n5143606b220cb800020005d7 5332ba581fae79f09f003326 <p><p>Sean Hannity thinks all women should have... Science can be confusing if you don't believe i...  0.013675   \n                                                                                                     Science can be confusing if you don't believe i...  0.024444   \n                                                                                                     Science can be confusing if you don't believe i...  0.024444   \n5143606e220cb800020006ba 5332b5951fae79f09f000632 Kate Makkai answers a question she's had since ... This woman answers a question she's had since s...  0.034099   \n                                                                                                     This woman answers a question she's had since s...  0.034483   \n                                                                                                     This woman answers a question she's had since s...  0.034483   \n\n                                                                                                                                                                date_created  \\\nclickability_test_id     eyecatcher_id            lede                                               excerpt                                                                   \n51436069220cb800020005bd 5332ba141fae79f09f002c47 <p>The President made a lot of promises, and he... You have so much potential. Why are you wasting...  2013-02-07 05:42:25   \n5143606a220cb800020005c6 5332ba211fae79f09f002dcf <p>If you think Fawzia Koofi is crazy for wanti... You don't want to miss this incredible story.       2013-02-19 19:05:45   \n                                                                                                     You don't want to miss this incredible story.       2013-02-19 19:03:39   \n                                                                                                     You don't want to miss this incredible story.       2013-02-19 19:03:39   \n5143606b220cb800020005d7 5332ba581fae79f09f003326 <p><p>Sean Hannity thinks all women should have... Science can be confusing if you don't believe i...  2013-03-09 06:55:39   \n                                                                                                     Science can be confusing if you don't believe i...  2013-03-09 06:59:29   \n                                                                                                     Science can be confusing if you don't believe i...  2013-03-09 06:59:29   \n5143606e220cb800020006ba 5332b5951fae79f09f000632 Kate Makkai answers a question she's had since ... This woman answers a question she's had since s...  2013-03-26 01:52:11   \n                                                                                                     This woman answers a question she's had since s...  2013-03-26 01:52:31   \n                                                                                                     This woman answers a question she's had since s...  2013-03-26 01:52:31   \n\n                                                                                                                                                         numwords1  \\\nclickability_test_id     eyecatcher_id            lede                                               excerpt                                                         \n51436069220cb800020005bd 5332ba141fae79f09f002c47 <p>The President made a lot of promises, and he... You have so much potential. Why are you wasting...          9   \n5143606a220cb800020005c6 5332ba211fae79f09f002dcf <p>If you think Fawzia Koofi is crazy for wanti... You don't want to miss this incredible story.              17   \n                                                                                                     You don't want to miss this incredible story.              15   \n                                                                                                     You don't want to miss this incredible story.              15   \n5143606b220cb800020005d7 5332ba581fae79f09f003326 <p><p>Sean Hannity thinks all women should have... Science can be confusing if you don't believe i...         11   \n                                                                                                     Science can be confusing if you don't believe i...         15   \n                                                                                                     Science can be confusing if you don't believe i...         15   \n5143606e220cb800020006ba 5332b5951fae79f09f000632 Kate Makkai answers a question she's had since ... This woman answers a question she's had since s...          9   \n                                                                                                     This woman answers a question she's had since s...         10   \n                                                                                                     This woman answers a question she's had since s...         10   \n\n                                                                                                                                                         first_person_singular1  \\\nclickability_test_id     eyecatcher_id            lede                                               excerpt                                                                      \n51436069220cb800020005bd 5332ba141fae79f09f002c47 <p>The President made a lot of promises, and he... You have so much potential. Why are you wasting...                       1   \n5143606a220cb800020005c6 5332ba211fae79f09f002dcf <p>If you think Fawzia Koofi is crazy for wanti... You don't want to miss this incredible story.                            0   \n                                                                                                     You don't want to miss this incredible story.                            0   \n                                                                                                     You don't want to miss this incredible story.                            0   \n5143606b220cb800020005d7 5332ba581fae79f09f003326 <p><p>Sean Hannity thinks all women should have... Science can be confusing if you don't believe i...                       0   \n                                                                                                     Science can be confusing if you don't believe i...                       0   \n                                                                                                     Science can be confusing if you don't believe i...                       0   \n5143606e220cb800020006ba 5332b5951fae79f09f000632 Kate Makkai answers a question she's had since ... This woman answers a question she's had since s...                       0   \n                                                                                                     This woman answers a question she's had since s...                       0   \n                                                                                                     This woman answers a question she's had since s...                       0   \n\n                                                                                                                                                         first_person_plural1  \\\nclickability_test_id     eyecatcher_id            lede                                               excerpt                                                                    \n51436069220cb800020005bd 5332ba141fae79f09f002c47 <p>The President made a lot of promises, and he... You have so much potential. Why are you wasting...                     0   \n5143606a220cb800020005c6 5332ba211fae79f09f002dcf <p>If you think Fawzia Koofi is crazy for wanti... You don't want to miss this incredible story.                          0   \n                                                                                                     You don't want to miss this incredible story.                          0   \n                                                                                                     You don't want to miss this incredible story.                          0   \n5143606b220cb800020005d7 5332ba581fae79f09f003326 <p><p>Sean Hannity thinks all women should have... Science can be confusing if you don't believe i...                     0   \n                                                                                                     Science can be confusing if you don't believe i...                     1   \n                                                                                                     Science can be confusing if you don't believe i...                     1   \n5143606e220cb800020006ba 5332b5951fae79f09f000632 Kate Makkai answers a question she's had since ... This woman answers a question she's had since s...                     0   \n                                                                                                     This woman answers a question she's had since s...                     0   \n                                                                                                     This woman answers a question she's had since s...                     0   \n\n                                                                                                                                                         second_person1  \\\nclickability_test_id     eyecatcher_id            lede                                               excerpt                                                              \n51436069220cb800020005bd 5332ba141fae79f09f002c47 <p>The President made a lot of promises, and he... You have so much potential. Why are you wasting...               0   \n5143606a220cb800020005c6 5332ba211fae79f09f002dcf <p>If you think Fawzia Koofi is crazy for wanti... You don't want to miss this incredible story.                    0   \n                                                                                                     You don't want to miss this incredible story.                    1   \n                                                                                                     You don't want to miss this incredible story.                    1   \n5143606b220cb800020005d7 5332ba581fae79f09f003326 <p><p>Sean Hannity thinks all women should have... Science can be confusing if you don't believe i...               0   \n                                                                                                     Science can be confusing if you don't believe i...               0   \n                                                                                                     Science can be confusing if you don't believe i...               0   \n5143606e220cb800020006ba 5332b5951fae79f09f000632 Kate Makkai answers a question she's had since ... This woman answers a question she's had since s...               0   \n                                                                                                     This woman answers a question she's had since s...               0   \n                                                                                                     This woman answers a question she's had since s...               0   \n\n                                                                                                                                                         third_person_singular1  \\\nclickability_test_id     eyecatcher_id            lede                                               excerpt                                                                      \n51436069220cb800020005bd 5332ba141fae79f09f002c47 <p>The President made a lot of promises, and he... You have so much potential. Why are you wasting...                       0   \n5143606a220cb800020005c6 5332ba211fae79f09f002dcf <p>If you think Fawzia Koofi is crazy for wanti... You don't want to miss this incredible story.                            0   \n                                                                                                     You don't want to miss this incredible story.                            0   \n                                                                                                     You don't want to miss this incredible story.                            0   \n5143606b220cb800020005d7 5332ba581fae79f09f003326 <p><p>Sean Hannity thinks all women should have... Science can be confusing if you don't believe i...                       0   \n                                                                                                     Science can be confusing if you don't believe i...                       0   \n                                                                                                     Science can be confusing if you don't believe i...                       0   \n5143606e220cb800020006ba 5332b5951fae79f09f000632 Kate Makkai answers a question she's had since ... This woman answers a question she's had since s...                       0   \n                                                                                                     This woman answers a question she's had since s...                       1   \n                                                                                                     This woman answers a question she's had since s...                       1   \n\n                                                                                                                                                         third_person_plural1  \\\nclickability_test_id     eyecatcher_id            lede                                               excerpt                                                                    \n51436069220cb800020005bd 5332ba141fae79f09f002c47 <p>The President made a lot of promises, and he... You have so much potential. Why are you wasting...                     0   \n5143606a220cb800020005c6 5332ba211fae79f09f002dcf <p>If you think Fawzia Koofi is crazy for wanti... You don't want to miss this incredible story.                          0   \n                                                                                                     You don't want to miss this incredible story.                          0   \n                                                                                                     You don't want to miss this incredible story.                          0   \n5143606b220cb800020005d7 5332ba581fae79f09f003326 <p><p>Sean Hannity thinks all women should have... Science can be confusing if you don't believe i...                     0   \n                                                                                                     Science can be confusing if you don't believe i...                     0   \n                                                                                                     Science can be confusing if you don't believe i...                     0   \n5143606e220cb800020006ba 5332b5951fae79f09f000632 Kate Makkai answers a question she's had since ... This woman answers a question she's had since s...                     1   \n                                                                                                     This woman answers a question she's had since s...                     0   \n                                                                                                     This woman answers a question she's had since s...                     0   \n\n                                                                                                                                                                                                 headline2  \\\nclickability_test_id     eyecatcher_id            lede                                               excerpt                                                                                                 \n51436069220cb800020005bd 5332ba141fae79f09f002c47 <p>The President made a lot of promises, and he... You have so much potential. Why are you wasting...  Mr. President, I'm Not Mad. I'm Just Disappoin...   \n5143606a220cb800020005c6 5332ba211fae79f09f002dcf <p>If you think Fawzia Koofi is crazy for wanti... You don't want to miss this incredible story.       This Brave Woman Is Running For President Of A...   \n                                                                                                     You don't want to miss this incredible story.       MAD RESPECT: This Brave Woman Is Running For P...   \n                                                                                                     You don't want to miss this incredible story.       This Brave Woman Is Running For President Of A...   \n5143606b220cb800020005d7 5332ba581fae79f09f003326 <p><p>Sean Hannity thinks all women should have... Science can be confusing if you don't believe i...  Sean Hannity Thinks Its Waaaaay Too Hard To Te...   \n                                                                                                     Science can be confusing if you don't believe i...  Sean Hannity Thinks Its Waaaaay Too Hard To Te...   \n                                                                                                     Science can be confusing if you don't believe i...  Sean Hannity Thinks Telling Men Not To Attack ...   \n5143606e220cb800020006ba 5332b5951fae79f09f000632 Kate Makkai answers a question she's had since ... This woman answers a question she's had since s...          Why This Woman Thinks Pretty Isn't Enough   \n                                                                                                     This woman answers a question she's had since s...  Now For Sale: Daughters, $10,000 Each (If They...   \n                                                                                                     This woman answers a question she's had since s...          Why This Woman Thinks Pretty Isn't Enough   \n\n                                                                                                                                                             ctr2  \\\nclickability_test_id     eyecatcher_id            lede                                               excerpt                                                        \n51436069220cb800020005bd 5332ba141fae79f09f002c47 <p>The President made a lot of promises, and he... You have so much potential. Why are you wasting...  0.016595   \n5143606a220cb800020005c6 5332ba211fae79f09f002dcf <p>If you think Fawzia Koofi is crazy for wanti... You don't want to miss this incredible story.       0.009410   \n                                                                                                     You don't want to miss this incredible story.       0.011216   \n                                                                                                     You don't want to miss this incredible story.       0.009410   \n5143606b220cb800020005d7 5332ba581fae79f09f003326 <p><p>Sean Hannity thinks all women should have... Science can be confusing if you don't believe i...  0.013050   \n                                                                                                     Science can be confusing if you don't believe i...  0.013050   \n                                                                                                     Science can be confusing if you don't believe i...  0.013675   \n5143606e220cb800020006ba 5332b5951fae79f09f000632 Kate Makkai answers a question she's had since ... This woman answers a question she's had since s...  0.025942   \n                                                                                                     This woman answers a question she's had since s...  0.034099   \n                                                                                                     This woman answers a question she's had since s...  0.025942   \n\n                                                                                                                                                         numwords2  \\\nclickability_test_id     eyecatcher_id            lede                                               excerpt                                                         \n51436069220cb800020005bd 5332ba141fae79f09f002c47 <p>The President made a lot of promises, and he... You have so much potential. Why are you wasting...         15   \n5143606a220cb800020005c6 5332ba211fae79f09f002dcf <p>If you think Fawzia Koofi is crazy for wanti... You don't want to miss this incredible story.              11   \n                                                                                                     You don't want to miss this incredible story.              17   \n                                                                                                     You don't want to miss this incredible story.              11   \n5143606b220cb800020005d7 5332ba581fae79f09f003326 <p><p>Sean Hannity thinks all women should have... Science can be confusing if you don't believe i...         14   \n                                                                                                     Science can be confusing if you don't believe i...         14   \n                                                                                                     Science can be confusing if you don't believe i...         11   \n5143606e220cb800020006ba 5332b5951fae79f09f000632 Kate Makkai answers a question she's had since ... This woman answers a question she's had since s...          7   \n                                                                                                     This woman answers a question she's had since s...          9   \n                                                                                                     This woman answers a question she's had since s...          7   \n\n                                                                                                                                                         first_person_singular2  \\\nclickability_test_id     eyecatcher_id            lede                                               excerpt                                                                      \n51436069220cb800020005bd 5332ba141fae79f09f002c47 <p>The President made a lot of promises, and he... You have so much potential. Why are you wasting...                       1   \n5143606a220cb800020005c6 5332ba211fae79f09f002dcf <p>If you think Fawzia Koofi is crazy for wanti... You don't want to miss this incredible story.                            0   \n                                                                                                     You don't want to miss this incredible story.                            0   \n                                                                                                     You don't want to miss this incredible story.                            0   \n5143606b220cb800020005d7 5332ba581fae79f09f003326 <p><p>Sean Hannity thinks all women should have... Science can be confusing if you don't believe i...                       0   \n                                                                                                     Science can be confusing if you don't believe i...                       0   \n                                                                                                     Science can be confusing if you don't believe i...                       0   \n5143606e220cb800020006ba 5332b5951fae79f09f000632 Kate Makkai answers a question she's had since ... This woman answers a question she's had since s...                       0   \n                                                                                                     This woman answers a question she's had since s...                       0   \n                                                                                                     This woman answers a question she's had since s...                       0   \n\n                                                                                                                                                         first_person_plural2  \\\nclickability_test_id     eyecatcher_id            lede                                               excerpt                                                                    \n51436069220cb800020005bd 5332ba141fae79f09f002c47 <p>The President made a lot of promises, and he... You have so much potential. Why are you wasting...                     0   \n5143606a220cb800020005c6 5332ba211fae79f09f002dcf <p>If you think Fawzia Koofi is crazy for wanti... You don't want to miss this incredible story.                          0   \n                                                                                                     You don't want to miss this incredible story.                          0   \n                                                                                                     You don't want to miss this incredible story.                          0   \n5143606b220cb800020005d7 5332ba581fae79f09f003326 <p><p>Sean Hannity thinks all women should have... Science can be confusing if you don't believe i...                     0   \n                                                                                                     Science can be confusing if you don't believe i...                     0   \n                                                                                                     Science can be confusing if you don't believe i...                     0   \n5143606e220cb800020006ba 5332b5951fae79f09f000632 Kate Makkai answers a question she's had since ... This woman answers a question she's had since s...                     0   \n                                                                                                     This woman answers a question she's had since s...                     0   \n                                                                                                     This woman answers a question she's had since s...                     0   \n\n                                                                                                                                                         second_person2  \\\nclickability_test_id     eyecatcher_id            lede                                               excerpt                                                              \n51436069220cb800020005bd 5332ba141fae79f09f002c47 <p>The President made a lot of promises, and he... You have so much potential. Why are you wasting...               0   \n5143606a220cb800020005c6 5332ba211fae79f09f002dcf <p>If you think Fawzia Koofi is crazy for wanti... You don't want to miss this incredible story.                    0   \n                                                                                                     You don't want to miss this incredible story.                    0   \n                                                                                                     You don't want to miss this incredible story.                    0   \n5143606b220cb800020005d7 5332ba581fae79f09f003326 <p><p>Sean Hannity thinks all women should have... Science can be confusing if you don't believe i...               0   \n                                                                                                     Science can be confusing if you don't believe i...               0   \n                                                                                                     Science can be confusing if you don't believe i...               0   \n5143606e220cb800020006ba 5332b5951fae79f09f000632 Kate Makkai answers a question she's had since ... This woman answers a question she's had since s...               0   \n                                                                                                     This woman answers a question she's had since s...               0   \n                                                                                                     This woman answers a question she's had since s...               0   \n\n                                                                                                                                                         third_person_singular2  \\\nclickability_test_id     eyecatcher_id            lede                                               excerpt                                                                      \n51436069220cb800020005bd 5332ba141fae79f09f002c47 <p>The President made a lot of promises, and he... You have so much potential. Why are you wasting...                       0   \n5143606a220cb800020005c6 5332ba211fae79f09f002dcf <p>If you think Fawzia Koofi is crazy for wanti... You don't want to miss this incredible story.                            0   \n                                                                                                     You don't want to miss this incredible story.                            0   \n                                                                                                     You don't want to miss this incredible story.                            0   \n5143606b220cb800020005d7 5332ba581fae79f09f003326 <p><p>Sean Hannity thinks all women should have... Science can be confusing if you don't believe i...                       1   \n                                                                                                     Science can be confusing if you don't believe i...                       1   \n                                                                                                     Science can be confusing if you don't believe i...                       0   \n5143606e220cb800020006ba 5332b5951fae79f09f000632 Kate Makkai answers a question she's had since ... This woman answers a question she's had since s...                       0   \n                                                                                                     This woman answers a question she's had since s...                       0   \n                                                                                                     This woman answers a question she's had since s...                       0   \n\n                                                                                                                                                         third_person_plural2  \nclickability_test_id     eyecatcher_id            lede                                               excerpt                                                                   \n51436069220cb800020005bd 5332ba141fae79f09f002c47 <p>The President made a lot of promises, and he... You have so much potential. Why are you wasting...                     0  \n5143606a220cb800020005c6 5332ba211fae79f09f002dcf <p>If you think Fawzia Koofi is crazy for wanti... You don't want to miss this incredible story.                          0  \n                                                                                                     You don't want to miss this incredible story.                          0  \n                                                                                                     You don't want to miss this incredible story.                          0  \n5143606b220cb800020005d7 5332ba581fae79f09f003326 <p><p>Sean Hannity thinks all women should have... Science can be confusing if you don't believe i...                     0  \n                                                                                                     Science can be confusing if you don't believe i...                     0  \n                                                                                                     Science can be confusing if you don't believe i...                     0  \n5143606e220cb800020006ba 5332b5951fae79f09f000632 Kate Makkai answers a question she's had since ... This woman answers a question she's had since s...                     0  \n                                                                                                     This woman answers a question she's had since s...                     1  \n                                                                                                     This woman answers a question she's had since s...                     0  ",
      "text/html": "<div>\n<style scoped>\n    .dataframe tbody tr th:only-of-type {\n        vertical-align: middle;\n    }\n\n    .dataframe tbody tr th {\n        vertical-align: top;\n    }\n\n    .dataframe thead th {\n        text-align: right;\n    }\n</style>\n<table border=\"1\" class=\"dataframe\">\n  <thead>\n    <tr style=\"text-align: right;\">\n      <th></th>\n      <th></th>\n      <th></th>\n      <th></th>\n      <th>headline1</th>\n      <th>ctr1</th>\n      <th>date_created</th>\n      <th>numwords1</th>\n      <th>first_person_singular1</th>\n      <th>first_person_plural1</th>\n      <th>second_person1</th>\n      <th>third_person_singular1</th>\n      <th>third_person_plural1</th>\n      <th>headline2</th>\n      <th>ctr2</th>\n      <th>numwords2</th>\n      <th>first_person_singular2</th>\n      <th>first_person_plural2</th>\n      <th>second_person2</th>\n      <th>third_person_singular2</th>\n      <th>third_person_plural2</th>\n    </tr>\n    <tr>\n      <th>clickability_test_id</th>\n      <th>eyecatcher_id</th>\n      <th>lede</th>\n      <th>excerpt</th>\n      <th></th>\n      <th></th>\n      <th></th>\n      <th></th>\n      <th></th>\n      <th></th>\n      <th></th>\n      <th></th>\n      <th></th>\n      <th></th>\n      <th></th>\n      <th></th>\n      <th></th>\n      <th></th>\n      <th></th>\n      <th></th>\n      <th></th>\n    </tr>\n  </thead>\n  <tbody>\n    <tr>\n      <th>51436069220cb800020005bd</th>\n      <th>5332ba141fae79f09f002c47</th>\n      <th>&lt;p&gt;The President made a lot of promises, and he took a lot of action on many of them. Not all of them, though. Somewhere along the way he seems to have gotten distracted. We should probably get to the bottom of that.&lt;br&gt;&lt;/p&gt;</th>\n      <th>You have so much potential. Why are you wasting it?</th>\n      <td>Mr. President, I'm Not Mad. I'm Just Disappoin...</td>\n      <td>0.019770</td>\n      <td>2013-02-07 05:42:25</td>\n      <td>9</td>\n      <td>1</td>\n      <td>0</td>\n      <td>0</td>\n      <td>0</td>\n      <td>0</td>\n      <td>Mr. President, I'm Not Mad. I'm Just Disappoin...</td>\n      <td>0.016595</td>\n      <td>15</td>\n      <td>1</td>\n      <td>0</td>\n      <td>0</td>\n      <td>0</td>\n      <td>0</td>\n    </tr>\n    <tr>\n      <th rowspan=\"3\" valign=\"top\">5143606a220cb800020005c6</th>\n      <th rowspan=\"3\" valign=\"top\">5332ba211fae79f09f002dcf</th>\n      <th rowspan=\"3\" valign=\"top\">&lt;p&gt;If you think Fawzia Koofi is crazy for wanting to be president of Afghanistan (yes, Afghanistan), you won't after listening to her incredible story (especially how many times she's almost died and/or been killed). She's a fierce lady who knows &lt;i&gt;exactly&lt;/i&gt; what she's doing. What an inspiration.&lt;/p&gt;\\n</th>\n      <th>You don't want to miss this incredible story.</th>\n      <td>MAD RESPECT: This Brave Woman Is Running For P...</td>\n      <td>0.011216</td>\n      <td>2013-02-19 19:05:45</td>\n      <td>17</td>\n      <td>0</td>\n      <td>0</td>\n      <td>0</td>\n      <td>0</td>\n      <td>0</td>\n      <td>This Brave Woman Is Running For President Of A...</td>\n      <td>0.009410</td>\n      <td>11</td>\n      <td>0</td>\n      <td>0</td>\n      <td>0</td>\n      <td>0</td>\n      <td>0</td>\n    </tr>\n    <tr>\n      <th>You don't want to miss this incredible story.</th>\n      <td>If You Think Hillary Had A Rough Campaign, You...</td>\n      <td>0.012807</td>\n      <td>2013-02-19 19:03:39</td>\n      <td>15</td>\n      <td>0</td>\n      <td>0</td>\n      <td>1</td>\n      <td>0</td>\n      <td>0</td>\n      <td>MAD RESPECT: This Brave Woman Is Running For P...</td>\n      <td>0.011216</td>\n      <td>17</td>\n      <td>0</td>\n      <td>0</td>\n      <td>0</td>\n      <td>0</td>\n      <td>0</td>\n    </tr>\n    <tr>\n      <th>You don't want to miss this incredible story.</th>\n      <td>If You Think Hillary Had A Rough Campaign, You...</td>\n      <td>0.012807</td>\n      <td>2013-02-19 19:03:39</td>\n      <td>15</td>\n      <td>0</td>\n      <td>0</td>\n      <td>1</td>\n      <td>0</td>\n      <td>0</td>\n      <td>This Brave Woman Is Running For President Of A...</td>\n      <td>0.009410</td>\n      <td>11</td>\n      <td>0</td>\n      <td>0</td>\n      <td>0</td>\n      <td>0</td>\n      <td>0</td>\n    </tr>\n    <tr>\n      <th rowspan=\"3\" valign=\"top\">5143606b220cb800020005d7</th>\n      <th rowspan=\"3\" valign=\"top\">5332ba581fae79f09f003326</th>\n      <th rowspan=\"3\" valign=\"top\">&lt;p&gt;&lt;p&gt;Sean Hannity thinks all women should have the right to choose... to be armed. Zerlina Maxwell didn't disagree, yet she went on a 3 minute campaign suggesting that perhaps instead of arming victims, we take another more obvious route, like, I dunno,&lt;b&gt; teaching men not to rape&lt;/b&gt;, since that seems to work really well. Seriously, it works &lt;a href=\"http://upwr.me/ZnDHAP\"&gt;REALLY WELL&lt;/a&gt;.&lt;/p&gt;&lt;p&gt;He thought ignoring her would be the best way not to hear that. And &lt;a href=\"http://upwr.me/Xx5sKO\" target=\"_blank\"&gt;now his fans are threatening her&lt;/a&gt;.&lt;/p&gt;&lt;br&gt;&lt;/p&gt;</th>\n      <th>Science can be confusing if you don't believe in it.</th>\n      <td>Sean Hannity Thinks Telling Men Not To Attack ...</td>\n      <td>0.013675</td>\n      <td>2013-03-09 06:55:39</td>\n      <td>11</td>\n      <td>0</td>\n      <td>0</td>\n      <td>0</td>\n      <td>0</td>\n      <td>0</td>\n      <td>Sean Hannity Thinks Its Waaaaay Too Hard To Te...</td>\n      <td>0.013050</td>\n      <td>14</td>\n      <td>0</td>\n      <td>0</td>\n      <td>0</td>\n      <td>1</td>\n      <td>0</td>\n    </tr>\n    <tr>\n      <th>Science can be confusing if you don't believe in it.</th>\n      <td>Feminist Confuses Fox News Host By Suggesting ...</td>\n      <td>0.024444</td>\n      <td>2013-03-09 06:59:29</td>\n      <td>15</td>\n      <td>0</td>\n      <td>1</td>\n      <td>0</td>\n      <td>0</td>\n      <td>0</td>\n      <td>Sean Hannity Thinks Its Waaaaay Too Hard To Te...</td>\n      <td>0.013050</td>\n      <td>14</td>\n      <td>0</td>\n      <td>0</td>\n      <td>0</td>\n      <td>1</td>\n      <td>0</td>\n    </tr>\n    <tr>\n      <th>Science can be confusing if you don't believe in it.</th>\n      <td>Feminist Confuses Fox News Host By Suggesting ...</td>\n      <td>0.024444</td>\n      <td>2013-03-09 06:59:29</td>\n      <td>15</td>\n      <td>0</td>\n      <td>1</td>\n      <td>0</td>\n      <td>0</td>\n      <td>0</td>\n      <td>Sean Hannity Thinks Telling Men Not To Attack ...</td>\n      <td>0.013675</td>\n      <td>11</td>\n      <td>0</td>\n      <td>0</td>\n      <td>0</td>\n      <td>0</td>\n      <td>0</td>\n    </tr>\n    <tr>\n      <th rowspan=\"3\" valign=\"top\">5143606e220cb800020006ba</th>\n      <th rowspan=\"3\" valign=\"top\">5332b5951fae79f09f000632</th>\n      <th rowspan=\"3\" valign=\"top\">Kate Makkai answers a question she's had since she was very young in exactly the kind of way that slams into your gut and stays there.\\n</th>\n      <th>This woman answers a question she's had since she was young in exactly the kind of way that slams into your gut and stays there.</th>\n      <td>Now For Sale: Daughters, $10,000 Each (If They...</td>\n      <td>0.034099</td>\n      <td>2013-03-26 01:52:11</td>\n      <td>9</td>\n      <td>0</td>\n      <td>0</td>\n      <td>0</td>\n      <td>0</td>\n      <td>1</td>\n      <td>Why This Woman Thinks Pretty Isn't Enough</td>\n      <td>0.025942</td>\n      <td>7</td>\n      <td>0</td>\n      <td>0</td>\n      <td>0</td>\n      <td>0</td>\n      <td>0</td>\n    </tr>\n    <tr>\n      <th>This woman answers a question she's had since she was young in exactly the kind of way that slams into your gut and stays there.</th>\n      <td>Why Doesn't This Woman Want Her Daughter To Be...</td>\n      <td>0.034483</td>\n      <td>2013-03-26 01:52:31</td>\n      <td>10</td>\n      <td>0</td>\n      <td>0</td>\n      <td>0</td>\n      <td>1</td>\n      <td>0</td>\n      <td>Now For Sale: Daughters, $10,000 Each (If They...</td>\n      <td>0.034099</td>\n      <td>9</td>\n      <td>0</td>\n      <td>0</td>\n      <td>0</td>\n      <td>0</td>\n      <td>1</td>\n    </tr>\n    <tr>\n      <th>This woman answers a question she's had since she was young in exactly the kind of way that slams into your gut and stays there.</th>\n      <td>Why Doesn't This Woman Want Her Daughter To Be...</td>\n      <td>0.034483</td>\n      <td>2013-03-26 01:52:31</td>\n      <td>10</td>\n      <td>0</td>\n      <td>0</td>\n      <td>0</td>\n      <td>1</td>\n      <td>0</td>\n      <td>Why This Woman Thinks Pretty Isn't Enough</td>\n      <td>0.025942</td>\n      <td>7</td>\n      <td>0</td>\n      <td>0</td>\n      <td>0</td>\n      <td>0</td>\n      <td>0</td>\n    </tr>\n  </tbody>\n</table>\n</div>"
     },
     "execution_count": 122,
     "metadata": {},
     "output_type": "execute_result"
    }
   ],
   "source": [
    "new_dataset.head(10)"
   ],
   "metadata": {
    "collapsed": false,
    "pycharm": {
     "name": "#%%\n"
    }
   }
  },
  {
   "cell_type": "markdown",
   "source": [
    "### 2.3 One easy way to classify sentiment is simply to match negative or positive words. Use the linked lists of words (positive, negative) to obtain “positive sentiment” and “negative sentiment” scores for each headline. Create columns positive1/positive2 and negative1/negative2 containing indicator variables for positive and negative sentiment, i.e., A headline has a “positive sentiment” (or negative) score equal 1 if it contains at least one positive (or negative) sentiment word on the list. Otherwise, its “positive sentiment” (or negative) score equals 0."
   ],
   "metadata": {
    "collapsed": false,
    "pycharm": {
     "name": "#%% md\n"
    }
   }
  },
  {
   "cell_type": "code",
   "execution_count": 123,
   "outputs": [],
   "source": [
    "# Grab the Data from the internet\n",
    "import requests\n",
    "from bs4 import BeautifulSoup"
   ],
   "metadata": {
    "collapsed": false,
    "pycharm": {
     "name": "#%%\n"
    }
   }
  },
  {
   "cell_type": "code",
   "execution_count": 124,
   "outputs": [],
   "source": [
    "# for positive word list\n",
    "positive_words = requests.get('https://ptrckprry.com/course/ssd/data/positive-words.txt')\n",
    "positive_words = list(str(positive_words.text).split('\\n'))\n",
    "count = 0\n",
    "for word in positive_words:\n",
    "    if word == 'a+':\n",
    "        break\n",
    "    count += 1\n",
    "positive_words = positive_words[count:]\n",
    "# for negative word list\n",
    "negative_words = requests.get('https://ptrckprry.com/course/ssd/data/negative-words.txt')\n",
    "negative_words = list(str(negative_words.text).split('\\n'))\n",
    "count = 0\n",
    "for word in negative_words:\n",
    "    if word == '2-faced':\n",
    "        break\n",
    "    count += 1\n",
    "negative_words = negative_words[count:]"
   ],
   "metadata": {
    "collapsed": false,
    "pycharm": {
     "name": "#%%\n"
    }
   }
  },
  {
   "cell_type": "code",
   "execution_count": 129,
   "outputs": [],
   "source": [
    "# function to count positive and negative words\n",
    "def sentiment_score(positive:bool,sentence: str, positive_words: list =positive_words, negative_words: list =negative_words):\n",
    "    \"\"\"Takes in the sentence and then\n",
    "    returns the score of positive and negative words.\"\"\"\n",
    "    count = 0\n",
    "    sentence = extract_word(sentence)\n",
    "    if positive:\n",
    "        list = positive_words\n",
    "    else:\n",
    "        list = negative_words\n",
    "    for word in sentence:\n",
    "        if word in list:\n",
    "            count = 1\n",
    "            break\n",
    "    return count"
   ],
   "metadata": {
    "collapsed": false,
    "pycharm": {
     "name": "#%%\n"
    }
   }
  },
  {
   "cell_type": "code",
   "execution_count": 133,
   "outputs": [],
   "source": [
    "load = True\n",
    "if not load:\n",
    "    new_dataset['positive1'] = [sentiment_score(True, x) for x in new_dataset.headline1]\n",
    "    new_dataset['positive2'] = [sentiment_score(True, x) for x in new_dataset.headline2]\n",
    "    new_dataset['negative1'] = [sentiment_score(False, x) for x in new_dataset.headline1]\n",
    "    new_dataset['negative2'] = [sentiment_score(False, x) for x in new_dataset.headline2]\n",
    "else:\n",
    "    new_dataset = pd.read_csv(os.path.join(data_path_root,'new_dataset.csv'))"
   ],
   "metadata": {
    "collapsed": false,
    "pycharm": {
     "name": "#%%\n"
    }
   }
  },
  {
   "cell_type": "code",
   "execution_count": 139,
   "outputs": [],
   "source": [
    "new_dataset = new_dataset[['headline1', 'ctr1', 'date_created', 'numwords1', 'first_person_singular1', 'first_person_plural1', 'second_person1', 'third_person_singular1', 'third_person_plural1', 'positive1', 'negative1', 'headline2', 'ctr2', 'numwords2',  'first_person_singular2', 'first_person_plural2', 'second_person2', 'third_person_singular2', 'third_person_plural2', 'positive2', 'negative2']]\n",
    "if not os.path.exists(os.path.join(data_path_root,'new_dataset.csv')):\n",
    "    to_save = new_dataset.to_csv(os.path.join(data_path_root,'new_dataset.csv'))"
   ],
   "metadata": {
    "collapsed": false,
    "pycharm": {
     "name": "#%%\n"
    }
   }
  },
  {
   "cell_type": "markdown",
   "id": "572f0b46",
   "metadata": {
    "pycharm": {
     "name": "#%% md\n"
    }
   },
   "source": [
    "## Task 3: Estimating the effect of language on headline success\n",
    "\n",
    "Your third task revolves around the question *how does language impact headlines' success?*\n",
    "\n",
    "3.1 First, we examine whether the winner headlines have more or fewer words than the loser headline. Conduct an independent sample t-test and paired t-test (see [scipy.stats](https://docs.scipy.org/doc/scipy/reference/generated/scipy.stats.ttest_ind.html#scipy.stats.ttest_ind); for the independent sample t-test, assume equal variance). Also, calculate and print the mean difference between the number of words in the winner and the loser headlines.\n",
    "\n",
    "3.2 **Discuss:** Are longer headlines more successful? Justify.\n",
    "\n",
    "3.3 The [t-statistic](https://en.wikipedia.org/wiki/T-statistic) is the ratio of the departure of the estimated value of a parameter from its hypothesized value to its standard error. In a t-test, the higher the t-statistic, the more confidently we can reject the null hypothesis. Use `numpy.random` to create four samples, each of size 30:\n",
    "- $X \\sim Uniform(0,1)$\n",
    "- $Y \\sim Uniform(0,1)$\n",
    "- $Z = X/2 + Y/2 + 0.1$\n",
    "- $K = Y + 0.1$\n",
    "    \n",
    "3.4 **Discuss:** What are the expected values and the variance of $X$, $Y$, $Z$, and $K$? (You don't need to justify them!)\n",
    "\n",
    "3.5 Run the following simulation 10000 times, storing the $p$-values for the tests at each run:\n",
    "- Sample new values  for $X$, $Y$, $Z$ and $K$ ($n=30$ each). \n",
    "- Run independent sample t-test (assuming equal variance) and paired t-test comparing $X$ and $Z$.\n",
    "-  Run independent sample t-test (assuming equal variance) and paired t-test comparing $X$ and $K$.\n",
    "\n",
    "3.6 Recall that the power of a binary hypothesis test is the probability that the test correctly rejects the null hypothesis when the alternative hypothesis is true. Using the p-values and assuming that we reject the null hypothesis if $p < 0.05$, calculate the statistical power of:\n",
    "- The independent sample t-test comparing $X$ and $Z$.\n",
    "- The paired t-test comparing $X$ and $Z$.\n",
    "- The independent sample t-test comparing $X$ and $K$.\n",
    "- The paired t-test comparing $X$ and $K$.\n",
    "    \n",
    "3.7 **Discuss:** When are paired t-tests helpful? Justify.\n",
    "\n",
    "3.8 With a bootstrapping approach (implemented by yourself, you should not use existing bootstrapping functions), estimate the average difference and 95% confidence intervals for:\n",
    "- the mean ratio between the number of words in the winner headline and the loser headline (i.e., the number of words in the winner headline divided by the number of words in the loser headlines).\n",
    "- the difference in usage of positive words between winner and loser headlines.\n",
    "- the difference in usage of negative words between winner and loser headlines.\n",
    "- The difference in usage of each type of pronoun between winner and loser headlines.\n",
    "\n",
    "3.9 **Discuss:** According to the results obtained in **T3.8**, what headlines grab people's attention the most? Justify your answer.\n",
    "    \n",
    "---\n",
    "**Comments:**\n",
    "\n",
    "- Paired t-test formula: $t = \\frac{\\overline{x}_{\\mathrm{diff}}}{s_{\\mathrm{diff}} / \\sqrt n }$ where:\n",
    "    - $\\overline{x}_{\\mathrm{diff}}$ is the sample difference between the means of the matched sample; and\n",
    "    - $s_{\\mathrm{diff}}$ is the sample variance of the matched sample; and\n",
    "    - $n$ is the number of matched samples.\n",
    "    \n",
    "- Independent samples t-test formula: $t = \\frac{\\overline{x}_{1} - \\overline{x}_{2}}{\\sqrt{\\frac{s_{1}^{2}}{n_{1}} + \\frac{s_{2}^{2}}{n_{2}}}}$ where:\n",
    "    - $\\overline{x}_{\\mathrm{1}}$ is the sample mean of the first group; and\n",
    "    - $s_{\\mathrm{1}}$ is the sample variance of the first group; and\n",
    "    - $n_1$ is the number of samples in the first group;\n",
    "    \n",
    "     \n",
    "- t-tests are valid for samples of non-normal distribution for large enough samples (a rule of thumb used is: n$\\geq$30)!"
   ]
  },
  {
   "cell_type": "code",
   "execution_count": 127,
   "id": "966c66d6",
   "metadata": {
    "pycharm": {
     "name": "#%%\n"
    }
   },
   "outputs": [],
   "source": []
  },
  {
   "cell_type": "markdown",
   "id": "70888d20",
   "metadata": {
    "pycharm": {
     "name": "#%% md\n"
    }
   },
   "source": [
    "## Task 4: Temporal validity and heterogeneity of the effect.\n",
    "\n",
    "Last, we investigate how the effects studied in **T3** change with time and how they might be heterogeneous across different types of news.\n",
    "\n",
    "4.1 Create a plot where you depict the monthly average number of words in winner and loser headlines. Consider only headlines created after April 2013 (the month of April inclusive). Include also bootstrapped 95% confidence intervals; here, you can use a third-party implementation if you want. Finally, recall that we created a column `date_created` which captures the creation of the winner headline; you can consider this date to correspond to the date of the creation of the A/B test.\n",
    "\n",
    "4.2 Produce similar plots to each pronoun category, as well as for positive and negative sentiment. Here, unlike in **T4.1**, depict the month averages pooled across winner and loser headlines (i.e., for each month, you calculate the average across both winners and loser headlines).\n",
    "Create all these plots in a single figure with no more than 11 inches of width and 11 inches of height. Again, consider only headlines created after April 2013 (the month of April inclusive).\n",
    "\n",
    "4.3 **Discuss:** Has the type of headline Upworthy used in their A/B tests changed with time? Are these changes likely to be producing more or less engaging headlines? Justify.\n",
    "\n",
    "4.4 Divide your data into two periods, $t_1$, which goes from  April 2013 (inclusive) to March 2014 (inclusive), and $t_2$, which goes from April 2014 (inclusive) to the latest A/B test in the data. Create a dataframe for A/B tests in each period.\n",
    "\n",
    "4.5 Let's examine if the effects observed remained the same throughout the study period. Use an appropriate methodology  of your choice to determine if the effects observed in **T3.8** (length, each category of pronouns, positive words, and negative words) were different in $t_1$ and $t_2$. Here, note that we are considering \"at least one positive outcome\" to be the manifestation of an underlying effect, thus significance level must be adjusted down when performing multiple hypothesis tests!\n",
    "\n",
    "4.6 **Discuss:** Hypothesize two reasons that could have led to a change in the observed effects. According to the analysis done in **T4.5**, have the effects observed remained the same across the study period? \n",
    "\n",
    "4.7 The features we are studying may interact with each other. For instance, people may like first person singular pronouns in headlines containing positive words (you are amazing!), but dislike headlines with negative words and first person pronouns (you are awful!). To help answer this question, create:\n",
    "- a dataframe containing all A/B tests where both winner and loser headlines include a positive word; and\n",
    "- a dataframe containing all A/B tests where both winner and loser headlines include a negative word;\n",
    "\n",
    "4.8 Using an appropriate methodology of your choice, determine if the effect of the use of first person singular pronouns in the headline is heterogeneous across headlines with positive words and negative words, i.e., is the effect significantly stronger for one of the dataframes created in **T4.7**? \n",
    "\n",
    "4.9 **Discuss:** Considering the analyses you did throughout Tasks 3 and 4, write a short text (no more than 250 words) giving advice to Upworthy employees on how they should try to write engaging headlines. \n",
    "You can reference images present in the notebook by indicating a task (e.g., image plotted in **T3.3**) or a cell number. Note that you do not need to conduct any additional analysis to write this text. \n"
   ]
  },
  {
   "cell_type": "code",
   "execution_count": 127,
   "id": "fd3dc9f2",
   "metadata": {
    "pycharm": {
     "name": "#%%\n"
    }
   },
   "outputs": [],
   "source": []
  }
 ],
 "metadata": {
  "kernelspec": {
   "name": "python3",
   "language": "python",
   "display_name": "Python 3 (ipykernel)"
  },
  "language_info": {
   "codemirror_mode": {
    "name": "ipython",
    "version": 3
   },
   "file_extension": ".py",
   "mimetype": "text/x-python",
   "name": "python",
   "nbconvert_exporter": "python",
   "pygments_lexer": "ipython3",
   "version": "3.10.4"
  }
 },
 "nbformat": 4,
 "nbformat_minor": 5
}