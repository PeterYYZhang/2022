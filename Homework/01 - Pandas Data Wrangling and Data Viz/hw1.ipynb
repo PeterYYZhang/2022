{
 "cells": [
  {
   "cell_type": "markdown",
   "source": [
    "# Homework 1 (HW1)\n",
    "\n",
    "By the end of this homework, we expect you to be able to:\n",
    "\n",
    "- Load data and handle data using pandas;\n",
    "- Navigate the documentation of Python packages by yourself;\n",
    "- Filter and tidy up noisy real-world datasets;\n",
    "- Aggregate your data in different (and hopefully helpful) ways; \n",
    "- Create meaningful visualizations to analyze the data;\n",
    "\n",
    "---\n",
    "\n",
    "## Important Dates\n",
    "\n",
    "- Homework release: Fri 14 Oct 2022\n",
    "- **Homework due**: Sat 29 Oct 2022, 23:59\n",
    "- Grade release: Mon 07 Nov 2022\n",
    "\n",
    "---\n",
    "\n",
    "##  Some rules\n",
    "\n",
    "1. You are allowed to use any built-in Python library that comes with Anaconda. If you want to use an external library, \n",
    "you may do so, but must justify your choice.\n",
    "2. Make sure you use the `data` folder provided in the repository in read-only mode. (Or alternatively, be sure you \n",
    "don’t change any of the files.)\n",
    "3. Be sure to provide a textual description of your thought process, the assumptions you made, the solution you \n",
    "implemented, and explanations for your answers. A notebook that only has code cells will not suffice.\n",
    "4. For questions containing the **/Discuss:/** prefix, answer not with code, but with a textual explanation\n",
    " (**in markdown**).\n",
    "5. Back up any hypotheses and claims with data, since this is an important aspect of the course.\n",
    "6. Please write all your comments in English, and use meaningful variable names in your code. Your repo should have a \n",
    "single notebook (plus the required data files) in the *master/main* branch. If there are multiple notebooks present, \n",
    "we will **not grade** anything.\n",
    "7. We will **not run your notebook for you**! Rather, we will grade it as is, which means that only the results \n",
    "contained in your evaluated code cells will be considered, and we will not see the results in unevaluated code cells. \n",
    "Thus, be sure to hand in a **fully-run and evaluated notebook**. In order to check whether everything looks as intended,\n",
    " you can check the rendered notebook on the GitHub website once you have pushed your solution there.\n",
    "8. In continuation to the previous point, interactive plots, such as those generated using `plotly`, should be \n",
    "**strictly avoided**!\n",
    "9. Make sure to print results or dataframes that confirm you have properly addressed the task.\n",
    "\n",
    "---\n",
    "\n",
    "In this homework, we will analyze data from A/B tests of headlines conducted by Upworthy from January 2013 to April 2015 to study whether the language used in the headline determines the number of people that will read the associated news piece. The homework contains four tasks: in task 1, we will process the data; in task 2, we will extract meaningful signals from the data; in task 3, we will test whether the language of headlines impacts their success; and in task 4, we will explore the heterogeneity of this effects (e.g., does it vary through time?).\n",
    "\n",
    "\n",
    "### **What is an A/B test?** \n",
    "A/B tests are experiments that compare two scenarios (e.g., scenario A vs. scenario B). \n",
    "They test subjects' responses to each of the variants to determine which is more effective ([read more about A/B tests on Wikipedia](https://en.wikipedia.org/wiki/A/B_testing)). \n",
    "A/B tests allow us to draw conclusions about the different scenarios by randomizing exposure to them, e.g., one could flip a coin and assign a user to scenario A if it lands heads and to B if it lands tails. \n",
    "Since exposure is randomized, we can be confident that the scenarios are the sole explanation for statistically significant differences in subjects' responses (if they exist). \n",
    "In theory, A/B testing refers to an experiment that compares two scenarios; however, in practice, the term is also used when we compare multiple scenarios (e.g., A vs. B vs. C), although the more precise terminology would be to call such an experiment a \"multinomial test.\"\n",
    "\n",
    "### **How were A/B tests used by Upworthy?** \n",
    "Upworthy used A/B testing to increase news readership, conducting experiments for each published news piece. \n",
    "In each experiment, they created multiple \"packages\" of stimuli, varying headlines, images, excerpts, and ledes for the same news piece. \n",
    "Different \"packages\" were shown on their (now defunct) website to engage users with the news pieces they produced. Upworthy found \"the best\" package by conducting A/B tests, showing different packages to different users, and measuring how often users clicked on each version. \n",
    "Below, we show three \"packages\" used by Upworthy in an experiment, each with a different headline for the same news piece. \n",
    "Upworthy randomized users that visited their website saw one of the three versions of the headline below. Then, they measured the percentage of times users in each scenario clicked to read the news. \n",
    "The headline with the highest percentage of clicks per view (click through rate) was then declared the \"winner\" and became the default for all visitors.\n",
    "\n",
    "![Example A/B test](example.png)\n",
    "\n",
    " ### **Where does this data come from?** \n",
    " \n",
    " From a paper [1].\n",
    "\n",
    "[1] Matias, J.N., Munger, K., Le Quere, M.A. et al. The Upworthy Research Archive, a time series of 32,487 experiments in U.S. media. Sci Data 8, 195 (2021). https://doi.org/10.1038/s41597-021-00934-7\n",
    "\n",
    "### **Where can I find this data?**  \n",
    "\n",
    "You can find it in the `/data/` folder.\n",
    "\n",
    "### **Terminology**\n",
    "\n",
    "- **News piece:** A news article. In the dataset considered, these were all produced by Upworthy.\n",
    "- **Package:** The set of visual stimuli inviting the user to read an article. The figure above shows a package with a headline and an image. At times, there was an excerpt of the article also shown in the package and/or the lede, i.e., [\"the introductory section of a news story that is intended to entice the reader to read the full story.\"](https://www.merriam-webster.com/words-at-play/bury-the-lede-versus-lead#:~:text=In%20journalism%2C%20the%20lede%20refers,machines%20began%20disappearing%20from%20newsrooms.)\n",
    "- **Experiment:** Each experiment is an A/B test (or multinomial test, to be more precise) comparing how users reacted to different \"packages.\" Experiments measured two things: 1) how many users were shown each package; and 2) how many individuals clicked each package.\n",
    "\n",
    "### **Data description**\n",
    "\n",
    "| Column name          | Description                                                                                                                                                                                       |   |   |   |\n",
    "|----------------------|---------------------------------------------------------------------------------------------------------------------------------------------------------------------------------------------------|---|---|---|\n",
    "| created_at           | Time the package was created (timezone unknown)                                                                                                                                                   |   |   |   |\n",
    "| test_week            | Week the package was created, a variable constructed by the archive creators for stratified random sampling                                                                                       |   |   |   |\n",
    "| clickability_test_id | The test ID. Viewers were randomly assigned to packages with the same test ID                                                                                                                     |   |   |   |\n",
    "| impressions          | The number of viewers who were assigned to this package. The total number of participants for a given test is the sum of impressions for all packages that share the same clickability_test_id    |   |   |   |\n",
    "| headline             | The headline being tested                                                                                                                                                                         |   |   |   |\n",
    "| eyecatcher_id        | Image ID. Image files are not available. Packages that shared the same image have the same eyecatcher_id                                                                                          |   |   |   |\n",
    "| clicks               | The number of viewers (impressions) that clicked on the package. The clickrate for a given package is the number of clicks divided by the number of impressions                                   |   |   |   |\n",
    "| excerpt              | Article excerpt                                                                                                                                                                                   |   |   |   |\n",
    "| lede                 | The opening sentence or paragraph of the story                                                                                                                                                    |   |   |   |\n",
    "| slug                 | Internal name for the web address                                                                                                                                                                 |   |   |   |\n",
    "| share_text           | Summary for display on social media when the article is shared. This was not shown in tests, since tests were conducted on the Upworthy website                                                   |   |   |   |\n",
    "| square               | When used, part of the same social media sharing suggestion as the share text                                                                                                                     |   |   |   |\n",
    "| significance         | NOT an estimate of statistical significance; a complex, inconsistent calculation that compared the clicks on a package to the clicks on all previous packages that were fielded on the same pages |   |   |   |\n",
    "| first_place          | Along with significance, shown to editors to guide decisions about what test to choose                                                                                                            |   |   |   |\n",
    "| winner               | Whether a package was selected by editors to be used on the Upworthy site after the test                                                                                                          |   |   |   |\n",
    "| updated_at           | The last time the package was updated in the Upworthy system                                                                                                                                      |   |   |   |\n"
   ],
   "metadata": {
    "cell_id": "15ff91dcad3b4ef2b3100b0d1e1fe96c",
    "pycharm": {
     "name": "#%% md\n"
    },
    "deepnote_cell_type": "markdown"
   }
  },
  {
   "cell_type": "markdown",
   "source": [
    "## Task 1: Getting familiar with the data\n",
    "\n",
    "Your first task is to conduct initial analyses to understand the data and process it in a way that will allow us to more easily answer our key question: *how does the language of a headline determine its success?*\n",
    "\n",
    "1.1 Load the data into memory using pandas and print the first lines to get a sense of it.\n",
    "\n",
    "1.2 Each experiment comparing different versions of the same news piece (\"packages\") has a unique identifier (`clickability_test_id` column).\n",
    "Calculate how many different experiments were conducted in this dataset and, on average, how many packages were considered per experiment.\n",
    "Last, plot the distribution of packages per experiment with a visualization of your choice.\n",
    "\n",
    "1.3 A common way to measure success in online A/B tests is what is called \"the clickthrough rate.\"\n",
    "Given that often A/B tests are created to find what engages users (here, \"packages\" of headlines, images, etc), we would expect that a \"good\" package makes people click often.\n",
    "Create a column named `ctr` by dividing the number of clicks a package received (`clicks` column) by the number of impressions it received (`impressions` column).\n",
    "\n",
    "1.4 Packages varied any combination of the headline (`headline` column), the excerpt (`excerpt`), the first sentence of the article (`lede`), and the image that illustrates the news piece (`eyecatcher_id`, a hash per image).\n",
    "But we want to isolate the effect of the headline on the clickthrough rate. To do that, create a new dataframe where you filter all experiments where only one headline is present.\n",
    "Print the length of this new dataframe and how many experiments were discarded in the filtering process.\n",
    "\n",
    "1.5 For comparison, repeat the procedure described in **T1.4** with the `eyecatcher_id` column, i.e., create a dataframe considering only experiments that vary the image.\n",
    "Again, print the length of this new dataframe and how many experiments were discarded in the filtering process.\n",
    "\n",
    "1.6 **Discuss:** Considering the answers to questions **T1.4** and **T1.5**, what can we say about the different versions of the news tested by Upworthy?\n",
    "\n",
    "1.7 For our subsequent analysis, we want to compare the causal effect of headlines on the success of a news piece.\n",
    "For that, we can compare pairs of packages with the same `eyecatcher_id`, `lede`, and `excerpt`, but different `headlines`.\n",
    "Note that this means that if an experiment considered 5 different headlines and did not vary any other stimulus, we would have 5C2 (i.e., 5 choose 2, 10) pairs to consider.\n",
    "Create a dataset where:\n",
    "- each row corresponds to a pair of packages with different `headline` but the same `eyecatcher_id`, `lede`, and `excerpt`.\n",
    "- there are columns containing the headlines of each of the news versions (`headline1`, `headline2`) and the clickthrough rate of each of the news versions (`ctr1`, `ctr2`).\n",
    "- the columns `headline1` and `ctr1` contain the data associated with the news version with the highest clickthrough rate. Print the first rows of your newly created dataframe, as well as its length.\n",
    "-  the rows where the two news pieces had exactly the same clickthrough rate should be filtered out (this is for simplicity's sake).\n",
    "-  the column `date_created` contains the date when the news version with the highest clickthrough rate was created.\n",
    "\n",
    "1.8 To get a sense of the impact of headline change, measure the average difference per pair between the most clicked-through (`ctr1`) and the least clicked-through headline (`ctr2`), as well as the average clickthrough rate for the least clicked through headline (`ctr2`).\n",
    "\n",
    "1.9 **Discuss:** Considering your answer to **T1.8**, and assuming the average differences in clickthrough rates between pairs are statistically significant, do you think that headlines are impactful in the news business? Justify with the data."
   ],
   "metadata": {
    "cell_id": "1a8fb35f19cd427eb6fd27deefa8d503",
    "pycharm": {
     "name": "#%% md\n"
    },
    "collapsed": false,
    "deepnote_cell_type": "markdown"
   }
  },
  {
   "cell_type": "code",
   "source": [
    "# import the needed libraries\n",
    "import matplotlib.pyplot as plt\n",
    "import numpy as np\n",
    "import os\n",
    "import re\n",
    "import string\n",
    "import requests\n",
    "import seaborn as sns\n",
    "import pandas as pd\n",
    "from statsmodels.stats import diagnostic\n",
    "from scipy import stats\n",
    "%matplotlib inline"
   ],
   "metadata": {
    "cell_id": "ac71c9d5db8443a9bfb7ec0515ff2c4f",
    "pycharm": {
     "name": "#%%\n"
    },
    "collapsed": false,
    "source_hash": "4385064e",
    "execution_start": 1667064616608,
    "execution_millis": 1602,
    "deepnote_to_be_reexecuted": false,
    "deepnote_cell_type": "code"
   },
   "outputs": [],
   "execution_count": 1
  },
  {
   "cell_type": "code",
   "source": [
    "# for style of plots\n",
    "sns.set_context(\"notebook\")\n",
    "sns.set_palette(\"tab10\")\n",
    "sns.set_style(\"darkgrid\")"
   ],
   "metadata": {
    "cell_id": "ab00e0af502a4fc1b9ce9c1d69ccb6ff",
    "pycharm": {
     "name": "#%%\n"
    },
    "collapsed": false,
    "source_hash": "c0e90cb",
    "execution_start": 1667064618214,
    "execution_millis": 3,
    "deepnote_to_be_reexecuted": false,
    "deepnote_cell_type": "code"
   },
   "outputs": [],
   "execution_count": 2
  },
  {
   "cell_type": "markdown",
   "source": [
    "### 1.1 Load the data into memory using pandas and print the first lines to get a sense of it."
   ],
   "metadata": {
    "cell_id": "ea1003e66ebe4cca912890ad6e5b660f",
    "pycharm": {
     "name": "#%% md\n"
    },
    "collapsed": false,
    "deepnote_cell_type": "markdown"
   }
  },
  {
   "cell_type": "code",
   "source": [
    "# Load data\n",
    "data_path_root = './data/'\n",
    "data_path = os.path.join(data_path_root, 'upworthy.csv.gz')\n",
    "data = pd.read_csv(data_path, compression='gzip')\n",
    "data.head()"
   ],
   "metadata": {
    "cell_id": "9ad7cb9ebc78452eb79e48f628f4540a",
    "pycharm": {
     "name": "#%%\n"
    },
    "collapsed": false,
    "source_hash": "e5fa1172",
    "execution_start": 1667064618264,
    "execution_millis": 6185,
    "deepnote_to_be_reexecuted": false,
    "deepnote_cell_type": "code"
   },
   "outputs": [
    {
     "data": {
      "text/plain": "                created_at               updated_at      clickability_test_id  \\\n0  2014-11-20 06:43:16.005  2016-04-02 16:33:38.062  546d88fb84ad38b2ce000024   \n1  2014-11-20 06:54:36.335  2016-04-02 16:25:54.027  546d902c26714c6c44000039   \n2  2014-11-20 06:54:57.878  2016-04-02 16:31:45.671  546d902c26714c6c44000039   \n3  2014-11-20 06:55:07.212  2016-04-02 16:25:54.029  546d902c26714c6c44000039   \n4  2014-11-20 06:55:20.347  2016-04-02 16:25:54.032  546d902c26714c6c44000039   \n\n                            excerpt  \\\n0  Things that matter. Pass 'em on.   \n1  Things that matter. Pass 'em on.   \n2  Things that matter. Pass 'em on.   \n3  Things that matter. Pass 'em on.   \n4  Things that matter. Pass 'em on.   \n\n                                            headline  \\\n0  They're Being Called 'Walmart's Worst Nightmar...   \n1        This Is What Sexism Against Men Sounds Like   \n2        This Is What Sexism Against Men Sounds Like   \n3        This Is What Sexism Against Men Sounds Like   \n4        This Is What Sexism Against Men Sounds Like   \n\n                                                lede  \\\n0  <p>When I saw *why* people are calling them \"W...   \n1  <p>DISCLOSURE: I'm a dude. I have cried on mul...   \n2  <p>DISCLOSURE: I'm a dude. I have cried on mul...   \n3  <p>DISCLOSURE: I'm a dude. I have cried on mul...   \n4  <p>DISCLOSURE: I'm a dude. I have cried on mul...   \n\n                                                slug  \\\n0  theyre-being-called-walmarts-worst-nightmare-a...   \n1  this-is-what-sexism-against-men-sounds-like-am...   \n2  this-is-what-sexism-against-men-sounds-like-am...   \n3  this-is-what-sexism-against-men-sounds-like-am...   \n4  this-is-what-sexism-against-men-sounds-like-am...   \n\n              eyecatcher_id  impressions  clicks  significance  first_place  \\\n0  546d6fa19ad54eec8d00002d         3052     150         100.0         True   \n1  546bc55335992b86c8000043         3526      90           4.1        False   \n2  546d900426714cd2dd00002e         3506     120         100.0         True   \n3  546d900426714c6c44000038         3380      98          25.3        False   \n4  546d900426714c1ad900001e         3465      75           0.2        False   \n\n   winner                                         share_text square  test_week  \n0    True  Anyone who's ever felt guilty about shopping a...    NaN     201446  \n1   False  If you ever wondered, \"but what about the men?...    NaN     201446  \n2   False  If you ever wondered, \"but what about the men?...    NaN     201446  \n3   False  If you ever wondered, \"but what about the men?...    NaN     201446  \n4   False  If you ever wondered, \"but what about the men?...    NaN     201446  ",
      "text/html": "<div>\n<style scoped>\n    .dataframe tbody tr th:only-of-type {\n        vertical-align: middle;\n    }\n\n    .dataframe tbody tr th {\n        vertical-align: top;\n    }\n\n    .dataframe thead th {\n        text-align: right;\n    }\n</style>\n<table border=\"1\" class=\"dataframe\">\n  <thead>\n    <tr style=\"text-align: right;\">\n      <th></th>\n      <th>created_at</th>\n      <th>updated_at</th>\n      <th>clickability_test_id</th>\n      <th>excerpt</th>\n      <th>headline</th>\n      <th>lede</th>\n      <th>slug</th>\n      <th>eyecatcher_id</th>\n      <th>impressions</th>\n      <th>clicks</th>\n      <th>significance</th>\n      <th>first_place</th>\n      <th>winner</th>\n      <th>share_text</th>\n      <th>square</th>\n      <th>test_week</th>\n    </tr>\n  </thead>\n  <tbody>\n    <tr>\n      <th>0</th>\n      <td>2014-11-20 06:43:16.005</td>\n      <td>2016-04-02 16:33:38.062</td>\n      <td>546d88fb84ad38b2ce000024</td>\n      <td>Things that matter. Pass 'em on.</td>\n      <td>They're Being Called 'Walmart's Worst Nightmar...</td>\n      <td>&lt;p&gt;When I saw *why* people are calling them \"W...</td>\n      <td>theyre-being-called-walmarts-worst-nightmare-a...</td>\n      <td>546d6fa19ad54eec8d00002d</td>\n      <td>3052</td>\n      <td>150</td>\n      <td>100.0</td>\n      <td>True</td>\n      <td>True</td>\n      <td>Anyone who's ever felt guilty about shopping a...</td>\n      <td>NaN</td>\n      <td>201446</td>\n    </tr>\n    <tr>\n      <th>1</th>\n      <td>2014-11-20 06:54:36.335</td>\n      <td>2016-04-02 16:25:54.027</td>\n      <td>546d902c26714c6c44000039</td>\n      <td>Things that matter. Pass 'em on.</td>\n      <td>This Is What Sexism Against Men Sounds Like</td>\n      <td>&lt;p&gt;DISCLOSURE: I'm a dude. I have cried on mul...</td>\n      <td>this-is-what-sexism-against-men-sounds-like-am...</td>\n      <td>546bc55335992b86c8000043</td>\n      <td>3526</td>\n      <td>90</td>\n      <td>4.1</td>\n      <td>False</td>\n      <td>False</td>\n      <td>If you ever wondered, \"but what about the men?...</td>\n      <td>NaN</td>\n      <td>201446</td>\n    </tr>\n    <tr>\n      <th>2</th>\n      <td>2014-11-20 06:54:57.878</td>\n      <td>2016-04-02 16:31:45.671</td>\n      <td>546d902c26714c6c44000039</td>\n      <td>Things that matter. Pass 'em on.</td>\n      <td>This Is What Sexism Against Men Sounds Like</td>\n      <td>&lt;p&gt;DISCLOSURE: I'm a dude. I have cried on mul...</td>\n      <td>this-is-what-sexism-against-men-sounds-like-am...</td>\n      <td>546d900426714cd2dd00002e</td>\n      <td>3506</td>\n      <td>120</td>\n      <td>100.0</td>\n      <td>True</td>\n      <td>False</td>\n      <td>If you ever wondered, \"but what about the men?...</td>\n      <td>NaN</td>\n      <td>201446</td>\n    </tr>\n    <tr>\n      <th>3</th>\n      <td>2014-11-20 06:55:07.212</td>\n      <td>2016-04-02 16:25:54.029</td>\n      <td>546d902c26714c6c44000039</td>\n      <td>Things that matter. Pass 'em on.</td>\n      <td>This Is What Sexism Against Men Sounds Like</td>\n      <td>&lt;p&gt;DISCLOSURE: I'm a dude. I have cried on mul...</td>\n      <td>this-is-what-sexism-against-men-sounds-like-am...</td>\n      <td>546d900426714c6c44000038</td>\n      <td>3380</td>\n      <td>98</td>\n      <td>25.3</td>\n      <td>False</td>\n      <td>False</td>\n      <td>If you ever wondered, \"but what about the men?...</td>\n      <td>NaN</td>\n      <td>201446</td>\n    </tr>\n    <tr>\n      <th>4</th>\n      <td>2014-11-20 06:55:20.347</td>\n      <td>2016-04-02 16:25:54.032</td>\n      <td>546d902c26714c6c44000039</td>\n      <td>Things that matter. Pass 'em on.</td>\n      <td>This Is What Sexism Against Men Sounds Like</td>\n      <td>&lt;p&gt;DISCLOSURE: I'm a dude. I have cried on mul...</td>\n      <td>this-is-what-sexism-against-men-sounds-like-am...</td>\n      <td>546d900426714c1ad900001e</td>\n      <td>3465</td>\n      <td>75</td>\n      <td>0.2</td>\n      <td>False</td>\n      <td>False</td>\n      <td>If you ever wondered, \"but what about the men?...</td>\n      <td>NaN</td>\n      <td>201446</td>\n    </tr>\n  </tbody>\n</table>\n</div>"
     },
     "execution_count": 3,
     "metadata": {},
     "output_type": "execute_result"
    }
   ],
   "execution_count": 3
  },
  {
   "cell_type": "markdown",
   "source": [
    "### 1.2 Each experiment comparing different versions of the same news piece (“packages”) has a unique identifier (clickability_test_id column). Calculate how many different experiments were conducted in this dataset and, on average, how many packages were considered per experiment. Last, plot the distribution of packages per experiment with a visualization of your choice."
   ],
   "metadata": {
    "cell_id": "1c3748fa9faf4de9a81d01cc11909eac",
    "pycharm": {
     "name": "#%% md\n"
    },
    "collapsed": false,
    "deepnote_cell_type": "markdown"
   }
  },
  {
   "cell_type": "code",
   "source": [
    "# Get the number of unique experiments\n",
    "experiments = data['clickability_test_id'].drop_duplicates()\n",
    "num_of_experiments = len(experiments)\n",
    "print(f'There are {num_of_experiments} different experiments conducted in this data set.')\n",
    "\n",
    "# Get the size of packages\n",
    "num_of_packages = data.shape[0]\n",
    "avg_pkg_per_exp = num_of_packages / num_of_experiments\n",
    "print(f'On average {avg_pkg_per_exp} packages were considered per experiment.')"
   ],
   "metadata": {
    "cell_id": "415a642b1cd24266a1534f35e8208431",
    "pycharm": {
     "name": "#%%\n"
    },
    "collapsed": false,
    "source_hash": "af23e1a0",
    "execution_start": 1667064618543,
    "execution_millis": 5962,
    "deepnote_to_be_reexecuted": false,
    "deepnote_cell_type": "code"
   },
   "outputs": [
    {
     "name": "stdout",
     "output_type": "stream",
     "text": [
      "There are 4822 different experiments conducted in this data set.\n",
      "On average 4.2727084197428455 packages were considered per experiment.\n"
     ]
    }
   ],
   "execution_count": 4
  },
  {
   "cell_type": "markdown",
   "source": [
    "There are 4822 different experiments conducted in this data set.\n",
    "On average 4.2727084197428455 packages were considered per experiment.\n",
    "The visualization is at below:"
   ],
   "metadata": {
    "cell_id": "80799ab3bdbd445c9632a7fba17e4106",
    "pycharm": {
     "name": "#%% md\n"
    },
    "collapsed": false,
    "deepnote_cell_type": "markdown"
   }
  },
  {
   "cell_type": "code",
   "source": [
    "# figure of distribution of package experiment\n",
    "for_distribution = data.groupby('clickability_test_id').count()\n",
    "sns.histplot(data=for_distribution['created_at'], binwidth=1)\n",
    "plt.xlabel('packages per experiment')\n",
    "plt.title('Distribution of packages per experiment')"
   ],
   "metadata": {
    "cell_id": "2cfa3d101b8e484b96e31b2929eed9bd",
    "pycharm": {
     "name": "#%%\n"
    },
    "collapsed": false,
    "source_hash": "c4bd76dd",
    "execution_start": 1667064618552,
    "execution_millis": 6559,
    "deepnote_to_be_reexecuted": false,
    "deepnote_cell_type": "code"
   },
   "outputs": [
    {
     "data": {
      "text/plain": "Text(0.5, 1.0, 'Distribution of packages per experiment')"
     },
     "execution_count": 5,
     "metadata": {},
     "output_type": "execute_result"
    },
    {
     "data": {
      "text/plain": "<Figure size 432x288 with 1 Axes>",
      "image/png": "[encoded data removed]"
     },
     "metadata": {},
     "output_type": "display_data"
    }
   ],
   "execution_count": 5
  },
  {
   "cell_type": "markdown",
   "source": [
    "### 1.3 A common way to measure success in online A/B tests is what is called “the clickthrough rate.” Given that often A/B tests are created to find what engages users (here, “packages” of headlines, images, etc), we would expect that a “good” package makes people click often. Create a column named ctr by dividing the number of clicks a package received (clicks column) by the number of impressions it received (impressions column)."
   ],
   "metadata": {
    "cell_id": "9e9d2312fa904f158b16d96b233885dc",
    "pycharm": {
     "name": "#%% md\n"
    },
    "collapsed": false,
    "deepnote_cell_type": "markdown"
   }
  },
  {
   "cell_type": "code",
   "source": [
    "# Calculate the clickthrough\n",
    "data['ctr'] = data['clicks'] / data['impressions']\n",
    "print('The visualization is at below:')\n",
    "data[['clicks', 'impressions', 'ctr']].head()"
   ],
   "metadata": {
    "cell_id": "cd16339b47e64a35a59ae00211f2c153",
    "pycharm": {
     "name": "#%%\n"
    },
    "collapsed": false,
    "source_hash": "8d84156a",
    "execution_start": 1667064619157,
    "execution_millis": 6021,
    "deepnote_to_be_reexecuted": false,
    "deepnote_cell_type": "code"
   },
   "outputs": [
    {
     "name": "stdout",
     "output_type": "stream",
     "text": [
      "The visualization is at below:\n"
     ]
    },
    {
     "data": {
      "text/plain": "   clicks  impressions       ctr\n0     150         3052  0.049148\n1      90         3526  0.025525\n2     120         3506  0.034227\n3      98         3380  0.028994\n4      75         3465  0.021645",
      "text/html": "<div>\n<style scoped>\n    .dataframe tbody tr th:only-of-type {\n        vertical-align: middle;\n    }\n\n    .dataframe tbody tr th {\n        vertical-align: top;\n    }\n\n    .dataframe thead th {\n        text-align: right;\n    }\n</style>\n<table border=\"1\" class=\"dataframe\">\n  <thead>\n    <tr style=\"text-align: right;\">\n      <th></th>\n      <th>clicks</th>\n      <th>impressions</th>\n      <th>ctr</th>\n    </tr>\n  </thead>\n  <tbody>\n    <tr>\n      <th>0</th>\n      <td>150</td>\n      <td>3052</td>\n      <td>0.049148</td>\n    </tr>\n    <tr>\n      <th>1</th>\n      <td>90</td>\n      <td>3526</td>\n      <td>0.025525</td>\n    </tr>\n    <tr>\n      <th>2</th>\n      <td>120</td>\n      <td>3506</td>\n      <td>0.034227</td>\n    </tr>\n    <tr>\n      <th>3</th>\n      <td>98</td>\n      <td>3380</td>\n      <td>0.028994</td>\n    </tr>\n    <tr>\n      <th>4</th>\n      <td>75</td>\n      <td>3465</td>\n      <td>0.021645</td>\n    </tr>\n  </tbody>\n</table>\n</div>"
     },
     "execution_count": 6,
     "metadata": {},
     "output_type": "execute_result"
    }
   ],
   "execution_count": 6
  },
  {
   "cell_type": "markdown",
   "source": [
    "### 1.4 Packages varied any combination of the headline (headline column), the excerpt (excerpt), the first sentence of the article (lede), and the image that illustrates the news piece (eyecatcher_id, a hash per image). But we want to isolate the effect of the headline on the clickthrough rate. To do that, create a new dataframe where you filter all experiments where only one headline is present. Print the length of this new dataframe and how many experiments were discarded in the filtering process.\n",
    "\n",
    "- The length of this new dataframe is 2568.\n",
    "- 2236 experiments were discarded in the filtering process.\n"
   ],
   "metadata": {
    "cell_id": "dedb688ba8044a8791335ec48c217a62",
    "pycharm": {
     "name": "#%% md\n"
    },
    "collapsed": false,
    "deepnote_cell_type": "markdown"
   }
  },
  {
   "cell_type": "code",
   "source": [
    "# find the test with one headline\n",
    "one_headline = data.groupby('clickability_test_id').nunique()\n",
    "one_headline = pd.DataFrame(one_headline.to_records())\n",
    "one_headline_name = one_headline[one_headline['headline'] > 1]['clickability_test_id']\n",
    "\n",
    "# filter the tests with one head\n",
    "filter_one_headline = data.loc[data['clickability_test_id'].isin(one_headline_name)]\n",
    "num_of_experiments_one_headline = filter_one_headline.clickability_test_id.nunique()\n",
    "print(f'The length of this new dataframe is {num_of_experiments_one_headline}.')\n",
    "print(f'{num_of_experiments - num_of_experiments_one_headline} experiments were discarded in the filtering process.')"
   ],
   "metadata": {
    "cell_id": "d06fb502c03f42c1a3e727e678354149",
    "pycharm": {
     "name": "#%%\n"
    },
    "collapsed": false,
    "source_hash": "60fc68d8",
    "execution_start": 1667064619158,
    "execution_millis": 7121,
    "deepnote_to_be_reexecuted": false,
    "deepnote_cell_type": "code"
   },
   "outputs": [
    {
     "name": "stdout",
     "output_type": "stream",
     "text": [
      "The length of this new dataframe is 2586.\n",
      "2236 experiments were discarded in the filtering process.\n"
     ]
    }
   ],
   "execution_count": 7
  },
  {
   "cell_type": "markdown",
   "source": [
    "### 1.5 For comparison, repeat the procedure described in T1.4 with the eyecatcher_id column, i.e., create a dataframe considering only experiments that vary the image. Again, print the length of this new dataframe and how many experiments were discarded in the filtering process.\n",
    "- The length of this new dataframe is 3108.\n",
    "- 1714 experiments were discarded in the filtering process."
   ],
   "metadata": {
    "cell_id": "27b28c6e3f5d48bd921390e996491d98",
    "pycharm": {
     "name": "#%% md\n"
    },
    "collapsed": false,
    "deepnote_cell_type": "markdown"
   }
  },
  {
   "cell_type": "code",
   "source": [
    "# find the test with one eyecatcher\n",
    "one_image = data.groupby('clickability_test_id').nunique()\n",
    "one_image = pd.DataFrame(one_image.to_records())\n",
    "one_image_name = one_image[one_image['eyecatcher_id'] > 1]['clickability_test_id']\n",
    "\n",
    "# filter the tests with one eyecatcher\n",
    "filter_one_image = data.loc[data['clickability_test_id'].isin(one_image_name)]\n",
    "num_of_experiments_one_image = filter_one_image.clickability_test_id.nunique()\n",
    "print(f'The length of this new dataframe is {num_of_experiments_one_image}.')\n",
    "print(f'{num_of_experiments - num_of_experiments_one_image} experiments were discarded in the filtering process.')"
   ],
   "metadata": {
    "cell_id": "3569ef87b8464a0bb95bc23f2831baa5",
    "pycharm": {
     "name": "#%%\n"
    },
    "collapsed": false,
    "source_hash": "30779f34",
    "execution_start": 1667064619296,
    "execution_millis": 7428,
    "deepnote_to_be_reexecuted": false,
    "deepnote_cell_type": "code"
   },
   "outputs": [
    {
     "name": "stdout",
     "output_type": "stream",
     "text": [
      "The length of this new dataframe is 1714.\n",
      "3108 experiments were discarded in the filtering process.\n"
     ]
    }
   ],
   "execution_count": 8
  },
  {
   "cell_type": "markdown",
   "source": [
    "### 1.6 Discuss: Considering the answers to questions T1.4 and T1.4, what can we say about the different versions of the news tested by Upworthy?\n",
    "\n",
    "**Answer:** There have been roughly equal numbers of experiments with one headline and one image—2586 and 3106, respectively. If we want to experiment on the headline, we should toss out 2236 useless experiments, and if we want to experiment on the image, we should toss out 3108 useless experiments."
   ],
   "metadata": {
    "cell_id": "2ba11a28a14d495eb486d858b80cc325",
    "pycharm": {
     "name": "#%% md\n"
    },
    "collapsed": false,
    "deepnote_cell_type": "markdown"
   }
  },
  {
   "cell_type": "markdown",
   "source": [
    "### 1.7 For our subsequent analysis, we want to compare the causal effect of headlines on the success of a news piece.\n",
    "For that, we can compare pairs of packages with the same `eyecatcher_id`, `lede`, and `excerpt`, but different `headlines`.\n",
    "Note that this means that if an experiment considered 5 different headlines and did not vary any other stimulus, we would have 5C2 (i.e., 5 choose 2, 10) pairs to consider.\n",
    "Create a dataset where:\n",
    "- each row corresponds to a pair of packages with different `headline` but the same `eyecatcher_id`, `lede`, and `excerpt`.\n",
    "- there are columns containing the headlines of each of the news versions (`headline1`, `headline2`) and the clickthrough rate of each of the news versions (`ctr1`, `ctr2`).\n",
    "- the columns `headline1` and `ctr1` contain the data associated with the news version with the highest clickthrough rate. Print the first rows of your newly created dataframe, as well as its length.\n",
    "-  the rows where the two news pieces had exactly the same clickthrough rate should be filtered out (this is for simplicity's sake).\n",
    "-  the column `date_created` contains the date when the news version with the highest clickthrough rate was created."
   ],
   "metadata": {
    "cell_id": "08feae1485e14d6cb21977b51efbbe2f",
    "pycharm": {
     "name": "#%% md\n"
    },
    "collapsed": false,
    "deepnote_cell_type": "markdown"
   }
  },
  {
   "cell_type": "code",
   "source": [
    "data_ = data.copy()\n",
    "# to prevent only 1 headline\n",
    "data_= data_.groupby('clickability_test_id').filter(lambda x: x['headline'].count()>1)\n",
    "data_same_id_lede_diff_headline1 = data_[['clickability_test_id', 'eyecatcher_id','lede','excerpt','headline','ctr','created_at']]\n",
    "data_same_id_lede_diff_headline1 = data_same_id_lede_diff_headline1.set_index(['clickability_test_id', 'eyecatcher_id','lede','excerpt']).sort_index()\n",
    "data_same_id_lede_diff_headline2 = data_[['clickability_test_id', 'eyecatcher_id','lede','excerpt','headline','ctr','created_at']]\n",
    "data_same_id_lede_diff_headline2 = data_same_id_lede_diff_headline2.set_index(['clickability_test_id', 'eyecatcher_id','lede','excerpt',]).sort_index()\n",
    "data_same_id_lede_diff_headline1.rename(columns={'headline':'headline1', 'ctr':'ctr1','created_at':'date_created'}, inplace=True)\n",
    "data_same_id_lede_diff_headline2.rename(columns={'headline':'headline2', 'ctr':'ctr2','created_at':'date_created'}, inplace=True)\n",
    "# merge the two almost same dataframe to get the new dataset\n",
    "new_dataset = pd.merge(data_same_id_lede_diff_headline1, data_same_id_lede_diff_headline2, left_index=True, right_index=True)\n",
    "mask = new_dataset['headline1'] == new_dataset['headline2']\n",
    "# delete meaningless lines\n",
    "new_dataset = new_dataset[~mask]\n",
    "# since every pair will appear twice we will just delete the lines that ctr1 < ctr2\n",
    "mask2 = new_dataset['ctr2'] >= new_dataset['ctr1']\n",
    "new_dataset = new_dataset[~mask2]\n",
    "# drop duplicate\n",
    "new_dataset.drop_duplicates(inplace=True)\n",
    "new_dataset.rename(columns={'date_created_x': 'date_created'}, inplace=True)\n",
    "new_dataset = new_dataset.drop(columns='date_created_y', axis=1)\n",
    "print(f'The length of this new dataset is {len(new_dataset)}.')\n",
    "\n",
    "new_dataset.head(100)\n"
   ],
   "metadata": {
    "cell_id": "3b7845358c47492bace071685002045d",
    "pycharm": {
     "name": "#%%\n"
    },
    "collapsed": false,
    "source_hash": "1cf2e29a",
    "execution_start": 1667064619359,
    "execution_millis": 9267,
    "deepnote_to_be_reexecuted": false,
    "deepnote_cell_type": "code"
   },
   "outputs": [
    {
     "name": "stdout",
     "output_type": "stream",
     "text": [
      "The length of this new dataset is 17727.\n"
     ]
    },
    {
     "data": {
      "text/plain": "                                                                                                                                                                                                 headline1  \\\nclickability_test_id     eyecatcher_id            lede                                               excerpt                                                                                                 \n51436069220cb800020005bd 5332ba141fae79f09f002c47 <p>The President made a lot of promises, and he... You have so much potential. Why are you wasting...  Mr. President, I'm Not Mad. I'm Just Disappoin...   \n5143606a220cb800020005c6 5332ba211fae79f09f002dcf <p>If you think Fawzia Koofi is crazy for wanti... You don't want to miss this incredible story.       MAD RESPECT: This Brave Woman Is Running For P...   \n                                                                                                     You don't want to miss this incredible story.       If You Think Hillary Had A Rough Campaign, You...   \n                                                                                                     You don't want to miss this incredible story.       If You Think Hillary Had A Rough Campaign, You...   \n5143606b220cb800020005d7 5332ba581fae79f09f003326 <p><p>Sean Hannity thinks all women should have... Science can be confusing if you don't believe i...  Sean Hannity Thinks Telling Men Not To Attack ...   \n...                                                                                                                                                                                                    ...   \n5143608a220cb800020009c0 5332ba631fae79f09f0033f7 <p>You won't <b>believe</b> what happened to th... Jasmine's gonna need more than 3 wishes to get ...  Politically Correct Alternate Endings To Princ...   \n                                                                                                     Jasmine's gonna need more than 3 wishes to get ...  Politically Correct Alternate Endings To Princ...   \n                                                                                                     Jasmine's gonna need more than 3 wishes to get ...  LOL: Politically Correct Alternate Endings To ...   \n                                                                                                     Jasmine's gonna need more than 3 wishes to get ...  LOL: Politically Correct Alternate Endings To ...   \n                                                                                                     Jasmine's gonna need more than 3 wishes to get ...  The Disturbing True Story Of What Happens In D...   \n\n                                                                                                                                                             ctr1  \\\nclickability_test_id     eyecatcher_id            lede                                               excerpt                                                        \n51436069220cb800020005bd 5332ba141fae79f09f002c47 <p>The President made a lot of promises, and he... You have so much potential. Why are you wasting...  0.019770   \n5143606a220cb800020005c6 5332ba211fae79f09f002dcf <p>If you think Fawzia Koofi is crazy for wanti... You don't want to miss this incredible story.       0.011216   \n                                                                                                     You don't want to miss this incredible story.       0.012807   \n                                                                                                     You don't want to miss this incredible story.       0.012807   \n5143606b220cb800020005d7 5332ba581fae79f09f003326 <p><p>Sean Hannity thinks all women should have... Science can be confusing if you don't believe i...  0.013675   \n...                                                                                                                                                           ...   \n5143608a220cb800020009c0 5332ba631fae79f09f0033f7 <p>You won't <b>believe</b> what happened to th... Jasmine's gonna need more than 3 wishes to get ...  0.021062   \n                                                                                                     Jasmine's gonna need more than 3 wishes to get ...  0.021062   \n                                                                                                     Jasmine's gonna need more than 3 wishes to get ...  0.018564   \n                                                                                                     Jasmine's gonna need more than 3 wishes to get ...  0.018564   \n                                                                                                     Jasmine's gonna need more than 3 wishes to get ...  0.016571   \n\n                                                                                                                                                                date_created  \\\nclickability_test_id     eyecatcher_id            lede                                               excerpt                                                                   \n51436069220cb800020005bd 5332ba141fae79f09f002c47 <p>The President made a lot of promises, and he... You have so much potential. Why are you wasting...  2013-02-07 05:42:25   \n5143606a220cb800020005c6 5332ba211fae79f09f002dcf <p>If you think Fawzia Koofi is crazy for wanti... You don't want to miss this incredible story.       2013-02-19 19:05:45   \n                                                                                                     You don't want to miss this incredible story.       2013-02-19 19:03:39   \n                                                                                                     You don't want to miss this incredible story.       2013-02-19 19:03:39   \n5143606b220cb800020005d7 5332ba581fae79f09f003326 <p><p>Sean Hannity thinks all women should have... Science can be confusing if you don't believe i...  2013-03-09 06:55:39   \n...                                                                                                                                                                      ...   \n5143608a220cb800020009c0 5332ba631fae79f09f0033f7 <p>You won't <b>believe</b> what happened to th... Jasmine's gonna need more than 3 wishes to get ...  2013-03-14 20:35:36   \n                                                                                                     Jasmine's gonna need more than 3 wishes to get ...  2013-03-14 20:35:36   \n                                                                                                     Jasmine's gonna need more than 3 wishes to get ...  2013-03-14 20:36:15   \n                                                                                                     Jasmine's gonna need more than 3 wishes to get ...  2013-03-14 20:36:15   \n                                                                                                     Jasmine's gonna need more than 3 wishes to get ...  2013-03-14 20:37:56   \n\n                                                                                                                                                                                                 headline2  \\\nclickability_test_id     eyecatcher_id            lede                                               excerpt                                                                                                 \n51436069220cb800020005bd 5332ba141fae79f09f002c47 <p>The President made a lot of promises, and he... You have so much potential. Why are you wasting...  Mr. President, I'm Not Mad. I'm Just Disappoin...   \n5143606a220cb800020005c6 5332ba211fae79f09f002dcf <p>If you think Fawzia Koofi is crazy for wanti... You don't want to miss this incredible story.       This Brave Woman Is Running For President Of A...   \n                                                                                                     You don't want to miss this incredible story.       MAD RESPECT: This Brave Woman Is Running For P...   \n                                                                                                     You don't want to miss this incredible story.       This Brave Woman Is Running For President Of A...   \n5143606b220cb800020005d7 5332ba581fae79f09f003326 <p><p>Sean Hannity thinks all women should have... Science can be confusing if you don't believe i...  Sean Hannity Thinks Its Waaaaay Too Hard To Te...   \n...                                                                                                                                                                                                    ...   \n5143608a220cb800020009c0 5332ba631fae79f09f0033f7 <p>You won't <b>believe</b> what happened to th... Jasmine's gonna need more than 3 wishes to get ...  The Disturbing True Story Of What Happens In D...   \n                                                                                                     Jasmine's gonna need more than 3 wishes to get ...  Disney Movies Tend To End In Lies. Here's What...   \n                                                                                                     Jasmine's gonna need more than 3 wishes to get ...  The Disturbing True Story Of What Happens In D...   \n                                                                                                     Jasmine's gonna need more than 3 wishes to get ...  Disney Movies Tend To End In Lies. Here's What...   \n                                                                                                     Jasmine's gonna need more than 3 wishes to get ...  Disney Movies Tend To End In Lies. Here's What...   \n\n                                                                                                                                                             ctr2  \nclickability_test_id     eyecatcher_id            lede                                               excerpt                                                       \n51436069220cb800020005bd 5332ba141fae79f09f002c47 <p>The President made a lot of promises, and he... You have so much potential. Why are you wasting...  0.016595  \n5143606a220cb800020005c6 5332ba211fae79f09f002dcf <p>If you think Fawzia Koofi is crazy for wanti... You don't want to miss this incredible story.       0.009410  \n                                                                                                     You don't want to miss this incredible story.       0.011216  \n                                                                                                     You don't want to miss this incredible story.       0.009410  \n5143606b220cb800020005d7 5332ba581fae79f09f003326 <p><p>Sean Hannity thinks all women should have... Science can be confusing if you don't believe i...  0.013050  \n...                                                                                                                                                           ...  \n5143608a220cb800020009c0 5332ba631fae79f09f0033f7 <p>You won't <b>believe</b> what happened to th... Jasmine's gonna need more than 3 wishes to get ...  0.016571  \n                                                                                                     Jasmine's gonna need more than 3 wishes to get ...  0.012496  \n                                                                                                     Jasmine's gonna need more than 3 wishes to get ...  0.016571  \n                                                                                                     Jasmine's gonna need more than 3 wishes to get ...  0.012496  \n                                                                                                     Jasmine's gonna need more than 3 wishes to get ...  0.012496  \n\n[100 rows x 5 columns]",
      "text/html": "<div>\n<style scoped>\n    .dataframe tbody tr th:only-of-type {\n        vertical-align: middle;\n    }\n\n    .dataframe tbody tr th {\n        vertical-align: top;\n    }\n\n    .dataframe thead th {\n        text-align: right;\n    }\n</style>\n<table border=\"1\" class=\"dataframe\">\n  <thead>\n    <tr style=\"text-align: right;\">\n      <th></th>\n      <th></th>\n      <th></th>\n      <th></th>\n      <th>headline1</th>\n      <th>ctr1</th>\n      <th>date_created</th>\n      <th>headline2</th>\n      <th>ctr2</th>\n    </tr>\n    <tr>\n      <th>clickability_test_id</th>\n      <th>eyecatcher_id</th>\n      <th>lede</th>\n      <th>excerpt</th>\n      <th></th>\n      <th></th>\n      <th></th>\n      <th></th>\n      <th></th>\n    </tr>\n  </thead>\n  <tbody>\n    <tr>\n      <th>51436069220cb800020005bd</th>\n      <th>5332ba141fae79f09f002c47</th>\n      <th>&lt;p&gt;The President made a lot of promises, and he took a lot of action on many of them. Not all of them, though. Somewhere along the way he seems to have gotten distracted. We should probably get to the bottom of that.&lt;br&gt;&lt;/p&gt;</th>\n      <th>You have so much potential. Why are you wasting it?</th>\n      <td>Mr. President, I'm Not Mad. I'm Just Disappoin...</td>\n      <td>0.019770</td>\n      <td>2013-02-07 05:42:25</td>\n      <td>Mr. President, I'm Not Mad. I'm Just Disappoin...</td>\n      <td>0.016595</td>\n    </tr>\n    <tr>\n      <th rowspan=\"3\" valign=\"top\">5143606a220cb800020005c6</th>\n      <th rowspan=\"3\" valign=\"top\">5332ba211fae79f09f002dcf</th>\n      <th rowspan=\"3\" valign=\"top\">&lt;p&gt;If you think Fawzia Koofi is crazy for wanting to be president of Afghanistan (yes, Afghanistan), you won't after listening to her incredible story (especially how many times she's almost died and/or been killed). She's a fierce lady who knows &lt;i&gt;exactly&lt;/i&gt; what she's doing. What an inspiration.&lt;/p&gt;\\n</th>\n      <th>You don't want to miss this incredible story.</th>\n      <td>MAD RESPECT: This Brave Woman Is Running For P...</td>\n      <td>0.011216</td>\n      <td>2013-02-19 19:05:45</td>\n      <td>This Brave Woman Is Running For President Of A...</td>\n      <td>0.009410</td>\n    </tr>\n    <tr>\n      <th>You don't want to miss this incredible story.</th>\n      <td>If You Think Hillary Had A Rough Campaign, You...</td>\n      <td>0.012807</td>\n      <td>2013-02-19 19:03:39</td>\n      <td>MAD RESPECT: This Brave Woman Is Running For P...</td>\n      <td>0.011216</td>\n    </tr>\n    <tr>\n      <th>You don't want to miss this incredible story.</th>\n      <td>If You Think Hillary Had A Rough Campaign, You...</td>\n      <td>0.012807</td>\n      <td>2013-02-19 19:03:39</td>\n      <td>This Brave Woman Is Running For President Of A...</td>\n      <td>0.009410</td>\n    </tr>\n    <tr>\n      <th>5143606b220cb800020005d7</th>\n      <th>5332ba581fae79f09f003326</th>\n      <th>&lt;p&gt;&lt;p&gt;Sean Hannity thinks all women should have the right to choose... to be armed. Zerlina Maxwell didn't disagree, yet she went on a 3 minute campaign suggesting that perhaps instead of arming victims, we take another more obvious route, like, I dunno,&lt;b&gt; teaching men not to rape&lt;/b&gt;, since that seems to work really well. Seriously, it works &lt;a href=\"http://upwr.me/ZnDHAP\"&gt;REALLY WELL&lt;/a&gt;.&lt;/p&gt;&lt;p&gt;He thought ignoring her would be the best way not to hear that. And &lt;a href=\"http://upwr.me/Xx5sKO\" target=\"_blank\"&gt;now his fans are threatening her&lt;/a&gt;.&lt;/p&gt;&lt;br&gt;&lt;/p&gt;</th>\n      <th>Science can be confusing if you don't believe in it.</th>\n      <td>Sean Hannity Thinks Telling Men Not To Attack ...</td>\n      <td>0.013675</td>\n      <td>2013-03-09 06:55:39</td>\n      <td>Sean Hannity Thinks Its Waaaaay Too Hard To Te...</td>\n      <td>0.013050</td>\n    </tr>\n    <tr>\n      <th>...</th>\n      <th>...</th>\n      <th>...</th>\n      <th>...</th>\n      <td>...</td>\n      <td>...</td>\n      <td>...</td>\n      <td>...</td>\n      <td>...</td>\n    </tr>\n    <tr>\n      <th rowspan=\"5\" valign=\"top\">5143608a220cb800020009c0</th>\n      <th rowspan=\"5\" valign=\"top\">5332ba631fae79f09f0033f7</th>\n      <th rowspan=\"5\" valign=\"top\">&lt;p&gt;You won't &lt;b&gt;believe&lt;/b&gt; what happened to the Little Mermaid last week. And Jasmine? She's gonna need more than three wishes to get out of &lt;b&gt;that&lt;/b&gt; mess. &lt;/p&gt;&lt;p&gt;Me? I'm just going to sit here and watch this on repeat until my body shrivels up due to lack of moisture because this makes me laugh so hard I cry. &lt;/p&gt;\\n</th>\n      <th>Jasmine's gonna need more than 3 wishes to get out of THAT mess.</th>\n      <td>Politically Correct Alternate Endings To Princ...</td>\n      <td>0.021062</td>\n      <td>2013-03-14 20:35:36</td>\n      <td>The Disturbing True Story Of What Happens In D...</td>\n      <td>0.016571</td>\n    </tr>\n    <tr>\n      <th>Jasmine's gonna need more than 3 wishes to get out of THAT mess.</th>\n      <td>Politically Correct Alternate Endings To Princ...</td>\n      <td>0.021062</td>\n      <td>2013-03-14 20:35:36</td>\n      <td>Disney Movies Tend To End In Lies. Here's What...</td>\n      <td>0.012496</td>\n    </tr>\n    <tr>\n      <th>Jasmine's gonna need more than 3 wishes to get out of THAT mess.</th>\n      <td>LOL: Politically Correct Alternate Endings To ...</td>\n      <td>0.018564</td>\n      <td>2013-03-14 20:36:15</td>\n      <td>The Disturbing True Story Of What Happens In D...</td>\n      <td>0.016571</td>\n    </tr>\n    <tr>\n      <th>Jasmine's gonna need more than 3 wishes to get out of THAT mess.</th>\n      <td>LOL: Politically Correct Alternate Endings To ...</td>\n      <td>0.018564</td>\n      <td>2013-03-14 20:36:15</td>\n      <td>Disney Movies Tend To End In Lies. Here's What...</td>\n      <td>0.012496</td>\n    </tr>\n    <tr>\n      <th>Jasmine's gonna need more than 3 wishes to get out of THAT mess.</th>\n      <td>The Disturbing True Story Of What Happens In D...</td>\n      <td>0.016571</td>\n      <td>2013-03-14 20:37:56</td>\n      <td>Disney Movies Tend To End In Lies. Here's What...</td>\n      <td>0.012496</td>\n    </tr>\n  </tbody>\n</table>\n<p>100 rows × 5 columns</p>\n</div>"
     },
     "execution_count": 9,
     "metadata": {},
     "output_type": "execute_result"
    }
   ],
   "execution_count": 9
  },
  {
   "cell_type": "markdown",
   "source": [
    "The length is 17727"
   ],
   "metadata": {
    "cell_id": "da8976d4ab714d599f03c31ffbc1a1d8",
    "pycharm": {
     "name": "#%% md\n"
    },
    "collapsed": false,
    "deepnote_cell_type": "markdown"
   }
  },
  {
   "cell_type": "markdown",
   "source": [
    "### 1.8 To get a sense of the impact of headline change, measure the average difference per pair between the most clicked-through (ctr1) and the least clicked-through headline (ctr2), as well as the average clickthrough rate for the least clicked through headline (ctr2)."
   ],
   "metadata": {
    "cell_id": "8b87c9ca50c84d5c9cba0f15162960c1",
    "pycharm": {
     "name": "#%% md\n"
    },
    "collapsed": false,
    "deepnote_cell_type": "markdown"
   }
  },
  {
   "cell_type": "code",
   "source": [
    "avg_diff_per_pair = (new_dataset['ctr1'].values - new_dataset['ctr2'].values).mean()\n",
    "avg_ctr2 = new_dataset['ctr2'].values.mean()\n",
    "print(f'The average difference per pair between the most clicked-through (ctr1) and the least clicked-through headline (ctr2) is {avg_diff_per_pair}.\\nThe average clicked-through rate for the least clicked through headline (ctr2) is {avg_ctr2}.')"
   ],
   "metadata": {
    "cell_id": "8ab458f2305e49478da3bf12a276e4b7",
    "pycharm": {
     "name": "#%%\n"
    },
    "collapsed": false,
    "source_hash": "27cf7348",
    "execution_start": 1667064620471,
    "execution_millis": 8156,
    "deepnote_to_be_reexecuted": false,
    "deepnote_cell_type": "code"
   },
   "outputs": [
    {
     "name": "stdout",
     "output_type": "stream",
     "text": [
      "The average difference per pair between the most clicked-through (ctr1) and the least clicked-through headline (ctr2) is 0.004116426877032496.\n",
      "The average clicked-through rate for the least clicked through headline (ctr2) is 0.010691857228802414.\n"
     ]
    }
   ],
   "execution_count": 10
  },
  {
   "cell_type": "markdown",
   "source": [
    "### 1.9 Discuss: Considering your answer to T1.8, and assuming the average differences in clickthrough rates between pairs are statistically significant, do you think that headlines are impactful in the news business? Justify with the data."
   ],
   "metadata": {
    "cell_id": "5aada142836d480f83efcd59d3d88353",
    "pycharm": {
     "name": "#%% md\n"
    },
    "collapsed": false,
    "deepnote_cell_type": "markdown"
   }
  },
  {
   "cell_type": "markdown",
   "source": [
    "**Answer:** I do believe that in the news business, headlines have an impact. The average clicked-through for the least clicked (ctr2) is only 0.010691857228802414, but there is an average improvement between ctr1 and ctr of 0.004116426877032496. Since a strong headline typically increased the clicked-through rate for the same news by 40%, this is a significant amount of traffic."
   ],
   "metadata": {
    "cell_id": "5e8b7f22e9c143b7af6b57dec4b1be65",
    "pycharm": {
     "name": "#%% md\n"
    },
    "collapsed": false,
    "deepnote_cell_type": "markdown"
   }
  },
  {
   "cell_type": "markdown",
   "source": [
    "## Task 2: Extracting signals from the data\n",
    "\n",
    "Your second task is to extract meaningful signals from the data.\n",
    "We start this task from the dataset obtained in **T1.7**.\n",
    "Recall that we have one A/B test per row with the clickthrough rate of two news pieces that differ only in their headline.\n",
    "We refer to the version with the higher clickthrough rate as the \"winner\" and the version with the lower as the \"loser.\"\n",
    "(Note that this is not the same as the column `winner` in the original data, which captures a similar concept but considering the original experiments, where multiple comparisons were made!)\n",
    "\n",
    "2.1 Using the function provided below, count the number of words in each headline, creating columns `numwords1` and `numwords2` corresponding to the number of words in the winner and loser headlines.\n",
    "\n",
    "2.2 Using the dictionary of pronouns provided below, create indicator variables corresponding to each set of pronouns (e.g., first-person singular may yield columns `first_person_singular1` and `first_person_singular2` for the headlines in each A/B test).\n",
    "Each indicator variable in the dataframe should equal 1 if the corresponding headline uses the corresponding type of pronoun and 0 otherwise.\n",
    "Your code should be agnostic to lower/upper case.\n",
    "\n",
    "2.3 One easy way to classify sentiment is simply to match negative or positive words.\n",
    "Use the linked lists of words ([positive][1], [negative][2]) to obtain \"positive sentiment\" and \"negative sentiment\" scores for each headline. Create columns `positive1`/`positive2` and `negative1`/`negative2` containing indicator variables for positive and negative sentiment, i.e., A headline has a \"positive sentiment\" (or negative) score equal 1 if it contains at least one positive (or negative) sentiment word on the list. Otherwise, its \"positive sentiment\" (or negative) score equals 0.\n",
    "\n",
    "[1]: https://ptrckprry.com/course/ssd/data/positive-words.txt\n",
    "[2]: https://ptrckprry.com/course/ssd/data/negative-words.txt\n",
    "\n",
    "---\n",
    "\n",
    "**Comments**\n",
    "\n",
    "- For **T2.3**, beware of encodings!"
   ],
   "metadata": {
    "cell_id": "d4b3d64d5a9541ee979bd4a338ba8757",
    "pycharm": {
     "name": "#%% md\n"
    },
    "collapsed": false,
    "deepnote_cell_type": "markdown"
   }
  },
  {
   "cell_type": "markdown",
   "source": [
    "### 2.1 Using the function provided below, count the number of words in each headline, creating columns numwords1 and numwords2 corresponding to the number of words in the winner and loser headlines."
   ],
   "metadata": {
    "cell_id": "f0b13849608c479584c00accda5ca6c4",
    "pycharm": {
     "name": "#%% md\n"
    },
    "collapsed": false,
    "deepnote_cell_type": "markdown"
   }
  },
  {
   "cell_type": "code",
   "source": [
    "# 2.1 (provided code)\n",
    "def count_words_simple(x):\n",
    "    return len(x.split(\" \"))\n",
    "str_test = \"How many words are here?\"\n",
    "print(str_test, count_words_simple(str_test))\n"
   ],
   "metadata": {
    "cell_id": "29465c7f3a2849bc87126a224b200def",
    "pycharm": {
     "name": "#%%\n"
    },
    "collapsed": false,
    "source_hash": "7d301031",
    "execution_start": 1667064620480,
    "execution_millis": 8148,
    "deepnote_to_be_reexecuted": false,
    "deepnote_cell_type": "code"
   },
   "outputs": [
    {
     "name": "stdout",
     "output_type": "stream",
     "text": [
      "How many words are here? 5\n"
     ]
    }
   ],
   "execution_count": 11
  },
  {
   "cell_type": "code",
   "source": [
    "# initialization\n",
    "new_dataset['numwords1'] = [count_words_simple(x) for x in new_dataset['headline1']]\n",
    "new_dataset['numwords2'] = [count_words_simple(x) for x in new_dataset['headline2']]\n",
    "new_dataset = new_dataset[['headline1', 'ctr1', 'date_created', 'numwords1', 'headline2', 'ctr2', 'numwords2']]\n",
    "new_dataset.head(10)"
   ],
   "metadata": {
    "cell_id": "baee0cdf22c1455cb7f5bfc21e089782",
    "pycharm": {
     "name": "#%%\n"
    },
    "collapsed": false,
    "source_hash": "919f394a",
    "execution_start": 1667064620565,
    "execution_millis": 8086,
    "deepnote_to_be_reexecuted": false,
    "deepnote_cell_type": "code"
   },
   "outputs": [
    {
     "data": {
      "text/plain": "                                                                                                                                                                                                 headline1  \\\nclickability_test_id     eyecatcher_id            lede                                               excerpt                                                                                                 \n51436069220cb800020005bd 5332ba141fae79f09f002c47 <p>The President made a lot of promises, and he... You have so much potential. Why are you wasting...  Mr. President, I'm Not Mad. I'm Just Disappoin...   \n5143606a220cb800020005c6 5332ba211fae79f09f002dcf <p>If you think Fawzia Koofi is crazy for wanti... You don't want to miss this incredible story.       MAD RESPECT: This Brave Woman Is Running For P...   \n                                                                                                     You don't want to miss this incredible story.       If You Think Hillary Had A Rough Campaign, You...   \n                                                                                                     You don't want to miss this incredible story.       If You Think Hillary Had A Rough Campaign, You...   \n5143606b220cb800020005d7 5332ba581fae79f09f003326 <p><p>Sean Hannity thinks all women should have... Science can be confusing if you don't believe i...  Sean Hannity Thinks Telling Men Not To Attack ...   \n                                                                                                     Science can be confusing if you don't believe i...  Feminist Confuses Fox News Host By Suggesting ...   \n                                                                                                     Science can be confusing if you don't believe i...  Feminist Confuses Fox News Host By Suggesting ...   \n5143606e220cb800020006ba 5332b5951fae79f09f000632 Kate Makkai answers a question she's had since ... This woman answers a question she's had since s...  Now For Sale: Daughters, $10,000 Each (If They...   \n                                                                                                     This woman answers a question she's had since s...  Why Doesn't This Woman Want Her Daughter To Be...   \n                                                                                                     This woman answers a question she's had since s...  Why Doesn't This Woman Want Her Daughter To Be...   \n\n                                                                                                                                                             ctr1  \\\nclickability_test_id     eyecatcher_id            lede                                               excerpt                                                        \n51436069220cb800020005bd 5332ba141fae79f09f002c47 <p>The President made a lot of promises, and he... You have so much potential. Why are you wasting...  0.019770   \n5143606a220cb800020005c6 5332ba211fae79f09f002dcf <p>If you think Fawzia Koofi is crazy for wanti... You don't want to miss this incredible story.       0.011216   \n                                                                                                     You don't want to miss this incredible story.       0.012807   \n                                                                                                     You don't want to miss this incredible story.       0.012807   \n5143606b220cb800020005d7 5332ba581fae79f09f003326 <p><p>Sean Hannity thinks all women should have... Science can be confusing if you don't believe i...  0.013675   \n                                                                                                     Science can be confusing if you don't believe i...  0.024444   \n                                                                                                     Science can be confusing if you don't believe i...  0.024444   \n5143606e220cb800020006ba 5332b5951fae79f09f000632 Kate Makkai answers a question she's had since ... This woman answers a question she's had since s...  0.034099   \n                                                                                                     This woman answers a question she's had since s...  0.034483   \n                                                                                                     This woman answers a question she's had since s...  0.034483   \n\n                                                                                                                                                                date_created  \\\nclickability_test_id     eyecatcher_id            lede                                               excerpt                                                                   \n51436069220cb800020005bd 5332ba141fae79f09f002c47 <p>The President made a lot of promises, and he... You have so much potential. Why are you wasting...  2013-02-07 05:42:25   \n5143606a220cb800020005c6 5332ba211fae79f09f002dcf <p>If you think Fawzia Koofi is crazy for wanti... You don't want to miss this incredible story.       2013-02-19 19:05:45   \n                                                                                                     You don't want to miss this incredible story.       2013-02-19 19:03:39   \n                                                                                                     You don't want to miss this incredible story.       2013-02-19 19:03:39   \n5143606b220cb800020005d7 5332ba581fae79f09f003326 <p><p>Sean Hannity thinks all women should have... Science can be confusing if you don't believe i...  2013-03-09 06:55:39   \n                                                                                                     Science can be confusing if you don't believe i...  2013-03-09 06:59:29   \n                                                                                                     Science can be confusing if you don't believe i...  2013-03-09 06:59:29   \n5143606e220cb800020006ba 5332b5951fae79f09f000632 Kate Makkai answers a question she's had since ... This woman answers a question she's had since s...  2013-03-26 01:52:11   \n                                                                                                     This woman answers a question she's had since s...  2013-03-26 01:52:31   \n                                                                                                     This woman answers a question she's had since s...  2013-03-26 01:52:31   \n\n                                                                                                                                                         numwords1  \\\nclickability_test_id     eyecatcher_id            lede                                               excerpt                                                         \n51436069220cb800020005bd 5332ba141fae79f09f002c47 <p>The President made a lot of promises, and he... You have so much potential. Why are you wasting...          9   \n5143606a220cb800020005c6 5332ba211fae79f09f002dcf <p>If you think Fawzia Koofi is crazy for wanti... You don't want to miss this incredible story.              17   \n                                                                                                     You don't want to miss this incredible story.              15   \n                                                                                                     You don't want to miss this incredible story.              15   \n5143606b220cb800020005d7 5332ba581fae79f09f003326 <p><p>Sean Hannity thinks all women should have... Science can be confusing if you don't believe i...         11   \n                                                                                                     Science can be confusing if you don't believe i...         15   \n                                                                                                     Science can be confusing if you don't believe i...         15   \n5143606e220cb800020006ba 5332b5951fae79f09f000632 Kate Makkai answers a question she's had since ... This woman answers a question she's had since s...          9   \n                                                                                                     This woman answers a question she's had since s...         10   \n                                                                                                     This woman answers a question she's had since s...         10   \n\n                                                                                                                                                                                                 headline2  \\\nclickability_test_id     eyecatcher_id            lede                                               excerpt                                                                                                 \n51436069220cb800020005bd 5332ba141fae79f09f002c47 <p>The President made a lot of promises, and he... You have so much potential. Why are you wasting...  Mr. President, I'm Not Mad. I'm Just Disappoin...   \n5143606a220cb800020005c6 5332ba211fae79f09f002dcf <p>If you think Fawzia Koofi is crazy for wanti... You don't want to miss this incredible story.       This Brave Woman Is Running For President Of A...   \n                                                                                                     You don't want to miss this incredible story.       MAD RESPECT: This Brave Woman Is Running For P...   \n                                                                                                     You don't want to miss this incredible story.       This Brave Woman Is Running For President Of A...   \n5143606b220cb800020005d7 5332ba581fae79f09f003326 <p><p>Sean Hannity thinks all women should have... Science can be confusing if you don't believe i...  Sean Hannity Thinks Its Waaaaay Too Hard To Te...   \n                                                                                                     Science can be confusing if you don't believe i...  Sean Hannity Thinks Its Waaaaay Too Hard To Te...   \n                                                                                                     Science can be confusing if you don't believe i...  Sean Hannity Thinks Telling Men Not To Attack ...   \n5143606e220cb800020006ba 5332b5951fae79f09f000632 Kate Makkai answers a question she's had since ... This woman answers a question she's had since s...          Why This Woman Thinks Pretty Isn't Enough   \n                                                                                                     This woman answers a question she's had since s...  Now For Sale: Daughters, $10,000 Each (If They...   \n                                                                                                     This woman answers a question she's had since s...          Why This Woman Thinks Pretty Isn't Enough   \n\n                                                                                                                                                             ctr2  \\\nclickability_test_id     eyecatcher_id            lede                                               excerpt                                                        \n51436069220cb800020005bd 5332ba141fae79f09f002c47 <p>The President made a lot of promises, and he... You have so much potential. Why are you wasting...  0.016595   \n5143606a220cb800020005c6 5332ba211fae79f09f002dcf <p>If you think Fawzia Koofi is crazy for wanti... You don't want to miss this incredible story.       0.009410   \n                                                                                                     You don't want to miss this incredible story.       0.011216   \n                                                                                                     You don't want to miss this incredible story.       0.009410   \n5143606b220cb800020005d7 5332ba581fae79f09f003326 <p><p>Sean Hannity thinks all women should have... Science can be confusing if you don't believe i...  0.013050   \n                                                                                                     Science can be confusing if you don't believe i...  0.013050   \n                                                                                                     Science can be confusing if you don't believe i...  0.013675   \n5143606e220cb800020006ba 5332b5951fae79f09f000632 Kate Makkai answers a question she's had since ... This woman answers a question she's had since s...  0.025942   \n                                                                                                     This woman answers a question she's had since s...  0.034099   \n                                                                                                     This woman answers a question she's had since s...  0.025942   \n\n                                                                                                                                                         numwords2  \nclickability_test_id     eyecatcher_id            lede                                               excerpt                                                        \n51436069220cb800020005bd 5332ba141fae79f09f002c47 <p>The President made a lot of promises, and he... You have so much potential. Why are you wasting...         15  \n5143606a220cb800020005c6 5332ba211fae79f09f002dcf <p>If you think Fawzia Koofi is crazy for wanti... You don't want to miss this incredible story.              11  \n                                                                                                     You don't want to miss this incredible story.              17  \n                                                                                                     You don't want to miss this incredible story.              11  \n5143606b220cb800020005d7 5332ba581fae79f09f003326 <p><p>Sean Hannity thinks all women should have... Science can be confusing if you don't believe i...         14  \n                                                                                                     Science can be confusing if you don't believe i...         14  \n                                                                                                     Science can be confusing if you don't believe i...         11  \n5143606e220cb800020006ba 5332b5951fae79f09f000632 Kate Makkai answers a question she's had since ... This woman answers a question she's had since s...          7  \n                                                                                                     This woman answers a question she's had since s...          9  \n                                                                                                     This woman answers a question she's had since s...          7  ",
      "text/html": "<div>\n<style scoped>\n    .dataframe tbody tr th:only-of-type {\n        vertical-align: middle;\n    }\n\n    .dataframe tbody tr th {\n        vertical-align: top;\n    }\n\n    .dataframe thead th {\n        text-align: right;\n    }\n</style>\n<table border=\"1\" class=\"dataframe\">\n  <thead>\n    <tr style=\"text-align: right;\">\n      <th></th>\n      <th></th>\n      <th></th>\n      <th></th>\n      <th>headline1</th>\n      <th>ctr1</th>\n      <th>date_created</th>\n      <th>numwords1</th>\n      <th>headline2</th>\n      <th>ctr2</th>\n      <th>numwords2</th>\n    </tr>\n    <tr>\n      <th>clickability_test_id</th>\n      <th>eyecatcher_id</th>\n      <th>lede</th>\n      <th>excerpt</th>\n      <th></th>\n      <th></th>\n      <th></th>\n      <th></th>\n      <th></th>\n      <th></th>\n      <th></th>\n    </tr>\n  </thead>\n  <tbody>\n    <tr>\n      <th>51436069220cb800020005bd</th>\n      <th>5332ba141fae79f09f002c47</th>\n      <th>&lt;p&gt;The President made a lot of promises, and he took a lot of action on many of them. Not all of them, though. Somewhere along the way he seems to have gotten distracted. We should probably get to the bottom of that.&lt;br&gt;&lt;/p&gt;</th>\n      <th>You have so much potential. Why are you wasting it?</th>\n      <td>Mr. President, I'm Not Mad. I'm Just Disappoin...</td>\n      <td>0.019770</td>\n      <td>2013-02-07 05:42:25</td>\n      <td>9</td>\n      <td>Mr. President, I'm Not Mad. I'm Just Disappoin...</td>\n      <td>0.016595</td>\n      <td>15</td>\n    </tr>\n    <tr>\n      <th rowspan=\"3\" valign=\"top\">5143606a220cb800020005c6</th>\n      <th rowspan=\"3\" valign=\"top\">5332ba211fae79f09f002dcf</th>\n      <th rowspan=\"3\" valign=\"top\">&lt;p&gt;If you think Fawzia Koofi is crazy for wanting to be president of Afghanistan (yes, Afghanistan), you won't after listening to her incredible story (especially how many times she's almost died and/or been killed). She's a fierce lady who knows &lt;i&gt;exactly&lt;/i&gt; what she's doing. What an inspiration.&lt;/p&gt;\\n</th>\n      <th>You don't want to miss this incredible story.</th>\n      <td>MAD RESPECT: This Brave Woman Is Running For P...</td>\n      <td>0.011216</td>\n      <td>2013-02-19 19:05:45</td>\n      <td>17</td>\n      <td>This Brave Woman Is Running For President Of A...</td>\n      <td>0.009410</td>\n      <td>11</td>\n    </tr>\n    <tr>\n      <th>You don't want to miss this incredible story.</th>\n      <td>If You Think Hillary Had A Rough Campaign, You...</td>\n      <td>0.012807</td>\n      <td>2013-02-19 19:03:39</td>\n      <td>15</td>\n      <td>MAD RESPECT: This Brave Woman Is Running For P...</td>\n      <td>0.011216</td>\n      <td>17</td>\n    </tr>\n    <tr>\n      <th>You don't want to miss this incredible story.</th>\n      <td>If You Think Hillary Had A Rough Campaign, You...</td>\n      <td>0.012807</td>\n      <td>2013-02-19 19:03:39</td>\n      <td>15</td>\n      <td>This Brave Woman Is Running For President Of A...</td>\n      <td>0.009410</td>\n      <td>11</td>\n    </tr>\n    <tr>\n      <th rowspan=\"3\" valign=\"top\">5143606b220cb800020005d7</th>\n      <th rowspan=\"3\" valign=\"top\">5332ba581fae79f09f003326</th>\n      <th rowspan=\"3\" valign=\"top\">&lt;p&gt;&lt;p&gt;Sean Hannity thinks all women should have the right to choose... to be armed. Zerlina Maxwell didn't disagree, yet she went on a 3 minute campaign suggesting that perhaps instead of arming victims, we take another more obvious route, like, I dunno,&lt;b&gt; teaching men not to rape&lt;/b&gt;, since that seems to work really well. Seriously, it works &lt;a href=\"http://upwr.me/ZnDHAP\"&gt;REALLY WELL&lt;/a&gt;.&lt;/p&gt;&lt;p&gt;He thought ignoring her would be the best way not to hear that. And &lt;a href=\"http://upwr.me/Xx5sKO\" target=\"_blank\"&gt;now his fans are threatening her&lt;/a&gt;.&lt;/p&gt;&lt;br&gt;&lt;/p&gt;</th>\n      <th>Science can be confusing if you don't believe in it.</th>\n      <td>Sean Hannity Thinks Telling Men Not To Attack ...</td>\n      <td>0.013675</td>\n      <td>2013-03-09 06:55:39</td>\n      <td>11</td>\n      <td>Sean Hannity Thinks Its Waaaaay Too Hard To Te...</td>\n      <td>0.013050</td>\n      <td>14</td>\n    </tr>\n    <tr>\n      <th>Science can be confusing if you don't believe in it.</th>\n      <td>Feminist Confuses Fox News Host By Suggesting ...</td>\n      <td>0.024444</td>\n      <td>2013-03-09 06:59:29</td>\n      <td>15</td>\n      <td>Sean Hannity Thinks Its Waaaaay Too Hard To Te...</td>\n      <td>0.013050</td>\n      <td>14</td>\n    </tr>\n    <tr>\n      <th>Science can be confusing if you don't believe in it.</th>\n      <td>Feminist Confuses Fox News Host By Suggesting ...</td>\n      <td>0.024444</td>\n      <td>2013-03-09 06:59:29</td>\n      <td>15</td>\n      <td>Sean Hannity Thinks Telling Men Not To Attack ...</td>\n      <td>0.013675</td>\n      <td>11</td>\n    </tr>\n    <tr>\n      <th rowspan=\"3\" valign=\"top\">5143606e220cb800020006ba</th>\n      <th rowspan=\"3\" valign=\"top\">5332b5951fae79f09f000632</th>\n      <th rowspan=\"3\" valign=\"top\">Kate Makkai answers a question she's had since she was very young in exactly the kind of way that slams into your gut and stays there.\\n</th>\n      <th>This woman answers a question she's had since she was young in exactly the kind of way that slams into your gut and stays there.</th>\n      <td>Now For Sale: Daughters, $10,000 Each (If They...</td>\n      <td>0.034099</td>\n      <td>2013-03-26 01:52:11</td>\n      <td>9</td>\n      <td>Why This Woman Thinks Pretty Isn't Enough</td>\n      <td>0.025942</td>\n      <td>7</td>\n    </tr>\n    <tr>\n      <th>This woman answers a question she's had since she was young in exactly the kind of way that slams into your gut and stays there.</th>\n      <td>Why Doesn't This Woman Want Her Daughter To Be...</td>\n      <td>0.034483</td>\n      <td>2013-03-26 01:52:31</td>\n      <td>10</td>\n      <td>Now For Sale: Daughters, $10,000 Each (If They...</td>\n      <td>0.034099</td>\n      <td>9</td>\n    </tr>\n    <tr>\n      <th>This woman answers a question she's had since she was young in exactly the kind of way that slams into your gut and stays there.</th>\n      <td>Why Doesn't This Woman Want Her Daughter To Be...</td>\n      <td>0.034483</td>\n      <td>2013-03-26 01:52:31</td>\n      <td>10</td>\n      <td>Why This Woman Thinks Pretty Isn't Enough</td>\n      <td>0.025942</td>\n      <td>7</td>\n    </tr>\n  </tbody>\n</table>\n</div>"
     },
     "execution_count": 12,
     "metadata": {},
     "output_type": "execute_result"
    }
   ],
   "execution_count": 12
  },
  {
   "cell_type": "markdown",
   "source": [
    "### 2.2 Using the dictionary of pronouns provided below, create indicator variables corresponding to each set of pronouns (e.g., first-person singular may yield columns first_person_singular1 and first_person_singular2 for the headlines in each A/B test). Each indicator variable in the dataframe should equal 1 if the corresponding headline uses the corresponding type of pronoun and 0 otherwise. Your code should be agnostic to lower/upper case."
   ],
   "metadata": {
    "cell_id": "68c5ccb6342d4ddba3e72d317839d559",
    "pycharm": {
     "name": "#%% md\n"
    },
    "collapsed": false,
    "deepnote_cell_type": "markdown"
   }
  },
  {
   "cell_type": "code",
   "source": [
    "# 2.2 (provided code)\n",
    "feature_wordsets = dict([\n",
    "    # https://en.wikipedia.org/wiki/English_personal_pronouns\n",
    "    ('first_person_singular', ['i', 'me', 'my', 'mine', 'myself',\n",
    "                               \"i'd\", \"i'll\", \"i'm\", \"i've\", 'id', 'im', 'ive']),\n",
    "    ('first_person_plural', ['we', 'us', 'our', 'ours', 'ourselves',\n",
    "                              \"we'd\", \"we'll\", \"we're\", \"we've\",]),\n",
    "    ('second_person', ['you','your','yours','yourself',\n",
    "                              \"ya\", \"you'd\", \"you'll\", \"you're\", \"you've\", 'youll', 'youre', 'youve', \n",
    "                              'yourselves']),\n",
    "    ('third_person_singular', ['he','him','his','himself',\n",
    "                               \"he'd\", \"he's\", 'hes',\n",
    "                               'she','her','hers','herself', \n",
    "                               \"she'll\", \"she's\", 'shes',\n",
    "                               'it','its','itself',\n",
    "                               'themself']),\n",
    "    ('third_person_plural', ['they','them','their','theirs','themselves',\n",
    "                              \"they'd\", \"they'll\", \"they've\", 'theyll', 'theyve'])\n",
    "])"
   ],
   "metadata": {
    "cell_id": "d3bb5f5694244f22866058b282e56af4",
    "pycharm": {
     "name": "#%%\n"
    },
    "collapsed": false,
    "source_hash": "4c12de05",
    "execution_start": 1667064620587,
    "execution_millis": 2,
    "deepnote_to_be_reexecuted": false,
    "deepnote_cell_type": "code"
   },
   "outputs": [],
   "execution_count": 13
  },
  {
   "cell_type": "code",
   "source": [
    "# Function to extract words from string\n",
    "def extract_word(sentence: str):\n",
    "    '''take a sentence in and then return the list of words without punctuation'''\n",
    "    sentence = sentence.lower()\n",
    "    words = re.findall(r\"[0-9a-z-'+]+\", sentence)\n",
    "    return words\n",
    "\n",
    "# def extract_word(sentence: str):\n",
    "#     '''take a sentence in and then return the list of words without punctuation'''\n",
    "#     text = sentence.lower()\n",
    "#     words = nltk.word_tokenize(text)\n",
    "#     return words\n",
    "\n",
    "def check_existence(feature_wordsets:dict, headline:str):\n",
    "    '''Return the list that used to generate the indicator variables'''\n",
    "    list = [0,0,0,0,0]\n",
    "    sentence = extract_word(headline)\n",
    "    fs, fp, sp, ts, tp = False, False, False, False, False\n",
    "    # determine if there are pronoun in the headline\n",
    "    for word in sentence:\n",
    "        fs, fp, sp, ts, tp = False, False, False, False, False\n",
    "        if (word in feature_wordsets['first_person_singular']) & (fs == False) :\n",
    "            list[0] = 1\n",
    "            fs = True\n",
    "        if (word in feature_wordsets['first_person_plural']) & (fp == False):\n",
    "            list[1] = 1\n",
    "            fp = True\n",
    "        if (word in feature_wordsets['second_person']) & (sp == False):\n",
    "            list[2] = 1\n",
    "            sp =True\n",
    "        if (word in feature_wordsets['third_person_singular']) & (ts == False):\n",
    "            list[3] = 1\n",
    "            ts = True\n",
    "        if (word in feature_wordsets['third_person_plural']) & (tp == False):\n",
    "            list[4] = 1\n",
    "            tp = True\n",
    "    return list"
   ],
   "metadata": {
    "cell_id": "a2cec4a591504a5bada0ebcde58dd3ee",
    "pycharm": {
     "name": "#%%\n"
    },
    "collapsed": false,
    "source_hash": "d950302",
    "execution_start": 1667064620594,
    "execution_millis": 5,
    "deepnote_to_be_reexecuted": false,
    "deepnote_cell_type": "code"
   },
   "outputs": [],
   "execution_count": 14
  },
  {
   "cell_type": "code",
   "source": [
    "pronoun_column_name_1 = [x + \"1\" for x in feature_wordsets]\n",
    "pronoun_column_name_2 = [x + \"2\" for x in feature_wordsets]"
   ],
   "metadata": {
    "tags": [],
    "cell_id": "59d50adcfa134a3d8770f76a5271b3a4",
    "source_hash": "523731a7",
    "execution_start": 1667064620601,
    "execution_millis": 5,
    "deepnote_to_be_reexecuted": false,
    "deepnote_cell_type": "code",
    "pycharm": {
     "name": "#%%\n"
    }
   },
   "outputs": [],
   "execution_count": 15
  },
  {
   "cell_type": "code",
   "source": [
    "# get pronoun state for headlin1 and headline2\n",
    "new_dataset[pronoun_column_name_1] = [check_existence(feature_wordsets, x) for x in new_dataset.headline1]\n",
    "new_dataset[pronoun_column_name_2] = [check_existence(feature_wordsets, x) for x in new_dataset.headline2]\n",
    "# reorder column for layout\n",
    "headline1_col = ['headline1', 'ctr1', 'date_created', 'numwords1']\n",
    "headline1_col.extend(pronoun_column_name_1)\n",
    "headline2_col = ['headline2', 'ctr2', 'numwords2']\n",
    "headline2_col.extend(pronoun_column_name_2)\n",
    "reorder_col = headline1_col + headline2_col\n",
    "new_dataset = new_dataset[reorder_col]"
   ],
   "metadata": {
    "cell_id": "d5077d31cce44332be7d50cd993d9583",
    "pycharm": {
     "name": "#%%\n"
    },
    "collapsed": false,
    "source_hash": "3e195fb0",
    "execution_start": 1667064620630,
    "execution_millis": 1018,
    "deepnote_to_be_reexecuted": false,
    "deepnote_cell_type": "code"
   },
   "outputs": [],
   "execution_count": 16
  },
  {
   "cell_type": "code",
   "source": [
    "new_dataset.head(10)"
   ],
   "metadata": {
    "cell_id": "c7afe53af608461894558d6994a6438a",
    "pycharm": {
     "name": "#%%\n"
    },
    "collapsed": false,
    "source_hash": "6d7ab74f",
    "execution_start": 1667064621665,
    "execution_millis": 9010,
    "deepnote_to_be_reexecuted": false,
    "deepnote_cell_type": "code"
   },
   "outputs": [
    {
     "data": {
      "text/plain": "                                                                                                                                                                                                 headline1  \\\nclickability_test_id     eyecatcher_id            lede                                               excerpt                                                                                                 \n51436069220cb800020005bd 5332ba141fae79f09f002c47 <p>The President made a lot of promises, and he... You have so much potential. Why are you wasting...  Mr. President, I'm Not Mad. I'm Just Disappoin...   \n5143606a220cb800020005c6 5332ba211fae79f09f002dcf <p>If you think Fawzia Koofi is crazy for wanti... You don't want to miss this incredible story.       MAD RESPECT: This Brave Woman Is Running For P...   \n                                                                                                     You don't want to miss this incredible story.       If You Think Hillary Had A Rough Campaign, You...   \n                                                                                                     You don't want to miss this incredible story.       If You Think Hillary Had A Rough Campaign, You...   \n5143606b220cb800020005d7 5332ba581fae79f09f003326 <p><p>Sean Hannity thinks all women should have... Science can be confusing if you don't believe i...  Sean Hannity Thinks Telling Men Not To Attack ...   \n                                                                                                     Science can be confusing if you don't believe i...  Feminist Confuses Fox News Host By Suggesting ...   \n                                                                                                     Science can be confusing if you don't believe i...  Feminist Confuses Fox News Host By Suggesting ...   \n5143606e220cb800020006ba 5332b5951fae79f09f000632 Kate Makkai answers a question she's had since ... This woman answers a question she's had since s...  Now For Sale: Daughters, $10,000 Each (If They...   \n                                                                                                     This woman answers a question she's had since s...  Why Doesn't This Woman Want Her Daughter To Be...   \n                                                                                                     This woman answers a question she's had since s...  Why Doesn't This Woman Want Her Daughter To Be...   \n\n                                                                                                                                                             ctr1  \\\nclickability_test_id     eyecatcher_id            lede                                               excerpt                                                        \n51436069220cb800020005bd 5332ba141fae79f09f002c47 <p>The President made a lot of promises, and he... You have so much potential. Why are you wasting...  0.019770   \n5143606a220cb800020005c6 5332ba211fae79f09f002dcf <p>If you think Fawzia Koofi is crazy for wanti... You don't want to miss this incredible story.       0.011216   \n                                                                                                     You don't want to miss this incredible story.       0.012807   \n                                                                                                     You don't want to miss this incredible story.       0.012807   \n5143606b220cb800020005d7 5332ba581fae79f09f003326 <p><p>Sean Hannity thinks all women should have... Science can be confusing if you don't believe i...  0.013675   \n                                                                                                     Science can be confusing if you don't believe i...  0.024444   \n                                                                                                     Science can be confusing if you don't believe i...  0.024444   \n5143606e220cb800020006ba 5332b5951fae79f09f000632 Kate Makkai answers a question she's had since ... This woman answers a question she's had since s...  0.034099   \n                                                                                                     This woman answers a question she's had since s...  0.034483   \n                                                                                                     This woman answers a question she's had since s...  0.034483   \n\n                                                                                                                                                                date_created  \\\nclickability_test_id     eyecatcher_id            lede                                               excerpt                                                                   \n51436069220cb800020005bd 5332ba141fae79f09f002c47 <p>The President made a lot of promises, and he... You have so much potential. Why are you wasting...  2013-02-07 05:42:25   \n5143606a220cb800020005c6 5332ba211fae79f09f002dcf <p>If you think Fawzia Koofi is crazy for wanti... You don't want to miss this incredible story.       2013-02-19 19:05:45   \n                                                                                                     You don't want to miss this incredible story.       2013-02-19 19:03:39   \n                                                                                                     You don't want to miss this incredible story.       2013-02-19 19:03:39   \n5143606b220cb800020005d7 5332ba581fae79f09f003326 <p><p>Sean Hannity thinks all women should have... Science can be confusing if you don't believe i...  2013-03-09 06:55:39   \n                                                                                                     Science can be confusing if you don't believe i...  2013-03-09 06:59:29   \n                                                                                                     Science can be confusing if you don't believe i...  2013-03-09 06:59:29   \n5143606e220cb800020006ba 5332b5951fae79f09f000632 Kate Makkai answers a question she's had since ... This woman answers a question she's had since s...  2013-03-26 01:52:11   \n                                                                                                     This woman answers a question she's had since s...  2013-03-26 01:52:31   \n                                                                                                     This woman answers a question she's had since s...  2013-03-26 01:52:31   \n\n                                                                                                                                                         numwords1  \\\nclickability_test_id     eyecatcher_id            lede                                               excerpt                                                         \n51436069220cb800020005bd 5332ba141fae79f09f002c47 <p>The President made a lot of promises, and he... You have so much potential. Why are you wasting...          9   \n5143606a220cb800020005c6 5332ba211fae79f09f002dcf <p>If you think Fawzia Koofi is crazy for wanti... You don't want to miss this incredible story.              17   \n                                                                                                     You don't want to miss this incredible story.              15   \n                                                                                                     You don't want to miss this incredible story.              15   \n5143606b220cb800020005d7 5332ba581fae79f09f003326 <p><p>Sean Hannity thinks all women should have... Science can be confusing if you don't believe i...         11   \n                                                                                                     Science can be confusing if you don't believe i...         15   \n                                                                                                     Science can be confusing if you don't believe i...         15   \n5143606e220cb800020006ba 5332b5951fae79f09f000632 Kate Makkai answers a question she's had since ... This woman answers a question she's had since s...          9   \n                                                                                                     This woman answers a question she's had since s...         10   \n                                                                                                     This woman answers a question she's had since s...         10   \n\n                                                                                                                                                         first_person_singular1  \\\nclickability_test_id     eyecatcher_id            lede                                               excerpt                                                                      \n51436069220cb800020005bd 5332ba141fae79f09f002c47 <p>The President made a lot of promises, and he... You have so much potential. Why are you wasting...                       1   \n5143606a220cb800020005c6 5332ba211fae79f09f002dcf <p>If you think Fawzia Koofi is crazy for wanti... You don't want to miss this incredible story.                            0   \n                                                                                                     You don't want to miss this incredible story.                            0   \n                                                                                                     You don't want to miss this incredible story.                            0   \n5143606b220cb800020005d7 5332ba581fae79f09f003326 <p><p>Sean Hannity thinks all women should have... Science can be confusing if you don't believe i...                       0   \n                                                                                                     Science can be confusing if you don't believe i...                       0   \n                                                                                                     Science can be confusing if you don't believe i...                       0   \n5143606e220cb800020006ba 5332b5951fae79f09f000632 Kate Makkai answers a question she's had since ... This woman answers a question she's had since s...                       0   \n                                                                                                     This woman answers a question she's had since s...                       0   \n                                                                                                     This woman answers a question she's had since s...                       0   \n\n                                                                                                                                                         first_person_plural1  \\\nclickability_test_id     eyecatcher_id            lede                                               excerpt                                                                    \n51436069220cb800020005bd 5332ba141fae79f09f002c47 <p>The President made a lot of promises, and he... You have so much potential. Why are you wasting...                     0   \n5143606a220cb800020005c6 5332ba211fae79f09f002dcf <p>If you think Fawzia Koofi is crazy for wanti... You don't want to miss this incredible story.                          0   \n                                                                                                     You don't want to miss this incredible story.                          0   \n                                                                                                     You don't want to miss this incredible story.                          0   \n5143606b220cb800020005d7 5332ba581fae79f09f003326 <p><p>Sean Hannity thinks all women should have... Science can be confusing if you don't believe i...                     0   \n                                                                                                     Science can be confusing if you don't believe i...                     1   \n                                                                                                     Science can be confusing if you don't believe i...                     1   \n5143606e220cb800020006ba 5332b5951fae79f09f000632 Kate Makkai answers a question she's had since ... This woman answers a question she's had since s...                     0   \n                                                                                                     This woman answers a question she's had since s...                     0   \n                                                                                                     This woman answers a question she's had since s...                     0   \n\n                                                                                                                                                         second_person1  \\\nclickability_test_id     eyecatcher_id            lede                                               excerpt                                                              \n51436069220cb800020005bd 5332ba141fae79f09f002c47 <p>The President made a lot of promises, and he... You have so much potential. Why are you wasting...               0   \n5143606a220cb800020005c6 5332ba211fae79f09f002dcf <p>If you think Fawzia Koofi is crazy for wanti... You don't want to miss this incredible story.                    0   \n                                                                                                     You don't want to miss this incredible story.                    1   \n                                                                                                     You don't want to miss this incredible story.                    1   \n5143606b220cb800020005d7 5332ba581fae79f09f003326 <p><p>Sean Hannity thinks all women should have... Science can be confusing if you don't believe i...               0   \n                                                                                                     Science can be confusing if you don't believe i...               0   \n                                                                                                     Science can be confusing if you don't believe i...               0   \n5143606e220cb800020006ba 5332b5951fae79f09f000632 Kate Makkai answers a question she's had since ... This woman answers a question she's had since s...               0   \n                                                                                                     This woman answers a question she's had since s...               0   \n                                                                                                     This woman answers a question she's had since s...               0   \n\n                                                                                                                                                         third_person_singular1  \\\nclickability_test_id     eyecatcher_id            lede                                               excerpt                                                                      \n51436069220cb800020005bd 5332ba141fae79f09f002c47 <p>The President made a lot of promises, and he... You have so much potential. Why are you wasting...                       0   \n5143606a220cb800020005c6 5332ba211fae79f09f002dcf <p>If you think Fawzia Koofi is crazy for wanti... You don't want to miss this incredible story.                            0   \n                                                                                                     You don't want to miss this incredible story.                            0   \n                                                                                                     You don't want to miss this incredible story.                            0   \n5143606b220cb800020005d7 5332ba581fae79f09f003326 <p><p>Sean Hannity thinks all women should have... Science can be confusing if you don't believe i...                       0   \n                                                                                                     Science can be confusing if you don't believe i...                       0   \n                                                                                                     Science can be confusing if you don't believe i...                       0   \n5143606e220cb800020006ba 5332b5951fae79f09f000632 Kate Makkai answers a question she's had since ... This woman answers a question she's had since s...                       0   \n                                                                                                     This woman answers a question she's had since s...                       1   \n                                                                                                     This woman answers a question she's had since s...                       1   \n\n                                                                                                                                                         third_person_plural1  \\\nclickability_test_id     eyecatcher_id            lede                                               excerpt                                                                    \n51436069220cb800020005bd 5332ba141fae79f09f002c47 <p>The President made a lot of promises, and he... You have so much potential. Why are you wasting...                     0   \n5143606a220cb800020005c6 5332ba211fae79f09f002dcf <p>If you think Fawzia Koofi is crazy for wanti... You don't want to miss this incredible story.                          0   \n                                                                                                     You don't want to miss this incredible story.                          0   \n                                                                                                     You don't want to miss this incredible story.                          0   \n5143606b220cb800020005d7 5332ba581fae79f09f003326 <p><p>Sean Hannity thinks all women should have... Science can be confusing if you don't believe i...                     0   \n                                                                                                     Science can be confusing if you don't believe i...                     0   \n                                                                                                     Science can be confusing if you don't believe i...                     0   \n5143606e220cb800020006ba 5332b5951fae79f09f000632 Kate Makkai answers a question she's had since ... This woman answers a question she's had since s...                     0   \n                                                                                                     This woman answers a question she's had since s...                     0   \n                                                                                                     This woman answers a question she's had since s...                     0   \n\n                                                                                                                                                                                                 headline2  \\\nclickability_test_id     eyecatcher_id            lede                                               excerpt                                                                                                 \n51436069220cb800020005bd 5332ba141fae79f09f002c47 <p>The President made a lot of promises, and he... You have so much potential. Why are you wasting...  Mr. President, I'm Not Mad. I'm Just Disappoin...   \n5143606a220cb800020005c6 5332ba211fae79f09f002dcf <p>If you think Fawzia Koofi is crazy for wanti... You don't want to miss this incredible story.       This Brave Woman Is Running For President Of A...   \n                                                                                                     You don't want to miss this incredible story.       MAD RESPECT: This Brave Woman Is Running For P...   \n                                                                                                     You don't want to miss this incredible story.       This Brave Woman Is Running For President Of A...   \n5143606b220cb800020005d7 5332ba581fae79f09f003326 <p><p>Sean Hannity thinks all women should have... Science can be confusing if you don't believe i...  Sean Hannity Thinks Its Waaaaay Too Hard To Te...   \n                                                                                                     Science can be confusing if you don't believe i...  Sean Hannity Thinks Its Waaaaay Too Hard To Te...   \n                                                                                                     Science can be confusing if you don't believe i...  Sean Hannity Thinks Telling Men Not To Attack ...   \n5143606e220cb800020006ba 5332b5951fae79f09f000632 Kate Makkai answers a question she's had since ... This woman answers a question she's had since s...          Why This Woman Thinks Pretty Isn't Enough   \n                                                                                                     This woman answers a question she's had since s...  Now For Sale: Daughters, $10,000 Each (If They...   \n                                                                                                     This woman answers a question she's had since s...          Why This Woman Thinks Pretty Isn't Enough   \n\n                                                                                                                                                             ctr2  \\\nclickability_test_id     eyecatcher_id            lede                                               excerpt                                                        \n51436069220cb800020005bd 5332ba141fae79f09f002c47 <p>The President made a lot of promises, and he... You have so much potential. Why are you wasting...  0.016595   \n5143606a220cb800020005c6 5332ba211fae79f09f002dcf <p>If you think Fawzia Koofi is crazy for wanti... You don't want to miss this incredible story.       0.009410   \n                                                                                                     You don't want to miss this incredible story.       0.011216   \n                                                                                                     You don't want to miss this incredible story.       0.009410   \n5143606b220cb800020005d7 5332ba581fae79f09f003326 <p><p>Sean Hannity thinks all women should have... Science can be confusing if you don't believe i...  0.013050   \n                                                                                                     Science can be confusing if you don't believe i...  0.013050   \n                                                                                                     Science can be confusing if you don't believe i...  0.013675   \n5143606e220cb800020006ba 5332b5951fae79f09f000632 Kate Makkai answers a question she's had since ... This woman answers a question she's had since s...  0.025942   \n                                                                                                     This woman answers a question she's had since s...  0.034099   \n                                                                                                     This woman answers a question she's had since s...  0.025942   \n\n                                                                                                                                                         numwords2  \\\nclickability_test_id     eyecatcher_id            lede                                               excerpt                                                         \n51436069220cb800020005bd 5332ba141fae79f09f002c47 <p>The President made a lot of promises, and he... You have so much potential. Why are you wasting...         15   \n5143606a220cb800020005c6 5332ba211fae79f09f002dcf <p>If you think Fawzia Koofi is crazy for wanti... You don't want to miss this incredible story.              11   \n                                                                                                     You don't want to miss this incredible story.              17   \n                                                                                                     You don't want to miss this incredible story.              11   \n5143606b220cb800020005d7 5332ba581fae79f09f003326 <p><p>Sean Hannity thinks all women should have... Science can be confusing if you don't believe i...         14   \n                                                                                                     Science can be confusing if you don't believe i...         14   \n                                                                                                     Science can be confusing if you don't believe i...         11   \n5143606e220cb800020006ba 5332b5951fae79f09f000632 Kate Makkai answers a question she's had since ... This woman answers a question she's had since s...          7   \n                                                                                                     This woman answers a question she's had since s...          9   \n                                                                                                     This woman answers a question she's had since s...          7   \n\n                                                                                                                                                         first_person_singular2  \\\nclickability_test_id     eyecatcher_id            lede                                               excerpt                                                                      \n51436069220cb800020005bd 5332ba141fae79f09f002c47 <p>The President made a lot of promises, and he... You have so much potential. Why are you wasting...                       1   \n5143606a220cb800020005c6 5332ba211fae79f09f002dcf <p>If you think Fawzia Koofi is crazy for wanti... You don't want to miss this incredible story.                            0   \n                                                                                                     You don't want to miss this incredible story.                            0   \n                                                                                                     You don't want to miss this incredible story.                            0   \n5143606b220cb800020005d7 5332ba581fae79f09f003326 <p><p>Sean Hannity thinks all women should have... Science can be confusing if you don't believe i...                       0   \n                                                                                                     Science can be confusing if you don't believe i...                       0   \n                                                                                                     Science can be confusing if you don't believe i...                       0   \n5143606e220cb800020006ba 5332b5951fae79f09f000632 Kate Makkai answers a question she's had since ... This woman answers a question she's had since s...                       0   \n                                                                                                     This woman answers a question she's had since s...                       0   \n                                                                                                     This woman answers a question she's had since s...                       0   \n\n                                                                                                                                                         first_person_plural2  \\\nclickability_test_id     eyecatcher_id            lede                                               excerpt                                                                    \n51436069220cb800020005bd 5332ba141fae79f09f002c47 <p>The President made a lot of promises, and he... You have so much potential. Why are you wasting...                     0   \n5143606a220cb800020005c6 5332ba211fae79f09f002dcf <p>If you think Fawzia Koofi is crazy for wanti... You don't want to miss this incredible story.                          0   \n                                                                                                     You don't want to miss this incredible story.                          0   \n                                                                                                     You don't want to miss this incredible story.                          0   \n5143606b220cb800020005d7 5332ba581fae79f09f003326 <p><p>Sean Hannity thinks all women should have... Science can be confusing if you don't believe i...                     0   \n                                                                                                     Science can be confusing if you don't believe i...                     0   \n                                                                                                     Science can be confusing if you don't believe i...                     0   \n5143606e220cb800020006ba 5332b5951fae79f09f000632 Kate Makkai answers a question she's had since ... This woman answers a question she's had since s...                     0   \n                                                                                                     This woman answers a question she's had since s...                     0   \n                                                                                                     This woman answers a question she's had since s...                     0   \n\n                                                                                                                                                         second_person2  \\\nclickability_test_id     eyecatcher_id            lede                                               excerpt                                                              \n51436069220cb800020005bd 5332ba141fae79f09f002c47 <p>The President made a lot of promises, and he... You have so much potential. Why are you wasting...               0   \n5143606a220cb800020005c6 5332ba211fae79f09f002dcf <p>If you think Fawzia Koofi is crazy for wanti... You don't want to miss this incredible story.                    0   \n                                                                                                     You don't want to miss this incredible story.                    0   \n                                                                                                     You don't want to miss this incredible story.                    0   \n5143606b220cb800020005d7 5332ba581fae79f09f003326 <p><p>Sean Hannity thinks all women should have... Science can be confusing if you don't believe i...               0   \n                                                                                                     Science can be confusing if you don't believe i...               0   \n                                                                                                     Science can be confusing if you don't believe i...               0   \n5143606e220cb800020006ba 5332b5951fae79f09f000632 Kate Makkai answers a question she's had since ... This woman answers a question she's had since s...               0   \n                                                                                                     This woman answers a question she's had since s...               0   \n                                                                                                     This woman answers a question she's had since s...               0   \n\n                                                                                                                                                         third_person_singular2  \\\nclickability_test_id     eyecatcher_id            lede                                               excerpt                                                                      \n51436069220cb800020005bd 5332ba141fae79f09f002c47 <p>The President made a lot of promises, and he... You have so much potential. Why are you wasting...                       0   \n5143606a220cb800020005c6 5332ba211fae79f09f002dcf <p>If you think Fawzia Koofi is crazy for wanti... You don't want to miss this incredible story.                            0   \n                                                                                                     You don't want to miss this incredible story.                            0   \n                                                                                                     You don't want to miss this incredible story.                            0   \n5143606b220cb800020005d7 5332ba581fae79f09f003326 <p><p>Sean Hannity thinks all women should have... Science can be confusing if you don't believe i...                       1   \n                                                                                                     Science can be confusing if you don't believe i...                       1   \n                                                                                                     Science can be confusing if you don't believe i...                       0   \n5143606e220cb800020006ba 5332b5951fae79f09f000632 Kate Makkai answers a question she's had since ... This woman answers a question she's had since s...                       0   \n                                                                                                     This woman answers a question she's had since s...                       0   \n                                                                                                     This woman answers a question she's had since s...                       0   \n\n                                                                                                                                                         third_person_plural2  \nclickability_test_id     eyecatcher_id            lede                                               excerpt                                                                   \n51436069220cb800020005bd 5332ba141fae79f09f002c47 <p>The President made a lot of promises, and he... You have so much potential. Why are you wasting...                     0  \n5143606a220cb800020005c6 5332ba211fae79f09f002dcf <p>If you think Fawzia Koofi is crazy for wanti... You don't want to miss this incredible story.                          0  \n                                                                                                     You don't want to miss this incredible story.                          0  \n                                                                                                     You don't want to miss this incredible story.                          0  \n5143606b220cb800020005d7 5332ba581fae79f09f003326 <p><p>Sean Hannity thinks all women should have... Science can be confusing if you don't believe i...                     0  \n                                                                                                     Science can be confusing if you don't believe i...                     0  \n                                                                                                     Science can be confusing if you don't believe i...                     0  \n5143606e220cb800020006ba 5332b5951fae79f09f000632 Kate Makkai answers a question she's had since ... This woman answers a question she's had since s...                     0  \n                                                                                                     This woman answers a question she's had since s...                     0  \n                                                                                                     This woman answers a question she's had since s...                     0  ",
      "text/html": "<div>\n<style scoped>\n    .dataframe tbody tr th:only-of-type {\n        vertical-align: middle;\n    }\n\n    .dataframe tbody tr th {\n        vertical-align: top;\n    }\n\n    .dataframe thead th {\n        text-align: right;\n    }\n</style>\n<table border=\"1\" class=\"dataframe\">\n  <thead>\n    <tr style=\"text-align: right;\">\n      <th></th>\n      <th></th>\n      <th></th>\n      <th></th>\n      <th>headline1</th>\n      <th>ctr1</th>\n      <th>date_created</th>\n      <th>numwords1</th>\n      <th>first_person_singular1</th>\n      <th>first_person_plural1</th>\n      <th>second_person1</th>\n      <th>third_person_singular1</th>\n      <th>third_person_plural1</th>\n      <th>headline2</th>\n      <th>ctr2</th>\n      <th>numwords2</th>\n      <th>first_person_singular2</th>\n      <th>first_person_plural2</th>\n      <th>second_person2</th>\n      <th>third_person_singular2</th>\n      <th>third_person_plural2</th>\n    </tr>\n    <tr>\n      <th>clickability_test_id</th>\n      <th>eyecatcher_id</th>\n      <th>lede</th>\n      <th>excerpt</th>\n      <th></th>\n      <th></th>\n      <th></th>\n      <th></th>\n      <th></th>\n      <th></th>\n      <th></th>\n      <th></th>\n      <th></th>\n      <th></th>\n      <th></th>\n      <th></th>\n      <th></th>\n      <th></th>\n      <th></th>\n      <th></th>\n      <th></th>\n    </tr>\n  </thead>\n  <tbody>\n    <tr>\n      <th>51436069220cb800020005bd</th>\n      <th>5332ba141fae79f09f002c47</th>\n      <th>&lt;p&gt;The President made a lot of promises, and he took a lot of action on many of them. Not all of them, though. Somewhere along the way he seems to have gotten distracted. We should probably get to the bottom of that.&lt;br&gt;&lt;/p&gt;</th>\n      <th>You have so much potential. Why are you wasting it?</th>\n      <td>Mr. President, I'm Not Mad. I'm Just Disappoin...</td>\n      <td>0.019770</td>\n      <td>2013-02-07 05:42:25</td>\n      <td>9</td>\n      <td>1</td>\n      <td>0</td>\n      <td>0</td>\n      <td>0</td>\n      <td>0</td>\n      <td>Mr. President, I'm Not Mad. I'm Just Disappoin...</td>\n      <td>0.016595</td>\n      <td>15</td>\n      <td>1</td>\n      <td>0</td>\n      <td>0</td>\n      <td>0</td>\n      <td>0</td>\n    </tr>\n    <tr>\n      <th rowspan=\"3\" valign=\"top\">5143606a220cb800020005c6</th>\n      <th rowspan=\"3\" valign=\"top\">5332ba211fae79f09f002dcf</th>\n      <th rowspan=\"3\" valign=\"top\">&lt;p&gt;If you think Fawzia Koofi is crazy for wanting to be president of Afghanistan (yes, Afghanistan), you won't after listening to her incredible story (especially how many times she's almost died and/or been killed). She's a fierce lady who knows &lt;i&gt;exactly&lt;/i&gt; what she's doing. What an inspiration.&lt;/p&gt;\\n</th>\n      <th>You don't want to miss this incredible story.</th>\n      <td>MAD RESPECT: This Brave Woman Is Running For P...</td>\n      <td>0.011216</td>\n      <td>2013-02-19 19:05:45</td>\n      <td>17</td>\n      <td>0</td>\n      <td>0</td>\n      <td>0</td>\n      <td>0</td>\n      <td>0</td>\n      <td>This Brave Woman Is Running For President Of A...</td>\n      <td>0.009410</td>\n      <td>11</td>\n      <td>0</td>\n      <td>0</td>\n      <td>0</td>\n      <td>0</td>\n      <td>0</td>\n    </tr>\n    <tr>\n      <th>You don't want to miss this incredible story.</th>\n      <td>If You Think Hillary Had A Rough Campaign, You...</td>\n      <td>0.012807</td>\n      <td>2013-02-19 19:03:39</td>\n      <td>15</td>\n      <td>0</td>\n      <td>0</td>\n      <td>1</td>\n      <td>0</td>\n      <td>0</td>\n      <td>MAD RESPECT: This Brave Woman Is Running For P...</td>\n      <td>0.011216</td>\n      <td>17</td>\n      <td>0</td>\n      <td>0</td>\n      <td>0</td>\n      <td>0</td>\n      <td>0</td>\n    </tr>\n    <tr>\n      <th>You don't want to miss this incredible story.</th>\n      <td>If You Think Hillary Had A Rough Campaign, You...</td>\n      <td>0.012807</td>\n      <td>2013-02-19 19:03:39</td>\n      <td>15</td>\n      <td>0</td>\n      <td>0</td>\n      <td>1</td>\n      <td>0</td>\n      <td>0</td>\n      <td>This Brave Woman Is Running For President Of A...</td>\n      <td>0.009410</td>\n      <td>11</td>\n      <td>0</td>\n      <td>0</td>\n      <td>0</td>\n      <td>0</td>\n      <td>0</td>\n    </tr>\n    <tr>\n      <th rowspan=\"3\" valign=\"top\">5143606b220cb800020005d7</th>\n      <th rowspan=\"3\" valign=\"top\">5332ba581fae79f09f003326</th>\n      <th rowspan=\"3\" valign=\"top\">&lt;p&gt;&lt;p&gt;Sean Hannity thinks all women should have the right to choose... to be armed. Zerlina Maxwell didn't disagree, yet she went on a 3 minute campaign suggesting that perhaps instead of arming victims, we take another more obvious route, like, I dunno,&lt;b&gt; teaching men not to rape&lt;/b&gt;, since that seems to work really well. Seriously, it works &lt;a href=\"http://upwr.me/ZnDHAP\"&gt;REALLY WELL&lt;/a&gt;.&lt;/p&gt;&lt;p&gt;He thought ignoring her would be the best way not to hear that. And &lt;a href=\"http://upwr.me/Xx5sKO\" target=\"_blank\"&gt;now his fans are threatening her&lt;/a&gt;.&lt;/p&gt;&lt;br&gt;&lt;/p&gt;</th>\n      <th>Science can be confusing if you don't believe in it.</th>\n      <td>Sean Hannity Thinks Telling Men Not To Attack ...</td>\n      <td>0.013675</td>\n      <td>2013-03-09 06:55:39</td>\n      <td>11</td>\n      <td>0</td>\n      <td>0</td>\n      <td>0</td>\n      <td>0</td>\n      <td>0</td>\n      <td>Sean Hannity Thinks Its Waaaaay Too Hard To Te...</td>\n      <td>0.013050</td>\n      <td>14</td>\n      <td>0</td>\n      <td>0</td>\n      <td>0</td>\n      <td>1</td>\n      <td>0</td>\n    </tr>\n    <tr>\n      <th>Science can be confusing if you don't believe in it.</th>\n      <td>Feminist Confuses Fox News Host By Suggesting ...</td>\n      <td>0.024444</td>\n      <td>2013-03-09 06:59:29</td>\n      <td>15</td>\n      <td>0</td>\n      <td>1</td>\n      <td>0</td>\n      <td>0</td>\n      <td>0</td>\n      <td>Sean Hannity Thinks Its Waaaaay Too Hard To Te...</td>\n      <td>0.013050</td>\n      <td>14</td>\n      <td>0</td>\n      <td>0</td>\n      <td>0</td>\n      <td>1</td>\n      <td>0</td>\n    </tr>\n    <tr>\n      <th>Science can be confusing if you don't believe in it.</th>\n      <td>Feminist Confuses Fox News Host By Suggesting ...</td>\n      <td>0.024444</td>\n      <td>2013-03-09 06:59:29</td>\n      <td>15</td>\n      <td>0</td>\n      <td>1</td>\n      <td>0</td>\n      <td>0</td>\n      <td>0</td>\n      <td>Sean Hannity Thinks Telling Men Not To Attack ...</td>\n      <td>0.013675</td>\n      <td>11</td>\n      <td>0</td>\n      <td>0</td>\n      <td>0</td>\n      <td>0</td>\n      <td>0</td>\n    </tr>\n    <tr>\n      <th rowspan=\"3\" valign=\"top\">5143606e220cb800020006ba</th>\n      <th rowspan=\"3\" valign=\"top\">5332b5951fae79f09f000632</th>\n      <th rowspan=\"3\" valign=\"top\">Kate Makkai answers a question she's had since she was very young in exactly the kind of way that slams into your gut and stays there.\\n</th>\n      <th>This woman answers a question she's had since she was young in exactly the kind of way that slams into your gut and stays there.</th>\n      <td>Now For Sale: Daughters, $10,000 Each (If They...</td>\n      <td>0.034099</td>\n      <td>2013-03-26 01:52:11</td>\n      <td>9</td>\n      <td>0</td>\n      <td>0</td>\n      <td>0</td>\n      <td>0</td>\n      <td>0</td>\n      <td>Why This Woman Thinks Pretty Isn't Enough</td>\n      <td>0.025942</td>\n      <td>7</td>\n      <td>0</td>\n      <td>0</td>\n      <td>0</td>\n      <td>0</td>\n      <td>0</td>\n    </tr>\n    <tr>\n      <th>This woman answers a question she's had since she was young in exactly the kind of way that slams into your gut and stays there.</th>\n      <td>Why Doesn't This Woman Want Her Daughter To Be...</td>\n      <td>0.034483</td>\n      <td>2013-03-26 01:52:31</td>\n      <td>10</td>\n      <td>0</td>\n      <td>0</td>\n      <td>0</td>\n      <td>1</td>\n      <td>0</td>\n      <td>Now For Sale: Daughters, $10,000 Each (If They...</td>\n      <td>0.034099</td>\n      <td>9</td>\n      <td>0</td>\n      <td>0</td>\n      <td>0</td>\n      <td>0</td>\n      <td>0</td>\n    </tr>\n    <tr>\n      <th>This woman answers a question she's had since she was young in exactly the kind of way that slams into your gut and stays there.</th>\n      <td>Why Doesn't This Woman Want Her Daughter To Be...</td>\n      <td>0.034483</td>\n      <td>2013-03-26 01:52:31</td>\n      <td>10</td>\n      <td>0</td>\n      <td>0</td>\n      <td>0</td>\n      <td>1</td>\n      <td>0</td>\n      <td>Why This Woman Thinks Pretty Isn't Enough</td>\n      <td>0.025942</td>\n      <td>7</td>\n      <td>0</td>\n      <td>0</td>\n      <td>0</td>\n      <td>0</td>\n      <td>0</td>\n    </tr>\n  </tbody>\n</table>\n</div>"
     },
     "execution_count": 17,
     "metadata": {},
     "output_type": "execute_result"
    }
   ],
   "execution_count": 17
  },
  {
   "cell_type": "markdown",
   "source": [
    "### 2.3 One easy way to classify sentiment is simply to match negative or positive words. Use the linked lists of words (positive, negative) to obtain “positive sentiment” and “negative sentiment” scores for each headline. Create columns positive1/positive2 and negative1/negative2 containing indicator variables for positive and negative sentiment, i.e., A headline has a “positive sentiment” (or negative) score equal 1 if it contains at least one positive (or negative) sentiment word on the list. Otherwise, its “positive sentiment” (or negative) score equals 0."
   ],
   "metadata": {
    "cell_id": "ac75dc6f880344829840050299d07725",
    "pycharm": {
     "name": "#%% md\n"
    },
    "collapsed": false,
    "deepnote_cell_type": "markdown"
   }
  },
  {
   "cell_type": "code",
   "source": [
    "# Grab the Data from the internet"
   ],
   "metadata": {
    "cell_id": "0b27d8f875c446ccb93608aeff8946bb",
    "pycharm": {
     "name": "#%%\n"
    },
    "collapsed": false,
    "source_hash": "5f9602e4",
    "execution_start": 1667064621735,
    "execution_millis": 2,
    "deepnote_to_be_reexecuted": false,
    "deepnote_cell_type": "code"
   },
   "outputs": [],
   "execution_count": 18
  },
  {
   "cell_type": "code",
   "source": [
    "# for positive word list\n",
    "positive_words = requests.get('https://ptrckprry.com/course/ssd/data/positive-words.txt')\n",
    "positive_words = list(str(positive_words.text).split('\\n'))\n",
    "count = 0\n",
    "for word in positive_words:\n",
    "    if word == 'a+':\n",
    "        break\n",
    "    count += 1\n",
    "positive_words = positive_words[count:]\n",
    "# for negative word list\n",
    "negative_words = requests.get('https://ptrckprry.com/course/ssd/data/negative-words.txt')\n",
    "negative_words = list(str(negative_words.text).split('\\n'))\n",
    "count = 0\n",
    "for word in negative_words:\n",
    "    if word == '2-faced':\n",
    "        break\n",
    "    count += 1\n",
    "negative_words = negative_words[count:]"
   ],
   "metadata": {
    "cell_id": "fd098072d0284672a5f2b0f99383e79f",
    "pycharm": {
     "name": "#%%\n"
    },
    "collapsed": false,
    "source_hash": "39f03e25",
    "execution_start": 1667064621739,
    "execution_millis": 83,
    "deepnote_to_be_reexecuted": false,
    "deepnote_cell_type": "code"
   },
   "outputs": [],
   "execution_count": 19
  },
  {
   "cell_type": "code",
   "source": [
    "positive_words[1]"
   ],
   "metadata": {
    "cell_id": "cf945eb2cd914ed98f5b70b4543f3098",
    "pycharm": {
     "name": "#%%\n"
    },
    "collapsed": false,
    "source_hash": "6c823699",
    "execution_start": 1667064621824,
    "execution_millis": 8895,
    "deepnote_to_be_reexecuted": false,
    "deepnote_cell_type": "code"
   },
   "outputs": [
    {
     "data": {
      "text/plain": "'abound'"
     },
     "execution_count": 20,
     "metadata": {},
     "output_type": "execute_result"
    }
   ],
   "execution_count": 20
  },
  {
   "cell_type": "code",
   "source": [
    "# function to count positive and negative words\n",
    "def sentiment_score(positive:bool,sentence: str, positive_words: list =positive_words, negative_words: list =negative_words):\n",
    "    \"\"\"Takes in the sentence and then\n",
    "    returns the score of positive and negative words.\"\"\"\n",
    "    count = 0\n",
    "    sentence = extract_word(sentence)\n",
    "    if positive:\n",
    "        check_list = positive_words\n",
    "    else:\n",
    "        check_list = negative_words\n",
    "    for word in sentence:\n",
    "        if word in check_list:\n",
    "            count = 1\n",
    "            break\n",
    "    return count"
   ],
   "metadata": {
    "cell_id": "e522d5b84ce147079640bcc80d7aa081",
    "pycharm": {
     "name": "#%%\n"
    },
    "collapsed": false,
    "source_hash": "1369a345",
    "execution_start": 1667064621835,
    "execution_millis": 2,
    "deepnote_to_be_reexecuted": false,
    "deepnote_cell_type": "code"
   },
   "outputs": [],
   "execution_count": 21
  },
  {
   "cell_type": "code",
   "source": [
    "# construct positve and negative columns \n",
    "new_dataset['positive1'] = new_dataset.headline1.apply(lambda x: sentiment_score(True, x))\n",
    "new_dataset['positive2'] = new_dataset.headline2.apply(lambda x: sentiment_score(True, x))\n",
    "new_dataset['negative1'] = new_dataset.headline1.apply(lambda x: sentiment_score(False, x))\n",
    "new_dataset['negative2'] = new_dataset.headline2.apply(lambda x: sentiment_score(False, x))"
   ],
   "metadata": {
    "tags": [],
    "cell_id": "5bd46f215167440988dbcf973354e6d8",
    "source_hash": "6ee9d2bb",
    "execution_start": 1667064621880,
    "execution_millis": 41420,
    "deepnote_to_be_reexecuted": false,
    "deepnote_cell_type": "code",
    "pycharm": {
     "name": "#%%\n"
    }
   },
   "outputs": [],
   "execution_count": 22
  },
  {
   "cell_type": "code",
   "source": [
    "# for test\n",
    "new_dataset['positive1'].sum()/len(new_dataset)"
   ],
   "metadata": {
    "tags": [],
    "cell_id": "10b58a420fde4970901cf755174fc684",
    "source_hash": "9adb5e31",
    "execution_start": 1667065191829,
    "execution_millis": 1,
    "deepnote_to_be_reexecuted": false,
    "deepnote_cell_type": "code",
    "pycharm": {
     "name": "#%%\n"
    }
   },
   "outputs": [
    {
     "data": {
      "text/plain": "0.4568736954927512"
     },
     "execution_count": 23,
     "metadata": {},
     "output_type": "execute_result"
    }
   ],
   "execution_count": 23
  },
  {
   "cell_type": "code",
   "source": [
    "headline1_col.extend(['positive1', 'negative1'])\n",
    "headline2_col.extend(['positive2', 'negative2'])\n",
    "reorder_col = headline1_col + headline2_col\n",
    "new_dataset = new_dataset[reorder_col]"
   ],
   "metadata": {
    "cell_id": "1f52f75241634bba8f889ba25b32af6f",
    "pycharm": {
     "name": "#%%\n"
    },
    "collapsed": false,
    "source_hash": "f35fec06",
    "execution_start": 1667064663313,
    "execution_millis": 1,
    "deepnote_to_be_reexecuted": false,
    "deepnote_cell_type": "code"
   },
   "outputs": [],
   "execution_count": 24
  },
  {
   "cell_type": "code",
   "source": [
    "new_dataset.head(100)"
   ],
   "metadata": {
    "cell_id": "a0fd7dc83d464252a9b7d0c055d94f6c",
    "pycharm": {
     "name": "#%%\n"
    },
    "collapsed": false,
    "source_hash": "c5430f13",
    "execution_start": 1667064663318,
    "execution_millis": 576,
    "deepnote_to_be_reexecuted": false,
    "deepnote_cell_type": "code"
   },
   "outputs": [
    {
     "data": {
      "text/plain": "                                                                                                                                                                                                 headline1  \\\nclickability_test_id     eyecatcher_id            lede                                               excerpt                                                                                                 \n51436069220cb800020005bd 5332ba141fae79f09f002c47 <p>The President made a lot of promises, and he... You have so much potential. Why are you wasting...  Mr. President, I'm Not Mad. I'm Just Disappoin...   \n5143606a220cb800020005c6 5332ba211fae79f09f002dcf <p>If you think Fawzia Koofi is crazy for wanti... You don't want to miss this incredible story.       MAD RESPECT: This Brave Woman Is Running For P...   \n                                                                                                     You don't want to miss this incredible story.       If You Think Hillary Had A Rough Campaign, You...   \n                                                                                                     You don't want to miss this incredible story.       If You Think Hillary Had A Rough Campaign, You...   \n5143606b220cb800020005d7 5332ba581fae79f09f003326 <p><p>Sean Hannity thinks all women should have... Science can be confusing if you don't believe i...  Sean Hannity Thinks Telling Men Not To Attack ...   \n...                                                                                                                                                                                                    ...   \n5143608a220cb800020009c0 5332ba631fae79f09f0033f7 <p>You won't <b>believe</b> what happened to th... Jasmine's gonna need more than 3 wishes to get ...  Politically Correct Alternate Endings To Princ...   \n                                                                                                     Jasmine's gonna need more than 3 wishes to get ...  Politically Correct Alternate Endings To Princ...   \n                                                                                                     Jasmine's gonna need more than 3 wishes to get ...  LOL: Politically Correct Alternate Endings To ...   \n                                                                                                     Jasmine's gonna need more than 3 wishes to get ...  LOL: Politically Correct Alternate Endings To ...   \n                                                                                                     Jasmine's gonna need more than 3 wishes to get ...  The Disturbing True Story Of What Happens In D...   \n\n                                                                                                                                                             ctr1  \\\nclickability_test_id     eyecatcher_id            lede                                               excerpt                                                        \n51436069220cb800020005bd 5332ba141fae79f09f002c47 <p>The President made a lot of promises, and he... You have so much potential. Why are you wasting...  0.019770   \n5143606a220cb800020005c6 5332ba211fae79f09f002dcf <p>If you think Fawzia Koofi is crazy for wanti... You don't want to miss this incredible story.       0.011216   \n                                                                                                     You don't want to miss this incredible story.       0.012807   \n                                                                                                     You don't want to miss this incredible story.       0.012807   \n5143606b220cb800020005d7 5332ba581fae79f09f003326 <p><p>Sean Hannity thinks all women should have... Science can be confusing if you don't believe i...  0.013675   \n...                                                                                                                                                           ...   \n5143608a220cb800020009c0 5332ba631fae79f09f0033f7 <p>You won't <b>believe</b> what happened to th... Jasmine's gonna need more than 3 wishes to get ...  0.021062   \n                                                                                                     Jasmine's gonna need more than 3 wishes to get ...  0.021062   \n                                                                                                     Jasmine's gonna need more than 3 wishes to get ...  0.018564   \n                                                                                                     Jasmine's gonna need more than 3 wishes to get ...  0.018564   \n                                                                                                     Jasmine's gonna need more than 3 wishes to get ...  0.016571   \n\n                                                                                                                                                                date_created  \\\nclickability_test_id     eyecatcher_id            lede                                               excerpt                                                                   \n51436069220cb800020005bd 5332ba141fae79f09f002c47 <p>The President made a lot of promises, and he... You have so much potential. Why are you wasting...  2013-02-07 05:42:25   \n5143606a220cb800020005c6 5332ba211fae79f09f002dcf <p>If you think Fawzia Koofi is crazy for wanti... You don't want to miss this incredible story.       2013-02-19 19:05:45   \n                                                                                                     You don't want to miss this incredible story.       2013-02-19 19:03:39   \n                                                                                                     You don't want to miss this incredible story.       2013-02-19 19:03:39   \n5143606b220cb800020005d7 5332ba581fae79f09f003326 <p><p>Sean Hannity thinks all women should have... Science can be confusing if you don't believe i...  2013-03-09 06:55:39   \n...                                                                                                                                                                      ...   \n5143608a220cb800020009c0 5332ba631fae79f09f0033f7 <p>You won't <b>believe</b> what happened to th... Jasmine's gonna need more than 3 wishes to get ...  2013-03-14 20:35:36   \n                                                                                                     Jasmine's gonna need more than 3 wishes to get ...  2013-03-14 20:35:36   \n                                                                                                     Jasmine's gonna need more than 3 wishes to get ...  2013-03-14 20:36:15   \n                                                                                                     Jasmine's gonna need more than 3 wishes to get ...  2013-03-14 20:36:15   \n                                                                                                     Jasmine's gonna need more than 3 wishes to get ...  2013-03-14 20:37:56   \n\n                                                                                                                                                         numwords1  \\\nclickability_test_id     eyecatcher_id            lede                                               excerpt                                                         \n51436069220cb800020005bd 5332ba141fae79f09f002c47 <p>The President made a lot of promises, and he... You have so much potential. Why are you wasting...          9   \n5143606a220cb800020005c6 5332ba211fae79f09f002dcf <p>If you think Fawzia Koofi is crazy for wanti... You don't want to miss this incredible story.              17   \n                                                                                                     You don't want to miss this incredible story.              15   \n                                                                                                     You don't want to miss this incredible story.              15   \n5143606b220cb800020005d7 5332ba581fae79f09f003326 <p><p>Sean Hannity thinks all women should have... Science can be confusing if you don't believe i...         11   \n...                                                                                                                                                            ...   \n5143608a220cb800020009c0 5332ba631fae79f09f0033f7 <p>You won't <b>believe</b> what happened to th... Jasmine's gonna need more than 3 wishes to get ...         13   \n                                                                                                     Jasmine's gonna need more than 3 wishes to get ...         13   \n                                                                                                     Jasmine's gonna need more than 3 wishes to get ...         14   \n                                                                                                     Jasmine's gonna need more than 3 wishes to get ...         14   \n                                                                                                     Jasmine's gonna need more than 3 wishes to get ...         14   \n\n                                                                                                                                                         first_person_singular1  \\\nclickability_test_id     eyecatcher_id            lede                                               excerpt                                                                      \n51436069220cb800020005bd 5332ba141fae79f09f002c47 <p>The President made a lot of promises, and he... You have so much potential. Why are you wasting...                       1   \n5143606a220cb800020005c6 5332ba211fae79f09f002dcf <p>If you think Fawzia Koofi is crazy for wanti... You don't want to miss this incredible story.                            0   \n                                                                                                     You don't want to miss this incredible story.                            0   \n                                                                                                     You don't want to miss this incredible story.                            0   \n5143606b220cb800020005d7 5332ba581fae79f09f003326 <p><p>Sean Hannity thinks all women should have... Science can be confusing if you don't believe i...                       0   \n...                                                                                                                                                                         ...   \n5143608a220cb800020009c0 5332ba631fae79f09f0033f7 <p>You won't <b>believe</b> what happened to th... Jasmine's gonna need more than 3 wishes to get ...                       0   \n                                                                                                     Jasmine's gonna need more than 3 wishes to get ...                       0   \n                                                                                                     Jasmine's gonna need more than 3 wishes to get ...                       0   \n                                                                                                     Jasmine's gonna need more than 3 wishes to get ...                       0   \n                                                                                                     Jasmine's gonna need more than 3 wishes to get ...                       0   \n\n                                                                                                                                                         first_person_plural1  \\\nclickability_test_id     eyecatcher_id            lede                                               excerpt                                                                    \n51436069220cb800020005bd 5332ba141fae79f09f002c47 <p>The President made a lot of promises, and he... You have so much potential. Why are you wasting...                     0   \n5143606a220cb800020005c6 5332ba211fae79f09f002dcf <p>If you think Fawzia Koofi is crazy for wanti... You don't want to miss this incredible story.                          0   \n                                                                                                     You don't want to miss this incredible story.                          0   \n                                                                                                     You don't want to miss this incredible story.                          0   \n5143606b220cb800020005d7 5332ba581fae79f09f003326 <p><p>Sean Hannity thinks all women should have... Science can be confusing if you don't believe i...                     0   \n...                                                                                                                                                                       ...   \n5143608a220cb800020009c0 5332ba631fae79f09f0033f7 <p>You won't <b>believe</b> what happened to th... Jasmine's gonna need more than 3 wishes to get ...                     0   \n                                                                                                     Jasmine's gonna need more than 3 wishes to get ...                     0   \n                                                                                                     Jasmine's gonna need more than 3 wishes to get ...                     0   \n                                                                                                     Jasmine's gonna need more than 3 wishes to get ...                     0   \n                                                                                                     Jasmine's gonna need more than 3 wishes to get ...                     0   \n\n                                                                                                                                                         second_person1  \\\nclickability_test_id     eyecatcher_id            lede                                               excerpt                                                              \n51436069220cb800020005bd 5332ba141fae79f09f002c47 <p>The President made a lot of promises, and he... You have so much potential. Why are you wasting...               0   \n5143606a220cb800020005c6 5332ba211fae79f09f002dcf <p>If you think Fawzia Koofi is crazy for wanti... You don't want to miss this incredible story.                    0   \n                                                                                                     You don't want to miss this incredible story.                    1   \n                                                                                                     You don't want to miss this incredible story.                    1   \n5143606b220cb800020005d7 5332ba581fae79f09f003326 <p><p>Sean Hannity thinks all women should have... Science can be confusing if you don't believe i...               0   \n...                                                                                                                                                                 ...   \n5143608a220cb800020009c0 5332ba631fae79f09f0033f7 <p>You won't <b>believe</b> what happened to th... Jasmine's gonna need more than 3 wishes to get ...               1   \n                                                                                                     Jasmine's gonna need more than 3 wishes to get ...               1   \n                                                                                                     Jasmine's gonna need more than 3 wishes to get ...               1   \n                                                                                                     Jasmine's gonna need more than 3 wishes to get ...               1   \n                                                                                                     Jasmine's gonna need more than 3 wishes to get ...               0   \n\n                                                                                                                                                         third_person_singular1  \\\nclickability_test_id     eyecatcher_id            lede                                               excerpt                                                                      \n51436069220cb800020005bd 5332ba141fae79f09f002c47 <p>The President made a lot of promises, and he... You have so much potential. Why are you wasting...                       0   \n5143606a220cb800020005c6 5332ba211fae79f09f002dcf <p>If you think Fawzia Koofi is crazy for wanti... You don't want to miss this incredible story.                            0   \n                                                                                                     You don't want to miss this incredible story.                            0   \n                                                                                                     You don't want to miss this incredible story.                            0   \n5143606b220cb800020005d7 5332ba581fae79f09f003326 <p><p>Sean Hannity thinks all women should have... Science can be confusing if you don't believe i...                       0   \n...                                                                                                                                                                         ...   \n5143608a220cb800020009c0 5332ba631fae79f09f0033f7 <p>You won't <b>believe</b> what happened to th... Jasmine's gonna need more than 3 wishes to get ...                       0   \n                                                                                                     Jasmine's gonna need more than 3 wishes to get ...                       0   \n                                                                                                     Jasmine's gonna need more than 3 wishes to get ...                       0   \n                                                                                                     Jasmine's gonna need more than 3 wishes to get ...                       0   \n                                                                                                     Jasmine's gonna need more than 3 wishes to get ...                       0   \n\n                                                                                                                                                         third_person_plural1  \\\nclickability_test_id     eyecatcher_id            lede                                               excerpt                                                                    \n51436069220cb800020005bd 5332ba141fae79f09f002c47 <p>The President made a lot of promises, and he... You have so much potential. Why are you wasting...                     0   \n5143606a220cb800020005c6 5332ba211fae79f09f002dcf <p>If you think Fawzia Koofi is crazy for wanti... You don't want to miss this incredible story.                          0   \n                                                                                                     You don't want to miss this incredible story.                          0   \n                                                                                                     You don't want to miss this incredible story.                          0   \n5143606b220cb800020005d7 5332ba581fae79f09f003326 <p><p>Sean Hannity thinks all women should have... Science can be confusing if you don't believe i...                     0   \n...                                                                                                                                                                       ...   \n5143608a220cb800020009c0 5332ba631fae79f09f0033f7 <p>You won't <b>believe</b> what happened to th... Jasmine's gonna need more than 3 wishes to get ...                     0   \n                                                                                                     Jasmine's gonna need more than 3 wishes to get ...                     0   \n                                                                                                     Jasmine's gonna need more than 3 wishes to get ...                     0   \n                                                                                                     Jasmine's gonna need more than 3 wishes to get ...                     0   \n                                                                                                     Jasmine's gonna need more than 3 wishes to get ...                     0   \n\n                                                                                                                                                         positive1  \\\nclickability_test_id     eyecatcher_id            lede                                               excerpt                                                         \n51436069220cb800020005bd 5332ba141fae79f09f002c47 <p>The President made a lot of promises, and he... You have so much potential. Why are you wasting...          0   \n5143606a220cb800020005c6 5332ba211fae79f09f002dcf <p>If you think Fawzia Koofi is crazy for wanti... You don't want to miss this incredible story.               1   \n                                                                                                     You don't want to miss this incredible story.               0   \n                                                                                                     You don't want to miss this incredible story.               0   \n5143606b220cb800020005d7 5332ba581fae79f09f003326 <p><p>Sean Hannity thinks all women should have... Science can be confusing if you don't believe i...          0   \n...                                                                                                                                                            ...   \n5143608a220cb800020009c0 5332ba631fae79f09f0033f7 <p>You won't <b>believe</b> what happened to th... Jasmine's gonna need more than 3 wishes to get ...          1   \n                                                                                                     Jasmine's gonna need more than 3 wishes to get ...          1   \n                                                                                                     Jasmine's gonna need more than 3 wishes to get ...          1   \n                                                                                                     Jasmine's gonna need more than 3 wishes to get ...          1   \n                                                                                                     Jasmine's gonna need more than 3 wishes to get ...          0   \n\n                                                                                                                                                         ...  \\\nclickability_test_id     eyecatcher_id            lede                                               excerpt                                             ...   \n51436069220cb800020005bd 5332ba141fae79f09f002c47 <p>The President made a lot of promises, and he... You have so much potential. Why are you wasting...  ...   \n5143606a220cb800020005c6 5332ba211fae79f09f002dcf <p>If you think Fawzia Koofi is crazy for wanti... You don't want to miss this incredible story.       ...   \n                                                                                                     You don't want to miss this incredible story.       ...   \n                                                                                                     You don't want to miss this incredible story.       ...   \n5143606b220cb800020005d7 5332ba581fae79f09f003326 <p><p>Sean Hannity thinks all women should have... Science can be confusing if you don't believe i...  ...   \n...                                                                                                                                                      ...   \n5143608a220cb800020009c0 5332ba631fae79f09f0033f7 <p>You won't <b>believe</b> what happened to th... Jasmine's gonna need more than 3 wishes to get ...  ...   \n                                                                                                     Jasmine's gonna need more than 3 wishes to get ...  ...   \n                                                                                                     Jasmine's gonna need more than 3 wishes to get ...  ...   \n                                                                                                     Jasmine's gonna need more than 3 wishes to get ...  ...   \n                                                                                                     Jasmine's gonna need more than 3 wishes to get ...  ...   \n\n                                                                                                                                                                                                 headline2  \\\nclickability_test_id     eyecatcher_id            lede                                               excerpt                                                                                                 \n51436069220cb800020005bd 5332ba141fae79f09f002c47 <p>The President made a lot of promises, and he... You have so much potential. Why are you wasting...  Mr. President, I'm Not Mad. I'm Just Disappoin...   \n5143606a220cb800020005c6 5332ba211fae79f09f002dcf <p>If you think Fawzia Koofi is crazy for wanti... You don't want to miss this incredible story.       This Brave Woman Is Running For President Of A...   \n                                                                                                     You don't want to miss this incredible story.       MAD RESPECT: This Brave Woman Is Running For P...   \n                                                                                                     You don't want to miss this incredible story.       This Brave Woman Is Running For President Of A...   \n5143606b220cb800020005d7 5332ba581fae79f09f003326 <p><p>Sean Hannity thinks all women should have... Science can be confusing if you don't believe i...  Sean Hannity Thinks Its Waaaaay Too Hard To Te...   \n...                                                                                                                                                                                                    ...   \n5143608a220cb800020009c0 5332ba631fae79f09f0033f7 <p>You won't <b>believe</b> what happened to th... Jasmine's gonna need more than 3 wishes to get ...  The Disturbing True Story Of What Happens In D...   \n                                                                                                     Jasmine's gonna need more than 3 wishes to get ...  Disney Movies Tend To End In Lies. Here's What...   \n                                                                                                     Jasmine's gonna need more than 3 wishes to get ...  The Disturbing True Story Of What Happens In D...   \n                                                                                                     Jasmine's gonna need more than 3 wishes to get ...  Disney Movies Tend To End In Lies. Here's What...   \n                                                                                                     Jasmine's gonna need more than 3 wishes to get ...  Disney Movies Tend To End In Lies. Here's What...   \n\n                                                                                                                                                             ctr2  \\\nclickability_test_id     eyecatcher_id            lede                                               excerpt                                                        \n51436069220cb800020005bd 5332ba141fae79f09f002c47 <p>The President made a lot of promises, and he... You have so much potential. Why are you wasting...  0.016595   \n5143606a220cb800020005c6 5332ba211fae79f09f002dcf <p>If you think Fawzia Koofi is crazy for wanti... You don't want to miss this incredible story.       0.009410   \n                                                                                                     You don't want to miss this incredible story.       0.011216   \n                                                                                                     You don't want to miss this incredible story.       0.009410   \n5143606b220cb800020005d7 5332ba581fae79f09f003326 <p><p>Sean Hannity thinks all women should have... Science can be confusing if you don't believe i...  0.013050   \n...                                                                                                                                                           ...   \n5143608a220cb800020009c0 5332ba631fae79f09f0033f7 <p>You won't <b>believe</b> what happened to th... Jasmine's gonna need more than 3 wishes to get ...  0.016571   \n                                                                                                     Jasmine's gonna need more than 3 wishes to get ...  0.012496   \n                                                                                                     Jasmine's gonna need more than 3 wishes to get ...  0.016571   \n                                                                                                     Jasmine's gonna need more than 3 wishes to get ...  0.012496   \n                                                                                                     Jasmine's gonna need more than 3 wishes to get ...  0.012496   \n\n                                                                                                                                                         numwords2  \\\nclickability_test_id     eyecatcher_id            lede                                               excerpt                                                         \n51436069220cb800020005bd 5332ba141fae79f09f002c47 <p>The President made a lot of promises, and he... You have so much potential. Why are you wasting...         15   \n5143606a220cb800020005c6 5332ba211fae79f09f002dcf <p>If you think Fawzia Koofi is crazy for wanti... You don't want to miss this incredible story.              11   \n                                                                                                     You don't want to miss this incredible story.              17   \n                                                                                                     You don't want to miss this incredible story.              11   \n5143606b220cb800020005d7 5332ba581fae79f09f003326 <p><p>Sean Hannity thinks all women should have... Science can be confusing if you don't believe i...         14   \n...                                                                                                                                                            ...   \n5143608a220cb800020009c0 5332ba631fae79f09f0033f7 <p>You won't <b>believe</b> what happened to th... Jasmine's gonna need more than 3 wishes to get ...         14   \n                                                                                                     Jasmine's gonna need more than 3 wishes to get ...         11   \n                                                                                                     Jasmine's gonna need more than 3 wishes to get ...         14   \n                                                                                                     Jasmine's gonna need more than 3 wishes to get ...         11   \n                                                                                                     Jasmine's gonna need more than 3 wishes to get ...         11   \n\n                                                                                                                                                         first_person_singular2  \\\nclickability_test_id     eyecatcher_id            lede                                               excerpt                                                                      \n51436069220cb800020005bd 5332ba141fae79f09f002c47 <p>The President made a lot of promises, and he... You have so much potential. Why are you wasting...                       1   \n5143606a220cb800020005c6 5332ba211fae79f09f002dcf <p>If you think Fawzia Koofi is crazy for wanti... You don't want to miss this incredible story.                            0   \n                                                                                                     You don't want to miss this incredible story.                            0   \n                                                                                                     You don't want to miss this incredible story.                            0   \n5143606b220cb800020005d7 5332ba581fae79f09f003326 <p><p>Sean Hannity thinks all women should have... Science can be confusing if you don't believe i...                       0   \n...                                                                                                                                                                         ...   \n5143608a220cb800020009c0 5332ba631fae79f09f0033f7 <p>You won't <b>believe</b> what happened to th... Jasmine's gonna need more than 3 wishes to get ...                       0   \n                                                                                                     Jasmine's gonna need more than 3 wishes to get ...                       0   \n                                                                                                     Jasmine's gonna need more than 3 wishes to get ...                       0   \n                                                                                                     Jasmine's gonna need more than 3 wishes to get ...                       0   \n                                                                                                     Jasmine's gonna need more than 3 wishes to get ...                       0   \n\n                                                                                                                                                         first_person_plural2  \\\nclickability_test_id     eyecatcher_id            lede                                               excerpt                                                                    \n51436069220cb800020005bd 5332ba141fae79f09f002c47 <p>The President made a lot of promises, and he... You have so much potential. Why are you wasting...                     0   \n5143606a220cb800020005c6 5332ba211fae79f09f002dcf <p>If you think Fawzia Koofi is crazy for wanti... You don't want to miss this incredible story.                          0   \n                                                                                                     You don't want to miss this incredible story.                          0   \n                                                                                                     You don't want to miss this incredible story.                          0   \n5143606b220cb800020005d7 5332ba581fae79f09f003326 <p><p>Sean Hannity thinks all women should have... Science can be confusing if you don't believe i...                     0   \n...                                                                                                                                                                       ...   \n5143608a220cb800020009c0 5332ba631fae79f09f0033f7 <p>You won't <b>believe</b> what happened to th... Jasmine's gonna need more than 3 wishes to get ...                     0   \n                                                                                                     Jasmine's gonna need more than 3 wishes to get ...                     0   \n                                                                                                     Jasmine's gonna need more than 3 wishes to get ...                     0   \n                                                                                                     Jasmine's gonna need more than 3 wishes to get ...                     0   \n                                                                                                     Jasmine's gonna need more than 3 wishes to get ...                     0   \n\n                                                                                                                                                         second_person2  \\\nclickability_test_id     eyecatcher_id            lede                                               excerpt                                                              \n51436069220cb800020005bd 5332ba141fae79f09f002c47 <p>The President made a lot of promises, and he... You have so much potential. Why are you wasting...               0   \n5143606a220cb800020005c6 5332ba211fae79f09f002dcf <p>If you think Fawzia Koofi is crazy for wanti... You don't want to miss this incredible story.                    0   \n                                                                                                     You don't want to miss this incredible story.                    0   \n                                                                                                     You don't want to miss this incredible story.                    0   \n5143606b220cb800020005d7 5332ba581fae79f09f003326 <p><p>Sean Hannity thinks all women should have... Science can be confusing if you don't believe i...               0   \n...                                                                                                                                                                 ...   \n5143608a220cb800020009c0 5332ba631fae79f09f0033f7 <p>You won't <b>believe</b> what happened to th... Jasmine's gonna need more than 3 wishes to get ...               0   \n                                                                                                     Jasmine's gonna need more than 3 wishes to get ...               0   \n                                                                                                     Jasmine's gonna need more than 3 wishes to get ...               0   \n                                                                                                     Jasmine's gonna need more than 3 wishes to get ...               0   \n                                                                                                     Jasmine's gonna need more than 3 wishes to get ...               0   \n\n                                                                                                                                                         third_person_singular2  \\\nclickability_test_id     eyecatcher_id            lede                                               excerpt                                                                      \n51436069220cb800020005bd 5332ba141fae79f09f002c47 <p>The President made a lot of promises, and he... You have so much potential. Why are you wasting...                       0   \n5143606a220cb800020005c6 5332ba211fae79f09f002dcf <p>If you think Fawzia Koofi is crazy for wanti... You don't want to miss this incredible story.                            0   \n                                                                                                     You don't want to miss this incredible story.                            0   \n                                                                                                     You don't want to miss this incredible story.                            0   \n5143606b220cb800020005d7 5332ba581fae79f09f003326 <p><p>Sean Hannity thinks all women should have... Science can be confusing if you don't believe i...                       1   \n...                                                                                                                                                                         ...   \n5143608a220cb800020009c0 5332ba631fae79f09f0033f7 <p>You won't <b>believe</b> what happened to th... Jasmine's gonna need more than 3 wishes to get ...                       0   \n                                                                                                     Jasmine's gonna need more than 3 wishes to get ...                       0   \n                                                                                                     Jasmine's gonna need more than 3 wishes to get ...                       0   \n                                                                                                     Jasmine's gonna need more than 3 wishes to get ...                       0   \n                                                                                                     Jasmine's gonna need more than 3 wishes to get ...                       0   \n\n                                                                                                                                                         third_person_plural2  \\\nclickability_test_id     eyecatcher_id            lede                                               excerpt                                                                    \n51436069220cb800020005bd 5332ba141fae79f09f002c47 <p>The President made a lot of promises, and he... You have so much potential. Why are you wasting...                     0   \n5143606a220cb800020005c6 5332ba211fae79f09f002dcf <p>If you think Fawzia Koofi is crazy for wanti... You don't want to miss this incredible story.                          0   \n                                                                                                     You don't want to miss this incredible story.                          0   \n                                                                                                     You don't want to miss this incredible story.                          0   \n5143606b220cb800020005d7 5332ba581fae79f09f003326 <p><p>Sean Hannity thinks all women should have... Science can be confusing if you don't believe i...                     0   \n...                                                                                                                                                                       ...   \n5143608a220cb800020009c0 5332ba631fae79f09f0033f7 <p>You won't <b>believe</b> what happened to th... Jasmine's gonna need more than 3 wishes to get ...                     0   \n                                                                                                     Jasmine's gonna need more than 3 wishes to get ...                     0   \n                                                                                                     Jasmine's gonna need more than 3 wishes to get ...                     0   \n                                                                                                     Jasmine's gonna need more than 3 wishes to get ...                     0   \n                                                                                                     Jasmine's gonna need more than 3 wishes to get ...                     0   \n\n                                                                                                                                                         positive2  \\\nclickability_test_id     eyecatcher_id            lede                                               excerpt                                                         \n51436069220cb800020005bd 5332ba141fae79f09f002c47 <p>The President made a lot of promises, and he... You have so much potential. Why are you wasting...          0   \n5143606a220cb800020005c6 5332ba211fae79f09f002dcf <p>If you think Fawzia Koofi is crazy for wanti... You don't want to miss this incredible story.               1   \n                                                                                                     You don't want to miss this incredible story.               1   \n                                                                                                     You don't want to miss this incredible story.               1   \n5143606b220cb800020005d7 5332ba581fae79f09f003326 <p><p>Sean Hannity thinks all women should have... Science can be confusing if you don't believe i...          0   \n...                                                                                                                                                            ...   \n5143608a220cb800020009c0 5332ba631fae79f09f0033f7 <p>You won't <b>believe</b> what happened to th... Jasmine's gonna need more than 3 wishes to get ...          0   \n                                                                                                     Jasmine's gonna need more than 3 wishes to get ...          0   \n                                                                                                     Jasmine's gonna need more than 3 wishes to get ...          0   \n                                                                                                     Jasmine's gonna need more than 3 wishes to get ...          0   \n                                                                                                     Jasmine's gonna need more than 3 wishes to get ...          0   \n\n                                                                                                                                                         negative2  \nclickability_test_id     eyecatcher_id            lede                                               excerpt                                                        \n51436069220cb800020005bd 5332ba141fae79f09f002c47 <p>The President made a lot of promises, and he... You have so much potential. Why are you wasting...          1  \n5143606a220cb800020005c6 5332ba211fae79f09f002dcf <p>If you think Fawzia Koofi is crazy for wanti... You don't want to miss this incredible story.               0  \n                                                                                                     You don't want to miss this incredible story.               1  \n                                                                                                     You don't want to miss this incredible story.               0  \n5143606b220cb800020005d7 5332ba581fae79f09f003326 <p><p>Sean Hannity thinks all women should have... Science can be confusing if you don't believe i...          1  \n...                                                                                                                                                            ...  \n5143608a220cb800020009c0 5332ba631fae79f09f0033f7 <p>You won't <b>believe</b> what happened to th... Jasmine's gonna need more than 3 wishes to get ...          1  \n                                                                                                     Jasmine's gonna need more than 3 wishes to get ...          1  \n                                                                                                     Jasmine's gonna need more than 3 wishes to get ...          1  \n                                                                                                     Jasmine's gonna need more than 3 wishes to get ...          1  \n                                                                                                     Jasmine's gonna need more than 3 wishes to get ...          1  \n\n[100 rows x 21 columns]",
      "text/html": "<div>\n<style scoped>\n    .dataframe tbody tr th:only-of-type {\n        vertical-align: middle;\n    }\n\n    .dataframe tbody tr th {\n        vertical-align: top;\n    }\n\n    .dataframe thead th {\n        text-align: right;\n    }\n</style>\n<table border=\"1\" class=\"dataframe\">\n  <thead>\n    <tr style=\"text-align: right;\">\n      <th></th>\n      <th></th>\n      <th></th>\n      <th></th>\n      <th>headline1</th>\n      <th>ctr1</th>\n      <th>date_created</th>\n      <th>numwords1</th>\n      <th>first_person_singular1</th>\n      <th>first_person_plural1</th>\n      <th>second_person1</th>\n      <th>third_person_singular1</th>\n      <th>third_person_plural1</th>\n      <th>positive1</th>\n      <th>...</th>\n      <th>headline2</th>\n      <th>ctr2</th>\n      <th>numwords2</th>\n      <th>first_person_singular2</th>\n      <th>first_person_plural2</th>\n      <th>second_person2</th>\n      <th>third_person_singular2</th>\n      <th>third_person_plural2</th>\n      <th>positive2</th>\n      <th>negative2</th>\n    </tr>\n    <tr>\n      <th>clickability_test_id</th>\n      <th>eyecatcher_id</th>\n      <th>lede</th>\n      <th>excerpt</th>\n      <th></th>\n      <th></th>\n      <th></th>\n      <th></th>\n      <th></th>\n      <th></th>\n      <th></th>\n      <th></th>\n      <th></th>\n      <th></th>\n      <th></th>\n      <th></th>\n      <th></th>\n      <th></th>\n      <th></th>\n      <th></th>\n      <th></th>\n      <th></th>\n      <th></th>\n      <th></th>\n      <th></th>\n    </tr>\n  </thead>\n  <tbody>\n    <tr>\n      <th>51436069220cb800020005bd</th>\n      <th>5332ba141fae79f09f002c47</th>\n      <th>&lt;p&gt;The President made a lot of promises, and he took a lot of action on many of them. Not all of them, though. Somewhere along the way he seems to have gotten distracted. We should probably get to the bottom of that.&lt;br&gt;&lt;/p&gt;</th>\n      <th>You have so much potential. Why are you wasting it?</th>\n      <td>Mr. President, I'm Not Mad. I'm Just Disappoin...</td>\n      <td>0.019770</td>\n      <td>2013-02-07 05:42:25</td>\n      <td>9</td>\n      <td>1</td>\n      <td>0</td>\n      <td>0</td>\n      <td>0</td>\n      <td>0</td>\n      <td>0</td>\n      <td>...</td>\n      <td>Mr. President, I'm Not Mad. I'm Just Disappoin...</td>\n      <td>0.016595</td>\n      <td>15</td>\n      <td>1</td>\n      <td>0</td>\n      <td>0</td>\n      <td>0</td>\n      <td>0</td>\n      <td>0</td>\n      <td>1</td>\n    </tr>\n    <tr>\n      <th rowspan=\"3\" valign=\"top\">5143606a220cb800020005c6</th>\n      <th rowspan=\"3\" valign=\"top\">5332ba211fae79f09f002dcf</th>\n      <th rowspan=\"3\" valign=\"top\">&lt;p&gt;If you think Fawzia Koofi is crazy for wanting to be president of Afghanistan (yes, Afghanistan), you won't after listening to her incredible story (especially how many times she's almost died and/or been killed). She's a fierce lady who knows &lt;i&gt;exactly&lt;/i&gt; what she's doing. What an inspiration.&lt;/p&gt;\\n</th>\n      <th>You don't want to miss this incredible story.</th>\n      <td>MAD RESPECT: This Brave Woman Is Running For P...</td>\n      <td>0.011216</td>\n      <td>2013-02-19 19:05:45</td>\n      <td>17</td>\n      <td>0</td>\n      <td>0</td>\n      <td>0</td>\n      <td>0</td>\n      <td>0</td>\n      <td>1</td>\n      <td>...</td>\n      <td>This Brave Woman Is Running For President Of A...</td>\n      <td>0.009410</td>\n      <td>11</td>\n      <td>0</td>\n      <td>0</td>\n      <td>0</td>\n      <td>0</td>\n      <td>0</td>\n      <td>1</td>\n      <td>0</td>\n    </tr>\n    <tr>\n      <th>You don't want to miss this incredible story.</th>\n      <td>If You Think Hillary Had A Rough Campaign, You...</td>\n      <td>0.012807</td>\n      <td>2013-02-19 19:03:39</td>\n      <td>15</td>\n      <td>0</td>\n      <td>0</td>\n      <td>1</td>\n      <td>0</td>\n      <td>0</td>\n      <td>0</td>\n      <td>...</td>\n      <td>MAD RESPECT: This Brave Woman Is Running For P...</td>\n      <td>0.011216</td>\n      <td>17</td>\n      <td>0</td>\n      <td>0</td>\n      <td>0</td>\n      <td>0</td>\n      <td>0</td>\n      <td>1</td>\n      <td>1</td>\n    </tr>\n    <tr>\n      <th>You don't want to miss this incredible story.</th>\n      <td>If You Think Hillary Had A Rough Campaign, You...</td>\n      <td>0.012807</td>\n      <td>2013-02-19 19:03:39</td>\n      <td>15</td>\n      <td>0</td>\n      <td>0</td>\n      <td>1</td>\n      <td>0</td>\n      <td>0</td>\n      <td>0</td>\n      <td>...</td>\n      <td>This Brave Woman Is Running For President Of A...</td>\n      <td>0.009410</td>\n      <td>11</td>\n      <td>0</td>\n      <td>0</td>\n      <td>0</td>\n      <td>0</td>\n      <td>0</td>\n      <td>1</td>\n      <td>0</td>\n    </tr>\n    <tr>\n      <th>5143606b220cb800020005d7</th>\n      <th>5332ba581fae79f09f003326</th>\n      <th>&lt;p&gt;&lt;p&gt;Sean Hannity thinks all women should have the right to choose... to be armed. Zerlina Maxwell didn't disagree, yet she went on a 3 minute campaign suggesting that perhaps instead of arming victims, we take another more obvious route, like, I dunno,&lt;b&gt; teaching men not to rape&lt;/b&gt;, since that seems to work really well. Seriously, it works &lt;a href=\"http://upwr.me/ZnDHAP\"&gt;REALLY WELL&lt;/a&gt;.&lt;/p&gt;&lt;p&gt;He thought ignoring her would be the best way not to hear that. And &lt;a href=\"http://upwr.me/Xx5sKO\" target=\"_blank\"&gt;now his fans are threatening her&lt;/a&gt;.&lt;/p&gt;&lt;br&gt;&lt;/p&gt;</th>\n      <th>Science can be confusing if you don't believe in it.</th>\n      <td>Sean Hannity Thinks Telling Men Not To Attack ...</td>\n      <td>0.013675</td>\n      <td>2013-03-09 06:55:39</td>\n      <td>11</td>\n      <td>0</td>\n      <td>0</td>\n      <td>0</td>\n      <td>0</td>\n      <td>0</td>\n      <td>0</td>\n      <td>...</td>\n      <td>Sean Hannity Thinks Its Waaaaay Too Hard To Te...</td>\n      <td>0.013050</td>\n      <td>14</td>\n      <td>0</td>\n      <td>0</td>\n      <td>0</td>\n      <td>1</td>\n      <td>0</td>\n      <td>0</td>\n      <td>1</td>\n    </tr>\n    <tr>\n      <th>...</th>\n      <th>...</th>\n      <th>...</th>\n      <th>...</th>\n      <td>...</td>\n      <td>...</td>\n      <td>...</td>\n      <td>...</td>\n      <td>...</td>\n      <td>...</td>\n      <td>...</td>\n      <td>...</td>\n      <td>...</td>\n      <td>...</td>\n      <td>...</td>\n      <td>...</td>\n      <td>...</td>\n      <td>...</td>\n      <td>...</td>\n      <td>...</td>\n      <td>...</td>\n      <td>...</td>\n      <td>...</td>\n      <td>...</td>\n      <td>...</td>\n    </tr>\n    <tr>\n      <th rowspan=\"5\" valign=\"top\">5143608a220cb800020009c0</th>\n      <th rowspan=\"5\" valign=\"top\">5332ba631fae79f09f0033f7</th>\n      <th rowspan=\"5\" valign=\"top\">&lt;p&gt;You won't &lt;b&gt;believe&lt;/b&gt; what happened to the Little Mermaid last week. And Jasmine? She's gonna need more than three wishes to get out of &lt;b&gt;that&lt;/b&gt; mess. &lt;/p&gt;&lt;p&gt;Me? I'm just going to sit here and watch this on repeat until my body shrivels up due to lack of moisture because this makes me laugh so hard I cry. &lt;/p&gt;\\n</th>\n      <th>Jasmine's gonna need more than 3 wishes to get out of THAT mess.</th>\n      <td>Politically Correct Alternate Endings To Princ...</td>\n      <td>0.021062</td>\n      <td>2013-03-14 20:35:36</td>\n      <td>13</td>\n      <td>0</td>\n      <td>0</td>\n      <td>1</td>\n      <td>0</td>\n      <td>0</td>\n      <td>1</td>\n      <td>...</td>\n      <td>The Disturbing True Story Of What Happens In D...</td>\n      <td>0.016571</td>\n      <td>14</td>\n      <td>0</td>\n      <td>0</td>\n      <td>0</td>\n      <td>0</td>\n      <td>0</td>\n      <td>0</td>\n      <td>1</td>\n    </tr>\n    <tr>\n      <th>Jasmine's gonna need more than 3 wishes to get out of THAT mess.</th>\n      <td>Politically Correct Alternate Endings To Princ...</td>\n      <td>0.021062</td>\n      <td>2013-03-14 20:35:36</td>\n      <td>13</td>\n      <td>0</td>\n      <td>0</td>\n      <td>1</td>\n      <td>0</td>\n      <td>0</td>\n      <td>1</td>\n      <td>...</td>\n      <td>Disney Movies Tend To End In Lies. Here's What...</td>\n      <td>0.012496</td>\n      <td>11</td>\n      <td>0</td>\n      <td>0</td>\n      <td>0</td>\n      <td>0</td>\n      <td>0</td>\n      <td>0</td>\n      <td>1</td>\n    </tr>\n    <tr>\n      <th>Jasmine's gonna need more than 3 wishes to get out of THAT mess.</th>\n      <td>LOL: Politically Correct Alternate Endings To ...</td>\n      <td>0.018564</td>\n      <td>2013-03-14 20:36:15</td>\n      <td>14</td>\n      <td>0</td>\n      <td>0</td>\n      <td>1</td>\n      <td>0</td>\n      <td>0</td>\n      <td>1</td>\n      <td>...</td>\n      <td>The Disturbing True Story Of What Happens In D...</td>\n      <td>0.016571</td>\n      <td>14</td>\n      <td>0</td>\n      <td>0</td>\n      <td>0</td>\n      <td>0</td>\n      <td>0</td>\n      <td>0</td>\n      <td>1</td>\n    </tr>\n    <tr>\n      <th>Jasmine's gonna need more than 3 wishes to get out of THAT mess.</th>\n      <td>LOL: Politically Correct Alternate Endings To ...</td>\n      <td>0.018564</td>\n      <td>2013-03-14 20:36:15</td>\n      <td>14</td>\n      <td>0</td>\n      <td>0</td>\n      <td>1</td>\n      <td>0</td>\n      <td>0</td>\n      <td>1</td>\n      <td>...</td>\n      <td>Disney Movies Tend To End In Lies. Here's What...</td>\n      <td>0.012496</td>\n      <td>11</td>\n      <td>0</td>\n      <td>0</td>\n      <td>0</td>\n      <td>0</td>\n      <td>0</td>\n      <td>0</td>\n      <td>1</td>\n    </tr>\n    <tr>\n      <th>Jasmine's gonna need more than 3 wishes to get out of THAT mess.</th>\n      <td>The Disturbing True Story Of What Happens In D...</td>\n      <td>0.016571</td>\n      <td>2013-03-14 20:37:56</td>\n      <td>14</td>\n      <td>0</td>\n      <td>0</td>\n      <td>0</td>\n      <td>0</td>\n      <td>0</td>\n      <td>0</td>\n      <td>...</td>\n      <td>Disney Movies Tend To End In Lies. Here's What...</td>\n      <td>0.012496</td>\n      <td>11</td>\n      <td>0</td>\n      <td>0</td>\n      <td>0</td>\n      <td>0</td>\n      <td>0</td>\n      <td>0</td>\n      <td>1</td>\n    </tr>\n  </tbody>\n</table>\n<p>100 rows × 21 columns</p>\n</div>"
     },
     "execution_count": 25,
     "metadata": {},
     "output_type": "execute_result"
    }
   ],
   "execution_count": 25
  },
  {
   "cell_type": "markdown",
   "source": [
    "## Task 3: Estimating the effect of language on headline success\n",
    "\n",
    "Your third task revolves around the question *how does language impact headlines' success?*\n",
    "\n",
    "3.1 First, we examine whether the winner headlines have more or fewer words than the loser headline. Conduct an independent sample t-test and paired t-test (see [scipy.stats](https://docs.scipy.org/doc/scipy/reference/generated/scipy.stats.ttest_ind.html#scipy.stats.ttest_ind); for the independent sample t-test, assume equal variance). Also, calculate and print the mean difference between the number of words in the winner and the loser headlines.\n",
    "\n",
    "3.2 **Discuss:** Are longer headlines more successful? Justify.\n",
    "\n",
    "3.3 The [t-statistic](https://en.wikipedia.org/wiki/T-statistic) is the ratio of the departure of the estimated value of a parameter from its hypothesized value to its standard error. In a t-test, the higher the t-statistic, the more confidently we can reject the null hypothesis. Use `numpy.random` to create four samples, each of size 30:\n",
    "- $X \\sim Uniform(0,1)$\n",
    "- $Y \\sim Uniform(0,1)$\n",
    "- $Z = X/2 + Y/2 + 0.1$\n",
    "- $K = Y + 0.1$\n",
    "    \n",
    "3.4 **Discuss:** What are the expected values and the variance of $X$, $Y$, $Z$, and $K$? (You don't need to justify them!)\n",
    "\n",
    "3.5 Run the following simulation 10000 times, storing the $p$-values for the tests at each run:\n",
    "- Sample new values  for $X$, $Y$, $Z$ and $K$ ($n=30$ each). \n",
    "- Run independent sample t-test (assuming equal variance) and paired t-test comparing $X$ and $Z$.\n",
    "-  Run independent sample t-test (assuming equal variance) and paired t-test comparing $X$ and $K$.\n",
    "\n",
    "3.6 Recall that the power of a binary hypothesis test is the probability that the test correctly rejects the null hypothesis when the alternative hypothesis is true. Using the p-values and assuming that we reject the null hypothesis if $p < 0.05$, calculate the statistical power of:\n",
    "- The independent sample t-test comparing $X$ and $Z$.\n",
    "- The paired t-test comparing $X$ and $Z$.\n",
    "- The independent sample t-test comparing $X$ and $K$.\n",
    "- The paired t-test comparing $X$ and $K$.\n",
    "    \n",
    "3.7 **Discuss:** When are paired t-tests helpful? Justify.\n",
    "\n",
    "3.8 With a bootstrapping approach (implemented by yourself, you should not use existing bootstrapping functions), estimate the average and 95% confidence intervals for:\n",
    "- the ratio between the number of words in the winner headline and the loser headline (i.e., the number of words in the winner headline divided by the number of words in the loser headlines).\n",
    "- the difference in usage of positive words between winner and loser headlines.\n",
    "- the difference in usage of negative words between winner and loser headlines.\n",
    "- The difference in usage of each type of pronoun between winner and loser headlines.\n",
    "\n",
    "3.9 **Discuss:** According to the results obtained in **T3.8**, what headlines grab people's attention the most? Justify your answer.\n",
    "    \n",
    "---\n",
    "**Comments:**\n",
    "\n",
    "- Paired t-test formula: $t = \\frac{\\overline{x}_{\\mathrm{diff}}}{s_{\\mathrm{diff}} / \\sqrt n }$ where:\n",
    "    - $\\overline{x}_{\\mathrm{diff}}$ is the sample difference between the means of the matched sample; and\n",
    "    - $s_{\\mathrm{diff}}$ is the sample variance of the matched sample; and\n",
    "    - $n$ is the number of matched samples.\n",
    "    \n",
    "- Independent samples t-test formula: $t = \\frac{\\overline{x}_{1} - \\overline{x}_{2}}{\\sqrt{\\frac{s_{1}^{2}}{n_{1}} + \\frac{s_{2}^{2}}{n_{2}}}}$ where:\n",
    "    - $\\overline{x}_{\\mathrm{1}}$ is the sample mean of the first group; and\n",
    "    - $s_{\\mathrm{1}}$ is the sample variance of the first group; and\n",
    "    - $n_1$ is the number of samples in the first group;\n",
    "    \n",
    "     \n",
    "- t-tests are valid for samples of non-normal distribution for large enough samples (a rule of thumb used is: n$\\geq$30)!"
   ],
   "metadata": {
    "cell_id": "7ca2eb49ff3b47a68f2dabb47849b917",
    "pycharm": {
     "name": "#%% md\n"
    },
    "deepnote_cell_type": "markdown"
   }
  },
  {
   "cell_type": "markdown",
   "source": [
    "### 3.1 First, we examine whether the winner headlines have more or fewer words than the loser headline. Conduct an independent sample t-test and paired t-test (see scipy.stats; for the independent sample t-test, assume equal variance). Also, calculate and print the mean difference between the number of words in the winner and the loser headlines."
   ],
   "metadata": {
    "cell_id": "2a87402dab834095aa3910e446656329",
    "pycharm": {
     "name": "#%% md\n"
    },
    "collapsed": false,
    "deepnote_cell_type": "markdown"
   }
  },
  {
   "cell_type": "code",
   "source": [
    "win_num_word = new_dataset.numwords1\n",
    "lose_num_word = new_dataset.numwords2\n",
    "# independent t-test between winner and loser\n",
    "t_test_ind = stats.ttest_ind(win_num_word, lose_num_word, equal_var=True)\n",
    "print(t_test_ind)\n",
    "print(win_num_word.mean(), lose_num_word.mean())"
   ],
   "metadata": {
    "cell_id": "3cb982d289f34281bf7b817a366305cc",
    "pycharm": {
     "name": "#%%\n"
    },
    "source_hash": "bcecc29d",
    "execution_start": 1667064663477,
    "execution_millis": 9938867,
    "deepnote_to_be_reexecuted": false,
    "deepnote_cell_type": "code"
   },
   "outputs": [
    {
     "name": "stdout",
     "output_type": "stream",
     "text": [
      "Ttest_indResult(statistic=8.474890728758453, pvalue=2.442511064669354e-17)\n",
      "15.092909121678796 14.81525356800361\n"
     ]
    }
   ],
   "execution_count": 26
  },
  {
   "cell_type": "code",
   "source": [
    "# pair t-test between winner and loser\n",
    "t_test_paired = stats.ttest_rel(win_num_word, lose_num_word)\n",
    "print(t_test_paired)"
   ],
   "metadata": {
    "cell_id": "0d2bb4b57c2f41829e8223a915d7fe57",
    "pycharm": {
     "name": "#%%\n"
    },
    "collapsed": false,
    "source_hash": "87c2d24f",
    "execution_start": 1667064663478,
    "execution_millis": 417,
    "deepnote_to_be_reexecuted": false,
    "deepnote_cell_type": "code"
   },
   "outputs": [
    {
     "name": "stdout",
     "output_type": "stream",
     "text": [
      "Ttest_relResult(statistic=10.208663781647644, pvalue=2.118549790803972e-24)\n"
     ]
    }
   ],
   "execution_count": 27
  },
  {
   "cell_type": "code",
   "source": [
    "# mean difference between the number of words in the winner and the loser headlines\n",
    "diff_in_num_of_words = win_num_word.mean() - lose_num_word.mean()\n",
    "print(f'The mean difference between the number of words in the winner and the loser headlines is {diff_in_num_of_words}.')"
   ],
   "metadata": {
    "cell_id": "e855a0724c9548a4a116afefcf6c2f97",
    "pycharm": {
     "name": "#%%\n"
    },
    "collapsed": false,
    "source_hash": "cc73864b",
    "execution_start": 1667064663479,
    "execution_millis": 417,
    "deepnote_to_be_reexecuted": false,
    "deepnote_cell_type": "code"
   },
   "outputs": [
    {
     "name": "stdout",
     "output_type": "stream",
     "text": [
      "The mean difference between the number of words in the winner and the loser headlines is 0.277655553675185.\n"
     ]
    }
   ],
   "execution_count": 28
  },
  {
   "cell_type": "markdown",
   "source": [
    "### 3.2 Discuss: Are longer headlines more successful? Justify."
   ],
   "metadata": {
    "cell_id": "441b8b94aca041b69fec075955a74193",
    "pycharm": {
     "name": "#%% md\n"
    },
    "collapsed": false,
    "deepnote_cell_type": "markdown"
   }
  },
  {
   "cell_type": "markdown",
   "source": [
    "**Answer:** Yes, It is easy to see that in Independent and Parise t-test, the p-value is smaller than 0.05 (significant value). So it indicate whatever the two dataset is related or not related, it haven't identilcal average (expected) value. Besides, winner headline have 0.27 average words more than loser headline.\n"
   ],
   "metadata": {
    "cell_id": "b8f70a068fef4c42a0eed35a0164b17f",
    "pycharm": {
     "name": "#%% md\n"
    },
    "collapsed": false,
    "deepnote_cell_type": "markdown"
   }
  },
  {
   "cell_type": "markdown",
   "source": [
    "### 3.3 The t-statistic is the ratio of the departure of the estimated value of a parameter from its hypothesized value to its standard error. In a t-test, the higher the t-statistic, the more confidently we can reject the null hypothesis. Use numpy.random to create four samples, each of size 30:\n",
    "- $X \\sim Uniform(0,1)$\n",
    "- $Y \\sim Uniform(0,1)$\n",
    "- $Z = X/2 + Y/2 + 0.1$\n",
    "- $K = Y + 0.1$\n",
    "\n"
   ],
   "metadata": {
    "cell_id": "15414dd8d9574f4280946d7268203945",
    "pycharm": {
     "name": "#%% md\n"
    },
    "collapsed": false,
    "deepnote_cell_type": "markdown"
   }
  },
  {
   "cell_type": "code",
   "source": [
    "X = np.random.uniform(0, 1, 30)\n",
    "Y = np.random.uniform(0, 1, 30)\n",
    "Z = X/2 + Y/2 + 0.1\n",
    "K = Y + 0.1"
   ],
   "metadata": {
    "cell_id": "0acfd7ba075c432eb5a7235f02195243",
    "pycharm": {
     "name": "#%%\n"
    },
    "collapsed": false,
    "source_hash": "3aa02253",
    "execution_start": 1667064663481,
    "execution_millis": 2,
    "deepnote_to_be_reexecuted": false,
    "deepnote_cell_type": "code"
   },
   "outputs": [],
   "execution_count": 29
  },
  {
   "cell_type": "markdown",
   "source": [
    "\n",
    "### 3.4 **Discuss:** What are the expected values and the variance of $X$, $Y$, $Z$, and $K$? (You don't need to justify them!)"
   ],
   "metadata": {
    "tags": [],
    "cell_id": "93bbe9e95cf9493d8d797fe6c64345c9",
    "deepnote_cell_type": "markdown",
    "pycharm": {
     "name": "#%% md\n"
    }
   }
  },
  {
   "cell_type": "markdown",
   "source": [
    "**Answer:**  The expected values of $X, Y, Z, K$ are 0.5, 0.5, 0.6, 0.6 respectively, while the variances are 1/12, 1/12, 1/24, 1/12 respectively."
   ],
   "metadata": {
    "cell_id": "d7b68b1e38fa4aa88ebd5870e67ace06",
    "pycharm": {
     "name": "#%% md\n"
    },
    "collapsed": false,
    "deepnote_cell_type": "markdown"
   }
  },
  {
   "cell_type": "markdown",
   "source": [
    "### 3.5 Run the following simulation 10000 times, storing the $p$-values for the tests at each run:\n",
    "- Sample new values  for $X$, $Y$, $Z$ and $K$ ($n=30$ each).\n",
    "- Run independent sample t-test (assuming equal variance) and paired t-test comparing $X$ and $Z$.\n",
    "-  Run independent sample t-test (assuming equal variance) and paired t-test comparing $X$ and $K$."
   ],
   "metadata": {
    "cell_id": "2f7937f09cc4452a96f6d057d952280c",
    "pycharm": {
     "name": "#%% md\n"
    },
    "collapsed": false,
    "deepnote_cell_type": "markdown"
   }
  },
  {
   "cell_type": "code",
   "source": [
    "independent_Sample_Ttest_X_Z = []\n",
    "paired_Ttest_X_Z = []\n",
    "independent_Sample_Ttest_X_K = []\n",
    "paired_Ttest_X_K = []\n",
    "n = 10000\n",
    "for i in range(n):\n",
    "    # sample new values for X, Y, Z, K\n",
    "    sample_X = pd.DataFrame(X).sample(n=30, replace = True)\n",
    "    sample_Y = pd.DataFrame(Y).sample(n=30, replace = True)\n",
    "    sample_Z = pd.DataFrame(Z).sample(n=30, replace = True)\n",
    "    sample_K = pd.DataFrame(K).sample(n=30, replace = True)\n",
    "\n",
    "    # calculate independent smaple t-test and paired t-test\n",
    "    independent_Sample_Ttest_X_Z.append(stats.ttest_ind(sample_X, sample_Z,equal_var=True)[1])\n",
    "    paired_Ttest_X_Z.append(stats.ttest_rel(sample_X, sample_Z)[1])\n",
    "    independent_Sample_Ttest_X_K.append(stats.ttest_ind(sample_X, sample_K,equal_var=True)[1])\n",
    "    paired_Ttest_X_K.append(stats.ttest_rel(sample_X, sample_K)[1])\n"
   ],
   "metadata": {
    "cell_id": "f17c7573852b4528b6dfd8e4e814b443",
    "pycharm": {
     "name": "#%%\n"
    },
    "collapsed": false,
    "source_hash": "72468178",
    "execution_start": 1667064663486,
    "execution_millis": 24576,
    "deepnote_to_be_reexecuted": false,
    "deepnote_cell_type": "code"
   },
   "outputs": [],
   "execution_count": 30
  },
  {
   "cell_type": "markdown",
   "source": [
    "### 3.6 Recall that the power of a binary hypothesis test is the probability that the test correctly rejects the null hypothesis when the alternative hypothesis is true. Using the p-values and assuming that we reject the null hypothesis if $p < 0.05$, calculate the statistical power of:\n",
    "- The independent sample t-test comparing $X$ and $Z$.\n",
    "- The paired t-test comparing $X$ and $Z$.\n",
    "- The independent sample t-test comparing $X$ and $K$.\n",
    "- The paired t-test comparing $X$ and $K$.\n",
    "\n"
   ],
   "metadata": {
    "cell_id": "848ebd387fdc4cc8bf1d21e1ff42d648",
    "pycharm": {
     "name": "#%% md\n"
    },
    "collapsed": false,
    "deepnote_cell_type": "markdown"
   }
  },
  {
   "cell_type": "code",
   "source": [
    "print(f'The independent sample t-test comparing X and Z: {(np.array(independent_Sample_Ttest_X_Z) < 0.05).mean()}')\n",
    "\n",
    "print(f'The paired t-test comparing X and Z: {(np.array(paired_Ttest_X_Z) < 0.05).mean()}')\n",
    "\n",
    "print(f'The independent sample t-test comparing X and K: {(np.array(independent_Sample_Ttest_X_K) < 0.05).mean()}')\n",
    "\n",
    "print(f'The paired t-test comparing X and K: {(np.array(paired_Ttest_X_K) < 0.05).mean()}')\n"
   ],
   "metadata": {
    "cell_id": "7531228d203c45dd8d8d8a8ef61126a0",
    "pycharm": {
     "name": "#%%\n"
    },
    "collapsed": false,
    "source_hash": "81d25c1d",
    "execution_start": 1667064688062,
    "execution_millis": 3,
    "deepnote_to_be_reexecuted": false,
    "deepnote_cell_type": "code"
   },
   "outputs": [
    {
     "name": "stdout",
     "output_type": "stream",
     "text": [
      "The independent sample t-test comparing X and Z: 0.1063\n",
      "The paired t-test comparing X and Z: 0.1053\n",
      "The independent sample t-test comparing X and K: 0.0528\n",
      "The paired t-test comparing X and K: 0.0498\n"
     ]
    }
   ],
   "execution_count": 31
  },
  {
   "cell_type": "markdown",
   "source": [
    "### 3.7 **Discuss:** When are paired t-tests helpful? Justify."
   ],
   "metadata": {
    "tags": [],
    "cell_id": "c34fc7ff2bf8473baa54c6585319ec90",
    "deepnote_cell_type": "markdown",
    "pycharm": {
     "name": "#%% md\n"
    }
   }
  },
  {
   "cell_type": "markdown",
   "source": [
    "**Answer:** A paired t-test compares the means and standard deviations of two related groups in order to ascertain whether there is a statistically significant difference between the two groups. In T3.6, K and Z's means are both 0.6, which is different from X but with a different variance. The paired t-test in this instance incorporates the mean, so the outcome is comparable to an independent t-test."
   ],
   "metadata": {
    "cell_id": "3802a47bc87840e8a9009bc115d34bcc",
    "pycharm": {
     "name": "#%% md\n"
    },
    "collapsed": false,
    "deepnote_cell_type": "markdown"
   }
  },
  {
   "cell_type": "markdown",
   "source": [
    "### 3.8 With a bootstrapping approach (implemented by yourself, you should not use existing bootstrapping functions), estimate the average and 95% confidence intervals for:\n",
    "- the ratio between the number of words in the winner headline and the loser headline (i.e., the number of words in the winner headline divided by the number of words in the loser headlines).\n",
    "- the difference in usage of positive words between winner and loser headlines.\n",
    "- the difference in usage of negative words between winner and loser headlines.\n",
    "- The difference in usage of each type of pronoun between winner and loser headlines."
   ],
   "metadata": {
    "cell_id": "416f96c22d9748e9bf5c6ab785e3306d",
    "pycharm": {
     "name": "#%% md\n"
    },
    "collapsed": false,
    "deepnote_cell_type": "markdown"
   }
  },
  {
   "cell_type": "code",
   "source": [
    "# The bootstrapping function to use\n",
    "def bootstrapping(array, num_of_iters: int, sample_rate: float, confidence_level: float, value='mean', replace=True,test=False, need_print=False):\n",
    "    \"\"\"array: takes in an array of your concern(numpy array)\n",
    "        num_of_iters: the number of iterations you want to bootstrap\n",
    "        sample_rate: the percentage of data to be sampled each time\n",
    "        confidence_level: the confidence interval, e.g. 95%(input as 0.95)\n",
    "        value: which value to calculate(be bootstrapped) mean / median\n",
    "        replace: takes a boolean, if we will replace or not\n",
    "        need_print: print confidence interval, left bound and right bound\n",
    "\n",
    "        output: e.g. 95% confidence intervals of the mean\n",
    "\n",
    "        Author: ZHANG Yuyao\n",
    "        \"\"\"\n",
    "    if test:\n",
    "        if value=='mean':\n",
    "            true_value = np.mean(array)\n",
    "        elif value == 'median':\n",
    "            true_value = np.median(array)\n",
    "        if need_print:\n",
    "            print(f'The true value of {value} is {true_value}')\n",
    "\n",
    "    sample_value = []\n",
    "    data_len = len(array)\n",
    "    sample_len = int(data_len*sample_rate)\n",
    "    for i in range(num_of_iters):\n",
    "        y = np.random.choice(array.tolist(), sample_len, replace=replace)\n",
    "        if value=='mean':\n",
    "            value_ = np.mean(y)\n",
    "        elif value == 'median':\n",
    "            value_ = np.median(y)\n",
    "        sample_value.append(value_)\n",
    "\n",
    "    bs_value = np.mean(sample_value)\n",
    "\n",
    "    alpha = 1-confidence_level\n",
    "    sample_value = np.sort(sample_value)\n",
    "\n",
    "    left = np.percentile(sample_value, alpha*50)#(100/2)\n",
    "    right = np.percentile(sample_value, 100-alpha*50)\n",
    "\n",
    "    if need_print:\n",
    "        print(f'The {value} is {bs_value}.\\nAnd the {confidence_level} confidence interval for that is: ({left}, {right}).')\n",
    "    return bs_value, left, right"
   ],
   "metadata": {
    "cell_id": "db49390997a444b79c5f6c0669e324e5",
    "pycharm": {
     "name": "#%%\n"
    },
    "collapsed": false,
    "source_hash": "9d31011c",
    "execution_start": 1667064688063,
    "execution_millis": 0,
    "deepnote_to_be_reexecuted": false,
    "deepnote_cell_type": "code"
   },
   "outputs": [],
   "execution_count": 32
  },
  {
   "cell_type": "code",
   "source": [
    "# the number of words\n",
    "ratio_w_l_num_words = new_dataset.numwords1 / new_dataset.numwords2\n",
    "print('The mean ratio between the number of words in the winner headline and the loser headline:')\n",
    "ratio_mean, left_interval, right_interval = bootstrapping(ratio_w_l_num_words, num_of_iters=10000, \n",
    "                                                          confidence_level=0.95, value='mean', \n",
    "                                                          sample_rate=0.05, need_print=True)"
   ],
   "metadata": {
    "cell_id": "ddf66773bd7848729d8a704409120e73",
    "pycharm": {
     "name": "#%%\n"
    },
    "collapsed": false,
    "source_hash": "9ba63fa7",
    "execution_start": 1667064688105,
    "execution_millis": 15131,
    "deepnote_to_be_reexecuted": false,
    "deepnote_cell_type": "code"
   },
   "outputs": [
    {
     "name": "stdout",
     "output_type": "stream",
     "text": [
      "The mean ratio between the number of words in the winner headline and the loser headline:\n",
      "The mean is 1.0622404453193448.\n",
      "And the 0.95 confidence interval for that is: (1.0415786223882113, 1.083337599707619).\n"
     ]
    }
   ],
   "execution_count": 33
  },
  {
   "cell_type": "code",
   "source": [
    "# positive word\n",
    "diff_in_pos_words = new_dataset.positive1 - new_dataset.positive2\n",
    "print('The mean difference in usage of positive words between winner and loser headlines.')\n",
    "ratio_mean, left_interval, right_interval = bootstrapping(diff_in_pos_words, num_of_iters=10000, \n",
    "                                                          confidence_level=0.95, value='mean', \n",
    "                                                          sample_rate=0.05, need_print=True)"
   ],
   "metadata": {
    "cell_id": "36a70c07214f4c5589342ee0df3ba285",
    "pycharm": {
     "name": "#%%\n"
    },
    "collapsed": false,
    "source_hash": "b894446f",
    "execution_start": 1667064703255,
    "execution_millis": 15323,
    "deepnote_to_be_reexecuted": false,
    "deepnote_cell_type": "code"
   },
   "outputs": [
    {
     "name": "stdout",
     "output_type": "stream",
     "text": [
      "The mean difference in usage of positive words between winner and loser headlines.\n",
      "The mean is -0.002815124153498871.\n",
      "And the 0.95 confidence interval for that is: (-0.04401805869074492, 0.03837471783295711).\n"
     ]
    }
   ],
   "execution_count": 34
  },
  {
   "cell_type": "code",
   "source": [
    "# negative word\n",
    "diff_in_neg_words = new_dataset.negative1 - new_dataset.negative2\n",
    "print('The mean difference in usage of negative words between winner and loser headlines.')\n",
    "ratio_mean, left_interval, right_interval = bootstrapping(diff_in_neg_words, num_of_iters=10000, \n",
    "                                                          confidence_level=0.95, value='mean', \n",
    "                                                          sample_rate=0.05, need_print=True)"
   ],
   "metadata": {
    "cell_id": "361dbd34bb9d4472965039ef1c9db89a",
    "pycharm": {
     "name": "#%%\n"
    },
    "collapsed": false,
    "source_hash": "e551bea4",
    "execution_start": 1667064718585,
    "execution_millis": 15163,
    "deepnote_to_be_reexecuted": false,
    "deepnote_cell_type": "code"
   },
   "outputs": [
    {
     "name": "stdout",
     "output_type": "stream",
     "text": [
      "The mean difference in usage of negative words between winner and loser headlines.\n",
      "The mean is 0.019605191873589167.\n",
      "And the 0.95 confidence interval for that is: (-0.019187358916478554, 0.05869074492099323).\n"
     ]
    }
   ],
   "execution_count": 35
  },
  {
   "cell_type": "code",
   "source": [
    "# first person singular\n",
    "diff_in_fps = new_dataset.first_person_singular1 - new_dataset.first_person_singular2\n",
    "print('The mean difference in usage of first_person_singular between winner and loser headlines.')\n",
    "ratio_mean, left_interval, right_interval = bootstrapping(diff_in_fps, num_of_iters=10000, \n",
    "                                                          confidence_level=0.95, value='mean', \n",
    "                                                          sample_rate=0.05, need_print=True)"
   ],
   "metadata": {
    "cell_id": "82cac0835e8d4ab78cf3864128cee529",
    "pycharm": {
     "name": "#%%\n"
    },
    "collapsed": false,
    "source_hash": "5848b81e",
    "execution_start": 1667064733752,
    "execution_millis": 16054,
    "deepnote_to_be_reexecuted": false,
    "deepnote_cell_type": "code"
   },
   "outputs": [
    {
     "name": "stdout",
     "output_type": "stream",
     "text": [
      "The mean difference in usage of first_person_singular between winner and loser headlines.\n",
      "The mean is 0.015751467268623025.\n",
      "And the 0.95 confidence interval for that is: (-0.011286681715575621, 0.04288939051918736).\n"
     ]
    }
   ],
   "execution_count": 36
  },
  {
   "cell_type": "code",
   "source": [
    "# first person plural\n",
    "diff_in_fpp = new_dataset.first_person_plural1 - new_dataset.first_person_plural2\n",
    "print('The mean difference in usage of first_person_plural between winner and loser headlines.')\n",
    "ratio_mean, left_interval, right_interval = bootstrapping(diff_in_fpp, num_of_iters=10000, \n",
    "                                                          confidence_level=0.95, value='mean', \n",
    "                                                          sample_rate=0.05, need_print=True)"
   ],
   "metadata": {
    "cell_id": "2341929308294b0fabcf884adc6babe6",
    "pycharm": {
     "name": "#%%\n"
    },
    "collapsed": false,
    "source_hash": "66059b86",
    "execution_start": 1667064749810,
    "execution_millis": 14441,
    "deepnote_to_be_reexecuted": false,
    "deepnote_cell_type": "code"
   },
   "outputs": [
    {
     "name": "stdout",
     "output_type": "stream",
     "text": [
      "The mean difference in usage of first_person_plural between winner and loser headlines.\n",
      "The mean is -0.010304853273137697.\n",
      "And the 0.95 confidence interval for that is: (-0.03611738148984198, 0.01580135440180587).\n"
     ]
    }
   ],
   "execution_count": 37
  },
  {
   "cell_type": "code",
   "source": [
    "# second person\n",
    "diff_in_sp = new_dataset.second_person1 - new_dataset.second_person2\n",
    "print('The mean difference in usage of second person between winner and loser headlines.')\n",
    "ratio_mean, left_interval, right_interval = bootstrapping(diff_in_sp, num_of_iters=10000, \n",
    "                                                          confidence_level=0.95, value='mean', \n",
    "                                                          sample_rate=0.05, need_print=True)"
   ],
   "metadata": {
    "cell_id": "5029fe14695e48749407aa71a25552dc",
    "pycharm": {
     "name": "#%%\n"
    },
    "collapsed": false,
    "source_hash": "4472203d",
    "execution_start": 1667064764002,
    "execution_millis": 15682,
    "deepnote_to_be_reexecuted": false,
    "deepnote_cell_type": "code"
   },
   "outputs": [
    {
     "name": "stdout",
     "output_type": "stream",
     "text": [
      "The mean difference in usage of second person between winner and loser headlines.\n",
      "The mean is 0.005819187358916479.\n",
      "And the 0.95 confidence interval for that is: (-0.029345372460496615, 0.040632054176072234).\n"
     ]
    }
   ],
   "execution_count": 38
  },
  {
   "cell_type": "code",
   "source": [
    "# third person singular\n",
    "diff_in_tps = new_dataset.third_person_singular1 - new_dataset.third_person_singular2\n",
    "print('The mean difference in usage of third person singular between winner and loser headlines.')\n",
    "ratio_mean, left_interval, right_interval = bootstrapping(diff_in_tps, num_of_iters=10000, \n",
    "                                                          confidence_level=0.95, value='mean', \n",
    "                                                          sample_rate=0.05, need_print=True)"
   ],
   "metadata": {
    "cell_id": "51804b3bf8754977a0b1e83facf2e0ad",
    "pycharm": {
     "name": "#%%\n"
    },
    "collapsed": false,
    "source_hash": "10ebef37",
    "execution_start": 1667064779068,
    "execution_millis": 16669,
    "deepnote_to_be_reexecuted": false,
    "deepnote_cell_type": "code"
   },
   "outputs": [
    {
     "name": "stdout",
     "output_type": "stream",
     "text": [
      "The mean difference in usage of third person singular between winner and loser headlines.\n",
      "The mean is 0.03369943566591422.\n",
      "And the 0.95 confidence interval for that is: (-0.004514672686230248, 0.06997742663656885).\n"
     ]
    }
   ],
   "execution_count": 39
  },
  {
   "cell_type": "code",
   "source": [
    "# third person plural\n",
    "diff_in_tpp = new_dataset.third_person_plural1 - new_dataset.third_person_plural2\n",
    "print('The mean difference in usage of third person plural between winner and loser headlines.')\n",
    "ratio_mean, left_interval, right_interval = bootstrapping(diff_in_tpp, num_of_iters=10000, \n",
    "                                                          confidence_level=0.95, value='mean', \n",
    "                                                          sample_rate=0.05, need_print=True)"
   ],
   "metadata": {
    "cell_id": "4903744fb395476d9f8369994d297dd0",
    "pycharm": {
     "name": "#%%\n"
    },
    "collapsed": false,
    "source_hash": "80f6b4a",
    "execution_start": 1667064794872,
    "execution_millis": 15382,
    "deepnote_to_be_reexecuted": false,
    "deepnote_cell_type": "code"
   },
   "outputs": [
    {
     "name": "stdout",
     "output_type": "stream",
     "text": [
      "The mean difference in usage of third person plural between winner and loser headlines.\n",
      "The mean is 0.0020594808126410836.\n",
      "And the 0.95 confidence interval for that is: (-0.025959367945823927, 0.030474040632054177).\n"
     ]
    }
   ],
   "execution_count": 40
  },
  {
   "cell_type": "markdown",
   "source": [
    "### 3.9 Discuss: According to the results obtained in T3.8, what headlines grab people’s attention the most? Justify your answer"
   ],
   "metadata": {
    "tags": [],
    "cell_id": "6376f432ed8740ec9126cc169e4537cd",
    "deepnote_cell_type": "markdown",
    "pycharm": {
     "name": "#%% md\n"
    }
   }
  },
  {
   "cell_type": "markdown",
   "source": [
    "**Answer:** Base on the resutl in T3.8, longer, have more negative words in headlines with more use of third-person plural pronouns seems to be better at grab people's attention. Because for winner, headlines are lonnger and have more negative words than loser. The "
   ],
   "metadata": {
    "cell_id": "3698a584fd6644e79a8f44efb155128b",
    "pycharm": {
     "name": "#%% md\n"
    },
    "collapsed": false,
    "deepnote_cell_type": "markdown"
   }
  },
  {
   "cell_type": "markdown",
   "source": [
    "## Task 4: Temporal validity and heterogeneity of the effect.\n",
    "\n",
    "Last, we investigate how the effects studied in **T3** change with time and how they might be heterogeneous across different types of news.\n",
    "\n",
    "4.1 Create a plot where you depict the monthly average number of words in winner and loser headlines. Consider only headlines created after April 2013 (the month of April inclusive). Include also bootstrapped 95% confidence intervals; here, you can use a third-party implementation if you want. Finally, recall that we created a column `date_created` which captures the creation of the winner headline; you can consider this date to correspond to the date of the creation of the A/B test.\n",
    "\n",
    "4.2 Produce similar plots to each pronoun category, as well as for positive and negative sentiment. Here, unlike in **T4.1**, depict the month averages pooled across winner and loser headlines (i.e., for each month, you calculate the average across both winners and loser headlines).\n",
    "Create all these plots in a single figure with no more than 11 inches of width and 11 inches of height. Again, consider only headlines created after April 2013 (the month of April inclusive).\n",
    "\n",
    "4.3 **Discuss:** Has the type of headline Upworthy used in their A/B tests changed with time? Are these changes likely to be producing more or less engaging headlines? Justify.\n",
    "\n",
    "4.4 Divide your data into two periods, $t_1$, which goes from  April 2013 (inclusive) to March 2014 (inclusive), and $t_2$, which goes from April 2014 (inclusive) to the latest A/B test in the data. Create a dataframe for A/B tests in each period.\n",
    "\n",
    "4.5 Let's examine if the effects observed remained the same throughout the study period. Use an appropriate methodology  of your choice to determine if the effects observed in **T3.8** (length, each category of pronouns, positive words, and negative words) were different in $t_1$ and $t_2$. Here, note that we are considering \"at least one positive outcome\" to be the manifestation of an underlying effect, thus significance level must be adjusted down when performing multiple hypothesis tests!\n",
    "\n",
    "4.6 **Discuss:** Hypothesize two reasons that could have led to a change in the observed effects. According to the analysis done in **T4.5**, have the effects observed remained the same across the study period? \n",
    "\n",
    "4.7 The features we are studying may interact with each other. For instance, people may like first person singular pronouns in headlines containing positive words (I am amazed!), but dislike headlines with negative words and first person pronouns (I am sad!). To help answer this question, create:\n",
    "- a dataframe containing all A/B tests where both winner and loser headlines include a positive word; and\n",
    "- a dataframe containing all A/B tests where both winner and loser headlines include a negative word;\n",
    "\n",
    "4.8 Using an appropriate methodology of your choice, determine if the effect of the use of first person singular pronouns in the headline is heterogeneous across headlines with positive words and negative words, i.e., is the effect significantly stronger for one of the dataframes created in **T4.7**? \n",
    "\n",
    "4.9 **Discuss:** Considering the analyses you did throughout Tasks 3 and 4, write a short text (no more than 250 words) giving advice to Upworthy employees on how they should try to write engaging headlines. \n",
    "You can reference images present in the notebook by indicating a task (e.g., image plotted in **T3.3**) or a cell number. Note that you do not need to conduct any additional analysis to write this text. \n"
   ],
   "metadata": {
    "cell_id": "f7f4b0aa6af04549a5419297de847619",
    "pycharm": {
     "name": "#%% md\n"
    },
    "deepnote_cell_type": "markdown"
   }
  },
  {
   "cell_type": "markdown",
   "source": [
    "### 4.1 Create a plot where you depict the monthly average number of words in winner and loser headlines. Consider only headlines created after April 2013 (the month of April inclusive). Include also bootstrapped 95% confidence intervals; here, you can use a third-party implementation if you want. Finally, recall that we created a column `date_created` which captures the creation of the winner headline; you can consider this date to correspond to the date of the creation of the A/B test."
   ],
   "metadata": {
    "cell_id": "18fe9b8c7f994545b3c178b2dba4f962",
    "pycharm": {
     "name": "#%% md\n"
    },
    "collapsed": false,
    "deepnote_cell_type": "markdown"
   }
  },
  {
   "cell_type": "code",
   "source": [
    "df_4 = new_dataset[new_dataset.date_created >= '2013-04-01 00:00:00'].copy()\n",
    "df_4.shape"
   ],
   "metadata": {
    "cell_id": "3e90ae1a82124294be27db536e9c68d7",
    "pycharm": {
     "name": "#%%\n"
    },
    "source_hash": "26531f47",
    "execution_start": 1667064810259,
    "execution_millis": 18,
    "deepnote_to_be_reexecuted": false,
    "deepnote_cell_type": "code"
   },
   "outputs": [
    {
     "data": {
      "text/plain": "(17497, 21)"
     },
     "execution_count": 41,
     "metadata": {},
     "output_type": "execute_result"
    }
   ],
   "execution_count": 41
  },
  {
   "cell_type": "code",
   "source": [
    "# parse created_date to YYYY-MM\n",
    "df_4['date_created_by_month'] = df_4.date_created.apply(lambda x: pd.to_datetime(x).strftime('%Y-%m'))"
   ],
   "metadata": {
    "cell_id": "4ea1415d00a74ae2843c52edf4bfe0c1",
    "pycharm": {
     "name": "#%%\n"
    },
    "collapsed": false,
    "source_hash": "c528b41f",
    "execution_start": 1667064810270,
    "execution_millis": 1448,
    "deepnote_to_be_reexecuted": false,
    "deepnote_cell_type": "code"
   },
   "outputs": [],
   "execution_count": 42
  },
  {
   "cell_type": "code",
   "source": [
    "# helper function\n",
    "def get_stats_num_by_time(x):\n",
    "    return pd.Series({'num_words_win_avg': bootstrapping(x['numwords1'], 1000, 0.1, 0.95)[0], \n",
    "                      'win_left':bootstrapping(x['numwords1'], 1000, 0.1, 0.95)[1], \n",
    "                      'win_right':bootstrapping(x['numwords1'], 1000, 0.1, 0.95)[2],\n",
    "                      'num_words_lose_avg': bootstrapping(x['numwords2'], 1000, 0.1, 0.95)[0], \n",
    "                      'lose_left':bootstrapping(x['numwords2'], 1000, 0.1, 0.95)[1], \n",
    "                      'lose_right':bootstrapping(x['numwords2'], 1000, 0.1, 0.95)[2]})\n",
    "\n",
    "month_grouby = df_4.groupby(df_4.date_created_by_month)\n",
    "stats_num_by_time = month_grouby.apply(lambda x: get_stats_num_by_time(x))"
   ],
   "metadata": {
    "cell_id": "67a80d771d214e56adcb783cea0fc08f",
    "pycharm": {
     "name": "#%%\n"
    },
    "collapsed": false,
    "source_hash": "503baab4",
    "execution_start": 1667064811728,
    "execution_millis": 13222,
    "deepnote_to_be_reexecuted": false,
    "deepnote_cell_type": "code"
   },
   "outputs": [],
   "execution_count": 43
  },
  {
   "cell_type": "code",
   "source": [
    "stats_num_by_time.head()"
   ],
   "metadata": {
    "cell_id": "cfad4a5feff74e5dbab310a948cdb88d",
    "pycharm": {
     "name": "#%%\n"
    },
    "collapsed": false,
    "source_hash": "d87de100",
    "execution_start": 1667064824973,
    "execution_millis": 18,
    "deepnote_to_be_reexecuted": false,
    "deepnote_cell_type": "code"
   },
   "outputs": [
    {
     "data": {
      "text/plain": "                       num_words_win_avg   win_left  win_right  \\\ndate_created_by_month                                            \n2013-04                        13.622450  12.050000  15.050000   \n2013-05                        13.962118  12.000000  15.823529   \n2013-06                        14.393405  13.595238  15.191071   \n2013-07                        15.215579  14.210526  16.210526   \n2013-08                        14.094265  13.058824  15.058824   \n\n                       num_words_lose_avg  lose_left  lose_right  \ndate_created_by_month                                             \n2013-04                         13.044650  11.600000   14.400000  \n2013-05                         14.367235  12.529412   16.176471  \n2013-06                         14.060881  13.166071   14.857143  \n2013-07                         14.900737  13.947368   15.842763  \n2013-08                         13.492706  12.411765   14.530147  ",
      "text/html": "<div>\n<style scoped>\n    .dataframe tbody tr th:only-of-type {\n        vertical-align: middle;\n    }\n\n    .dataframe tbody tr th {\n        vertical-align: top;\n    }\n\n    .dataframe thead th {\n        text-align: right;\n    }\n</style>\n<table border=\"1\" class=\"dataframe\">\n  <thead>\n    <tr style=\"text-align: right;\">\n      <th></th>\n      <th>num_words_win_avg</th>\n      <th>win_left</th>\n      <th>win_right</th>\n      <th>num_words_lose_avg</th>\n      <th>lose_left</th>\n      <th>lose_right</th>\n    </tr>\n    <tr>\n      <th>date_created_by_month</th>\n      <th></th>\n      <th></th>\n      <th></th>\n      <th></th>\n      <th></th>\n      <th></th>\n    </tr>\n  </thead>\n  <tbody>\n    <tr>\n      <th>2013-04</th>\n      <td>13.622450</td>\n      <td>12.050000</td>\n      <td>15.050000</td>\n      <td>13.044650</td>\n      <td>11.600000</td>\n      <td>14.400000</td>\n    </tr>\n    <tr>\n      <th>2013-05</th>\n      <td>13.962118</td>\n      <td>12.000000</td>\n      <td>15.823529</td>\n      <td>14.367235</td>\n      <td>12.529412</td>\n      <td>16.176471</td>\n    </tr>\n    <tr>\n      <th>2013-06</th>\n      <td>14.393405</td>\n      <td>13.595238</td>\n      <td>15.191071</td>\n      <td>14.060881</td>\n      <td>13.166071</td>\n      <td>14.857143</td>\n    </tr>\n    <tr>\n      <th>2013-07</th>\n      <td>15.215579</td>\n      <td>14.210526</td>\n      <td>16.210526</td>\n      <td>14.900737</td>\n      <td>13.947368</td>\n      <td>15.842763</td>\n    </tr>\n    <tr>\n      <th>2013-08</th>\n      <td>14.094265</td>\n      <td>13.058824</td>\n      <td>15.058824</td>\n      <td>13.492706</td>\n      <td>12.411765</td>\n      <td>14.530147</td>\n    </tr>\n  </tbody>\n</table>\n</div>"
     },
     "execution_count": 44,
     "metadata": {},
     "output_type": "execute_result"
    }
   ],
   "execution_count": 44
  },
  {
   "cell_type": "code",
   "source": [
    "# draw winner \n",
    "plt.errorbar(stats_num_by_time.index, stats_num_by_time.num_words_win_avg, \n",
    "             yerr = [stats_num_by_time.num_words_win_avg-stats_num_by_time.win_left,\n",
    "             stats_num_by_time.win_right-stats_num_by_time.num_words_win_avg], \n",
    "             capsize=3, label='winner', color='red')\n",
    "\n",
    "# draw loser\n",
    "plt.errorbar(stats_num_by_time.index, stats_num_by_time.num_words_lose_avg, \n",
    "             yerr = [stats_num_by_time.num_words_lose_avg-stats_num_by_time.lose_left,\n",
    "             stats_num_by_time.lose_right-stats_num_by_time.num_words_lose_avg], \n",
    "             capsize=3, label='loser', color='green')\n",
    "\n",
    "# name the figure title  \n",
    "plt.title('Monthly average number of words in winner and loser headlines')\n",
    "# label axis\n",
    "plt.ylabel('Number of words')\n",
    "plt.xlabel('Month')\n",
    "\n",
    "plt.tick_params(axis='x', rotation=90)\n",
    "plt.legend()\n",
    "plt.show()"
   ],
   "metadata": {
    "cell_id": "96babb200ff044f9b7fa4f7052215b46",
    "pycharm": {
     "name": "#%%\n"
    },
    "collapsed": false,
    "source_hash": "e248faea",
    "execution_start": 1667064824995,
    "execution_millis": 688,
    "deepnote_to_be_reexecuted": false,
    "deepnote_cell_type": "code"
   },
   "outputs": [
    {
     "data": {
      "text/plain": "<Figure size 432x288 with 1 Axes>",
      "image/png": "[encoded data removed]"
     },
     "metadata": {},
     "output_type": "display_data"
    }
   ],
   "execution_count": 45
  },
  {
   "cell_type": "markdown",
   "source": [
    "### 4.2 Produce similar plots to each pronoun category, as well as for positive and negative sentiment. Here, unlike in T4.1, depict the month averages pooled across winner and loser headlines (i.e., for each month, you calculate the average across both winners and loser headlines). Create all these plots in a single figure with no more than 11 inches of width and 11 inches of height. Again, consider only headlines created after April 2013 (the month of April inclusive)."
   ],
   "metadata": {
    "cell_id": "a814873edc2e41b78ae6afc1f3ed7840",
    "pycharm": {
     "name": "#%% md\n"
    },
    "collapsed": false,
    "deepnote_cell_type": "markdown"
   }
  },
  {
   "cell_type": "code",
   "source": [
    "# helper function for getting mean, left boud and right bound\n",
    "def mean_pronoun(x, pronoun):\n",
    "    col1 = pronoun + \"1\"\n",
    "    col2 = pronoun + \"2\"\n",
    "    boostrap_pronoun_1 = bootstrapping(x[col1], 1000, 0.1, 0.95)\n",
    "    boostrap_pronoun_2 = bootstrapping(x[col2], 1000, 0.1, 0.95)\n",
    "    average = (boostrap_pronoun_1[0] + boostrap_pronoun_2[0]) / 2\n",
    "    win_left = (boostrap_pronoun_1[1] + boostrap_pronoun_2[1]) / 2\n",
    "    win_right = (boostrap_pronoun_1[2] + boostrap_pronoun_2[2]) / 2\n",
    "    return pd.Series({ col1 + '_avg': average,\n",
    "                      'win_left': win_left,\n",
    "                      'win_right': win_right})"
   ],
   "metadata": {
    "tags": [],
    "cell_id": "b34297b4649b49a19f6b8d95ba60f52d",
    "source_hash": "1cd7647a",
    "execution_start": 1667064825683,
    "execution_millis": 4,
    "deepnote_to_be_reexecuted": false,
    "deepnote_cell_type": "code",
    "pycharm": {
     "name": "#%%\n"
    }
   },
   "outputs": [],
   "execution_count": 46
  },
  {
   "cell_type": "code",
   "source": [
    "#'Monthly average number of first_person_singular pronouns in winner and loser headlines'\n",
    "fps_by_time = month_grouby.apply(lambda x: mean_pronoun(x, 'first_person_singular'))\n",
    "\n",
    "#'Monthly average number of first_person_plural pronouns in winner and loser headlines'\n",
    "fpp_by_time = month_grouby.apply(lambda x: mean_pronoun(x, 'first_person_plural'))\n",
    "\n",
    "#'Monthly average number of second_person pronouns in winner and loser headlines'\n",
    "sp_by_time = month_grouby.apply(lambda x: mean_pronoun(x, 'second_person'))\n",
    "\n",
    "#'Monthly average number of third_person_singular pronouns in winner and loser headlines'\n",
    "tps_by_time = month_grouby.apply(lambda x: mean_pronoun(x, 'third_person_singular'))\n",
    "\n",
    "#'Monthly average number of third_person_plural pronouns in winner and loser headlines'\n",
    "tpp_by_time = month_grouby.apply(lambda x: mean_pronoun(x, 'third_person_plural'))\n",
    "\n",
    "#Negative sentiment\n",
    "neg_by_time = month_grouby.apply(lambda x: mean_pronoun(x, 'negative'))\n",
    "\n",
    "#Positive sentiment\n",
    "pos_by_time = month_grouby.apply(lambda x: mean_pronoun(x, 'positive'))"
   ],
   "metadata": {
    "cell_id": "9ce228b7fb03497caff814bc8a21702a",
    "pycharm": {
     "name": "#%%\n"
    },
    "collapsed": false,
    "source_hash": "372d4d3e",
    "execution_start": 1667064825691,
    "execution_millis": 31675,
    "deepnote_to_be_reexecuted": false,
    "deepnote_cell_type": "code"
   },
   "outputs": [],
   "execution_count": 47
  },
  {
   "cell_type": "code",
   "source": [
    "palette = sns.color_palette(\"Spectral\")\n",
    "palette = np.array(palette)\n",
    "fig, ax = plt.subplots(4,2,figsize= (10,10), sharey=False, sharex = True)\n",
    "fig.supxlabel('Month')\n",
    "fig.supylabel('Number in average')\n",
    "#'Monthly average number of first_person_singular pronouns in winner and loser headlines'\n",
    "sbplt = ax[0, 0]\n",
    "sbplt.errorbar(fps_by_time.index, fps_by_time.first_person_singular1_avg, \n",
    "               yerr = [fps_by_time.first_person_singular1_avg - fps_by_time.win_left,\n",
    "                       fps_by_time.win_right - fps_by_time.first_person_singular1_avg], \n",
    "               capsize=3, label='avg_num_win', color=palette[0])\n",
    "\n",
    "sbplt.set_title('first_person_singular pronouns')\n",
    "\n",
    "#'Monthly average number of first_person_plural pronouns in winner and loser headlines'\n",
    "sbplt = ax[0, 1]\n",
    "sbplt.errorbar(fpp_by_time.index, fpp_by_time.first_person_plural1_avg, \n",
    "               yerr = [fpp_by_time.first_person_plural1_avg - fpp_by_time.win_left,\n",
    "                       fpp_by_time.win_right - fpp_by_time.first_person_plural1_avg], \n",
    "               capsize=3, label='avg_num_win', color=palette[1])\n",
    "\n",
    "sbplt.set_title('first_person_plural pronouns')\n",
    "\n",
    "#'Monthly average number of second_person pronouns in winner and loser headlines'\n",
    "sbplt = ax[1, 0]\n",
    "sbplt.errorbar(sp_by_time.index, sp_by_time.second_person1_avg, \n",
    "               yerr = [sp_by_time.second_person1_avg - sp_by_time.win_left,\n",
    "                       sp_by_time.win_right - sp_by_time.second_person1_avg], \n",
    "               capsize=3, label='avg_num_win', color=palette[2]**2)\n",
    "\n",
    "sbplt.set_title('second_person pronouns')\n",
    "\n",
    "# A blank part for beauty.\n",
    "sbplt = ax[1, 1]\n",
    "sbplt.set_title('blank figure for layout')\n",
    "\n",
    "\n",
    "#'Monthly average number of third_person_singular pronouns in winner and loser headlines'\n",
    "sbplt = ax[2, 0]\n",
    "sbplt.errorbar(tps_by_time.index, tps_by_time.third_person_singular1_avg, \n",
    "               yerr = [tps_by_time.third_person_singular1_avg - tps_by_time.win_left,\n",
    "                       tps_by_time.win_right - tps_by_time.third_person_singular1_avg],\n",
    "               capsize=3, label='avg_num_win', color=palette[3]**4)\n",
    "\n",
    "sbplt.set_title('third_person_singular pronouns')\n",
    "\n",
    "\n",
    "\n",
    "#'Monthly average number of third_person_plural pronouns in winner and loser headlines'\n",
    "sbplt = ax[2, 1]\n",
    "sbplt.errorbar(tpp_by_time.index, tpp_by_time.third_person_plural1_avg,\n",
    "               yerr = [tpp_by_time.third_person_plural1_avg - tpp_by_time.win_left,\n",
    "                       tpp_by_time.win_right - tpp_by_time.third_person_plural1_avg],\n",
    "               capsize=3, label='avg_num_win', color=palette[4])\n",
    "\n",
    "sbplt.set_title('third_person_plural pronouns')\n",
    "\n",
    "#Negative sentiment\n",
    "sbplt = ax[3, 0]\n",
    "sbplt.errorbar(neg_by_time.index, neg_by_time.negative1_avg, \n",
    "               yerr = [neg_by_time.negative1_avg - neg_by_time.win_left, \n",
    "                       neg_by_time.win_right - neg_by_time.negative1_avg],\n",
    "               capsize=3, label='avg_num_win', color=palette[5])\n",
    "\n",
    "sbplt.set_title('negative sentiment')\n",
    "\n",
    "sbplt.tick_params(axis='x', rotation=90)\n",
    "\n",
    "#Positive sentiment\n",
    "sbplt = ax[3, 1]\n",
    "sbplt.errorbar(pos_by_time.index, pos_by_time.positive1_avg, \n",
    "               yerr = [pos_by_time.positive1_avg - pos_by_time.win_left,\n",
    "                       pos_by_time.win_right - pos_by_time.positive1_avg],\n",
    "               capsize=3, label='avg_num_win', color=palette[5]**2)\n",
    "\n",
    "sbplt.set_title('positive sentiment')\n",
    "\n",
    "sbplt.tick_params(axis='x', rotation=90)"
   ],
   "metadata": {
    "cell_id": "b58d53d4382f434bbb22ac7a8f03599c",
    "pycharm": {
     "name": "#%%\n"
    },
    "collapsed": false,
    "source_hash": "96dac351",
    "execution_start": 1667066645804,
    "execution_millis": 2216,
    "deepnote_to_be_reexecuted": false,
    "deepnote_cell_type": "code"
   },
   "outputs": [
    {
     "data": {
      "text/plain": "<Figure size 720x720 with 8 Axes>",
      "image/png": "[encoded data removed]"
     },
     "metadata": {},
     "output_type": "display_data"
    }
   ],
   "execution_count": 48
  },
  {
   "cell_type": "markdown",
   "source": [
    "### 4.3 Discuss: Has the type of headline Upworthy used in their A/B tests changed with time? Are these changes likely to be producing more or less engaging headlines? Justify.\n",
    "\n",
    "**Answer:** The type of headline has changed. As seen in the image in T4.1, the number of first_person_singular words for both winners and losers gradually decrease, the number of third_person_singular words are gradually increase. Other kind of words doesn't change have.\n",
    "\n",
    "\n",
    "\n"
   ],
   "metadata": {
    "cell_id": "7acd58a9bcc94d5991411e288946eff1",
    "pycharm": {
     "name": "#%% md\n"
    },
    "collapsed": false,
    "deepnote_cell_type": "markdown"
   }
  },
  {
   "cell_type": "markdown",
   "source": [
    "### 4.4 Divide your data into two periods, $t_1$, which goes from  April 2013 (inclusive) to March 2014 (inclusive), and $t_2$, which goes from April 2014 (inclusive) to the latest A/B test in the data. Create a dataframe for A/B tests in each period."
   ],
   "metadata": {
    "cell_id": "604a8b2f670e497987e2cab19d4b0e79",
    "pycharm": {
     "name": "#%% md\n"
    },
    "collapsed": false,
    "deepnote_cell_type": "markdown"
   }
  },
  {
   "cell_type": "code",
   "source": [
    "# extract data based on time\n",
    "t1 = new_dataset[(new_dataset.date_created < '2014-04-01 00:00:00') & \n",
    "                 (new_dataset.date_created >='2013-04-01 00:00:00')].copy()\n",
    "t2 = new_dataset[(new_dataset.date_created >= '2014-04-01 00:00:00')].copy()"
   ],
   "metadata": {
    "cell_id": "2ba709ebe9e0484fa7ab5e024728f846",
    "pycharm": {
     "name": "#%%\n"
    },
    "collapsed": false,
    "source_hash": "a513e542",
    "execution_start": 1667064859536,
    "execution_millis": 10,
    "deepnote_to_be_reexecuted": false,
    "deepnote_cell_type": "code"
   },
   "outputs": [],
   "execution_count": 49
  },
  {
   "cell_type": "code",
   "source": [
    "t1.head()"
   ],
   "metadata": {
    "cell_id": "c5c231c289b64a728b488cca5bb2766f",
    "pycharm": {
     "name": "#%%\n"
    },
    "collapsed": false,
    "source_hash": "26a2fd5b",
    "execution_start": 1667064859553,
    "execution_millis": 83,
    "deepnote_table_state": {
     "sortBy": [],
     "filters": [],
     "pageSize": 50,
     "pageIndex": 0
    },
    "deepnote_table_loading": false,
    "deepnote_to_be_reexecuted": false,
    "deepnote_cell_type": "code"
   },
   "outputs": [
    {
     "data": {
      "text/plain": "                                                                                                                                                      headline1  \\\nclickability_test_id     eyecatcher_id            lede                                               excerpt                                                      \n5143607c220cb80002000939 5332bb721fae79f09f004fca <p>Minimum wage doesn't mean \"the minimum amoun...          How Much Would Minimum Wagers Be Making RIGHT ...   \n                                                                                                              How Much Would You Be Making If Wages Had Kept...   \n                                                                                                              How Much Would You Be Making If Wages Had Kept...   \n                                                                                                              I Was Shocked When I Saw This Sentence And Sad...   \n                                                                                                              I Was Shocked When I Saw This Sentence And Sad...   \n\n                                                                                                                  ctr1  \\\nclickability_test_id     eyecatcher_id            lede                                               excerpt             \n5143607c220cb80002000939 5332bb721fae79f09f004fca <p>Minimum wage doesn't mean \"the minimum amoun...          0.013884   \n                                                                                                              0.014604   \n                                                                                                              0.014604   \n                                                                                                              0.017117   \n                                                                                                              0.017117   \n\n                                                                                                                     date_created  \\\nclickability_test_id     eyecatcher_id            lede                                               excerpt                        \n5143607c220cb80002000939 5332bb721fae79f09f004fca <p>Minimum wage doesn't mean \"the minimum amoun...          2013-05-18 19:14:14   \n                                                                                                              2013-05-18 19:14:15   \n                                                                                                              2013-05-18 19:14:15   \n                                                                                                              2013-05-18 19:18:04   \n                                                                                                              2013-05-18 19:18:04   \n\n                                                                                                              numwords1  \\\nclickability_test_id     eyecatcher_id            lede                                               excerpt              \n5143607c220cb80002000939 5332bb721fae79f09f004fca <p>Minimum wage doesn't mean \"the minimum amoun...                 16   \n                                                                                                                     16   \n                                                                                                                     16   \n                                                                                                                     15   \n                                                                                                                     15   \n\n                                                                                                              first_person_singular1  \\\nclickability_test_id     eyecatcher_id            lede                                               excerpt                           \n5143607c220cb80002000939 5332bb721fae79f09f004fca <p>Minimum wage doesn't mean \"the minimum amoun...                               0   \n                                                                                                                                   0   \n                                                                                                                                   0   \n                                                                                                                                   1   \n                                                                                                                                   1   \n\n                                                                                                              first_person_plural1  \\\nclickability_test_id     eyecatcher_id            lede                                               excerpt                         \n5143607c220cb80002000939 5332bb721fae79f09f004fca <p>Minimum wage doesn't mean \"the minimum amoun...                             0   \n                                                                                                                                 0   \n                                                                                                                                 0   \n                                                                                                                                 0   \n                                                                                                                                 0   \n\n                                                                                                              second_person1  \\\nclickability_test_id     eyecatcher_id            lede                                               excerpt                   \n5143607c220cb80002000939 5332bb721fae79f09f004fca <p>Minimum wage doesn't mean \"the minimum amoun...                       0   \n                                                                                                                           1   \n                                                                                                                           1   \n                                                                                                                           0   \n                                                                                                                           0   \n\n                                                                                                              third_person_singular1  \\\nclickability_test_id     eyecatcher_id            lede                                               excerpt                           \n5143607c220cb80002000939 5332bb721fae79f09f004fca <p>Minimum wage doesn't mean \"the minimum amoun...                               0   \n                                                                                                                                   0   \n                                                                                                                                   0   \n                                                                                                                                   1   \n                                                                                                                                   1   \n\n                                                                                                              third_person_plural1  \\\nclickability_test_id     eyecatcher_id            lede                                               excerpt                         \n5143607c220cb80002000939 5332bb721fae79f09f004fca <p>Minimum wage doesn't mean \"the minimum amoun...                             0   \n                                                                                                                                 0   \n                                                                                                                                 0   \n                                                                                                                                 0   \n                                                                                                                                 0   \n\n                                                                                                              positive1  \\\nclickability_test_id     eyecatcher_id            lede                                               excerpt              \n5143607c220cb80002000939 5332bb721fae79f09f004fca <p>Minimum wage doesn't mean \"the minimum amoun...                  1   \n                                                                                                                      0   \n                                                                                                                      0   \n                                                                                                                      0   \n                                                                                                                      0   \n\n                                                                                                              ...  \\\nclickability_test_id     eyecatcher_id            lede                                               excerpt  ...   \n5143607c220cb80002000939 5332bb721fae79f09f004fca <p>Minimum wage doesn't mean \"the minimum amoun...          ...   \n                                                                                                              ...   \n                                                                                                              ...   \n                                                                                                              ...   \n                                                                                                              ...   \n\n                                                                                                                                                      headline2  \\\nclickability_test_id     eyecatcher_id            lede                                               excerpt                                                      \n5143607c220cb80002000939 5332bb721fae79f09f004fca <p>Minimum wage doesn't mean \"the minimum amoun...          If $23 Dollars An Hour Sounds Like A Lotta Dou...   \n                                                                                                              How Much Would Minimum Wagers Be Making RIGHT ...   \n                                                                                                              If $23 Dollars An Hour Sounds Like A Lotta Dou...   \n                                                                                                              How Much Would Minimum Wagers Be Making RIGHT ...   \n                                                                                                              How Much Would You Be Making If Wages Had Kept...   \n\n                                                                                                                  ctr2  \\\nclickability_test_id     eyecatcher_id            lede                                               excerpt             \n5143607c220cb80002000939 5332bb721fae79f09f004fca <p>Minimum wage doesn't mean \"the minimum amoun...          0.004795   \n                                                                                                              0.013884   \n                                                                                                              0.004795   \n                                                                                                              0.013884   \n                                                                                                              0.014604   \n\n                                                                                                              numwords2  \\\nclickability_test_id     eyecatcher_id            lede                                               excerpt              \n5143607c220cb80002000939 5332bb721fae79f09f004fca <p>Minimum wage doesn't mean \"the minimum amoun...                 13   \n                                                                                                                     16   \n                                                                                                                     13   \n                                                                                                                     16   \n                                                                                                                     16   \n\n                                                                                                              first_person_singular2  \\\nclickability_test_id     eyecatcher_id            lede                                               excerpt                           \n5143607c220cb80002000939 5332bb721fae79f09f004fca <p>Minimum wage doesn't mean \"the minimum amoun...                               0   \n                                                                                                                                   0   \n                                                                                                                                   0   \n                                                                                                                                   0   \n                                                                                                                                   0   \n\n                                                                                                              first_person_plural2  \\\nclickability_test_id     eyecatcher_id            lede                                               excerpt                         \n5143607c220cb80002000939 5332bb721fae79f09f004fca <p>Minimum wage doesn't mean \"the minimum amoun...                             0   \n                                                                                                                                 0   \n                                                                                                                                 0   \n                                                                                                                                 0   \n                                                                                                                                 0   \n\n                                                                                                              second_person2  \\\nclickability_test_id     eyecatcher_id            lede                                               excerpt                   \n5143607c220cb80002000939 5332bb721fae79f09f004fca <p>Minimum wage doesn't mean \"the minimum amoun...                       0   \n                                                                                                                           0   \n                                                                                                                           0   \n                                                                                                                           0   \n                                                                                                                           1   \n\n                                                                                                              third_person_singular2  \\\nclickability_test_id     eyecatcher_id            lede                                               excerpt                           \n5143607c220cb80002000939 5332bb721fae79f09f004fca <p>Minimum wage doesn't mean \"the minimum amoun...                               0   \n                                                                                                                                   0   \n                                                                                                                                   0   \n                                                                                                                                   0   \n                                                                                                                                   0   \n\n                                                                                                              third_person_plural2  \\\nclickability_test_id     eyecatcher_id            lede                                               excerpt                         \n5143607c220cb80002000939 5332bb721fae79f09f004fca <p>Minimum wage doesn't mean \"the minimum amoun...                             0   \n                                                                                                                                 0   \n                                                                                                                                 0   \n                                                                                                                                 0   \n                                                                                                                                 0   \n\n                                                                                                              positive2  \\\nclickability_test_id     eyecatcher_id            lede                                               excerpt              \n5143607c220cb80002000939 5332bb721fae79f09f004fca <p>Minimum wage doesn't mean \"the minimum amoun...                  1   \n                                                                                                                      1   \n                                                                                                                      1   \n                                                                                                                      1   \n                                                                                                                      0   \n\n                                                                                                              negative2  \nclickability_test_id     eyecatcher_id            lede                                               excerpt             \n5143607c220cb80002000939 5332bb721fae79f09f004fca <p>Minimum wage doesn't mean \"the minimum amoun...                  0  \n                                                                                                                      0  \n                                                                                                                      0  \n                                                                                                                      0  \n                                                                                                                      0  \n\n[5 rows x 21 columns]",
      "text/html": "<div>\n<style scoped>\n    .dataframe tbody tr th:only-of-type {\n        vertical-align: middle;\n    }\n\n    .dataframe tbody tr th {\n        vertical-align: top;\n    }\n\n    .dataframe thead th {\n        text-align: right;\n    }\n</style>\n<table border=\"1\" class=\"dataframe\">\n  <thead>\n    <tr style=\"text-align: right;\">\n      <th></th>\n      <th></th>\n      <th></th>\n      <th></th>\n      <th>headline1</th>\n      <th>ctr1</th>\n      <th>date_created</th>\n      <th>numwords1</th>\n      <th>first_person_singular1</th>\n      <th>first_person_plural1</th>\n      <th>second_person1</th>\n      <th>third_person_singular1</th>\n      <th>third_person_plural1</th>\n      <th>positive1</th>\n      <th>...</th>\n      <th>headline2</th>\n      <th>ctr2</th>\n      <th>numwords2</th>\n      <th>first_person_singular2</th>\n      <th>first_person_plural2</th>\n      <th>second_person2</th>\n      <th>third_person_singular2</th>\n      <th>third_person_plural2</th>\n      <th>positive2</th>\n      <th>negative2</th>\n    </tr>\n    <tr>\n      <th>clickability_test_id</th>\n      <th>eyecatcher_id</th>\n      <th>lede</th>\n      <th>excerpt</th>\n      <th></th>\n      <th></th>\n      <th></th>\n      <th></th>\n      <th></th>\n      <th></th>\n      <th></th>\n      <th></th>\n      <th></th>\n      <th></th>\n      <th></th>\n      <th></th>\n      <th></th>\n      <th></th>\n      <th></th>\n      <th></th>\n      <th></th>\n      <th></th>\n      <th></th>\n      <th></th>\n      <th></th>\n    </tr>\n  </thead>\n  <tbody>\n    <tr>\n      <th rowspan=\"5\" valign=\"top\">5143607c220cb80002000939</th>\n      <th rowspan=\"5\" valign=\"top\">5332bb721fae79f09f004fca</th>\n      <th rowspan=\"5\" valign=\"top\">&lt;p&gt;Minimum wage doesn't mean \"the minimum amount needed to live.\" It means \"the minimum amount corporations can get away with paying.\"&amp;nbsp;&lt;/p&gt;&lt;p&gt;But that should change. Share this now if you agree.&lt;/p&gt;</th>\n      <th></th>\n      <td>How Much Would Minimum Wagers Be Making RIGHT ...</td>\n      <td>0.013884</td>\n      <td>2013-05-18 19:14:14</td>\n      <td>16</td>\n      <td>0</td>\n      <td>0</td>\n      <td>0</td>\n      <td>0</td>\n      <td>0</td>\n      <td>1</td>\n      <td>...</td>\n      <td>If $23 Dollars An Hour Sounds Like A Lotta Dou...</td>\n      <td>0.004795</td>\n      <td>13</td>\n      <td>0</td>\n      <td>0</td>\n      <td>0</td>\n      <td>0</td>\n      <td>0</td>\n      <td>1</td>\n      <td>0</td>\n    </tr>\n    <tr>\n      <th></th>\n      <td>How Much Would You Be Making If Wages Had Kept...</td>\n      <td>0.014604</td>\n      <td>2013-05-18 19:14:15</td>\n      <td>16</td>\n      <td>0</td>\n      <td>0</td>\n      <td>1</td>\n      <td>0</td>\n      <td>0</td>\n      <td>0</td>\n      <td>...</td>\n      <td>How Much Would Minimum Wagers Be Making RIGHT ...</td>\n      <td>0.013884</td>\n      <td>16</td>\n      <td>0</td>\n      <td>0</td>\n      <td>0</td>\n      <td>0</td>\n      <td>0</td>\n      <td>1</td>\n      <td>0</td>\n    </tr>\n    <tr>\n      <th></th>\n      <td>How Much Would You Be Making If Wages Had Kept...</td>\n      <td>0.014604</td>\n      <td>2013-05-18 19:14:15</td>\n      <td>16</td>\n      <td>0</td>\n      <td>0</td>\n      <td>1</td>\n      <td>0</td>\n      <td>0</td>\n      <td>0</td>\n      <td>...</td>\n      <td>If $23 Dollars An Hour Sounds Like A Lotta Dou...</td>\n      <td>0.004795</td>\n      <td>13</td>\n      <td>0</td>\n      <td>0</td>\n      <td>0</td>\n      <td>0</td>\n      <td>0</td>\n      <td>1</td>\n      <td>0</td>\n    </tr>\n    <tr>\n      <th></th>\n      <td>I Was Shocked When I Saw This Sentence And Sad...</td>\n      <td>0.017117</td>\n      <td>2013-05-18 19:18:04</td>\n      <td>15</td>\n      <td>1</td>\n      <td>0</td>\n      <td>0</td>\n      <td>1</td>\n      <td>0</td>\n      <td>0</td>\n      <td>...</td>\n      <td>How Much Would Minimum Wagers Be Making RIGHT ...</td>\n      <td>0.013884</td>\n      <td>16</td>\n      <td>0</td>\n      <td>0</td>\n      <td>0</td>\n      <td>0</td>\n      <td>0</td>\n      <td>1</td>\n      <td>0</td>\n    </tr>\n    <tr>\n      <th></th>\n      <td>I Was Shocked When I Saw This Sentence And Sad...</td>\n      <td>0.017117</td>\n      <td>2013-05-18 19:18:04</td>\n      <td>15</td>\n      <td>1</td>\n      <td>0</td>\n      <td>0</td>\n      <td>1</td>\n      <td>0</td>\n      <td>0</td>\n      <td>...</td>\n      <td>How Much Would You Be Making If Wages Had Kept...</td>\n      <td>0.014604</td>\n      <td>16</td>\n      <td>0</td>\n      <td>0</td>\n      <td>1</td>\n      <td>0</td>\n      <td>0</td>\n      <td>0</td>\n      <td>0</td>\n    </tr>\n  </tbody>\n</table>\n<p>5 rows × 21 columns</p>\n</div>"
     },
     "execution_count": 50,
     "metadata": {},
     "output_type": "execute_result"
    }
   ],
   "execution_count": 50
  },
  {
   "cell_type": "code",
   "source": [
    "t2.head()"
   ],
   "metadata": {
    "cell_id": "a19b35e1ba4542519402b3f594cdea94",
    "pycharm": {
     "name": "#%%\n"
    },
    "collapsed": false,
    "source_hash": "7712a625",
    "execution_start": 1667064859639,
    "execution_millis": 79,
    "deepnote_to_be_reexecuted": false,
    "deepnote_cell_type": "code"
   },
   "outputs": [
    {
     "data": {
      "text/plain": "                                                                                                                                                                            headline1  \\\nclickability_test_id     eyecatcher_id            lede                                               excerpt                                                                            \n5293d54a5929b133ae001e66 5332b5a51fae79f09f0006ac <p>Feeling a little meh about protecting your o... See it go down in real time.   There's A World War Happening Online Right Now...   \n                                                                                                     See it go down in real time.   There's A World War Happening Online Right Now...   \n                                                                                                     See it go down in real time.   There's A Global Daily Fight Between Good Guys...   \n                                                                                                     See it go down in real time.   No, You're Not The Target. But The Hit Men May...   \n                                                                                                     See it go down in real time.   No, You're Not The Target. But The Hit Men May...   \n\n                                                                                                                                        ctr1  \\\nclickability_test_id     eyecatcher_id            lede                                               excerpt                                   \n5293d54a5929b133ae001e66 5332b5a51fae79f09f0006ac <p>Feeling a little meh about protecting your o... See it go down in real time.   0.005252   \n                                                                                                     See it go down in real time.   0.005252   \n                                                                                                     See it go down in real time.   0.004511   \n                                                                                                     See it go down in real time.   0.005866   \n                                                                                                     See it go down in real time.   0.005866   \n\n                                                                                                                                               date_created  \\\nclickability_test_id     eyecatcher_id            lede                                               excerpt                                                  \n5293d54a5929b133ae001e66 5332b5a51fae79f09f0006ac <p>Feeling a little meh about protecting your o... See it go down in real time.   2014-04-05 03:50:15.713   \n                                                                                                     See it go down in real time.   2014-04-05 03:50:15.713   \n                                                                                                     See it go down in real time.   2014-04-05 03:51:49.677   \n                                                                                                     See it go down in real time.    2014-04-05 03:57:20.13   \n                                                                                                     See it go down in real time.    2014-04-05 03:57:20.13   \n\n                                                                                                                                    numwords1  \\\nclickability_test_id     eyecatcher_id            lede                                               excerpt                                    \n5293d54a5929b133ae001e66 5332b5a51fae79f09f0006ac <p>Feeling a little meh about protecting your o... See it go down in real time.          16   \n                                                                                                     See it go down in real time.          16   \n                                                                                                     See it go down in real time.          16   \n                                                                                                     See it go down in real time.          17   \n                                                                                                     See it go down in real time.          17   \n\n                                                                                                                                    first_person_singular1  \\\nclickability_test_id     eyecatcher_id            lede                                               excerpt                                                 \n5293d54a5929b133ae001e66 5332b5a51fae79f09f0006ac <p>Feeling a little meh about protecting your o... See it go down in real time.                        0   \n                                                                                                     See it go down in real time.                        0   \n                                                                                                     See it go down in real time.                        0   \n                                                                                                     See it go down in real time.                        0   \n                                                                                                     See it go down in real time.                        0   \n\n                                                                                                                                    first_person_plural1  \\\nclickability_test_id     eyecatcher_id            lede                                               excerpt                                               \n5293d54a5929b133ae001e66 5332b5a51fae79f09f0006ac <p>Feeling a little meh about protecting your o... See it go down in real time.                      0   \n                                                                                                     See it go down in real time.                      0   \n                                                                                                     See it go down in real time.                      0   \n                                                                                                     See it go down in real time.                      0   \n                                                                                                     See it go down in real time.                      0   \n\n                                                                                                                                    second_person1  \\\nclickability_test_id     eyecatcher_id            lede                                               excerpt                                         \n5293d54a5929b133ae001e66 5332b5a51fae79f09f0006ac <p>Feeling a little meh about protecting your o... See it go down in real time.                1   \n                                                                                                     See it go down in real time.                1   \n                                                                                                     See it go down in real time.                1   \n                                                                                                     See it go down in real time.                1   \n                                                                                                     See it go down in real time.                1   \n\n                                                                                                                                    third_person_singular1  \\\nclickability_test_id     eyecatcher_id            lede                                               excerpt                                                 \n5293d54a5929b133ae001e66 5332b5a51fae79f09f0006ac <p>Feeling a little meh about protecting your o... See it go down in real time.                        1   \n                                                                                                     See it go down in real time.                        1   \n                                                                                                     See it go down in real time.                        1   \n                                                                                                     See it go down in real time.                        0   \n                                                                                                     See it go down in real time.                        0   \n\n                                                                                                                                    third_person_plural1  \\\nclickability_test_id     eyecatcher_id            lede                                               excerpt                                               \n5293d54a5929b133ae001e66 5332b5a51fae79f09f0006ac <p>Feeling a little meh about protecting your o... See it go down in real time.                      0   \n                                                                                                     See it go down in real time.                      0   \n                                                                                                     See it go down in real time.                      0   \n                                                                                                     See it go down in real time.                      0   \n                                                                                                     See it go down in real time.                      0   \n\n                                                                                                                                    positive1  \\\nclickability_test_id     eyecatcher_id            lede                                               excerpt                                    \n5293d54a5929b133ae001e66 5332b5a51fae79f09f0006ac <p>Feeling a little meh about protecting your o... See it go down in real time.           1   \n                                                                                                     See it go down in real time.           1   \n                                                                                                     See it go down in real time.           1   \n                                                                                                     See it go down in real time.           0   \n                                                                                                     See it go down in real time.           0   \n\n                                                                                                                                    ...  \\\nclickability_test_id     eyecatcher_id            lede                                               excerpt                        ...   \n5293d54a5929b133ae001e66 5332b5a51fae79f09f0006ac <p>Feeling a little meh about protecting your o... See it go down in real time.   ...   \n                                                                                                     See it go down in real time.   ...   \n                                                                                                     See it go down in real time.   ...   \n                                                                                                     See it go down in real time.   ...   \n                                                                                                     See it go down in real time.   ...   \n\n                                                                                                                                                                            headline2  \\\nclickability_test_id     eyecatcher_id            lede                                               excerpt                                                                            \n5293d54a5929b133ae001e66 5332b5a51fae79f09f0006ac <p>Feeling a little meh about protecting your o... See it go down in real time.   There's A Global Daily Fight Between Good Guys...   \n                                                                                                     See it go down in real time.   Afraid Of Robots? You Should Be. They're Real ...   \n                                                                                                     See it go down in real time.   Afraid Of Robots? You Should Be. They're Real ...   \n                                                                                                     See it go down in real time.   There's A World War Happening Online Right Now...   \n                                                                                                     See it go down in real time.   There's A Global Daily Fight Between Good Guys...   \n\n                                                                                                                                        ctr2  \\\nclickability_test_id     eyecatcher_id            lede                                               excerpt                                   \n5293d54a5929b133ae001e66 5332b5a51fae79f09f0006ac <p>Feeling a little meh about protecting your o... See it go down in real time.   0.004511   \n                                                                                                     See it go down in real time.   0.002778   \n                                                                                                     See it go down in real time.   0.002778   \n                                                                                                     See it go down in real time.   0.005252   \n                                                                                                     See it go down in real time.   0.004511   \n\n                                                                                                                                    numwords2  \\\nclickability_test_id     eyecatcher_id            lede                                               excerpt                                    \n5293d54a5929b133ae001e66 5332b5a51fae79f09f0006ac <p>Feeling a little meh about protecting your o... See it go down in real time.          16   \n                                                                                                     See it go down in real time.          17   \n                                                                                                     See it go down in real time.          17   \n                                                                                                     See it go down in real time.          16   \n                                                                                                     See it go down in real time.          16   \n\n                                                                                                                                    first_person_singular2  \\\nclickability_test_id     eyecatcher_id            lede                                               excerpt                                                 \n5293d54a5929b133ae001e66 5332b5a51fae79f09f0006ac <p>Feeling a little meh about protecting your o... See it go down in real time.                        0   \n                                                                                                     See it go down in real time.                        0   \n                                                                                                     See it go down in real time.                        0   \n                                                                                                     See it go down in real time.                        0   \n                                                                                                     See it go down in real time.                        0   \n\n                                                                                                                                    first_person_plural2  \\\nclickability_test_id     eyecatcher_id            lede                                               excerpt                                               \n5293d54a5929b133ae001e66 5332b5a51fae79f09f0006ac <p>Feeling a little meh about protecting your o... See it go down in real time.                      0   \n                                                                                                     See it go down in real time.                      0   \n                                                                                                     See it go down in real time.                      0   \n                                                                                                     See it go down in real time.                      0   \n                                                                                                     See it go down in real time.                      0   \n\n                                                                                                                                    second_person2  \\\nclickability_test_id     eyecatcher_id            lede                                               excerpt                                         \n5293d54a5929b133ae001e66 5332b5a51fae79f09f0006ac <p>Feeling a little meh about protecting your o... See it go down in real time.                1   \n                                                                                                     See it go down in real time.                1   \n                                                                                                     See it go down in real time.                1   \n                                                                                                     See it go down in real time.                1   \n                                                                                                     See it go down in real time.                1   \n\n                                                                                                                                    third_person_singular2  \\\nclickability_test_id     eyecatcher_id            lede                                               excerpt                                                 \n5293d54a5929b133ae001e66 5332b5a51fae79f09f0006ac <p>Feeling a little meh about protecting your o... See it go down in real time.                        1   \n                                                                                                     See it go down in real time.                        0   \n                                                                                                     See it go down in real time.                        0   \n                                                                                                     See it go down in real time.                        1   \n                                                                                                     See it go down in real time.                        1   \n\n                                                                                                                                    third_person_plural2  \\\nclickability_test_id     eyecatcher_id            lede                                               excerpt                                               \n5293d54a5929b133ae001e66 5332b5a51fae79f09f0006ac <p>Feeling a little meh about protecting your o... See it go down in real time.                      0   \n                                                                                                     See it go down in real time.                      0   \n                                                                                                     See it go down in real time.                      0   \n                                                                                                     See it go down in real time.                      0   \n                                                                                                     See it go down in real time.                      0   \n\n                                                                                                                                    positive2  \\\nclickability_test_id     eyecatcher_id            lede                                               excerpt                                    \n5293d54a5929b133ae001e66 5332b5a51fae79f09f0006ac <p>Feeling a little meh about protecting your o... See it go down in real time.           1   \n                                                                                                     See it go down in real time.           1   \n                                                                                                     See it go down in real time.           1   \n                                                                                                     See it go down in real time.           1   \n                                                                                                     See it go down in real time.           1   \n\n                                                                                                                                    negative2  \nclickability_test_id     eyecatcher_id            lede                                               excerpt                                   \n5293d54a5929b133ae001e66 5332b5a51fae79f09f0006ac <p>Feeling a little meh about protecting your o... See it go down in real time.           1  \n                                                                                                     See it go down in real time.           1  \n                                                                                                     See it go down in real time.           1  \n                                                                                                     See it go down in real time.           0  \n                                                                                                     See it go down in real time.           1  \n\n[5 rows x 21 columns]",
      "text/html": "<div>\n<style scoped>\n    .dataframe tbody tr th:only-of-type {\n        vertical-align: middle;\n    }\n\n    .dataframe tbody tr th {\n        vertical-align: top;\n    }\n\n    .dataframe thead th {\n        text-align: right;\n    }\n</style>\n<table border=\"1\" class=\"dataframe\">\n  <thead>\n    <tr style=\"text-align: right;\">\n      <th></th>\n      <th></th>\n      <th></th>\n      <th></th>\n      <th>headline1</th>\n      <th>ctr1</th>\n      <th>date_created</th>\n      <th>numwords1</th>\n      <th>first_person_singular1</th>\n      <th>first_person_plural1</th>\n      <th>second_person1</th>\n      <th>third_person_singular1</th>\n      <th>third_person_plural1</th>\n      <th>positive1</th>\n      <th>...</th>\n      <th>headline2</th>\n      <th>ctr2</th>\n      <th>numwords2</th>\n      <th>first_person_singular2</th>\n      <th>first_person_plural2</th>\n      <th>second_person2</th>\n      <th>third_person_singular2</th>\n      <th>third_person_plural2</th>\n      <th>positive2</th>\n      <th>negative2</th>\n    </tr>\n    <tr>\n      <th>clickability_test_id</th>\n      <th>eyecatcher_id</th>\n      <th>lede</th>\n      <th>excerpt</th>\n      <th></th>\n      <th></th>\n      <th></th>\n      <th></th>\n      <th></th>\n      <th></th>\n      <th></th>\n      <th></th>\n      <th></th>\n      <th></th>\n      <th></th>\n      <th></th>\n      <th></th>\n      <th></th>\n      <th></th>\n      <th></th>\n      <th></th>\n      <th></th>\n      <th></th>\n      <th></th>\n      <th></th>\n    </tr>\n  </thead>\n  <tbody>\n    <tr>\n      <th rowspan=\"5\" valign=\"top\">5293d54a5929b133ae001e66</th>\n      <th rowspan=\"5\" valign=\"top\">5332b5a51fae79f09f0006ac</th>\n      <th rowspan=\"5\" valign=\"top\">&lt;p&gt;Feeling a little meh about protecting your online life from hackers? Think you don't have much to hide? Turns out a weak password can accidentally make you a mercenary for malicious organizations and actions in real life. &lt;/p&gt;&lt;p&gt;That means, by not taking care with your online identity, you could be accidentally shutting down websites with strong independent voices, influencing political events or silencing opposing voices in media, around the world.&lt;/p&gt;</th>\n      <th>See it go down in real time.</th>\n      <td>There's A World War Happening Online Right Now...</td>\n      <td>0.005252</td>\n      <td>2014-04-05 03:50:15.713</td>\n      <td>16</td>\n      <td>0</td>\n      <td>0</td>\n      <td>1</td>\n      <td>1</td>\n      <td>0</td>\n      <td>1</td>\n      <td>...</td>\n      <td>There's A Global Daily Fight Between Good Guys...</td>\n      <td>0.004511</td>\n      <td>16</td>\n      <td>0</td>\n      <td>0</td>\n      <td>1</td>\n      <td>1</td>\n      <td>0</td>\n      <td>1</td>\n      <td>1</td>\n    </tr>\n    <tr>\n      <th>See it go down in real time.</th>\n      <td>There's A World War Happening Online Right Now...</td>\n      <td>0.005252</td>\n      <td>2014-04-05 03:50:15.713</td>\n      <td>16</td>\n      <td>0</td>\n      <td>0</td>\n      <td>1</td>\n      <td>1</td>\n      <td>0</td>\n      <td>1</td>\n      <td>...</td>\n      <td>Afraid Of Robots? You Should Be. They're Real ...</td>\n      <td>0.002778</td>\n      <td>17</td>\n      <td>0</td>\n      <td>0</td>\n      <td>1</td>\n      <td>0</td>\n      <td>0</td>\n      <td>1</td>\n      <td>1</td>\n    </tr>\n    <tr>\n      <th>See it go down in real time.</th>\n      <td>There's A Global Daily Fight Between Good Guys...</td>\n      <td>0.004511</td>\n      <td>2014-04-05 03:51:49.677</td>\n      <td>16</td>\n      <td>0</td>\n      <td>0</td>\n      <td>1</td>\n      <td>1</td>\n      <td>0</td>\n      <td>1</td>\n      <td>...</td>\n      <td>Afraid Of Robots? You Should Be. They're Real ...</td>\n      <td>0.002778</td>\n      <td>17</td>\n      <td>0</td>\n      <td>0</td>\n      <td>1</td>\n      <td>0</td>\n      <td>0</td>\n      <td>1</td>\n      <td>1</td>\n    </tr>\n    <tr>\n      <th>See it go down in real time.</th>\n      <td>No, You're Not The Target. But The Hit Men May...</td>\n      <td>0.005866</td>\n      <td>2014-04-05 03:57:20.13</td>\n      <td>17</td>\n      <td>0</td>\n      <td>0</td>\n      <td>1</td>\n      <td>0</td>\n      <td>0</td>\n      <td>0</td>\n      <td>...</td>\n      <td>There's A World War Happening Online Right Now...</td>\n      <td>0.005252</td>\n      <td>16</td>\n      <td>0</td>\n      <td>0</td>\n      <td>1</td>\n      <td>1</td>\n      <td>0</td>\n      <td>1</td>\n      <td>0</td>\n    </tr>\n    <tr>\n      <th>See it go down in real time.</th>\n      <td>No, You're Not The Target. But The Hit Men May...</td>\n      <td>0.005866</td>\n      <td>2014-04-05 03:57:20.13</td>\n      <td>17</td>\n      <td>0</td>\n      <td>0</td>\n      <td>1</td>\n      <td>0</td>\n      <td>0</td>\n      <td>0</td>\n      <td>...</td>\n      <td>There's A Global Daily Fight Between Good Guys...</td>\n      <td>0.004511</td>\n      <td>16</td>\n      <td>0</td>\n      <td>0</td>\n      <td>1</td>\n      <td>1</td>\n      <td>0</td>\n      <td>1</td>\n      <td>1</td>\n    </tr>\n  </tbody>\n</table>\n<p>5 rows × 21 columns</p>\n</div>"
     },
     "execution_count": 51,
     "metadata": {},
     "output_type": "execute_result"
    }
   ],
   "execution_count": 51
  },
  {
   "cell_type": "markdown",
   "source": [
    "### 4.5 Let's examine if the effects observed remained the same throughout the study period. Use an appropriate methodology  of your choice to determine if the effects observed in **T3.8** (length, each category of pronouns, positive words, and negative words) were different in $t_1$ and $t_2$. Here, note that we are considering \"at least one positive outcome\" to be the manifestation of an underlying effect, thus significance level must be adjusted down when performing multiple hypothesis tests!"
   ],
   "metadata": {
    "cell_id": "41db73a59e414611b6728d0e46ee5fb0",
    "pycharm": {
     "name": "#%% md\n"
    },
    "collapsed": false,
    "deepnote_cell_type": "markdown"
   }
  },
  {
   "cell_type": "markdown",
   "source": [
    "We want to use hypothesis to determine there is not difference between t1 and t2. That is, the number of words, and the usgue of pronoun, positve words and negative words are similar between t1 and t2."
   ],
   "metadata": {
    "cell_id": "14ee8f421e41484aa04a143f564a30a0",
    "pycharm": {
     "name": "#%% md\n"
    },
    "collapsed": false,
    "deepnote_cell_type": "markdown"
   }
  },
  {
   "cell_type": "code",
   "source": [
    "# test length\n",
    "test_length = stats.ttest_ind(t1.numwords1 + t1.numwords2, t2.numwords1 + t2.numwords2)\n",
    "print(test_length)\n",
    "print('Since both pvalue are very small, we can reject that the means are the same, so there are changes')"
   ],
   "metadata": {
    "cell_id": "06ea0d8f3f154887af863d901047ed79",
    "pycharm": {
     "name": "#%%\n"
    },
    "collapsed": false,
    "source_hash": "a2e6f22",
    "execution_start": 1667064859733,
    "execution_millis": 10,
    "deepnote_to_be_reexecuted": false,
    "deepnote_cell_type": "code"
   },
   "outputs": [
    {
     "name": "stdout",
     "output_type": "stream",
     "text": [
      "Ttest_indResult(statistic=-19.515524249745702, pvalue=6.319242104001649e-84)\n",
      "Since both pvalue are very small, we can reject that the means are the same, so there are changes\n"
     ]
    }
   ],
   "execution_count": 52
  },
  {
   "cell_type": "code",
   "source": [
    "# test first person singular pronouns\n",
    "test_pronouns = stats.ttest_ind(t1.first_person_singular1 + t1.first_person_singular2, t2.first_person_singular1 + t2.first_person_singular2)\n",
    "print(test_pronouns)"
   ],
   "metadata": {
    "tags": [],
    "cell_id": "aeed02660eda4baea24f3905ced167a4",
    "source_hash": "cc60903f",
    "execution_start": 1667064859745,
    "execution_millis": 8,
    "deepnote_to_be_reexecuted": false,
    "deepnote_cell_type": "code",
    "pycharm": {
     "name": "#%%\n"
    }
   },
   "outputs": [
    {
     "name": "stdout",
     "output_type": "stream",
     "text": [
      "Ttest_indResult(statistic=1.1024733625401484, pvalue=0.27027109836649077)\n"
     ]
    }
   ],
   "execution_count": 53
  },
  {
   "cell_type": "code",
   "source": [
    "# test first person plural pronouns\n",
    "test_pronouns = stats.ttest_ind(t1.first_person_plural1 + t1.first_person_plural2, t2.first_person_plural1 + t2.first_person_plural2)\n",
    "print(test_pronouns)"
   ],
   "metadata": {
    "tags": [],
    "cell_id": "3db1313cc8e8440fa947abb328773faf",
    "source_hash": "89f0b2c1",
    "execution_start": 1667064859761,
    "execution_millis": 5,
    "deepnote_to_be_reexecuted": false,
    "deepnote_cell_type": "code",
    "pycharm": {
     "name": "#%%\n"
    }
   },
   "outputs": [
    {
     "name": "stdout",
     "output_type": "stream",
     "text": [
      "Ttest_indResult(statistic=2.5351871976618554, pvalue=0.0112473592184971)\n"
     ]
    }
   ],
   "execution_count": 54
  },
  {
   "cell_type": "code",
   "source": [
    "# test second person pronouns\n",
    "test_pronouns = stats.ttest_ind(t1.second_person1 + t1.second_person2, t2.second_person1 + t2.second_person2)\n",
    "print(test_pronouns)"
   ],
   "metadata": {
    "tags": [],
    "cell_id": "54847fda911e4bffad082761ffbef8ce",
    "source_hash": "f43434f5",
    "execution_start": 1667064859769,
    "execution_millis": 12,
    "deepnote_to_be_reexecuted": false,
    "deepnote_cell_type": "code",
    "pycharm": {
     "name": "#%%\n"
    }
   },
   "outputs": [
    {
     "name": "stdout",
     "output_type": "stream",
     "text": [
      "Ttest_indResult(statistic=0.796055773364656, pvalue=0.42601041983590326)\n"
     ]
    }
   ],
   "execution_count": 55
  },
  {
   "cell_type": "code",
   "source": [
    "# test third person singular pronouns\n",
    "test_pronouns = stats.ttest_ind(t1.third_person_singular1 + t1.third_person_singular2, t2.third_person_singular1 + t2.third_person_singular2)\n",
    "print(test_pronouns)"
   ],
   "metadata": {
    "tags": [],
    "cell_id": "f0791c1906924342bfa65a83634cb7ce",
    "source_hash": "76b8b334",
    "execution_start": 1667064859780,
    "execution_millis": 7,
    "deepnote_to_be_reexecuted": false,
    "deepnote_cell_type": "code",
    "pycharm": {
     "name": "#%%\n"
    }
   },
   "outputs": [
    {
     "name": "stdout",
     "output_type": "stream",
     "text": [
      "Ttest_indResult(statistic=-11.414694327898983, pvalue=4.5122602952897704e-30)\n"
     ]
    }
   ],
   "execution_count": 56
  },
  {
   "cell_type": "code",
   "source": [
    "# test third person plural pronouns\n",
    "test_pronouns = stats.ttest_ind(t1.third_person_plural1 + t1.third_person_plural2, t2.third_person_plural1 + t2.third_person_plural2)\n",
    "print(test_pronouns)\n",
    "# print('Third_person_plural pronoun usage really increased in the winner headlines.')"
   ],
   "metadata": {
    "cell_id": "88203449f0e74bc5b71120acf90847c7",
    "pycharm": {
     "name": "#%%\n"
    },
    "collapsed": false,
    "source_hash": "9e3f060b",
    "execution_start": 1667064859790,
    "execution_millis": 4,
    "deepnote_to_be_reexecuted": false,
    "deepnote_cell_type": "code"
   },
   "outputs": [
    {
     "name": "stdout",
     "output_type": "stream",
     "text": [
      "Ttest_indResult(statistic=-5.344395509942545, pvalue=9.185578086621889e-08)\n"
     ]
    }
   ],
   "execution_count": 57
  },
  {
   "cell_type": "code",
   "source": [
    "# test negative\n",
    "test_neg = stats.ttest_ind(t1.negative1 + t1.negative2, t2.negative1 + t2.negative2)\n",
    "print(test_neg)"
   ],
   "metadata": {
    "cell_id": "93c3c11a9f544a42b1201677602828b4",
    "pycharm": {
     "name": "#%%\n"
    },
    "collapsed": false,
    "source_hash": "a9e51b61",
    "execution_start": 1667064859795,
    "execution_millis": 6,
    "deepnote_to_be_reexecuted": false,
    "deepnote_cell_type": "code"
   },
   "outputs": [
    {
     "name": "stdout",
     "output_type": "stream",
     "text": [
      "Ttest_indResult(statistic=-3.156473664665118, pvalue=0.0015996020833030436)\n"
     ]
    }
   ],
   "execution_count": 58
  },
  {
   "cell_type": "markdown",
   "source": [
    "We cannot assume that negative words are the same in two periods because the p-value of negative words for the winner is so high and the p-value for the loser is so low."
   ],
   "metadata": {
    "tags": [],
    "cell_id": "655aa124deff46579d3fce3c96b74392",
    "deepnote_cell_type": "markdown",
    "pycharm": {
     "name": "#%% md\n"
    }
   }
  },
  {
   "cell_type": "code",
   "source": [
    "# test positive\n",
    "test_positive = stats.ttest_ind(t1.positive1 + t1.positive2, t2.positive1 + t2.positive2)\n",
    "print(test_positive)"
   ],
   "metadata": {
    "cell_id": "4ad084a2aca54888957652b3c6838416",
    "pycharm": {
     "name": "#%%\n"
    },
    "collapsed": false,
    "source_hash": "9f565d92",
    "execution_start": 1667064859834,
    "execution_millis": 10,
    "deepnote_to_be_reexecuted": false,
    "deepnote_cell_type": "code"
   },
   "outputs": [
    {
     "name": "stdout",
     "output_type": "stream",
     "text": [
      "Ttest_indResult(statistic=-1.2495276036203617, pvalue=0.21148887984022322)\n"
     ]
    }
   ],
   "execution_count": 59
  },
  {
   "cell_type": "markdown",
   "source": [
    "There is no discernible difference between positive words corresponding to the two periods because the p-value of the two time periods for positive words is too high, greater than 0.05, and we cannot reject the null hypothesis."
   ],
   "metadata": {
    "tags": [],
    "cell_id": "bbde02bb24624de99ed276e5f91d85ff",
    "deepnote_cell_type": "markdown",
    "pycharm": {
     "name": "#%% md\n"
    }
   }
  },
  {
   "cell_type": "markdown",
   "source": [
    "### 4.6 **Discuss:** Hypothesize two reasons that could have led to a change in the observed effects. According to the analysis done in **T4.5**, have the effects observed remained the same across the study period?"
   ],
   "metadata": {
    "cell_id": "52620aa8a5c8407aadb5d782dcf3a73f",
    "pycharm": {
     "name": "#%% md\n"
    },
    "collapsed": false,
    "deepnote_cell_type": "markdown"
   }
  },
  {
   "cell_type": "markdown",
   "source": [
    "Reason1: People studied the winner headlines' features and then used them more and more frequently, so that the change could happen. It is just like the process of natural selection\n",
    "Reason2: People tend to become to prefer using third-person plural, since it unclearly indication about some special group of people which can avoid bad misleading effects. Using second-person may be sometimes offensive to others, therefore, people use less of them. And negative words become more and more popular on the internet, so editors use them to obtain attention.\n",
    "\n",
    "Throughout the study period, the impact has varied. The headline's length, its use of negative words, and its use of third-person singular, third-person plural, and first-person plural pronouns are not the same through t1 and t1. However, they are the same for the remaining categories."
   ],
   "metadata": {
    "cell_id": "7318279ac9fb45ebb0a36e98397b9552",
    "pycharm": {
     "name": "#%% md\n"
    },
    "collapsed": false,
    "deepnote_cell_type": "markdown"
   }
  },
  {
   "cell_type": "markdown",
   "source": [
    "### 4.7 The features we are studying may interact with each other. For instance, people may like first person singular pronouns in headlines containing positive words (you are amazing!), but dislike headlines with negative words and first person pronouns (you are awful!). To help answer this question, create:\n",
    "- a dataframe containing all A/B tests where both winner and loser headlines include a positive word; and\n",
    "- a dataframe containing all A/B tests where both winner and loser headlines include a negative word;"
   ],
   "metadata": {
    "cell_id": "2383f4420f6c42a9ba0fbbfa28823f27",
    "pycharm": {
     "name": "#%% md\n"
    },
    "collapsed": false,
    "deepnote_cell_type": "markdown"
   }
  },
  {
   "cell_type": "code",
   "source": [
    "# both winner and loser inclue a positive word\n",
    "w_l_positive = new_dataset.loc[(new_dataset.positive1!=0) & (new_dataset.positive2!=0)]\n",
    "# both winner and loser inclue a negative word\n",
    "w_l_negative = new_dataset.loc[(new_dataset.negative1!=0) & (new_dataset.negative2!=0)]\n",
    "w_l_negative.shape\n",
    "w_l_positive.shape"
   ],
   "metadata": {
    "cell_id": "0f52884326d745ff862c27653fd7d6aa",
    "pycharm": {
     "name": "#%%\n"
    },
    "collapsed": false,
    "source_hash": "a7bfd49f",
    "execution_start": 1667064859844,
    "execution_millis": 9,
    "deepnote_to_be_reexecuted": false,
    "deepnote_cell_type": "code"
   },
   "outputs": [
    {
     "data": {
      "text/plain": "(4679, 21)"
     },
     "execution_count": 60,
     "metadata": {},
     "output_type": "execute_result"
    }
   ],
   "execution_count": 60
  },
  {
   "cell_type": "code",
   "source": [
    "# the mean of the number of first_person_singular for winner with negative words\n",
    "w_n_fps_count = w_l_negative.first_person_singular1.mean()\n",
    "print(w_n_fps_count)\n",
    "\n",
    "# the mean of the number of first_person_singular for loser with negative words\n",
    "l_n_fps_count = w_l_negative.first_person_singular2.mean()\n",
    "print(l_n_fps_count)\n",
    "\n",
    "test = stats.ttest_ind(w_l_negative.first_person_singular1, w_l_negative.first_person_singular2)\n",
    "print(f'since the p-value is {test.pvalue} > 0.05, we cannot reject the observation that the mean is equal.\\nSo people may dislike headlines with negative words and first person pronouns (you are awful!) is true is the significance value is relatively small')"
   ],
   "metadata": {
    "cell_id": "48664ccc1c19462eae1f93e7ba8cebaa",
    "pycharm": {
     "name": "#%%\n"
    },
    "collapsed": false,
    "source_hash": "d418b260",
    "execution_start": 1667064859855,
    "execution_millis": 15,
    "deepnote_to_be_reexecuted": false,
    "deepnote_cell_type": "code"
   },
   "outputs": [
    {
     "name": "stdout",
     "output_type": "stream",
     "text": [
      "0.13604360663184192\n",
      "0.12128094481035658\n",
      "since the p-value is 0.03857480621811913 > 0.05, we cannot reject the observation that the mean is equal.\n",
      "So people may dislike headlines with negative words and first person pronouns (you are awful!) is true is the significance value is relatively small\n"
     ]
    }
   ],
   "execution_count": 61
  },
  {
   "cell_type": "code",
   "source": [
    "# the mean of the number of first_person_singular for winner with positve words\n",
    "w_p_fps_count = w_l_positive.first_person_singular1.mean()\n",
    "print(w_p_fps_count)\n",
    "\n",
    "# the mean of the number of first_person_singular for loser with positve words\n",
    "l_p_fps_count = w_l_positive.first_person_singular2.mean()\n",
    "print(l_p_fps_count)\n",
    "\n",
    "test = stats.ttest_ind(w_l_positive.first_person_singular1,w_l_positive.first_person_singular2)\n",
    "print(f'since the p-value is {test.pvalue} > 0.05, we cannot reject the observation that the mean is equal.\\nSo people may like first person singular pronouns in headlines containing positive words (you are amazing!) is not true')"
   ],
   "metadata": {
    "cell_id": "c2bcc5e1056c410ab24dd18e81680cfc",
    "pycharm": {
     "name": "#%%\n"
    },
    "collapsed": false,
    "source_hash": "5e3545f5",
    "execution_start": 1667064859864,
    "execution_millis": 7,
    "deepnote_to_be_reexecuted": false,
    "deepnote_cell_type": "code"
   },
   "outputs": [
    {
     "name": "stdout",
     "output_type": "stream",
     "text": [
      "0.13891857234451807\n",
      "0.12417183158794615\n",
      "since the p-value is 0.03483423123614644 > 0.05, we cannot reject the observation that the mean is equal.\n",
      "So people may like first person singular pronouns in headlines containing positive words (you are amazing!) is not true\n"
     ]
    }
   ],
   "execution_count": 62
  },
  {
   "cell_type": "markdown",
   "source": [
    "### 4.8 Using an appropriate methodology of your choice, determine if the effect of the use of first person singular pronouns in the headline is heterogeneous across headlines with positive words and negative words, i.e., is the effect significantly stronger for one of the dataframes created in **T4.7**?"
   ],
   "metadata": {
    "tags": [],
    "cell_id": "0f125788b76541dbb8e0191a32e318f2",
    "deepnote_cell_type": "markdown",
    "pycharm": {
     "name": "#%% md\n"
    }
   }
  },
  {
   "cell_type": "code",
   "source": [
    "# for positive set:\n",
    "mean_positive_1 = w_l_positive['first_person_singular1'].mean()\n",
    "mean_positive_2 = w_l_positive['first_person_singular2'].mean()\n",
    "print(f'mean for winner and loser headline in the positive dataset are {mean_positive_1}, {mean_positive_2} respectively')"
   ],
   "metadata": {
    "tags": [],
    "cell_id": "dae44b6a0aa64389b41f3fdb26a80d83",
    "source_hash": "f8fe5079",
    "execution_start": 1667064859870,
    "execution_millis": 13,
    "deepnote_to_be_reexecuted": false,
    "deepnote_cell_type": "code",
    "pycharm": {
     "name": "#%%\n"
    }
   },
   "outputs": [
    {
     "name": "stdout",
     "output_type": "stream",
     "text": [
      "mean for winner and loser headline in the positive dataset are 0.13891857234451807, 0.12417183158794615 respectively\n"
     ]
    }
   ],
   "execution_count": 63
  },
  {
   "cell_type": "code",
   "source": [
    "# pair t-test of the number of first_person_singular when both winner and loser include a positive word\n",
    "stats.ttest_rel(w_l_positive['first_person_singular1'], w_l_positive['first_person_singular2'])"
   ],
   "metadata": {
    "tags": [],
    "cell_id": "20cafcedc5884f57822bca7fed1f51bf",
    "source_hash": "1de43712",
    "execution_start": 1667064859883,
    "execution_millis": 3,
    "deepnote_to_be_reexecuted": false,
    "deepnote_cell_type": "code",
    "pycharm": {
     "name": "#%%\n"
    }
   },
   "outputs": [
    {
     "data": {
      "text/plain": "Ttest_relResult(statistic=2.4423393128294264, pvalue=0.014629191076494555)"
     },
     "execution_count": 64,
     "metadata": {},
     "output_type": "execute_result"
    }
   ],
   "execution_count": 64
  },
  {
   "cell_type": "code",
   "source": [
    "# independent t-test of the number of first_person_singular1 when both winner and loser include a positive word\n",
    "stats.ttest_ind(w_l_positive['first_person_singular1'], w_l_positive['first_person_singular2'])"
   ],
   "metadata": {
    "tags": [],
    "cell_id": "871a15e079284ad28d3ae5035ac2e4e9",
    "source_hash": "4fb6050e",
    "execution_start": 1667064859884,
    "execution_millis": 53,
    "deepnote_to_be_reexecuted": false,
    "deepnote_cell_type": "code",
    "pycharm": {
     "name": "#%%\n"
    }
   },
   "outputs": [
    {
     "data": {
      "text/plain": "Ttest_indResult(statistic=2.110587708249082, pvalue=0.03483423123614644)"
     },
     "execution_count": 65,
     "metadata": {},
     "output_type": "execute_result"
    }
   ],
   "execution_count": 65
  },
  {
   "cell_type": "code",
   "source": [
    "# for negative set:\n",
    "mean_negative_1 = w_l_negative['first_person_singular1'].mean()\n",
    "mean_negative_2 = w_l_negative['first_person_singular2'].mean()\n",
    "print(f'mean for winner and loser headline in the negative dataset are {mean_negative_1}, {mean_negative_2} respectively')"
   ],
   "metadata": {
    "tags": [],
    "cell_id": "d7b5cd43adea40f488a1f8a6a54bfe78",
    "source_hash": "fb9711ba",
    "execution_start": 1667064859936,
    "execution_millis": 10,
    "deepnote_to_be_reexecuted": false,
    "deepnote_cell_type": "code",
    "pycharm": {
     "name": "#%%\n"
    }
   },
   "outputs": [
    {
     "name": "stdout",
     "output_type": "stream",
     "text": [
      "mean for winner and loser headline in the negative dataset are 0.13604360663184192, 0.12128094481035658 respectively\n"
     ]
    }
   ],
   "execution_count": 66
  },
  {
   "cell_type": "code",
   "source": [
    "# pair t-test of the number of first_person_singular1 when both winner and loser include a negative word\n",
    "stats.ttest_rel(w_l_negative['first_person_singular1'], w_l_negative['first_person_singular2'])"
   ],
   "metadata": {
    "tags": [],
    "cell_id": "b4e1d54afcba44e2888fbb123d0309fb",
    "source_hash": "9cb28138",
    "execution_start": 1667064859943,
    "execution_millis": 7,
    "deepnote_to_be_reexecuted": false,
    "deepnote_cell_type": "code",
    "pycharm": {
     "name": "#%%\n"
    }
   },
   "outputs": [
    {
     "data": {
      "text/plain": "Ttest_relResult(statistic=2.5570203553511037, pvalue=0.01059054921957079)"
     },
     "execution_count": 67,
     "metadata": {},
     "output_type": "execute_result"
    }
   ],
   "execution_count": 67
  },
  {
   "cell_type": "code",
   "source": [
    "# independent t-test of the number of first_person_singular1 when both winner and loser include a negative word\n",
    "stats.ttest_ind(w_l_negative['first_person_singular1'], w_l_negative['first_person_singular2'])"
   ],
   "metadata": {
    "tags": [],
    "cell_id": "fba6e935dfbc433d9a460794ed0bbc32",
    "source_hash": "62d0aa0a",
    "execution_start": 1667064859950,
    "execution_millis": 5,
    "deepnote_to_be_reexecuted": false,
    "deepnote_cell_type": "code",
    "pycharm": {
     "name": "#%%\n"
    }
   },
   "outputs": [
    {
     "data": {
      "text/plain": "Ttest_indResult(statistic=2.069004225543277, pvalue=0.03857480621811913)"
     },
     "execution_count": 68,
     "metadata": {},
     "output_type": "execute_result"
    }
   ],
   "execution_count": 68
  },
  {
   "cell_type": "markdown",
   "source": [
    "**Answer:** Through independent T-testing between first_person_singular1 and first_person_singular2 in the positive headline and the negative headline, evident that in positive headlines, using the first-person singular cannot attract people to click on the headline. However, using the first-person singular pronoun in a negative headline can entice people to click on it."
   ],
   "metadata": {
    "tags": [],
    "cell_id": "2a10ccca6b634a9f864eb218931ee0cb",
    "deepnote_cell_type": "markdown",
    "pycharm": {
     "name": "#%% md\n"
    }
   }
  },
  {
   "cell_type": "markdown",
   "source": [
    "### 4.9 **Discuss:** Considering the analyses you did throughout Tasks 3 and 4, write a short text (no more than 250 words) giving advice to Upworthy employees on how they should try to write engaging headlines.\n",
    "You can reference images present in the notebook by indicating a task (e.g., image plotted in **T3.3**) or a cell number. Note that you do not need to conduct any additional analysis to write this text."
   ],
   "metadata": {
    "cell_id": "51c65ea114754844b03aee5fb91278a3",
    "pycharm": {
     "name": "#%% md\n"
    },
    "collapsed": false,
    "deepnote_cell_type": "markdown"
   }
  },
  {
   "cell_type": "markdown",
   "source": [
    "According to the number from cell T3.8, Negative and more use of third-person plural pronouns headlines can be more appealing. It is easy to see the image plotted in T4.2 indicating an increasing preference for third-person singular pronouns in headlines. At the same time, first-person singular pronouns occur less frequently.\n",
    "\n",
    "Nevertheless, this situation would change when we use first-person singular pronouns in the negative headlines. From the last paragraph, we know that the negative headline is more appealing to the reader and that click-through rates increase when first-person singular pronounces are used in negatives. Perhaps this is because it is more immersive and inspires empathy in the reader.\n",
    "\n",
    "In summary, when designing headlines for news, we recommend using longer, negative, and more use third-person plural and singular headlines."
   ],
   "metadata": {
    "tags": [],
    "cell_id": "fe22ef0d5f9140adad0876769a7959f3",
    "deepnote_cell_type": "markdown",
    "pycharm": {
     "name": "#%% md\n"
    }
   }
  }
 ],
 "nbformat": 4,
 "nbformat_minor": 0,
 "metadata": {
  "deepnote": {},
  "kernelspec": {
   "name": "python3",
   "language": "python",
   "display_name": "Python 3 (ipykernel)"
  },
  "language_info": {
   "name": "python",
   "version": "3.10.4",
   "mimetype": "text/x-python",
   "file_extension": ".py",
   "pygments_lexer": "ipython3",
   "codemirror_mode": {
    "name": "ipython",
    "version": 3
   },
   "nbconvert_exporter": "python"
  },
  "deepnote_notebook_id": "1730fd88648b45ba8deff588895d851d",
  "deepnote_execution_queue": []
 }
}