{
 "cells": [
  {
   "cell_type": "markdown",
   "id": "41f19621",
   "metadata": {
    "pycharm": {
     "name": "#%% md\n"
    }
   },
   "source": [
    "# Homework 1 (HW1)\n",
    "\n",
    "By the end of this homework, we expect you to be able to:\n",
    "\n",
    "- Load data and handle data using pandas;\n",
    "- Navigate the documentation of Python packages by yourself;\n",
    "- Filter and tidy up noisy real-world datasets;\n",
    "- Aggregate your data in different (and hopefully helpful) ways; \n",
    "- Create meaningful visualizations to analyze the data;\n",
    "\n",
    "---\n",
    "\n",
    "## Important Dates\n",
    "\n",
    "- Homework release: Fri 14 Oct 2022\n",
    "- **Homework due**: Sat 29 Oct 2022, 23:59\n",
    "- Grade release: Mon 07 Nov 2022\n",
    "\n",
    "---\n",
    "\n",
    "##  Some rules\n",
    "\n",
    "1. You are allowed to use any built-in Python library that comes with Anaconda. If you want to use an external library, \n",
    "you may do so, but must justify your choice.\n",
    "2. Make sure you use the `data` folder provided in the repository in read-only mode. (Or alternatively, be sure you \n",
    "don’t change any of the files.)\n",
    "3. Be sure to provide a textual description of your thought process, the assumptions you made, the solution you \n",
    "implemented, and explanations for your answers. A notebook that only has code cells will not suffice.\n",
    "4. For questions containing the **/Discuss:/** prefix, answer not with code, but with a textual explanation\n",
    " (**in markdown**).\n",
    "5. Back up any hypotheses and claims with data, since this is an important aspect of the course.\n",
    "6. Please write all your comments in English, and use meaningful variable names in your code. Your repo should have a \n",
    "single notebook (plus the required data files) in the *master/main* branch. If there are multiple notebooks present, \n",
    "we will **not grade** anything.\n",
    "7. We will **not run your notebook for you**! Rather, we will grade it as is, which means that only the results \n",
    "contained in your evaluated code cells will be considered, and we will not see the results in unevaluated code cells. \n",
    "Thus, be sure to hand in a **fully-run and evaluated notebook**. In order to check whether everything looks as intended,\n",
    " you can check the rendered notebook on the GitHub website once you have pushed your solution there.\n",
    "8. In continuation to the previous point, interactive plots, such as those generated using `plotly`, should be \n",
    "**strictly avoided**!\n",
    "9. Make sure to print results or dataframes that confirm you have properly addressed the task.\n",
    "\n",
    "---\n",
    "\n",
    "In this homework, we will analyze data from A/B tests of headlines conducted by Upworthy from January 2013 to April 2015 to study whether the language used in the headline determines the number of people that will read the associated news piece. The homework contains four tasks: in task 1, we will process the data; in task 2, we will extract meaningful signals from the data; in task 3, we will test whether the language of headlines impacts their success; and in task 4, we will explore the heterogeneity of this effects (e.g., does it vary through time?).\n",
    "\n",
    "\n",
    "### **What is an A/B test?** \n",
    "A/B tests are experiments that compare two scenarios (e.g., scenario A vs. scenario B). \n",
    "They test subjects' responses to each of the variants to determine which is more effective ([read more about A/B tests on Wikipedia](https://en.wikipedia.org/wiki/A/B_testing)). \n",
    "A/B tests allow us to draw conclusions about the different scenarios by randomizing exposure to them, e.g., one could flip a coin and assign a user to scenario A if it lands heads and to B if it lands tails. \n",
    "Since exposure is randomized, we can be confident that the scenarios are the sole explanation for statistically significant differences in subjects' responses (if they exist). \n",
    "In theory, A/B testing refers to an experiment that compares two scenarios; however, in practice, the term is also used when we compare multiple scenarios (e.g., A vs. B vs. C), although the more precise terminology would be to call such an experiment a \"multinomial test.\"\n",
    "\n",
    "### **How were A/B tests used by Upworthy?** \n",
    "Upworthy used A/B testing to increase news readership, conducting experiments for each published news piece. \n",
    "In each experiment, they created multiple \"packages\" of stimuli, varying headlines, images, excerpts, and ledes for the same news piece. \n",
    "Different \"packages\" were shown on their (now defunct) website to engage users with the news pieces they produced. Upworthy found \"the best\" package by conducting A/B tests, showing different packages to different users, and measuring how often users clicked on each version. \n",
    "Below, we show three \"packages\" used by Upworthy in an experiment, each with a different headline for the same news piece. \n",
    "Upworthy randomized users that visited their website saw one of the three versions of the headline below. Then, they measured the percentage of times users in each scenario clicked to read the news. \n",
    "The headline with the highest percentage of clicks per view (click through rate) was then declared the \"winner\" and became the default for all visitors.\n",
    "\n",
    "![Example A/B test](example.png)\n",
    "\n",
    " ### **Where does this data come from?** \n",
    " \n",
    " From a paper [1].\n",
    "\n",
    "[1] Matias, J.N., Munger, K., Le Quere, M.A. et al. The Upworthy Research Archive, a time series of 32,487 experiments in U.S. media. Sci Data 8, 195 (2021). https://doi.org/10.1038/s41597-021-00934-7\n",
    "\n",
    "### **Where can I find this data?**  \n",
    "\n",
    "You can find it in the `/data/` folder.\n",
    "\n",
    "### **Terminology**\n",
    "\n",
    "- **News piece:** A news article. In the dataset considered, these were all produced by Upworthy.\n",
    "- **Package:** The set of visual stimuli inviting the user to read an article. The figure above shows a package with a headline and an image. At times, there was an excerpt of the article also shown in the package and/or the lede, i.e., [\"the introductory section of a news story that is intended to entice the reader to read the full story.\"](https://www.merriam-webster.com/words-at-play/bury-the-lede-versus-lead#:~:text=In%20journalism%2C%20the%20lede%20refers,machines%20began%20disappearing%20from%20newsrooms.)\n",
    "- **Experiment:** Each experiment is an A/B test (or multinomial test, to be more precise) comparing how users reacted to different \"packages.\" Experiments measured two things: 1) how many users were shown each package; and 2) how many individuals clicked each package.\n",
    "\n",
    "### **Data description**\n",
    "\n",
    "| Column name          | Description                                                                                                                                                                                       |   |   |   |\n",
    "|----------------------|---------------------------------------------------------------------------------------------------------------------------------------------------------------------------------------------------|---|---|---|\n",
    "| created_at           | Time the package was created (timezone unknown)                                                                                                                                                   |   |   |   |\n",
    "| test_week            | Week the package was created, a variable constructed by the archive creators for stratified random sampling                                                                                       |   |   |   |\n",
    "| clickability_test_id | The test ID. Viewers were randomly assigned to packages with the same test ID                                                                                                                     |   |   |   |\n",
    "| impressions          | The number of viewers who were assigned to this package. The total number of participants for a given test is the sum of impressions for all packages that share the same clickability_test_id    |   |   |   |\n",
    "| headline             | The headline being tested                                                                                                                                                                         |   |   |   |\n",
    "| eyecatcher_id        | Image ID. Image files are not available. Packages that shared the same image have the same eyecatcher_id                                                                                          |   |   |   |\n",
    "| clicks               | The number of viewers (impressions) that clicked on the package. The clickrate for a given package is the number of clicks divided by the number of impressions                                   |   |   |   |\n",
    "| excerpt              | Article excerpt                                                                                                                                                                                   |   |   |   |\n",
    "| lede                 | The opening sentence or paragraph of the story                                                                                                                                                    |   |   |   |\n",
    "| slug                 | Internal name for the web address                                                                                                                                                                 |   |   |   |\n",
    "| share_text           | Summary for display on social media when the article is shared. This was not shown in tests, since tests were conducted on the Upworthy website                                                   |   |   |   |\n",
    "| square               | When used, part of the same social media sharing suggestion as the share text                                                                                                                     |   |   |   |\n",
    "| significance         | NOT an estimate of statistical significance; a complex, inconsistent calculation that compared the clicks on a package to the clicks on all previous packages that were fielded on the same pages |   |   |   |\n",
    "| first_place          | Along with significance, shown to editors to guide decisions about what test to choose                                                                                                            |   |   |   |\n",
    "| winner               | Whether a package was selected by editors to be used on the Upworthy site after the test                                                                                                          |   |   |   |\n",
    "| updated_at           | The last time the package was updated in the Upworthy system                                                                                                                                      |   |   |   |\n"
   ]
  },
  {
   "cell_type": "markdown",
   "id": "7b640175",
   "metadata": {
    "pycharm": {
     "name": "#%% md\n"
    }
   },
   "source": [
    "## Task 1: Getting familiar with the data\n",
    "\n",
    "Your first task is to conduct initial analyses to understand the data and process it in a way that will allow us to more easily answer our key question: *how does the language of a headline determine its success?*\n",
    "\n",
    "1.1 Load the data into memory using pandas and print the first lines to get a sense of it.\n",
    "\n",
    "1.2 Each experiment comparing different versions of the same news piece (\"packages\") has a unique identifier (`clickability_test_id` column). \n",
    "Calculate how many different experiments were conducted in this dataset and, on average, how many packages were considered per experiment. \n",
    "Last, plot the distribution of packages per experiment with a visualization of your choice.\n",
    "\n",
    "1.3 A common way to measure success in online A/B tests is what is called \"the clickthrough rate.\"\n",
    "Given that often A/B tests are created to find what engages users (here, \"packages\" of headlines, images, etc), we would expect that a \"good\" package makes people click often. \n",
    "Create a column named `ctr` by dividing the number of clicks a package received (`clicks` column) by the number of impressions it received (`impressions` column).\n",
    "\n",
    "1.4 Packages varied any combination of the headline (`headline` column), the excerpt (`excerpt`), the first sentence of the article (`lede`), and the image that illustrates the news piece (`eyecatcher_id`, a hash per image). \n",
    "But we want to isolate the effect of the headline on the clickthrough rate. To do that, create a new dataframe where you filter all experiments where only one headline is present. \n",
    "Print the length of this new dataframe and how many experiments were discarded in the filtering process.\n",
    "\n",
    "1.5 For comparison, repeat the procedure described in **T1.4** with the `eyecatcher_id` column, i.e., create a dataframe considering only experiments that vary the image. \n",
    "Again, print the length of this new dataframe and how many experiments were discarded in the filtering process.\n",
    "\n",
    "1.6 **Discuss:** Considering the answers to questions **T1.4** and **T1.4**, what can we say about the different versions of the news tested by Upworthy?\n",
    "\n",
    "1.7 For our subsequent analysis, we want to compare the causal effect of headlines on the success of a news piece. \n",
    "For that, we can compare pairs of packages with the same `eyecatcher_id`, `lede`, and `excerpt`, but different `headlines`.\n",
    "Note that this means that if an experiment considered 5 different headlines and did not vary any other stimulus, we would have 5C2 (i.e., 5 choose 2, 10) pairs to consider.\n",
    "Create a dataset where:\n",
    "- each row corresponds to a pair of packages with different `headline` but the same `eyecatcher_id`, `lede`, and `excerpt`. \n",
    "- there are columns containing the headlines of each of the news versions (`headline1`, `headline2`) and the clickthrough rate of each of the news versions (`ctr1`, `ctr2`). \n",
    "- the columns `headline1` and `ctr1` contain the data associated with the news version with the highest clickthrough rate. Print the first columns of your newly created dataframe, as well as its length.\n",
    "-  the columns where the two news pieces had exactly the same clickthrough rate should be filtered out (this is for simplicity's sake).\n",
    "-  the column `date_created` contains the date when the news version with the highest clickthrough rate was created.\n",
    "\n",
    "1.8 To get a sense of the impact of headline change, measure the average difference per pair between the most clicked-through (`ctr1`) and the least clicked-through headline (`ctr2`), as well as the average clickthrough rate for the least clicked through headline (`ctr2`). \n",
    "\n",
    "1.9 **Discuss:** Considering your answer to **T1.8**, and assuming the average differences in clickthrough rates between pairs are statistically significant, do you think that headlines are impactful in the news business? Justify with the data."
   ]
  },
  {
   "cell_type": "code",
   "execution_count": 2,
   "id": "d3a9f611",
   "metadata": {
    "pycharm": {
     "name": "#%%\n"
    }
   },
   "outputs": [],
   "source": [
    "# define some names\n",
    "data_path_root = './data/'"
   ]
  },
  {
   "cell_type": "code",
   "execution_count": 3,
   "outputs": [],
   "source": [
    "# import the needed libraries\n",
    "import os\n",
    "import numpy as np\n",
    "import pandas as pd\n",
    "import seaborn as sns\n",
    "import matplotlib.pyplot as plt\n",
    "%matplotlib inline"
   ],
   "metadata": {
    "collapsed": false,
    "pycharm": {
     "name": "#%%\n"
    }
   }
  },
  {
   "cell_type": "code",
   "execution_count": 41,
   "outputs": [],
   "source": [
    "# for style of plots\n",
    "sns.set_context(\"notebook\")\n",
    "sns.set_palette(\"tab10\")"
   ],
   "metadata": {
    "collapsed": false,
    "pycharm": {
     "name": "#%%\n"
    }
   }
  },
  {
   "cell_type": "markdown",
   "source": [
    "### 1.1 Load the data into memory using pandas and print the first lines to get a sense of it."
   ],
   "metadata": {
    "collapsed": false,
    "pycharm": {
     "name": "#%% md\n"
    }
   }
  },
  {
   "cell_type": "code",
   "execution_count": 35,
   "outputs": [
    {
     "data": {
      "text/plain": "                created_at               updated_at      clickability_test_id  \\\n0  2014-11-20 06:43:16.005  2016-04-02 16:33:38.062  546d88fb84ad38b2ce000024   \n1  2014-11-20 06:54:36.335  2016-04-02 16:25:54.027  546d902c26714c6c44000039   \n2  2014-11-20 06:54:57.878  2016-04-02 16:31:45.671  546d902c26714c6c44000039   \n3  2014-11-20 06:55:07.212  2016-04-02 16:25:54.029  546d902c26714c6c44000039   \n4  2014-11-20 06:55:20.347  2016-04-02 16:25:54.032  546d902c26714c6c44000039   \n\n                            excerpt  \\\n0  Things that matter. Pass 'em on.   \n1  Things that matter. Pass 'em on.   \n2  Things that matter. Pass 'em on.   \n3  Things that matter. Pass 'em on.   \n4  Things that matter. Pass 'em on.   \n\n                                            headline  \\\n0  They're Being Called 'Walmart's Worst Nightmar...   \n1        This Is What Sexism Against Men Sounds Like   \n2        This Is What Sexism Against Men Sounds Like   \n3        This Is What Sexism Against Men Sounds Like   \n4        This Is What Sexism Against Men Sounds Like   \n\n                                                lede  \\\n0  <p>When I saw *why* people are calling them \"W...   \n1  <p>DISCLOSURE: I'm a dude. I have cried on mul...   \n2  <p>DISCLOSURE: I'm a dude. I have cried on mul...   \n3  <p>DISCLOSURE: I'm a dude. I have cried on mul...   \n4  <p>DISCLOSURE: I'm a dude. I have cried on mul...   \n\n                                                slug  \\\n0  theyre-being-called-walmarts-worst-nightmare-a...   \n1  this-is-what-sexism-against-men-sounds-like-am...   \n2  this-is-what-sexism-against-men-sounds-like-am...   \n3  this-is-what-sexism-against-men-sounds-like-am...   \n4  this-is-what-sexism-against-men-sounds-like-am...   \n\n              eyecatcher_id  impressions  clicks  significance  first_place  \\\n0  546d6fa19ad54eec8d00002d         3052     150         100.0         True   \n1  546bc55335992b86c8000043         3526      90           4.1        False   \n2  546d900426714cd2dd00002e         3506     120         100.0         True   \n3  546d900426714c6c44000038         3380      98          25.3        False   \n4  546d900426714c1ad900001e         3465      75           0.2        False   \n\n   winner                                         share_text square  test_week  \n0    True  Anyone who's ever felt guilty about shopping a...    NaN     201446  \n1   False  If you ever wondered, \"but what about the men?...    NaN     201446  \n2   False  If you ever wondered, \"but what about the men?...    NaN     201446  \n3   False  If you ever wondered, \"but what about the men?...    NaN     201446  \n4   False  If you ever wondered, \"but what about the men?...    NaN     201446  ",
      "text/html": "<div>\n<style scoped>\n    .dataframe tbody tr th:only-of-type {\n        vertical-align: middle;\n    }\n\n    .dataframe tbody tr th {\n        vertical-align: top;\n    }\n\n    .dataframe thead th {\n        text-align: right;\n    }\n</style>\n<table border=\"1\" class=\"dataframe\">\n  <thead>\n    <tr style=\"text-align: right;\">\n      <th></th>\n      <th>created_at</th>\n      <th>updated_at</th>\n      <th>clickability_test_id</th>\n      <th>excerpt</th>\n      <th>headline</th>\n      <th>lede</th>\n      <th>slug</th>\n      <th>eyecatcher_id</th>\n      <th>impressions</th>\n      <th>clicks</th>\n      <th>significance</th>\n      <th>first_place</th>\n      <th>winner</th>\n      <th>share_text</th>\n      <th>square</th>\n      <th>test_week</th>\n    </tr>\n  </thead>\n  <tbody>\n    <tr>\n      <th>0</th>\n      <td>2014-11-20 06:43:16.005</td>\n      <td>2016-04-02 16:33:38.062</td>\n      <td>546d88fb84ad38b2ce000024</td>\n      <td>Things that matter. Pass 'em on.</td>\n      <td>They're Being Called 'Walmart's Worst Nightmar...</td>\n      <td>&lt;p&gt;When I saw *why* people are calling them \"W...</td>\n      <td>theyre-being-called-walmarts-worst-nightmare-a...</td>\n      <td>546d6fa19ad54eec8d00002d</td>\n      <td>3052</td>\n      <td>150</td>\n      <td>100.0</td>\n      <td>True</td>\n      <td>True</td>\n      <td>Anyone who's ever felt guilty about shopping a...</td>\n      <td>NaN</td>\n      <td>201446</td>\n    </tr>\n    <tr>\n      <th>1</th>\n      <td>2014-11-20 06:54:36.335</td>\n      <td>2016-04-02 16:25:54.027</td>\n      <td>546d902c26714c6c44000039</td>\n      <td>Things that matter. Pass 'em on.</td>\n      <td>This Is What Sexism Against Men Sounds Like</td>\n      <td>&lt;p&gt;DISCLOSURE: I'm a dude. I have cried on mul...</td>\n      <td>this-is-what-sexism-against-men-sounds-like-am...</td>\n      <td>546bc55335992b86c8000043</td>\n      <td>3526</td>\n      <td>90</td>\n      <td>4.1</td>\n      <td>False</td>\n      <td>False</td>\n      <td>If you ever wondered, \"but what about the men?...</td>\n      <td>NaN</td>\n      <td>201446</td>\n    </tr>\n    <tr>\n      <th>2</th>\n      <td>2014-11-20 06:54:57.878</td>\n      <td>2016-04-02 16:31:45.671</td>\n      <td>546d902c26714c6c44000039</td>\n      <td>Things that matter. Pass 'em on.</td>\n      <td>This Is What Sexism Against Men Sounds Like</td>\n      <td>&lt;p&gt;DISCLOSURE: I'm a dude. I have cried on mul...</td>\n      <td>this-is-what-sexism-against-men-sounds-like-am...</td>\n      <td>546d900426714cd2dd00002e</td>\n      <td>3506</td>\n      <td>120</td>\n      <td>100.0</td>\n      <td>True</td>\n      <td>False</td>\n      <td>If you ever wondered, \"but what about the men?...</td>\n      <td>NaN</td>\n      <td>201446</td>\n    </tr>\n    <tr>\n      <th>3</th>\n      <td>2014-11-20 06:55:07.212</td>\n      <td>2016-04-02 16:25:54.029</td>\n      <td>546d902c26714c6c44000039</td>\n      <td>Things that matter. Pass 'em on.</td>\n      <td>This Is What Sexism Against Men Sounds Like</td>\n      <td>&lt;p&gt;DISCLOSURE: I'm a dude. I have cried on mul...</td>\n      <td>this-is-what-sexism-against-men-sounds-like-am...</td>\n      <td>546d900426714c6c44000038</td>\n      <td>3380</td>\n      <td>98</td>\n      <td>25.3</td>\n      <td>False</td>\n      <td>False</td>\n      <td>If you ever wondered, \"but what about the men?...</td>\n      <td>NaN</td>\n      <td>201446</td>\n    </tr>\n    <tr>\n      <th>4</th>\n      <td>2014-11-20 06:55:20.347</td>\n      <td>2016-04-02 16:25:54.032</td>\n      <td>546d902c26714c6c44000039</td>\n      <td>Things that matter. Pass 'em on.</td>\n      <td>This Is What Sexism Against Men Sounds Like</td>\n      <td>&lt;p&gt;DISCLOSURE: I'm a dude. I have cried on mul...</td>\n      <td>this-is-what-sexism-against-men-sounds-like-am...</td>\n      <td>546d900426714c1ad900001e</td>\n      <td>3465</td>\n      <td>75</td>\n      <td>0.2</td>\n      <td>False</td>\n      <td>False</td>\n      <td>If you ever wondered, \"but what about the men?...</td>\n      <td>NaN</td>\n      <td>201446</td>\n    </tr>\n  </tbody>\n</table>\n</div>"
     },
     "execution_count": 35,
     "metadata": {},
     "output_type": "execute_result"
    }
   ],
   "source": [
    "data_path = os.path.join(data_path_root, 'upworthy.csv.gz')\n",
    "data = pd.read_csv(data_path, compression='gzip')\n",
    "data.head()"
   ],
   "metadata": {
    "collapsed": false,
    "pycharm": {
     "name": "#%%\n"
    }
   }
  },
  {
   "cell_type": "markdown",
   "source": [
    "### 1.2 Each experiment comparing different versions of the same news piece (“packages”) has a unique identifier (clickability_test_id column). Calculate how many different experiments were conducted in this dataset and, on average, how many packages were considered per experiment. Last, plot the distribution of packages per experiment with a visualization of your choice."
   ],
   "metadata": {
    "collapsed": false,
    "pycharm": {
     "name": "#%% md\n"
    }
   }
  },
  {
   "cell_type": "code",
   "execution_count": 36,
   "outputs": [
    {
     "name": "stdout",
     "output_type": "stream",
     "text": [
      "There are 4822 different experiments conducted in this data set.\n",
      "On average 4.2727084197428455 packages were considered per experiment.\n"
     ]
    }
   ],
   "source": [
    "experiments = data['clickability_test_id'].drop_duplicates()\n",
    "num_of_experiments = len(experiments)\n",
    "print(f'There are {num_of_experiments} different experiments conducted in this data set.')\n",
    "num_of_packages = data.shape[0]\n",
    "avg_pkg_per_exp = num_of_packages / num_of_experiments\n",
    "print(f'On average {avg_pkg_per_exp} packages were considered per experiment.')"
   ],
   "metadata": {
    "collapsed": false,
    "pycharm": {
     "name": "#%%\n"
    }
   }
  },
  {
   "cell_type": "markdown",
   "source": [
    "There are 4822 different experiments conducted in this data set.\n",
    "On average 4.2727084197428455 packages were considered per experiment.\n",
    "The visualization is at below:"
   ],
   "metadata": {
    "collapsed": false,
    "pycharm": {
     "name": "#%% md\n"
    }
   }
  },
  {
   "cell_type": "code",
   "execution_count": 43,
   "outputs": [
    {
     "data": {
      "text/plain": "Text(0.5, 1.0, 'Distribution of packages per experiment')"
     },
     "execution_count": 43,
     "metadata": {},
     "output_type": "execute_result"
    },
    {
     "data": {
      "text/plain": "<Figure size 432x288 with 1 Axes>",
      "image/png": "[encoded data removed]"
     },
     "metadata": {
      "needs_background": "light"
     },
     "output_type": "display_data"
    }
   ],
   "source": [
    "for_distribution = data.groupby('clickability_test_id').count()\n",
    "sns.histplot(data=for_distribution['created_at'], bins=100)\n",
    "plt.xlabel('packages per experiment')\n",
    "plt.title('Distribution of packages per experiment')"
   ],
   "metadata": {
    "collapsed": false,
    "pycharm": {
     "name": "#%%\n"
    }
   }
  },
  {
   "cell_type": "markdown",
   "source": [
    "### 1.3 A common way to measure success in online A/B tests is what is called “the clickthrough rate.” Given that often A/B tests are created to find what engages users (here, “packages” of headlines, images, etc), we would expect that a “good” package makes people click often. Create a column named ctr by dividing the number of clicks a package received (clicks column) by the number of impressions it received (impressions column)."
   ],
   "metadata": {
    "collapsed": false,
    "pycharm": {
     "name": "#%% md\n"
    }
   }
  },
  {
   "cell_type": "code",
   "execution_count": 45,
   "outputs": [
    {
     "data": {
      "text/plain": "   clicks  impressions       ctr\n0     150         3052  0.049148\n1      90         3526  0.025525\n2     120         3506  0.034227\n3      98         3380  0.028994\n4      75         3465  0.021645",
      "text/html": "<div>\n<style scoped>\n    .dataframe tbody tr th:only-of-type {\n        vertical-align: middle;\n    }\n\n    .dataframe tbody tr th {\n        vertical-align: top;\n    }\n\n    .dataframe thead th {\n        text-align: right;\n    }\n</style>\n<table border=\"1\" class=\"dataframe\">\n  <thead>\n    <tr style=\"text-align: right;\">\n      <th></th>\n      <th>clicks</th>\n      <th>impressions</th>\n      <th>ctr</th>\n    </tr>\n  </thead>\n  <tbody>\n    <tr>\n      <th>0</th>\n      <td>150</td>\n      <td>3052</td>\n      <td>0.049148</td>\n    </tr>\n    <tr>\n      <th>1</th>\n      <td>90</td>\n      <td>3526</td>\n      <td>0.025525</td>\n    </tr>\n    <tr>\n      <th>2</th>\n      <td>120</td>\n      <td>3506</td>\n      <td>0.034227</td>\n    </tr>\n    <tr>\n      <th>3</th>\n      <td>98</td>\n      <td>3380</td>\n      <td>0.028994</td>\n    </tr>\n    <tr>\n      <th>4</th>\n      <td>75</td>\n      <td>3465</td>\n      <td>0.021645</td>\n    </tr>\n  </tbody>\n</table>\n</div>"
     },
     "execution_count": 45,
     "metadata": {},
     "output_type": "execute_result"
    }
   ],
   "source": [
    "data['ctr'] = data['clicks'] / data['impressions']\n",
    "data[['clicks', 'impressions', 'ctr']].head()\n",
    "print('The visualization is at below:')"
   ],
   "metadata": {
    "collapsed": false,
    "pycharm": {
     "name": "#%%\n"
    }
   }
  },
  {
   "cell_type": "markdown",
   "source": [
    "### 1.4 Packages varied any combination of the headline (headline column), the excerpt (excerpt), the first sentence of the article (lede), and the image that illustrates the news piece (eyecatcher_id, a hash per image). But we want to isolate the effect of the headline on the clickthrough rate. To do that, create a new dataframe where you filter all experiments where only one headline is present. Print the length of this new dataframe and how many experiments were discarded in the filtering process.\n",
    "\n",
    "- The length of this new dataframe is 289.\n",
    "- 4533 experiments were discarded in the filtering process.\n"
   ],
   "metadata": {
    "collapsed": false,
    "pycharm": {
     "name": "#%% md\n"
    }
   }
  },
  {
   "cell_type": "code",
   "execution_count": 61,
   "outputs": [
    {
     "name": "stdout",
     "output_type": "stream",
     "text": [
      "The length of this new dataframe is 289.\n",
      "4533 experiments were discarded in the filtering process.\n"
     ]
    }
   ],
   "source": [
    "experiments_one_headline = data.groupby('clickability_test_id').filter(lambda x: x['headline'].count()==1)\n",
    "num_of_experiments_one_headline = experiments_one_headline.shape[0]\n",
    "print(f'The length of this new dataframe is {num_of_experiments_one_headline}.')\n",
    "\n",
    "num_of_experiments_discarded = num_of_experiments - num_of_experiments_one_headline\n",
    "print(f'{num_of_experiments_discarded} experiments were discarded in the filtering process.')"
   ],
   "metadata": {
    "collapsed": false,
    "pycharm": {
     "name": "#%%\n"
    }
   }
  },
  {
   "cell_type": "markdown",
   "source": [
    "### 1.5 For comparison, repeat the procedure described in T1.4 with the eyecatcher_id column, i.e., create a dataframe considering only experiments that vary the image. Again, print the length of this new dataframe and how many experiments were discarded in the filtering process.\n",
    "- The length of this new dataframe is 288.\n",
    "- 4534 experiments were discarded in the filtering process."
   ],
   "metadata": {
    "collapsed": false,
    "pycharm": {
     "name": "#%% md\n"
    }
   }
  },
  {
   "cell_type": "code",
   "execution_count": 63,
   "outputs": [
    {
     "name": "stdout",
     "output_type": "stream",
     "text": [
      "The length of this new dataframe is 288.\n",
      "4534 experiments were discarded in the filtering process.\n"
     ]
    }
   ],
   "source": [
    "experiments_one_image = data.groupby('clickability_test_id').filter(lambda x: x['eyecatcher_id'].count()==1)\n",
    "num_of_experiments_one_image = experiments_one_image.shape[0]\n",
    "print(f'The length of this new dataframe is {num_of_experiments_one_image}.')\n",
    "\n",
    "num_of_experiments_discarded = num_of_experiments - num_of_experiments_one_image\n",
    "print(f'{num_of_experiments_discarded} experiments were discarded in the filtering process.')"
   ],
   "metadata": {
    "collapsed": false,
    "pycharm": {
     "name": "#%%\n"
    }
   }
  },
  {
   "cell_type": "markdown",
   "source": [
    "### 1.6 Discuss: Considering the answers to questions T1.4 and T1.4, what can we say about the different versions of the news tested by Upworthy?\n",
    "Answer: The numbers of news with one headline and one image are roughly the same."
   ],
   "metadata": {
    "collapsed": false,
    "pycharm": {
     "name": "#%% md\n"
    }
   }
  },
  {
   "cell_type": "markdown",
   "id": "00795a15",
   "metadata": {
    "pycharm": {
     "name": "#%% md\n"
    }
   },
   "source": [
    "## Task 2: Extracting signals from the data\n",
    "\n",
    "Your second task is to extract meaningful signals from the data. \n",
    "We start this task from the dataset obtained in **T1.7**. \n",
    "Recall that we have one A/B test per row with the clickthrough rate of two news pieces that differ only in their headline. \n",
    "We refer to the version with the higher clickthrough rate as the \"winner\" and the version with the lower as the \"loser.\" \n",
    "(Note that this is not the same as the column `winner` in the original data, which captures a similar concept but considering the original experiments, where multiple comparisons were made!)\n",
    " \n",
    "2.1 Using the function provided below, count the number of words in each headline, creating columns `numwords1` and `numwords2` corresponding to the number of words in the winner and loser headlines.\n",
    "\n",
    "2.2 Using the dictionary of pronouns provided below, create indicator variables corresponding to each set of pronouns (e.g., first-person singular may yield columns `first_person_singular1` and `first_person_singular2` for the headlines in each A/B test). \n",
    "Each indicator variable in the dataframe should equal 1 if the corresponding headline uses the corresponding type of pronoun and 0 otherwise. \n",
    "Your code should be agnostic to lower/upper case.\n",
    "\n",
    "2.3 One easy way to classify sentiment is simply to match negative or positive words. \n",
    "Use the linked lists of words ([positive][1], [negative][2]) to obtain \"positive sentiment\" and \"negative sentiment\" scores for each headline. Create columns `positive1`/`positive2` and `negative1`/`negative2` containing indicator variables for positive and negative sentiment, i.e., A headline has a \"positive sentiment\" (or negative) score equal 1 if it contains at least one positive (or negative) sentiment word on the list. Otherwise, its \"positive sentiment\" (or negative) score equals 0.\n",
    "    \n",
    "[1]: https://ptrckprry.com/course/ssd/data/positive-words.txt\n",
    "[2]: https://ptrckprry.com/course/ssd/data/negative-words.txt\n",
    "\n",
    "--- \n",
    "\n",
    "**Comments**\n",
    "\n",
    "- For **T2.3**, beware of encodings!"
   ]
  },
  {
   "cell_type": "code",
   "execution_count": 6,
   "outputs": [],
   "source": [],
   "metadata": {
    "collapsed": false,
    "pycharm": {
     "name": "#%%\n"
    }
   }
  },
  {
   "cell_type": "code",
   "execution_count": 6,
   "id": "6db63064",
   "metadata": {
    "pycharm": {
     "name": "#%%\n"
    }
   },
   "outputs": [],
   "source": []
  },
  {
   "cell_type": "markdown",
   "id": "572f0b46",
   "metadata": {
    "pycharm": {
     "name": "#%% md\n"
    }
   },
   "source": [
    "## Task 3: Estimating the effect of language on headline success\n",
    "\n",
    "Your third task revolves around the question *how does language impact headlines' success?*\n",
    "\n",
    "3.1 First, we examine whether the winner headlines have more or fewer words than the loser headline. Conduct an independent sample t-test and paired t-test (see [scipy.stats](https://docs.scipy.org/doc/scipy/reference/generated/scipy.stats.ttest_ind.html#scipy.stats.ttest_ind); for the independent sample t-test, assume equal variance). Also, calculate and print the mean difference between the number of words in the winner and the loser headlines.\n",
    "\n",
    "3.2 **Discuss:** Are longer headlines more successful? Justify.\n",
    "\n",
    "3.3 The [t-statistic](https://en.wikipedia.org/wiki/T-statistic) is the ratio of the departure of the estimated value of a parameter from its hypothesized value to its standard error. In a t-test, the higher the t-statistic, the more confidently we can reject the null hypothesis. Use `numpy.random` to create four samples, each of size 30:\n",
    "- $X \\sim Uniform(0,1)$\n",
    "- $Y \\sim Uniform(0,1)$\n",
    "- $Z = X/2 + Y/2 + 0.1$\n",
    "- $K = Y + 0.1$\n",
    "    \n",
    "3.4 **Discuss:** What are the expected values and the variance of $X$, $Y$, $Z$, and $K$? (You don't need to justify them!)\n",
    "\n",
    "3.5 Run the following simulation 10000 times, storing the $p$-values for the tests at each run:\n",
    "- Sample new values  for $X$, $Y$, $Z$ and $K$ ($n=30$ each). \n",
    "- Run independent sample t-test (assuming equal variance) and paired t-test comparing $X$ and $Z$.\n",
    "-  Run independent sample t-test (assuming equal variance) and paired t-test comparing $X$ and $K$.\n",
    "\n",
    "3.6 Recall that the power of a binary hypothesis test is the probability that the test correctly rejects the null hypothesis when the alternative hypothesis is true. Using the p-values and assuming that we reject the null hypothesis if $p < 0.05$, calculate the statistical power of:\n",
    "- The independent sample t-test comparing $X$ and $Z$.\n",
    "- The paired t-test comparing $X$ and $Z$.\n",
    "- The independent sample t-test comparing $X$ and $K$.\n",
    "- The paired t-test comparing $X$ and $K$.\n",
    "    \n",
    "3.7 **Discuss:** When are paired t-tests helpful? Justify.\n",
    "\n",
    "3.8 With a bootstrapping approach (implemented by yourself, you should not use existing bootstrapping functions), estimate the average difference and 95% confidence intervals for:\n",
    "- the mean ratio between the number of words in the winner headline and the loser headline (i.e., the number of words in the winner headline divided by the number of words in the loser headlines).\n",
    "- the difference in usage of positive words between winner and loser headlines.\n",
    "- the difference in usage of negative words between winner and loser headlines.\n",
    "- The difference in usage of each type of pronoun between winner and loser headlines.\n",
    "\n",
    "3.9 **Discuss:** According to the results obtained in **T3.8**, what headlines grab people's attention the most? Justify your answer.\n",
    "    \n",
    "---\n",
    "**Comments:**\n",
    "\n",
    "- Paired t-test formula: $t = \\frac{\\overline{x}_{\\mathrm{diff}}}{s_{\\mathrm{diff}} / \\sqrt n }$ where:\n",
    "    - $\\overline{x}_{\\mathrm{diff}}$ is the sample difference between the means of the matched sample; and\n",
    "    - $s_{\\mathrm{diff}}$ is the sample variance of the matched sample; and\n",
    "    - $n$ is the number of matched samples.\n",
    "    \n",
    "- Independent samples t-test formula: $t = \\frac{\\overline{x}_{1} - \\overline{x}_{2}}{\\sqrt{\\frac{s_{1}^{2}}{n_{1}} + \\frac{s_{2}^{2}}{n_{2}}}}$ where:\n",
    "    - $\\overline{x}_{\\mathrm{1}}$ is the sample mean of the first group; and\n",
    "    - $s_{\\mathrm{1}}$ is the sample variance of the first group; and\n",
    "    - $n_1$ is the number of samples in the first group;\n",
    "    \n",
    "     \n",
    "- t-tests are valid for samples of non-normal distribution for large enough samples (a rule of thumb used is: n$\\geq$30)!"
   ]
  },
  {
   "cell_type": "code",
   "execution_count": 6,
   "id": "966c66d6",
   "metadata": {
    "pycharm": {
     "name": "#%%\n"
    }
   },
   "outputs": [],
   "source": []
  },
  {
   "cell_type": "markdown",
   "id": "70888d20",
   "metadata": {
    "pycharm": {
     "name": "#%% md\n"
    }
   },
   "source": [
    "## Task 4: Temporal validity and heterogeneity of the effect.\n",
    "\n",
    "Last, we investigate how the effects studied in **T3** change with time and how they might be heterogeneous across different types of news.\n",
    "\n",
    "4.1 Create a plot where you depict the monthly average number of words in winner and loser headlines. Consider only headlines created after April 2013 (the month of April inclusive). Include also bootstrapped 95% confidence intervals; here, you can use a third-party implementation if you want. Finally, recall that we created a column `date_created` which captures the creation of the winner headline; you can consider this date to correspond to the date of the creation of the A/B test.\n",
    "\n",
    "4.2 Produce similar plots to each pronoun category, as well as for positive and negative sentiment. Here, unlike in **T4.1**, depict the month averages pooled across winner and loser headlines (i.e., for each month, you calculate the average across both winners and loser headlines).\n",
    "Create all these plots in a single figure with no more than 11 inches of width and 11 inches of height. Again, consider only headlines created after April 2013 (the month of April inclusive).\n",
    "\n",
    "4.3 **Discuss:** Has the type of headline Upworthy used in their A/B tests changed with time? Are these changes likely to be producing more or less engaging headlines? Justify.\n",
    "\n",
    "4.4 Divide your data into two periods, $t_1$, which goes from  April 2013 (inclusive) to March 2014 (inclusive), and $t_2$, which goes from April 2014 (inclusive) to the latest A/B test in the data. Create a dataframe for A/B tests in each period.\n",
    "\n",
    "4.5 Let's examine if the effects observed remained the same throughout the study period. Use an appropriate methodology  of your choice to determine if the effects observed in **T3.8** (length, each category of pronouns, positive words, and negative words) were different in $t_1$ and $t_2$. Here, note that we are considering \"at least one positive outcome\" to be the manifestation of an underlying effect, thus significance level must be adjusted down when performing multiple hypothesis tests!\n",
    "\n",
    "4.6 **Discuss:** Hypothesize two reasons that could have led to a change in the observed effects. According to the analysis done in **T4.5**, have the effects observed remained the same across the study period? \n",
    "\n",
    "4.7 The features we are studying may interact with each other. For instance, people may like first person singular pronouns in headlines containing positive words (you are amazing!), but dislike headlines with negative words and first person pronouns (you are awful!). To help answer this question, create:\n",
    "- a dataframe containing all A/B tests where both winner and loser headlines include a positive word; and\n",
    "- a dataframe containing all A/B tests where both winner and loser headlines include a negative word;\n",
    "\n",
    "4.8 Using an appropriate methodology of your choice, determine if the effect of the use of first person singular pronouns in the headline is heterogeneous across headlines with positive words and negative words, i.e., is the effect significantly stronger for one of the dataframes created in **T4.7**? \n",
    "\n",
    "4.9 **Discuss:** Considering the analyses you did throughout Tasks 3 and 4, write a short text (no more than 250 words) giving advice to Upworthy employees on how they should try to write engaging headlines. \n",
    "You can reference images present in the notebook by indicating a task (e.g., image plotted in **T3.3**) or a cell number. Note that you do not need to conduct any additional analysis to write this text. \n"
   ]
  },
  {
   "cell_type": "code",
   "execution_count": 6,
   "id": "fd3dc9f2",
   "metadata": {
    "pycharm": {
     "name": "#%%\n"
    }
   },
   "outputs": [],
   "source": []
  }
 ],
 "metadata": {
  "kernelspec": {
   "name": "python3",
   "language": "python",
   "display_name": "Python 3 (ipykernel)"
  },
  "language_info": {
   "codemirror_mode": {
    "name": "ipython",
    "version": 3
   },
   "file_extension": ".py",
   "mimetype": "text/x-python",
   "name": "python",
   "nbconvert_exporter": "python",
   "pygments_lexer": "ipython3",
   "version": "3.10.4"
  }
 },
 "nbformat": 4,
 "nbformat_minor": 5
}