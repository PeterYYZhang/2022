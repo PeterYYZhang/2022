{
 "cells": [
  {
   "cell_type": "markdown",
   "id": "7952d5ab",
   "metadata": {
    "pycharm": {
     "name": "#%% md\n"
    }
   },
   "source": [
    "# Homework 2 (HW2)\n",
    "\n",
    "By the end of this homework, we expect you to be able to:\n",
    "\n",
    "- Preprocess data and make it amenable to statistical analysis and machine learning models;\n",
    "- Train and test out-of-the-box machine learning models in Python;\n",
    "- Carry out simple multivariate regression analyses;\n",
    "- Use techniques to control for covariates;\n",
    "- Conduct an observational study and reason about its results.\n",
    "\n",
    "---\n",
    "\n",
    "## Important Dates\n",
    "\n",
    "- Homework release: Fri 18 Nov 2022\n",
    "- **Homework due**: Fri 02 Dec 2022, 23:59\n",
    "- Grade release: Mon 12 Dec 2022\n",
    "\n",
    "---\n",
    "\n",
    "##  Some rules\n",
    "\n",
    "1. You are allowed to use any built-in Python library that comes with Anaconda. If you want to use an external library, you may do so, but must justify your choice.\n",
    "2. Make sure you use the `data` folder provided in the repository in read-only mode. (Or alternatively, be sure you don’t change any of the files.)\n",
    "3. Be sure to provide a textual description of your thought process, the assumptions you made, the solution you implemented, and explanations for your answers. A notebook that only has code cells will not suffice.\n",
    "4. For questions containing the **/Discuss:/** prefix, answer not with code, but with a textual explanation (**in markdown**).\n",
    "5. Back up any hypotheses and claims with data, since this is an important aspect of the course.\n",
    "6. Please write all your comments in English, and use meaningful variable names in your code. Your repo should have a single notebook (plus the required data files) in the *master/main* branch. If there are multiple notebooks present, we will **not grade** anything.\n",
    "7. We will **not run your notebook for you**! Rather, we will grade it as is, which means that only the results contained in your evaluated code cells will be considered, and we will not see the results in unevaluated code cells. Thus, be sure to hand in a **fully-run and evaluated notebook**. In order to check whether everything looks as intended, you can check the rendered notebook on the GitHub website once you have pushed your solution there.\n",
    "8. In continuation to the previous point, interactive plots, such as those generated using `plotly`, should be **strictly avoided**!\n",
    "9. Make sure to print results or dataframes that confirm you have properly addressed the task.\n",
    "\n",
    "---"
   ]
  },
  {
   "cell_type": "markdown",
   "id": "2b99beda",
   "metadata": {
    "pycharm": {
     "name": "#%% md\n"
    }
   },
   "source": [
    "## Context\n",
    "\n",
    "Congratulations! You have just been hired as a data scientist at [FC Tokyo, a J1 League Japanese professional football club based in Chōfu, Tokyo](https://en.wikipedia.org/wiki/FC_Tokyo). The company hired you to carry out a variety of data-related tasks, which will be explained in further detail below.\n",
    "\n",
    "Your manager, Mr. Naoki Ogane, has noticed that an unusually high number of players in your team have birthdays in either April or May, so he asked you to investigate this further -- is this just a coincidence, or are players born in April or May simply better?\n",
    "\n",
    "## Data\n",
    "\n",
    "To answer Mr. Ogane's questions, you will use data from Wikipedia biographies. This is a subset of the Pantheon dataset (1). For tasks 1 to 4, you will use the file `japanese_athletes.csv.gz`. For task 5, you will use the file `all_entities.csv.gz`. Both datasets are`.csv` files with the same columns:\n",
    "\n",
    "- `id`: a unique identifier per individual.\n",
    "- `name`: name of the individual.\n",
    "- `occupation`: the occupation of the individual (for `japanese_athletes.csv.gz`, these are all sports-related).\n",
    "- `gender`: gender of the athlete.\n",
    "- `alive`: flag indicating if the athlete was alive in 2020 when the dataset was collected.\n",
    "- `bplace_country`: the country where the athlete was born  (for `japanese_athletes.csv.gz`, the value here is always 'Japan').\n",
    "- `birthdate`: the date when the athlete was born.\n",
    "- `birthyear`: the year when the athlete was born.\n",
    "- `pageviews`: number of pageviews received by the athlete's page across Wikipedia language editions.\n",
    "\n",
    "(1) Yu, A. Z., et al. (2016). Pantheon 1.0, a manually verified dataset of globally famous biographies. Scientific Data 2:150075. doi: 10.1038/sdata.2015.75"
   ]
  },
  {
   "cell_type": "code",
   "execution_count": 1,
   "outputs": [],
   "source": [
    "# Import the needed libraries\n",
    "import numpy as np\n",
    "import pandas as pd\n",
    "import matplotlib.pyplot as plt\n",
    "import seaborn as sns\n",
    "import os\n",
    "import datetime\n",
    "from scipy import stats\n",
    "import statsmodels.formula.api as smf"
   ],
   "metadata": {
    "collapsed": false,
    "pycharm": {
     "name": "#%%\n"
    }
   }
  },
  {
   "cell_type": "markdown",
   "id": "13a42aa7",
   "metadata": {
    "pycharm": {
     "name": "#%% md\n"
    }
   },
   "source": [
    "## Task 1 — 20 pts\n",
    "\n",
    "As a good data scientist, you first load the data and perform some small sanity checks on it.\n",
    "\n",
    "**1.1** Load the dataset containing data about Japanese athletes into memory using pandas. First, load the data directly from the compressed file. Then, print the first few lines of the dataset.\n",
    "\n",
    "**1.2** Find the different occupations in the data and how many individuals belong to each occupation.\n",
    "\n",
    "**1.3** Calculate the percentage of individuals who remain alive in the data.\n",
    "\n",
    "**1.4** Plot the distribution of birth years in the dataset. In other words, what fraction of individuals are born each year? (Note that the data contains individuals born only after the year 1900).\n",
    "\n",
    "**1.5** Plot the empirical cumulative distribution function (CDF) to visualize the distribution of pageviews. Here you should use a linear scale for both the x-axis and the y-axis.\n",
    "\n",
    "**1.6** **Discuss:** why is it hard to visualize the distribution in the above ECDF plot?\n",
    "\n",
    "**1.7** Re-do the above CDF plot using a log scale for both the x-axis and the y-axis. Additionally, plot vertical lines that indicate the distribution's arithmetic and geometric means.\n",
    "\n",
    "**1.8** **Discuss:** Visually, does it look like the distribution is a power law?\n",
    "\n",
    "**1.9** Estimate the 95% confidence intervals of the geometric mean and the arithmetic mean of pageviews using bootstrap resampling.\n",
    "\n",
    "**1.10** **Discuss:** What advantages does the geometric mean have over the arithmetic mean to summarize the distribution?"
   ]
  },
  {
   "cell_type": "markdown",
   "source": [
    "### 1.1 Load the dataset"
   ],
   "metadata": {
    "collapsed": false,
    "pycharm": {
     "name": "#%% md\n"
    }
   }
  },
  {
   "cell_type": "code",
   "execution_count": 2,
   "id": "faafd098",
   "metadata": {
    "pycharm": {
     "name": "#%%\n"
    }
   },
   "outputs": [
    {
     "data": {
      "text/plain": "         id                name     occupation gender  alive bplace_country  \\\n0  25864486    Hisataka Okamoto  SOCCER PLAYER      M   True          Japan   \n1   1682054  Kunishige Kamamoto  SOCCER PLAYER      M   True          Japan   \n2  20639249     Akira Kitaguchi  SOCCER PLAYER      M   True          Japan   \n3  20641463      Tsukasa Hosaka  SOCCER PLAYER      M  False          Japan   \n4  25864343    Takashi Kasahara  SOCCER PLAYER      M   True          Japan   \n\n    birthdate  birthyear  pageviews  \n0  1933-12-14     1933.0      455.0  \n1  1944-04-15     1944.0    57847.0  \n2  1935-03-08     1935.0      759.0  \n3  1937-03-03     1937.0     1672.0  \n4  1918-03-26     1918.0      541.0  ",
      "text/html": "<div>\n<style scoped>\n    .dataframe tbody tr th:only-of-type {\n        vertical-align: middle;\n    }\n\n    .dataframe tbody tr th {\n        vertical-align: top;\n    }\n\n    .dataframe thead th {\n        text-align: right;\n    }\n</style>\n<table border=\"1\" class=\"dataframe\">\n  <thead>\n    <tr style=\"text-align: right;\">\n      <th></th>\n      <th>id</th>\n      <th>name</th>\n      <th>occupation</th>\n      <th>gender</th>\n      <th>alive</th>\n      <th>bplace_country</th>\n      <th>birthdate</th>\n      <th>birthyear</th>\n      <th>pageviews</th>\n    </tr>\n  </thead>\n  <tbody>\n    <tr>\n      <th>0</th>\n      <td>25864486</td>\n      <td>Hisataka Okamoto</td>\n      <td>SOCCER PLAYER</td>\n      <td>M</td>\n      <td>True</td>\n      <td>Japan</td>\n      <td>1933-12-14</td>\n      <td>1933.0</td>\n      <td>455.0</td>\n    </tr>\n    <tr>\n      <th>1</th>\n      <td>1682054</td>\n      <td>Kunishige Kamamoto</td>\n      <td>SOCCER PLAYER</td>\n      <td>M</td>\n      <td>True</td>\n      <td>Japan</td>\n      <td>1944-04-15</td>\n      <td>1944.0</td>\n      <td>57847.0</td>\n    </tr>\n    <tr>\n      <th>2</th>\n      <td>20639249</td>\n      <td>Akira Kitaguchi</td>\n      <td>SOCCER PLAYER</td>\n      <td>M</td>\n      <td>True</td>\n      <td>Japan</td>\n      <td>1935-03-08</td>\n      <td>1935.0</td>\n      <td>759.0</td>\n    </tr>\n    <tr>\n      <th>3</th>\n      <td>20641463</td>\n      <td>Tsukasa Hosaka</td>\n      <td>SOCCER PLAYER</td>\n      <td>M</td>\n      <td>False</td>\n      <td>Japan</td>\n      <td>1937-03-03</td>\n      <td>1937.0</td>\n      <td>1672.0</td>\n    </tr>\n    <tr>\n      <th>4</th>\n      <td>25864343</td>\n      <td>Takashi Kasahara</td>\n      <td>SOCCER PLAYER</td>\n      <td>M</td>\n      <td>True</td>\n      <td>Japan</td>\n      <td>1918-03-26</td>\n      <td>1918.0</td>\n      <td>541.0</td>\n    </tr>\n  </tbody>\n</table>\n</div>"
     },
     "execution_count": 2,
     "metadata": {},
     "output_type": "execute_result"
    }
   ],
   "source": [
    "root = './'\n",
    "data_root = os.path.join(root, 'data')\n",
    "japanese_athletes = pd.read_csv(os.path.join(data_root, 'japanese_athletes.csv.gz'))\n",
    "japanese_athletes.head()"
   ]
  },
  {
   "cell_type": "markdown",
   "source": [
    "### 1.2 Find the different occupations in the data and how many individuals belong to each occupation."
   ],
   "metadata": {
    "collapsed": false,
    "pycharm": {
     "name": "#%% md\n"
    }
   }
  },
  {
   "cell_type": "code",
   "execution_count": 3,
   "outputs": [
    {
     "data": {
      "text/plain": "occupation\nATHLETE                40\nBASKETBALL PLAYER       2\nBOXER                   2\nCYCLIST                 4\nGYMNAST                15\nSKATER                 21\nSKIER                  11\nSOCCER PLAYER        3929\nSWIMMER                21\nTENNIS PLAYER          18\nWRESTLER               60\nName: count, dtype: int64"
     },
     "execution_count": 3,
     "metadata": {},
     "output_type": "execute_result"
    }
   ],
   "source": [
    "occupation_groupby = japanese_athletes.groupby('occupation')['id'].count().rename('count')\n",
    "occupation_groupby"
   ],
   "metadata": {
    "collapsed": false,
    "pycharm": {
     "name": "#%%\n"
    }
   }
  },
  {
   "cell_type": "markdown",
   "source": [
    "### 1.3 Calculate the percentage of individuals who remain alive in the data."
   ],
   "metadata": {
    "collapsed": false,
    "pycharm": {
     "name": "#%% md\n"
    }
   }
  },
  {
   "cell_type": "code",
   "execution_count": 4,
   "outputs": [
    {
     "name": "stdout",
     "output_type": "stream",
     "text": [
      "The percentage of individuals who remain alive is 97.18651467378123%.\n"
     ]
    }
   ],
   "source": [
    "percentage_alive = japanese_athletes.alive.sum() / len(japanese_athletes)\n",
    "print(f'The percentage of individuals who remain alive is {100 * percentage_alive}%.')"
   ],
   "metadata": {
    "collapsed": false,
    "pycharm": {
     "name": "#%%\n"
    }
   }
  },
  {
   "cell_type": "markdown",
   "source": [
    "### 1.4 Plot the distribution of birth years in the dataset. In other words, what fraction of individuals are born each year? (Note that the data contains individuals born only after the year 1900).\n"
   ],
   "metadata": {
    "collapsed": false,
    "pycharm": {
     "name": "#%% md\n"
    }
   }
  },
  {
   "cell_type": "code",
   "execution_count": 5,
   "outputs": [
    {
     "data": {
      "text/plain": "Text(0.5, 1.0, 'Number fraction against year')"
     },
     "execution_count": 5,
     "metadata": {},
     "output_type": "execute_result"
    },
    {
     "data": {
      "text/plain": "<Figure size 432x288 with 1 Axes>",
      "image/png": "[encoded data removed]"
     },
     "metadata": {},
     "output_type": "display_data"
    }
   ],
   "source": [
    "plt.hist(japanese_athletes.birthyear, bins=100, density=True)\n",
    "plt.xlabel(\"year\")\n",
    "plt.ylabel('Number fraction of people')\n",
    "plt.title('Number fraction against year')"
   ],
   "metadata": {
    "collapsed": false,
    "pycharm": {
     "name": "#%%\n"
    }
   }
  },
  {
   "cell_type": "markdown",
   "source": [
    "### 1.5 Plot the empirical cumulative distribution function (CDF) to visualize the distribution of pageviews. Here you should use a linear scale for both the x-axis and the y-axis."
   ],
   "metadata": {
    "collapsed": false,
    "pycharm": {
     "name": "#%% md\n"
    }
   }
  },
  {
   "cell_type": "code",
   "execution_count": 67,
   "outputs": [
    {
     "data": {
      "text/plain": "Text(0.5, 1.0, 'ECDF of pageviews')"
     },
     "execution_count": 67,
     "metadata": {},
     "output_type": "execute_result"
    },
    {
     "data": {
      "text/plain": "<Figure size 432x288 with 1 Axes>",
      "image/png": "[encoded data removed]"
     },
     "metadata": {},
     "output_type": "display_data"
    }
   ],
   "source": [
    "sns.ecdfplot(data=japanese_athletes.pageviews)\n",
    "plt.title(\"ECDF of pageviews\")"
   ],
   "metadata": {
    "collapsed": false,
    "pycharm": {
     "name": "#%%\n"
    }
   }
  },
  {
   "cell_type": "markdown",
   "source": [
    "### 1.6 Discuss: why is it hard to visualize the distribution in the above ECDF plot?\n",
    "\n",
    "answer:\n",
    "Because there are very few athletes with very high pageviews."
   ],
   "metadata": {
    "collapsed": false,
    "pycharm": {
     "name": "#%% md\n"
    }
   }
  },
  {
   "cell_type": "markdown",
   "source": [
    "### 1.7 Re-do the above CDF plot using a log scale for both the x-axis and the y-axis. Additionally, plot vertical lines that indicate the distribution’s arithmetic and geometric means."
   ],
   "metadata": {
    "collapsed": false,
    "pycharm": {
     "name": "#%% md\n"
    }
   }
  },
  {
   "cell_type": "code",
   "execution_count": 70,
   "outputs": [
    {
     "data": {
      "text/plain": "<AxesSubplot:xlabel='pageviews', ylabel='Proportion'>"
     },
     "execution_count": 70,
     "metadata": {},
     "output_type": "execute_result"
    },
    {
     "data": {
      "text/plain": "<Figure size 432x288 with 1 Axes>",
      "image/png": "[encoded data removed]"
     },
     "metadata": {},
     "output_type": "display_data"
    }
   ],
   "source": [
    "sns.ecdfplot(data=japanese_athletes.pageviews, log_scale=(True, True))"
   ],
   "metadata": {
    "collapsed": false,
    "pycharm": {
     "name": "#%%\n"
    }
   }
  },
  {
   "cell_type": "markdown",
   "source": [
    "### 1.8 Discuss: Visually, does it look like the distribution is a power law?\n",
    "\n",
    "answer: Yes it does."
   ],
   "metadata": {
    "collapsed": false,
    "pycharm": {
     "name": "#%% md\n"
    }
   }
  },
  {
   "cell_type": "markdown",
   "source": [
    "### 1.9 Estimate the 95% confidence intervals of the geometric mean and the arithmetic mean of pageviews using bootstrap resampling."
   ],
   "metadata": {
    "collapsed": false,
    "pycharm": {
     "name": "#%% md\n"
    }
   }
  },
  {
   "cell_type": "code",
   "execution_count": 8,
   "outputs": [
    {
     "name": "stdout",
     "output_type": "stream",
     "text": [
      "BootstrapResult(confidence_interval=ConfidenceInterval(low=7649.459519843064, high=10301.36252759743), standard_error=643.3332194607596)\n",
      "BootstrapResult(confidence_interval=ConfidenceInterval(low=2096.263702526729, high=2281.3251927244887), standard_error=47.161765156672956)\n"
     ]
    }
   ],
   "source": [
    "print(stats.bootstrap((japanese_athletes.pageviews, ), np.mean, confidence_level=0.95))\n",
    "print(stats.bootstrap((japanese_athletes.pageviews, ), stats.gmean, confidence_level=0.95))"
   ],
   "metadata": {
    "collapsed": false,
    "pycharm": {
     "name": "#%%\n"
    }
   }
  },
  {
   "cell_type": "markdown",
   "source": [
    "### 1.10 Discuss: What advantages does the geometric mean have over the arithmetic mean to summarize the distribution?\n",
    "\n",
    "answer:\n",
    "The geometric mean is less affected by extreme values in a skewed distribution."
   ],
   "metadata": {
    "collapsed": false,
    "pycharm": {
     "name": "#%% md\n"
    }
   }
  },
  {
   "cell_type": "markdown",
   "id": "0b388e8f",
   "metadata": {
    "pycharm": {
     "name": "#%% md\n"
    }
   },
   "source": [
    "## Task 2 — 20 pts\n",
    "\n",
    "Next, investigate the question posed by Mr. Ogane. *Why do so many Tokyo FC players have birthdays in the same month?* \n",
    "Here you will not look specifically at Tokyo FC players, but more generally at the birthdays of the athletes in the dataset you have explored in Task 1\n",
    "\n",
    "**2.1** Calculate and plot the distribution of births (among the athletes contained in the Wikipedia dataset) over months, i.e., what percentage of births happen in January, February, etc.\n",
    "\n",
    "**2.2** Puzzled with the results, you use census data to retrieve the percentage of births happening each month (this is given to you in an array below). Plot this distribution.\n",
    "\n",
    "**2.3** **Discuss:** what is different between the distributions you ploted in **2.1** and **2.2**\n",
    "\n",
    "After discussing with your colleagues at work, a theory comes to your mind: school in Japan starts in April. Children who were born between April 1 and March 31 of the following year are placed within the same grade. Therefore, you suspect that the observed pattern may have something to do with when students start school.\n",
    "\n",
    "**2.4** Considering that students in Japanese schools have the same birth distribution over the months of the year as the overall Japanese population, i.e., the `birth_per_month` array that was provided to you, calculate:\n",
    "\n",
    "- For students born in April, how many months older are they than the average student in their grade?\n",
    "- For students born in March, how many months younger are they than the average student in their grade?\n",
    "\n",
    "**2.5** **Discuss:** Considering your common sense and the results obtained from the simulation: what advantage do students born in April have over those born in March? How may this affect their odds of becoming professional athletes?"
   ]
  },
  {
   "cell_type": "markdown",
   "source": [
    "### 2.1 Calculate and plot the distribution of births (among the athletes contained in the Wikipedia dataset) over months, i.e., what percentage of births happen in January, February, etc."
   ],
   "metadata": {
    "collapsed": false,
    "pycharm": {
     "name": "#%% md\n"
    }
   }
  },
  {
   "cell_type": "code",
   "execution_count": 9,
   "outputs": [],
   "source": [
    "japanese_athletes['birthMonth'] = pd.DatetimeIndex(japanese_athletes.birthdate).month"
   ],
   "metadata": {
    "collapsed": false,
    "pycharm": {
     "name": "#%%\n"
    }
   }
  },
  {
   "cell_type": "code",
   "execution_count": 10,
   "outputs": [
    {
     "data": {
      "text/plain": "Text(0, 0.5, 'Density')"
     },
     "execution_count": 10,
     "metadata": {},
     "output_type": "execute_result"
    },
    {
     "data": {
      "text/plain": "<Figure size 432x288 with 1 Axes>",
      "image/png": "[encoded data removed]"
     },
     "metadata": {},
     "output_type": "display_data"
    }
   ],
   "source": [
    "plt.hist(japanese_athletes.birthMonth, bins=12, density=True)\n",
    "plt.title(\"Distribution of Birth(Month)\")\n",
    "plt.xlabel(\"Month\")\n",
    "plt.ylabel(\"Density\")"
   ],
   "metadata": {
    "collapsed": false,
    "pycharm": {
     "name": "#%%\n"
    }
   }
  },
  {
   "cell_type": "markdown",
   "source": [
    "### 2.2 Puzzled with the results, you use census data to retrieve the percentage of births happening each month (this is given to you in an array below). Plot this distribution."
   ],
   "metadata": {
    "collapsed": false,
    "pycharm": {
     "name": "#%% md\n"
    }
   }
  },
  {
   "cell_type": "code",
   "execution_count": 11,
   "id": "1c1920dd",
   "metadata": {
    "pycharm": {
     "name": "#%%\n"
    }
   },
   "outputs": [
    {
     "data": {
      "text/plain": "Text(0, 0.5, 'Density')"
     },
     "execution_count": 11,
     "metadata": {},
     "output_type": "execute_result"
    },
    {
     "data": {
      "text/plain": "<Figure size 432x288 with 1 Axes>",
      "image/png": "[encoded data removed]"
     },
     "metadata": {},
     "output_type": "display_data"
    }
   ],
   "source": [
    "birth_per_month = np.array([\n",
    "0.08118368,0.08148065, 0.08182577, 0.07982728, 0.08301363,\n",
    "0.08422556, 0.08518067, 0.08925791, 0.08635247, 0.08460279,\n",
    "0.08258825, 0.08046134\n",
    "])\n",
    "plt.bar(range(1,13), birth_per_month)\n",
    "plt.title(\"Distribution of Birth(Month) according to census data\")\n",
    "plt.xlabel(\"Month\")\n",
    "plt.ylabel(\"Density\")"
   ]
  },
  {
   "cell_type": "markdown",
   "source": [
    "### 2.3 Discuss: what is different between the distributions you ploted in 2.1 and 2.2\n",
    "answer: The players born in April is of the highest number, however, there are least people born in April. While in August the result is reversed.\n",
    "\n",
    "After discussing with your colleagues at work, a theory comes to your mind: school in Japan starts in April. Children who were born between April 1 and March 31 of the following year are placed within the same grade. Therefore, you suspect that the observed pattern may have something to do with when students start school."
   ],
   "metadata": {
    "collapsed": false,
    "pycharm": {
     "name": "#%% md\n"
    }
   }
  },
  {
   "cell_type": "markdown",
   "source": [
    "### 2.4 Considering that students in Japanese schools have the same birth distribution over the months of the year as the overall Japanese population, i.e., the birth_per_month array that was provided to you, calculate:\n",
    "For students born in April, how many months older are they than the average student in their grade?\n",
    "For students born in March, how many months younger are they than the average student in their grade?"
   ],
   "metadata": {
    "collapsed": false,
    "pycharm": {
     "name": "#%% md\n"
    }
   }
  },
  {
   "cell_type": "code",
   "execution_count": 12,
   "outputs": [
    {
     "name": "stdout",
     "output_type": "stream",
     "text": [
      "For students born in April, they are 5.47076905 months older than the average student in their grade.\n",
      "For students born in March, they are 5.52923095 months younger than the average student in their grade.\n"
     ]
    }
   ],
   "source": [
    "# A student born in April will be 11 months older than a student born in March, 10 months older than a student born in February.\n",
    "age_diff_april = np.array([9, 10, 11, 0, 1, 2, 3, 4, 5, 6, 7, 8])\n",
    "avg_older = (age_diff_april * birth_per_month).sum()\n",
    "print(f'For students born in April, they are {avg_older} months older than the average student in their grade.')\n",
    "age_diff_march = np.array([2, 1, 0, 11, 10, 9, 8, 7, 6, 5, 4, 3])\n",
    "avg_younger = (age_diff_march * birth_per_month).sum()\n",
    "print(f'For students born in March, they are {avg_younger} months younger than the average student in their grade.')"
   ],
   "metadata": {
    "collapsed": false,
    "pycharm": {
     "name": "#%%\n"
    }
   }
  },
  {
   "cell_type": "markdown",
   "source": [
    "### 2.5 Discuss: Considering your common sense and the results obtained from the simulation: what advantage do students born in April have over those born in March? How may this affect their odds of becoming professional athletes?\n",
    "answer: The student born in April are older than average, the advantage is especially significant when students are young."
   ],
   "metadata": {
    "collapsed": false,
    "pycharm": {
     "name": "#%% md\n"
    }
   }
  },
  {
   "cell_type": "markdown",
   "id": "766ea68a",
   "metadata": {
    "pycharm": {
     "name": "#%% md\n"
    }
   },
   "source": [
    "## Task 3 — 20 pts\n",
    "\n",
    "You report your findings to Mr. Ogane, who receives them with great interest. He asks you: *is there a causal effect between being older than your peers and becoming a Wikipedia-famous athlete?* (Here, “Wikipedia-famous” refers to those individuals notable enough to have made it into English Wikipedia.)\n",
    "\n",
    "**3.1** Create a new column in the dataframe called `date_diff` representing the distance between the athlete's birthdate and the cutoff date of his school class. \n",
    "- For individuals born in April, May, June, July, August, and September: The distance should be positive and represent the number of days between the birthdate and the previous April 1. For example, if someone is born on April 1, the distance is 0, if someone is born on April 10, the distance is 9, etc.\n",
    "- For individuals born in October, November, December, January, February, and March: The distance should be negative and represent the number of days between the following April 1 and the birthdate. For example, if someone is born on March 31, the distance is -1; if someone is born on March 27, the distance is -5.\n",
    "- Print the `date_diff` for the athletes with ids:  `20639249` and `58982155`.\n",
    "\n",
    "**3.2** Create three numpy arrays `x`, `y`, and `ind` all of size 360. \n",
    "- `x` should contain the integers between -180 and 179 (-180 and 179 inclusive). \n",
    "- `y` should contain the percentage of athletes born with a `date_diff` equal to the corresponding value of `x`.\n",
    "- `ind` should contain 0 if `x` is smaller than zero and 1 if `x` is bigger or equal to zero.\n",
    "\n",
    "\n",
    "**3.3** Estimate the following linear regression: `y ~ x + ind` using `statsmodels`. Report the summary of the model.\n",
    "\n",
    "**3.4** **Discuss:** What does the coefficient associated with the dummy variable `ind` captures in the above regression?\n",
    "\n",
    "**3.5** Use the model parameters to estimate the percentage of athletes born on March 31st, i.e., use the intercept ($\\beta_0$) and the coefficient associated with `x` ($\\beta_1$) and calculate: $\\beta_0 - 1 * \\beta_1$ (recall that $x$ equals -1 in March 31st).\n",
    "\n",
    "**3.6** Use the model parameters to estimate the percentage of athletes born on April 1st.\n",
    "\n",
    "**3.7** **Discuss:** Drawing from your knowledge of observational studies and the questions answered thus far, respond to Mr. Ogane's question: *is there a causal effect between being older than your peers and becoming a Wikipedia-famous athlete?* Explain whether the evidence you have obtained is convincing and why.\n",
    "\n",
    "---\n",
    "\n",
    "**Comment**: Note that in **3.2**, the size of the array created is slightly smaller than the number of days in the year. This is for simplicity's sake."
   ]
  },
  {
   "cell_type": "markdown",
   "source": [
    "### **3.1** Create a new column in the dataframe called `date_diff` representing the distance between the athlete's birthdate and the cutoff date of his school class.\n",
    "- For individuals born in April, May, June, July, August, and September: The distance should be positive and represent the number of days between the birthdate and the previous April 1. For example, if someone is born on April 1, the distance is 0, if someone is born on April 10, the distance is 9, etc.\n",
    "- For individuals born in October, November, December, January, February, and March: The distance should be negative and represent the number of days between the following April 1 and the birthdate. For example, if someone is born on March 31, the distance is -1; if someone is born on March 27, the distance is -5.\n",
    "- Print the `date_diff` for the athletes with ids:  `20639249` and `58982155`."
   ],
   "metadata": {
    "collapsed": false,
    "pycharm": {
     "name": "#%% md\n"
    }
   }
  },
  {
   "cell_type": "code",
   "execution_count": 13,
   "outputs": [],
   "source": [
    "# construct a function to calculate the date difference\n",
    "def calculate_diff(birthdate: str):\n",
    "    datem = datetime.datetime.strptime(birthdate, \"%Y-%m-%d\")\n",
    "    year_str = datem.strftime(\"%Y\")\n",
    "    month_str = datem.strftime(\"%m\")\n",
    "    if month_str in ['04', '05', '06', '07', '08', '09']:\n",
    "        reference_str = year_str + '/04/01'\n",
    "        reference_date = datetime.datetime.strptime(reference_str, \"%Y/%m/%d\")\n",
    "        return (datem - reference_date).days\n",
    "    else:\n",
    "        if month_str in ['10', '11', '12']:\n",
    "            reference_str = str(int(year_str)+1) + '/04/01'\n",
    "        else:\n",
    "            reference_str = year_str + '/04/01'\n",
    "        reference_date = datetime.datetime.strptime(reference_str, \"%Y/%m/%d\")\n",
    "        return (datem - reference_date).days"
   ],
   "metadata": {
    "collapsed": false,
    "pycharm": {
     "name": "#%%\n"
    }
   }
  },
  {
   "cell_type": "code",
   "execution_count": 14,
   "outputs": [],
   "source": [
    "japanese_athletes['date_diff'] = japanese_athletes.birthdate.apply(lambda x: calculate_diff(x))"
   ],
   "metadata": {
    "collapsed": false,
    "pycharm": {
     "name": "#%%\n"
    }
   }
  },
  {
   "cell_type": "code",
   "execution_count": 15,
   "outputs": [
    {
     "name": "stdout",
     "output_type": "stream",
     "text": [
      "The date difference is -24 for id 20639249.\n",
      "The date difference is 6 for id 58982155.\n"
     ]
    }
   ],
   "source": [
    "ids = [20639249, 58982155]\n",
    "diff1 = japanese_athletes[(japanese_athletes.id == ids[0])]['date_diff'].to_list()[0]\n",
    "print(f'The date difference is {diff1} for id {ids[0]}.')\n",
    "diff2 = japanese_athletes[(japanese_athletes.id == ids[1])]['date_diff'].to_list()[0]\n",
    "print(f'The date difference is {diff2} for id {ids[1]}.')"
   ],
   "metadata": {
    "collapsed": false,
    "pycharm": {
     "name": "#%%\n"
    }
   }
  },
  {
   "cell_type": "markdown",
   "source": [
    "### **3.2** Create three numpy arrays `x`, `y`, and `ind` all of size 360.\n",
    "- `x` should contain the integers between -180 and 179 (-180 and 179 inclusive).\n",
    "- `y` should contain the percentage of athletes born with a `date_diff` equal to the corresponding value of `x`.\n",
    "- `ind` should contain 0 if `x` is smaller than zero and 1 if `x` is bigger or equal to zero."
   ],
   "metadata": {
    "collapsed": false,
    "pycharm": {
     "name": "#%% md\n"
    }
   }
  },
  {
   "cell_type": "code",
   "execution_count": 16,
   "outputs": [],
   "source": [
    "x = np.arange(-180, 180)\n",
    "y = [japanese_athletes[japanese_athletes.date_diff==a]['id'].count() / len(japanese_athletes) for a in x]\n",
    "ind = [1 if a >= 0 else 0 for a in x]\n",
    "# print(len(x), len((y)), len(ind))"
   ],
   "metadata": {
    "collapsed": false,
    "pycharm": {
     "name": "#%%\n"
    }
   }
  },
  {
   "cell_type": "markdown",
   "source": [
    "### **3.3** Estimate the following linear regression: `y ~ x + ind` using `statsmodels`. Report the summary of the model."
   ],
   "metadata": {
    "collapsed": false,
    "pycharm": {
     "name": "#%% md\n"
    }
   }
  },
  {
   "cell_type": "code",
   "execution_count": 17,
   "outputs": [
    {
     "data": {
      "text/plain": "<class 'statsmodels.iolib.summary.Summary'>\n\"\"\"\n                            OLS Regression Results                            \n==============================================================================\nDep. Variable:                      y   R-squared:                       0.400\nModel:                            OLS   Adj. R-squared:                  0.396\nMethod:                 Least Squares   F-statistic:                     118.8\nDate:                Wed, 30 Nov 2022   Prob (F-statistic):           2.87e-40\nTime:                        13:55:33   Log-Likelihood:                 2019.2\nNo. Observations:                 360   AIC:                            -4032.\nDf Residuals:                     357   BIC:                            -4021.\nDf Model:                           2                                         \nCovariance Type:            nonrobust                                         \n==============================================================================\n                 coef    std err          t      P>|t|      [0.025      0.975]\n------------------------------------------------------------------------------\nIntercept      0.0015      0.000     14.696      0.000       0.001       0.002\nx          -5.947e-06   9.03e-07     -6.583      0.000   -7.72e-06   -4.17e-06\nind            0.0024      0.000     12.669      0.000       0.002       0.003\n==============================================================================\nOmnibus:                       14.741   Durbin-Watson:                   1.967\nProb(Omnibus):                  0.001   Jarque-Bera (JB):               17.681\nSkew:                           0.388   Prob(JB):                     0.000145\nKurtosis:                       3.760   Cond. No.                         468.\n==============================================================================\n\nNotes:\n[1] Standard Errors assume that the covariance matrix of the errors is correctly specified.\n\"\"\"",
      "text/html": "<table class=\"simpletable\">\n<caption>OLS Regression Results</caption>\n<tr>\n  <th>Dep. Variable:</th>            <td>y</td>        <th>  R-squared:         </th> <td>   0.400</td>\n</tr>\n<tr>\n  <th>Model:</th>                   <td>OLS</td>       <th>  Adj. R-squared:    </th> <td>   0.396</td>\n</tr>\n<tr>\n  <th>Method:</th>             <td>Least Squares</td>  <th>  F-statistic:       </th> <td>   118.8</td>\n</tr>\n<tr>\n  <th>Date:</th>             <td>Wed, 30 Nov 2022</td> <th>  Prob (F-statistic):</th> <td>2.87e-40</td>\n</tr>\n<tr>\n  <th>Time:</th>                 <td>13:55:33</td>     <th>  Log-Likelihood:    </th> <td>  2019.2</td>\n</tr>\n<tr>\n  <th>No. Observations:</th>      <td>   360</td>      <th>  AIC:               </th> <td>  -4032.</td>\n</tr>\n<tr>\n  <th>Df Residuals:</th>          <td>   357</td>      <th>  BIC:               </th> <td>  -4021.</td>\n</tr>\n<tr>\n  <th>Df Model:</th>              <td>     2</td>      <th>                     </th>     <td> </td>   \n</tr>\n<tr>\n  <th>Covariance Type:</th>      <td>nonrobust</td>    <th>                     </th>     <td> </td>   \n</tr>\n</table>\n<table class=\"simpletable\">\n<tr>\n      <td></td>         <th>coef</th>     <th>std err</th>      <th>t</th>      <th>P>|t|</th>  <th>[0.025</th>    <th>0.975]</th>  \n</tr>\n<tr>\n  <th>Intercept</th> <td>    0.0015</td> <td>    0.000</td> <td>   14.696</td> <td> 0.000</td> <td>    0.001</td> <td>    0.002</td>\n</tr>\n<tr>\n  <th>x</th>         <td>-5.947e-06</td> <td> 9.03e-07</td> <td>   -6.583</td> <td> 0.000</td> <td>-7.72e-06</td> <td>-4.17e-06</td>\n</tr>\n<tr>\n  <th>ind</th>       <td>    0.0024</td> <td>    0.000</td> <td>   12.669</td> <td> 0.000</td> <td>    0.002</td> <td>    0.003</td>\n</tr>\n</table>\n<table class=\"simpletable\">\n<tr>\n  <th>Omnibus:</th>       <td>14.741</td> <th>  Durbin-Watson:     </th> <td>   1.967</td>\n</tr>\n<tr>\n  <th>Prob(Omnibus):</th> <td> 0.001</td> <th>  Jarque-Bera (JB):  </th> <td>  17.681</td>\n</tr>\n<tr>\n  <th>Skew:</th>          <td> 0.388</td> <th>  Prob(JB):          </th> <td>0.000145</td>\n</tr>\n<tr>\n  <th>Kurtosis:</th>      <td> 3.760</td> <th>  Cond. No.          </th> <td>    468.</td>\n</tr>\n</table><br/><br/>Notes:<br/>[1] Standard Errors assume that the covariance matrix of the errors is correctly specified."
     },
     "execution_count": 17,
     "metadata": {},
     "output_type": "execute_result"
    }
   ],
   "source": [
    "df_for_ols = pd.DataFrame({'x': x, 'y': y, 'ind': ind})\n",
    "mod = smf.ols(formula=\"y ~ x + ind\", data=df_for_ols)\n",
    "result = mod.fit()\n",
    "result.summary()"
   ],
   "metadata": {
    "collapsed": false,
    "pycharm": {
     "name": "#%%\n"
    }
   }
  },
  {
   "cell_type": "markdown",
   "source": [
    "### **3.4** **Discuss:** What does the coefficient associated with the dummy variable `ind` captures in the above regression?\n",
    "It captures the additional percentages caused by whether the age is older."
   ],
   "metadata": {
    "collapsed": false,
    "pycharm": {
     "name": "#%% md\n"
    }
   }
  },
  {
   "cell_type": "markdown",
   "source": [
    "### **3.5** Use the model parameters to estimate the percentage of athletes born on March 31st, i.e., use the intercept ($\\beta_0$) and the coefficient associated with `x` ($\\beta_1$) and calculate: $\\beta_0 - 1 * \\beta_1$ (recall that $x$ equals -1 in March 31st)."
   ],
   "metadata": {
    "collapsed": false,
    "pycharm": {
     "name": "#%% md\n"
    }
   }
  },
  {
   "cell_type": "code",
   "execution_count": 18,
   "outputs": [
    {
     "name": "stdout",
     "output_type": "stream",
     "text": [
      "The prediction is 0.0015536189430982589\n"
     ]
    }
   ],
   "source": [
    "params = result.params\n",
    "pred_3_5 = params[0] - params[1]\n",
    "print(f'The prediction is {pred_3_5}')"
   ],
   "metadata": {
    "collapsed": false,
    "pycharm": {
     "name": "#%%\n"
    }
   }
  },
  {
   "cell_type": "markdown",
   "source": [
    "### **3.6** Use the model parameters to estimate the percentage of athletes born on April 1st."
   ],
   "metadata": {
    "collapsed": false,
    "pycharm": {
     "name": "#%% md\n"
    }
   }
  },
  {
   "cell_type": "code",
   "execution_count": 72,
   "outputs": [
    {
     "name": "stdout",
     "output_type": "stream",
     "text": [
      "The prediction is 0.003926479151600864\n"
     ]
    }
   ],
   "source": [
    "pred_3_6 = params[0] + params[1] * 0 + params[2]\n",
    "print(f'The prediction is {pred_3_6}')"
   ],
   "metadata": {
    "collapsed": false,
    "pycharm": {
     "name": "#%%\n"
    }
   }
  },
  {
   "cell_type": "markdown",
   "source": [
    "### **3.7** **Discuss:** Drawing from your knowledge of observational studies and the questions answered thus far, respond to Mr. Ogane's question: *is there a causal effect between being older than your peers and becoming a Wikipedia-famous athlete?* Explain whether the evidence you have obtained is convincing and why.\n",
    "\n",
    "answer: Maybe there is a causal effect between older than your peers and becoming a Wikipedia-famous athlete."
   ],
   "metadata": {
    "collapsed": false,
    "pycharm": {
     "name": "#%% md\n"
    }
   }
  },
  {
   "cell_type": "markdown",
   "id": "d1b06fe5",
   "metadata": {
    "pycharm": {
     "name": "#%% md\n"
    }
   },
   "source": [
    "## Task 4 — 20 pts\n",
    "\n",
    "You return to Mr. Ogane with your findings, which he again receives with great interest. The sharp manager, however, asks a question that ignites your curiosity: *are athletes that are born right after the school cut-off date (i.e., in April or May) simply better?**\n",
    "\n",
    "To understand if that is the case, you come up with a plan: the number of pageviews received by a Wikipedia page is a good way to differentiate between mildly famous athletes and truly famous ones. Thus you can do a matched analysis comparing athletes born in February or March (right before the cut-off) with athletes born in April or May (right after the cut-off); you should discard all athletes that were not born in one of these four months.\n",
    "\n",
    "To make matched athletes even more comparable, you will also only consider pairs of athletes that:\n",
    "1. were born in the same year; \n",
    "2. have the same gender; and\n",
    "3. have the same occupation.\n",
    "\n",
    "Matching should be done 1-to-1; i.e., each athlete born in February/March should be matched to one and only one athlete born in April/May (there will naturally be some athletes left unmatched).\n",
    "\n",
    "**4.1** Obtain the matched data described in the text above. Report the number of matched pairs and the number of discarded athletes. Your resulting dataframe should contain one row per athlete and an indicator variable `is_after`, which equals 1 when the athlete was born in April or May and 0 otherwise. Note that here you are doing exact matching, and not propensity score matching!\n",
    "\n",
    "**4.2** The number of pageviews is heavy-tailed, as we have seen in Task 1. Create a new column in your matched dataframe containing the natural logarithm of the number of pageviews.\n",
    "\n",
    "**4.3** Assuming that whether the athlete is born in the two months right before the cutoff (February and March) or the two months right after (April and May) is assigned at random, use a linear regression to estimate the effect of being born after rather than before the cutoff date in the number of pageviews athletes receive. Use the log-transformed value you calculated in **4.2** as the outcome of your model (i.e., the $y$ of the regression). Report the summary of your model.\n",
    "\n",
    "\n",
    "**4.4** **Discuss:** Interpret the coefficients obtained from the linear regression.\n",
    "\n",
    "**4.5** Interpreting the results obtained throughout this homework, create a short text (max. 250 words) where you:\n",
    "- Present and explain a credible causal diagram capturing the relationship between the variables below, and justify your causal diagram given the questions answered in this homework:\n",
    "    1. \"Skill\": an individual's innate talent towards a sport.\n",
    "    2. \"Relative Age\": how old an individual was in comparison to his or her peers.\n",
    "    3. \"Success before adulthood\": how successful the individual is as an athlete as a child/teenager.\n",
    "    4. \"Success as an adult\": how successful the individual is as an athlete as an adult.\n",
    "- **Discuss:** Consider two equally successful children athletes, one born on March 31 and the other on April 1 — which will likely be more successful as an adult? Your answer should be consistent with your causal diagram.\n",
    "\n",
    "---\n"
   ]
  },
  {
   "cell_type": "markdown",
   "source": [
    "### 4.1 Obtain the matched data described in the text above. Report the number of matched pairs and the number of discarded athletes. Your resulting dataframe should contain one row per athlete and an indicator variable is_after, which equals 1 when the athlete was born in April or May and 0 otherwise. Note that here you are doing exact matching, and not propensity score matching!"
   ],
   "metadata": {
    "collapsed": false,
    "pycharm": {
     "name": "#%% md\n"
    }
   }
  },
  {
   "cell_type": "code",
   "execution_count": 20,
   "outputs": [],
   "source": [
    "# First we make a copy of the original dataframe, and delete the unneeded lines.\n",
    "df4 = japanese_athletes.copy()\n",
    "df4 = df4[~((df4.birthMonth < 2) | (df4.birthMonth > 5))]\n",
    "df4['is_after'] = df4.birthMonth.apply(lambda x: x>=4)\n",
    "before = df4[df4.is_after == 0].copy().reset_index(drop=True)\n",
    "after = df4[df4.is_after == 1].copy().reset_index(drop=True)"
   ],
   "metadata": {
    "collapsed": false,
    "pycharm": {
     "name": "#%%\n"
    }
   }
  },
  {
   "cell_type": "code",
   "execution_count": 21,
   "outputs": [],
   "source": [
    "def get_match(before, after):\n",
    "    len_before = len(before)\n",
    "    len_after = len(after)\n",
    "    matched = np.zeros((len_after, 1))\n",
    "    matched_df = pd.DataFrame()\n",
    "    first = 1\n",
    "    for i in range(len_before):\n",
    "        row_i = before.iloc[i]\n",
    "        row_i = pd.Series(row_i, ['id', 'name', 'occupation', 'gender', 'alive', 'bplace_country', 'birthdate', 'birthyear', 'pageviews', 'birthMonth', 'date_diff', 'is_after'])\n",
    "        for j in range(len_after):\n",
    "            row_j = after.iloc[j]\n",
    "            row_j = pd.Series(row_j, ['id', 'name', 'occupation', 'gender', 'alive', 'bplace_country', 'birthdate', 'birthyear', 'pageviews', 'birthMonth', 'date_diff', 'is_after'])\n",
    "            if matched[j]:\n",
    "                continue\n",
    "            if row_j.birthyear == row_i.birthyear:\n",
    "                if row_j.gender == row_i.gender:\n",
    "                    if row_j.occupation == row_i.occupation:\n",
    "                        matched[j] = 1\n",
    "                        # matched_row = pd.DataFrame(pd.concat([row_i, row_j])).T\n",
    "                        matched_row = pd.DataFrame(pd.concat([row_i, row_j], axis=1)).T\n",
    "                        if first:\n",
    "                            # matched_df = pd.DataFrame('0', index=range(0), columns=['id', 'name', 'occupation', 'gender', 'alive', 'bplace_country', 'birthdate', 'birthyear', 'pageviews', 'birthMonth', 'date_diff', 'is_after', 'id2', 'name2', 'occupation2', 'gender2', 'alive2', 'bplace_country2', 'birthdate2', 'birthyear2', 'pageviews2', 'birthMonth2', 'date_diff2', 'is_after2'])\n",
    "                            first = 0\n",
    "                            matched_df = matched_row\n",
    "                        else:\n",
    "                            matched_df = pd.concat([matched_df, matched_row], axis=0)\n",
    "                        break\n",
    "                    else: continue\n",
    "                else: continue\n",
    "            else:continue\n",
    "    return matched_df"
   ],
   "metadata": {
    "collapsed": false,
    "pycharm": {
     "name": "#%%\n"
    }
   }
  },
  {
   "cell_type": "code",
   "execution_count": 22,
   "outputs": [],
   "source": [
    "matched_df = get_match(before, after)"
   ],
   "metadata": {
    "collapsed": false,
    "pycharm": {
     "name": "#%%\n"
    }
   }
  },
  {
   "cell_type": "code",
   "execution_count": 23,
   "outputs": [],
   "source": [
    "matched_df.is_after = matched_df.is_after.apply(lambda x: int(x))"
   ],
   "metadata": {
    "collapsed": false,
    "pycharm": {
     "name": "#%%\n"
    }
   }
  },
  {
   "cell_type": "code",
   "execution_count": 24,
   "outputs": [
    {
     "data": {
      "text/plain": "          id               name     occupation gender  alive bplace_country  \\\n3   20641239     Yasuo Takamori  SOCCER PLAYER      M  False          Japan   \n2   25864538       Kenzo Ohashi  SOCCER PLAYER      M  False          Japan   \n9     733681    Kazuyoshi Miura  SOCCER PLAYER      M   True          Japan   \n59   7597806    Nobuhiro Takeda  SOCCER PLAYER      M   True          Japan   \n10  19134567  Masahiro Hamazaki  SOCCER PLAYER      M  False          Japan   \n\n     birthdate birthyear pageviews birthMonth date_diff  is_after  \n3   1934-03-03    1934.0    1047.0          3       -29         0  \n2   1934-04-21    1934.0     758.0          4        20         1  \n9   1967-02-26    1967.0  496424.0          2       -34         0  \n59  1967-05-10    1967.0   50374.0          5        39         1  \n10  1940-03-14    1940.0     983.0          3       -18         0  ",
      "text/html": "<div>\n<style scoped>\n    .dataframe tbody tr th:only-of-type {\n        vertical-align: middle;\n    }\n\n    .dataframe tbody tr th {\n        vertical-align: top;\n    }\n\n    .dataframe thead th {\n        text-align: right;\n    }\n</style>\n<table border=\"1\" class=\"dataframe\">\n  <thead>\n    <tr style=\"text-align: right;\">\n      <th></th>\n      <th>id</th>\n      <th>name</th>\n      <th>occupation</th>\n      <th>gender</th>\n      <th>alive</th>\n      <th>bplace_country</th>\n      <th>birthdate</th>\n      <th>birthyear</th>\n      <th>pageviews</th>\n      <th>birthMonth</th>\n      <th>date_diff</th>\n      <th>is_after</th>\n    </tr>\n  </thead>\n  <tbody>\n    <tr>\n      <th>3</th>\n      <td>20641239</td>\n      <td>Yasuo Takamori</td>\n      <td>SOCCER PLAYER</td>\n      <td>M</td>\n      <td>False</td>\n      <td>Japan</td>\n      <td>1934-03-03</td>\n      <td>1934.0</td>\n      <td>1047.0</td>\n      <td>3</td>\n      <td>-29</td>\n      <td>0</td>\n    </tr>\n    <tr>\n      <th>2</th>\n      <td>25864538</td>\n      <td>Kenzo Ohashi</td>\n      <td>SOCCER PLAYER</td>\n      <td>M</td>\n      <td>False</td>\n      <td>Japan</td>\n      <td>1934-04-21</td>\n      <td>1934.0</td>\n      <td>758.0</td>\n      <td>4</td>\n      <td>20</td>\n      <td>1</td>\n    </tr>\n    <tr>\n      <th>9</th>\n      <td>733681</td>\n      <td>Kazuyoshi Miura</td>\n      <td>SOCCER PLAYER</td>\n      <td>M</td>\n      <td>True</td>\n      <td>Japan</td>\n      <td>1967-02-26</td>\n      <td>1967.0</td>\n      <td>496424.0</td>\n      <td>2</td>\n      <td>-34</td>\n      <td>0</td>\n    </tr>\n    <tr>\n      <th>59</th>\n      <td>7597806</td>\n      <td>Nobuhiro Takeda</td>\n      <td>SOCCER PLAYER</td>\n      <td>M</td>\n      <td>True</td>\n      <td>Japan</td>\n      <td>1967-05-10</td>\n      <td>1967.0</td>\n      <td>50374.0</td>\n      <td>5</td>\n      <td>39</td>\n      <td>1</td>\n    </tr>\n    <tr>\n      <th>10</th>\n      <td>19134567</td>\n      <td>Masahiro Hamazaki</td>\n      <td>SOCCER PLAYER</td>\n      <td>M</td>\n      <td>False</td>\n      <td>Japan</td>\n      <td>1940-03-14</td>\n      <td>1940.0</td>\n      <td>983.0</td>\n      <td>3</td>\n      <td>-18</td>\n      <td>0</td>\n    </tr>\n  </tbody>\n</table>\n</div>"
     },
     "execution_count": 24,
     "metadata": {},
     "output_type": "execute_result"
    }
   ],
   "source": [
    "matched_df.head()"
   ],
   "metadata": {
    "collapsed": false,
    "pycharm": {
     "name": "#%%\n"
    }
   }
  },
  {
   "cell_type": "code",
   "execution_count": 66,
   "outputs": [
    {
     "data": {
      "text/plain": "(716, 13)"
     },
     "execution_count": 66,
     "metadata": {},
     "output_type": "execute_result"
    }
   ],
   "source": [
    "matched_df.shape"
   ],
   "metadata": {
    "collapsed": false,
    "pycharm": {
     "name": "#%%\n"
    }
   }
  },
  {
   "cell_type": "markdown",
   "source": [
    "### 4.2 The number of pageviews is heavy-tailed, as we have seen in Task 1. Create a new column in your matched dataframe containing the natural logarithm of the number of pageviews."
   ],
   "metadata": {
    "collapsed": false,
    "pycharm": {
     "name": "#%% md\n"
    }
   }
  },
  {
   "cell_type": "code",
   "execution_count": 25,
   "outputs": [],
   "source": [
    "matched_df['log_pageviews'] = matched_df.pageviews.apply(lambda x: np.log(x))"
   ],
   "metadata": {
    "collapsed": false,
    "pycharm": {
     "name": "#%%\n"
    }
   }
  },
  {
   "cell_type": "markdown",
   "source": [
    "### 4.3 Assuming that whether the athlete is born in the two months right before the cutoff (February and March) or the two months right after (April and May) is assigned at random, use a linear regression to estimate the effect of being born after rather than before the cutoff date in the number of pageviews athletes receive. Use the log-transformed value you calculated in 4.2 as the outcome of your model (i.e., the   of the regression). Report the summary of your model."
   ],
   "metadata": {
    "collapsed": false,
    "pycharm": {
     "name": "#%% md\n"
    }
   }
  },
  {
   "cell_type": "code",
   "execution_count": 26,
   "outputs": [
    {
     "data": {
      "text/plain": "<class 'statsmodels.iolib.summary.Summary'>\n\"\"\"\n                            OLS Regression Results                            \n==============================================================================\nDep. Variable:          log_pageviews   R-squared:                       0.000\nModel:                            OLS   Adj. R-squared:                 -0.001\nMethod:                 Least Squares   F-statistic:                   0.05839\nDate:                Wed, 30 Nov 2022   Prob (F-statistic):              0.809\nTime:                        13:56:00   Log-Likelihood:                -1258.2\nNo. Observations:                 716   AIC:                             2520.\nDf Residuals:                     714   BIC:                             2530.\nDf Model:                           1                                         \nCovariance Type:            nonrobust                                         \n====================================================================================\n                       coef    std err          t      P>|t|      [0.025      0.975]\n------------------------------------------------------------------------------------\nIntercept            7.8307      0.074    105.489      0.000       7.685       7.976\nC(is_after)[T.1]     0.0254      0.105      0.242      0.809      -0.181       0.231\n==============================================================================\nOmnibus:                       23.836   Durbin-Watson:                   1.573\nProb(Omnibus):                  0.000   Jarque-Bera (JB):               25.701\nSkew:                           0.423   Prob(JB):                     2.63e-06\nKurtosis:                       3.382   Cond. No.                         2.62\n==============================================================================\n\nNotes:\n[1] Standard Errors assume that the covariance matrix of the errors is correctly specified.\n\"\"\"",
      "text/html": "<table class=\"simpletable\">\n<caption>OLS Regression Results</caption>\n<tr>\n  <th>Dep. Variable:</th>      <td>log_pageviews</td>  <th>  R-squared:         </th> <td>   0.000</td>\n</tr>\n<tr>\n  <th>Model:</th>                   <td>OLS</td>       <th>  Adj. R-squared:    </th> <td>  -0.001</td>\n</tr>\n<tr>\n  <th>Method:</th>             <td>Least Squares</td>  <th>  F-statistic:       </th> <td> 0.05839</td>\n</tr>\n<tr>\n  <th>Date:</th>             <td>Wed, 30 Nov 2022</td> <th>  Prob (F-statistic):</th>  <td> 0.809</td> \n</tr>\n<tr>\n  <th>Time:</th>                 <td>13:56:00</td>     <th>  Log-Likelihood:    </th> <td> -1258.2</td>\n</tr>\n<tr>\n  <th>No. Observations:</th>      <td>   716</td>      <th>  AIC:               </th> <td>   2520.</td>\n</tr>\n<tr>\n  <th>Df Residuals:</th>          <td>   714</td>      <th>  BIC:               </th> <td>   2530.</td>\n</tr>\n<tr>\n  <th>Df Model:</th>              <td>     1</td>      <th>                     </th>     <td> </td>   \n</tr>\n<tr>\n  <th>Covariance Type:</th>      <td>nonrobust</td>    <th>                     </th>     <td> </td>   \n</tr>\n</table>\n<table class=\"simpletable\">\n<tr>\n          <td></td>            <th>coef</th>     <th>std err</th>      <th>t</th>      <th>P>|t|</th>  <th>[0.025</th>    <th>0.975]</th>  \n</tr>\n<tr>\n  <th>Intercept</th>        <td>    7.8307</td> <td>    0.074</td> <td>  105.489</td> <td> 0.000</td> <td>    7.685</td> <td>    7.976</td>\n</tr>\n<tr>\n  <th>C(is_after)[T.1]</th> <td>    0.0254</td> <td>    0.105</td> <td>    0.242</td> <td> 0.809</td> <td>   -0.181</td> <td>    0.231</td>\n</tr>\n</table>\n<table class=\"simpletable\">\n<tr>\n  <th>Omnibus:</th>       <td>23.836</td> <th>  Durbin-Watson:     </th> <td>   1.573</td>\n</tr>\n<tr>\n  <th>Prob(Omnibus):</th> <td> 0.000</td> <th>  Jarque-Bera (JB):  </th> <td>  25.701</td>\n</tr>\n<tr>\n  <th>Skew:</th>          <td> 0.423</td> <th>  Prob(JB):          </th> <td>2.63e-06</td>\n</tr>\n<tr>\n  <th>Kurtosis:</th>      <td> 3.382</td> <th>  Cond. No.          </th> <td>    2.62</td>\n</tr>\n</table><br/><br/>Notes:<br/>[1] Standard Errors assume that the covariance matrix of the errors is correctly specified."
     },
     "execution_count": 26,
     "metadata": {},
     "output_type": "execute_result"
    }
   ],
   "source": [
    "mod_linear_4_3 = smf.ols(formula= \"log_pageviews ~ C(is_after)\", data=matched_df)\n",
    "result = mod_linear_4_3.fit()\n",
    "result.summary()"
   ],
   "metadata": {
    "collapsed": false,
    "pycharm": {
     "name": "#%%\n"
    }
   }
  },
  {
   "cell_type": "markdown",
   "source": [
    "### 4.4 Discuss: Interpret the coefficients obtained from the linear regression.\n",
    "The Intercept means the average natural log pageviews of atheletes born before the cuttoff, while the coefficient of (is_after) is the additional natural log pageviews caused by the variable is_after."
   ],
   "metadata": {
    "collapsed": false,
    "pycharm": {
     "name": "#%% md\n"
    }
   }
  },
  {
   "cell_type": "markdown",
   "source": [
    "### **4.5** Interpreting the results obtained throughout this homework, create a short text (max. 250 words) where you:\n",
    "- Present and explain a credible causal diagram capturing the relationship between the variables below, and justify your causal diagram given the questions answered in this homework:\n",
    "    1. \"Skill\": an individual's innate talent towards a sport.\n",
    "    2. \"Relative Age\": how old an individual was in comparison to his or her peers.\n",
    "    3. \"Success before adulthood\": how successful the individual is as an athlete as a child/teenager.\n",
    "    4. \"Success as an adult\": how successful the individual is as an athlete as an adult.\n",
    "- **Discuss:** Consider two equally successful children athletes, one born on March 31 and the other on April 1 — which will likely be more successful as an adult? Your answer should be consistent with your causal diagram.\n"
   ],
   "metadata": {
    "collapsed": false,
    "pycharm": {
     "name": "#%% md\n"
    }
   }
  },
  {
   "cell_type": "code",
   "execution_count": 26,
   "id": "132d6b91",
   "metadata": {
    "pycharm": {
     "name": "#%%\n"
    }
   },
   "outputs": [],
   "source": []
  },
  {
   "cell_type": "markdown",
   "id": "f601125b",
   "metadata": {
    "pycharm": {
     "name": "#%% md\n"
    }
   },
   "source": [
    "## Task 5 — 20 pts\n",
    "\n",
    "Your findings in Task 4 provide important information for Tokyo FC to scout for young athletes. However, Mr. Ogane points out that other countries have messier cut-off dates for school (e.g., in the U.S., it varies widely by state), and thus the results may be less applicable to other countries.\n",
    "\n",
    "While you could investigate specific cut-off dates per country, you decide to first use your machine learning skills to get a sense of how promising your efforts might turn out to be. This is made easy as you find an extended version of the dataset you've been working on so far, which contains data about all Wikipedia biographies all around the world\n",
    "\n",
    "**5.1**Load the dataset containing data about Wikipedia-famous individuals into memory using pandas. You should load the data directly from the compressed file. Then, print the first few lines of the dataset.\n",
    "\n",
    "\n",
    "**5.2** Create two columns in this dataframe:\n",
    "- `is_athlete` an indicator variable which equals 1 if the occupation of an individual is related to a sport (you are provided with a list below) and 0 otherwise.\n",
    "- `dayofyear` an integer between 1 and 366 indicating on which day of the year the individual was born.\n",
    "\n",
    "**5.3** For each country:\n",
    "- Create a training set with 80% of the individuals and a test set with the remaining 20%;\n",
    "- Train a random forest model (using `sklearn`, you can use the default parameters) to predict whether an individual is an athlete or not based on: 1) the day of the year they were born `dayofyear`; 2) the year they were born (e.g., 1964, year should be a numerical variable) and 3) their gender.\n",
    "- report the precision of your classifier for each country.\n",
    "\n",
    "**5.4** Estimate the percentage of `athlete` individuals per country (simply by counting in the data).\n",
    "\n",
    "**5.5** **Discuss:** how can the results from **5.4** impact the metric (precision) used in **5.3**? What could be a better suited metric to use here?\n",
    "\n",
    "**5.6** Repeat the procedure done in **5.3**, but now calculate the metric you proposed in **5.5**.\n",
    "\n",
    "**5.7** **Discuss:** according to this analysis, in which other countries might you be able to use the date of birth to recruit good athletes? Justify."
   ]
  },
  {
   "cell_type": "markdown",
   "source": [
    "### 5.1Load the dataset containing data about Wikipedia-famous individuals into memory using pandas. You should load the data directly from the compressed file. Then, print the first few lines of the dataset."
   ],
   "metadata": {
    "collapsed": false,
    "pycharm": {
     "name": "#%% md\n"
    }
   }
  },
  {
   "cell_type": "code",
   "execution_count": 28,
   "outputs": [
    {
     "data": {
      "text/plain": "         id            name        occupation gender  alive bplace_country  \\\n0   4848272    Donald Trump        POLITICIAN      M   True  United States   \n1  13623554     Che Guevara   SOCIAL ACTIVIST      M  False      Argentina   \n2   1687680    Pope Francis  RELIGIOUS FIGURE      M   True      Argentina   \n3  21492751  Nelson Mandela   SOCIAL ACTIVIST      M  False   South Africa   \n4     63747    Muhammad Ali             BOXER      M  False  United States   \n\n    birthdate  birthyear   pageviews  \n0  1946-06-14     1946.0  10221172.0  \n1  1928-06-14     1928.0   3660108.0  \n2  1936-12-17     1936.0   3893767.0  \n3  1918-07-18     1918.0   4359499.0  \n4  1942-01-17     1942.0   3940228.0  ",
      "text/html": "<div>\n<style scoped>\n    .dataframe tbody tr th:only-of-type {\n        vertical-align: middle;\n    }\n\n    .dataframe tbody tr th {\n        vertical-align: top;\n    }\n\n    .dataframe thead th {\n        text-align: right;\n    }\n</style>\n<table border=\"1\" class=\"dataframe\">\n  <thead>\n    <tr style=\"text-align: right;\">\n      <th></th>\n      <th>id</th>\n      <th>name</th>\n      <th>occupation</th>\n      <th>gender</th>\n      <th>alive</th>\n      <th>bplace_country</th>\n      <th>birthdate</th>\n      <th>birthyear</th>\n      <th>pageviews</th>\n    </tr>\n  </thead>\n  <tbody>\n    <tr>\n      <th>0</th>\n      <td>4848272</td>\n      <td>Donald Trump</td>\n      <td>POLITICIAN</td>\n      <td>M</td>\n      <td>True</td>\n      <td>United States</td>\n      <td>1946-06-14</td>\n      <td>1946.0</td>\n      <td>10221172.0</td>\n    </tr>\n    <tr>\n      <th>1</th>\n      <td>13623554</td>\n      <td>Che Guevara</td>\n      <td>SOCIAL ACTIVIST</td>\n      <td>M</td>\n      <td>False</td>\n      <td>Argentina</td>\n      <td>1928-06-14</td>\n      <td>1928.0</td>\n      <td>3660108.0</td>\n    </tr>\n    <tr>\n      <th>2</th>\n      <td>1687680</td>\n      <td>Pope Francis</td>\n      <td>RELIGIOUS FIGURE</td>\n      <td>M</td>\n      <td>True</td>\n      <td>Argentina</td>\n      <td>1936-12-17</td>\n      <td>1936.0</td>\n      <td>3893767.0</td>\n    </tr>\n    <tr>\n      <th>3</th>\n      <td>21492751</td>\n      <td>Nelson Mandela</td>\n      <td>SOCIAL ACTIVIST</td>\n      <td>M</td>\n      <td>False</td>\n      <td>South Africa</td>\n      <td>1918-07-18</td>\n      <td>1918.0</td>\n      <td>4359499.0</td>\n    </tr>\n    <tr>\n      <th>4</th>\n      <td>63747</td>\n      <td>Muhammad Ali</td>\n      <td>BOXER</td>\n      <td>M</td>\n      <td>False</td>\n      <td>United States</td>\n      <td>1942-01-17</td>\n      <td>1942.0</td>\n      <td>3940228.0</td>\n    </tr>\n  </tbody>\n</table>\n</div>"
     },
     "execution_count": 28,
     "metadata": {},
     "output_type": "execute_result"
    }
   ],
   "source": [
    "wiki_famous = pd.read_csv('data/all_entities.csv.gz')\n",
    "wiki_famous.head()"
   ],
   "metadata": {
    "collapsed": false,
    "pycharm": {
     "name": "#%%\n"
    }
   }
  },
  {
   "cell_type": "markdown",
   "source": [
    "### 5.2 Create two columns in this dataframe:\n",
    "is_athlete an indicator variable which equals 1 if the occupation of an individual is related to a sport (you are provided with a list below) and 0 otherwise.\n",
    "dayofyear an integer between 1 and 366 indicating on which day of the year the individual was born."
   ],
   "metadata": {
    "collapsed": false,
    "pycharm": {
     "name": "#%% md\n"
    }
   }
  },
  {
   "cell_type": "code",
   "execution_count": 36,
   "outputs": [],
   "source": [
    "athlete_categories = {\n",
    "    'ATHLETE',\n",
    "    'BASKETBALL PLAYER',\n",
    "    'BOXER',\n",
    "    'CYCLIST',\n",
    "    'GYMNAST',\n",
    "    'HANDBALL PLAYER',\n",
    "    'HOCKEY PLAYER',\n",
    "    'SKATER',\n",
    "    'SKIER',\n",
    "    'TENNIS PLAYER',\n",
    "    'SOCCER PLAYER',\n",
    "    'SWIMMER',\n",
    "    'WRESTLER'\n",
    "}"
   ],
   "metadata": {
    "collapsed": false,
    "pycharm": {
     "name": "#%%\n"
    }
   }
  },
  {
   "cell_type": "code",
   "execution_count": 49,
   "outputs": [],
   "source": [
    "wiki_famous['is_athlete'] = wiki_famous.occupation.apply(lambda x: int(x in athlete_categories))\n",
    "wiki_famous['dayofyear'] = pd.to_datetime(wiki_famous.birthdate).dt.day"
   ],
   "metadata": {
    "collapsed": false,
    "pycharm": {
     "name": "#%%\n"
    }
   }
  },
  {
   "cell_type": "code",
   "execution_count": 50,
   "outputs": [
    {
     "data": {
      "text/plain": "         id            name        occupation gender  alive bplace_country  \\\n0   4848272    Donald Trump        POLITICIAN      M   True  United States   \n1  13623554     Che Guevara   SOCIAL ACTIVIST      M  False      Argentina   \n2   1687680    Pope Francis  RELIGIOUS FIGURE      M   True      Argentina   \n3  21492751  Nelson Mandela   SOCIAL ACTIVIST      M  False   South Africa   \n4     63747    Muhammad Ali             BOXER      M  False  United States   \n\n    birthdate  birthyear   pageviews  dayofyear  is_athlete  \n0  1946-06-14     1946.0  10221172.0         14           0  \n1  1928-06-14     1928.0   3660108.0         14           0  \n2  1936-12-17     1936.0   3893767.0         17           0  \n3  1918-07-18     1918.0   4359499.0         18           0  \n4  1942-01-17     1942.0   3940228.0         17           1  ",
      "text/html": "<div>\n<style scoped>\n    .dataframe tbody tr th:only-of-type {\n        vertical-align: middle;\n    }\n\n    .dataframe tbody tr th {\n        vertical-align: top;\n    }\n\n    .dataframe thead th {\n        text-align: right;\n    }\n</style>\n<table border=\"1\" class=\"dataframe\">\n  <thead>\n    <tr style=\"text-align: right;\">\n      <th></th>\n      <th>id</th>\n      <th>name</th>\n      <th>occupation</th>\n      <th>gender</th>\n      <th>alive</th>\n      <th>bplace_country</th>\n      <th>birthdate</th>\n      <th>birthyear</th>\n      <th>pageviews</th>\n      <th>dayofyear</th>\n      <th>is_athlete</th>\n    </tr>\n  </thead>\n  <tbody>\n    <tr>\n      <th>0</th>\n      <td>4848272</td>\n      <td>Donald Trump</td>\n      <td>POLITICIAN</td>\n      <td>M</td>\n      <td>True</td>\n      <td>United States</td>\n      <td>1946-06-14</td>\n      <td>1946.0</td>\n      <td>10221172.0</td>\n      <td>14</td>\n      <td>0</td>\n    </tr>\n    <tr>\n      <th>1</th>\n      <td>13623554</td>\n      <td>Che Guevara</td>\n      <td>SOCIAL ACTIVIST</td>\n      <td>M</td>\n      <td>False</td>\n      <td>Argentina</td>\n      <td>1928-06-14</td>\n      <td>1928.0</td>\n      <td>3660108.0</td>\n      <td>14</td>\n      <td>0</td>\n    </tr>\n    <tr>\n      <th>2</th>\n      <td>1687680</td>\n      <td>Pope Francis</td>\n      <td>RELIGIOUS FIGURE</td>\n      <td>M</td>\n      <td>True</td>\n      <td>Argentina</td>\n      <td>1936-12-17</td>\n      <td>1936.0</td>\n      <td>3893767.0</td>\n      <td>17</td>\n      <td>0</td>\n    </tr>\n    <tr>\n      <th>3</th>\n      <td>21492751</td>\n      <td>Nelson Mandela</td>\n      <td>SOCIAL ACTIVIST</td>\n      <td>M</td>\n      <td>False</td>\n      <td>South Africa</td>\n      <td>1918-07-18</td>\n      <td>1918.0</td>\n      <td>4359499.0</td>\n      <td>18</td>\n      <td>0</td>\n    </tr>\n    <tr>\n      <th>4</th>\n      <td>63747</td>\n      <td>Muhammad Ali</td>\n      <td>BOXER</td>\n      <td>M</td>\n      <td>False</td>\n      <td>United States</td>\n      <td>1942-01-17</td>\n      <td>1942.0</td>\n      <td>3940228.0</td>\n      <td>17</td>\n      <td>1</td>\n    </tr>\n  </tbody>\n</table>\n</div>"
     },
     "execution_count": 50,
     "metadata": {},
     "output_type": "execute_result"
    }
   ],
   "source": [
    "wiki_famous.head()"
   ],
   "metadata": {
    "collapsed": false,
    "pycharm": {
     "name": "#%%\n"
    }
   }
  },
  {
   "cell_type": "markdown",
   "source": [
    "### 5.3 For each country:\n",
    "Create a training set with 80% of the individuals and a test set with the remaining 20%;\n",
    "Train a random forest model (using sklearn, you can use the default parameters) to predict whether an individual is an athlete or not based on: 1) the day of the year they were born dayofyear; 2) the year they were born (e.g., 1964, year should be a numerical variable) and 3) their gender.\n",
    "report the precision of your classifier for each country."
   ],
   "metadata": {
    "collapsed": false,
    "pycharm": {
     "name": "#%% md\n"
    }
   }
  },
  {
   "cell_type": "code",
   "execution_count": 51,
   "id": "25a298e8",
   "metadata": {
    "pycharm": {
     "name": "#%%\n"
    }
   },
   "outputs": [],
   "source": [
    "country_list = wiki_famous.bplace_country.unique()"
   ]
  },
  {
   "cell_type": "code",
   "execution_count": 80,
   "outputs": [],
   "source": [
    "from sklearn.model_selection import train_test_split\n",
    "from sklearn.ensemble import RandomForestClassifier\n",
    "from sklearn.metrics import precision_score, f1_score, accuracy_score"
   ],
   "metadata": {
    "collapsed": false,
    "pycharm": {
     "name": "#%%\n"
    }
   }
  },
  {
   "cell_type": "code",
   "execution_count": 73,
   "outputs": [
    {
     "data": {
      "text/plain": "                   country  precision\n0            United States   0.327138\n1                Argentina   0.785714\n2             South Africa   0.777778\n3                    Spain   0.792208\n4                   Mexico   0.565217\n5           United Kingdom   0.526923\n6                   Poland   0.740000\n7                   Russia   0.586420\n8                   Brazil   0.894389\n9                   France   0.765625\n10                 Germany   0.681818\n11                 Romania   0.659091\n12                   India   0.000000\n13                   Italy   0.648649\n14                 Ukraine   0.551020\n15                   Japan   0.887409\n16                   China   0.700000\n17                 Belgium   0.781250\n18                 Czechia   0.839286\n19                 Austria   0.814815\n20                  Sweden   0.690722\n21                    Iran   0.900000\n22             Netherlands   0.775701\n23                 Hungary   0.615385\n24                  Serbia   0.732143\n25                Portugal   0.833333\n26                  Turkey   0.809524\n27                  Norway   0.666667\n28                  Israel   0.500000\n29                  Canada   0.405797\n30                 Ireland   0.363636\n31                 Finland   0.581395\n32  Bosnia and Herzegovina   0.666667\n33             South Korea   0.473684\n34                 Uruguay   0.877551\n35             Switzerland   0.758621\n36                  Greece   0.923077\n37                 Croatia   0.857143\n38               Australia   0.546875\n39                 Denmark   0.744681",
      "text/html": "<div>\n<style scoped>\n    .dataframe tbody tr th:only-of-type {\n        vertical-align: middle;\n    }\n\n    .dataframe tbody tr th {\n        vertical-align: top;\n    }\n\n    .dataframe thead th {\n        text-align: right;\n    }\n</style>\n<table border=\"1\" class=\"dataframe\">\n  <thead>\n    <tr style=\"text-align: right;\">\n      <th></th>\n      <th>country</th>\n      <th>precision</th>\n    </tr>\n  </thead>\n  <tbody>\n    <tr>\n      <th>0</th>\n      <td>United States</td>\n      <td>0.327138</td>\n    </tr>\n    <tr>\n      <th>1</th>\n      <td>Argentina</td>\n      <td>0.785714</td>\n    </tr>\n    <tr>\n      <th>2</th>\n      <td>South Africa</td>\n      <td>0.777778</td>\n    </tr>\n    <tr>\n      <th>3</th>\n      <td>Spain</td>\n      <td>0.792208</td>\n    </tr>\n    <tr>\n      <th>4</th>\n      <td>Mexico</td>\n      <td>0.565217</td>\n    </tr>\n    <tr>\n      <th>5</th>\n      <td>United Kingdom</td>\n      <td>0.526923</td>\n    </tr>\n    <tr>\n      <th>6</th>\n      <td>Poland</td>\n      <td>0.740000</td>\n    </tr>\n    <tr>\n      <th>7</th>\n      <td>Russia</td>\n      <td>0.586420</td>\n    </tr>\n    <tr>\n      <th>8</th>\n      <td>Brazil</td>\n      <td>0.894389</td>\n    </tr>\n    <tr>\n      <th>9</th>\n      <td>France</td>\n      <td>0.765625</td>\n    </tr>\n    <tr>\n      <th>10</th>\n      <td>Germany</td>\n      <td>0.681818</td>\n    </tr>\n    <tr>\n      <th>11</th>\n      <td>Romania</td>\n      <td>0.659091</td>\n    </tr>\n    <tr>\n      <th>12</th>\n      <td>India</td>\n      <td>0.000000</td>\n    </tr>\n    <tr>\n      <th>13</th>\n      <td>Italy</td>\n      <td>0.648649</td>\n    </tr>\n    <tr>\n      <th>14</th>\n      <td>Ukraine</td>\n      <td>0.551020</td>\n    </tr>\n    <tr>\n      <th>15</th>\n      <td>Japan</td>\n      <td>0.887409</td>\n    </tr>\n    <tr>\n      <th>16</th>\n      <td>China</td>\n      <td>0.700000</td>\n    </tr>\n    <tr>\n      <th>17</th>\n      <td>Belgium</td>\n      <td>0.781250</td>\n    </tr>\n    <tr>\n      <th>18</th>\n      <td>Czechia</td>\n      <td>0.839286</td>\n    </tr>\n    <tr>\n      <th>19</th>\n      <td>Austria</td>\n      <td>0.814815</td>\n    </tr>\n    <tr>\n      <th>20</th>\n      <td>Sweden</td>\n      <td>0.690722</td>\n    </tr>\n    <tr>\n      <th>21</th>\n      <td>Iran</td>\n      <td>0.900000</td>\n    </tr>\n    <tr>\n      <th>22</th>\n      <td>Netherlands</td>\n      <td>0.775701</td>\n    </tr>\n    <tr>\n      <th>23</th>\n      <td>Hungary</td>\n      <td>0.615385</td>\n    </tr>\n    <tr>\n      <th>24</th>\n      <td>Serbia</td>\n      <td>0.732143</td>\n    </tr>\n    <tr>\n      <th>25</th>\n      <td>Portugal</td>\n      <td>0.833333</td>\n    </tr>\n    <tr>\n      <th>26</th>\n      <td>Turkey</td>\n      <td>0.809524</td>\n    </tr>\n    <tr>\n      <th>27</th>\n      <td>Norway</td>\n      <td>0.666667</td>\n    </tr>\n    <tr>\n      <th>28</th>\n      <td>Israel</td>\n      <td>0.500000</td>\n    </tr>\n    <tr>\n      <th>29</th>\n      <td>Canada</td>\n      <td>0.405797</td>\n    </tr>\n    <tr>\n      <th>30</th>\n      <td>Ireland</td>\n      <td>0.363636</td>\n    </tr>\n    <tr>\n      <th>31</th>\n      <td>Finland</td>\n      <td>0.581395</td>\n    </tr>\n    <tr>\n      <th>32</th>\n      <td>Bosnia and Herzegovina</td>\n      <td>0.666667</td>\n    </tr>\n    <tr>\n      <th>33</th>\n      <td>South Korea</td>\n      <td>0.473684</td>\n    </tr>\n    <tr>\n      <th>34</th>\n      <td>Uruguay</td>\n      <td>0.877551</td>\n    </tr>\n    <tr>\n      <th>35</th>\n      <td>Switzerland</td>\n      <td>0.758621</td>\n    </tr>\n    <tr>\n      <th>36</th>\n      <td>Greece</td>\n      <td>0.923077</td>\n    </tr>\n    <tr>\n      <th>37</th>\n      <td>Croatia</td>\n      <td>0.857143</td>\n    </tr>\n    <tr>\n      <th>38</th>\n      <td>Australia</td>\n      <td>0.546875</td>\n    </tr>\n    <tr>\n      <th>39</th>\n      <td>Denmark</td>\n      <td>0.744681</td>\n    </tr>\n  </tbody>\n</table>\n</div>"
     },
     "execution_count": 73,
     "metadata": {},
     "output_type": "execute_result"
    }
   ],
   "source": [
    "precision_scores = []\n",
    "for country in country_list:\n",
    "    data = wiki_famous[wiki_famous.bplace_country == country][['gender', 'birthyear', 'dayofyear', 'is_athlete']]\n",
    "    data = data.dropna()\n",
    "\n",
    "    X = data[['gender', 'birthyear', 'dayofyear']].copy()\n",
    "    X.loc[:,['gender']] = X.gender.apply(lambda x : 1 if x == 'M' else 0)\n",
    "    Y = data['is_athlete'].copy()\n",
    "    X_train, X_test, Y_train, Y_test = train_test_split(X, Y, test_size=0.2, random_state=42)\n",
    "\n",
    "\n",
    "    clf = RandomForestClassifier()\n",
    "    clf.fit(X_train, Y_train)\n",
    "    Y_predict = clf.predict(X_test)\n",
    "    precision_scores.append(precision_score(Y_test, Y_predict))\n",
    "\n",
    "\n",
    "precision_scores = pd.DataFrame({'country': wiki_famous.bplace_country.unique(), 'precision': precision_scores}, columns=['country', 'precision'])\n",
    "precision_scores"
   ],
   "metadata": {
    "collapsed": false,
    "pycharm": {
     "name": "#%%\n"
    }
   }
  },
  {
   "cell_type": "markdown",
   "source": [
    "### 5.4 Estimate the percentage of athlete individuals per country (simply by counting in the data)."
   ],
   "metadata": {
    "collapsed": false,
    "pycharm": {
     "name": "#%% md\n"
    }
   }
  },
  {
   "cell_type": "code",
   "execution_count": 55,
   "outputs": [],
   "source": [
    "percentage_each_country = {'country': [], 'percentage': []}\n",
    "for country in country_list:\n",
    "    percent = wiki_famous[wiki_famous.bplace_country == country]['is_athlete'].mean()\n",
    "    percentage_each_country['country'].append(country)\n",
    "    percentage_each_country['percentage'].append(percent)\n",
    "percentage_each_country = pd.DataFrame.from_dict(percentage_each_country)"
   ],
   "metadata": {
    "collapsed": false,
    "pycharm": {
     "name": "#%%\n"
    }
   }
  },
  {
   "cell_type": "code",
   "execution_count": 56,
   "outputs": [
    {
     "data": {
      "text/plain": "           country  percentage\n0    United States    0.160308\n1        Argentina    0.728380\n2     South Africa    0.450413\n3            Spain    0.651750\n4           Mexico    0.415978\n5   United Kingdom    0.311794\n6           Poland    0.447410\n7           Russia    0.480357\n8           Brazil    0.831126\n9           France    0.458022\n10         Germany    0.497930\n11         Romania    0.568365\n12           India    0.055359\n13           Italy    0.471453\n14         Ukraine    0.434938\n15           Japan    0.849053\n16           China    0.381982\n17         Belgium    0.615809\n18         Czechia    0.640000\n19         Austria    0.527027\n20          Sweden    0.516484\n21            Iran    0.404167\n22     Netherlands    0.651589\n23         Hungary    0.507282\n24          Serbia    0.713896\n25        Portugal    0.656250\n26          Turkey    0.345566\n27          Norway    0.592803\n28          Israel    0.210084\n29          Canada    0.308157",
      "text/html": "<div>\n<style scoped>\n    .dataframe tbody tr th:only-of-type {\n        vertical-align: middle;\n    }\n\n    .dataframe tbody tr th {\n        vertical-align: top;\n    }\n\n    .dataframe thead th {\n        text-align: right;\n    }\n</style>\n<table border=\"1\" class=\"dataframe\">\n  <thead>\n    <tr style=\"text-align: right;\">\n      <th></th>\n      <th>country</th>\n      <th>percentage</th>\n    </tr>\n  </thead>\n  <tbody>\n    <tr>\n      <th>0</th>\n      <td>United States</td>\n      <td>0.160308</td>\n    </tr>\n    <tr>\n      <th>1</th>\n      <td>Argentina</td>\n      <td>0.728380</td>\n    </tr>\n    <tr>\n      <th>2</th>\n      <td>South Africa</td>\n      <td>0.450413</td>\n    </tr>\n    <tr>\n      <th>3</th>\n      <td>Spain</td>\n      <td>0.651750</td>\n    </tr>\n    <tr>\n      <th>4</th>\n      <td>Mexico</td>\n      <td>0.415978</td>\n    </tr>\n    <tr>\n      <th>5</th>\n      <td>United Kingdom</td>\n      <td>0.311794</td>\n    </tr>\n    <tr>\n      <th>6</th>\n      <td>Poland</td>\n      <td>0.447410</td>\n    </tr>\n    <tr>\n      <th>7</th>\n      <td>Russia</td>\n      <td>0.480357</td>\n    </tr>\n    <tr>\n      <th>8</th>\n      <td>Brazil</td>\n      <td>0.831126</td>\n    </tr>\n    <tr>\n      <th>9</th>\n      <td>France</td>\n      <td>0.458022</td>\n    </tr>\n    <tr>\n      <th>10</th>\n      <td>Germany</td>\n      <td>0.497930</td>\n    </tr>\n    <tr>\n      <th>11</th>\n      <td>Romania</td>\n      <td>0.568365</td>\n    </tr>\n    <tr>\n      <th>12</th>\n      <td>India</td>\n      <td>0.055359</td>\n    </tr>\n    <tr>\n      <th>13</th>\n      <td>Italy</td>\n      <td>0.471453</td>\n    </tr>\n    <tr>\n      <th>14</th>\n      <td>Ukraine</td>\n      <td>0.434938</td>\n    </tr>\n    <tr>\n      <th>15</th>\n      <td>Japan</td>\n      <td>0.849053</td>\n    </tr>\n    <tr>\n      <th>16</th>\n      <td>China</td>\n      <td>0.381982</td>\n    </tr>\n    <tr>\n      <th>17</th>\n      <td>Belgium</td>\n      <td>0.615809</td>\n    </tr>\n    <tr>\n      <th>18</th>\n      <td>Czechia</td>\n      <td>0.640000</td>\n    </tr>\n    <tr>\n      <th>19</th>\n      <td>Austria</td>\n      <td>0.527027</td>\n    </tr>\n    <tr>\n      <th>20</th>\n      <td>Sweden</td>\n      <td>0.516484</td>\n    </tr>\n    <tr>\n      <th>21</th>\n      <td>Iran</td>\n      <td>0.404167</td>\n    </tr>\n    <tr>\n      <th>22</th>\n      <td>Netherlands</td>\n      <td>0.651589</td>\n    </tr>\n    <tr>\n      <th>23</th>\n      <td>Hungary</td>\n      <td>0.507282</td>\n    </tr>\n    <tr>\n      <th>24</th>\n      <td>Serbia</td>\n      <td>0.713896</td>\n    </tr>\n    <tr>\n      <th>25</th>\n      <td>Portugal</td>\n      <td>0.656250</td>\n    </tr>\n    <tr>\n      <th>26</th>\n      <td>Turkey</td>\n      <td>0.345566</td>\n    </tr>\n    <tr>\n      <th>27</th>\n      <td>Norway</td>\n      <td>0.592803</td>\n    </tr>\n    <tr>\n      <th>28</th>\n      <td>Israel</td>\n      <td>0.210084</td>\n    </tr>\n    <tr>\n      <th>29</th>\n      <td>Canada</td>\n      <td>0.308157</td>\n    </tr>\n  </tbody>\n</table>\n</div>"
     },
     "execution_count": 56,
     "metadata": {},
     "output_type": "execute_result"
    }
   ],
   "source": [
    "percentage_each_country.head(30)"
   ],
   "metadata": {
    "collapsed": false,
    "pycharm": {
     "name": "#%%\n"
    }
   }
  },
  {
   "cell_type": "markdown",
   "source": [
    "### 5.5 Discuss: how can the results from 5.4 impact the metric (precision) used in 5.3? What could be a better suited metric to use here?\n",
    "\n",
    "answer: The results from 5.4 shows that the percentages of positive labels for different countries are different. However, the precision score measures the how many of the positive predictions made are correct in other words, true positives, so in such case if the percentage of positive labels(```is_athlete==1```) are relatively lower, then the precision score will be lower.\n",
    "\n",
    "So the main problem here is that the data is not evenly distributed for ```is_athlete``` in each country.\n",
    "\n",
    "So here we should use accuracy to balance out the impact."
   ],
   "metadata": {
    "collapsed": false,
    "pycharm": {
     "name": "#%% md\n"
    }
   }
  },
  {
   "cell_type": "markdown",
   "source": [
    "### 5.6 Repeat the procedure done in 5.3, but now calculate the metric you proposed in 5.5.\n"
   ],
   "metadata": {
    "collapsed": false,
    "pycharm": {
     "name": "#%% md\n"
    }
   }
  },
  {
   "cell_type": "code",
   "execution_count": 64,
   "outputs": [
    {
     "data": {
      "text/plain": "                   country        F1\n0            United States  0.272989\n1                Argentina  0.808333\n2             South Africa  0.777778\n3                    Spain  0.795652\n4                   Mexico  0.560000\n5           United Kingdom  0.521739\n6                   Poland  0.648649\n7                   Russia  0.630225\n8                   Brazil  0.887439\n9                   France  0.736842\n10                 Germany  0.701245\n11                 Romania  0.698795\n12                   India  0.000000\n13                   Italy  0.610932\n14                 Ukraine  0.562500\n15                   Japan  0.892814\n16                   China  0.666667\n17                 Belgium  0.744186\n18                 Czechia  0.796748\n19                 Austria  0.792793\n20                  Sweden  0.687831\n21                    Iran  0.844444\n22             Netherlands  0.811321\n23                 Hungary  0.638298\n24                  Serbia  0.803922\n25                Portugal  0.795181\n26                  Turkey  0.727273\n27                  Norway  0.750000\n28                  Israel  0.375000\n29                  Canada  0.457627\n30                 Ireland  0.400000\n31                 Finland  0.675676\n32  Bosnia and Herzegovina  0.745098\n33             South Korea  0.441558\n34                 Uruguay  0.924731\n35             Switzerland  0.831858\n36                  Greece  0.842105\n37                 Croatia  0.864000\n38               Australia  0.575758\n39                 Denmark  0.714286",
      "text/html": "<div>\n<style scoped>\n    .dataframe tbody tr th:only-of-type {\n        vertical-align: middle;\n    }\n\n    .dataframe tbody tr th {\n        vertical-align: top;\n    }\n\n    .dataframe thead th {\n        text-align: right;\n    }\n</style>\n<table border=\"1\" class=\"dataframe\">\n  <thead>\n    <tr style=\"text-align: right;\">\n      <th></th>\n      <th>country</th>\n      <th>F1</th>\n    </tr>\n  </thead>\n  <tbody>\n    <tr>\n      <th>0</th>\n      <td>United States</td>\n      <td>0.272989</td>\n    </tr>\n    <tr>\n      <th>1</th>\n      <td>Argentina</td>\n      <td>0.808333</td>\n    </tr>\n    <tr>\n      <th>2</th>\n      <td>South Africa</td>\n      <td>0.777778</td>\n    </tr>\n    <tr>\n      <th>3</th>\n      <td>Spain</td>\n      <td>0.795652</td>\n    </tr>\n    <tr>\n      <th>4</th>\n      <td>Mexico</td>\n      <td>0.560000</td>\n    </tr>\n    <tr>\n      <th>5</th>\n      <td>United Kingdom</td>\n      <td>0.521739</td>\n    </tr>\n    <tr>\n      <th>6</th>\n      <td>Poland</td>\n      <td>0.648649</td>\n    </tr>\n    <tr>\n      <th>7</th>\n      <td>Russia</td>\n      <td>0.630225</td>\n    </tr>\n    <tr>\n      <th>8</th>\n      <td>Brazil</td>\n      <td>0.887439</td>\n    </tr>\n    <tr>\n      <th>9</th>\n      <td>France</td>\n      <td>0.736842</td>\n    </tr>\n    <tr>\n      <th>10</th>\n      <td>Germany</td>\n      <td>0.701245</td>\n    </tr>\n    <tr>\n      <th>11</th>\n      <td>Romania</td>\n      <td>0.698795</td>\n    </tr>\n    <tr>\n      <th>12</th>\n      <td>India</td>\n      <td>0.000000</td>\n    </tr>\n    <tr>\n      <th>13</th>\n      <td>Italy</td>\n      <td>0.610932</td>\n    </tr>\n    <tr>\n      <th>14</th>\n      <td>Ukraine</td>\n      <td>0.562500</td>\n    </tr>\n    <tr>\n      <th>15</th>\n      <td>Japan</td>\n      <td>0.892814</td>\n    </tr>\n    <tr>\n      <th>16</th>\n      <td>China</td>\n      <td>0.666667</td>\n    </tr>\n    <tr>\n      <th>17</th>\n      <td>Belgium</td>\n      <td>0.744186</td>\n    </tr>\n    <tr>\n      <th>18</th>\n      <td>Czechia</td>\n      <td>0.796748</td>\n    </tr>\n    <tr>\n      <th>19</th>\n      <td>Austria</td>\n      <td>0.792793</td>\n    </tr>\n    <tr>\n      <th>20</th>\n      <td>Sweden</td>\n      <td>0.687831</td>\n    </tr>\n    <tr>\n      <th>21</th>\n      <td>Iran</td>\n      <td>0.844444</td>\n    </tr>\n    <tr>\n      <th>22</th>\n      <td>Netherlands</td>\n      <td>0.811321</td>\n    </tr>\n    <tr>\n      <th>23</th>\n      <td>Hungary</td>\n      <td>0.638298</td>\n    </tr>\n    <tr>\n      <th>24</th>\n      <td>Serbia</td>\n      <td>0.803922</td>\n    </tr>\n    <tr>\n      <th>25</th>\n      <td>Portugal</td>\n      <td>0.795181</td>\n    </tr>\n    <tr>\n      <th>26</th>\n      <td>Turkey</td>\n      <td>0.727273</td>\n    </tr>\n    <tr>\n      <th>27</th>\n      <td>Norway</td>\n      <td>0.750000</td>\n    </tr>\n    <tr>\n      <th>28</th>\n      <td>Israel</td>\n      <td>0.375000</td>\n    </tr>\n    <tr>\n      <th>29</th>\n      <td>Canada</td>\n      <td>0.457627</td>\n    </tr>\n    <tr>\n      <th>30</th>\n      <td>Ireland</td>\n      <td>0.400000</td>\n    </tr>\n    <tr>\n      <th>31</th>\n      <td>Finland</td>\n      <td>0.675676</td>\n    </tr>\n    <tr>\n      <th>32</th>\n      <td>Bosnia and Herzegovina</td>\n      <td>0.745098</td>\n    </tr>\n    <tr>\n      <th>33</th>\n      <td>South Korea</td>\n      <td>0.441558</td>\n    </tr>\n    <tr>\n      <th>34</th>\n      <td>Uruguay</td>\n      <td>0.924731</td>\n    </tr>\n    <tr>\n      <th>35</th>\n      <td>Switzerland</td>\n      <td>0.831858</td>\n    </tr>\n    <tr>\n      <th>36</th>\n      <td>Greece</td>\n      <td>0.842105</td>\n    </tr>\n    <tr>\n      <th>37</th>\n      <td>Croatia</td>\n      <td>0.864000</td>\n    </tr>\n    <tr>\n      <th>38</th>\n      <td>Australia</td>\n      <td>0.575758</td>\n    </tr>\n    <tr>\n      <th>39</th>\n      <td>Denmark</td>\n      <td>0.714286</td>\n    </tr>\n  </tbody>\n</table>\n</div>"
     },
     "execution_count": 64,
     "metadata": {},
     "output_type": "execute_result"
    }
   ],
   "source": [
    "F1_scores = []\n",
    "for country in country_list:\n",
    "    data = wiki_famous[wiki_famous.bplace_country == country][['gender', 'birthyear', 'dayofyear', 'is_athlete']]\n",
    "    data = data.dropna()\n",
    "\n",
    "    X = data[['gender', 'birthyear', 'dayofyear']].copy()\n",
    "    X.loc[:,['gender']] = X.gender.apply(lambda x : 1 if x == 'M' else 0)\n",
    "    Y = data['is_athlete'].copy()\n",
    "    X_train, X_test, Y_train, Y_test = train_test_split(X, Y, test_size=0.2, random_state=42)\n",
    "\n",
    "\n",
    "    clf = RandomForestClassifier()\n",
    "    clf.fit(X_train, Y_train)\n",
    "    Y_predict = clf.predict(X_test)\n",
    "    F1_scores.append(f1_score(Y_test, Y_predict))\n",
    "\n",
    "\n",
    "F1_scores = pd.DataFrame({'country': wiki_famous.bplace_country.unique(), 'F1': F1_scores}, columns=['country', 'F1'])\n",
    "F1_scores"
   ],
   "metadata": {
    "collapsed": false,
    "pycharm": {
     "name": "#%%\n"
    }
   }
  },
  {
   "cell_type": "code",
   "execution_count": 81,
   "outputs": [
    {
     "data": {
      "text/plain": "                   country       acc\n0            United States  0.804163\n1                Argentina  0.739394\n2             South Africa  0.836735\n3                    Spain  0.733524\n4                   Mexico  0.684932\n5           United Kingdom  0.708804\n6                   Poland  0.703125\n7                   Russia  0.657738\n8                   Brazil  0.796143\n9                   France  0.775934\n10                 Germany  0.696281\n11                 Romania  0.693333\n12                   India  0.917647\n13                   Italy  0.663842\n14                 Ukraine  0.637168\n15                   Japan  0.815844\n16                   China  0.756757\n17                 Belgium  0.733945\n18                 Czechia  0.750000\n19                 Austria  0.778846\n20                  Sweden  0.675824\n21                    Iran  0.833333\n22             Netherlands  0.725610\n23                 Hungary  0.602410\n24                  Serbia  0.743243\n25                Portugal  0.758621\n26                  Turkey  0.833333\n27                  Norway  0.707547\n28                  Israel  0.791667\n29                  Canada  0.693467\n30                 Ireland  0.759259\n31                 Finland  0.613333\n32  Bosnia and Herzegovina  0.745098\n33             South Korea  0.632812\n34                 Uruguay  0.865385\n35             Switzerland  0.752688\n36                  Greece  0.823529\n37                 Croatia  0.795181\n38               Australia  0.579710\n39                 Denmark  0.700000",
      "text/html": "<div>\n<style scoped>\n    .dataframe tbody tr th:only-of-type {\n        vertical-align: middle;\n    }\n\n    .dataframe tbody tr th {\n        vertical-align: top;\n    }\n\n    .dataframe thead th {\n        text-align: right;\n    }\n</style>\n<table border=\"1\" class=\"dataframe\">\n  <thead>\n    <tr style=\"text-align: right;\">\n      <th></th>\n      <th>country</th>\n      <th>acc</th>\n    </tr>\n  </thead>\n  <tbody>\n    <tr>\n      <th>0</th>\n      <td>United States</td>\n      <td>0.804163</td>\n    </tr>\n    <tr>\n      <th>1</th>\n      <td>Argentina</td>\n      <td>0.739394</td>\n    </tr>\n    <tr>\n      <th>2</th>\n      <td>South Africa</td>\n      <td>0.836735</td>\n    </tr>\n    <tr>\n      <th>3</th>\n      <td>Spain</td>\n      <td>0.733524</td>\n    </tr>\n    <tr>\n      <th>4</th>\n      <td>Mexico</td>\n      <td>0.684932</td>\n    </tr>\n    <tr>\n      <th>5</th>\n      <td>United Kingdom</td>\n      <td>0.708804</td>\n    </tr>\n    <tr>\n      <th>6</th>\n      <td>Poland</td>\n      <td>0.703125</td>\n    </tr>\n    <tr>\n      <th>7</th>\n      <td>Russia</td>\n      <td>0.657738</td>\n    </tr>\n    <tr>\n      <th>8</th>\n      <td>Brazil</td>\n      <td>0.796143</td>\n    </tr>\n    <tr>\n      <th>9</th>\n      <td>France</td>\n      <td>0.775934</td>\n    </tr>\n    <tr>\n      <th>10</th>\n      <td>Germany</td>\n      <td>0.696281</td>\n    </tr>\n    <tr>\n      <th>11</th>\n      <td>Romania</td>\n      <td>0.693333</td>\n    </tr>\n    <tr>\n      <th>12</th>\n      <td>India</td>\n      <td>0.917647</td>\n    </tr>\n    <tr>\n      <th>13</th>\n      <td>Italy</td>\n      <td>0.663842</td>\n    </tr>\n    <tr>\n      <th>14</th>\n      <td>Ukraine</td>\n      <td>0.637168</td>\n    </tr>\n    <tr>\n      <th>15</th>\n      <td>Japan</td>\n      <td>0.815844</td>\n    </tr>\n    <tr>\n      <th>16</th>\n      <td>China</td>\n      <td>0.756757</td>\n    </tr>\n    <tr>\n      <th>17</th>\n      <td>Belgium</td>\n      <td>0.733945</td>\n    </tr>\n    <tr>\n      <th>18</th>\n      <td>Czechia</td>\n      <td>0.750000</td>\n    </tr>\n    <tr>\n      <th>19</th>\n      <td>Austria</td>\n      <td>0.778846</td>\n    </tr>\n    <tr>\n      <th>20</th>\n      <td>Sweden</td>\n      <td>0.675824</td>\n    </tr>\n    <tr>\n      <th>21</th>\n      <td>Iran</td>\n      <td>0.833333</td>\n    </tr>\n    <tr>\n      <th>22</th>\n      <td>Netherlands</td>\n      <td>0.725610</td>\n    </tr>\n    <tr>\n      <th>23</th>\n      <td>Hungary</td>\n      <td>0.602410</td>\n    </tr>\n    <tr>\n      <th>24</th>\n      <td>Serbia</td>\n      <td>0.743243</td>\n    </tr>\n    <tr>\n      <th>25</th>\n      <td>Portugal</td>\n      <td>0.758621</td>\n    </tr>\n    <tr>\n      <th>26</th>\n      <td>Turkey</td>\n      <td>0.833333</td>\n    </tr>\n    <tr>\n      <th>27</th>\n      <td>Norway</td>\n      <td>0.707547</td>\n    </tr>\n    <tr>\n      <th>28</th>\n      <td>Israel</td>\n      <td>0.791667</td>\n    </tr>\n    <tr>\n      <th>29</th>\n      <td>Canada</td>\n      <td>0.693467</td>\n    </tr>\n    <tr>\n      <th>30</th>\n      <td>Ireland</td>\n      <td>0.759259</td>\n    </tr>\n    <tr>\n      <th>31</th>\n      <td>Finland</td>\n      <td>0.613333</td>\n    </tr>\n    <tr>\n      <th>32</th>\n      <td>Bosnia and Herzegovina</td>\n      <td>0.745098</td>\n    </tr>\n    <tr>\n      <th>33</th>\n      <td>South Korea</td>\n      <td>0.632812</td>\n    </tr>\n    <tr>\n      <th>34</th>\n      <td>Uruguay</td>\n      <td>0.865385</td>\n    </tr>\n    <tr>\n      <th>35</th>\n      <td>Switzerland</td>\n      <td>0.752688</td>\n    </tr>\n    <tr>\n      <th>36</th>\n      <td>Greece</td>\n      <td>0.823529</td>\n    </tr>\n    <tr>\n      <th>37</th>\n      <td>Croatia</td>\n      <td>0.795181</td>\n    </tr>\n    <tr>\n      <th>38</th>\n      <td>Australia</td>\n      <td>0.579710</td>\n    </tr>\n    <tr>\n      <th>39</th>\n      <td>Denmark</td>\n      <td>0.700000</td>\n    </tr>\n  </tbody>\n</table>\n</div>"
     },
     "execution_count": 81,
     "metadata": {},
     "output_type": "execute_result"
    }
   ],
   "source": [
    "acc = []\n",
    "for country in country_list:\n",
    "    data = wiki_famous[wiki_famous.bplace_country == country][['gender', 'birthyear', 'dayofyear', 'is_athlete']]\n",
    "    data = data.dropna()\n",
    "\n",
    "    X = data[['gender', 'birthyear', 'dayofyear']].copy()\n",
    "    X.loc[:,['gender']] = X.gender.apply(lambda x : 1 if x == 'M' else 0)\n",
    "    Y = data['is_athlete'].copy()\n",
    "    X_train, X_test, Y_train, Y_test = train_test_split(X, Y, test_size=0.2, random_state=42)\n",
    "\n",
    "\n",
    "    clf = RandomForestClassifier()\n",
    "    clf.fit(X_train, Y_train)\n",
    "    Y_predict = clf.predict(X_test)\n",
    "    acc.append(accuracy_score(Y_test, Y_predict))\n",
    "\n",
    "\n",
    "acc = pd.DataFrame({'country': wiki_famous.bplace_country.unique(), 'acc': acc}, columns=['country', 'acc'])\n",
    "acc"
   ],
   "metadata": {
    "collapsed": false,
    "pycharm": {
     "name": "#%%\n"
    }
   }
  },
  {
   "cell_type": "markdown",
   "source": [
    "### 5.7 Discuss: according to this analysis, in which other countries might you be able to use the date of birth to recruit good athletes? Justify."
   ],
   "metadata": {
    "collapsed": false,
    "pycharm": {
     "name": "#%% md\n"
    }
   }
  },
  {
   "cell_type": "code",
   "execution_count": 82,
   "outputs": [
    {
     "data": {
      "text/plain": "[<matplotlib.lines.Line2D at 0x7fa3e5ae0b20>]"
     },
     "execution_count": 82,
     "metadata": {},
     "output_type": "execute_result"
    },
    {
     "data": {
      "text/plain": "<Figure size 432x288 with 1 Axes>",
      "image/png": "[encoded data removed]"
     },
     "metadata": {},
     "output_type": "display_data"
    }
   ],
   "source": [
    "plt.plot(acc.acc)\n",
    "plt.plot(percentage_each_country.percentage)"
   ],
   "metadata": {
    "collapsed": false,
    "pycharm": {
     "name": "#%%\n"
    }
   }
  },
  {
   "cell_type": "markdown",
   "source": [
    "answer: In the countries whose percentage of athletes is high."
   ],
   "metadata": {
    "collapsed": false,
    "pycharm": {
     "name": "#%% md\n"
    }
   }
  },
  {
   "cell_type": "code",
   "execution_count": null,
   "outputs": [],
   "source": [],
   "metadata": {
    "collapsed": false,
    "pycharm": {
     "name": "#%%\n"
    }
   }
  }
 ],
 "metadata": {
  "kernelspec": {
   "display_name": "Python 3 (ipykernel)",
   "language": "python",
   "name": "python3"
  },
  "language_info": {
   "codemirror_mode": {
    "name": "ipython",
    "version": 3
   },
   "file_extension": ".py",
   "mimetype": "text/x-python",
   "name": "python",
   "nbconvert_exporter": "python",
   "pygments_lexer": "ipython3",
   "version": "3.8.12"
  }
 },
 "nbformat": 4,
 "nbformat_minor": 5
}