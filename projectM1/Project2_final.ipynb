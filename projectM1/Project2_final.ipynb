{
 "cells": [
  {
   "cell_type": "markdown",
   "source": [
    "# Project M2 (rename it)"
   ],
   "metadata": {
    "collapsed": false,
    "pycharm": {
     "name": "#%% md\n"
    }
   }
  },
  {
   "cell_type": "markdown",
   "source": [
    "First we import the needed libraries"
   ],
   "metadata": {
    "collapsed": false,
    "pycharm": {
     "name": "#%% md\n"
    }
   }
  },
  {
   "cell_type": "code",
   "execution_count": 1,
   "outputs": [],
   "source": [
    "import pandas as pd\n",
    "import numpy as np\n",
    "import matplotlib.pyplot as plt\n",
    "import seaborn as sns\n",
    "import datetime\n",
    "\n",
    "sns.set_style(\"darkgrid\")\n",
    "%matplotlib inline\n",
    "\n",
    "#load the statistical libraries\n",
    "from scipy import stats\n",
    "\n",
    "from sklearn.linear_model import LinearRegression, LogisticRegression, Ridge\n",
    "# from sklearn.preprocessing import OneHotEncoder\n",
    "# from pandas.plotting import scatter_matrix\n",
    "from sklearn.neighbors import KNeighborsClassifier\n",
    "from sklearn.model_selection import cross_val_predict\n",
    "from sklearn.model_selection import cross_val_score\n",
    "from sklearn.metrics import mean_squared_error, auc, roc_curve\n",
    "from statsmodels.stats import diagnostic\n",
    "from scipy import stats\n",
    "import statsmodels.api as sm\n",
    "import statsmodels.formula.api as smf\n",
    "\n",
    "from ipywidgets import interact\n",
    "from IPython.display import HTML,Javascript, display\n",
    "from sklearn import preprocessing"
   ],
   "metadata": {
    "collapsed": false,
    "pycharm": {
     "name": "#%%\n"
    }
   }
  },
  {
   "cell_type": "markdown",
   "source": [
    "## Data preprocessing\n",
    "In this project, we will investigate in to two beer rating datasets, BeerAdvocate and RateBeer. Both datasets contain ```user```, ```brewery```, ```beeer``` and ```rating```."
   ],
   "metadata": {
    "collapsed": false,
    "pycharm": {
     "name": "#%% md\n"
    }
   }
  },
  {
   "cell_type": "markdown",
   "source": [
    "##### Note of rating files\n",
    "Since the **rating** files are txt files of about several gigabytes in size, we cannot handle it simultaneously. Therefore, we **sliced** them to several small pieces and then **combined** them into '.csv' files.\n",
    "\n",
    "The slicing process is extremely time-consuming, thus we won't put the code here. The method is just parsing the file line by line and add some number restrictions for each bulk. And transfer the '.txt' file to '.csv' file.\n",
    "\n",
    "We also filtered out the beer data which has less than 120 ratings. In this way each beer has enough rating for data analysis.**Add Why**\n",
    "\n",
    "We put the processed rating data in the same directory as this ipython notebook and name them as **after_pro_data_ba.csv** and **after_pro_data_rb.csv** for **BeerAdvocate** and **RateBeer** respectively."
   ],
   "metadata": {
    "collapsed": false,
    "pycharm": {
     "name": "#%% md\n"
    }
   }
  },
  {
   "cell_type": "markdown",
   "source": [
    "### Handle the missing value and initial data filtering"
   ],
   "metadata": {
    "collapsed": false,
    "pycharm": {
     "name": "#%% md\n"
    }
   }
  },
  {
   "cell_type": "markdown",
   "source": [
    "#### BeerAdvocate"
   ],
   "metadata": {
    "collapsed": false,
    "pycharm": {
     "name": "#%% md\n"
    }
   }
  },
  {
   "cell_type": "code",
   "execution_count": 2,
   "outputs": [
    {
     "name": "stdout",
     "output_type": "stream",
     "text": [
      "Currently, there are 247982 ratings on BeerAdvocate website\n"
     ]
    },
    {
     "data": {
      "text/plain": "       beer_name  beer_id                               brewery_name  \\\n0          Régab   142544  Societe des Brasseries du Gabon (SOBRAGA)   \n1  Barelegs Brew    19590       Strangford Lough Brewing Company Ltd   \n2  Barelegs Brew    19590       Strangford Lough Brewing Company Ltd   \n3  Barelegs Brew    19590       Strangford Lough Brewing Company Ltd   \n4  Barelegs Brew    19590       Strangford Lough Brewing Company Ltd   \n\n   brewery_id             style  abv        date        user_name  \\\n0       37262   Euro Pale Lager  4.5  1440064800          nmann08   \n1       10093  English Pale Ale  4.5  1235127600      StJamesGate   \n2       10093  English Pale Ale  4.5  1142247600          mdagnew   \n3       10093  English Pale Ale  4.5  1101898800  helloloser12345   \n4       10093  English Pale Ale  4.5  1093860000       cypressbob   \n\n                 user_id  appearance  aroma  palate  taste  overall  rating  \\\n0         nmann08.184925        3.25   2.75    3.25   2.75      3.0    2.88   \n1     stjamesgate.163714        3.00   3.50    3.50   4.00      3.5    3.67   \n2          mdagnew.19527        4.00   3.50    3.50   4.00      3.5    3.73   \n3  helloloser12345.10867        4.00   3.50    4.00   4.00      4.5    3.98   \n4        cypressbob.3708        4.00   4.00    4.00   4.00      4.0    4.00   \n\n                                                text  review  \n0  From a bottle, pours a piss yellow color with ...    True  \n1  Pours pale copper with a thin head that quickl...    True  \n2  500ml Bottle bought from The Vintage, Antrim.....    True  \n3                                            Serving    True  \n4  500ml bottlePours with a light, slightly hazy ...    True  ",
      "text/html": "<div>\n<style scoped>\n    .dataframe tbody tr th:only-of-type {\n        vertical-align: middle;\n    }\n\n    .dataframe tbody tr th {\n        vertical-align: top;\n    }\n\n    .dataframe thead th {\n        text-align: right;\n    }\n</style>\n<table border=\"1\" class=\"dataframe\">\n  <thead>\n    <tr style=\"text-align: right;\">\n      <th></th>\n      <th>beer_name</th>\n      <th>beer_id</th>\n      <th>brewery_name</th>\n      <th>brewery_id</th>\n      <th>style</th>\n      <th>abv</th>\n      <th>date</th>\n      <th>user_name</th>\n      <th>user_id</th>\n      <th>appearance</th>\n      <th>aroma</th>\n      <th>palate</th>\n      <th>taste</th>\n      <th>overall</th>\n      <th>rating</th>\n      <th>text</th>\n      <th>review</th>\n    </tr>\n  </thead>\n  <tbody>\n    <tr>\n      <th>0</th>\n      <td>Régab</td>\n      <td>142544</td>\n      <td>Societe des Brasseries du Gabon (SOBRAGA)</td>\n      <td>37262</td>\n      <td>Euro Pale Lager</td>\n      <td>4.5</td>\n      <td>1440064800</td>\n      <td>nmann08</td>\n      <td>nmann08.184925</td>\n      <td>3.25</td>\n      <td>2.75</td>\n      <td>3.25</td>\n      <td>2.75</td>\n      <td>3.0</td>\n      <td>2.88</td>\n      <td>From a bottle, pours a piss yellow color with ...</td>\n      <td>True</td>\n    </tr>\n    <tr>\n      <th>1</th>\n      <td>Barelegs Brew</td>\n      <td>19590</td>\n      <td>Strangford Lough Brewing Company Ltd</td>\n      <td>10093</td>\n      <td>English Pale Ale</td>\n      <td>4.5</td>\n      <td>1235127600</td>\n      <td>StJamesGate</td>\n      <td>stjamesgate.163714</td>\n      <td>3.00</td>\n      <td>3.50</td>\n      <td>3.50</td>\n      <td>4.00</td>\n      <td>3.5</td>\n      <td>3.67</td>\n      <td>Pours pale copper with a thin head that quickl...</td>\n      <td>True</td>\n    </tr>\n    <tr>\n      <th>2</th>\n      <td>Barelegs Brew</td>\n      <td>19590</td>\n      <td>Strangford Lough Brewing Company Ltd</td>\n      <td>10093</td>\n      <td>English Pale Ale</td>\n      <td>4.5</td>\n      <td>1142247600</td>\n      <td>mdagnew</td>\n      <td>mdagnew.19527</td>\n      <td>4.00</td>\n      <td>3.50</td>\n      <td>3.50</td>\n      <td>4.00</td>\n      <td>3.5</td>\n      <td>3.73</td>\n      <td>500ml Bottle bought from The Vintage, Antrim.....</td>\n      <td>True</td>\n    </tr>\n    <tr>\n      <th>3</th>\n      <td>Barelegs Brew</td>\n      <td>19590</td>\n      <td>Strangford Lough Brewing Company Ltd</td>\n      <td>10093</td>\n      <td>English Pale Ale</td>\n      <td>4.5</td>\n      <td>1101898800</td>\n      <td>helloloser12345</td>\n      <td>helloloser12345.10867</td>\n      <td>4.00</td>\n      <td>3.50</td>\n      <td>4.00</td>\n      <td>4.00</td>\n      <td>4.5</td>\n      <td>3.98</td>\n      <td>Serving</td>\n      <td>True</td>\n    </tr>\n    <tr>\n      <th>4</th>\n      <td>Barelegs Brew</td>\n      <td>19590</td>\n      <td>Strangford Lough Brewing Company Ltd</td>\n      <td>10093</td>\n      <td>English Pale Ale</td>\n      <td>4.5</td>\n      <td>1093860000</td>\n      <td>cypressbob</td>\n      <td>cypressbob.3708</td>\n      <td>4.00</td>\n      <td>4.00</td>\n      <td>4.00</td>\n      <td>4.00</td>\n      <td>4.0</td>\n      <td>4.00</td>\n      <td>500ml bottlePours with a light, slightly hazy ...</td>\n      <td>True</td>\n    </tr>\n  </tbody>\n</table>\n</div>"
     },
     "execution_count": 2,
     "metadata": {},
     "output_type": "execute_result"
    }
   ],
   "source": [
    "# Load ratings data from BeerAdvocate\n",
    "df_rating_ba = pd.read_csv('after_pro_data_ba.csv')\n",
    "df_rating_ba = df_rating_ba.drop(columns=['Unnamed: 0'])\n",
    "print(f'Currently, there are {len(df_rating_ba)} ratings on BeerAdvocate website')\n",
    "df_rating_ba.head()"
   ],
   "metadata": {
    "collapsed": false,
    "pycharm": {
     "name": "#%%\n"
    }
   }
  },
  {
   "cell_type": "code",
   "execution_count": 3,
   "outputs": [
    {
     "name": "stdout",
     "output_type": "stream",
     "text": [
      "There are 94879 rows have NAN values in BeerAdvocate\n",
      "There are 94879 rows with 5 NAN values in BeerAdvocate\n"
     ]
    },
    {
     "data": {
      "text/plain": "count    94879.000000\nmean         3.562944\nstd          0.804304\nmin          1.000000\n25%          3.000000\n50%          3.750000\n75%          4.000000\nmax          5.000000\nName: rating, dtype: float64"
     },
     "execution_count": 3,
     "metadata": {},
     "output_type": "execute_result"
    }
   ],
   "source": [
    "# The scoring attribute\n",
    "column_ = ['appearance', 'aroma', 'palate', 'taste', 'overall']\n",
    "print(f'There are {df_rating_ba [column_].isna().any(axis = 1).value_counts()[1]} rows have NAN values in BeerAdvocate')\n",
    "print(f'There are {np.sum(df_rating_ba [column_].isna().sum(axis = 1)==5)} rows with 5 NAN values in BeerAdvocate')\n",
    "compare_ba = df_rating_ba[df_rating_ba[column_].isna().any(axis = 1)]\n",
    "compare_ba['rating'].describe()"
   ],
   "metadata": {
    "collapsed": false,
    "pycharm": {
     "name": "#%%\n"
    }
   }
  },
  {
   "cell_type": "markdown",
   "source": [
    "Here we found if there is no overall score, there wouldn't be detailed scores about one beer. We also check the website manually, and found that we should rate the appearance, aroma, palate, taste, overall together.\n",
    "However, these data all have the rating values. We don't think that these data are useful since we want to find some relationship of the detailed score to the rating and other perspectives. And since we will still have very large amout data after deleting them, we will just simply delete them."
   ],
   "metadata": {
    "collapsed": false,
    "pycharm": {
     "name": "#%% md\n"
    }
   }
  },
  {
   "cell_type": "code",
   "execution_count": 4,
   "outputs": [
    {
     "data": {
      "text/plain": "(153103, 17)"
     },
     "execution_count": 4,
     "metadata": {},
     "output_type": "execute_result"
    }
   ],
   "source": [
    "#Delete all meaninigless lines\n",
    "df_rating_ba = df_rating_ba[~df_rating_ba[column_].isna().any(axis = 1)]\n",
    "df_rating_ba.shape"
   ],
   "metadata": {
    "collapsed": false,
    "pycharm": {
     "name": "#%%\n"
    }
   }
  },
  {
   "cell_type": "markdown",
   "source": [
    "The user_id in BeerAdvocate rating dataset are composed of both of name and id we want to keep the numeric id for simplicity."
   ],
   "metadata": {
    "collapsed": false,
    "pycharm": {
     "name": "#%% md\n"
    }
   }
  },
  {
   "cell_type": "code",
   "execution_count": 5,
   "outputs": [
    {
     "data": {
      "text/plain": "       beer_name  beer_id                               brewery_name  \\\n0          Régab   142544  Societe des Brasseries du Gabon (SOBRAGA)   \n1  Barelegs Brew    19590       Strangford Lough Brewing Company Ltd   \n2  Barelegs Brew    19590       Strangford Lough Brewing Company Ltd   \n3  Barelegs Brew    19590       Strangford Lough Brewing Company Ltd   \n4  Barelegs Brew    19590       Strangford Lough Brewing Company Ltd   \n\n   brewery_id             style  abv        date        user_name user_id  \\\n0       37262   Euro Pale Lager  4.5  1440064800          nmann08  184925   \n1       10093  English Pale Ale  4.5  1235127600      StJamesGate  163714   \n2       10093  English Pale Ale  4.5  1142247600          mdagnew   19527   \n3       10093  English Pale Ale  4.5  1101898800  helloloser12345   10867   \n4       10093  English Pale Ale  4.5  1093860000       cypressbob    3708   \n\n   appearance  aroma  palate  taste  overall  rating  \\\n0        3.25   2.75    3.25   2.75      3.0    2.88   \n1        3.00   3.50    3.50   4.00      3.5    3.67   \n2        4.00   3.50    3.50   4.00      3.5    3.73   \n3        4.00   3.50    4.00   4.00      4.5    3.98   \n4        4.00   4.00    4.00   4.00      4.0    4.00   \n\n                                                text  review  \n0  From a bottle, pours a piss yellow color with ...    True  \n1  Pours pale copper with a thin head that quickl...    True  \n2  500ml Bottle bought from The Vintage, Antrim.....    True  \n3                                            Serving    True  \n4  500ml bottlePours with a light, slightly hazy ...    True  ",
      "text/html": "<div>\n<style scoped>\n    .dataframe tbody tr th:only-of-type {\n        vertical-align: middle;\n    }\n\n    .dataframe tbody tr th {\n        vertical-align: top;\n    }\n\n    .dataframe thead th {\n        text-align: right;\n    }\n</style>\n<table border=\"1\" class=\"dataframe\">\n  <thead>\n    <tr style=\"text-align: right;\">\n      <th></th>\n      <th>beer_name</th>\n      <th>beer_id</th>\n      <th>brewery_name</th>\n      <th>brewery_id</th>\n      <th>style</th>\n      <th>abv</th>\n      <th>date</th>\n      <th>user_name</th>\n      <th>user_id</th>\n      <th>appearance</th>\n      <th>aroma</th>\n      <th>palate</th>\n      <th>taste</th>\n      <th>overall</th>\n      <th>rating</th>\n      <th>text</th>\n      <th>review</th>\n    </tr>\n  </thead>\n  <tbody>\n    <tr>\n      <th>0</th>\n      <td>Régab</td>\n      <td>142544</td>\n      <td>Societe des Brasseries du Gabon (SOBRAGA)</td>\n      <td>37262</td>\n      <td>Euro Pale Lager</td>\n      <td>4.5</td>\n      <td>1440064800</td>\n      <td>nmann08</td>\n      <td>184925</td>\n      <td>3.25</td>\n      <td>2.75</td>\n      <td>3.25</td>\n      <td>2.75</td>\n      <td>3.0</td>\n      <td>2.88</td>\n      <td>From a bottle, pours a piss yellow color with ...</td>\n      <td>True</td>\n    </tr>\n    <tr>\n      <th>1</th>\n      <td>Barelegs Brew</td>\n      <td>19590</td>\n      <td>Strangford Lough Brewing Company Ltd</td>\n      <td>10093</td>\n      <td>English Pale Ale</td>\n      <td>4.5</td>\n      <td>1235127600</td>\n      <td>StJamesGate</td>\n      <td>163714</td>\n      <td>3.00</td>\n      <td>3.50</td>\n      <td>3.50</td>\n      <td>4.00</td>\n      <td>3.5</td>\n      <td>3.67</td>\n      <td>Pours pale copper with a thin head that quickl...</td>\n      <td>True</td>\n    </tr>\n    <tr>\n      <th>2</th>\n      <td>Barelegs Brew</td>\n      <td>19590</td>\n      <td>Strangford Lough Brewing Company Ltd</td>\n      <td>10093</td>\n      <td>English Pale Ale</td>\n      <td>4.5</td>\n      <td>1142247600</td>\n      <td>mdagnew</td>\n      <td>19527</td>\n      <td>4.00</td>\n      <td>3.50</td>\n      <td>3.50</td>\n      <td>4.00</td>\n      <td>3.5</td>\n      <td>3.73</td>\n      <td>500ml Bottle bought from The Vintage, Antrim.....</td>\n      <td>True</td>\n    </tr>\n    <tr>\n      <th>3</th>\n      <td>Barelegs Brew</td>\n      <td>19590</td>\n      <td>Strangford Lough Brewing Company Ltd</td>\n      <td>10093</td>\n      <td>English Pale Ale</td>\n      <td>4.5</td>\n      <td>1101898800</td>\n      <td>helloloser12345</td>\n      <td>10867</td>\n      <td>4.00</td>\n      <td>3.50</td>\n      <td>4.00</td>\n      <td>4.00</td>\n      <td>4.5</td>\n      <td>3.98</td>\n      <td>Serving</td>\n      <td>True</td>\n    </tr>\n    <tr>\n      <th>4</th>\n      <td>Barelegs Brew</td>\n      <td>19590</td>\n      <td>Strangford Lough Brewing Company Ltd</td>\n      <td>10093</td>\n      <td>English Pale Ale</td>\n      <td>4.5</td>\n      <td>1093860000</td>\n      <td>cypressbob</td>\n      <td>3708</td>\n      <td>4.00</td>\n      <td>4.00</td>\n      <td>4.00</td>\n      <td>4.00</td>\n      <td>4.0</td>\n      <td>4.00</td>\n      <td>500ml bottlePours with a light, slightly hazy ...</td>\n      <td>True</td>\n    </tr>\n  </tbody>\n</table>\n</div>"
     },
     "execution_count": 5,
     "metadata": {},
     "output_type": "execute_result"
    }
   ],
   "source": [
    "#spilt the user_id in BeerAdvocate\n",
    "def str_split(data):\n",
    "    return data.split('.')[1]\n",
    "df_rating_ba['user_id'] = df_rating_ba['user_id'].apply(str_split)\n",
    "df_rating_ba.head()"
   ],
   "metadata": {
    "collapsed": false,
    "pycharm": {
     "name": "#%%\n"
    }
   }
  },
  {
   "cell_type": "markdown",
   "source": [
    "#### RateBeer\n",
    "We will do the similar process to the RateBeer dataset."
   ],
   "metadata": {
    "collapsed": false,
    "pycharm": {
     "name": "#%% md\n"
    }
   }
  },
  {
   "cell_type": "code",
   "execution_count": 7,
   "outputs": [
    {
     "name": "stdout",
     "output_type": "stream",
     "text": [
      "Currently, there are 396690 ratings on RateBeer website\n"
     ]
    },
    {
     "data": {
      "text/plain": "             beer_name  beer_id brewery_name  brewery_id       style  abv  \\\n0    33 Export (Gabon)   410549      Sobraga        3198  Pale Lager  5.0   \n1  Castel Beer (Gabon)   105273      Sobraga        3198  Pale Lager  5.2   \n2  Castel Beer (Gabon)   105273      Sobraga        3198  Pale Lager  5.2   \n3  Castel Beer (Gabon)   105273      Sobraga        3198  Pale Lager  5.2   \n4  Castel Beer (Gabon)   105273      Sobraga        3198  Pale Lager  5.2   \n\n         date     user_name  user_id  appearance  aroma  palate  taste  \\\n0  1461664800       Manslow   175852           2      4       2      4   \n1  1487329200  MAGICuenca91   442761           2      3       2      4   \n2  1466762400        Sibarh   288889           3      3       2      3   \n3  1451646000       fombe89   250510           4      3       1      2   \n4  1445594400    kevnic2008   122778           2      4       2      4   \n\n   overall  rating                                               text  \n0        8     2.0  Puszka 0,33l dzięki Christoph . Kolor jasnozło...  \n1        8     1.9  Cerveza pale lager gabonesa. MÃ¡s floja que la...  \n2        5     1.6  Kolor- złoty, klarowny. Piana - drobna, średni...  \n3        5     1.5  Botella, de GabÃ³n regalo familiar.31/01/2015C...  \n4        7     1.9  Many thanks for this beer to Erzengel. Pours l...  ",
      "text/html": "<div>\n<style scoped>\n    .dataframe tbody tr th:only-of-type {\n        vertical-align: middle;\n    }\n\n    .dataframe tbody tr th {\n        vertical-align: top;\n    }\n\n    .dataframe thead th {\n        text-align: right;\n    }\n</style>\n<table border=\"1\" class=\"dataframe\">\n  <thead>\n    <tr style=\"text-align: right;\">\n      <th></th>\n      <th>beer_name</th>\n      <th>beer_id</th>\n      <th>brewery_name</th>\n      <th>brewery_id</th>\n      <th>style</th>\n      <th>abv</th>\n      <th>date</th>\n      <th>user_name</th>\n      <th>user_id</th>\n      <th>appearance</th>\n      <th>aroma</th>\n      <th>palate</th>\n      <th>taste</th>\n      <th>overall</th>\n      <th>rating</th>\n      <th>text</th>\n    </tr>\n  </thead>\n  <tbody>\n    <tr>\n      <th>0</th>\n      <td>33 Export (Gabon)</td>\n      <td>410549</td>\n      <td>Sobraga</td>\n      <td>3198</td>\n      <td>Pale Lager</td>\n      <td>5.0</td>\n      <td>1461664800</td>\n      <td>Manslow</td>\n      <td>175852</td>\n      <td>2</td>\n      <td>4</td>\n      <td>2</td>\n      <td>4</td>\n      <td>8</td>\n      <td>2.0</td>\n      <td>Puszka 0,33l dzięki Christoph . Kolor jasnozło...</td>\n    </tr>\n    <tr>\n      <th>1</th>\n      <td>Castel Beer (Gabon)</td>\n      <td>105273</td>\n      <td>Sobraga</td>\n      <td>3198</td>\n      <td>Pale Lager</td>\n      <td>5.2</td>\n      <td>1487329200</td>\n      <td>MAGICuenca91</td>\n      <td>442761</td>\n      <td>2</td>\n      <td>3</td>\n      <td>2</td>\n      <td>4</td>\n      <td>8</td>\n      <td>1.9</td>\n      <td>Cerveza pale lager gabonesa. MÃ¡s floja que la...</td>\n    </tr>\n    <tr>\n      <th>2</th>\n      <td>Castel Beer (Gabon)</td>\n      <td>105273</td>\n      <td>Sobraga</td>\n      <td>3198</td>\n      <td>Pale Lager</td>\n      <td>5.2</td>\n      <td>1466762400</td>\n      <td>Sibarh</td>\n      <td>288889</td>\n      <td>3</td>\n      <td>3</td>\n      <td>2</td>\n      <td>3</td>\n      <td>5</td>\n      <td>1.6</td>\n      <td>Kolor- złoty, klarowny. Piana - drobna, średni...</td>\n    </tr>\n    <tr>\n      <th>3</th>\n      <td>Castel Beer (Gabon)</td>\n      <td>105273</td>\n      <td>Sobraga</td>\n      <td>3198</td>\n      <td>Pale Lager</td>\n      <td>5.2</td>\n      <td>1451646000</td>\n      <td>fombe89</td>\n      <td>250510</td>\n      <td>4</td>\n      <td>3</td>\n      <td>1</td>\n      <td>2</td>\n      <td>5</td>\n      <td>1.5</td>\n      <td>Botella, de GabÃ³n regalo familiar.31/01/2015C...</td>\n    </tr>\n    <tr>\n      <th>4</th>\n      <td>Castel Beer (Gabon)</td>\n      <td>105273</td>\n      <td>Sobraga</td>\n      <td>3198</td>\n      <td>Pale Lager</td>\n      <td>5.2</td>\n      <td>1445594400</td>\n      <td>kevnic2008</td>\n      <td>122778</td>\n      <td>2</td>\n      <td>4</td>\n      <td>2</td>\n      <td>4</td>\n      <td>7</td>\n      <td>1.9</td>\n      <td>Many thanks for this beer to Erzengel. Pours l...</td>\n    </tr>\n  </tbody>\n</table>\n</div>"
     },
     "execution_count": 7,
     "metadata": {},
     "output_type": "execute_result"
    }
   ],
   "source": [
    "# Load rating data on RateBeer website\n",
    "df_rating_rb = pd.read_csv('after_pro_data_rb.csv')\n",
    "df_rating_rb = df_rating_rb.drop(columns=['Unnamed: 0'])\n",
    "print(f'Currently, there are {len(df_rating_rb)} ratings on RateBeer website')\n",
    "df_rating_rb.head()"
   ],
   "metadata": {
    "collapsed": false,
    "pycharm": {
     "name": "#%%\n"
    }
   }
  },
  {
   "cell_type": "code",
   "execution_count": 13,
   "outputs": [
    {
     "name": "stdout",
     "output_type": "stream",
     "text": [
      "Thera are 396690 rows don't have NAN value\n",
      "Thera are 0 rows with NAN value\n",
      "Since we don't have nan values we won't do the missing values handling here.\n"
     ]
    }
   ],
   "source": [
    "print(f\"Thera are {df_rating_rb[column_].isna().any(axis = 1).value_counts()[0]} rows don't have NAN value\")\n",
    "print(f'Thera are {np.sum(df_rating_rb [column_].isna().sum(axis = 1)==5)} rows with NAN value')\n",
    "compare_rb = df_rating_rb[df_rating_rb[column_].isna().any(axis = 1)]\n",
    "print(\"Since we don't have nan values we won't do the missing values handling here.\")"
   ],
   "metadata": {
    "collapsed": false,
    "pycharm": {
     "name": "#%%\n"
    }
   }
  },
  {
   "cell_type": "markdown",
   "source": [
    "### Datasets preparation and more filtering\n",
    "#### BeerAdvocate\n",
    "We first map the scale of each rating to 0-5 to make a consistency between the two datasets."
   ],
   "metadata": {
    "collapsed": false,
    "pycharm": {
     "name": "#%% md\n"
    }
   }
  },
  {
   "cell_type": "code",
   "execution_count": 14,
   "outputs": [
    {
     "data": {
      "text/plain": "       beer_name  beer_id                               brewery_name  \\\n0          Régab   142544  Societe des Brasseries du Gabon (SOBRAGA)   \n1  Barelegs Brew    19590       Strangford Lough Brewing Company Ltd   \n2  Barelegs Brew    19590       Strangford Lough Brewing Company Ltd   \n3  Barelegs Brew    19590       Strangford Lough Brewing Company Ltd   \n4  Barelegs Brew    19590       Strangford Lough Brewing Company Ltd   \n\n   brewery_id             style  abv        date        user_name user_id  \\\n0       37262   Euro Pale Lager  4.5  1440064800          nmann08  184925   \n1       10093  English Pale Ale  4.5  1235127600      StJamesGate  163714   \n2       10093  English Pale Ale  4.5  1142247600          mdagnew   19527   \n3       10093  English Pale Ale  4.5  1101898800  helloloser12345   10867   \n4       10093  English Pale Ale  4.5  1093860000       cypressbob    3708   \n\n   appearance   aroma  palate   taste  overall  rating  \\\n0      2.8125  2.1875  2.8125  2.1875    2.500  2.3500   \n1      2.5000  3.1250  3.1250  3.7500    3.125  3.3375   \n2      3.7500  3.1250  3.1250  3.7500    3.125  3.4125   \n3      3.7500  3.1250  3.7500  3.7500    4.375  3.7250   \n4      3.7500  3.7500  3.7500  3.7500    3.750  3.7500   \n\n                                                text  review  \n0  From a bottle, pours a piss yellow color with ...    True  \n1  Pours pale copper with a thin head that quickl...    True  \n2  500ml Bottle bought from The Vintage, Antrim.....    True  \n3                                            Serving    True  \n4  500ml bottlePours with a light, slightly hazy ...    True  ",
      "text/html": "<div>\n<style scoped>\n    .dataframe tbody tr th:only-of-type {\n        vertical-align: middle;\n    }\n\n    .dataframe tbody tr th {\n        vertical-align: top;\n    }\n\n    .dataframe thead th {\n        text-align: right;\n    }\n</style>\n<table border=\"1\" class=\"dataframe\">\n  <thead>\n    <tr style=\"text-align: right;\">\n      <th></th>\n      <th>beer_name</th>\n      <th>beer_id</th>\n      <th>brewery_name</th>\n      <th>brewery_id</th>\n      <th>style</th>\n      <th>abv</th>\n      <th>date</th>\n      <th>user_name</th>\n      <th>user_id</th>\n      <th>appearance</th>\n      <th>aroma</th>\n      <th>palate</th>\n      <th>taste</th>\n      <th>overall</th>\n      <th>rating</th>\n      <th>text</th>\n      <th>review</th>\n    </tr>\n  </thead>\n  <tbody>\n    <tr>\n      <th>0</th>\n      <td>Régab</td>\n      <td>142544</td>\n      <td>Societe des Brasseries du Gabon (SOBRAGA)</td>\n      <td>37262</td>\n      <td>Euro Pale Lager</td>\n      <td>4.5</td>\n      <td>1440064800</td>\n      <td>nmann08</td>\n      <td>184925</td>\n      <td>2.8125</td>\n      <td>2.1875</td>\n      <td>2.8125</td>\n      <td>2.1875</td>\n      <td>2.500</td>\n      <td>2.3500</td>\n      <td>From a bottle, pours a piss yellow color with ...</td>\n      <td>True</td>\n    </tr>\n    <tr>\n      <th>1</th>\n      <td>Barelegs Brew</td>\n      <td>19590</td>\n      <td>Strangford Lough Brewing Company Ltd</td>\n      <td>10093</td>\n      <td>English Pale Ale</td>\n      <td>4.5</td>\n      <td>1235127600</td>\n      <td>StJamesGate</td>\n      <td>163714</td>\n      <td>2.5000</td>\n      <td>3.1250</td>\n      <td>3.1250</td>\n      <td>3.7500</td>\n      <td>3.125</td>\n      <td>3.3375</td>\n      <td>Pours pale copper with a thin head that quickl...</td>\n      <td>True</td>\n    </tr>\n    <tr>\n      <th>2</th>\n      <td>Barelegs Brew</td>\n      <td>19590</td>\n      <td>Strangford Lough Brewing Company Ltd</td>\n      <td>10093</td>\n      <td>English Pale Ale</td>\n      <td>4.5</td>\n      <td>1142247600</td>\n      <td>mdagnew</td>\n      <td>19527</td>\n      <td>3.7500</td>\n      <td>3.1250</td>\n      <td>3.1250</td>\n      <td>3.7500</td>\n      <td>3.125</td>\n      <td>3.4125</td>\n      <td>500ml Bottle bought from The Vintage, Antrim.....</td>\n      <td>True</td>\n    </tr>\n    <tr>\n      <th>3</th>\n      <td>Barelegs Brew</td>\n      <td>19590</td>\n      <td>Strangford Lough Brewing Company Ltd</td>\n      <td>10093</td>\n      <td>English Pale Ale</td>\n      <td>4.5</td>\n      <td>1101898800</td>\n      <td>helloloser12345</td>\n      <td>10867</td>\n      <td>3.7500</td>\n      <td>3.1250</td>\n      <td>3.7500</td>\n      <td>3.7500</td>\n      <td>4.375</td>\n      <td>3.7250</td>\n      <td>Serving</td>\n      <td>True</td>\n    </tr>\n    <tr>\n      <th>4</th>\n      <td>Barelegs Brew</td>\n      <td>19590</td>\n      <td>Strangford Lough Brewing Company Ltd</td>\n      <td>10093</td>\n      <td>English Pale Ale</td>\n      <td>4.5</td>\n      <td>1093860000</td>\n      <td>cypressbob</td>\n      <td>3708</td>\n      <td>3.7500</td>\n      <td>3.7500</td>\n      <td>3.7500</td>\n      <td>3.7500</td>\n      <td>3.750</td>\n      <td>3.7500</td>\n      <td>500ml bottlePours with a light, slightly hazy ...</td>\n      <td>True</td>\n    </tr>\n  </tbody>\n</table>\n</div>"
     },
     "execution_count": 14,
     "metadata": {},
     "output_type": "execute_result"
    }
   ],
   "source": [
    "column_list = ['appearance', 'aroma', 'palate', 'taste', 'overall','rating']\n",
    "list_value = df_rating_ba[column_list].values\n",
    "min_max_scaler = preprocessing.MinMaxScaler()\n",
    "list_value_scaler = min_max_scaler.fit_transform(list_value) * 5\n",
    "data_temp_ba = pd.DataFrame(list_value_scaler,columns=column_list,index = df_rating_ba.index)\n",
    "df_rating_ba[column_list] = data_temp_ba\n",
    "\n",
    "df_rating_ba.head()"
   ],
   "metadata": {
    "collapsed": false,
    "pycharm": {
     "name": "#%%\n"
    }
   }
  },
  {
   "cell_type": "markdown",
   "source": [
    "By doing some simple regression study we find there exist perfect linear relationship between 'overall', 'aroma', 'palate', 'taste', 'overall', 'rating'."
   ],
   "metadata": {
    "collapsed": false,
    "pycharm": {
     "name": "#%% md\n"
    }
   }
  },
  {
   "cell_type": "code",
   "execution_count": 17,
   "outputs": [
    {
     "name": "stdout",
     "output_type": "stream",
     "text": [
      "                            OLS Regression Results                            \n",
      "==============================================================================\n",
      "Dep. Variable:                 rating   R-squared:                       1.000\n",
      "Model:                            OLS   Adj. R-squared:                  1.000\n",
      "Method:                 Least Squares   F-statistic:                 3.509e+09\n",
      "Date:                Fri, 18 Nov 2022   Prob (F-statistic):               0.00\n",
      "Time:                        14:55:59   Log-Likelihood:             6.9712e+05\n",
      "No. Observations:              151191   AIC:                        -1.394e+06\n",
      "Df Residuals:                  151185   BIC:                        -1.394e+06\n",
      "Df Model:                           5                                         \n",
      "Covariance Type:            nonrobust                                         \n",
      "==============================================================================\n",
      "                 coef    std err          t      P>|t|      [0.025      0.975]\n",
      "------------------------------------------------------------------------------\n",
      "Intercept      0.0011   2.84e-05     37.828      0.000       0.001       0.001\n",
      "appearance     0.0600    1.1e-05   5428.156      0.000       0.060       0.060\n",
      "aroma          0.2401   1.18e-05   2.03e+04      0.000       0.240       0.240\n",
      "palate         0.1001   1.32e-05   7566.685      0.000       0.100       0.100\n",
      "taste          0.4001   1.58e-05   2.53e+04      0.000       0.400       0.400\n",
      "overall        0.1997   1.64e-05   1.21e+04      0.000       0.200       0.200\n",
      "==============================================================================\n",
      "Omnibus:                    37069.077   Durbin-Watson:                   1.536\n",
      "Prob(Omnibus):                  0.000   Jarque-Bera (JB):            71219.371\n",
      "Skew:                           1.643   Prob(JB):                         0.00\n",
      "Kurtosis:                       3.717   Cond. No.                         36.0\n",
      "==============================================================================\n",
      "\n",
      "Notes:\n",
      "[1] Standard Errors assume that the covariance matrix of the errors is correctly specified.\n",
      "The R-squared is 1.000 so it is of perfect linear relationship.\n"
     ]
    }
   ],
   "source": [
    "# Use linear regression to fit our data\n",
    "mod_ba = smf.ols(formula='rating ~appearance + aroma + palate + taste + overall',data = df_rating_ba)\n",
    "res_ba = mod_ba.fit()\n",
    "print(res_ba.summary())\n",
    "print(f'The R-squared is 1.000 so it is of perfect linear relationship.')"
   ],
   "metadata": {
    "collapsed": false,
    "pycharm": {
     "name": "#%%\n"
    }
   }
  },
  {
   "cell_type": "markdown",
   "source": [
    "We also find that there exists some ratings that the **overall** score exceeds the average of the other 4 features(can do this due to the perfect linear relationship). We consider this situation as invalid ratings. Because in common sense, if the detailed features of a beer is good/bad the overall will not be bad/good. And we set the difference threshold to 1.5(in scale of 5)."
   ],
   "metadata": {
    "collapsed": false,
    "pycharm": {
     "name": "#%% md\n"
    }
   }
  },
  {
   "cell_type": "code",
   "execution_count": 15,
   "outputs": [
    {
     "data": {
      "text/plain": "(151191, 17)"
     },
     "execution_count": 15,
     "metadata": {},
     "output_type": "execute_result"
    }
   ],
   "source": [
    "df_rating_ba['average'] = df_rating_ba[['appearance','aroma','palate','taste']].mean(axis = 1)\n",
    "df_rating_ba['diff'] = np.abs(df_rating_ba['overall']-df_rating_ba['average'])\n",
    "df_rating_ba = df_rating_ba[df_rating_ba['diff'] <1.5]\n",
    "df_rating_ba = df_rating_ba.drop(columns=['average','diff'])\n",
    "df_rating_ba.shape"
   ],
   "metadata": {
    "collapsed": false,
    "pycharm": {
     "name": "#%%\n"
    }
   }
  },
  {
   "cell_type": "code",
   "execution_count": 18,
   "outputs": [
    {
     "data": {
      "text/plain": "   nbr_ratings  nbr_reviews user_id        user_name        joined  \\\n0         7820          465  184925          nmann08  1.199704e+09   \n1         2521         2504  163714      StJamesGate  1.191838e+09   \n2         1797         1143   19527          mdagnew  1.116410e+09   \n3           31           31   10867  helloloser12345  1.101380e+09   \n4          604          604    3708       cypressbob  1.069326e+09   \n\n                    location  \n0  United States, Washington  \n1    United States, New York  \n2           Northern Ireland  \n3           Northern Ireland  \n4           Northern Ireland  ",
      "text/html": "<div>\n<style scoped>\n    .dataframe tbody tr th:only-of-type {\n        vertical-align: middle;\n    }\n\n    .dataframe tbody tr th {\n        vertical-align: top;\n    }\n\n    .dataframe thead th {\n        text-align: right;\n    }\n</style>\n<table border=\"1\" class=\"dataframe\">\n  <thead>\n    <tr style=\"text-align: right;\">\n      <th></th>\n      <th>nbr_ratings</th>\n      <th>nbr_reviews</th>\n      <th>user_id</th>\n      <th>user_name</th>\n      <th>joined</th>\n      <th>location</th>\n    </tr>\n  </thead>\n  <tbody>\n    <tr>\n      <th>0</th>\n      <td>7820</td>\n      <td>465</td>\n      <td>184925</td>\n      <td>nmann08</td>\n      <td>1.199704e+09</td>\n      <td>United States, Washington</td>\n    </tr>\n    <tr>\n      <th>1</th>\n      <td>2521</td>\n      <td>2504</td>\n      <td>163714</td>\n      <td>StJamesGate</td>\n      <td>1.191838e+09</td>\n      <td>United States, New York</td>\n    </tr>\n    <tr>\n      <th>2</th>\n      <td>1797</td>\n      <td>1143</td>\n      <td>19527</td>\n      <td>mdagnew</td>\n      <td>1.116410e+09</td>\n      <td>Northern Ireland</td>\n    </tr>\n    <tr>\n      <th>3</th>\n      <td>31</td>\n      <td>31</td>\n      <td>10867</td>\n      <td>helloloser12345</td>\n      <td>1.101380e+09</td>\n      <td>Northern Ireland</td>\n    </tr>\n    <tr>\n      <th>4</th>\n      <td>604</td>\n      <td>604</td>\n      <td>3708</td>\n      <td>cypressbob</td>\n      <td>1.069326e+09</td>\n      <td>Northern Ireland</td>\n    </tr>\n  </tbody>\n</table>\n</div>"
     },
     "execution_count": 18,
     "metadata": {},
     "output_type": "execute_result"
    }
   ],
   "source": [
    "# Load user data from BeerAdvocate\n",
    "df_user_ba = pd.read_csv('BeerAdvocate/users.csv')\n",
    "df_user_ba['user_id'] = df_user_ba['user_id'].apply(str_split)\n",
    "df_user_ba.head()"
   ],
   "metadata": {
    "collapsed": false,
    "pycharm": {
     "name": "#%%\n"
    }
   }
  },
  {
   "cell_type": "code",
   "execution_count": 19,
   "outputs": [
    {
     "data": {
      "text/plain": "   beer_id           beer_name  brewery_id            brewery_name  \\\n0   166064    Nashe Moskovskoe       39912  Abdysh-Ata (Абдыш Ата)   \n1   166065     Nashe Pivovskoe       39912  Abdysh-Ata (Абдыш Ата)   \n2   166066  Nashe Shakhterskoe       39912  Abdysh-Ata (Абдыш Ата)   \n3   166067  Nashe Zhigulevskoe       39912  Abdysh-Ata (Абдыш Ата)   \n4   166063              Zhivoe       39912  Abdysh-Ata (Абдыш Ата)   \n\n             style  nbr_ratings  nbr_reviews  avg  ba_score  bros_score  abv  \\\n0  Euro Pale Lager            0            0  NaN       NaN         NaN  4.7   \n1  Euro Pale Lager            0            0  NaN       NaN         NaN  3.8   \n2  Euro Pale Lager            0            0  NaN       NaN         NaN  4.8   \n3  Euro Pale Lager            0            0  NaN       NaN         NaN  4.0   \n4  Euro Pale Lager            0            0  NaN       NaN         NaN  4.5   \n\n   avg_computed  zscore  nbr_matched_valid_ratings  avg_matched_valid_ratings  \n0           NaN     NaN                          0                        NaN  \n1           NaN     NaN                          0                        NaN  \n2           NaN     NaN                          0                        NaN  \n3           NaN     NaN                          0                        NaN  \n4           NaN     NaN                          0                        NaN  ",
      "text/html": "<div>\n<style scoped>\n    .dataframe tbody tr th:only-of-type {\n        vertical-align: middle;\n    }\n\n    .dataframe tbody tr th {\n        vertical-align: top;\n    }\n\n    .dataframe thead th {\n        text-align: right;\n    }\n</style>\n<table border=\"1\" class=\"dataframe\">\n  <thead>\n    <tr style=\"text-align: right;\">\n      <th></th>\n      <th>beer_id</th>\n      <th>beer_name</th>\n      <th>brewery_id</th>\n      <th>brewery_name</th>\n      <th>style</th>\n      <th>nbr_ratings</th>\n      <th>nbr_reviews</th>\n      <th>avg</th>\n      <th>ba_score</th>\n      <th>bros_score</th>\n      <th>abv</th>\n      <th>avg_computed</th>\n      <th>zscore</th>\n      <th>nbr_matched_valid_ratings</th>\n      <th>avg_matched_valid_ratings</th>\n    </tr>\n  </thead>\n  <tbody>\n    <tr>\n      <th>0</th>\n      <td>166064</td>\n      <td>Nashe Moskovskoe</td>\n      <td>39912</td>\n      <td>Abdysh-Ata (Абдыш Ата)</td>\n      <td>Euro Pale Lager</td>\n      <td>0</td>\n      <td>0</td>\n      <td>NaN</td>\n      <td>NaN</td>\n      <td>NaN</td>\n      <td>4.7</td>\n      <td>NaN</td>\n      <td>NaN</td>\n      <td>0</td>\n      <td>NaN</td>\n    </tr>\n    <tr>\n      <th>1</th>\n      <td>166065</td>\n      <td>Nashe Pivovskoe</td>\n      <td>39912</td>\n      <td>Abdysh-Ata (Абдыш Ата)</td>\n      <td>Euro Pale Lager</td>\n      <td>0</td>\n      <td>0</td>\n      <td>NaN</td>\n      <td>NaN</td>\n      <td>NaN</td>\n      <td>3.8</td>\n      <td>NaN</td>\n      <td>NaN</td>\n      <td>0</td>\n      <td>NaN</td>\n    </tr>\n    <tr>\n      <th>2</th>\n      <td>166066</td>\n      <td>Nashe Shakhterskoe</td>\n      <td>39912</td>\n      <td>Abdysh-Ata (Абдыш Ата)</td>\n      <td>Euro Pale Lager</td>\n      <td>0</td>\n      <td>0</td>\n      <td>NaN</td>\n      <td>NaN</td>\n      <td>NaN</td>\n      <td>4.8</td>\n      <td>NaN</td>\n      <td>NaN</td>\n      <td>0</td>\n      <td>NaN</td>\n    </tr>\n    <tr>\n      <th>3</th>\n      <td>166067</td>\n      <td>Nashe Zhigulevskoe</td>\n      <td>39912</td>\n      <td>Abdysh-Ata (Абдыш Ата)</td>\n      <td>Euro Pale Lager</td>\n      <td>0</td>\n      <td>0</td>\n      <td>NaN</td>\n      <td>NaN</td>\n      <td>NaN</td>\n      <td>4.0</td>\n      <td>NaN</td>\n      <td>NaN</td>\n      <td>0</td>\n      <td>NaN</td>\n    </tr>\n    <tr>\n      <th>4</th>\n      <td>166063</td>\n      <td>Zhivoe</td>\n      <td>39912</td>\n      <td>Abdysh-Ata (Абдыш Ата)</td>\n      <td>Euro Pale Lager</td>\n      <td>0</td>\n      <td>0</td>\n      <td>NaN</td>\n      <td>NaN</td>\n      <td>NaN</td>\n      <td>4.5</td>\n      <td>NaN</td>\n      <td>NaN</td>\n      <td>0</td>\n      <td>NaN</td>\n    </tr>\n  </tbody>\n</table>\n</div>"
     },
     "execution_count": 19,
     "metadata": {},
     "output_type": "execute_result"
    }
   ],
   "source": [
    "# Load beer data from BeerAdvocate\n",
    "df_beer_ba = pd.read_csv('BeerAdvocate/beers.csv')\n",
    "df_beer_ba.head()"
   ],
   "metadata": {
    "collapsed": false,
    "pycharm": {
     "name": "#%%\n"
    }
   }
  },
  {
   "cell_type": "code",
   "execution_count": 20,
   "outputs": [
    {
     "data": {
      "text/plain": "      id    location                    name  nbr_beers\n0  39912  Kyrgyzstan  Abdysh-Ata (Абдыш Ата)          5\n1  39913  Kyrgyzstan             Arpa (АРПА)          1\n2  39914  Kyrgyzstan               Bear Beer          4\n3  39915  Kyrgyzstan             Blonder Pub          4\n4  39916  Kyrgyzstan            Kellers Bier          2",
      "text/html": "<div>\n<style scoped>\n    .dataframe tbody tr th:only-of-type {\n        vertical-align: middle;\n    }\n\n    .dataframe tbody tr th {\n        vertical-align: top;\n    }\n\n    .dataframe thead th {\n        text-align: right;\n    }\n</style>\n<table border=\"1\" class=\"dataframe\">\n  <thead>\n    <tr style=\"text-align: right;\">\n      <th></th>\n      <th>id</th>\n      <th>location</th>\n      <th>name</th>\n      <th>nbr_beers</th>\n    </tr>\n  </thead>\n  <tbody>\n    <tr>\n      <th>0</th>\n      <td>39912</td>\n      <td>Kyrgyzstan</td>\n      <td>Abdysh-Ata (Абдыш Ата)</td>\n      <td>5</td>\n    </tr>\n    <tr>\n      <th>1</th>\n      <td>39913</td>\n      <td>Kyrgyzstan</td>\n      <td>Arpa (АРПА)</td>\n      <td>1</td>\n    </tr>\n    <tr>\n      <th>2</th>\n      <td>39914</td>\n      <td>Kyrgyzstan</td>\n      <td>Bear Beer</td>\n      <td>4</td>\n    </tr>\n    <tr>\n      <th>3</th>\n      <td>39915</td>\n      <td>Kyrgyzstan</td>\n      <td>Blonder Pub</td>\n      <td>4</td>\n    </tr>\n    <tr>\n      <th>4</th>\n      <td>39916</td>\n      <td>Kyrgyzstan</td>\n      <td>Kellers Bier</td>\n      <td>2</td>\n    </tr>\n  </tbody>\n</table>\n</div>"
     },
     "execution_count": 20,
     "metadata": {},
     "output_type": "execute_result"
    }
   ],
   "source": [
    "# Load brewery data from BeerAdvocate\n",
    "df_brewery_ba = pd.read_csv('BeerAdvocate/breweries.csv')\n",
    "df_brewery_ba.head()"
   ],
   "metadata": {
    "collapsed": false,
    "pycharm": {
     "name": "#%%\n"
    }
   }
  },
  {
   "cell_type": "code",
   "execution_count": 21,
   "outputs": [],
   "source": [
    "# Merge data based on user id in order to get users' location\n",
    "#user_region = df_user_ba[['user_id', 'location']]\n",
    "region_ba = pd.merge(df_rating_ba, df_user_ba, how=\"left\", left_on='user_id', right_on='user_id')"
   ],
   "metadata": {
    "collapsed": false,
    "pycharm": {
     "name": "#%%\n"
    }
   }
  },
  {
   "cell_type": "code",
   "execution_count": 22,
   "outputs": [
    {
     "data": {
      "text/plain": "                         location  count\n0                         England  14843\n1                          Canada  12070\n2       United States, California   8621\n3         United States, New York   7868\n4     United States, Pennsylvania   7231\n5    United States, Massachusetts   5139\n6         United States, Illinois   4998\n7            United States, Texas   4919\n8             United States, Ohio   4281\n9         United States, Virginia   3419\n10         United States, Florida   3381\n11      United States, New Jersey   3315\n12  United States, North Carolina   2883\n13        United States, Michigan   2840\n14                      Australia   2813\n15      United States, Washington   2656\n16       United States, Minnesota   2610\n17        United States, Maryland   2606\n18         United States, Georgia   2430\n19                       Scotland   2348",
      "text/html": "<div>\n<style scoped>\n    .dataframe tbody tr th:only-of-type {\n        vertical-align: middle;\n    }\n\n    .dataframe tbody tr th {\n        vertical-align: top;\n    }\n\n    .dataframe thead th {\n        text-align: right;\n    }\n</style>\n<table border=\"1\" class=\"dataframe\">\n  <thead>\n    <tr style=\"text-align: right;\">\n      <th></th>\n      <th>location</th>\n      <th>count</th>\n    </tr>\n  </thead>\n  <tbody>\n    <tr>\n      <th>0</th>\n      <td>England</td>\n      <td>14843</td>\n    </tr>\n    <tr>\n      <th>1</th>\n      <td>Canada</td>\n      <td>12070</td>\n    </tr>\n    <tr>\n      <th>2</th>\n      <td>United States, California</td>\n      <td>8621</td>\n    </tr>\n    <tr>\n      <th>3</th>\n      <td>United States, New York</td>\n      <td>7868</td>\n    </tr>\n    <tr>\n      <th>4</th>\n      <td>United States, Pennsylvania</td>\n      <td>7231</td>\n    </tr>\n    <tr>\n      <th>5</th>\n      <td>United States, Massachusetts</td>\n      <td>5139</td>\n    </tr>\n    <tr>\n      <th>6</th>\n      <td>United States, Illinois</td>\n      <td>4998</td>\n    </tr>\n    <tr>\n      <th>7</th>\n      <td>United States, Texas</td>\n      <td>4919</td>\n    </tr>\n    <tr>\n      <th>8</th>\n      <td>United States, Ohio</td>\n      <td>4281</td>\n    </tr>\n    <tr>\n      <th>9</th>\n      <td>United States, Virginia</td>\n      <td>3419</td>\n    </tr>\n    <tr>\n      <th>10</th>\n      <td>United States, Florida</td>\n      <td>3381</td>\n    </tr>\n    <tr>\n      <th>11</th>\n      <td>United States, New Jersey</td>\n      <td>3315</td>\n    </tr>\n    <tr>\n      <th>12</th>\n      <td>United States, North Carolina</td>\n      <td>2883</td>\n    </tr>\n    <tr>\n      <th>13</th>\n      <td>United States, Michigan</td>\n      <td>2840</td>\n    </tr>\n    <tr>\n      <th>14</th>\n      <td>Australia</td>\n      <td>2813</td>\n    </tr>\n    <tr>\n      <th>15</th>\n      <td>United States, Washington</td>\n      <td>2656</td>\n    </tr>\n    <tr>\n      <th>16</th>\n      <td>United States, Minnesota</td>\n      <td>2610</td>\n    </tr>\n    <tr>\n      <th>17</th>\n      <td>United States, Maryland</td>\n      <td>2606</td>\n    </tr>\n    <tr>\n      <th>18</th>\n      <td>United States, Georgia</td>\n      <td>2430</td>\n    </tr>\n    <tr>\n      <th>19</th>\n      <td>Scotland</td>\n      <td>2348</td>\n    </tr>\n  </tbody>\n</table>\n</div>"
     },
     "execution_count": 22,
     "metadata": {},
     "output_type": "execute_result"
    }
   ],
   "source": [
    "region_agg = region_ba[['location', 'beer_id']].groupby('location').agg('count')\n",
    "region_agg = pd.DataFrame(region_agg.to_records())\n",
    "region_agg.rename(columns={'beer_id':'count'}, inplace=True)\n",
    "region_agg = region_agg.sort_values(by=['count'], ascending=False)\n",
    "region_agg.reset_index(inplace=True, drop=True)\n",
    "# Print top 20 region\n",
    "region_agg.head(20)"
   ],
   "metadata": {
    "collapsed": false,
    "pycharm": {
     "name": "#%%\n"
    }
   }
  },
  {
   "cell_type": "markdown",
   "source": [
    "#### RateBeer\n",
    "First map to scale to 0-5 then filtered the invalid rating as previous steps"
   ],
   "metadata": {
    "collapsed": false,
    "pycharm": {
     "name": "#%% md\n"
    }
   }
  },
  {
   "cell_type": "code",
   "execution_count": 27,
   "outputs": [],
   "source": [
    "list_value_rb = df_rating_rb[column_list].values\n",
    "list_value_scaler_rb = min_max_scaler.fit_transform(list_value_rb) * 5\n",
    "data_temp_rb = pd.DataFrame(list_value_scaler_rb,columns=column_list,index = df_rating_rb.index)\n",
    "df_rating_rb[column_list] = data_temp_rb"
   ],
   "metadata": {
    "collapsed": false,
    "pycharm": {
     "name": "#%%\n"
    }
   }
  },
  {
   "cell_type": "code",
   "execution_count": 28,
   "outputs": [
    {
     "name": "stdout",
     "output_type": "stream",
     "text": [
      "                            OLS Regression Results                            \n",
      "==============================================================================\n",
      "Dep. Variable:                 rating   R-squared:                       1.000\n",
      "Model:                            OLS   Adj. R-squared:                  1.000\n",
      "Method:                 Least Squares   F-statistic:                 3.261e+29\n",
      "Date:                Fri, 18 Nov 2022   Prob (F-statistic):               0.00\n",
      "Time:                        15:02:39   Log-Likelihood:             1.0636e+07\n",
      "No. Observations:              393134   AIC:                        -2.127e+07\n",
      "Df Residuals:                  393128   BIC:                        -2.127e+07\n",
      "Df Model:                           5                                         \n",
      "Covariance Type:            nonrobust                                         \n",
      "==============================================================================\n",
      "                 coef    std err          t      P>|t|      [0.025      0.975]\n",
      "------------------------------------------------------------------------------\n",
      "Intercept   1.092e-12   2.45e-15    446.208      0.000    1.09e-12     1.1e-12\n",
      "appearance     0.0889   8.63e-16   1.03e+14      0.000       0.089       0.089\n",
      "aroma          0.2000   1.38e-15   1.45e+14      0.000       0.200       0.200\n",
      "palate         0.0889   9.97e-16   8.92e+13      0.000       0.089       0.089\n",
      "taste          0.2000   1.77e-15   1.13e+14      0.000       0.200       0.200\n",
      "overall        0.4222   1.86e-15   2.27e+14      0.000       0.422       0.422\n",
      "==============================================================================\n",
      "Omnibus:                     4842.533   Durbin-Watson:                   1.211\n",
      "Prob(Omnibus):                  0.000   Jarque-Bera (JB):             5170.940\n",
      "Skew:                          -0.253   Prob(JB):                         0.00\n",
      "Kurtosis:                       3.246   Cond. No.                         25.0\n",
      "==============================================================================\n",
      "\n",
      "Notes:\n",
      "[1] Standard Errors assume that the covariance matrix of the errors is correctly specified.\n"
     ]
    }
   ],
   "source": [
    "mod_rb = smf.ols(formula='rating ~appearance + aroma + palate + taste + overall',data =df_rating_rb)\n",
    "res_rb = mod_rb.fit()\n",
    "print(res_rb.summary())"
   ],
   "metadata": {
    "collapsed": false,
    "pycharm": {
     "name": "#%%\n"
    }
   }
  },
  {
   "cell_type": "code",
   "execution_count": 29,
   "outputs": [
    {
     "data": {
      "text/plain": "(393134, 16)"
     },
     "execution_count": 29,
     "metadata": {},
     "output_type": "execute_result"
    }
   ],
   "source": [
    "df_rating_rb['average'] = df_rating_rb[['appearance','aroma','palate','taste']].mean(axis = 1)\n",
    "df_rating_rb['diff'] = np.abs(df_rating_rb['overall']-df_rating_rb['average'])\n",
    "df_rating_rb = df_rating_rb[df_rating_rb['diff'] <1.5]\n",
    "df_rating_rb = df_rating_rb.drop(columns=['average','diff'])\n",
    "df_rating_rb.shape"
   ],
   "metadata": {
    "collapsed": false,
    "pycharm": {
     "name": "#%%\n"
    }
   }
  },
  {
   "cell_type": "code",
   "execution_count": 8,
   "outputs": [
    {
     "data": {
      "text/plain": "      id          location                       name  nbr_beers\n0   3198             Gabon                    Sobraga          3\n1  13538  Northern Ireland           Ards Brewing Co.         13\n2  22304  Northern Ireland  Barrahooley Craft Brewery          4\n3  22818  Northern Ireland                   Boundary         66\n4  24297  Northern Ireland            Brewbot Belfast          3",
      "text/html": "<div>\n<style scoped>\n    .dataframe tbody tr th:only-of-type {\n        vertical-align: middle;\n    }\n\n    .dataframe tbody tr th {\n        vertical-align: top;\n    }\n\n    .dataframe thead th {\n        text-align: right;\n    }\n</style>\n<table border=\"1\" class=\"dataframe\">\n  <thead>\n    <tr style=\"text-align: right;\">\n      <th></th>\n      <th>id</th>\n      <th>location</th>\n      <th>name</th>\n      <th>nbr_beers</th>\n    </tr>\n  </thead>\n  <tbody>\n    <tr>\n      <th>0</th>\n      <td>3198</td>\n      <td>Gabon</td>\n      <td>Sobraga</td>\n      <td>3</td>\n    </tr>\n    <tr>\n      <th>1</th>\n      <td>13538</td>\n      <td>Northern Ireland</td>\n      <td>Ards Brewing Co.</td>\n      <td>13</td>\n    </tr>\n    <tr>\n      <th>2</th>\n      <td>22304</td>\n      <td>Northern Ireland</td>\n      <td>Barrahooley Craft Brewery</td>\n      <td>4</td>\n    </tr>\n    <tr>\n      <th>3</th>\n      <td>22818</td>\n      <td>Northern Ireland</td>\n      <td>Boundary</td>\n      <td>66</td>\n    </tr>\n    <tr>\n      <th>4</th>\n      <td>24297</td>\n      <td>Northern Ireland</td>\n      <td>Brewbot Belfast</td>\n      <td>3</td>\n    </tr>\n  </tbody>\n</table>\n</div>"
     },
     "execution_count": 8,
     "metadata": {},
     "output_type": "execute_result"
    }
   ],
   "source": [
    "# Load brewery data on RateBeer website\n",
    "df_brewery_rb = pd.read_csv('RateBeer/breweries.csv')\n",
    "df_brewery_rb.head()"
   ],
   "metadata": {
    "collapsed": false,
    "pycharm": {
     "name": "#%%\n"
    }
   }
  },
  {
   "cell_type": "code",
   "execution_count": 9,
   "outputs": [
    {
     "data": {
      "text/plain": "   beer_id               beer_name  brewery_id      brewery_name  \\\n0   410549       33 Export (Gabon)        3198           Sobraga   \n1   105273     Castel Beer (Gabon)        3198           Sobraga   \n2    19445                   Régab        3198           Sobraga   \n3   155699  Ards Bally Black Stout       13538  Ards Brewing Co.   \n4   239097        Ards Belfast 366       13538  Ards Brewing Co.   \n\n                  style  nbr_ratings  overall_score  style_score   avg  abv  \\\n0            Pale Lager            1            NaN          NaN  2.72  5.0   \n1            Pale Lager           10            5.0         58.0  2.18  5.2   \n2            Pale Lager           27            1.0         22.0  1.83  4.5   \n3                 Stout            6            NaN          NaN  3.18  4.6   \n4  Golden Ale/Blond Ale            1            NaN          NaN  2.79  4.2   \n\n   avg_computed    zscore  nbr_matched_valid_ratings  \\\n0      2.000000       NaN                          0   \n1      1.910000       NaN                          0   \n2      1.811111       NaN                          0   \n3      3.866667  0.823699                          6   \n4      3.000000       NaN                          0   \n\n   avg_matched_valid_ratings  \n0                        NaN  \n1                        NaN  \n2                        NaN  \n3                   3.866667  \n4                        NaN  ",
      "text/html": "<div>\n<style scoped>\n    .dataframe tbody tr th:only-of-type {\n        vertical-align: middle;\n    }\n\n    .dataframe tbody tr th {\n        vertical-align: top;\n    }\n\n    .dataframe thead th {\n        text-align: right;\n    }\n</style>\n<table border=\"1\" class=\"dataframe\">\n  <thead>\n    <tr style=\"text-align: right;\">\n      <th></th>\n      <th>beer_id</th>\n      <th>beer_name</th>\n      <th>brewery_id</th>\n      <th>brewery_name</th>\n      <th>style</th>\n      <th>nbr_ratings</th>\n      <th>overall_score</th>\n      <th>style_score</th>\n      <th>avg</th>\n      <th>abv</th>\n      <th>avg_computed</th>\n      <th>zscore</th>\n      <th>nbr_matched_valid_ratings</th>\n      <th>avg_matched_valid_ratings</th>\n    </tr>\n  </thead>\n  <tbody>\n    <tr>\n      <th>0</th>\n      <td>410549</td>\n      <td>33 Export (Gabon)</td>\n      <td>3198</td>\n      <td>Sobraga</td>\n      <td>Pale Lager</td>\n      <td>1</td>\n      <td>NaN</td>\n      <td>NaN</td>\n      <td>2.72</td>\n      <td>5.0</td>\n      <td>2.000000</td>\n      <td>NaN</td>\n      <td>0</td>\n      <td>NaN</td>\n    </tr>\n    <tr>\n      <th>1</th>\n      <td>105273</td>\n      <td>Castel Beer (Gabon)</td>\n      <td>3198</td>\n      <td>Sobraga</td>\n      <td>Pale Lager</td>\n      <td>10</td>\n      <td>5.0</td>\n      <td>58.0</td>\n      <td>2.18</td>\n      <td>5.2</td>\n      <td>1.910000</td>\n      <td>NaN</td>\n      <td>0</td>\n      <td>NaN</td>\n    </tr>\n    <tr>\n      <th>2</th>\n      <td>19445</td>\n      <td>Régab</td>\n      <td>3198</td>\n      <td>Sobraga</td>\n      <td>Pale Lager</td>\n      <td>27</td>\n      <td>1.0</td>\n      <td>22.0</td>\n      <td>1.83</td>\n      <td>4.5</td>\n      <td>1.811111</td>\n      <td>NaN</td>\n      <td>0</td>\n      <td>NaN</td>\n    </tr>\n    <tr>\n      <th>3</th>\n      <td>155699</td>\n      <td>Ards Bally Black Stout</td>\n      <td>13538</td>\n      <td>Ards Brewing Co.</td>\n      <td>Stout</td>\n      <td>6</td>\n      <td>NaN</td>\n      <td>NaN</td>\n      <td>3.18</td>\n      <td>4.6</td>\n      <td>3.866667</td>\n      <td>0.823699</td>\n      <td>6</td>\n      <td>3.866667</td>\n    </tr>\n    <tr>\n      <th>4</th>\n      <td>239097</td>\n      <td>Ards Belfast 366</td>\n      <td>13538</td>\n      <td>Ards Brewing Co.</td>\n      <td>Golden Ale/Blond Ale</td>\n      <td>1</td>\n      <td>NaN</td>\n      <td>NaN</td>\n      <td>2.79</td>\n      <td>4.2</td>\n      <td>3.000000</td>\n      <td>NaN</td>\n      <td>0</td>\n      <td>NaN</td>\n    </tr>\n  </tbody>\n</table>\n</div>"
     },
     "execution_count": 9,
     "metadata": {},
     "output_type": "execute_result"
    }
   ],
   "source": [
    "# Load beer date on RateBeer website\n",
    "df_beer_rb = pd.read_csv('RateBeer/beers.csv')\n",
    "df_beer_rb.head()"
   ],
   "metadata": {
    "collapsed": false,
    "pycharm": {
     "name": "#%%\n"
    }
   }
  },
  {
   "cell_type": "code",
   "execution_count": 10,
   "outputs": [
    {
     "data": {
      "text/plain": "   nbr_ratings  user_id     user_name        joined location\n0         1890   175852       Manslow  1.337508e+09   Poland\n1           89   442761  MAGICuenca91  1.484046e+09    Spain\n2          169   288889        Sibarh  1.384600e+09   Poland\n3         3371   250510       fombe89  1.363950e+09    Spain\n4        13043   122778    kevnic2008  1.296644e+09  Germany",
      "text/html": "<div>\n<style scoped>\n    .dataframe tbody tr th:only-of-type {\n        vertical-align: middle;\n    }\n\n    .dataframe tbody tr th {\n        vertical-align: top;\n    }\n\n    .dataframe thead th {\n        text-align: right;\n    }\n</style>\n<table border=\"1\" class=\"dataframe\">\n  <thead>\n    <tr style=\"text-align: right;\">\n      <th></th>\n      <th>nbr_ratings</th>\n      <th>user_id</th>\n      <th>user_name</th>\n      <th>joined</th>\n      <th>location</th>\n    </tr>\n  </thead>\n  <tbody>\n    <tr>\n      <th>0</th>\n      <td>1890</td>\n      <td>175852</td>\n      <td>Manslow</td>\n      <td>1.337508e+09</td>\n      <td>Poland</td>\n    </tr>\n    <tr>\n      <th>1</th>\n      <td>89</td>\n      <td>442761</td>\n      <td>MAGICuenca91</td>\n      <td>1.484046e+09</td>\n      <td>Spain</td>\n    </tr>\n    <tr>\n      <th>2</th>\n      <td>169</td>\n      <td>288889</td>\n      <td>Sibarh</td>\n      <td>1.384600e+09</td>\n      <td>Poland</td>\n    </tr>\n    <tr>\n      <th>3</th>\n      <td>3371</td>\n      <td>250510</td>\n      <td>fombe89</td>\n      <td>1.363950e+09</td>\n      <td>Spain</td>\n    </tr>\n    <tr>\n      <th>4</th>\n      <td>13043</td>\n      <td>122778</td>\n      <td>kevnic2008</td>\n      <td>1.296644e+09</td>\n      <td>Germany</td>\n    </tr>\n  </tbody>\n</table>\n</div>"
     },
     "execution_count": 10,
     "metadata": {},
     "output_type": "execute_result"
    }
   ],
   "source": [
    "# Load user date on RateBeer website\n",
    "df_user_rb = pd.read_csv('RateBeer/users.csv')\n",
    "df_user_rb.head()"
   ],
   "metadata": {
    "collapsed": false,
    "pycharm": {
     "name": "#%%\n"
    }
   }
  },
  {
   "cell_type": "code",
   "execution_count": 11,
   "outputs": [
    {
     "data": {
      "text/plain": "             beer_name  beer_id brewery_name  brewery_id       style  abv  \\\n0    33 Export (Gabon)   410549      Sobraga        3198  Pale Lager  5.0   \n1  Castel Beer (Gabon)   105273      Sobraga        3198  Pale Lager  5.2   \n2  Castel Beer (Gabon)   105273      Sobraga        3198  Pale Lager  5.2   \n3  Castel Beer (Gabon)   105273      Sobraga        3198  Pale Lager  5.2   \n4  Castel Beer (Gabon)   105273      Sobraga        3198  Pale Lager  5.2   \n\n         date   user_name_x  user_id  appearance  aroma  palate  taste  \\\n0  1461664800       Manslow   175852           2      4       2      4   \n1  1487329200  MAGICuenca91   442761           2      3       2      4   \n2  1466762400        Sibarh   288889           3      3       2      3   \n3  1451646000       fombe89   250510           4      3       1      2   \n4  1445594400    kevnic2008   122778           2      4       2      4   \n\n   overall  rating                                               text  \\\n0        8     2.0  Puszka 0,33l dzięki Christoph . Kolor jasnozło...   \n1        8     1.9  Cerveza pale lager gabonesa. MÃ¡s floja que la...   \n2        5     1.6  Kolor- złoty, klarowny. Piana - drobna, średni...   \n3        5     1.5  Botella, de GabÃ³n regalo familiar.31/01/2015C...   \n4        7     1.9  Many thanks for this beer to Erzengel. Pours l...   \n\n   nbr_ratings   user_name_y        joined location  \n0         1890       Manslow  1.337508e+09   Poland  \n1           89  MAGICuenca91  1.484046e+09    Spain  \n2          169        Sibarh  1.384600e+09   Poland  \n3         3371       fombe89  1.363950e+09    Spain  \n4        13043    kevnic2008  1.296644e+09  Germany  ",
      "text/html": "<div>\n<style scoped>\n    .dataframe tbody tr th:only-of-type {\n        vertical-align: middle;\n    }\n\n    .dataframe tbody tr th {\n        vertical-align: top;\n    }\n\n    .dataframe thead th {\n        text-align: right;\n    }\n</style>\n<table border=\"1\" class=\"dataframe\">\n  <thead>\n    <tr style=\"text-align: right;\">\n      <th></th>\n      <th>beer_name</th>\n      <th>beer_id</th>\n      <th>brewery_name</th>\n      <th>brewery_id</th>\n      <th>style</th>\n      <th>abv</th>\n      <th>date</th>\n      <th>user_name_x</th>\n      <th>user_id</th>\n      <th>appearance</th>\n      <th>aroma</th>\n      <th>palate</th>\n      <th>taste</th>\n      <th>overall</th>\n      <th>rating</th>\n      <th>text</th>\n      <th>nbr_ratings</th>\n      <th>user_name_y</th>\n      <th>joined</th>\n      <th>location</th>\n    </tr>\n  </thead>\n  <tbody>\n    <tr>\n      <th>0</th>\n      <td>33 Export (Gabon)</td>\n      <td>410549</td>\n      <td>Sobraga</td>\n      <td>3198</td>\n      <td>Pale Lager</td>\n      <td>5.0</td>\n      <td>1461664800</td>\n      <td>Manslow</td>\n      <td>175852</td>\n      <td>2</td>\n      <td>4</td>\n      <td>2</td>\n      <td>4</td>\n      <td>8</td>\n      <td>2.0</td>\n      <td>Puszka 0,33l dzięki Christoph . Kolor jasnozło...</td>\n      <td>1890</td>\n      <td>Manslow</td>\n      <td>1.337508e+09</td>\n      <td>Poland</td>\n    </tr>\n    <tr>\n      <th>1</th>\n      <td>Castel Beer (Gabon)</td>\n      <td>105273</td>\n      <td>Sobraga</td>\n      <td>3198</td>\n      <td>Pale Lager</td>\n      <td>5.2</td>\n      <td>1487329200</td>\n      <td>MAGICuenca91</td>\n      <td>442761</td>\n      <td>2</td>\n      <td>3</td>\n      <td>2</td>\n      <td>4</td>\n      <td>8</td>\n      <td>1.9</td>\n      <td>Cerveza pale lager gabonesa. MÃ¡s floja que la...</td>\n      <td>89</td>\n      <td>MAGICuenca91</td>\n      <td>1.484046e+09</td>\n      <td>Spain</td>\n    </tr>\n    <tr>\n      <th>2</th>\n      <td>Castel Beer (Gabon)</td>\n      <td>105273</td>\n      <td>Sobraga</td>\n      <td>3198</td>\n      <td>Pale Lager</td>\n      <td>5.2</td>\n      <td>1466762400</td>\n      <td>Sibarh</td>\n      <td>288889</td>\n      <td>3</td>\n      <td>3</td>\n      <td>2</td>\n      <td>3</td>\n      <td>5</td>\n      <td>1.6</td>\n      <td>Kolor- złoty, klarowny. Piana - drobna, średni...</td>\n      <td>169</td>\n      <td>Sibarh</td>\n      <td>1.384600e+09</td>\n      <td>Poland</td>\n    </tr>\n    <tr>\n      <th>3</th>\n      <td>Castel Beer (Gabon)</td>\n      <td>105273</td>\n      <td>Sobraga</td>\n      <td>3198</td>\n      <td>Pale Lager</td>\n      <td>5.2</td>\n      <td>1451646000</td>\n      <td>fombe89</td>\n      <td>250510</td>\n      <td>4</td>\n      <td>3</td>\n      <td>1</td>\n      <td>2</td>\n      <td>5</td>\n      <td>1.5</td>\n      <td>Botella, de GabÃ³n regalo familiar.31/01/2015C...</td>\n      <td>3371</td>\n      <td>fombe89</td>\n      <td>1.363950e+09</td>\n      <td>Spain</td>\n    </tr>\n    <tr>\n      <th>4</th>\n      <td>Castel Beer (Gabon)</td>\n      <td>105273</td>\n      <td>Sobraga</td>\n      <td>3198</td>\n      <td>Pale Lager</td>\n      <td>5.2</td>\n      <td>1445594400</td>\n      <td>kevnic2008</td>\n      <td>122778</td>\n      <td>2</td>\n      <td>4</td>\n      <td>2</td>\n      <td>4</td>\n      <td>7</td>\n      <td>1.9</td>\n      <td>Many thanks for this beer to Erzengel. Pours l...</td>\n      <td>13043</td>\n      <td>kevnic2008</td>\n      <td>1.296644e+09</td>\n      <td>Germany</td>\n    </tr>\n  </tbody>\n</table>\n</div>"
     },
     "execution_count": 11,
     "metadata": {},
     "output_type": "execute_result"
    }
   ],
   "source": [
    "# Merge data based on user id in order to get users' location\n",
    "region_rb = pd.merge(df_rating_rb, df_user_rb, how=\"left\", left_on='user_id', right_on='user_id')\n",
    "region_rb.head()"
   ],
   "metadata": {
    "collapsed": false,
    "pycharm": {
     "name": "#%%\n"
    }
   }
  },
  {
   "cell_type": "markdown",
   "source": [
    "## Data Analysis and visualization\n",
    "In this section we will explore more of the datasets we prepared above, and visualize them."
   ],
   "metadata": {
    "collapsed": false,
    "pycharm": {
     "name": "#%% md\n"
    }
   }
  },
  {
   "cell_type": "markdown",
   "source": [
    "#### Overall Rating Distribution of the two website"
   ],
   "metadata": {
    "collapsed": false,
    "pycharm": {
     "name": "#%% md\n"
    }
   }
  },
  {
   "cell_type": "code",
   "execution_count": 30,
   "outputs": [
    {
     "data": {
      "text/plain": "<Figure size 432x288 with 1 Axes>",
      "image/png": "[encoded data removed]"
     },
     "metadata": {
      "needs_background": "light"
     },
     "output_type": "display_data"
    }
   ],
   "source": [
    "#creating subplots\n",
    "ax=plt.subplots()\n",
    "\n",
    "#plotting columns\n",
    "ax=sns.histplot(data=df_rating_ba, x='rating', color = 'purple', binwidth=0.25, label='x')\n",
    "ax=sns.histplot(data=df_rating_rb, x='rating', color = 'pink', binwidth=0.25)\n",
    "\n",
    "# setting figure legend\n",
    "plt.legend(title='Website', loc='upper left', labels=['BeerAdvocate', 'RateBeer'])\n",
    "\n",
    "#renaming the axes\n",
    "ax.set(xlabel=\"Rating\", ylabel=\"Count\")\n",
    "\n",
    "# setting figute title\n",
    "ax.set_title(\"Rating Distribution on two website\")\n",
    "\n",
    "# visualizing illustration\n",
    "plt.show()"
   ],
   "metadata": {
    "collapsed": false,
    "pycharm": {
     "name": "#%%\n"
    }
   }
  },
  {
   "cell_type": "markdown",
   "source": [
    "We can see that in this plot, rating on both websites are distributed like a normal distribution. There concentration of **rating** between 3-4 contributes to the majority."
   ],
   "metadata": {
    "collapsed": false,
    "pycharm": {
     "name": "#%% md\n"
    }
   }
  },
  {
   "cell_type": "markdown",
   "source": [
    "#### Rating Distribution of Brewery\n",
    "##### BeerAdvocate"
   ],
   "metadata": {
    "collapsed": false,
    "pycharm": {
     "name": "#%% md\n"
    }
   }
  },
  {
   "cell_type": "code",
   "execution_count": 35,
   "outputs": [
    {
     "data": {
      "text/plain": "<Figure size 432x288 with 1 Axes>",
      "image/png": "[encoded data removed]"
     },
     "metadata": {
      "needs_background": "light"
     },
     "output_type": "display_data"
    }
   ],
   "source": [
    "# explore ratings on each brewery\n",
    "rating_brewery = pd.merge(df_rating_ba, df_brewery_ba, how='left', left_on='brewery_id', right_on='id')\n",
    "rating_brewery = rating_brewery[['overall', 'brewery_name']]\n",
    "mean_rating_brewery = rating_brewery.groupby('brewery_name').mean()\n",
    "mean_rating_brewery = pd.DataFrame(mean_rating_brewery.to_records())\n",
    "\n",
    "# draw rating brewery distribution\n",
    "sns.histplot(data=mean_rating_brewery, x='overall')\n",
    "plt.xlabel('Rating')\n",
    "plt.title('Rating Brewery Distribution on BeerAdvocate')\n",
    "plt.show()"
   ],
   "metadata": {
    "collapsed": false,
    "pycharm": {
     "name": "#%%\n"
    }
   }
  },
  {
   "cell_type": "markdown",
   "source": [
    "##### RateBeer"
   ],
   "metadata": {
    "collapsed": false,
    "pycharm": {
     "name": "#%% md\n"
    }
   }
  },
  {
   "cell_type": "code",
   "execution_count": 36,
   "outputs": [
    {
     "data": {
      "text/plain": "<Figure size 432x288 with 1 Axes>",
      "image/png": "[encoded data removed]"
     },
     "metadata": {
      "needs_background": "light"
     },
     "output_type": "display_data"
    }
   ],
   "source": [
    "# explore ratings on each brewery\n",
    "rating_brewery_rb = pd.merge(df_rating_rb, df_brewery_rb, how='left', left_on='brewery_id', right_on='id')\n",
    "rating_brewery_rb = rating_brewery_rb[['overall', 'brewery_name']]\n",
    "mean_rating_brewery_rb = rating_brewery_rb.groupby('brewery_name').mean()\n",
    "mean_rating_brewery_rb = pd.DataFrame(mean_rating_brewery_rb.to_records())\n",
    "\n",
    "# draw rating brewery distribution\n",
    "sns.histplot(data=mean_rating_brewery_rb, x='overall')\n",
    "plt.xlabel('Rating')\n",
    "plt.title('Rating Brewery Distribution on RateBeer')\n",
    "plt.show()"
   ],
   "metadata": {
    "collapsed": false,
    "pycharm": {
     "name": "#%%\n"
    }
   }
  },
  {
   "cell_type": "markdown",
   "source": [
    "#### Rating Distribution of the detailed scores"
   ],
   "metadata": {
    "collapsed": false,
    "pycharm": {
     "name": "#%% md\n"
    }
   }
  },
  {
   "cell_type": "code",
   "execution_count": 33,
   "outputs": [
    {
     "data": {
      "text/plain": "<Figure size 864x576 with 5 Axes>",
      "image/png": "[encoded data removed]"
     },
     "metadata": {
      "needs_background": "light"
     },
     "output_type": "display_data"
    }
   ],
   "source": [
    "data_title = ['appearance', 'aroma','palate','taste','overall']\n",
    "plt.figure(figsize=(12,8))\n",
    "\n",
    "\n",
    "for index, i in enumerate(data_title):\n",
    "\n",
    "    #creating subplots\n",
    "    ax=plt.subplot(2,3,index+1)\n",
    "\n",
    "    #plotting columns\n",
    "    ax=sns.histplot(data=df_rating_ba, x=i, color = 'purple', binwidth=0.25, label='x')\n",
    "    ax=sns.histplot(data=df_rating_rb, x=i, color = 'pink', binwidth=0.25)\n",
    "\n",
    "    # setting figure legend\n",
    "    plt.legend(title='Website', loc='upper left', labels=['BeerAdvocate', 'RateBeer'])\n",
    "\n",
    "    #renaming the axes\n",
    "    ax.set(xlabel=\"Rating\", ylabel=\"Count\")\n",
    "\n",
    "    # setting figute title\n",
    "    ax.set_title(f\"{i} Distribution on two website\")\n",
    "\n",
    "    # visualizing illustration\n",
    "plt.tight_layout()\n",
    "plt.show()"
   ],
   "metadata": {
    "collapsed": false,
    "pycharm": {
     "name": "#%%\n"
    }
   }
  },
  {
   "cell_type": "markdown",
   "source": [
    "#### The abv rankings on the two datasets"
   ],
   "metadata": {
    "collapsed": false,
    "pycharm": {
     "name": "#%% md\n"
    }
   }
  },
  {
   "cell_type": "code",
   "execution_count": 50,
   "outputs": [
    {
     "name": "stdout",
     "output_type": "stream",
     "text": [
      "The average abv% of beers from BeerAdvocate is 5.95%.\n"
     ]
    },
    {
     "data": {
      "text/plain": "<Figure size 432x288 with 1 Axes>",
      "image/png": "[encoded data removed]"
     },
     "metadata": {
      "needs_background": "light"
     },
     "output_type": "display_data"
    }
   ],
   "source": [
    "avg_ba_abv = region_ba.abv.mean()\n",
    "avg_ba_abv = round(avg_ba_abv, 2)\n",
    "print(f'The average abv% of beers from BeerAdvocate is {avg_ba_abv}%.')\n",
    "fig, ax = plt.subplots()\n",
    "ax.set_xlim(0, 20)\n",
    "sns.histplot(region_ba.abv, binwidth=0.5, ax=ax)\n",
    "plt.title(\"Abv rankings on BeerAdvocate\")\n",
    "plt.show()"
   ],
   "metadata": {
    "collapsed": false,
    "pycharm": {
     "name": "#%%\n"
    }
   }
  },
  {
   "cell_type": "code",
   "execution_count": 51,
   "outputs": [
    {
     "name": "stdout",
     "output_type": "stream",
     "text": [
      "The average abv% of beers from RateBeer is 6.18%.\n"
     ]
    },
    {
     "data": {
      "text/plain": "<Figure size 432x288 with 1 Axes>",
      "image/png": "[encoded data removed]"
     },
     "metadata": {
      "needs_background": "light"
     },
     "output_type": "display_data"
    }
   ],
   "source": [
    "avg_rb_abv = region_rb.abv.mean()\n",
    "avg_rb_abv = round(avg_rb_abv, 2)\n",
    "print(f'The average abv% of beers from RateBeer is {avg_rb_abv}%.')\n",
    "fig, ax = plt.subplots()\n",
    "ax.set_xlim(0, 20)\n",
    "sns.histplot(region_rb.abv, binwidth=0.5, ax=ax)\n",
    "plt.title(\"Abv rankings on RateBeer\")\n",
    "plt.show()"
   ],
   "metadata": {
    "collapsed": false,
    "pycharm": {
     "name": "#%%\n"
    }
   }
  },
  {
   "cell_type": "markdown",
   "source": [
    "#### (Interactive) Find the popular beers in top 10 regions with the largest number of users in each year.\n",
    "##### BeerAdvocate"
   ],
   "metadata": {
    "collapsed": false,
    "pycharm": {
     "name": "#%% md\n"
    }
   }
  },
  {
   "cell_type": "code",
   "execution_count": 45,
   "outputs": [],
   "source": [
    "region_ba_style_change = region_ba[['date', 'location', 'beer_id', 'beer_name', 'brewery_id', 'brewery_name', 'overall', 'nbr_ratings', 'nbr_reviews', 'text', 'style']]"
   ],
   "metadata": {
    "collapsed": false,
    "pycharm": {
     "name": "#%%\n"
    }
   }
  },
  {
   "cell_type": "code",
   "execution_count": 46,
   "outputs": [
    {
     "name": "stderr",
     "output_type": "stream",
     "text": [
      "/var/folders/xr/dbxcvdh15j9fxwy531k32mp00000gn/T/ipykernel_85165/240012875.py:1: SettingWithCopyWarning: \n",
      "A value is trying to be set on a copy of a slice from a DataFrame.\n",
      "Try using .loc[row_indexer,col_indexer] = value instead\n",
      "\n",
      "See the caveats in the documentation: https://pandas.pydata.org/pandas-docs/stable/user_guide/indexing.html#returning-a-view-versus-a-copy\n",
      "  region_ba_style_change['formal_date'] = region_ba_style_change.date.apply(lambda x: datetime.datetime.fromtimestamp(x))\n"
     ]
    }
   ],
   "source": [
    "region_ba_style_change['formal_date'] = region_ba_style_change.date.apply(lambda x: datetime.datetime.fromtimestamp(x))"
   ],
   "metadata": {
    "collapsed": false,
    "pycharm": {
     "name": "#%%\n"
    }
   }
  },
  {
   "cell_type": "code",
   "execution_count": 47,
   "outputs": [],
   "source": [
    "region_ba_style_change = region_ba_style_change[['formal_date', 'date', 'location', 'beer_id', 'beer_name', 'brewery_id', 'brewery_name', 'overall', 'nbr_ratings', 'nbr_reviews', 'text', 'style']]"
   ],
   "metadata": {
    "collapsed": false,
    "pycharm": {
     "name": "#%%\n"
    }
   }
  },
  {
   "cell_type": "code",
   "execution_count": 48,
   "outputs": [
    {
     "data": {
      "text/plain": "count                           151213\nmean     2011-11-17 11:09:31.688941824\nmin                1998-01-22 12:00:00\n25%                2008-10-12 12:00:00\n50%                2012-03-22 12:00:00\n75%                2015-08-05 12:00:00\nmax                2017-07-25 12:00:00\nName: formal_date, dtype: object"
     },
     "execution_count": 48,
     "metadata": {},
     "output_type": "execute_result"
    }
   ],
   "source": [
    "region_ba_style_change.formal_date.describe(datetime_is_numeric=True)"
   ],
   "metadata": {
    "collapsed": false,
    "pycharm": {
     "name": "#%%\n"
    }
   }
  },
  {
   "cell_type": "code",
   "execution_count": 49,
   "outputs": [],
   "source": [
    "region_ba_style_change.sort_values('formal_date', inplace=True)\n",
    "region_ba_style_change['year'] = region_ba_style_change.formal_date.apply(lambda x: x.year)\n",
    "region_list = region_agg.location.to_list()\n",
    "year_list = region_ba_style_change.year.unique()\n",
    "region_list = region_list[:10]"
   ],
   "metadata": {
    "collapsed": false,
    "pycharm": {
     "name": "#%%\n"
    }
   }
  },
  {
   "cell_type": "code",
   "execution_count": 50,
   "outputs": [],
   "source": [
    "# since there may have insufficient in early years, we want to make an alert in the interactive graph\n",
    "def popup(text):\n",
    "    display(HTML(\"<script>alert('{}');</script>\".format(text)))"
   ],
   "metadata": {
    "collapsed": false,
    "pycharm": {
     "name": "#%%\n"
    }
   }
  },
  {
   "cell_type": "code",
   "execution_count": 51,
   "outputs": [
    {
     "data": {
      "text/plain": "interactive(children=(Dropdown(description='region', options=('England', 'Canada', 'United States, California'…",
      "application/vnd.jupyter.widget-view+json": {
       "version_major": 2,
       "version_minor": 0,
       "model_id": "5f0c28a1c8f145598b24eb07ef0b5b13"
      }
     },
     "metadata": {},
     "output_type": "display_data"
    },
    {
     "data": {
      "text/plain": "<function __main__.plot_interactive(region, year)>"
     },
     "execution_count": 51,
     "metadata": {},
     "output_type": "execute_result"
    }
   ],
   "source": [
    "def plot_interactive(region, year):\n",
    "    data_to_plot = region_ba_style_change[(region_ba_style_change.location==region) & (region_ba_style_change.year==year)][['brewery_name', 'style', 'beer_name','overall']]\n",
    "    data_to_plot = data_to_plot.groupby('style').mean().reset_index()\n",
    "    data_to_plot = data_to_plot.sort_values('overall', ascending=False).head(10)\n",
    "    if len(data_to_plot) > 0:\n",
    "        sns.barplot(y='style', x='overall', data=data_to_plot, palette=\"magma\")\n",
    "        plt.title(f'10 beer styles in {region} that are the most popular in year {year}.')\n",
    "        plt.xlabel('Overall score')\n",
    "        plt.ylabel('Beer style')\n",
    "        plt.show()\n",
    "    else:\n",
    "        popup(f\"Insufficient data for {region} in {year}.\")\n",
    "\n",
    "\n",
    "interact(plot_interactive, region=region_list, year=year_list[:])\n",
    "# There are enough data from year 2003"
   ],
   "metadata": {
    "collapsed": false,
    "pycharm": {
     "name": "#%%\n"
    }
   }
  },
  {
   "cell_type": "markdown",
   "source": [
    "##### Ratebeer"
   ],
   "metadata": {
    "collapsed": false,
    "pycharm": {
     "name": "#%% md\n"
    }
   }
  },
  {
   "cell_type": "code",
   "execution_count": 52,
   "outputs": [],
   "source": [
    "region_rb_style_change = region_rb[['date', 'location', 'beer_id', 'beer_name', 'brewery_id', 'brewery_name', 'overall', 'nbr_ratings', 'text', 'style']]"
   ],
   "metadata": {
    "collapsed": false,
    "pycharm": {
     "name": "#%%\n"
    }
   }
  },
  {
   "cell_type": "code",
   "execution_count": 53,
   "outputs": [
    {
     "name": "stderr",
     "output_type": "stream",
     "text": [
      "/var/folders/xr/dbxcvdh15j9fxwy531k32mp00000gn/T/ipykernel_85165/3627053753.py:1: SettingWithCopyWarning: \n",
      "A value is trying to be set on a copy of a slice from a DataFrame.\n",
      "Try using .loc[row_indexer,col_indexer] = value instead\n",
      "\n",
      "See the caveats in the documentation: https://pandas.pydata.org/pandas-docs/stable/user_guide/indexing.html#returning-a-view-versus-a-copy\n",
      "  region_rb_style_change['formal_date'] = region_rb_style_change.date.apply(lambda x: datetime.datetime.fromtimestamp(x))\n"
     ]
    }
   ],
   "source": [
    "region_rb_style_change['formal_date'] = region_rb_style_change.date.apply(lambda x: datetime.datetime.fromtimestamp(x))"
   ],
   "metadata": {
    "collapsed": false,
    "pycharm": {
     "name": "#%%\n"
    }
   }
  },
  {
   "cell_type": "code",
   "execution_count": 54,
   "outputs": [],
   "source": [
    "region_rb_style_change = region_rb_style_change[['formal_date', 'date', 'location', 'beer_id', 'beer_name', 'brewery_id', 'brewery_name', 'overall', 'nbr_ratings', 'text', 'style']]"
   ],
   "metadata": {
    "collapsed": false,
    "pycharm": {
     "name": "#%%\n"
    }
   }
  },
  {
   "cell_type": "code",
   "execution_count": 55,
   "outputs": [
    {
     "data": {
      "text/plain": "count                           396854\nmean     2012-02-17 21:58:20.106336768\nmin                2000-04-26 12:00:00\n25%                2009-03-11 12:00:00\n50%                2013-03-09 12:00:00\n75%                2015-07-04 12:00:00\nmax                2017-07-25 12:00:00\nName: formal_date, dtype: object"
     },
     "execution_count": 55,
     "metadata": {},
     "output_type": "execute_result"
    }
   ],
   "source": [
    "region_rb_style_change.formal_date.describe(datetime_is_numeric=True)"
   ],
   "metadata": {
    "collapsed": false,
    "pycharm": {
     "name": "#%%\n"
    }
   }
  },
  {
   "cell_type": "code",
   "execution_count": 57,
   "outputs": [],
   "source": [
    "region_rb_style_change.sort_values('formal_date', inplace=True)\n",
    "region_rb_style_change['year'] = region_rb_style_change.formal_date.apply(lambda x: x.year)\n",
    "region_list = region_agg.location.to_list()\n",
    "year_list = region_rb_style_change.year.unique()\n",
    "region_list = region_list[:10]"
   ],
   "metadata": {
    "collapsed": false,
    "pycharm": {
     "name": "#%%\n"
    }
   }
  },
  {
   "cell_type": "code",
   "execution_count": 58,
   "outputs": [
    {
     "data": {
      "text/plain": "interactive(children=(Dropdown(description='region', options=('England', 'Canada', 'United States, California'…",
      "application/vnd.jupyter.widget-view+json": {
       "version_major": 2,
       "version_minor": 0,
       "model_id": "1fc1f53e2a514887b5248fe087d1090a"
      }
     },
     "metadata": {},
     "output_type": "display_data"
    },
    {
     "data": {
      "text/plain": "<function __main__.plot_interactive(region, year)>"
     },
     "execution_count": 58,
     "metadata": {},
     "output_type": "execute_result"
    }
   ],
   "source": [
    "def plot_interactive(region, year):\n",
    "    data_to_plot = region_rb_style_change[(region_rb_style_change.location==region) & (region_rb_style_change.year==year)][['brewery_name', 'style', 'beer_name','overall']]\n",
    "    data_to_plot = data_to_plot.groupby('style').mean().reset_index()\n",
    "    data_to_plot = data_to_plot.sort_values('overall', ascending=False).head(10)\n",
    "    if len(data_to_plot) > 0:\n",
    "        sns.barplot(y='style', x='overall', data=data_to_plot, palette=\"magma\")\n",
    "        plt.title(f'10 beer styles in {region} that are the most popular in year {year}.')\n",
    "        plt.xlabel('Overall score')\n",
    "        plt.ylabel('Beer style')\n",
    "        plt.show()\n",
    "    else:\n",
    "        popup(f\"Insufficient data for {region} in {year}.\")\n",
    "\n",
    "\n",
    "interact(plot_interactive, region=region_list, year=year_list[:])"
   ],
   "metadata": {
    "collapsed": false,
    "pycharm": {
     "name": "#%%\n"
    }
   }
  },
  {
   "cell_type": "markdown",
   "source": [
    "#### Find the change of number of ratings\n",
    "##### (interactive) Of each style of beers\n",
    "###### BeerAdvocate"
   ],
   "metadata": {
    "collapsed": false,
    "pycharm": {
     "name": "#%% md\n"
    }
   }
  },
  {
   "cell_type": "code",
   "execution_count": 59,
   "outputs": [],
   "source": [
    "beer_style_list = region_ba_style_change['style'].groupby(region_ba_style_change['style']).agg('count')\n",
    "beer_style_list.sort_values(ascending=False)\n",
    "beer_style_list = np.array(beer_style_list.index.to_list())"
   ],
   "metadata": {
    "collapsed": false,
    "pycharm": {
     "name": "#%%\n"
    }
   }
  },
  {
   "cell_type": "code",
   "execution_count": 60,
   "outputs": [
    {
     "data": {
      "text/plain": "interactive(children=(Dropdown(description='style', options=('Altbier', 'American Adjunct Lager', 'American Am…",
      "application/vnd.jupyter.widget-view+json": {
       "version_major": 2,
       "version_minor": 0,
       "model_id": "9170629f896d405db75542abe3731e0c"
      }
     },
     "metadata": {},
     "output_type": "display_data"
    },
    {
     "data": {
      "text/plain": "<function __main__.plot_year_vs_no_ratings_interactive(style)>"
     },
     "execution_count": 60,
     "metadata": {},
     "output_type": "execute_result"
    }
   ],
   "source": [
    "def plot_year_vs_no_ratings_interactive(style):\n",
    "    specific_style = style\n",
    "    specific_style_region_by = region_ba_style_change[region_ba_style_change['style']==specific_style]\n",
    "    specific_style_region_by = specific_style_region_by.dropna(how='any')\n",
    "    specific_style_region_by = specific_style_region_by.drop_duplicates('year')\n",
    "    sns.lineplot(data=specific_style_region_by, x='year', y='nbr_ratings')\n",
    "    plt.title(f'The number of ratings of {style}')\n",
    "    plt.xlabel('Year')\n",
    "    plt.ylabel('Number of ratings')\n",
    "    plt.show()\n",
    "\n",
    "interact(plot_year_vs_no_ratings_interactive, style=beer_style_list)"
   ],
   "metadata": {
    "collapsed": false,
    "pycharm": {
     "name": "#%%\n"
    }
   }
  },
  {
   "cell_type": "markdown",
   "source": [
    "###### RateBeer"
   ],
   "metadata": {
    "collapsed": false,
    "pycharm": {
     "name": "#%% md\n"
    }
   }
  },
  {
   "cell_type": "code",
   "execution_count": 61,
   "outputs": [],
   "source": [
    "beer_style_list_rb = region_rb_style_change['style'].groupby(region_rb_style_change['style']).agg('count')\n",
    "beer_style_list_rb.sort_values(ascending=False)\n",
    "beer_style_list_rb = np.array(beer_style_list_rb.index.to_list())"
   ],
   "metadata": {
    "collapsed": false,
    "pycharm": {
     "name": "#%%\n"
    }
   }
  },
  {
   "cell_type": "code",
   "execution_count": 62,
   "outputs": [
    {
     "data": {
      "text/plain": "interactive(children=(Dropdown(description='style', options=('Abbey Dubbel', 'Abbey Tripel', 'Abt/Quadrupel', …",
      "application/vnd.jupyter.widget-view+json": {
       "version_major": 2,
       "version_minor": 0,
       "model_id": "3120987d1b104c24b759bcede544234c"
      }
     },
     "metadata": {},
     "output_type": "display_data"
    },
    {
     "data": {
      "text/plain": "<function __main__.plot_year_vs_no_ratings_interactive(style)>"
     },
     "execution_count": 62,
     "metadata": {},
     "output_type": "execute_result"
    }
   ],
   "source": [
    "def plot_year_vs_no_ratings_interactive(style):\n",
    "    specific_style = style\n",
    "    specific_style_region_by = region_ba_style_change[region_rb_style_change['style']==specific_style]\n",
    "    specific_style_region_by = specific_style_region_by.dropna(how='any')\n",
    "    specific_style_region_by = specific_style_region_by.drop_duplicates('year')\n",
    "    sns.lineplot(data=specific_style_region_by, x='year', y='nbr_ratings')\n",
    "    plt.title(f'The number of ratings of {style}')\n",
    "    plt.xlabel('Year')\n",
    "    plt.ylabel('Number of ratings')\n",
    "    plt.show()\n",
    "\n",
    "interact(plot_year_vs_no_ratings_interactive, style=beer_style_list_rb)"
   ],
   "metadata": {
    "collapsed": false,
    "pycharm": {
     "name": "#%%\n"
    }
   }
  },
  {
   "cell_type": "markdown",
   "source": [
    "##### Total number of ratings on the websites\n",
    "###### BeerAdvocate"
   ],
   "metadata": {
    "collapsed": false,
    "pycharm": {
     "name": "#%% md\n"
    }
   }
  },
  {
   "cell_type": "code",
   "execution_count": 63,
   "outputs": [
    {
     "data": {
      "text/plain": "<Figure size 432x288 with 1 Axes>",
      "image/png": "[encoded data removed]"
     },
     "metadata": {
      "needs_background": "light"
     },
     "output_type": "display_data"
    }
   ],
   "source": [
    "plt.plot(region_ba_style_change.groupby(['year']).count()['formal_date'].index, region_ba_style_change.groupby(['year']).count()['formal_date'])\n",
    "plt.ylabel('Number of views')\n",
    "plt.xlabel('Year')\n",
    "plt.title('Number of views over time')\n",
    "plt.xticks([i for i in range(1998, 2018)], rotation=45)\n",
    "plt.show()"
   ],
   "metadata": {
    "collapsed": false,
    "pycharm": {
     "name": "#%%\n"
    }
   }
  },
  {
   "cell_type": "markdown",
   "source": [
    "According the image above, the number of views are increase over time. In 2014, it has the largest number of reviews. But after that, the number of views are keep decreasing. It can be noted that the number of evaluations suddenly doubled before 2013 and 2014, but it is not possible to analyse what caused this."
   ],
   "metadata": {
    "collapsed": false,
    "pycharm": {
     "name": "#%% md\n"
    }
   }
  },
  {
   "cell_type": "code",
   "execution_count": 66,
   "outputs": [
    {
     "data": {
      "text/plain": "<Figure size 432x288 with 1 Axes>",
      "image/png": "[encoded data removed]"
     },
     "metadata": {
      "needs_background": "light"
     },
     "output_type": "display_data"
    }
   ],
   "source": [
    "plt.plot(region_ba_style_change.groupby(['year']).mean()['overall'].index, region_ba_style_change.groupby(['year']).mean()['overall'])\n",
    "plt.ylabel('Overal Score')\n",
    "plt.xlabel('Year')\n",
    "plt.title('Overall Score over time')\n",
    "plt.xticks([i for i in range(1998, 2018)], rotation=45)\n",
    "plt.show()"
   ],
   "metadata": {
    "collapsed": false,
    "pycharm": {
     "name": "#%%\n"
    }
   }
  },
  {
   "cell_type": "markdown",
   "source": [
    "It is easy to notice it has very high overall score in 1999. But after analysis the data, we notice it only have one review in 1999, so it make a illusion that sudden rise in ratings."
   ],
   "metadata": {
    "collapsed": false,
    "pycharm": {
     "name": "#%% md\n"
    }
   }
  },
  {
   "cell_type": "markdown",
   "source": [
    "###### Ratebeer"
   ],
   "metadata": {
    "collapsed": false,
    "pycharm": {
     "name": "#%% md\n"
    }
   }
  },
  {
   "cell_type": "code",
   "execution_count": 67,
   "outputs": [
    {
     "data": {
      "text/plain": "<Figure size 432x288 with 1 Axes>",
      "image/png": "[encoded data removed]"
     },
     "metadata": {
      "needs_background": "light"
     },
     "output_type": "display_data"
    }
   ],
   "source": [
    "plt.plot(region_rb_style_change.groupby(['year']).count()['formal_date'].index, region_rb_style_change.groupby(['year']).count()['formal_date'])\n",
    "plt.ylabel('Number of views')\n",
    "plt.xlabel('Year')\n",
    "plt.title('Number of views over time')\n",
    "plt.xticks([i for i in range(1998, 2018)], rotation=45)\n",
    "plt.show()"
   ],
   "metadata": {
    "collapsed": false,
    "pycharm": {
     "name": "#%%\n"
    }
   }
  },
  {
   "cell_type": "markdown",
   "source": [
    "The number of views are keep increase until 2016."
   ],
   "metadata": {
    "collapsed": false,
    "pycharm": {
     "name": "#%% md\n"
    }
   }
  },
  {
   "cell_type": "code",
   "execution_count": 69,
   "outputs": [
    {
     "data": {
      "text/plain": "<Figure size 432x288 with 1 Axes>",
      "image/png": "[encoded data removed]"
     },
     "metadata": {
      "needs_background": "light"
     },
     "output_type": "display_data"
    }
   ],
   "source": [
    "plt.plot(region_rb_style_change.groupby(['year']).mean()['overall'].index, region_rb_style_change.groupby(['year']).mean()['overall'])\n",
    "plt.ylabel('Overal Score')\n",
    "plt.xlabel('Year')\n",
    "plt.title('Overall Score over time')\n",
    "plt.xticks([i for i in range(1998, 2018)], rotation=45)\n",
    "plt.show()"
   ],
   "metadata": {
    "collapsed": false,
    "pycharm": {
     "name": "#%%\n"
    }
   }
  },
  {
   "cell_type": "markdown",
   "source": [
    "The overall score are keep increasing. In 2017 it was almost 2 points higher than the year of 2000."
   ],
   "metadata": {
    "collapsed": false,
    "pycharm": {
     "name": "#%% md\n"
    }
   }
  },
  {
   "cell_type": "code",
   "execution_count": null,
   "outputs": [],
   "source": [],
   "metadata": {
    "collapsed": false,
    "pycharm": {
     "name": "#%%\n"
    }
   }
  }
 ],
 "metadata": {
  "kernelspec": {
   "display_name": "Python 3",
   "language": "python",
   "name": "python3"
  },
  "language_info": {
   "codemirror_mode": {
    "name": "ipython",
    "version": 2
   },
   "file_extension": ".py",
   "mimetype": "text/x-python",
   "name": "python",
   "nbconvert_exporter": "python",
   "pygments_lexer": "ipython2",
   "version": "2.7.6"
  }
 },
 "nbformat": 4,
 "nbformat_minor": 0
}