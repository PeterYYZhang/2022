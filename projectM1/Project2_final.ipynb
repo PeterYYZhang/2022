{
 "cells": [
  {
   "cell_type": "markdown",
   "metadata": {
    "pycharm": {
     "name": "#%% md\n"
    }
   },
   "source": [
    "# Project M2 (rename it)"
   ]
  },
  {
   "cell_type": "markdown",
   "metadata": {
    "pycharm": {
     "name": "#%% md\n"
    }
   },
   "source": [
    "First we import the needed libraries"
   ]
  },
  {
   "cell_type": "code",
   "execution_count": 1,
   "metadata": {
    "pycharm": {
     "name": "#%%\n"
    }
   },
   "outputs": [],
   "source": [
    "import warnings\n",
    "warnings.filterwarnings('ignore')\n",
    "\n",
    "import pandas as pd\n",
    "import numpy as np\n",
    "import matplotlib.pyplot as plt\n",
    "import seaborn as sns\n",
    "import datetime\n",
    "\n",
    "sns.set_style(\"darkgrid\")\n",
    "%matplotlib inline\n",
    "\n",
    "#load the statistical libraries\n",
    "from scipy import stats\n",
    "\n",
    "from sklearn.linear_model import LinearRegression, LogisticRegression, Ridge\n",
    "# from sklearn.preprocessing import OneHotEncoder\n",
    "# from pandas.plotting import scatter_matrix\n",
    "from sklearn.neighbors import KNeighborsClassifier\n",
    "from sklearn.model_selection import cross_val_predict\n",
    "from sklearn.model_selection import cross_val_score\n",
    "from sklearn.metrics import mean_squared_error, auc, roc_curve\n",
    "from statsmodels.stats import diagnostic\n",
    "from scipy import stats\n",
    "import statsmodels.api as sm\n",
    "import statsmodels.formula.api as smf\n",
    "\n",
    "from ipywidgets import interact\n",
    "from IPython.display import HTML,Javascript, display\n",
    "from sklearn import preprocessing"
   ]
  },
  {
   "cell_type": "markdown",
   "metadata": {
    "pycharm": {
     "name": "#%% md\n"
    }
   },
   "source": [
    "## Data preprocessing\n",
    "In this project, we will investigate in to two beer rating datasets, BeerAdvocate and RateBeer. Both datasets contain ```user```, ```brewery```, ```beeer``` and ```rating```."
   ]
  },
  {
   "cell_type": "markdown",
   "metadata": {
    "pycharm": {
     "name": "#%% md\n"
    }
   },
   "source": [
    "##### Note of rating files\n",
    "Since the **rating** files are txt files of about several gigabytes in size, we cannot handle it simultaneously. Therefore, we **sliced** them to several small pieces and then **combined** them into '.csv' files.\n",
    "\n",
    "The slicing process is extremely time-consuming, thus we won't put the code here. The method is just parsing the file line by line and add some number restrictions for each bulk. And transfer the '.txt' file to '.csv' file.\n",
    "\n",
    "We also filtered out the beer data which has less than 120 ratings. In this way each beer has enough rating for data analysis.**Add Why**\n",
    "\n",
    "We put the processed rating data in the same directory as this ipython notebook and name them as **after_pro_data_ba.csv** and **after_pro_data_rb.csv** for **BeerAdvocate** and **RateBeer** respectively."
   ]
  },
  {
   "cell_type": "markdown",
   "metadata": {
    "pycharm": {
     "name": "#%% md\n"
    }
   },
   "source": [
    "### Handle the missing value and initial data filtering"
   ]
  },
  {
   "cell_type": "markdown",
   "metadata": {
    "pycharm": {
     "name": "#%% md\n"
    }
   },
   "source": [
    "#### BeerAdvocate"
   ]
  },
  {
   "cell_type": "code",
   "execution_count": 2,
   "metadata": {
    "pycharm": {
     "name": "#%%\n"
    }
   },
   "outputs": [
    {
     "name": "stdout",
     "output_type": "stream",
     "text": [
      "Currently, there are 6264473 ratings on BeerAdvocate website\n"
     ]
    },
    {
     "data": {
      "text/html": [
       "<div>\n",
       "<style scoped>\n",
       "    .dataframe tbody tr th:only-of-type {\n",
       "        vertical-align: middle;\n",
       "    }\n",
       "\n",
       "    .dataframe tbody tr th {\n",
       "        vertical-align: top;\n",
       "    }\n",
       "\n",
       "    .dataframe thead th {\n",
       "        text-align: right;\n",
       "    }\n",
       "</style>\n",
       "<table border=\"1\" class=\"dataframe\">\n",
       "  <thead>\n",
       "    <tr style=\"text-align: right;\">\n",
       "      <th></th>\n",
       "      <th>beer_name</th>\n",
       "      <th>beer_id</th>\n",
       "      <th>brewery_name</th>\n",
       "      <th>brewery_id</th>\n",
       "      <th>style</th>\n",
       "      <th>abv</th>\n",
       "      <th>date</th>\n",
       "      <th>user_name</th>\n",
       "      <th>user_id</th>\n",
       "      <th>appearance</th>\n",
       "      <th>aroma</th>\n",
       "      <th>palate</th>\n",
       "      <th>taste</th>\n",
       "      <th>overall</th>\n",
       "      <th>rating</th>\n",
       "      <th>text</th>\n",
       "      <th>review</th>\n",
       "    </tr>\n",
       "  </thead>\n",
       "  <tbody>\n",
       "    <tr>\n",
       "      <th>0</th>\n",
       "      <td>Caffrey's Irish Ale</td>\n",
       "      <td>825</td>\n",
       "      <td>Thomas Caffrey Brewing Co.</td>\n",
       "      <td>297</td>\n",
       "      <td>Irish Red Ale</td>\n",
       "      <td>3.8</td>\n",
       "      <td>1500112800</td>\n",
       "      <td>GregKobeArntz24</td>\n",
       "      <td>gregkobearntz24.1206160</td>\n",
       "      <td>4.5</td>\n",
       "      <td>4.75</td>\n",
       "      <td>4.25</td>\n",
       "      <td>4.5</td>\n",
       "      <td>4.50</td>\n",
       "      <td>4.54</td>\n",
       "      <td>NaN</td>\n",
       "      <td>False</td>\n",
       "    </tr>\n",
       "    <tr>\n",
       "      <th>1</th>\n",
       "      <td>Caffrey's Irish Ale</td>\n",
       "      <td>825</td>\n",
       "      <td>Thomas Caffrey Brewing Co.</td>\n",
       "      <td>297</td>\n",
       "      <td>Irish Red Ale</td>\n",
       "      <td>3.8</td>\n",
       "      <td>1483182000</td>\n",
       "      <td>awjess</td>\n",
       "      <td>awjess.1185716</td>\n",
       "      <td>4.5</td>\n",
       "      <td>4.00</td>\n",
       "      <td>4.25</td>\n",
       "      <td>4.0</td>\n",
       "      <td>4.25</td>\n",
       "      <td>4.11</td>\n",
       "      <td>Look - Has a nice foamy head,   Feel - Creamy ...</td>\n",
       "      <td>False</td>\n",
       "    </tr>\n",
       "    <tr>\n",
       "      <th>2</th>\n",
       "      <td>Caffrey's Irish Ale</td>\n",
       "      <td>825</td>\n",
       "      <td>Thomas Caffrey Brewing Co.</td>\n",
       "      <td>297</td>\n",
       "      <td>Irish Red Ale</td>\n",
       "      <td>3.8</td>\n",
       "      <td>1468317600</td>\n",
       "      <td>fr0wn3r</td>\n",
       "      <td>fr0wn3r.862994</td>\n",
       "      <td>3.0</td>\n",
       "      <td>3.25</td>\n",
       "      <td>3.00</td>\n",
       "      <td>3.0</td>\n",
       "      <td>3.00</td>\n",
       "      <td>3.06</td>\n",
       "      <td>NaN</td>\n",
       "      <td>False</td>\n",
       "    </tr>\n",
       "    <tr>\n",
       "      <th>3</th>\n",
       "      <td>Caffrey's Irish Ale</td>\n",
       "      <td>825</td>\n",
       "      <td>Thomas Caffrey Brewing Co.</td>\n",
       "      <td>297</td>\n",
       "      <td>Irish Red Ale</td>\n",
       "      <td>3.8</td>\n",
       "      <td>1459418400</td>\n",
       "      <td>Fatehunter</td>\n",
       "      <td>fatehunter.326927</td>\n",
       "      <td>4.0</td>\n",
       "      <td>3.25</td>\n",
       "      <td>4.00</td>\n",
       "      <td>3.5</td>\n",
       "      <td>3.50</td>\n",
       "      <td>3.52</td>\n",
       "      <td>Pours a finger of head on a hazy darker straw ...</td>\n",
       "      <td>True</td>\n",
       "    </tr>\n",
       "    <tr>\n",
       "      <th>4</th>\n",
       "      <td>Caffrey's Irish Ale</td>\n",
       "      <td>825</td>\n",
       "      <td>Thomas Caffrey Brewing Co.</td>\n",
       "      <td>297</td>\n",
       "      <td>Irish Red Ale</td>\n",
       "      <td>3.8</td>\n",
       "      <td>1450263600</td>\n",
       "      <td>MTLDOG</td>\n",
       "      <td>mtldog.920333</td>\n",
       "      <td>4.5</td>\n",
       "      <td>3.75</td>\n",
       "      <td>4.00</td>\n",
       "      <td>3.0</td>\n",
       "      <td>3.75</td>\n",
       "      <td>3.52</td>\n",
       "      <td>NaN</td>\n",
       "      <td>False</td>\n",
       "    </tr>\n",
       "  </tbody>\n",
       "</table>\n",
       "</div>"
      ],
      "text/plain": [
       "             beer_name  beer_id                brewery_name  brewery_id  \\\n",
       "0  Caffrey's Irish Ale      825  Thomas Caffrey Brewing Co.         297   \n",
       "1  Caffrey's Irish Ale      825  Thomas Caffrey Brewing Co.         297   \n",
       "2  Caffrey's Irish Ale      825  Thomas Caffrey Brewing Co.         297   \n",
       "3  Caffrey's Irish Ale      825  Thomas Caffrey Brewing Co.         297   \n",
       "4  Caffrey's Irish Ale      825  Thomas Caffrey Brewing Co.         297   \n",
       "\n",
       "           style  abv        date        user_name                  user_id  \\\n",
       "0  Irish Red Ale  3.8  1500112800  GregKobeArntz24  gregkobearntz24.1206160   \n",
       "1  Irish Red Ale  3.8  1483182000           awjess           awjess.1185716   \n",
       "2  Irish Red Ale  3.8  1468317600          fr0wn3r           fr0wn3r.862994   \n",
       "3  Irish Red Ale  3.8  1459418400       Fatehunter        fatehunter.326927   \n",
       "4  Irish Red Ale  3.8  1450263600           MTLDOG            mtldog.920333   \n",
       "\n",
       "   appearance  aroma  palate  taste  overall  rating  \\\n",
       "0         4.5   4.75    4.25    4.5     4.50    4.54   \n",
       "1         4.5   4.00    4.25    4.0     4.25    4.11   \n",
       "2         3.0   3.25    3.00    3.0     3.00    3.06   \n",
       "3         4.0   3.25    4.00    3.5     3.50    3.52   \n",
       "4         4.5   3.75    4.00    3.0     3.75    3.52   \n",
       "\n",
       "                                                text  review  \n",
       "0                                                NaN   False  \n",
       "1  Look - Has a nice foamy head,   Feel - Creamy ...   False  \n",
       "2                                                NaN   False  \n",
       "3  Pours a finger of head on a hazy darker straw ...    True  \n",
       "4                                                NaN   False  "
      ]
     },
     "execution_count": 2,
     "metadata": {},
     "output_type": "execute_result"
    }
   ],
   "source": [
    "# Load ratings data from BeerAdvocate\n",
    "df_rating_ba = pd.read_csv('after_pro_data_ba.csv')\n",
    "df_rating_ba = df_rating_ba.drop(columns=['Unnamed: 0'])\n",
    "print(f'Currently, there are {len(df_rating_ba)} ratings on BeerAdvocate website')\n",
    "df_rating_ba.head()"
   ]
  },
  {
   "cell_type": "code",
   "execution_count": 3,
   "metadata": {
    "pycharm": {
     "name": "#%%\n"
    }
   },
   "outputs": [
    {
     "name": "stdout",
     "output_type": "stream",
     "text": [
      "There are 2971642 rows have NAN values in BeerAdvocate\n",
      "There are 2971642 rows with 5 NAN values in BeerAdvocate\n"
     ]
    },
    {
     "data": {
      "text/plain": [
       "count    2.971642e+06\n",
       "mean     3.902421e+00\n",
       "std      6.835105e-01\n",
       "min      1.000000e+00\n",
       "25%      3.500000e+00\n",
       "50%      4.000000e+00\n",
       "75%      4.250000e+00\n",
       "max      5.000000e+00\n",
       "Name: rating, dtype: float64"
      ]
     },
     "execution_count": 3,
     "metadata": {},
     "output_type": "execute_result"
    }
   ],
   "source": [
    "# The scoring attribute\n",
    "column_ = ['appearance', 'aroma', 'palate', 'taste', 'overall']\n",
    "print(f'There are {df_rating_ba [column_].isna().any(axis = 1).value_counts()[1]} rows have NAN values in BeerAdvocate')\n",
    "print(f'There are {np.sum(df_rating_ba [column_].isna().sum(axis = 1)==5)} rows with 5 NAN values in BeerAdvocate')\n",
    "compare_ba = df_rating_ba[df_rating_ba[column_].isna().any(axis = 1)]\n",
    "compare_ba['rating'].describe()"
   ]
  },
  {
   "cell_type": "markdown",
   "metadata": {
    "pycharm": {
     "name": "#%% md\n"
    }
   },
   "source": [
    "Here we found if there is no overall score, there wouldn't be detailed scores about one beer. We also check the website manually, and found that we should rate the appearance, aroma, palate, taste, overall together.\n",
    "However, these data all have the rating values. We don't think that these data are useful since we want to find some relationship of the detailed score to the rating and other perspectives. And since we will still have very large amout data after deleting them, we will just simply delete them."
   ]
  },
  {
   "cell_type": "code",
   "execution_count": 4,
   "metadata": {
    "pycharm": {
     "name": "#%%\n"
    }
   },
   "outputs": [
    {
     "data": {
      "text/plain": [
       "(3292831, 17)"
      ]
     },
     "execution_count": 4,
     "metadata": {},
     "output_type": "execute_result"
    }
   ],
   "source": [
    "#Delete all meaninigless lines\n",
    "df_rating_ba = df_rating_ba[~df_rating_ba[column_].isna().any(axis = 1)]\n",
    "df_rating_ba.shape"
   ]
  },
  {
   "cell_type": "markdown",
   "metadata": {
    "pycharm": {
     "name": "#%% md\n"
    }
   },
   "source": [
    "The user_id in BeerAdvocate rating dataset are composed of both of name and id we want to keep the numeric id for simplicity."
   ]
  },
  {
   "cell_type": "code",
   "execution_count": 5,
   "metadata": {
    "pycharm": {
     "name": "#%%\n"
    }
   },
   "outputs": [
    {
     "data": {
      "text/html": [
       "<div>\n",
       "<style scoped>\n",
       "    .dataframe tbody tr th:only-of-type {\n",
       "        vertical-align: middle;\n",
       "    }\n",
       "\n",
       "    .dataframe tbody tr th {\n",
       "        vertical-align: top;\n",
       "    }\n",
       "\n",
       "    .dataframe thead th {\n",
       "        text-align: right;\n",
       "    }\n",
       "</style>\n",
       "<table border=\"1\" class=\"dataframe\">\n",
       "  <thead>\n",
       "    <tr style=\"text-align: right;\">\n",
       "      <th></th>\n",
       "      <th>beer_name</th>\n",
       "      <th>beer_id</th>\n",
       "      <th>brewery_name</th>\n",
       "      <th>brewery_id</th>\n",
       "      <th>style</th>\n",
       "      <th>abv</th>\n",
       "      <th>date</th>\n",
       "      <th>user_name</th>\n",
       "      <th>user_id</th>\n",
       "      <th>appearance</th>\n",
       "      <th>aroma</th>\n",
       "      <th>palate</th>\n",
       "      <th>taste</th>\n",
       "      <th>overall</th>\n",
       "      <th>rating</th>\n",
       "      <th>text</th>\n",
       "      <th>review</th>\n",
       "    </tr>\n",
       "  </thead>\n",
       "  <tbody>\n",
       "    <tr>\n",
       "      <th>0</th>\n",
       "      <td>Caffrey's Irish Ale</td>\n",
       "      <td>825</td>\n",
       "      <td>Thomas Caffrey Brewing Co.</td>\n",
       "      <td>297</td>\n",
       "      <td>Irish Red Ale</td>\n",
       "      <td>3.8</td>\n",
       "      <td>1500112800</td>\n",
       "      <td>GregKobeArntz24</td>\n",
       "      <td>1206160</td>\n",
       "      <td>4.5</td>\n",
       "      <td>4.75</td>\n",
       "      <td>4.25</td>\n",
       "      <td>4.5</td>\n",
       "      <td>4.50</td>\n",
       "      <td>4.54</td>\n",
       "      <td>NaN</td>\n",
       "      <td>False</td>\n",
       "    </tr>\n",
       "    <tr>\n",
       "      <th>1</th>\n",
       "      <td>Caffrey's Irish Ale</td>\n",
       "      <td>825</td>\n",
       "      <td>Thomas Caffrey Brewing Co.</td>\n",
       "      <td>297</td>\n",
       "      <td>Irish Red Ale</td>\n",
       "      <td>3.8</td>\n",
       "      <td>1483182000</td>\n",
       "      <td>awjess</td>\n",
       "      <td>1185716</td>\n",
       "      <td>4.5</td>\n",
       "      <td>4.00</td>\n",
       "      <td>4.25</td>\n",
       "      <td>4.0</td>\n",
       "      <td>4.25</td>\n",
       "      <td>4.11</td>\n",
       "      <td>Look - Has a nice foamy head,   Feel - Creamy ...</td>\n",
       "      <td>False</td>\n",
       "    </tr>\n",
       "    <tr>\n",
       "      <th>2</th>\n",
       "      <td>Caffrey's Irish Ale</td>\n",
       "      <td>825</td>\n",
       "      <td>Thomas Caffrey Brewing Co.</td>\n",
       "      <td>297</td>\n",
       "      <td>Irish Red Ale</td>\n",
       "      <td>3.8</td>\n",
       "      <td>1468317600</td>\n",
       "      <td>fr0wn3r</td>\n",
       "      <td>862994</td>\n",
       "      <td>3.0</td>\n",
       "      <td>3.25</td>\n",
       "      <td>3.00</td>\n",
       "      <td>3.0</td>\n",
       "      <td>3.00</td>\n",
       "      <td>3.06</td>\n",
       "      <td>NaN</td>\n",
       "      <td>False</td>\n",
       "    </tr>\n",
       "    <tr>\n",
       "      <th>3</th>\n",
       "      <td>Caffrey's Irish Ale</td>\n",
       "      <td>825</td>\n",
       "      <td>Thomas Caffrey Brewing Co.</td>\n",
       "      <td>297</td>\n",
       "      <td>Irish Red Ale</td>\n",
       "      <td>3.8</td>\n",
       "      <td>1459418400</td>\n",
       "      <td>Fatehunter</td>\n",
       "      <td>326927</td>\n",
       "      <td>4.0</td>\n",
       "      <td>3.25</td>\n",
       "      <td>4.00</td>\n",
       "      <td>3.5</td>\n",
       "      <td>3.50</td>\n",
       "      <td>3.52</td>\n",
       "      <td>Pours a finger of head on a hazy darker straw ...</td>\n",
       "      <td>True</td>\n",
       "    </tr>\n",
       "    <tr>\n",
       "      <th>4</th>\n",
       "      <td>Caffrey's Irish Ale</td>\n",
       "      <td>825</td>\n",
       "      <td>Thomas Caffrey Brewing Co.</td>\n",
       "      <td>297</td>\n",
       "      <td>Irish Red Ale</td>\n",
       "      <td>3.8</td>\n",
       "      <td>1450263600</td>\n",
       "      <td>MTLDOG</td>\n",
       "      <td>920333</td>\n",
       "      <td>4.5</td>\n",
       "      <td>3.75</td>\n",
       "      <td>4.00</td>\n",
       "      <td>3.0</td>\n",
       "      <td>3.75</td>\n",
       "      <td>3.52</td>\n",
       "      <td>NaN</td>\n",
       "      <td>False</td>\n",
       "    </tr>\n",
       "  </tbody>\n",
       "</table>\n",
       "</div>"
      ],
      "text/plain": [
       "             beer_name  beer_id                brewery_name  brewery_id  \\\n",
       "0  Caffrey's Irish Ale      825  Thomas Caffrey Brewing Co.         297   \n",
       "1  Caffrey's Irish Ale      825  Thomas Caffrey Brewing Co.         297   \n",
       "2  Caffrey's Irish Ale      825  Thomas Caffrey Brewing Co.         297   \n",
       "3  Caffrey's Irish Ale      825  Thomas Caffrey Brewing Co.         297   \n",
       "4  Caffrey's Irish Ale      825  Thomas Caffrey Brewing Co.         297   \n",
       "\n",
       "           style  abv        date        user_name  user_id  appearance  \\\n",
       "0  Irish Red Ale  3.8  1500112800  GregKobeArntz24  1206160         4.5   \n",
       "1  Irish Red Ale  3.8  1483182000           awjess  1185716         4.5   \n",
       "2  Irish Red Ale  3.8  1468317600          fr0wn3r   862994         3.0   \n",
       "3  Irish Red Ale  3.8  1459418400       Fatehunter   326927         4.0   \n",
       "4  Irish Red Ale  3.8  1450263600           MTLDOG   920333         4.5   \n",
       "\n",
       "   aroma  palate  taste  overall  rating  \\\n",
       "0   4.75    4.25    4.5     4.50    4.54   \n",
       "1   4.00    4.25    4.0     4.25    4.11   \n",
       "2   3.25    3.00    3.0     3.00    3.06   \n",
       "3   3.25    4.00    3.5     3.50    3.52   \n",
       "4   3.75    4.00    3.0     3.75    3.52   \n",
       "\n",
       "                                                text  review  \n",
       "0                                                NaN   False  \n",
       "1  Look - Has a nice foamy head,   Feel - Creamy ...   False  \n",
       "2                                                NaN   False  \n",
       "3  Pours a finger of head on a hazy darker straw ...    True  \n",
       "4                                                NaN   False  "
      ]
     },
     "execution_count": 5,
     "metadata": {},
     "output_type": "execute_result"
    }
   ],
   "source": [
    "#spilt the user_id in BeerAdvocate\n",
    "def str_split(data):\n",
    "    return data.split('.')[1]\n",
    "df_rating_ba['user_id'] = df_rating_ba['user_id'].apply(str_split)\n",
    "df_rating_ba.head()"
   ]
  },
  {
   "cell_type": "markdown",
   "metadata": {
    "pycharm": {
     "name": "#%% md\n"
    }
   },
   "source": [
    "#### RateBeer\n",
    "We will do the similar process to the RateBeer dataset."
   ]
  },
  {
   "cell_type": "code",
   "execution_count": 6,
   "metadata": {
    "pycharm": {
     "name": "#%%\n"
    }
   },
   "outputs": [
    {
     "name": "stdout",
     "output_type": "stream",
     "text": [
      "Currently, there are 3443337 ratings on RateBeer website\n"
     ]
    },
    {
     "data": {
      "text/html": [
       "<div>\n",
       "<style scoped>\n",
       "    .dataframe tbody tr th:only-of-type {\n",
       "        vertical-align: middle;\n",
       "    }\n",
       "\n",
       "    .dataframe tbody tr th {\n",
       "        vertical-align: top;\n",
       "    }\n",
       "\n",
       "    .dataframe thead th {\n",
       "        text-align: right;\n",
       "    }\n",
       "</style>\n",
       "<table border=\"1\" class=\"dataframe\">\n",
       "  <thead>\n",
       "    <tr style=\"text-align: right;\">\n",
       "      <th></th>\n",
       "      <th>beer_name</th>\n",
       "      <th>beer_id</th>\n",
       "      <th>brewery_name</th>\n",
       "      <th>brewery_id</th>\n",
       "      <th>style</th>\n",
       "      <th>abv</th>\n",
       "      <th>date</th>\n",
       "      <th>user_name</th>\n",
       "      <th>user_id</th>\n",
       "      <th>appearance</th>\n",
       "      <th>aroma</th>\n",
       "      <th>palate</th>\n",
       "      <th>taste</th>\n",
       "      <th>overall</th>\n",
       "      <th>rating</th>\n",
       "      <th>text</th>\n",
       "    </tr>\n",
       "  </thead>\n",
       "  <tbody>\n",
       "    <tr>\n",
       "      <th>0</th>\n",
       "      <td>ABC Extra Stout</td>\n",
       "      <td>9226</td>\n",
       "      <td>Singapore Brewery (Asia Pacific Breweries-Hein...</td>\n",
       "      <td>547</td>\n",
       "      <td>Foreign Stout</td>\n",
       "      <td>7.0</td>\n",
       "      <td>1500199200</td>\n",
       "      <td>mcberko</td>\n",
       "      <td>95615</td>\n",
       "      <td>4</td>\n",
       "      <td>6</td>\n",
       "      <td>2</td>\n",
       "      <td>6</td>\n",
       "      <td>11</td>\n",
       "      <td>2.9</td>\n",
       "      <td>330mL can, Cambodian version (8%), pours black...</td>\n",
       "    </tr>\n",
       "    <tr>\n",
       "      <th>1</th>\n",
       "      <td>ABC Extra Stout</td>\n",
       "      <td>9226</td>\n",
       "      <td>Singapore Brewery (Asia Pacific Breweries-Hein...</td>\n",
       "      <td>547</td>\n",
       "      <td>Foreign Stout</td>\n",
       "      <td>7.0</td>\n",
       "      <td>1497780000</td>\n",
       "      <td>Grumbo</td>\n",
       "      <td>118968</td>\n",
       "      <td>3</td>\n",
       "      <td>7</td>\n",
       "      <td>4</td>\n",
       "      <td>6</td>\n",
       "      <td>12</td>\n",
       "      <td>3.2</td>\n",
       "      <td>Can at Johnâs courtesy of Henrik. Sri Lanka ...</td>\n",
       "    </tr>\n",
       "    <tr>\n",
       "      <th>2</th>\n",
       "      <td>ABC Extra Stout</td>\n",
       "      <td>9226</td>\n",
       "      <td>Singapore Brewery (Asia Pacific Breweries-Hein...</td>\n",
       "      <td>547</td>\n",
       "      <td>Foreign Stout</td>\n",
       "      <td>7.0</td>\n",
       "      <td>1497434400</td>\n",
       "      <td>alex_leit</td>\n",
       "      <td>243248</td>\n",
       "      <td>4</td>\n",
       "      <td>6</td>\n",
       "      <td>3</td>\n",
       "      <td>6</td>\n",
       "      <td>13</td>\n",
       "      <td>3.2</td>\n",
       "      <td>Can, Myanmar, 8,0%, dark brown color, coffee f...</td>\n",
       "    </tr>\n",
       "    <tr>\n",
       "      <th>3</th>\n",
       "      <td>ABC Extra Stout</td>\n",
       "      <td>9226</td>\n",
       "      <td>Singapore Brewery (Asia Pacific Breweries-Hein...</td>\n",
       "      <td>547</td>\n",
       "      <td>Foreign Stout</td>\n",
       "      <td>7.0</td>\n",
       "      <td>1491559200</td>\n",
       "      <td>gripweed57</td>\n",
       "      <td>60778</td>\n",
       "      <td>4</td>\n",
       "      <td>8</td>\n",
       "      <td>4</td>\n",
       "      <td>8</td>\n",
       "      <td>15</td>\n",
       "      <td>3.9</td>\n",
       "      <td>From old tasting notes. Pours an opaque black ...</td>\n",
       "    </tr>\n",
       "    <tr>\n",
       "      <th>4</th>\n",
       "      <td>ABC Extra Stout</td>\n",
       "      <td>9226</td>\n",
       "      <td>Singapore Brewery (Asia Pacific Breweries-Hein...</td>\n",
       "      <td>547</td>\n",
       "      <td>Foreign Stout</td>\n",
       "      <td>7.0</td>\n",
       "      <td>1486465200</td>\n",
       "      <td>fkoolen</td>\n",
       "      <td>261854</td>\n",
       "      <td>4</td>\n",
       "      <td>7</td>\n",
       "      <td>4</td>\n",
       "      <td>7</td>\n",
       "      <td>14</td>\n",
       "      <td>3.6</td>\n",
       "      <td>Big bottle in Nyaungshwe, Myanmar. Really dark...</td>\n",
       "    </tr>\n",
       "  </tbody>\n",
       "</table>\n",
       "</div>"
      ],
      "text/plain": [
       "         beer_name  beer_id  \\\n",
       "0  ABC Extra Stout     9226   \n",
       "1  ABC Extra Stout     9226   \n",
       "2  ABC Extra Stout     9226   \n",
       "3  ABC Extra Stout     9226   \n",
       "4  ABC Extra Stout     9226   \n",
       "\n",
       "                                        brewery_name  brewery_id  \\\n",
       "0  Singapore Brewery (Asia Pacific Breweries-Hein...         547   \n",
       "1  Singapore Brewery (Asia Pacific Breweries-Hein...         547   \n",
       "2  Singapore Brewery (Asia Pacific Breweries-Hein...         547   \n",
       "3  Singapore Brewery (Asia Pacific Breweries-Hein...         547   \n",
       "4  Singapore Brewery (Asia Pacific Breweries-Hein...         547   \n",
       "\n",
       "           style  abv        date   user_name  user_id  appearance  aroma  \\\n",
       "0  Foreign Stout  7.0  1500199200     mcberko    95615           4      6   \n",
       "1  Foreign Stout  7.0  1497780000      Grumbo   118968           3      7   \n",
       "2  Foreign Stout  7.0  1497434400   alex_leit   243248           4      6   \n",
       "3  Foreign Stout  7.0  1491559200  gripweed57    60778           4      8   \n",
       "4  Foreign Stout  7.0  1486465200     fkoolen   261854           4      7   \n",
       "\n",
       "   palate  taste  overall  rating  \\\n",
       "0       2      6       11     2.9   \n",
       "1       4      6       12     3.2   \n",
       "2       3      6       13     3.2   \n",
       "3       4      8       15     3.9   \n",
       "4       4      7       14     3.6   \n",
       "\n",
       "                                                text  \n",
       "0  330mL can, Cambodian version (8%), pours black...  \n",
       "1  Can at Johnâs courtesy of Henrik. Sri Lanka ...  \n",
       "2  Can, Myanmar, 8,0%, dark brown color, coffee f...  \n",
       "3  From old tasting notes. Pours an opaque black ...  \n",
       "4  Big bottle in Nyaungshwe, Myanmar. Really dark...  "
      ]
     },
     "execution_count": 6,
     "metadata": {},
     "output_type": "execute_result"
    }
   ],
   "source": [
    "# Load rating data on RateBeer website\n",
    "df_rating_rb = pd.read_csv('after_pro_data_rb.csv')\n",
    "df_rating_rb = df_rating_rb.drop(columns=['Unnamed: 0'])\n",
    "print(f'Currently, there are {len(df_rating_rb)} ratings on RateBeer website')\n",
    "df_rating_rb.head()"
   ]
  },
  {
   "cell_type": "code",
   "execution_count": 7,
   "metadata": {
    "pycharm": {
     "name": "#%%\n"
    }
   },
   "outputs": [
    {
     "name": "stdout",
     "output_type": "stream",
     "text": [
      "Thera are 3443337 rows don't have NAN value\n",
      "Thera are 0 rows with NAN value\n",
      "Since we don't have nan values we won't do the missing values handling here.\n"
     ]
    }
   ],
   "source": [
    "print(f\"Thera are {df_rating_rb[column_].isna().any(axis = 1).value_counts()[0]} rows don't have NAN value\")\n",
    "print(f'Thera are {np.sum(df_rating_rb [column_].isna().sum(axis = 1)==5)} rows with NAN value')\n",
    "compare_rb = df_rating_rb[df_rating_rb[column_].isna().any(axis = 1)]\n",
    "print(\"Since we don't have nan values we won't do the missing values handling here.\")"
   ]
  },
  {
   "cell_type": "markdown",
   "metadata": {
    "pycharm": {
     "name": "#%% md\n"
    }
   },
   "source": [
    "### Datasets preparation and more filtering\n",
    "#### BeerAdvocate\n",
    "We first map the scale of each rating to 0-5 to make a consistency between the two datasets."
   ]
  },
  {
   "cell_type": "code",
   "execution_count": 8,
   "metadata": {
    "pycharm": {
     "name": "#%%\n"
    }
   },
   "outputs": [
    {
     "data": {
      "text/html": [
       "<div>\n",
       "<style scoped>\n",
       "    .dataframe tbody tr th:only-of-type {\n",
       "        vertical-align: middle;\n",
       "    }\n",
       "\n",
       "    .dataframe tbody tr th {\n",
       "        vertical-align: top;\n",
       "    }\n",
       "\n",
       "    .dataframe thead th {\n",
       "        text-align: right;\n",
       "    }\n",
       "</style>\n",
       "<table border=\"1\" class=\"dataframe\">\n",
       "  <thead>\n",
       "    <tr style=\"text-align: right;\">\n",
       "      <th></th>\n",
       "      <th>beer_name</th>\n",
       "      <th>beer_id</th>\n",
       "      <th>brewery_name</th>\n",
       "      <th>brewery_id</th>\n",
       "      <th>style</th>\n",
       "      <th>abv</th>\n",
       "      <th>date</th>\n",
       "      <th>user_name</th>\n",
       "      <th>user_id</th>\n",
       "      <th>appearance</th>\n",
       "      <th>aroma</th>\n",
       "      <th>palate</th>\n",
       "      <th>taste</th>\n",
       "      <th>overall</th>\n",
       "      <th>rating</th>\n",
       "      <th>text</th>\n",
       "      <th>review</th>\n",
       "    </tr>\n",
       "  </thead>\n",
       "  <tbody>\n",
       "    <tr>\n",
       "      <th>0</th>\n",
       "      <td>Caffrey's Irish Ale</td>\n",
       "      <td>825</td>\n",
       "      <td>Thomas Caffrey Brewing Co.</td>\n",
       "      <td>297</td>\n",
       "      <td>Irish Red Ale</td>\n",
       "      <td>3.8</td>\n",
       "      <td>1500112800</td>\n",
       "      <td>GregKobeArntz24</td>\n",
       "      <td>1206160</td>\n",
       "      <td>4.375</td>\n",
       "      <td>4.6875</td>\n",
       "      <td>4.0625</td>\n",
       "      <td>4.375</td>\n",
       "      <td>4.3750</td>\n",
       "      <td>4.4250</td>\n",
       "      <td>NaN</td>\n",
       "      <td>False</td>\n",
       "    </tr>\n",
       "    <tr>\n",
       "      <th>1</th>\n",
       "      <td>Caffrey's Irish Ale</td>\n",
       "      <td>825</td>\n",
       "      <td>Thomas Caffrey Brewing Co.</td>\n",
       "      <td>297</td>\n",
       "      <td>Irish Red Ale</td>\n",
       "      <td>3.8</td>\n",
       "      <td>1483182000</td>\n",
       "      <td>awjess</td>\n",
       "      <td>1185716</td>\n",
       "      <td>4.375</td>\n",
       "      <td>3.7500</td>\n",
       "      <td>4.0625</td>\n",
       "      <td>3.750</td>\n",
       "      <td>4.0625</td>\n",
       "      <td>3.8875</td>\n",
       "      <td>Look - Has a nice foamy head,   Feel - Creamy ...</td>\n",
       "      <td>False</td>\n",
       "    </tr>\n",
       "    <tr>\n",
       "      <th>2</th>\n",
       "      <td>Caffrey's Irish Ale</td>\n",
       "      <td>825</td>\n",
       "      <td>Thomas Caffrey Brewing Co.</td>\n",
       "      <td>297</td>\n",
       "      <td>Irish Red Ale</td>\n",
       "      <td>3.8</td>\n",
       "      <td>1468317600</td>\n",
       "      <td>fr0wn3r</td>\n",
       "      <td>862994</td>\n",
       "      <td>2.500</td>\n",
       "      <td>2.8125</td>\n",
       "      <td>2.5000</td>\n",
       "      <td>2.500</td>\n",
       "      <td>2.5000</td>\n",
       "      <td>2.5750</td>\n",
       "      <td>NaN</td>\n",
       "      <td>False</td>\n",
       "    </tr>\n",
       "    <tr>\n",
       "      <th>3</th>\n",
       "      <td>Caffrey's Irish Ale</td>\n",
       "      <td>825</td>\n",
       "      <td>Thomas Caffrey Brewing Co.</td>\n",
       "      <td>297</td>\n",
       "      <td>Irish Red Ale</td>\n",
       "      <td>3.8</td>\n",
       "      <td>1459418400</td>\n",
       "      <td>Fatehunter</td>\n",
       "      <td>326927</td>\n",
       "      <td>3.750</td>\n",
       "      <td>2.8125</td>\n",
       "      <td>3.7500</td>\n",
       "      <td>3.125</td>\n",
       "      <td>3.1250</td>\n",
       "      <td>3.1500</td>\n",
       "      <td>Pours a finger of head on a hazy darker straw ...</td>\n",
       "      <td>True</td>\n",
       "    </tr>\n",
       "    <tr>\n",
       "      <th>4</th>\n",
       "      <td>Caffrey's Irish Ale</td>\n",
       "      <td>825</td>\n",
       "      <td>Thomas Caffrey Brewing Co.</td>\n",
       "      <td>297</td>\n",
       "      <td>Irish Red Ale</td>\n",
       "      <td>3.8</td>\n",
       "      <td>1450263600</td>\n",
       "      <td>MTLDOG</td>\n",
       "      <td>920333</td>\n",
       "      <td>4.375</td>\n",
       "      <td>3.4375</td>\n",
       "      <td>3.7500</td>\n",
       "      <td>2.500</td>\n",
       "      <td>3.4375</td>\n",
       "      <td>3.1500</td>\n",
       "      <td>NaN</td>\n",
       "      <td>False</td>\n",
       "    </tr>\n",
       "  </tbody>\n",
       "</table>\n",
       "</div>"
      ],
      "text/plain": [
       "             beer_name  beer_id                brewery_name  brewery_id  \\\n",
       "0  Caffrey's Irish Ale      825  Thomas Caffrey Brewing Co.         297   \n",
       "1  Caffrey's Irish Ale      825  Thomas Caffrey Brewing Co.         297   \n",
       "2  Caffrey's Irish Ale      825  Thomas Caffrey Brewing Co.         297   \n",
       "3  Caffrey's Irish Ale      825  Thomas Caffrey Brewing Co.         297   \n",
       "4  Caffrey's Irish Ale      825  Thomas Caffrey Brewing Co.         297   \n",
       "\n",
       "           style  abv        date        user_name  user_id  appearance  \\\n",
       "0  Irish Red Ale  3.8  1500112800  GregKobeArntz24  1206160       4.375   \n",
       "1  Irish Red Ale  3.8  1483182000           awjess  1185716       4.375   \n",
       "2  Irish Red Ale  3.8  1468317600          fr0wn3r   862994       2.500   \n",
       "3  Irish Red Ale  3.8  1459418400       Fatehunter   326927       3.750   \n",
       "4  Irish Red Ale  3.8  1450263600           MTLDOG   920333       4.375   \n",
       "\n",
       "    aroma  palate  taste  overall  rating  \\\n",
       "0  4.6875  4.0625  4.375   4.3750  4.4250   \n",
       "1  3.7500  4.0625  3.750   4.0625  3.8875   \n",
       "2  2.8125  2.5000  2.500   2.5000  2.5750   \n",
       "3  2.8125  3.7500  3.125   3.1250  3.1500   \n",
       "4  3.4375  3.7500  2.500   3.4375  3.1500   \n",
       "\n",
       "                                                text  review  \n",
       "0                                                NaN   False  \n",
       "1  Look - Has a nice foamy head,   Feel - Creamy ...   False  \n",
       "2                                                NaN   False  \n",
       "3  Pours a finger of head on a hazy darker straw ...    True  \n",
       "4                                                NaN   False  "
      ]
     },
     "execution_count": 8,
     "metadata": {},
     "output_type": "execute_result"
    }
   ],
   "source": [
    "column_list = ['appearance', 'aroma', 'palate', 'taste', 'overall','rating']\n",
    "list_value = df_rating_ba[column_list].values\n",
    "min_max_scaler = preprocessing.MinMaxScaler()\n",
    "list_value_scaler = min_max_scaler.fit_transform(list_value) * 5\n",
    "data_temp_ba = pd.DataFrame(list_value_scaler,columns=column_list,index = df_rating_ba.index)\n",
    "df_rating_ba[column_list] = data_temp_ba\n",
    "\n",
    "df_rating_ba.head()"
   ]
  },
  {
   "cell_type": "markdown",
   "metadata": {
    "pycharm": {
     "name": "#%% md\n"
    }
   },
   "source": [
    "By doing some simple regression study we find there exist perfect linear relationship between 'overall', 'aroma', 'palate', 'taste', 'overall', 'rating'."
   ]
  },
  {
   "cell_type": "code",
   "execution_count": 9,
   "metadata": {
    "pycharm": {
     "name": "#%%\n"
    }
   },
   "outputs": [
    {
     "name": "stdout",
     "output_type": "stream",
     "text": [
      "                            OLS Regression Results                            \n",
      "==============================================================================\n",
      "Dep. Variable:                 rating   R-squared:                       1.000\n",
      "Model:                            OLS   Adj. R-squared:                  1.000\n",
      "Method:                 Least Squares   F-statistic:                 4.904e+10\n",
      "Date:                Wed, 07 Dec 2022   Prob (F-statistic):               0.00\n",
      "Time:                        15:40:36   Log-Likelihood:             1.4883e+07\n",
      "No. Observations:             3292831   AIC:                        -2.977e+07\n",
      "Df Residuals:                 3292825   BIC:                        -2.977e+07\n",
      "Df Model:                           5                                         \n",
      "Covariance Type:            nonrobust                                         \n",
      "==============================================================================\n",
      "                 coef    std err          t      P>|t|      [0.025      0.975]\n",
      "------------------------------------------------------------------------------\n",
      "Intercept      0.0003    8.3e-06     37.210      0.000       0.000       0.000\n",
      "appearance     0.0601   2.95e-06   2.04e+04      0.000       0.060       0.060\n",
      "aroma          0.2401   3.12e-06   7.69e+04      0.000       0.240       0.240\n",
      "palate         0.1001   3.46e-06    2.9e+04      0.000       0.100       0.100\n",
      "taste          0.4001   4.04e-06   9.89e+04      0.000       0.400       0.400\n",
      "overall        0.1999   4.09e-06   4.88e+04      0.000       0.200       0.200\n",
      "==============================================================================\n",
      "Omnibus:                   572478.286   Durbin-Watson:                   1.613\n",
      "Prob(Omnibus):                  0.000   Jarque-Bera (JB):           873283.288\n",
      "Skew:                           1.244   Prob(JB):                         0.00\n",
      "Kurtosis:                       2.584   Cond. No.                         48.7\n",
      "==============================================================================\n",
      "\n",
      "Notes:\n",
      "[1] Standard Errors assume that the covariance matrix of the errors is correctly specified.\n",
      "The R-squared is 1.000 so it is of perfect linear relationship.\n"
     ]
    }
   ],
   "source": [
    "# Use linear regression to fit our data\n",
    "mod_ba = smf.ols(formula='rating ~appearance + aroma + palate + taste + overall',data = df_rating_ba)\n",
    "res_ba = mod_ba.fit()\n",
    "print(res_ba.summary())\n",
    "print(f'The R-squared is 1.000 so it is of perfect linear relationship.')"
   ]
  },
  {
   "cell_type": "markdown",
   "metadata": {
    "pycharm": {
     "name": "#%% md\n"
    }
   },
   "source": [
    "We also find that there exists some ratings that the **overall** score exceeds the average of the other 4 features(can do this due to the perfect linear relationship). We consider this situation as invalid ratings. Because in common sense, if the detailed features of a beer is good/bad the overall will not be bad/good. And we set the difference threshold to 1.5(in scale of 5)."
   ]
  },
  {
   "cell_type": "code",
   "execution_count": 10,
   "metadata": {
    "pycharm": {
     "name": "#%%\n"
    }
   },
   "outputs": [
    {
     "data": {
      "text/plain": [
       "(3266748, 17)"
      ]
     },
     "execution_count": 10,
     "metadata": {},
     "output_type": "execute_result"
    }
   ],
   "source": [
    "df_rating_ba['average'] = df_rating_ba[['appearance','aroma','palate','taste']].mean(axis = 1)\n",
    "df_rating_ba['diff'] = np.abs(df_rating_ba['overall']-df_rating_ba['average'])\n",
    "df_rating_ba = df_rating_ba[df_rating_ba['diff'] <1.5]\n",
    "df_rating_ba = df_rating_ba.drop(columns=['average','diff'])\n",
    "df_rating_ba.shape"
   ]
  },
  {
   "cell_type": "code",
   "execution_count": 11,
   "metadata": {
    "pycharm": {
     "name": "#%%\n"
    }
   },
   "outputs": [
    {
     "data": {
      "text/html": [
       "<div>\n",
       "<style scoped>\n",
       "    .dataframe tbody tr th:only-of-type {\n",
       "        vertical-align: middle;\n",
       "    }\n",
       "\n",
       "    .dataframe tbody tr th {\n",
       "        vertical-align: top;\n",
       "    }\n",
       "\n",
       "    .dataframe thead th {\n",
       "        text-align: right;\n",
       "    }\n",
       "</style>\n",
       "<table border=\"1\" class=\"dataframe\">\n",
       "  <thead>\n",
       "    <tr style=\"text-align: right;\">\n",
       "      <th></th>\n",
       "      <th>nbr_ratings</th>\n",
       "      <th>nbr_reviews</th>\n",
       "      <th>user_id</th>\n",
       "      <th>user_name</th>\n",
       "      <th>joined</th>\n",
       "      <th>location</th>\n",
       "    </tr>\n",
       "  </thead>\n",
       "  <tbody>\n",
       "    <tr>\n",
       "      <th>0</th>\n",
       "      <td>7820</td>\n",
       "      <td>465</td>\n",
       "      <td>184925</td>\n",
       "      <td>nmann08</td>\n",
       "      <td>1.199704e+09</td>\n",
       "      <td>United States, Washington</td>\n",
       "    </tr>\n",
       "    <tr>\n",
       "      <th>1</th>\n",
       "      <td>2521</td>\n",
       "      <td>2504</td>\n",
       "      <td>163714</td>\n",
       "      <td>StJamesGate</td>\n",
       "      <td>1.191838e+09</td>\n",
       "      <td>United States, New York</td>\n",
       "    </tr>\n",
       "    <tr>\n",
       "      <th>2</th>\n",
       "      <td>1797</td>\n",
       "      <td>1143</td>\n",
       "      <td>19527</td>\n",
       "      <td>mdagnew</td>\n",
       "      <td>1.116410e+09</td>\n",
       "      <td>Northern Ireland</td>\n",
       "    </tr>\n",
       "    <tr>\n",
       "      <th>3</th>\n",
       "      <td>31</td>\n",
       "      <td>31</td>\n",
       "      <td>10867</td>\n",
       "      <td>helloloser12345</td>\n",
       "      <td>1.101380e+09</td>\n",
       "      <td>Northern Ireland</td>\n",
       "    </tr>\n",
       "    <tr>\n",
       "      <th>4</th>\n",
       "      <td>604</td>\n",
       "      <td>604</td>\n",
       "      <td>3708</td>\n",
       "      <td>cypressbob</td>\n",
       "      <td>1.069326e+09</td>\n",
       "      <td>Northern Ireland</td>\n",
       "    </tr>\n",
       "  </tbody>\n",
       "</table>\n",
       "</div>"
      ],
      "text/plain": [
       "   nbr_ratings  nbr_reviews user_id        user_name        joined  \\\n",
       "0         7820          465  184925          nmann08  1.199704e+09   \n",
       "1         2521         2504  163714      StJamesGate  1.191838e+09   \n",
       "2         1797         1143   19527          mdagnew  1.116410e+09   \n",
       "3           31           31   10867  helloloser12345  1.101380e+09   \n",
       "4          604          604    3708       cypressbob  1.069326e+09   \n",
       "\n",
       "                    location  \n",
       "0  United States, Washington  \n",
       "1    United States, New York  \n",
       "2           Northern Ireland  \n",
       "3           Northern Ireland  \n",
       "4           Northern Ireland  "
      ]
     },
     "execution_count": 11,
     "metadata": {},
     "output_type": "execute_result"
    }
   ],
   "source": [
    "# Load user data from BeerAdvocate\n",
    "df_user_ba = pd.read_csv('BeerAdvocate/users.csv')\n",
    "df_user_ba['user_id'] = df_user_ba['user_id'].apply(str_split)\n",
    "df_user_ba.head()"
   ]
  },
  {
   "cell_type": "code",
   "execution_count": 12,
   "metadata": {
    "pycharm": {
     "name": "#%%\n"
    }
   },
   "outputs": [
    {
     "data": {
      "text/html": [
       "<div>\n",
       "<style scoped>\n",
       "    .dataframe tbody tr th:only-of-type {\n",
       "        vertical-align: middle;\n",
       "    }\n",
       "\n",
       "    .dataframe tbody tr th {\n",
       "        vertical-align: top;\n",
       "    }\n",
       "\n",
       "    .dataframe thead th {\n",
       "        text-align: right;\n",
       "    }\n",
       "</style>\n",
       "<table border=\"1\" class=\"dataframe\">\n",
       "  <thead>\n",
       "    <tr style=\"text-align: right;\">\n",
       "      <th></th>\n",
       "      <th>beer_id</th>\n",
       "      <th>beer_name</th>\n",
       "      <th>brewery_id</th>\n",
       "      <th>brewery_name</th>\n",
       "      <th>style</th>\n",
       "      <th>nbr_ratings</th>\n",
       "      <th>nbr_reviews</th>\n",
       "      <th>avg</th>\n",
       "      <th>ba_score</th>\n",
       "      <th>bros_score</th>\n",
       "      <th>abv</th>\n",
       "      <th>avg_computed</th>\n",
       "      <th>zscore</th>\n",
       "      <th>nbr_matched_valid_ratings</th>\n",
       "      <th>avg_matched_valid_ratings</th>\n",
       "    </tr>\n",
       "  </thead>\n",
       "  <tbody>\n",
       "    <tr>\n",
       "      <th>0</th>\n",
       "      <td>166064</td>\n",
       "      <td>Nashe Moskovskoe</td>\n",
       "      <td>39912</td>\n",
       "      <td>Abdysh-Ata (Абдыш Ата)</td>\n",
       "      <td>Euro Pale Lager</td>\n",
       "      <td>0</td>\n",
       "      <td>0</td>\n",
       "      <td>NaN</td>\n",
       "      <td>NaN</td>\n",
       "      <td>NaN</td>\n",
       "      <td>4.7</td>\n",
       "      <td>NaN</td>\n",
       "      <td>NaN</td>\n",
       "      <td>0</td>\n",
       "      <td>NaN</td>\n",
       "    </tr>\n",
       "    <tr>\n",
       "      <th>1</th>\n",
       "      <td>166065</td>\n",
       "      <td>Nashe Pivovskoe</td>\n",
       "      <td>39912</td>\n",
       "      <td>Abdysh-Ata (Абдыш Ата)</td>\n",
       "      <td>Euro Pale Lager</td>\n",
       "      <td>0</td>\n",
       "      <td>0</td>\n",
       "      <td>NaN</td>\n",
       "      <td>NaN</td>\n",
       "      <td>NaN</td>\n",
       "      <td>3.8</td>\n",
       "      <td>NaN</td>\n",
       "      <td>NaN</td>\n",
       "      <td>0</td>\n",
       "      <td>NaN</td>\n",
       "    </tr>\n",
       "    <tr>\n",
       "      <th>2</th>\n",
       "      <td>166066</td>\n",
       "      <td>Nashe Shakhterskoe</td>\n",
       "      <td>39912</td>\n",
       "      <td>Abdysh-Ata (Абдыш Ата)</td>\n",
       "      <td>Euro Pale Lager</td>\n",
       "      <td>0</td>\n",
       "      <td>0</td>\n",
       "      <td>NaN</td>\n",
       "      <td>NaN</td>\n",
       "      <td>NaN</td>\n",
       "      <td>4.8</td>\n",
       "      <td>NaN</td>\n",
       "      <td>NaN</td>\n",
       "      <td>0</td>\n",
       "      <td>NaN</td>\n",
       "    </tr>\n",
       "    <tr>\n",
       "      <th>3</th>\n",
       "      <td>166067</td>\n",
       "      <td>Nashe Zhigulevskoe</td>\n",
       "      <td>39912</td>\n",
       "      <td>Abdysh-Ata (Абдыш Ата)</td>\n",
       "      <td>Euro Pale Lager</td>\n",
       "      <td>0</td>\n",
       "      <td>0</td>\n",
       "      <td>NaN</td>\n",
       "      <td>NaN</td>\n",
       "      <td>NaN</td>\n",
       "      <td>4.0</td>\n",
       "      <td>NaN</td>\n",
       "      <td>NaN</td>\n",
       "      <td>0</td>\n",
       "      <td>NaN</td>\n",
       "    </tr>\n",
       "    <tr>\n",
       "      <th>4</th>\n",
       "      <td>166063</td>\n",
       "      <td>Zhivoe</td>\n",
       "      <td>39912</td>\n",
       "      <td>Abdysh-Ata (Абдыш Ата)</td>\n",
       "      <td>Euro Pale Lager</td>\n",
       "      <td>0</td>\n",
       "      <td>0</td>\n",
       "      <td>NaN</td>\n",
       "      <td>NaN</td>\n",
       "      <td>NaN</td>\n",
       "      <td>4.5</td>\n",
       "      <td>NaN</td>\n",
       "      <td>NaN</td>\n",
       "      <td>0</td>\n",
       "      <td>NaN</td>\n",
       "    </tr>\n",
       "  </tbody>\n",
       "</table>\n",
       "</div>"
      ],
      "text/plain": [
       "   beer_id           beer_name  brewery_id            brewery_name  \\\n",
       "0   166064    Nashe Moskovskoe       39912  Abdysh-Ata (Абдыш Ата)   \n",
       "1   166065     Nashe Pivovskoe       39912  Abdysh-Ata (Абдыш Ата)   \n",
       "2   166066  Nashe Shakhterskoe       39912  Abdysh-Ata (Абдыш Ата)   \n",
       "3   166067  Nashe Zhigulevskoe       39912  Abdysh-Ata (Абдыш Ата)   \n",
       "4   166063              Zhivoe       39912  Abdysh-Ata (Абдыш Ата)   \n",
       "\n",
       "             style  nbr_ratings  nbr_reviews  avg  ba_score  bros_score  abv  \\\n",
       "0  Euro Pale Lager            0            0  NaN       NaN         NaN  4.7   \n",
       "1  Euro Pale Lager            0            0  NaN       NaN         NaN  3.8   \n",
       "2  Euro Pale Lager            0            0  NaN       NaN         NaN  4.8   \n",
       "3  Euro Pale Lager            0            0  NaN       NaN         NaN  4.0   \n",
       "4  Euro Pale Lager            0            0  NaN       NaN         NaN  4.5   \n",
       "\n",
       "   avg_computed  zscore  nbr_matched_valid_ratings  avg_matched_valid_ratings  \n",
       "0           NaN     NaN                          0                        NaN  \n",
       "1           NaN     NaN                          0                        NaN  \n",
       "2           NaN     NaN                          0                        NaN  \n",
       "3           NaN     NaN                          0                        NaN  \n",
       "4           NaN     NaN                          0                        NaN  "
      ]
     },
     "execution_count": 12,
     "metadata": {},
     "output_type": "execute_result"
    }
   ],
   "source": [
    "# Load beer data from BeerAdvocate\n",
    "df_beer_ba = pd.read_csv('BeerAdvocate/beers.csv')\n",
    "df_beer_ba.head()"
   ]
  },
  {
   "cell_type": "code",
   "execution_count": 13,
   "metadata": {
    "pycharm": {
     "name": "#%%\n"
    }
   },
   "outputs": [
    {
     "data": {
      "text/html": [
       "<div>\n",
       "<style scoped>\n",
       "    .dataframe tbody tr th:only-of-type {\n",
       "        vertical-align: middle;\n",
       "    }\n",
       "\n",
       "    .dataframe tbody tr th {\n",
       "        vertical-align: top;\n",
       "    }\n",
       "\n",
       "    .dataframe thead th {\n",
       "        text-align: right;\n",
       "    }\n",
       "</style>\n",
       "<table border=\"1\" class=\"dataframe\">\n",
       "  <thead>\n",
       "    <tr style=\"text-align: right;\">\n",
       "      <th></th>\n",
       "      <th>id</th>\n",
       "      <th>location</th>\n",
       "      <th>name</th>\n",
       "      <th>nbr_beers</th>\n",
       "    </tr>\n",
       "  </thead>\n",
       "  <tbody>\n",
       "    <tr>\n",
       "      <th>0</th>\n",
       "      <td>39912</td>\n",
       "      <td>Kyrgyzstan</td>\n",
       "      <td>Abdysh-Ata (Абдыш Ата)</td>\n",
       "      <td>5</td>\n",
       "    </tr>\n",
       "    <tr>\n",
       "      <th>1</th>\n",
       "      <td>39913</td>\n",
       "      <td>Kyrgyzstan</td>\n",
       "      <td>Arpa (АРПА)</td>\n",
       "      <td>1</td>\n",
       "    </tr>\n",
       "    <tr>\n",
       "      <th>2</th>\n",
       "      <td>39914</td>\n",
       "      <td>Kyrgyzstan</td>\n",
       "      <td>Bear Beer</td>\n",
       "      <td>4</td>\n",
       "    </tr>\n",
       "    <tr>\n",
       "      <th>3</th>\n",
       "      <td>39915</td>\n",
       "      <td>Kyrgyzstan</td>\n",
       "      <td>Blonder Pub</td>\n",
       "      <td>4</td>\n",
       "    </tr>\n",
       "    <tr>\n",
       "      <th>4</th>\n",
       "      <td>39916</td>\n",
       "      <td>Kyrgyzstan</td>\n",
       "      <td>Kellers Bier</td>\n",
       "      <td>2</td>\n",
       "    </tr>\n",
       "  </tbody>\n",
       "</table>\n",
       "</div>"
      ],
      "text/plain": [
       "      id    location                    name  nbr_beers\n",
       "0  39912  Kyrgyzstan  Abdysh-Ata (Абдыш Ата)          5\n",
       "1  39913  Kyrgyzstan             Arpa (АРПА)          1\n",
       "2  39914  Kyrgyzstan               Bear Beer          4\n",
       "3  39915  Kyrgyzstan             Blonder Pub          4\n",
       "4  39916  Kyrgyzstan            Kellers Bier          2"
      ]
     },
     "execution_count": 13,
     "metadata": {},
     "output_type": "execute_result"
    }
   ],
   "source": [
    "# Load brewery data from BeerAdvocate\n",
    "df_brewery_ba = pd.read_csv('BeerAdvocate/breweries.csv')\n",
    "df_brewery_ba.head()"
   ]
  },
  {
   "cell_type": "code",
   "execution_count": 14,
   "metadata": {
    "pycharm": {
     "name": "#%%\n"
    }
   },
   "outputs": [],
   "source": [
    "# Merge data based on user id in order to get users' location\n",
    "#user_region = df_user_ba[['user_id', 'location']]\n",
    "region_ba = pd.merge(df_rating_ba, df_user_ba, how=\"left\", left_on='user_id', right_on='user_id')"
   ]
  },
  {
   "cell_type": "code",
   "execution_count": 15,
   "metadata": {
    "pycharm": {
     "name": "#%%\n"
    }
   },
   "outputs": [
    {
     "data": {
      "text/html": [
       "<div>\n",
       "<style scoped>\n",
       "    .dataframe tbody tr th:only-of-type {\n",
       "        vertical-align: middle;\n",
       "    }\n",
       "\n",
       "    .dataframe tbody tr th {\n",
       "        vertical-align: top;\n",
       "    }\n",
       "\n",
       "    .dataframe thead th {\n",
       "        text-align: right;\n",
       "    }\n",
       "</style>\n",
       "<table border=\"1\" class=\"dataframe\">\n",
       "  <thead>\n",
       "    <tr style=\"text-align: right;\">\n",
       "      <th></th>\n",
       "      <th>location</th>\n",
       "      <th>count</th>\n",
       "    </tr>\n",
       "  </thead>\n",
       "  <tbody>\n",
       "    <tr>\n",
       "      <th>0</th>\n",
       "      <td>United States, Pennsylvania</td>\n",
       "      <td>260952</td>\n",
       "    </tr>\n",
       "    <tr>\n",
       "      <th>1</th>\n",
       "      <td>United States, California</td>\n",
       "      <td>235136</td>\n",
       "    </tr>\n",
       "    <tr>\n",
       "      <th>2</th>\n",
       "      <td>United States, New York</td>\n",
       "      <td>209952</td>\n",
       "    </tr>\n",
       "    <tr>\n",
       "      <th>3</th>\n",
       "      <td>United States, Illinois</td>\n",
       "      <td>201059</td>\n",
       "    </tr>\n",
       "    <tr>\n",
       "      <th>4</th>\n",
       "      <td>United States, Massachusetts</td>\n",
       "      <td>178341</td>\n",
       "    </tr>\n",
       "    <tr>\n",
       "      <th>5</th>\n",
       "      <td>United States, Ohio</td>\n",
       "      <td>136446</td>\n",
       "    </tr>\n",
       "    <tr>\n",
       "      <th>6</th>\n",
       "      <td>United States, Texas</td>\n",
       "      <td>132515</td>\n",
       "    </tr>\n",
       "    <tr>\n",
       "      <th>7</th>\n",
       "      <td>United States, New Jersey</td>\n",
       "      <td>109257</td>\n",
       "    </tr>\n",
       "    <tr>\n",
       "      <th>8</th>\n",
       "      <td>United States, Florida</td>\n",
       "      <td>95612</td>\n",
       "    </tr>\n",
       "    <tr>\n",
       "      <th>9</th>\n",
       "      <td>United States, Virginia</td>\n",
       "      <td>95248</td>\n",
       "    </tr>\n",
       "    <tr>\n",
       "      <th>10</th>\n",
       "      <td>United States, Michigan</td>\n",
       "      <td>94560</td>\n",
       "    </tr>\n",
       "    <tr>\n",
       "      <th>11</th>\n",
       "      <td>United States, Minnesota</td>\n",
       "      <td>93453</td>\n",
       "    </tr>\n",
       "    <tr>\n",
       "      <th>12</th>\n",
       "      <td>Canada</td>\n",
       "      <td>89853</td>\n",
       "    </tr>\n",
       "    <tr>\n",
       "      <th>13</th>\n",
       "      <td>United States, North Carolina</td>\n",
       "      <td>84890</td>\n",
       "    </tr>\n",
       "    <tr>\n",
       "      <th>14</th>\n",
       "      <td>United States, Washington</td>\n",
       "      <td>80398</td>\n",
       "    </tr>\n",
       "    <tr>\n",
       "      <th>15</th>\n",
       "      <td>United States, Connecticut</td>\n",
       "      <td>72007</td>\n",
       "    </tr>\n",
       "    <tr>\n",
       "      <th>16</th>\n",
       "      <td>United States, Maryland</td>\n",
       "      <td>70820</td>\n",
       "    </tr>\n",
       "    <tr>\n",
       "      <th>17</th>\n",
       "      <td>United States, Colorado</td>\n",
       "      <td>69393</td>\n",
       "    </tr>\n",
       "    <tr>\n",
       "      <th>18</th>\n",
       "      <td>United States, Wisconsin</td>\n",
       "      <td>66584</td>\n",
       "    </tr>\n",
       "    <tr>\n",
       "      <th>19</th>\n",
       "      <td>United States, Georgia</td>\n",
       "      <td>61790</td>\n",
       "    </tr>\n",
       "  </tbody>\n",
       "</table>\n",
       "</div>"
      ],
      "text/plain": [
       "                         location   count\n",
       "0     United States, Pennsylvania  260952\n",
       "1       United States, California  235136\n",
       "2         United States, New York  209952\n",
       "3         United States, Illinois  201059\n",
       "4    United States, Massachusetts  178341\n",
       "5             United States, Ohio  136446\n",
       "6            United States, Texas  132515\n",
       "7       United States, New Jersey  109257\n",
       "8          United States, Florida   95612\n",
       "9         United States, Virginia   95248\n",
       "10        United States, Michigan   94560\n",
       "11       United States, Minnesota   93453\n",
       "12                         Canada   89853\n",
       "13  United States, North Carolina   84890\n",
       "14      United States, Washington   80398\n",
       "15     United States, Connecticut   72007\n",
       "16        United States, Maryland   70820\n",
       "17        United States, Colorado   69393\n",
       "18       United States, Wisconsin   66584\n",
       "19         United States, Georgia   61790"
      ]
     },
     "execution_count": 15,
     "metadata": {},
     "output_type": "execute_result"
    }
   ],
   "source": [
    "region_agg = region_ba[['location', 'beer_id']].groupby('location').agg('count')\n",
    "region_agg = pd.DataFrame(region_agg.to_records())\n",
    "region_agg.rename(columns={'beer_id':'count'}, inplace=True)\n",
    "region_agg = region_agg.sort_values(by=['count'], ascending=False)\n",
    "region_agg.reset_index(inplace=True, drop=True)\n",
    "# Print top 20 region\n",
    "region_agg.head(20)"
   ]
  },
  {
   "cell_type": "markdown",
   "metadata": {
    "pycharm": {
     "name": "#%% md\n"
    }
   },
   "source": [
    "#### RateBeer\n",
    "First map to scale to 0-5 then filtered the invalid rating as previous steps"
   ]
  },
  {
   "cell_type": "code",
   "execution_count": 16,
   "metadata": {
    "pycharm": {
     "name": "#%%\n"
    }
   },
   "outputs": [],
   "source": [
    "list_value_rb = df_rating_rb[column_list].values\n",
    "list_value_scaler_rb = min_max_scaler.fit_transform(list_value_rb) * 5\n",
    "data_temp_rb = pd.DataFrame(list_value_scaler_rb,columns=column_list,index = df_rating_rb.index)\n",
    "df_rating_rb[column_list] = data_temp_rb"
   ]
  },
  {
   "cell_type": "code",
   "execution_count": 17,
   "metadata": {
    "pycharm": {
     "name": "#%%\n"
    }
   },
   "outputs": [
    {
     "name": "stdout",
     "output_type": "stream",
     "text": [
      "                            OLS Regression Results                            \n",
      "==============================================================================\n",
      "Dep. Variable:                 rating   R-squared:                       1.000\n",
      "Model:                            OLS   Adj. R-squared:                  1.000\n",
      "Method:                 Least Squares   F-statistic:                 1.529e+11\n",
      "Date:                Wed, 07 Dec 2022   Prob (F-statistic):               0.00\n",
      "Time:                        15:40:45   Log-Likelihood:             1.7073e+07\n",
      "No. Observations:             3443337   AIC:                        -3.415e+07\n",
      "Df Residuals:                 3443331   BIC:                        -3.415e+07\n",
      "Df Model:                           5                                         \n",
      "Covariance Type:            nonrobust                                         \n",
      "==============================================================================\n",
      "                 coef    std err          t      P>|t|      [0.025      0.975]\n",
      "------------------------------------------------------------------------------\n",
      "Intercept   5.049e-06   3.86e-06      1.309      0.190   -2.51e-06    1.26e-05\n",
      "appearance     0.0889   1.14e-06   7.81e+04      0.000       0.089       0.089\n",
      "aroma          0.2000   1.75e-06   1.14e+05      0.000       0.200       0.200\n",
      "palate         0.0889   1.29e-06   6.88e+04      0.000       0.089       0.089\n",
      "taste          0.2000   2.24e-06   8.92e+04      0.000       0.200       0.200\n",
      "overall        0.4222   2.25e-06   1.88e+05      0.000       0.422       0.422\n",
      "==================================================================================\n",
      "Omnibus:                 22573960.762   Durbin-Watson:                       2.000\n",
      "Prob(Omnibus):                  0.000   Jarque-Bera (JB):   151634840745896736.000\n",
      "Skew:                         597.821   Prob(JB):                             0.00\n",
      "Kurtosis:                 1028054.953   Cond. No.                             31.4\n",
      "==================================================================================\n",
      "\n",
      "Notes:\n",
      "[1] Standard Errors assume that the covariance matrix of the errors is correctly specified.\n"
     ]
    }
   ],
   "source": [
    "mod_rb = smf.ols(formula='rating ~appearance + aroma + palate + taste + overall',data =df_rating_rb)\n",
    "res_rb = mod_rb.fit()\n",
    "print(res_rb.summary())"
   ]
  },
  {
   "cell_type": "code",
   "execution_count": 18,
   "metadata": {
    "pycharm": {
     "name": "#%%\n"
    }
   },
   "outputs": [
    {
     "data": {
      "text/plain": [
       "(3412942, 16)"
      ]
     },
     "execution_count": 18,
     "metadata": {},
     "output_type": "execute_result"
    }
   ],
   "source": [
    "df_rating_rb['average'] = df_rating_rb[['appearance','aroma','palate','taste']].mean(axis = 1)\n",
    "df_rating_rb['diff'] = np.abs(df_rating_rb['overall']-df_rating_rb['average'])\n",
    "df_rating_rb = df_rating_rb[df_rating_rb['diff'] <1.5]\n",
    "df_rating_rb = df_rating_rb.drop(columns=['average','diff'])\n",
    "df_rating_rb.shape"
   ]
  },
  {
   "cell_type": "code",
   "execution_count": 19,
   "metadata": {
    "pycharm": {
     "name": "#%%\n"
    }
   },
   "outputs": [
    {
     "data": {
      "text/html": [
       "<div>\n",
       "<style scoped>\n",
       "    .dataframe tbody tr th:only-of-type {\n",
       "        vertical-align: middle;\n",
       "    }\n",
       "\n",
       "    .dataframe tbody tr th {\n",
       "        vertical-align: top;\n",
       "    }\n",
       "\n",
       "    .dataframe thead th {\n",
       "        text-align: right;\n",
       "    }\n",
       "</style>\n",
       "<table border=\"1\" class=\"dataframe\">\n",
       "  <thead>\n",
       "    <tr style=\"text-align: right;\">\n",
       "      <th></th>\n",
       "      <th>id</th>\n",
       "      <th>location</th>\n",
       "      <th>name</th>\n",
       "      <th>nbr_beers</th>\n",
       "    </tr>\n",
       "  </thead>\n",
       "  <tbody>\n",
       "    <tr>\n",
       "      <th>0</th>\n",
       "      <td>3198</td>\n",
       "      <td>Gabon</td>\n",
       "      <td>Sobraga</td>\n",
       "      <td>3</td>\n",
       "    </tr>\n",
       "    <tr>\n",
       "      <th>1</th>\n",
       "      <td>13538</td>\n",
       "      <td>Northern Ireland</td>\n",
       "      <td>Ards Brewing Co.</td>\n",
       "      <td>13</td>\n",
       "    </tr>\n",
       "    <tr>\n",
       "      <th>2</th>\n",
       "      <td>22304</td>\n",
       "      <td>Northern Ireland</td>\n",
       "      <td>Barrahooley Craft Brewery</td>\n",
       "      <td>4</td>\n",
       "    </tr>\n",
       "    <tr>\n",
       "      <th>3</th>\n",
       "      <td>22818</td>\n",
       "      <td>Northern Ireland</td>\n",
       "      <td>Boundary</td>\n",
       "      <td>66</td>\n",
       "    </tr>\n",
       "    <tr>\n",
       "      <th>4</th>\n",
       "      <td>24297</td>\n",
       "      <td>Northern Ireland</td>\n",
       "      <td>Brewbot Belfast</td>\n",
       "      <td>3</td>\n",
       "    </tr>\n",
       "  </tbody>\n",
       "</table>\n",
       "</div>"
      ],
      "text/plain": [
       "      id          location                       name  nbr_beers\n",
       "0   3198             Gabon                    Sobraga          3\n",
       "1  13538  Northern Ireland           Ards Brewing Co.         13\n",
       "2  22304  Northern Ireland  Barrahooley Craft Brewery          4\n",
       "3  22818  Northern Ireland                   Boundary         66\n",
       "4  24297  Northern Ireland            Brewbot Belfast          3"
      ]
     },
     "execution_count": 19,
     "metadata": {},
     "output_type": "execute_result"
    }
   ],
   "source": [
    "# Load brewery data on RateBeer website\n",
    "df_brewery_rb = pd.read_csv('RateBeer/breweries.csv')\n",
    "df_brewery_rb.head()"
   ]
  },
  {
   "cell_type": "code",
   "execution_count": 20,
   "metadata": {
    "pycharm": {
     "name": "#%%\n"
    }
   },
   "outputs": [
    {
     "data": {
      "text/html": [
       "<div>\n",
       "<style scoped>\n",
       "    .dataframe tbody tr th:only-of-type {\n",
       "        vertical-align: middle;\n",
       "    }\n",
       "\n",
       "    .dataframe tbody tr th {\n",
       "        vertical-align: top;\n",
       "    }\n",
       "\n",
       "    .dataframe thead th {\n",
       "        text-align: right;\n",
       "    }\n",
       "</style>\n",
       "<table border=\"1\" class=\"dataframe\">\n",
       "  <thead>\n",
       "    <tr style=\"text-align: right;\">\n",
       "      <th></th>\n",
       "      <th>beer_id</th>\n",
       "      <th>beer_name</th>\n",
       "      <th>brewery_id</th>\n",
       "      <th>brewery_name</th>\n",
       "      <th>style</th>\n",
       "      <th>nbr_ratings</th>\n",
       "      <th>overall_score</th>\n",
       "      <th>style_score</th>\n",
       "      <th>avg</th>\n",
       "      <th>abv</th>\n",
       "      <th>avg_computed</th>\n",
       "      <th>zscore</th>\n",
       "      <th>nbr_matched_valid_ratings</th>\n",
       "      <th>avg_matched_valid_ratings</th>\n",
       "    </tr>\n",
       "  </thead>\n",
       "  <tbody>\n",
       "    <tr>\n",
       "      <th>0</th>\n",
       "      <td>410549</td>\n",
       "      <td>33 Export (Gabon)</td>\n",
       "      <td>3198</td>\n",
       "      <td>Sobraga</td>\n",
       "      <td>Pale Lager</td>\n",
       "      <td>1</td>\n",
       "      <td>NaN</td>\n",
       "      <td>NaN</td>\n",
       "      <td>2.72</td>\n",
       "      <td>5.0</td>\n",
       "      <td>2.000000</td>\n",
       "      <td>NaN</td>\n",
       "      <td>0</td>\n",
       "      <td>NaN</td>\n",
       "    </tr>\n",
       "    <tr>\n",
       "      <th>1</th>\n",
       "      <td>105273</td>\n",
       "      <td>Castel Beer (Gabon)</td>\n",
       "      <td>3198</td>\n",
       "      <td>Sobraga</td>\n",
       "      <td>Pale Lager</td>\n",
       "      <td>10</td>\n",
       "      <td>5.0</td>\n",
       "      <td>58.0</td>\n",
       "      <td>2.18</td>\n",
       "      <td>5.2</td>\n",
       "      <td>1.910000</td>\n",
       "      <td>NaN</td>\n",
       "      <td>0</td>\n",
       "      <td>NaN</td>\n",
       "    </tr>\n",
       "    <tr>\n",
       "      <th>2</th>\n",
       "      <td>19445</td>\n",
       "      <td>Régab</td>\n",
       "      <td>3198</td>\n",
       "      <td>Sobraga</td>\n",
       "      <td>Pale Lager</td>\n",
       "      <td>27</td>\n",
       "      <td>1.0</td>\n",
       "      <td>22.0</td>\n",
       "      <td>1.83</td>\n",
       "      <td>4.5</td>\n",
       "      <td>1.811111</td>\n",
       "      <td>NaN</td>\n",
       "      <td>0</td>\n",
       "      <td>NaN</td>\n",
       "    </tr>\n",
       "    <tr>\n",
       "      <th>3</th>\n",
       "      <td>155699</td>\n",
       "      <td>Ards Bally Black Stout</td>\n",
       "      <td>13538</td>\n",
       "      <td>Ards Brewing Co.</td>\n",
       "      <td>Stout</td>\n",
       "      <td>6</td>\n",
       "      <td>NaN</td>\n",
       "      <td>NaN</td>\n",
       "      <td>3.18</td>\n",
       "      <td>4.6</td>\n",
       "      <td>3.866667</td>\n",
       "      <td>0.823699</td>\n",
       "      <td>6</td>\n",
       "      <td>3.866667</td>\n",
       "    </tr>\n",
       "    <tr>\n",
       "      <th>4</th>\n",
       "      <td>239097</td>\n",
       "      <td>Ards Belfast 366</td>\n",
       "      <td>13538</td>\n",
       "      <td>Ards Brewing Co.</td>\n",
       "      <td>Golden Ale/Blond Ale</td>\n",
       "      <td>1</td>\n",
       "      <td>NaN</td>\n",
       "      <td>NaN</td>\n",
       "      <td>2.79</td>\n",
       "      <td>4.2</td>\n",
       "      <td>3.000000</td>\n",
       "      <td>NaN</td>\n",
       "      <td>0</td>\n",
       "      <td>NaN</td>\n",
       "    </tr>\n",
       "  </tbody>\n",
       "</table>\n",
       "</div>"
      ],
      "text/plain": [
       "   beer_id               beer_name  brewery_id      brewery_name  \\\n",
       "0   410549       33 Export (Gabon)        3198           Sobraga   \n",
       "1   105273     Castel Beer (Gabon)        3198           Sobraga   \n",
       "2    19445                   Régab        3198           Sobraga   \n",
       "3   155699  Ards Bally Black Stout       13538  Ards Brewing Co.   \n",
       "4   239097        Ards Belfast 366       13538  Ards Brewing Co.   \n",
       "\n",
       "                  style  nbr_ratings  overall_score  style_score   avg  abv  \\\n",
       "0            Pale Lager            1            NaN          NaN  2.72  5.0   \n",
       "1            Pale Lager           10            5.0         58.0  2.18  5.2   \n",
       "2            Pale Lager           27            1.0         22.0  1.83  4.5   \n",
       "3                 Stout            6            NaN          NaN  3.18  4.6   \n",
       "4  Golden Ale/Blond Ale            1            NaN          NaN  2.79  4.2   \n",
       "\n",
       "   avg_computed    zscore  nbr_matched_valid_ratings  \\\n",
       "0      2.000000       NaN                          0   \n",
       "1      1.910000       NaN                          0   \n",
       "2      1.811111       NaN                          0   \n",
       "3      3.866667  0.823699                          6   \n",
       "4      3.000000       NaN                          0   \n",
       "\n",
       "   avg_matched_valid_ratings  \n",
       "0                        NaN  \n",
       "1                        NaN  \n",
       "2                        NaN  \n",
       "3                   3.866667  \n",
       "4                        NaN  "
      ]
     },
     "execution_count": 20,
     "metadata": {},
     "output_type": "execute_result"
    }
   ],
   "source": [
    "# Load beer date on RateBeer website\n",
    "df_beer_rb = pd.read_csv('RateBeer/beers.csv')\n",
    "df_beer_rb.head()"
   ]
  },
  {
   "cell_type": "code",
   "execution_count": 21,
   "metadata": {
    "pycharm": {
     "name": "#%%\n"
    }
   },
   "outputs": [
    {
     "data": {
      "text/html": [
       "<div>\n",
       "<style scoped>\n",
       "    .dataframe tbody tr th:only-of-type {\n",
       "        vertical-align: middle;\n",
       "    }\n",
       "\n",
       "    .dataframe tbody tr th {\n",
       "        vertical-align: top;\n",
       "    }\n",
       "\n",
       "    .dataframe thead th {\n",
       "        text-align: right;\n",
       "    }\n",
       "</style>\n",
       "<table border=\"1\" class=\"dataframe\">\n",
       "  <thead>\n",
       "    <tr style=\"text-align: right;\">\n",
       "      <th></th>\n",
       "      <th>nbr_ratings</th>\n",
       "      <th>user_id</th>\n",
       "      <th>user_name</th>\n",
       "      <th>joined</th>\n",
       "      <th>location</th>\n",
       "    </tr>\n",
       "  </thead>\n",
       "  <tbody>\n",
       "    <tr>\n",
       "      <th>0</th>\n",
       "      <td>1890</td>\n",
       "      <td>175852</td>\n",
       "      <td>Manslow</td>\n",
       "      <td>1.337508e+09</td>\n",
       "      <td>Poland</td>\n",
       "    </tr>\n",
       "    <tr>\n",
       "      <th>1</th>\n",
       "      <td>89</td>\n",
       "      <td>442761</td>\n",
       "      <td>MAGICuenca91</td>\n",
       "      <td>1.484046e+09</td>\n",
       "      <td>Spain</td>\n",
       "    </tr>\n",
       "    <tr>\n",
       "      <th>2</th>\n",
       "      <td>169</td>\n",
       "      <td>288889</td>\n",
       "      <td>Sibarh</td>\n",
       "      <td>1.384600e+09</td>\n",
       "      <td>Poland</td>\n",
       "    </tr>\n",
       "    <tr>\n",
       "      <th>3</th>\n",
       "      <td>3371</td>\n",
       "      <td>250510</td>\n",
       "      <td>fombe89</td>\n",
       "      <td>1.363950e+09</td>\n",
       "      <td>Spain</td>\n",
       "    </tr>\n",
       "    <tr>\n",
       "      <th>4</th>\n",
       "      <td>13043</td>\n",
       "      <td>122778</td>\n",
       "      <td>kevnic2008</td>\n",
       "      <td>1.296644e+09</td>\n",
       "      <td>Germany</td>\n",
       "    </tr>\n",
       "  </tbody>\n",
       "</table>\n",
       "</div>"
      ],
      "text/plain": [
       "   nbr_ratings  user_id     user_name        joined location\n",
       "0         1890   175852       Manslow  1.337508e+09   Poland\n",
       "1           89   442761  MAGICuenca91  1.484046e+09    Spain\n",
       "2          169   288889        Sibarh  1.384600e+09   Poland\n",
       "3         3371   250510       fombe89  1.363950e+09    Spain\n",
       "4        13043   122778    kevnic2008  1.296644e+09  Germany"
      ]
     },
     "execution_count": 21,
     "metadata": {},
     "output_type": "execute_result"
    }
   ],
   "source": [
    "# Load user date on RateBeer website\n",
    "df_user_rb = pd.read_csv('RateBeer/users.csv')\n",
    "df_user_rb.head()"
   ]
  },
  {
   "cell_type": "code",
   "execution_count": 22,
   "metadata": {
    "pycharm": {
     "name": "#%%\n"
    }
   },
   "outputs": [
    {
     "data": {
      "text/html": [
       "<div>\n",
       "<style scoped>\n",
       "    .dataframe tbody tr th:only-of-type {\n",
       "        vertical-align: middle;\n",
       "    }\n",
       "\n",
       "    .dataframe tbody tr th {\n",
       "        vertical-align: top;\n",
       "    }\n",
       "\n",
       "    .dataframe thead th {\n",
       "        text-align: right;\n",
       "    }\n",
       "</style>\n",
       "<table border=\"1\" class=\"dataframe\">\n",
       "  <thead>\n",
       "    <tr style=\"text-align: right;\">\n",
       "      <th></th>\n",
       "      <th>beer_name</th>\n",
       "      <th>beer_id</th>\n",
       "      <th>brewery_name</th>\n",
       "      <th>brewery_id</th>\n",
       "      <th>style</th>\n",
       "      <th>abv</th>\n",
       "      <th>date</th>\n",
       "      <th>user_name_x</th>\n",
       "      <th>user_id</th>\n",
       "      <th>appearance</th>\n",
       "      <th>aroma</th>\n",
       "      <th>palate</th>\n",
       "      <th>taste</th>\n",
       "      <th>overall</th>\n",
       "      <th>rating</th>\n",
       "      <th>text</th>\n",
       "      <th>nbr_ratings</th>\n",
       "      <th>user_name_y</th>\n",
       "      <th>joined</th>\n",
       "      <th>location</th>\n",
       "    </tr>\n",
       "  </thead>\n",
       "  <tbody>\n",
       "    <tr>\n",
       "      <th>0</th>\n",
       "      <td>ABC Extra Stout</td>\n",
       "      <td>9226</td>\n",
       "      <td>Singapore Brewery (Asia Pacific Breweries-Hein...</td>\n",
       "      <td>547</td>\n",
       "      <td>Foreign Stout</td>\n",
       "      <td>7.0</td>\n",
       "      <td>1500199200</td>\n",
       "      <td>mcberko</td>\n",
       "      <td>95615</td>\n",
       "      <td>3.75</td>\n",
       "      <td>2.777778</td>\n",
       "      <td>1.25</td>\n",
       "      <td>2.777778</td>\n",
       "      <td>2.631579</td>\n",
       "      <td>2.666667</td>\n",
       "      <td>330mL can, Cambodian version (8%), pours black...</td>\n",
       "      <td>15893.0</td>\n",
       "      <td>mcberko</td>\n",
       "      <td>1.253441e+09</td>\n",
       "      <td>Canada</td>\n",
       "    </tr>\n",
       "    <tr>\n",
       "      <th>1</th>\n",
       "      <td>ABC Extra Stout</td>\n",
       "      <td>9226</td>\n",
       "      <td>Singapore Brewery (Asia Pacific Breweries-Hein...</td>\n",
       "      <td>547</td>\n",
       "      <td>Foreign Stout</td>\n",
       "      <td>7.0</td>\n",
       "      <td>1497780000</td>\n",
       "      <td>Grumbo</td>\n",
       "      <td>118968</td>\n",
       "      <td>2.50</td>\n",
       "      <td>3.333333</td>\n",
       "      <td>3.75</td>\n",
       "      <td>2.777778</td>\n",
       "      <td>2.894737</td>\n",
       "      <td>3.000000</td>\n",
       "      <td>Can at Johnâs courtesy of Henrik. Sri Lanka ...</td>\n",
       "      <td>3050.0</td>\n",
       "      <td>Grumbo</td>\n",
       "      <td>1.292238e+09</td>\n",
       "      <td>England</td>\n",
       "    </tr>\n",
       "    <tr>\n",
       "      <th>2</th>\n",
       "      <td>ABC Extra Stout</td>\n",
       "      <td>9226</td>\n",
       "      <td>Singapore Brewery (Asia Pacific Breweries-Hein...</td>\n",
       "      <td>547</td>\n",
       "      <td>Foreign Stout</td>\n",
       "      <td>7.0</td>\n",
       "      <td>1497434400</td>\n",
       "      <td>alex_leit</td>\n",
       "      <td>243248</td>\n",
       "      <td>3.75</td>\n",
       "      <td>2.777778</td>\n",
       "      <td>2.50</td>\n",
       "      <td>2.777778</td>\n",
       "      <td>3.157895</td>\n",
       "      <td>3.000000</td>\n",
       "      <td>Can, Myanmar, 8,0%, dark brown color, coffee f...</td>\n",
       "      <td>4300.0</td>\n",
       "      <td>alex_leit</td>\n",
       "      <td>1.360148e+09</td>\n",
       "      <td>Belarus</td>\n",
       "    </tr>\n",
       "    <tr>\n",
       "      <th>3</th>\n",
       "      <td>ABC Extra Stout</td>\n",
       "      <td>9226</td>\n",
       "      <td>Singapore Brewery (Asia Pacific Breweries-Hein...</td>\n",
       "      <td>547</td>\n",
       "      <td>Foreign Stout</td>\n",
       "      <td>7.0</td>\n",
       "      <td>1491559200</td>\n",
       "      <td>gripweed57</td>\n",
       "      <td>60778</td>\n",
       "      <td>3.75</td>\n",
       "      <td>3.888889</td>\n",
       "      <td>3.75</td>\n",
       "      <td>3.888889</td>\n",
       "      <td>3.684211</td>\n",
       "      <td>3.777778</td>\n",
       "      <td>From old tasting notes. Pours an opaque black ...</td>\n",
       "      <td>2252.0</td>\n",
       "      <td>gripweed57</td>\n",
       "      <td>1.189678e+09</td>\n",
       "      <td>United States, New Jersey</td>\n",
       "    </tr>\n",
       "    <tr>\n",
       "      <th>4</th>\n",
       "      <td>ABC Extra Stout</td>\n",
       "      <td>9226</td>\n",
       "      <td>Singapore Brewery (Asia Pacific Breweries-Hein...</td>\n",
       "      <td>547</td>\n",
       "      <td>Foreign Stout</td>\n",
       "      <td>7.0</td>\n",
       "      <td>1486465200</td>\n",
       "      <td>fkoolen</td>\n",
       "      <td>261854</td>\n",
       "      <td>3.75</td>\n",
       "      <td>3.333333</td>\n",
       "      <td>3.75</td>\n",
       "      <td>3.333333</td>\n",
       "      <td>3.421053</td>\n",
       "      <td>3.444444</td>\n",
       "      <td>Big bottle in Nyaungshwe, Myanmar. Really dark...</td>\n",
       "      <td>1200.0</td>\n",
       "      <td>fkoolen</td>\n",
       "      <td>1.369908e+09</td>\n",
       "      <td>Netherlands</td>\n",
       "    </tr>\n",
       "  </tbody>\n",
       "</table>\n",
       "</div>"
      ],
      "text/plain": [
       "         beer_name  beer_id  \\\n",
       "0  ABC Extra Stout     9226   \n",
       "1  ABC Extra Stout     9226   \n",
       "2  ABC Extra Stout     9226   \n",
       "3  ABC Extra Stout     9226   \n",
       "4  ABC Extra Stout     9226   \n",
       "\n",
       "                                        brewery_name  brewery_id  \\\n",
       "0  Singapore Brewery (Asia Pacific Breweries-Hein...         547   \n",
       "1  Singapore Brewery (Asia Pacific Breweries-Hein...         547   \n",
       "2  Singapore Brewery (Asia Pacific Breweries-Hein...         547   \n",
       "3  Singapore Brewery (Asia Pacific Breweries-Hein...         547   \n",
       "4  Singapore Brewery (Asia Pacific Breweries-Hein...         547   \n",
       "\n",
       "           style  abv        date user_name_x  user_id  appearance     aroma  \\\n",
       "0  Foreign Stout  7.0  1500199200     mcberko    95615        3.75  2.777778   \n",
       "1  Foreign Stout  7.0  1497780000      Grumbo   118968        2.50  3.333333   \n",
       "2  Foreign Stout  7.0  1497434400   alex_leit   243248        3.75  2.777778   \n",
       "3  Foreign Stout  7.0  1491559200  gripweed57    60778        3.75  3.888889   \n",
       "4  Foreign Stout  7.0  1486465200     fkoolen   261854        3.75  3.333333   \n",
       "\n",
       "   palate     taste   overall    rating  \\\n",
       "0    1.25  2.777778  2.631579  2.666667   \n",
       "1    3.75  2.777778  2.894737  3.000000   \n",
       "2    2.50  2.777778  3.157895  3.000000   \n",
       "3    3.75  3.888889  3.684211  3.777778   \n",
       "4    3.75  3.333333  3.421053  3.444444   \n",
       "\n",
       "                                                text  nbr_ratings user_name_y  \\\n",
       "0  330mL can, Cambodian version (8%), pours black...      15893.0     mcberko   \n",
       "1  Can at Johnâs courtesy of Henrik. Sri Lanka ...       3050.0      Grumbo   \n",
       "2  Can, Myanmar, 8,0%, dark brown color, coffee f...       4300.0   alex_leit   \n",
       "3  From old tasting notes. Pours an opaque black ...       2252.0  gripweed57   \n",
       "4  Big bottle in Nyaungshwe, Myanmar. Really dark...       1200.0     fkoolen   \n",
       "\n",
       "         joined                   location  \n",
       "0  1.253441e+09                     Canada  \n",
       "1  1.292238e+09                    England  \n",
       "2  1.360148e+09                    Belarus  \n",
       "3  1.189678e+09  United States, New Jersey  \n",
       "4  1.369908e+09                Netherlands  "
      ]
     },
     "execution_count": 22,
     "metadata": {},
     "output_type": "execute_result"
    }
   ],
   "source": [
    "# Merge data based on user id in order to get users' location\n",
    "region_rb = pd.merge(df_rating_rb, df_user_rb, how=\"left\", left_on='user_id', right_on='user_id')\n",
    "region_rb.head()"
   ]
  },
  {
   "cell_type": "markdown",
   "metadata": {
    "pycharm": {
     "name": "#%% md\n"
    }
   },
   "source": [
    "## Data Analysis and visualization\n",
    "In this section we will explore more of the datasets we prepared above, and visualize them."
   ]
  },
  {
   "cell_type": "markdown",
   "metadata": {
    "pycharm": {
     "name": "#%% md\n"
    }
   },
   "source": [
    "#### Overall Rating Distribution of the two website"
   ]
  },
  {
   "cell_type": "code",
   "execution_count": 23,
   "metadata": {
    "pycharm": {
     "name": "#%%\n"
    }
   },
   "outputs": [
    {
     "data": {
      "image/png": "[encoded data removed]",
      "text/plain": [
       "<Figure size 432x288 with 1 Axes>"
      ]
     },
     "metadata": {
      "needs_background": "light"
     },
     "output_type": "display_data"
    }
   ],
   "source": [
    "#creating subplots\n",
    "ax=plt.subplots()\n",
    "\n",
    "#plotting columns\n",
    "ax=sns.histplot(data=df_rating_ba, x='rating', color = 'purple', binwidth=0.25, label='x')\n",
    "ax=sns.histplot(data=df_rating_rb, x='rating', color = 'pink', binwidth=0.25)\n",
    "\n",
    "# setting figure legend\n",
    "plt.legend(title='Website', loc='upper left', labels=['BeerAdvocate', 'RateBeer'])\n",
    "\n",
    "#renaming the axes\n",
    "ax.set(xlabel=\"Rating\", ylabel=\"Count\")\n",
    "\n",
    "# setting figute title\n",
    "ax.set_title(\"Rating Distribution on two website\")\n",
    "\n",
    "# visualizing illustration\n",
    "plt.show()"
   ]
  },
  {
   "cell_type": "markdown",
   "metadata": {
    "pycharm": {
     "name": "#%% md\n"
    }
   },
   "source": [
    "We can see that in this plot, rating on both websites are distributed like a normal distribution. There concentration of **rating** between 3-5 contributes to the majority."
   ]
  },
  {
   "cell_type": "markdown",
   "metadata": {
    "pycharm": {
     "name": "#%% md\n"
    }
   },
   "source": [
    "#### Rating Distribution of Brewery\n",
    "##### BeerAdvocate"
   ]
  },
  {
   "cell_type": "code",
   "execution_count": 24,
   "metadata": {
    "pycharm": {
     "name": "#%%\n"
    }
   },
   "outputs": [
    {
     "data": {
      "image/png": "[encoded data removed]",
      "text/plain": [
       "<Figure size 432x288 with 1 Axes>"
      ]
     },
     "metadata": {
      "needs_background": "light"
     },
     "output_type": "display_data"
    }
   ],
   "source": [
    "# explore ratings on each brewery\n",
    "rating_brewery = pd.merge(df_rating_ba, df_brewery_ba, how='left', left_on='brewery_id', right_on='id')\n",
    "rating_brewery = rating_brewery[['overall', 'brewery_name']]\n",
    "mean_rating_brewery = rating_brewery.groupby('brewery_name').mean()\n",
    "mean_rating_brewery = pd.DataFrame(mean_rating_brewery.to_records())\n",
    "\n",
    "# draw rating brewery distribution\n",
    "sns.histplot(data=mean_rating_brewery, x='overall')\n",
    "plt.xlabel('Rating')\n",
    "plt.title('Rating Brewery Distribution on BeerAdvocate')\n",
    "plt.show()"
   ]
  },
  {
   "cell_type": "markdown",
   "metadata": {
    "pycharm": {
     "name": "#%% md\n"
    }
   },
   "source": [
    "##### RateBeer"
   ]
  },
  {
   "cell_type": "code",
   "execution_count": 25,
   "metadata": {
    "pycharm": {
     "name": "#%%\n"
    }
   },
   "outputs": [
    {
     "data": {
      "image/png": "[encoded data removed]",
      "text/plain": [
       "<Figure size 432x288 with 1 Axes>"
      ]
     },
     "metadata": {
      "needs_background": "light"
     },
     "output_type": "display_data"
    }
   ],
   "source": [
    "# explore ratings on each brewery\n",
    "rating_brewery_rb = pd.merge(df_rating_rb, df_brewery_rb, how='left', left_on='brewery_id', right_on='id')\n",
    "rating_brewery_rb = rating_brewery_rb[['overall', 'brewery_name']]\n",
    "mean_rating_brewery_rb = rating_brewery_rb.groupby('brewery_name').mean()\n",
    "mean_rating_brewery_rb = pd.DataFrame(mean_rating_brewery_rb.to_records())\n",
    "\n",
    "# draw rating brewery distribution\n",
    "sns.histplot(data=mean_rating_brewery_rb, x='overall')\n",
    "plt.xlabel('Rating')\n",
    "plt.title('Rating Brewery Distribution on RateBeer')\n",
    "plt.show()"
   ]
  },
  {
   "cell_type": "markdown",
   "metadata": {
    "pycharm": {
     "name": "#%% md\n"
    }
   },
   "source": [
    "Generally, the distributions of brewery ratings on BeerAdvocate and RateBeer are similar. The majority of ratings fall between 3.0 and 4.0. But on RateBeer, there are relatively more ratings between 1.5 and 2.5."
   ]
  },
  {
   "cell_type": "markdown",
   "metadata": {
    "pycharm": {
     "name": "#%% md\n"
    }
   },
   "source": [
    "#### Rating Distribution of the detailed scores"
   ]
  },
  {
   "cell_type": "code",
   "execution_count": 26,
   "metadata": {
    "pycharm": {
     "name": "#%%\n"
    }
   },
   "outputs": [
    {
     "data": {
      "image/png": "[encoded data removed]",
      "text/plain": [
       "<Figure size 864x576 with 5 Axes>"
      ]
     },
     "metadata": {
      "needs_background": "light"
     },
     "output_type": "display_data"
    }
   ],
   "source": [
    "data_title = ['appearance', 'aroma','palate','taste','overall']\n",
    "plt.figure(figsize=(12,8))\n",
    "\n",
    "\n",
    "for index, i in enumerate(data_title):\n",
    "\n",
    "    #creating subplots\n",
    "    ax=plt.subplot(2,3,index+1)\n",
    "\n",
    "    #plotting columns\n",
    "    ax=sns.histplot(data=df_rating_ba, x=i, color = 'purple', binwidth=0.25, label='x')\n",
    "    ax=sns.histplot(data=df_rating_rb, x=i, color = 'pink', binwidth=0.25)\n",
    "\n",
    "    # setting figure legend\n",
    "    plt.legend(title='Website', loc='upper left', labels=['BeerAdvocate', 'RateBeer'])\n",
    "\n",
    "    #renaming the axes\n",
    "    ax.set(xlabel=\"Rating\", ylabel=\"Count\")\n",
    "\n",
    "    # setting figute title\n",
    "    ax.set_title(f\"{i} Distribution on two website\")\n",
    "\n",
    "    # visualizing illustration\n",
    "plt.tight_layout()\n",
    "plt.show()"
   ]
  },
  {
   "cell_type": "markdown",
   "metadata": {
    "pycharm": {
     "name": "#%% md\n"
    }
   },
   "source": [
    "#### The abv rankings on the two datasets"
   ]
  },
  {
   "cell_type": "code",
   "execution_count": 27,
   "metadata": {
    "pycharm": {
     "name": "#%%\n"
    }
   },
   "outputs": [
    {
     "name": "stdout",
     "output_type": "stream",
     "text": [
      "The average abv% of beers from BeerAdvocate is 7.5%.\n"
     ]
    },
    {
     "data": {
      "image/png": "[encoded data removed]",
      "text/plain": [
       "<Figure size 432x288 with 1 Axes>"
      ]
     },
     "metadata": {
      "needs_background": "light"
     },
     "output_type": "display_data"
    }
   ],
   "source": [
    "avg_ba_abv = region_ba.abv.mean()\n",
    "avg_ba_abv = round(avg_ba_abv, 2)\n",
    "print(f'The average abv% of beers from BeerAdvocate is {avg_ba_abv}%.')\n",
    "fig, ax = plt.subplots()\n",
    "ax.set_xlim(0, 20)\n",
    "sns.histplot(region_ba.abv, binwidth=0.5, ax=ax)\n",
    "plt.title(\"Abv rankings on BeerAdvocate\")\n",
    "plt.show()"
   ]
  },
  {
   "cell_type": "code",
   "execution_count": 28,
   "metadata": {
    "pycharm": {
     "name": "#%%\n"
    }
   },
   "outputs": [
    {
     "name": "stdout",
     "output_type": "stream",
     "text": [
      "The average abv% of beers from RateBeer is 6.84%.\n"
     ]
    },
    {
     "data": {
      "image/png": "[encoded data removed]",
      "text/plain": [
       "<Figure size 432x288 with 1 Axes>"
      ]
     },
     "metadata": {
      "needs_background": "light"
     },
     "output_type": "display_data"
    }
   ],
   "source": [
    "avg_rb_abv = region_rb.abv.mean()\n",
    "avg_rb_abv = round(avg_rb_abv, 2)\n",
    "print(f'The average abv% of beers from RateBeer is {avg_rb_abv}%.')\n",
    "fig, ax = plt.subplots()\n",
    "ax.set_xlim(0, 20)\n",
    "sns.histplot(region_rb.abv, binwidth=0.5, ax=ax)\n",
    "plt.title(\"Abv rankings on RateBeer\")\n",
    "plt.show()"
   ]
  },
  {
   "cell_type": "markdown",
   "metadata": {
    "pycharm": {
     "name": "#%% md\n"
    }
   },
   "source": [
    "According to the pictures above we found that the most popular beers has abv range from 4 to 10."
   ]
  },
  {
   "cell_type": "markdown",
   "metadata": {
    "pycharm": {
     "name": "#%% md\n"
    }
   },
   "source": [
    "#### (Interactive) Find the popular beers in top 10 regions with the largest number of users in each year.\n",
    "##### BeerAdvocate"
   ]
  },
  {
   "cell_type": "code",
   "execution_count": 29,
   "metadata": {
    "pycharm": {
     "name": "#%%\n"
    }
   },
   "outputs": [],
   "source": [
    "region_ba_style_change = region_ba[['date', 'location', 'beer_id', 'beer_name', 'brewery_id', 'brewery_name', 'overall', 'nbr_ratings', 'nbr_reviews', 'text', 'style']]"
   ]
  },
  {
   "cell_type": "code",
   "execution_count": 30,
   "metadata": {
    "pycharm": {
     "name": "#%%\n"
    }
   },
   "outputs": [],
   "source": [
    "region_ba_style_change['formal_date'] = region_ba_style_change.date.apply(lambda x: datetime.datetime.fromtimestamp(x))"
   ]
  },
  {
   "cell_type": "code",
   "execution_count": 31,
   "metadata": {
    "pycharm": {
     "name": "#%%\n"
    }
   },
   "outputs": [],
   "source": [
    "region_ba_style_change = region_ba_style_change[['formal_date', 'date', 'location', 'beer_id', 'beer_name', 'brewery_id', 'brewery_name', 'overall', 'nbr_ratings', 'nbr_reviews', 'text', 'style']]"
   ]
  },
  {
   "cell_type": "code",
   "execution_count": 32,
   "metadata": {
    "pycharm": {
     "name": "#%%\n"
    }
   },
   "outputs": [
    {
     "data": {
      "text/plain": [
       "count                          3267567\n",
       "mean     2013-02-26 08:27:11.016104192\n",
       "min                1996-08-22 12:00:00\n",
       "25%                2010-09-23 12:00:00\n",
       "50%                2014-12-30 12:00:00\n",
       "75%                2015-11-24 12:00:00\n",
       "max                2017-08-01 12:00:00\n",
       "Name: formal_date, dtype: object"
      ]
     },
     "execution_count": 32,
     "metadata": {},
     "output_type": "execute_result"
    }
   ],
   "source": [
    "region_ba_style_change.formal_date.describe(datetime_is_numeric=True)"
   ]
  },
  {
   "cell_type": "code",
   "execution_count": 33,
   "metadata": {
    "pycharm": {
     "name": "#%%\n"
    }
   },
   "outputs": [],
   "source": [
    "region_ba_style_change.sort_values('formal_date', inplace=True)\n",
    "region_ba_style_change['year'] = region_ba_style_change.formal_date.apply(lambda x: x.year)\n",
    "region_list = region_agg.location.to_list()\n",
    "year_list = region_ba_style_change.year.unique()\n",
    "region_list = region_list[:10]"
   ]
  },
  {
   "cell_type": "code",
   "execution_count": 34,
   "metadata": {
    "pycharm": {
     "name": "#%%\n"
    }
   },
   "outputs": [],
   "source": [
    "# since there may have insufficient in early years, we want to make an alert in the interactive graph\n",
    "def popup(text):\n",
    "    display(HTML(\"<script>alert('{}');</script>\".format(text)))"
   ]
  },
  {
   "cell_type": "code",
   "execution_count": 35,
   "metadata": {
    "pycharm": {
     "name": "#%%\n"
    }
   },
   "outputs": [
    {
     "data": {
      "application/vnd.jupyter.widget-view+json": {
       "model_id": "aa84138aab2346baab3d0c4fe1ea3064",
       "version_major": 2,
       "version_minor": 0
      },
      "text/plain": [
       "interactive(children=(Dropdown(description='region', options=('United States, Pennsylvania', 'United States, C…"
      ]
     },
     "metadata": {},
     "output_type": "display_data"
    },
    {
     "data": {
      "text/plain": [
       "<function __main__.plot_interactive(region, year)>"
      ]
     },
     "execution_count": 35,
     "metadata": {},
     "output_type": "execute_result"
    }
   ],
   "source": [
    "def plot_interactive(region, year):\n",
    "    data_to_plot = region_ba_style_change[(region_ba_style_change.location==region) & (region_ba_style_change.year==year)][['brewery_name', 'style', 'beer_name','overall']]\n",
    "    data_to_plot = data_to_plot.groupby('style').mean().reset_index()\n",
    "    data_to_plot = data_to_plot.sort_values('overall', ascending=False).head(10)\n",
    "    if len(data_to_plot) > 0:\n",
    "        sns.barplot(y='style', x='overall', data=data_to_plot, palette=\"magma\")\n",
    "        plt.title(f'10 beer styles in {region} that are the most popular in year {year}.')\n",
    "        plt.xlabel('Overall score')\n",
    "        plt.ylabel('Beer style')\n",
    "        plt.show()\n",
    "    else:\n",
    "        popup(f\"Insufficient data for {region} in {year}.\")\n",
    "\n",
    "\n",
    "interact(plot_interactive, region=region_list, year=year_list[:])\n"
   ]
  },
  {
   "cell_type": "markdown",
   "metadata": {
    "pycharm": {
     "name": "#%% md\n"
    }
   },
   "source": [
    "##### RateBeer"
   ]
  },
  {
   "cell_type": "code",
   "execution_count": 36,
   "metadata": {
    "pycharm": {
     "name": "#%%\n"
    }
   },
   "outputs": [],
   "source": [
    "region_rb_style_change = region_rb[['date', 'location', 'beer_id', 'beer_name', 'brewery_id', 'brewery_name', 'overall', 'nbr_ratings', 'text', 'style']]"
   ]
  },
  {
   "cell_type": "code",
   "execution_count": 37,
   "metadata": {
    "pycharm": {
     "name": "#%%\n"
    }
   },
   "outputs": [],
   "source": [
    "region_rb_style_change['formal_date'] = region_rb_style_change.date.apply(lambda x: datetime.datetime.fromtimestamp(x))"
   ]
  },
  {
   "cell_type": "code",
   "execution_count": 38,
   "metadata": {
    "pycharm": {
     "name": "#%%\n"
    }
   },
   "outputs": [],
   "source": [
    "region_rb_style_change = region_rb_style_change[['formal_date', 'date', 'location', 'beer_id', 'beer_name', 'brewery_id', 'brewery_name', 'overall', 'nbr_ratings', 'text', 'style']]"
   ]
  },
  {
   "cell_type": "code",
   "execution_count": 39,
   "metadata": {
    "pycharm": {
     "name": "#%%\n"
    }
   },
   "outputs": [
    {
     "data": {
      "text/plain": [
       "count                          3414540\n",
       "mean     2011-03-08 04:16:46.752535296\n",
       "min                2000-04-12 12:00:00\n",
       "25%                2008-03-21 12:00:00\n",
       "50%                2011-10-01 12:00:00\n",
       "75%                2014-05-15 12:00:00\n",
       "max                2017-07-31 12:00:00\n",
       "Name: formal_date, dtype: object"
      ]
     },
     "execution_count": 39,
     "metadata": {},
     "output_type": "execute_result"
    }
   ],
   "source": [
    "region_rb_style_change.formal_date.describe(datetime_is_numeric=True)"
   ]
  },
  {
   "cell_type": "code",
   "execution_count": 40,
   "metadata": {
    "pycharm": {
     "name": "#%%\n"
    }
   },
   "outputs": [],
   "source": [
    "region_rb_style_change.sort_values('formal_date', inplace=True)\n",
    "region_rb_style_change['year'] = region_rb_style_change.formal_date.apply(lambda x: x.year)\n",
    "region_list = region_agg.location.to_list()\n",
    "year_list = region_rb_style_change.year.unique()\n",
    "region_list = region_list[:10]"
   ]
  },
  {
   "cell_type": "code",
   "execution_count": 41,
   "metadata": {
    "pycharm": {
     "name": "#%%\n"
    }
   },
   "outputs": [
    {
     "data": {
      "application/vnd.jupyter.widget-view+json": {
       "model_id": "3130b9b6f23f446bb200025e3acd520b",
       "version_major": 2,
       "version_minor": 0
      },
      "text/plain": [
       "interactive(children=(Dropdown(description='region', options=('United States, Pennsylvania', 'United States, C…"
      ]
     },
     "metadata": {},
     "output_type": "display_data"
    },
    {
     "data": {
      "text/plain": [
       "<function __main__.plot_interactive(region, year)>"
      ]
     },
     "execution_count": 41,
     "metadata": {},
     "output_type": "execute_result"
    }
   ],
   "source": [
    "def plot_interactive(region, year):\n",
    "    data_to_plot = region_rb_style_change[(region_rb_style_change.location==region) & (region_rb_style_change.year==year)][['brewery_name', 'style', 'beer_name','overall']]\n",
    "    data_to_plot = data_to_plot.groupby('style').mean().reset_index()\n",
    "    data_to_plot = data_to_plot.sort_values('overall', ascending=False).head(10)\n",
    "    if len(data_to_plot) > 0:\n",
    "        sns.barplot(y='style', x='overall', data=data_to_plot, palette=\"magma\")\n",
    "        plt.title(f'10 beer styles in {region} that are the most popular in year {year}.')\n",
    "        plt.xlabel('Overall score')\n",
    "        plt.ylabel('Beer style')\n",
    "        plt.show()\n",
    "    else:\n",
    "        popup(f\"Insufficient data for {region} in {year}.\")\n",
    "\n",
    "\n",
    "interact(plot_interactive, region=region_list, year=year_list[:])"
   ]
  },
  {
   "cell_type": "markdown",
   "metadata": {
    "pycharm": {
     "name": "#%% md\n"
    }
   },
   "source": [
    "#### Find the change of number of ratings\n",
    "##### (interactive) Of each style of beers\n",
    "###### BeerAdvocate"
   ]
  },
  {
   "cell_type": "code",
   "execution_count": 42,
   "metadata": {
    "pycharm": {
     "name": "#%%\n"
    }
   },
   "outputs": [],
   "source": [
    "beer_style_list = region_ba_style_change['style'].groupby(region_ba_style_change['style']).agg('count')\n",
    "beer_style_list.sort_values(ascending=False)\n",
    "beer_style_list = np.array(beer_style_list.index.to_list())"
   ]
  },
  {
   "cell_type": "code",
   "execution_count": 43,
   "metadata": {
    "pycharm": {
     "name": "#%%\n"
    }
   },
   "outputs": [
    {
     "data": {
      "application/vnd.jupyter.widget-view+json": {
       "model_id": "eec67f21abb64eb8b1071bf4ae9abf55",
       "version_major": 2,
       "version_minor": 0
      },
      "text/plain": [
       "interactive(children=(Dropdown(description='style', options=('Altbier', 'American Adjunct Lager', 'American Am…"
      ]
     },
     "metadata": {},
     "output_type": "display_data"
    },
    {
     "data": {
      "text/plain": [
       "<function __main__.plot_year_vs_no_ratings_interactive(style)>"
      ]
     },
     "execution_count": 43,
     "metadata": {},
     "output_type": "execute_result"
    }
   ],
   "source": [
    "def plot_year_vs_no_ratings_interactive(style):\n",
    "    specific_style = style\n",
    "    specific_style_region_by = region_ba_style_change[region_ba_style_change['style']==specific_style]\n",
    "    specific_style_region_by = specific_style_region_by.dropna(how='any')\n",
    "    specific_style_region_by = specific_style_region_by.drop_duplicates('year')\n",
    "    sns.lineplot(data=specific_style_region_by, x='year', y='nbr_ratings')\n",
    "    plt.title(f'The number of ratings of {style}')\n",
    "    plt.xlabel('Year')\n",
    "    plt.ylabel('Number of ratings')\n",
    "    plt.show()\n",
    "\n",
    "interact(plot_year_vs_no_ratings_interactive, style=beer_style_list)"
   ]
  },
  {
   "cell_type": "markdown",
   "metadata": {
    "pycharm": {
     "name": "#%% md\n"
    }
   },
   "source": [
    "###### RateBeer"
   ]
  },
  {
   "cell_type": "code",
   "execution_count": 44,
   "metadata": {
    "pycharm": {
     "name": "#%%\n"
    }
   },
   "outputs": [],
   "source": [
    "beer_style_list_rb = region_rb_style_change['style'].groupby(region_rb_style_change['style']).agg('count')\n",
    "beer_style_list_rb.sort_values(ascending=False)\n",
    "beer_style_list_rb = np.array(beer_style_list_rb.index.to_list())"
   ]
  },
  {
   "cell_type": "code",
   "execution_count": 45,
   "metadata": {
    "pycharm": {
     "name": "#%%\n"
    }
   },
   "outputs": [
    {
     "data": {
      "application/vnd.jupyter.widget-view+json": {
       "model_id": "bc827d581f0045458a95334421821056",
       "version_major": 2,
       "version_minor": 0
      },
      "text/plain": [
       "interactive(children=(Dropdown(description='style', options=('Abbey Dubbel', 'Abbey Tripel', 'Abt/Quadrupel', …"
      ]
     },
     "metadata": {},
     "output_type": "display_data"
    },
    {
     "data": {
      "text/plain": [
       "<function __main__.plot_year_vs_no_ratings_interactive(style)>"
      ]
     },
     "execution_count": 45,
     "metadata": {},
     "output_type": "execute_result"
    }
   ],
   "source": [
    "def plot_year_vs_no_ratings_interactive(style):\n",
    "    specific_style = style\n",
    "    specific_style_region_by = region_ba_style_change[region_rb_style_change['style']==specific_style]\n",
    "    specific_style_region_by = specific_style_region_by.dropna(how='any')\n",
    "    specific_style_region_by = specific_style_region_by.drop_duplicates('year')\n",
    "    sns.lineplot(data=specific_style_region_by, x='year', y='nbr_ratings')\n",
    "    plt.title(f'The number of ratings of {style}')\n",
    "    plt.xlabel('Year')\n",
    "    plt.ylabel('Number of ratings')\n",
    "    plt.show()\n",
    "\n",
    "interact(plot_year_vs_no_ratings_interactive, style=beer_style_list_rb)"
   ]
  },
  {
   "cell_type": "markdown",
   "metadata": {
    "pycharm": {
     "name": "#%% md\n"
    }
   },
   "source": [
    "##### Total number of ratings on the websites and overall scores\n",
    "###### BeerAdvocate"
   ]
  },
  {
   "cell_type": "code",
   "execution_count": 46,
   "metadata": {
    "pycharm": {
     "name": "#%%\n"
    }
   },
   "outputs": [
    {
     "data": {
      "image/png": "[encoded data removed]",
      "text/plain": [
       "<Figure size 432x288 with 1 Axes>"
      ]
     },
     "metadata": {
      "needs_background": "light"
     },
     "output_type": "display_data"
    }
   ],
   "source": [
    "plt.plot(region_ba_style_change.groupby(['year']).count()['formal_date'].index, region_ba_style_change.groupby(['year']).count()['formal_date'])\n",
    "plt.ylabel('Number of views')\n",
    "plt.xlabel('Year')\n",
    "plt.title('Number of views over time')\n",
    "plt.xticks([i for i in range(1998, 2018)], rotation=45)\n",
    "plt.show()"
   ]
  },
  {
   "cell_type": "markdown",
   "metadata": {
    "pycharm": {
     "name": "#%% md\n"
    }
   },
   "source": [
    "According the image above, the number of views are increase over time. In 2014, it has the largest number of reviews. But after that, the number of views are keep decreasing. It can be noted that the number of evaluations suddenly doubled before 2013 and 2014, but it is not possible to analyse what caused this."
   ]
  },
  {
   "cell_type": "code",
   "execution_count": 47,
   "metadata": {
    "pycharm": {
     "name": "#%%\n"
    }
   },
   "outputs": [],
   "source": [
    "# The bootstrapping function to use\n",
    "def bootstrapping(array, num_of_iters: int, sample_rate: float, confidence_level: float, value='mean', replace=True,test=False):\n",
    "    \"\"\"array: takes in an array of your concern(numpy array)\n",
    "        num_of_iters: the number of iterations you want to bootstrap\n",
    "        sample_rate: the percentage of data to be sampled each time\n",
    "        confidence_level: the confidence interval, e.g. 95%(input as 0.95)\n",
    "        value: which value to calculate(be bootstrapped) mean / median\n",
    "        replace: takes a boolean, if we will replace or not\n",
    "\n",
    "        output: e.g. 95% confidence intervals of the mean\n",
    "\n",
    "        Author: ZHANG Yuyao\n",
    "        \"\"\"\n",
    "    if test:\n",
    "        # array = np.array(array)\n",
    "        if value=='mean':\n",
    "            true_value = np.mean(array)\n",
    "        elif value == 'median':\n",
    "            true_value = np.median(array)\n",
    "        print(f'The true value of {value} is {true_value}')\n",
    "\n",
    "    sample_value = []\n",
    "    data_len = len(array)\n",
    "    sample_len = int(data_len*sample_rate)\n",
    "    for i in range(num_of_iters):\n",
    "        y = np.random.choice(array.tolist(), sample_len, replace=replace)\n",
    "        if value=='mean':\n",
    "            value_ = np.mean(y)\n",
    "        elif value == 'median':\n",
    "            value_ = np.median(y)\n",
    "        sample_value.append(value_)\n",
    "\n",
    "    bs_value = np.mean(sample_value)\n",
    "\n",
    "    alpha = 1-confidence_level\n",
    "    sample_value = np.sort(sample_value)\n",
    "\n",
    "    left = np.percentile(sample_value, alpha*50)#(100/2)\n",
    "    right = np.percentile(sample_value, 100-alpha*50)\n",
    "\n",
    "    # print(f'The {value} is {bs_value}.\\nAnd the {confidence_level} confidence interval for that is: ({left}, {right}).')\n",
    "    return bs_value, left, right"
   ]
  },
  {
   "cell_type": "code",
   "execution_count": 48,
   "metadata": {
    "pycharm": {
     "name": "#%%\n"
    }
   },
   "outputs": [],
   "source": [
    "def get_stats_num_by_time(x):\n",
    "    bs = bootstrapping(x['overall'], 1000, 0.1, 0.95)\n",
    "#     print(bs[1])\n",
    "    return pd.Series({'mean': bs[0],\n",
    "                  'left':bs[1],\n",
    "                  'right':bs[2]})"
   ]
  },
  {
   "cell_type": "code",
   "execution_count": 49,
   "metadata": {
    "pycharm": {
     "name": "#%%\n"
    }
   },
   "outputs": [],
   "source": [
    "def get_stats_num_by_time(x):\n",
    "    bs = bootstrapping(x['overall'], 1000, 0.1, 0.95)\n",
    "#     print(bs[1])\n",
    "    return pd.Series({'mean': bs[0],\n",
    "                  'left':bs[1],\n",
    "                  'right':bs[2]})"
   ]
  },
  {
   "cell_type": "code",
   "execution_count": 50,
   "metadata": {
    "pycharm": {
     "name": "#%%\n"
    }
   },
   "outputs": [],
   "source": [
    "stats_to_plot_ba = region_ba_style_change.groupby(['year']).apply(lambda x: get_stats_num_by_time(x))"
   ]
  },
  {
   "cell_type": "code",
   "execution_count": 51,
   "metadata": {
    "pycharm": {
     "name": "#%%\n"
    }
   },
   "outputs": [
    {
     "data": {
      "image/png": "[encoded data removed]",
      "text/plain": [
       "<Figure size 432x288 with 1 Axes>"
      ]
     },
     "metadata": {
      "needs_background": "light"
     },
     "output_type": "display_data"
    }
   ],
   "source": [
    "plt.errorbar(stats_to_plot_ba.index, stats_to_plot_ba['mean'],\n",
    "             yerr = [stats_to_plot_ba['mean']-stats_to_plot_ba.left,\n",
    "                     stats_to_plot_ba.right-stats_to_plot_ba['mean']],\n",
    "             capsize=3)\n",
    "# plt.plot(region_ba_style_change.groupby(['year']).mean()['overall'].index, region_ba_style_change.groupby(['year']).mean()['overall'])\n",
    "plt.ylabel('Overal Score')\n",
    "plt.xlabel('Year')\n",
    "plt.title('Overall Score over time')\n",
    "plt.xticks([i for i in range(1998, 2018)], rotation=45)\n",
    "plt.show()"
   ]
  },
  {
   "cell_type": "markdown",
   "metadata": {
    "pycharm": {
     "name": "#%% md\n"
    }
   },
   "source": [
    "It is easy to notice it has very high overall score in 1999. But after analysis the data, we notice it only have few reviews in 1999, so it make a illusion that sudden rise in ratings."
   ]
  },
  {
   "cell_type": "markdown",
   "metadata": {
    "pycharm": {
     "name": "#%% md\n"
    }
   },
   "source": [
    "###### RateBeer"
   ]
  },
  {
   "cell_type": "code",
   "execution_count": 52,
   "metadata": {
    "pycharm": {
     "name": "#%%\n"
    }
   },
   "outputs": [
    {
     "data": {
      "image/png": "[encoded data removed]",
      "text/plain": [
       "<Figure size 432x288 with 1 Axes>"
      ]
     },
     "metadata": {
      "needs_background": "light"
     },
     "output_type": "display_data"
    }
   ],
   "source": [
    "plt.plot(region_rb_style_change.groupby(['year']).count()['formal_date'].index, region_rb_style_change.groupby(['year']).count()['formal_date'])\n",
    "plt.ylabel('Number of views')\n",
    "plt.xlabel('Year')\n",
    "plt.title('Number of views over time')\n",
    "plt.xticks([i for i in range(1998, 2018)], rotation=45)\n",
    "plt.show()"
   ]
  },
  {
   "cell_type": "markdown",
   "metadata": {
    "pycharm": {
     "name": "#%% md\n"
    }
   },
   "source": [
    "The number of views are keep increase until 2016."
   ]
  },
  {
   "cell_type": "code",
   "execution_count": 53,
   "metadata": {
    "pycharm": {
     "name": "#%%\n"
    }
   },
   "outputs": [],
   "source": [
    "stats_to_plot_rb = region_rb_style_change.groupby(['year']).apply(lambda x: get_stats_num_by_time(x))"
   ]
  },
  {
   "cell_type": "code",
   "execution_count": 54,
   "metadata": {
    "pycharm": {
     "name": "#%%\n"
    }
   },
   "outputs": [
    {
     "data": {
      "image/png": "[encoded data removed]",
      "text/plain": [
       "<Figure size 432x288 with 1 Axes>"
      ]
     },
     "metadata": {
      "needs_background": "light"
     },
     "output_type": "display_data"
    }
   ],
   "source": [
    "plt.errorbar(stats_to_plot_rb.index, stats_to_plot_rb['mean'],\n",
    "             yerr = [stats_to_plot_rb['mean']-stats_to_plot_rb.left,\n",
    "                     stats_to_plot_rb.right-stats_to_plot_rb['mean']],\n",
    "             capsize=3)\n",
    "# plt.plot(region_rb_style_change.groupby(['year']).mean()['overall'].index, region_rb_style_change.groupby(['year']).mean()['overall'])\n",
    "plt.ylabel('Overal Score')\n",
    "plt.xlabel('Year')\n",
    "plt.title('Overall Score over time')\n",
    "plt.xticks([i for i in range(1998, 2018)], rotation=45)\n",
    "plt.show()"
   ]
  },
  {
   "cell_type": "markdown",
   "metadata": {
    "pycharm": {
     "name": "#%% md\n"
    }
   },
   "source": [
    "The overall score are keep increasing. In 2017 it was almost 2 points higher than the year of 2000."
   ]
  },
  {
   "cell_type": "markdown",
   "metadata": {
    "pycharm": {
     "name": "#%% md\n"
    }
   },
   "source": [
    "#### Relation between the overall and 4 scores\n",
    "##### BeerAdvocate"
   ]
  },
  {
   "cell_type": "markdown",
   "metadata": {
    "pycharm": {
     "name": "#%% md\n"
    }
   },
   "source": [
    "##### RateBeer"
   ]
  },
  {
   "cell_type": "markdown",
   "metadata": {
    "pycharm": {
     "name": "#%% md\n"
    }
   },
   "source": [
    "##### RateBeer"
   ]
  },
  {
   "cell_type": "markdown",
   "metadata": {
    "pycharm": {
     "name": "#%% md\n"
    }
   },
   "source": [
    "#### Hypothesis test about change in overall score\n",
    "##### RateBeer\n",
    "We observed that in the RateBeer dataset, the overall score has increased over the years.\n",
    "Therefore, we want to conduct a hypothesis test about whether it really changed.\n",
    "\n",
    "First, we split the data by the year 2011. (by experiment we find that the number of reviews are relatively close before and after this time point."
   ]
  },
  {
   "cell_type": "markdown",
   "metadata": {
    "pycharm": {
     "name": "#%% md\n"
    }
   },
   "source": [
    "#### Hypothesis test about change in overall score\n",
    "##### RateBeer\n",
    "We observed that in the RateBeer dataset, the overall score has increased over the years.\n",
    "Therefore, we want to conduct a hypothesis test about whether it really changed.\n",
    "$\\\\$\n",
    "First, we split the data by the year 2011. (by experiment we find that the number of reviews are relatively close before and after this time point."
   ]
  },
  {
   "cell_type": "code",
   "execution_count": 55,
   "metadata": {
    "pycharm": {
     "name": "#%%\n"
    }
   },
   "outputs": [
    {
     "name": "stdout",
     "output_type": "stream",
     "text": [
      "The number of reviews before 2011 is 1770869.\n"
     ]
    }
   ],
   "source": [
    "region_rb_style_change_before2011 = region_rb_style_change[region_rb_style_change.year<=2011]['overall']\n",
    "print(f'The number of reviews before 2011 is {len(region_rb_style_change_before2011)}.')"
   ]
  },
  {
   "cell_type": "code",
   "execution_count": 56,
   "metadata": {
    "pycharm": {
     "name": "#%%\n"
    }
   },
   "outputs": [
    {
     "name": "stdout",
     "output_type": "stream",
     "text": [
      "The number of reviews after 2011 is 1643671.\n"
     ]
    }
   ],
   "source": [
    "region_rb_style_change_after2011 = region_rb_style_change[region_rb_style_change.year>2011]['overall']\n",
    "print(f'The number of reviews after 2011 is {len(region_rb_style_change_after2011)}.')"
   ]
  },
  {
   "cell_type": "code",
   "execution_count": 57,
   "metadata": {
    "pycharm": {
     "name": "#%%\n"
    }
   },
   "outputs": [],
   "source": [
    "# we sample 1643671 data from before 2011 to make the dataset with the same\n",
    "sample_before2011 = region_rb_style_change_before2011[:len(region_rb_style_change_after2011)]"
   ]
  },
  {
   "cell_type": "code",
   "execution_count": 58,
   "metadata": {
    "pycharm": {
     "name": "#%%\n"
    }
   },
   "outputs": [],
   "source": [
    "hypo_test = stats.ttest_rel(sample_before2011, region_rb_style_change_after2011)"
   ]
  },
  {
   "cell_type": "code",
   "execution_count": 59,
   "metadata": {
    "pycharm": {
     "name": "#%%\n"
    }
   },
   "outputs": [
    {
     "name": "stdout",
     "output_type": "stream",
     "text": [
      "p value is 0.0 here so we can reject the null hypothesis that the mean of the splited data are the same, so the overall score has really increased over the time.\n"
     ]
    }
   ],
   "source": [
    "print(f'p value is {hypo_test.pvalue} here so we can reject the null hypothesis that the mean of the splited data are the same, so the overall score has really increased over the time.')"
   ]
  },
  {
   "cell_type": "markdown",
   "metadata": {
    "pycharm": {
     "name": "#%% md\n"
    }
   },
   "source": [
    "##### BeerAdvocate"
   ]
  },
  {
   "cell_type": "code",
   "execution_count": 60,
   "metadata": {
    "pycharm": {
     "name": "#%%\n"
    }
   },
   "outputs": [
    {
     "name": "stdout",
     "output_type": "stream",
     "text": [
      "The number of reviews before 2011 is 1637859.\n",
      "The number of reviews after 2011 is 1629708.\n",
      "p value is 0.0 here so we can reject the null hypothesis that the mean of the splited data are the same, so the overall score has really increased over the time.\n"
     ]
    }
   ],
   "source": [
    "region_ba_style_change_before2011 = region_ba_style_change[region_ba_style_change.year<=2014]['overall']\n",
    "print(f'The number of reviews before 2011 is {len(region_ba_style_change_before2011)}.')\n",
    "region_ba_style_change_after2011 = region_ba_style_change[region_ba_style_change.year>2014]['overall']\n",
    "print(f'The number of reviews after 2011 is {len(region_ba_style_change_after2011)}.')\n",
    "sample_before2011_ba = region_ba_style_change_before2011[:len(region_ba_style_change_after2011)]\n",
    "hypo_test_ba = stats.ttest_rel(sample_before2011_ba, region_ba_style_change_after2011)\n",
    "print(f'p value is {hypo_test_ba.pvalue} here so we can reject the null hypothesis that the mean of the splited data are the same, so the overall score has really increased over the time.')"
   ]
  },
  {
   "cell_type": "markdown",
   "metadata": {
    "pycharm": {
     "name": "#%% md\n"
    }
   },
   "source": [
    "Some reasons:\n",
    "\n",
    "\n",
    "In the past, fewer people have access to the Internet, so as the rating websites. Therefore, the users may be some experts in beer or have great passion for beers. In this case, they might be more strict while rating the beers.\n",
    "However, now we all can get online to rate the beers, so there exists user groups with higher diversity, which may leads to more relaxed standard, thus the score is higher."
   ]
  },
  {
   "cell_type": "code",
   "execution_count": 60,
   "metadata": {
    "pycharm": {
     "name": "#%%\n"
    }
   },
   "outputs": [],
   "source": []
  },
  {
   "cell_type": "markdown",
   "metadata": {
    "pycharm": {
     "name": "#%% md\n"
    }
   },
   "source": [
    "# Project M2"
   ]
  },
  {
   "cell_type": "markdown",
   "metadata": {
    "pycharm": {
     "name": "#%% md\n"
    }
   },
   "source": [
    "First we import the needed libraries"
   ]
  },
  {
   "cell_type": "code",
   "execution_count": 61,
   "metadata": {
    "pycharm": {
     "name": "#%%\n"
    }
   },
   "outputs": [],
   "source": [
    "import warnings\n",
    "warnings.filterwarnings('ignore')\n",
    "import pandas as pd\n",
    "import numpy as np\n",
    "import matplotlib.pyplot as plt\n",
    "import seaborn as sns\n",
    "import datetime\n",
    "\n",
    "sns.set_style(\"darkgrid\")\n",
    "%matplotlib inline\n",
    "\n",
    "#load the statistical libraries\n",
    "from scipy import stats\n",
    "\n",
    "from sklearn.linear_model import LinearRegression, LogisticRegression, Ridge\n",
    "# from sklearn.preprocessing import OneHotEncoder\n",
    "# from pandas.plotting import scatter_matrix\n",
    "from sklearn.neighbors import KNeighborsClassifier\n",
    "from sklearn.model_selection import cross_val_predict\n",
    "from sklearn.model_selection import cross_val_score\n",
    "from sklearn.metrics import mean_squared_error, auc, roc_curve\n",
    "from statsmodels.stats import diagnostic\n",
    "from scipy import stats\n",
    "import statsmodels.api as sm\n",
    "import statsmodels.formula.api as smf\n",
    "\n",
    "from ipywidgets import interact\n",
    "from IPython.display import HTML,Javascript, display\n",
    "from sklearn import preprocessing"
   ]
  },
  {
   "cell_type": "markdown",
   "metadata": {
    "pycharm": {
     "name": "#%% md\n"
    }
   },
   "source": [
    "## Data preprocessing\n",
    "In this project, we will investigate in to two beer rating datasets, BeerAdvocate and RateBeer. Both datasets contain ```user```, ```brewery```, ```beeer``` and ```rating```."
   ]
  },
  {
   "cell_type": "markdown",
   "metadata": {
    "pycharm": {
     "name": "#%% md\n"
    }
   },
   "source": [
    "##### Note of rating files\n",
    "Since the **rating** files are txt files of about several gigabytes in size, we cannot handle it simultaneously. Therefore, we **sliced** them to several small pieces and then **combined** them into '.csv' files.\n",
    "\n",
    "The slicing process is extremely time-consuming, thus we won't put the code here. The method is just parsing the file line by line and add some number restrictions for each bulk. And transfer the '.txt' file to '.csv' file.\n",
    "\n",
    "We also filtered out the beer data which has less than 120 ratings. In this way each beer has enough rating for data analysis.\n",
    "\n",
    "We put the processed rating data in the same directory as this ipython notebook and name them as **after_pro_data_ba.csv** and **after_pro_data_rb.csv** for **BeerAdvocate** and **RateBeer** respectively."
   ]
  },
  {
   "cell_type": "markdown",
   "metadata": {
    "pycharm": {
     "name": "#%% md\n"
    }
   },
   "source": [
    "### Handle the missing value and initial data filtering"
   ]
  },
  {
   "cell_type": "markdown",
   "metadata": {
    "pycharm": {
     "name": "#%% md\n"
    }
   },
   "source": [
    "#### BeerAdvocate"
   ]
  },
  {
   "cell_type": "code",
   "execution_count": 62,
   "metadata": {
    "pycharm": {
     "name": "#%%\n"
    }
   },
   "outputs": [
    {
     "name": "stdout",
     "output_type": "stream",
     "text": [
      "Currently, there are 6264473 ratings on BeerAdvocate website\n"
     ]
    },
    {
     "data": {
      "text/html": [
       "<div>\n",
       "<style scoped>\n",
       "    .dataframe tbody tr th:only-of-type {\n",
       "        vertical-align: middle;\n",
       "    }\n",
       "\n",
       "    .dataframe tbody tr th {\n",
       "        vertical-align: top;\n",
       "    }\n",
       "\n",
       "    .dataframe thead th {\n",
       "        text-align: right;\n",
       "    }\n",
       "</style>\n",
       "<table border=\"1\" class=\"dataframe\">\n",
       "  <thead>\n",
       "    <tr style=\"text-align: right;\">\n",
       "      <th></th>\n",
       "      <th>beer_name</th>\n",
       "      <th>beer_id</th>\n",
       "      <th>brewery_name</th>\n",
       "      <th>brewery_id</th>\n",
       "      <th>style</th>\n",
       "      <th>abv</th>\n",
       "      <th>date</th>\n",
       "      <th>user_name</th>\n",
       "      <th>user_id</th>\n",
       "      <th>appearance</th>\n",
       "      <th>aroma</th>\n",
       "      <th>palate</th>\n",
       "      <th>taste</th>\n",
       "      <th>overall</th>\n",
       "      <th>rating</th>\n",
       "      <th>text</th>\n",
       "      <th>review</th>\n",
       "    </tr>\n",
       "  </thead>\n",
       "  <tbody>\n",
       "    <tr>\n",
       "      <th>0</th>\n",
       "      <td>Caffrey's Irish Ale</td>\n",
       "      <td>825</td>\n",
       "      <td>Thomas Caffrey Brewing Co.</td>\n",
       "      <td>297</td>\n",
       "      <td>Irish Red Ale</td>\n",
       "      <td>3.8</td>\n",
       "      <td>1500112800</td>\n",
       "      <td>GregKobeArntz24</td>\n",
       "      <td>gregkobearntz24.1206160</td>\n",
       "      <td>4.5</td>\n",
       "      <td>4.75</td>\n",
       "      <td>4.25</td>\n",
       "      <td>4.5</td>\n",
       "      <td>4.50</td>\n",
       "      <td>4.54</td>\n",
       "      <td>NaN</td>\n",
       "      <td>False</td>\n",
       "    </tr>\n",
       "    <tr>\n",
       "      <th>1</th>\n",
       "      <td>Caffrey's Irish Ale</td>\n",
       "      <td>825</td>\n",
       "      <td>Thomas Caffrey Brewing Co.</td>\n",
       "      <td>297</td>\n",
       "      <td>Irish Red Ale</td>\n",
       "      <td>3.8</td>\n",
       "      <td>1483182000</td>\n",
       "      <td>awjess</td>\n",
       "      <td>awjess.1185716</td>\n",
       "      <td>4.5</td>\n",
       "      <td>4.00</td>\n",
       "      <td>4.25</td>\n",
       "      <td>4.0</td>\n",
       "      <td>4.25</td>\n",
       "      <td>4.11</td>\n",
       "      <td>Look - Has a nice foamy head,   Feel - Creamy ...</td>\n",
       "      <td>False</td>\n",
       "    </tr>\n",
       "    <tr>\n",
       "      <th>2</th>\n",
       "      <td>Caffrey's Irish Ale</td>\n",
       "      <td>825</td>\n",
       "      <td>Thomas Caffrey Brewing Co.</td>\n",
       "      <td>297</td>\n",
       "      <td>Irish Red Ale</td>\n",
       "      <td>3.8</td>\n",
       "      <td>1468317600</td>\n",
       "      <td>fr0wn3r</td>\n",
       "      <td>fr0wn3r.862994</td>\n",
       "      <td>3.0</td>\n",
       "      <td>3.25</td>\n",
       "      <td>3.00</td>\n",
       "      <td>3.0</td>\n",
       "      <td>3.00</td>\n",
       "      <td>3.06</td>\n",
       "      <td>NaN</td>\n",
       "      <td>False</td>\n",
       "    </tr>\n",
       "    <tr>\n",
       "      <th>3</th>\n",
       "      <td>Caffrey's Irish Ale</td>\n",
       "      <td>825</td>\n",
       "      <td>Thomas Caffrey Brewing Co.</td>\n",
       "      <td>297</td>\n",
       "      <td>Irish Red Ale</td>\n",
       "      <td>3.8</td>\n",
       "      <td>1459418400</td>\n",
       "      <td>Fatehunter</td>\n",
       "      <td>fatehunter.326927</td>\n",
       "      <td>4.0</td>\n",
       "      <td>3.25</td>\n",
       "      <td>4.00</td>\n",
       "      <td>3.5</td>\n",
       "      <td>3.50</td>\n",
       "      <td>3.52</td>\n",
       "      <td>Pours a finger of head on a hazy darker straw ...</td>\n",
       "      <td>True</td>\n",
       "    </tr>\n",
       "    <tr>\n",
       "      <th>4</th>\n",
       "      <td>Caffrey's Irish Ale</td>\n",
       "      <td>825</td>\n",
       "      <td>Thomas Caffrey Brewing Co.</td>\n",
       "      <td>297</td>\n",
       "      <td>Irish Red Ale</td>\n",
       "      <td>3.8</td>\n",
       "      <td>1450263600</td>\n",
       "      <td>MTLDOG</td>\n",
       "      <td>mtldog.920333</td>\n",
       "      <td>4.5</td>\n",
       "      <td>3.75</td>\n",
       "      <td>4.00</td>\n",
       "      <td>3.0</td>\n",
       "      <td>3.75</td>\n",
       "      <td>3.52</td>\n",
       "      <td>NaN</td>\n",
       "      <td>False</td>\n",
       "    </tr>\n",
       "  </tbody>\n",
       "</table>\n",
       "</div>"
      ],
      "text/plain": [
       "             beer_name  beer_id                brewery_name  brewery_id  \\\n",
       "0  Caffrey's Irish Ale      825  Thomas Caffrey Brewing Co.         297   \n",
       "1  Caffrey's Irish Ale      825  Thomas Caffrey Brewing Co.         297   \n",
       "2  Caffrey's Irish Ale      825  Thomas Caffrey Brewing Co.         297   \n",
       "3  Caffrey's Irish Ale      825  Thomas Caffrey Brewing Co.         297   \n",
       "4  Caffrey's Irish Ale      825  Thomas Caffrey Brewing Co.         297   \n",
       "\n",
       "           style  abv        date        user_name                  user_id  \\\n",
       "0  Irish Red Ale  3.8  1500112800  GregKobeArntz24  gregkobearntz24.1206160   \n",
       "1  Irish Red Ale  3.8  1483182000           awjess           awjess.1185716   \n",
       "2  Irish Red Ale  3.8  1468317600          fr0wn3r           fr0wn3r.862994   \n",
       "3  Irish Red Ale  3.8  1459418400       Fatehunter        fatehunter.326927   \n",
       "4  Irish Red Ale  3.8  1450263600           MTLDOG            mtldog.920333   \n",
       "\n",
       "   appearance  aroma  palate  taste  overall  rating  \\\n",
       "0         4.5   4.75    4.25    4.5     4.50    4.54   \n",
       "1         4.5   4.00    4.25    4.0     4.25    4.11   \n",
       "2         3.0   3.25    3.00    3.0     3.00    3.06   \n",
       "3         4.0   3.25    4.00    3.5     3.50    3.52   \n",
       "4         4.5   3.75    4.00    3.0     3.75    3.52   \n",
       "\n",
       "                                                text  review  \n",
       "0                                                NaN   False  \n",
       "1  Look - Has a nice foamy head,   Feel - Creamy ...   False  \n",
       "2                                                NaN   False  \n",
       "3  Pours a finger of head on a hazy darker straw ...    True  \n",
       "4                                                NaN   False  "
      ]
     },
     "execution_count": 62,
     "metadata": {},
     "output_type": "execute_result"
    }
   ],
   "source": [
    "# Load ratings data from BeerAdvocate\n",
    "df_rating_ba = pd.read_csv('/Users/zhangyuyao/Desktop/Exchange EPFL/2022/projectM1/after_pro_data_ba.csv')\n",
    "df_rating_ba = df_rating_ba.drop(columns=['Unnamed: 0'])\n",
    "print(f'Currently, there are {len(df_rating_ba)} ratings on BeerAdvocate website')\n",
    "df_rating_ba.head()"
   ]
  },
  {
   "cell_type": "code",
   "execution_count": 63,
   "metadata": {
    "pycharm": {
     "name": "#%%\n"
    }
   },
   "outputs": [
    {
     "name": "stdout",
     "output_type": "stream",
     "text": [
      "There are 2971642 rows have NAN values in BeerAdvocate\n",
      "There are 2971642 rows with 5 NAN values in BeerAdvocate\n"
     ]
    },
    {
     "data": {
      "text/plain": [
       "count    2.971642e+06\n",
       "mean     3.902421e+00\n",
       "std      6.835105e-01\n",
       "min      1.000000e+00\n",
       "25%      3.500000e+00\n",
       "50%      4.000000e+00\n",
       "75%      4.250000e+00\n",
       "max      5.000000e+00\n",
       "Name: rating, dtype: float64"
      ]
     },
     "execution_count": 63,
     "metadata": {},
     "output_type": "execute_result"
    }
   ],
   "source": [
    "# The scoring attribute\n",
    "column_ = ['appearance', 'aroma', 'palate', 'taste', 'overall']\n",
    "print(f'There are {df_rating_ba [column_].isna().any(axis = 1).value_counts()[1]} rows have NAN values in BeerAdvocate')\n",
    "print(f'There are {np.sum(df_rating_ba [column_].isna().sum(axis = 1)==5)} rows with 5 NAN values in BeerAdvocate')\n",
    "compare_ba = df_rating_ba[df_rating_ba[column_].isna().any(axis = 1)]\n",
    "compare_ba['rating'].describe()"
   ]
  },
  {
   "cell_type": "markdown",
   "metadata": {
    "pycharm": {
     "name": "#%% md\n"
    }
   },
   "source": [
    "Here we found if there is no overall score, there wouldn't be detailed scores about one beer. We also check the website manually, and found that we should rate the appearance, aroma, palate, taste, overall together.\n",
    "However, these data all have the rating values. We don't think that these data are useful since we want to find some relationship of the detailed score to the rating and other perspectives. And since we will still have very large amout data after deleting them, we will just simply delete them."
   ]
  },
  {
   "cell_type": "code",
   "execution_count": 64,
   "metadata": {
    "pycharm": {
     "name": "#%%\n"
    }
   },
   "outputs": [
    {
     "data": {
      "text/plain": [
       "(3292831, 17)"
      ]
     },
     "execution_count": 64,
     "metadata": {},
     "output_type": "execute_result"
    }
   ],
   "source": [
    "#Delete all meaninigless lines\n",
    "df_rating_ba = df_rating_ba[~df_rating_ba[column_].isna().any(axis = 1)]\n",
    "df_rating_ba.shape"
   ]
  },
  {
   "cell_type": "markdown",
   "metadata": {
    "pycharm": {
     "name": "#%% md\n"
    }
   },
   "source": [
    "The user_id in BeerAdvocate rating dataset are composed of both of name and id we want to keep the numeric id for simplicity."
   ]
  },
  {
   "cell_type": "code",
   "execution_count": 65,
   "metadata": {
    "pycharm": {
     "name": "#%%\n"
    }
   },
   "outputs": [
    {
     "data": {
      "text/html": [
       "<div>\n",
       "<style scoped>\n",
       "    .dataframe tbody tr th:only-of-type {\n",
       "        vertical-align: middle;\n",
       "    }\n",
       "\n",
       "    .dataframe tbody tr th {\n",
       "        vertical-align: top;\n",
       "    }\n",
       "\n",
       "    .dataframe thead th {\n",
       "        text-align: right;\n",
       "    }\n",
       "</style>\n",
       "<table border=\"1\" class=\"dataframe\">\n",
       "  <thead>\n",
       "    <tr style=\"text-align: right;\">\n",
       "      <th></th>\n",
       "      <th>beer_name</th>\n",
       "      <th>beer_id</th>\n",
       "      <th>brewery_name</th>\n",
       "      <th>brewery_id</th>\n",
       "      <th>style</th>\n",
       "      <th>abv</th>\n",
       "      <th>date</th>\n",
       "      <th>user_name</th>\n",
       "      <th>user_id</th>\n",
       "      <th>appearance</th>\n",
       "      <th>aroma</th>\n",
       "      <th>palate</th>\n",
       "      <th>taste</th>\n",
       "      <th>overall</th>\n",
       "      <th>rating</th>\n",
       "      <th>text</th>\n",
       "      <th>review</th>\n",
       "    </tr>\n",
       "  </thead>\n",
       "  <tbody>\n",
       "    <tr>\n",
       "      <th>0</th>\n",
       "      <td>Caffrey's Irish Ale</td>\n",
       "      <td>825</td>\n",
       "      <td>Thomas Caffrey Brewing Co.</td>\n",
       "      <td>297</td>\n",
       "      <td>Irish Red Ale</td>\n",
       "      <td>3.8</td>\n",
       "      <td>1500112800</td>\n",
       "      <td>GregKobeArntz24</td>\n",
       "      <td>1206160</td>\n",
       "      <td>4.5</td>\n",
       "      <td>4.75</td>\n",
       "      <td>4.25</td>\n",
       "      <td>4.5</td>\n",
       "      <td>4.50</td>\n",
       "      <td>4.54</td>\n",
       "      <td>NaN</td>\n",
       "      <td>False</td>\n",
       "    </tr>\n",
       "    <tr>\n",
       "      <th>1</th>\n",
       "      <td>Caffrey's Irish Ale</td>\n",
       "      <td>825</td>\n",
       "      <td>Thomas Caffrey Brewing Co.</td>\n",
       "      <td>297</td>\n",
       "      <td>Irish Red Ale</td>\n",
       "      <td>3.8</td>\n",
       "      <td>1483182000</td>\n",
       "      <td>awjess</td>\n",
       "      <td>1185716</td>\n",
       "      <td>4.5</td>\n",
       "      <td>4.00</td>\n",
       "      <td>4.25</td>\n",
       "      <td>4.0</td>\n",
       "      <td>4.25</td>\n",
       "      <td>4.11</td>\n",
       "      <td>Look - Has a nice foamy head,   Feel - Creamy ...</td>\n",
       "      <td>False</td>\n",
       "    </tr>\n",
       "    <tr>\n",
       "      <th>2</th>\n",
       "      <td>Caffrey's Irish Ale</td>\n",
       "      <td>825</td>\n",
       "      <td>Thomas Caffrey Brewing Co.</td>\n",
       "      <td>297</td>\n",
       "      <td>Irish Red Ale</td>\n",
       "      <td>3.8</td>\n",
       "      <td>1468317600</td>\n",
       "      <td>fr0wn3r</td>\n",
       "      <td>862994</td>\n",
       "      <td>3.0</td>\n",
       "      <td>3.25</td>\n",
       "      <td>3.00</td>\n",
       "      <td>3.0</td>\n",
       "      <td>3.00</td>\n",
       "      <td>3.06</td>\n",
       "      <td>NaN</td>\n",
       "      <td>False</td>\n",
       "    </tr>\n",
       "    <tr>\n",
       "      <th>3</th>\n",
       "      <td>Caffrey's Irish Ale</td>\n",
       "      <td>825</td>\n",
       "      <td>Thomas Caffrey Brewing Co.</td>\n",
       "      <td>297</td>\n",
       "      <td>Irish Red Ale</td>\n",
       "      <td>3.8</td>\n",
       "      <td>1459418400</td>\n",
       "      <td>Fatehunter</td>\n",
       "      <td>326927</td>\n",
       "      <td>4.0</td>\n",
       "      <td>3.25</td>\n",
       "      <td>4.00</td>\n",
       "      <td>3.5</td>\n",
       "      <td>3.50</td>\n",
       "      <td>3.52</td>\n",
       "      <td>Pours a finger of head on a hazy darker straw ...</td>\n",
       "      <td>True</td>\n",
       "    </tr>\n",
       "    <tr>\n",
       "      <th>4</th>\n",
       "      <td>Caffrey's Irish Ale</td>\n",
       "      <td>825</td>\n",
       "      <td>Thomas Caffrey Brewing Co.</td>\n",
       "      <td>297</td>\n",
       "      <td>Irish Red Ale</td>\n",
       "      <td>3.8</td>\n",
       "      <td>1450263600</td>\n",
       "      <td>MTLDOG</td>\n",
       "      <td>920333</td>\n",
       "      <td>4.5</td>\n",
       "      <td>3.75</td>\n",
       "      <td>4.00</td>\n",
       "      <td>3.0</td>\n",
       "      <td>3.75</td>\n",
       "      <td>3.52</td>\n",
       "      <td>NaN</td>\n",
       "      <td>False</td>\n",
       "    </tr>\n",
       "  </tbody>\n",
       "</table>\n",
       "</div>"
      ],
      "text/plain": [
       "             beer_name  beer_id                brewery_name  brewery_id  \\\n",
       "0  Caffrey's Irish Ale      825  Thomas Caffrey Brewing Co.         297   \n",
       "1  Caffrey's Irish Ale      825  Thomas Caffrey Brewing Co.         297   \n",
       "2  Caffrey's Irish Ale      825  Thomas Caffrey Brewing Co.         297   \n",
       "3  Caffrey's Irish Ale      825  Thomas Caffrey Brewing Co.         297   \n",
       "4  Caffrey's Irish Ale      825  Thomas Caffrey Brewing Co.         297   \n",
       "\n",
       "           style  abv        date        user_name  user_id  appearance  \\\n",
       "0  Irish Red Ale  3.8  1500112800  GregKobeArntz24  1206160         4.5   \n",
       "1  Irish Red Ale  3.8  1483182000           awjess  1185716         4.5   \n",
       "2  Irish Red Ale  3.8  1468317600          fr0wn3r   862994         3.0   \n",
       "3  Irish Red Ale  3.8  1459418400       Fatehunter   326927         4.0   \n",
       "4  Irish Red Ale  3.8  1450263600           MTLDOG   920333         4.5   \n",
       "\n",
       "   aroma  palate  taste  overall  rating  \\\n",
       "0   4.75    4.25    4.5     4.50    4.54   \n",
       "1   4.00    4.25    4.0     4.25    4.11   \n",
       "2   3.25    3.00    3.0     3.00    3.06   \n",
       "3   3.25    4.00    3.5     3.50    3.52   \n",
       "4   3.75    4.00    3.0     3.75    3.52   \n",
       "\n",
       "                                                text  review  \n",
       "0                                                NaN   False  \n",
       "1  Look - Has a nice foamy head,   Feel - Creamy ...   False  \n",
       "2                                                NaN   False  \n",
       "3  Pours a finger of head on a hazy darker straw ...    True  \n",
       "4                                                NaN   False  "
      ]
     },
     "execution_count": 65,
     "metadata": {},
     "output_type": "execute_result"
    }
   ],
   "source": [
    "#spilt the user_id in BeerAdvocate\n",
    "def str_split(data):\n",
    "    return data.split('.')[1]\n",
    "df_rating_ba['user_id'] = df_rating_ba['user_id'].apply(str_split)\n",
    "df_rating_ba.head()"
   ]
  },
  {
   "cell_type": "markdown",
   "metadata": {
    "pycharm": {
     "name": "#%% md\n"
    }
   },
   "source": [
    "#### RateBeer\n",
    "We will do the similar process to the RateBeer dataset."
   ]
  },
  {
   "cell_type": "code",
   "execution_count": 66,
   "metadata": {
    "pycharm": {
     "name": "#%%\n"
    }
   },
   "outputs": [
    {
     "name": "stdout",
     "output_type": "stream",
     "text": [
      "Currently, there are 3443337 ratings on RateBeer website\n"
     ]
    },
    {
     "data": {
      "text/html": [
       "<div>\n",
       "<style scoped>\n",
       "    .dataframe tbody tr th:only-of-type {\n",
       "        vertical-align: middle;\n",
       "    }\n",
       "\n",
       "    .dataframe tbody tr th {\n",
       "        vertical-align: top;\n",
       "    }\n",
       "\n",
       "    .dataframe thead th {\n",
       "        text-align: right;\n",
       "    }\n",
       "</style>\n",
       "<table border=\"1\" class=\"dataframe\">\n",
       "  <thead>\n",
       "    <tr style=\"text-align: right;\">\n",
       "      <th></th>\n",
       "      <th>beer_name</th>\n",
       "      <th>beer_id</th>\n",
       "      <th>brewery_name</th>\n",
       "      <th>brewery_id</th>\n",
       "      <th>style</th>\n",
       "      <th>abv</th>\n",
       "      <th>date</th>\n",
       "      <th>user_name</th>\n",
       "      <th>user_id</th>\n",
       "      <th>appearance</th>\n",
       "      <th>aroma</th>\n",
       "      <th>palate</th>\n",
       "      <th>taste</th>\n",
       "      <th>overall</th>\n",
       "      <th>rating</th>\n",
       "      <th>text</th>\n",
       "    </tr>\n",
       "  </thead>\n",
       "  <tbody>\n",
       "    <tr>\n",
       "      <th>0</th>\n",
       "      <td>ABC Extra Stout</td>\n",
       "      <td>9226</td>\n",
       "      <td>Singapore Brewery (Asia Pacific Breweries-Hein...</td>\n",
       "      <td>547</td>\n",
       "      <td>Foreign Stout</td>\n",
       "      <td>7.0</td>\n",
       "      <td>1500199200</td>\n",
       "      <td>mcberko</td>\n",
       "      <td>95615</td>\n",
       "      <td>4</td>\n",
       "      <td>6</td>\n",
       "      <td>2</td>\n",
       "      <td>6</td>\n",
       "      <td>11</td>\n",
       "      <td>2.9</td>\n",
       "      <td>330mL can, Cambodian version (8%), pours black...</td>\n",
       "    </tr>\n",
       "    <tr>\n",
       "      <th>1</th>\n",
       "      <td>ABC Extra Stout</td>\n",
       "      <td>9226</td>\n",
       "      <td>Singapore Brewery (Asia Pacific Breweries-Hein...</td>\n",
       "      <td>547</td>\n",
       "      <td>Foreign Stout</td>\n",
       "      <td>7.0</td>\n",
       "      <td>1497780000</td>\n",
       "      <td>Grumbo</td>\n",
       "      <td>118968</td>\n",
       "      <td>3</td>\n",
       "      <td>7</td>\n",
       "      <td>4</td>\n",
       "      <td>6</td>\n",
       "      <td>12</td>\n",
       "      <td>3.2</td>\n",
       "      <td>Can at Johnâs courtesy of Henrik. Sri Lanka ...</td>\n",
       "    </tr>\n",
       "    <tr>\n",
       "      <th>2</th>\n",
       "      <td>ABC Extra Stout</td>\n",
       "      <td>9226</td>\n",
       "      <td>Singapore Brewery (Asia Pacific Breweries-Hein...</td>\n",
       "      <td>547</td>\n",
       "      <td>Foreign Stout</td>\n",
       "      <td>7.0</td>\n",
       "      <td>1497434400</td>\n",
       "      <td>alex_leit</td>\n",
       "      <td>243248</td>\n",
       "      <td>4</td>\n",
       "      <td>6</td>\n",
       "      <td>3</td>\n",
       "      <td>6</td>\n",
       "      <td>13</td>\n",
       "      <td>3.2</td>\n",
       "      <td>Can, Myanmar, 8,0%, dark brown color, coffee f...</td>\n",
       "    </tr>\n",
       "    <tr>\n",
       "      <th>3</th>\n",
       "      <td>ABC Extra Stout</td>\n",
       "      <td>9226</td>\n",
       "      <td>Singapore Brewery (Asia Pacific Breweries-Hein...</td>\n",
       "      <td>547</td>\n",
       "      <td>Foreign Stout</td>\n",
       "      <td>7.0</td>\n",
       "      <td>1491559200</td>\n",
       "      <td>gripweed57</td>\n",
       "      <td>60778</td>\n",
       "      <td>4</td>\n",
       "      <td>8</td>\n",
       "      <td>4</td>\n",
       "      <td>8</td>\n",
       "      <td>15</td>\n",
       "      <td>3.9</td>\n",
       "      <td>From old tasting notes. Pours an opaque black ...</td>\n",
       "    </tr>\n",
       "    <tr>\n",
       "      <th>4</th>\n",
       "      <td>ABC Extra Stout</td>\n",
       "      <td>9226</td>\n",
       "      <td>Singapore Brewery (Asia Pacific Breweries-Hein...</td>\n",
       "      <td>547</td>\n",
       "      <td>Foreign Stout</td>\n",
       "      <td>7.0</td>\n",
       "      <td>1486465200</td>\n",
       "      <td>fkoolen</td>\n",
       "      <td>261854</td>\n",
       "      <td>4</td>\n",
       "      <td>7</td>\n",
       "      <td>4</td>\n",
       "      <td>7</td>\n",
       "      <td>14</td>\n",
       "      <td>3.6</td>\n",
       "      <td>Big bottle in Nyaungshwe, Myanmar. Really dark...</td>\n",
       "    </tr>\n",
       "  </tbody>\n",
       "</table>\n",
       "</div>"
      ],
      "text/plain": [
       "         beer_name  beer_id  \\\n",
       "0  ABC Extra Stout     9226   \n",
       "1  ABC Extra Stout     9226   \n",
       "2  ABC Extra Stout     9226   \n",
       "3  ABC Extra Stout     9226   \n",
       "4  ABC Extra Stout     9226   \n",
       "\n",
       "                                        brewery_name  brewery_id  \\\n",
       "0  Singapore Brewery (Asia Pacific Breweries-Hein...         547   \n",
       "1  Singapore Brewery (Asia Pacific Breweries-Hein...         547   \n",
       "2  Singapore Brewery (Asia Pacific Breweries-Hein...         547   \n",
       "3  Singapore Brewery (Asia Pacific Breweries-Hein...         547   \n",
       "4  Singapore Brewery (Asia Pacific Breweries-Hein...         547   \n",
       "\n",
       "           style  abv        date   user_name  user_id  appearance  aroma  \\\n",
       "0  Foreign Stout  7.0  1500199200     mcberko    95615           4      6   \n",
       "1  Foreign Stout  7.0  1497780000      Grumbo   118968           3      7   \n",
       "2  Foreign Stout  7.0  1497434400   alex_leit   243248           4      6   \n",
       "3  Foreign Stout  7.0  1491559200  gripweed57    60778           4      8   \n",
       "4  Foreign Stout  7.0  1486465200     fkoolen   261854           4      7   \n",
       "\n",
       "   palate  taste  overall  rating  \\\n",
       "0       2      6       11     2.9   \n",
       "1       4      6       12     3.2   \n",
       "2       3      6       13     3.2   \n",
       "3       4      8       15     3.9   \n",
       "4       4      7       14     3.6   \n",
       "\n",
       "                                                text  \n",
       "0  330mL can, Cambodian version (8%), pours black...  \n",
       "1  Can at Johnâs courtesy of Henrik. Sri Lanka ...  \n",
       "2  Can, Myanmar, 8,0%, dark brown color, coffee f...  \n",
       "3  From old tasting notes. Pours an opaque black ...  \n",
       "4  Big bottle in Nyaungshwe, Myanmar. Really dark...  "
      ]
     },
     "execution_count": 66,
     "metadata": {},
     "output_type": "execute_result"
    }
   ],
   "source": [
    "# Load rating data on RateBeer website\n",
    "df_rating_rb = pd.read_csv('/Users/zhangyuyao/Desktop/Exchange EPFL/2022/projectM1/after_pro_data_rb.csv')\n",
    "df_rating_rb = df_rating_rb.drop(columns=['Unnamed: 0'])\n",
    "print(f'Currently, there are {len(df_rating_rb)} ratings on RateBeer website')\n",
    "df_rating_rb.head()"
   ]
  },
  {
   "cell_type": "code",
   "execution_count": 67,
   "metadata": {
    "pycharm": {
     "name": "#%%\n"
    }
   },
   "outputs": [
    {
     "name": "stdout",
     "output_type": "stream",
     "text": [
      "Thera are 3443337 rows don't have NAN value\n",
      "Thera are 0 rows with NAN value\n",
      "Since we don't have nan values we won't do the missing values handling here.\n"
     ]
    }
   ],
   "source": [
    "print(f\"Thera are {df_rating_rb[column_].isna().any(axis = 1).value_counts()[0]} rows don't have NAN value\")\n",
    "print(f'Thera are {np.sum(df_rating_rb [column_].isna().sum(axis = 1)==5)} rows with NAN value')\n",
    "compare_rb = df_rating_rb[df_rating_rb[column_].isna().any(axis = 1)]\n",
    "print(\"Since we don't have nan values we won't do the missing values handling here.\")"
   ]
  },
  {
   "cell_type": "markdown",
   "metadata": {
    "pycharm": {
     "name": "#%% md\n"
    }
   },
   "source": [
    "### Datasets preparation and more filtering\n",
    "#### BeerAdvocate\n",
    "We first map the scale of each rating to 0-5 to make a consistency between the two datasets."
   ]
  },
  {
   "cell_type": "code",
   "execution_count": 68,
   "metadata": {
    "pycharm": {
     "name": "#%%\n"
    }
   },
   "outputs": [
    {
     "data": {
      "text/html": [
       "<div>\n",
       "<style scoped>\n",
       "    .dataframe tbody tr th:only-of-type {\n",
       "        vertical-align: middle;\n",
       "    }\n",
       "\n",
       "    .dataframe tbody tr th {\n",
       "        vertical-align: top;\n",
       "    }\n",
       "\n",
       "    .dataframe thead th {\n",
       "        text-align: right;\n",
       "    }\n",
       "</style>\n",
       "<table border=\"1\" class=\"dataframe\">\n",
       "  <thead>\n",
       "    <tr style=\"text-align: right;\">\n",
       "      <th></th>\n",
       "      <th>beer_name</th>\n",
       "      <th>beer_id</th>\n",
       "      <th>brewery_name</th>\n",
       "      <th>brewery_id</th>\n",
       "      <th>style</th>\n",
       "      <th>abv</th>\n",
       "      <th>date</th>\n",
       "      <th>user_name</th>\n",
       "      <th>user_id</th>\n",
       "      <th>appearance</th>\n",
       "      <th>aroma</th>\n",
       "      <th>palate</th>\n",
       "      <th>taste</th>\n",
       "      <th>overall</th>\n",
       "      <th>rating</th>\n",
       "      <th>text</th>\n",
       "      <th>review</th>\n",
       "    </tr>\n",
       "  </thead>\n",
       "  <tbody>\n",
       "    <tr>\n",
       "      <th>0</th>\n",
       "      <td>Caffrey's Irish Ale</td>\n",
       "      <td>825</td>\n",
       "      <td>Thomas Caffrey Brewing Co.</td>\n",
       "      <td>297</td>\n",
       "      <td>Irish Red Ale</td>\n",
       "      <td>3.8</td>\n",
       "      <td>1500112800</td>\n",
       "      <td>GregKobeArntz24</td>\n",
       "      <td>1206160</td>\n",
       "      <td>4.375</td>\n",
       "      <td>4.6875</td>\n",
       "      <td>4.0625</td>\n",
       "      <td>4.375</td>\n",
       "      <td>4.3750</td>\n",
       "      <td>4.4250</td>\n",
       "      <td>NaN</td>\n",
       "      <td>False</td>\n",
       "    </tr>\n",
       "    <tr>\n",
       "      <th>1</th>\n",
       "      <td>Caffrey's Irish Ale</td>\n",
       "      <td>825</td>\n",
       "      <td>Thomas Caffrey Brewing Co.</td>\n",
       "      <td>297</td>\n",
       "      <td>Irish Red Ale</td>\n",
       "      <td>3.8</td>\n",
       "      <td>1483182000</td>\n",
       "      <td>awjess</td>\n",
       "      <td>1185716</td>\n",
       "      <td>4.375</td>\n",
       "      <td>3.7500</td>\n",
       "      <td>4.0625</td>\n",
       "      <td>3.750</td>\n",
       "      <td>4.0625</td>\n",
       "      <td>3.8875</td>\n",
       "      <td>Look - Has a nice foamy head,   Feel - Creamy ...</td>\n",
       "      <td>False</td>\n",
       "    </tr>\n",
       "    <tr>\n",
       "      <th>2</th>\n",
       "      <td>Caffrey's Irish Ale</td>\n",
       "      <td>825</td>\n",
       "      <td>Thomas Caffrey Brewing Co.</td>\n",
       "      <td>297</td>\n",
       "      <td>Irish Red Ale</td>\n",
       "      <td>3.8</td>\n",
       "      <td>1468317600</td>\n",
       "      <td>fr0wn3r</td>\n",
       "      <td>862994</td>\n",
       "      <td>2.500</td>\n",
       "      <td>2.8125</td>\n",
       "      <td>2.5000</td>\n",
       "      <td>2.500</td>\n",
       "      <td>2.5000</td>\n",
       "      <td>2.5750</td>\n",
       "      <td>NaN</td>\n",
       "      <td>False</td>\n",
       "    </tr>\n",
       "    <tr>\n",
       "      <th>3</th>\n",
       "      <td>Caffrey's Irish Ale</td>\n",
       "      <td>825</td>\n",
       "      <td>Thomas Caffrey Brewing Co.</td>\n",
       "      <td>297</td>\n",
       "      <td>Irish Red Ale</td>\n",
       "      <td>3.8</td>\n",
       "      <td>1459418400</td>\n",
       "      <td>Fatehunter</td>\n",
       "      <td>326927</td>\n",
       "      <td>3.750</td>\n",
       "      <td>2.8125</td>\n",
       "      <td>3.7500</td>\n",
       "      <td>3.125</td>\n",
       "      <td>3.1250</td>\n",
       "      <td>3.1500</td>\n",
       "      <td>Pours a finger of head on a hazy darker straw ...</td>\n",
       "      <td>True</td>\n",
       "    </tr>\n",
       "    <tr>\n",
       "      <th>4</th>\n",
       "      <td>Caffrey's Irish Ale</td>\n",
       "      <td>825</td>\n",
       "      <td>Thomas Caffrey Brewing Co.</td>\n",
       "      <td>297</td>\n",
       "      <td>Irish Red Ale</td>\n",
       "      <td>3.8</td>\n",
       "      <td>1450263600</td>\n",
       "      <td>MTLDOG</td>\n",
       "      <td>920333</td>\n",
       "      <td>4.375</td>\n",
       "      <td>3.4375</td>\n",
       "      <td>3.7500</td>\n",
       "      <td>2.500</td>\n",
       "      <td>3.4375</td>\n",
       "      <td>3.1500</td>\n",
       "      <td>NaN</td>\n",
       "      <td>False</td>\n",
       "    </tr>\n",
       "  </tbody>\n",
       "</table>\n",
       "</div>"
      ],
      "text/plain": [
       "             beer_name  beer_id                brewery_name  brewery_id  \\\n",
       "0  Caffrey's Irish Ale      825  Thomas Caffrey Brewing Co.         297   \n",
       "1  Caffrey's Irish Ale      825  Thomas Caffrey Brewing Co.         297   \n",
       "2  Caffrey's Irish Ale      825  Thomas Caffrey Brewing Co.         297   \n",
       "3  Caffrey's Irish Ale      825  Thomas Caffrey Brewing Co.         297   \n",
       "4  Caffrey's Irish Ale      825  Thomas Caffrey Brewing Co.         297   \n",
       "\n",
       "           style  abv        date        user_name  user_id  appearance  \\\n",
       "0  Irish Red Ale  3.8  1500112800  GregKobeArntz24  1206160       4.375   \n",
       "1  Irish Red Ale  3.8  1483182000           awjess  1185716       4.375   \n",
       "2  Irish Red Ale  3.8  1468317600          fr0wn3r   862994       2.500   \n",
       "3  Irish Red Ale  3.8  1459418400       Fatehunter   326927       3.750   \n",
       "4  Irish Red Ale  3.8  1450263600           MTLDOG   920333       4.375   \n",
       "\n",
       "    aroma  palate  taste  overall  rating  \\\n",
       "0  4.6875  4.0625  4.375   4.3750  4.4250   \n",
       "1  3.7500  4.0625  3.750   4.0625  3.8875   \n",
       "2  2.8125  2.5000  2.500   2.5000  2.5750   \n",
       "3  2.8125  3.7500  3.125   3.1250  3.1500   \n",
       "4  3.4375  3.7500  2.500   3.4375  3.1500   \n",
       "\n",
       "                                                text  review  \n",
       "0                                                NaN   False  \n",
       "1  Look - Has a nice foamy head,   Feel - Creamy ...   False  \n",
       "2                                                NaN   False  \n",
       "3  Pours a finger of head on a hazy darker straw ...    True  \n",
       "4                                                NaN   False  "
      ]
     },
     "execution_count": 68,
     "metadata": {},
     "output_type": "execute_result"
    }
   ],
   "source": [
    "column_list = ['appearance', 'aroma', 'palate', 'taste', 'overall','rating']\n",
    "list_value = df_rating_ba[column_list].values\n",
    "min_max_scaler = preprocessing.MinMaxScaler()\n",
    "list_value_scaler = min_max_scaler.fit_transform(list_value) * 5\n",
    "data_temp_ba = pd.DataFrame(list_value_scaler,columns=column_list,index = df_rating_ba.index)\n",
    "df_rating_ba[column_list] = data_temp_ba\n",
    "\n",
    "df_rating_ba.head()"
   ]
  },
  {
   "cell_type": "markdown",
   "metadata": {
    "pycharm": {
     "name": "#%% md\n"
    }
   },
   "source": [
    "By doing some simple regression study we find there exist perfect linear relationship between 'overall', 'aroma', 'palate', 'taste', 'overall', 'rating'."
   ]
  },
  {
   "cell_type": "code",
   "execution_count": 69,
   "metadata": {
    "pycharm": {
     "name": "#%%\n"
    }
   },
   "outputs": [
    {
     "name": "stdout",
     "output_type": "stream",
     "text": [
      "                            OLS Regression Results                            \n",
      "==============================================================================\n",
      "Dep. Variable:                 rating   R-squared:                       1.000\n",
      "Model:                            OLS   Adj. R-squared:                  1.000\n",
      "Method:                 Least Squares   F-statistic:                 4.904e+10\n",
      "Date:                Wed, 07 Dec 2022   Prob (F-statistic):               0.00\n",
      "Time:                        15:49:52   Log-Likelihood:             1.4883e+07\n",
      "No. Observations:             3292831   AIC:                        -2.977e+07\n",
      "Df Residuals:                 3292825   BIC:                        -2.977e+07\n",
      "Df Model:                           5                                         \n",
      "Covariance Type:            nonrobust                                         \n",
      "==============================================================================\n",
      "                 coef    std err          t      P>|t|      [0.025      0.975]\n",
      "------------------------------------------------------------------------------\n",
      "Intercept      0.0003    8.3e-06     37.210      0.000       0.000       0.000\n",
      "appearance     0.0601   2.95e-06   2.04e+04      0.000       0.060       0.060\n",
      "aroma          0.2401   3.12e-06   7.69e+04      0.000       0.240       0.240\n",
      "palate         0.1001   3.46e-06    2.9e+04      0.000       0.100       0.100\n",
      "taste          0.4001   4.04e-06   9.89e+04      0.000       0.400       0.400\n",
      "overall        0.1999   4.09e-06   4.88e+04      0.000       0.200       0.200\n",
      "==============================================================================\n",
      "Omnibus:                   572478.286   Durbin-Watson:                   1.613\n",
      "Prob(Omnibus):                  0.000   Jarque-Bera (JB):           873283.288\n",
      "Skew:                           1.244   Prob(JB):                         0.00\n",
      "Kurtosis:                       2.584   Cond. No.                         48.7\n",
      "==============================================================================\n",
      "\n",
      "Notes:\n",
      "[1] Standard Errors assume that the covariance matrix of the errors is correctly specified.\n",
      "The R-squared is 1.000 so it is of perfect linear relationship.\n"
     ]
    }
   ],
   "source": [
    "# Use linear regression to fit our data\n",
    "mod_ba = smf.ols(formula='rating ~appearance + aroma + palate + taste + overall',data = df_rating_ba)\n",
    "res_ba = mod_ba.fit()\n",
    "print(res_ba.summary())\n",
    "print(f'The R-squared is 1.000 so it is of perfect linear relationship.')"
   ]
  },
  {
   "cell_type": "markdown",
   "metadata": {
    "pycharm": {
     "name": "#%% md\n"
    }
   },
   "source": [
    "We also find that there exists some ratings that the **overall** score exceeds the average of the other 4 features(can do this due to the perfect linear relationship). We consider this situation as invalid ratings. Because in common sense, if the detailed features of a beer is good/bad the overall will not be bad/good. And we set the difference threshold to 1.5(in scale of 5)."
   ]
  },
  {
   "cell_type": "code",
   "execution_count": 70,
   "metadata": {
    "pycharm": {
     "name": "#%%\n"
    }
   },
   "outputs": [
    {
     "data": {
      "text/plain": [
       "(3266748, 17)"
      ]
     },
     "execution_count": 70,
     "metadata": {},
     "output_type": "execute_result"
    }
   ],
   "source": [
    "df_rating_ba['average'] = df_rating_ba[['appearance','aroma','palate','taste']].mean(axis = 1)\n",
    "df_rating_ba['diff'] = np.abs(df_rating_ba['overall']-df_rating_ba['average'])\n",
    "df_rating_ba = df_rating_ba[df_rating_ba['diff'] <1.5]\n",
    "df_rating_ba = df_rating_ba.drop(columns=['average','diff'])\n",
    "df_rating_ba.shape"
   ]
  },
  {
   "cell_type": "code",
   "execution_count": 71,
   "metadata": {
    "pycharm": {
     "name": "#%%\n"
    }
   },
   "outputs": [
    {
     "data": {
      "text/html": [
       "<div>\n",
       "<style scoped>\n",
       "    .dataframe tbody tr th:only-of-type {\n",
       "        vertical-align: middle;\n",
       "    }\n",
       "\n",
       "    .dataframe tbody tr th {\n",
       "        vertical-align: top;\n",
       "    }\n",
       "\n",
       "    .dataframe thead th {\n",
       "        text-align: right;\n",
       "    }\n",
       "</style>\n",
       "<table border=\"1\" class=\"dataframe\">\n",
       "  <thead>\n",
       "    <tr style=\"text-align: right;\">\n",
       "      <th></th>\n",
       "      <th>nbr_ratings</th>\n",
       "      <th>nbr_reviews</th>\n",
       "      <th>user_id</th>\n",
       "      <th>user_name</th>\n",
       "      <th>joined</th>\n",
       "      <th>location</th>\n",
       "    </tr>\n",
       "  </thead>\n",
       "  <tbody>\n",
       "    <tr>\n",
       "      <th>0</th>\n",
       "      <td>7820</td>\n",
       "      <td>465</td>\n",
       "      <td>184925</td>\n",
       "      <td>nmann08</td>\n",
       "      <td>1.199704e+09</td>\n",
       "      <td>United States, Washington</td>\n",
       "    </tr>\n",
       "    <tr>\n",
       "      <th>1</th>\n",
       "      <td>2521</td>\n",
       "      <td>2504</td>\n",
       "      <td>163714</td>\n",
       "      <td>StJamesGate</td>\n",
       "      <td>1.191838e+09</td>\n",
       "      <td>United States, New York</td>\n",
       "    </tr>\n",
       "    <tr>\n",
       "      <th>2</th>\n",
       "      <td>1797</td>\n",
       "      <td>1143</td>\n",
       "      <td>19527</td>\n",
       "      <td>mdagnew</td>\n",
       "      <td>1.116410e+09</td>\n",
       "      <td>Northern Ireland</td>\n",
       "    </tr>\n",
       "    <tr>\n",
       "      <th>3</th>\n",
       "      <td>31</td>\n",
       "      <td>31</td>\n",
       "      <td>10867</td>\n",
       "      <td>helloloser12345</td>\n",
       "      <td>1.101380e+09</td>\n",
       "      <td>Northern Ireland</td>\n",
       "    </tr>\n",
       "    <tr>\n",
       "      <th>4</th>\n",
       "      <td>604</td>\n",
       "      <td>604</td>\n",
       "      <td>3708</td>\n",
       "      <td>cypressbob</td>\n",
       "      <td>1.069326e+09</td>\n",
       "      <td>Northern Ireland</td>\n",
       "    </tr>\n",
       "  </tbody>\n",
       "</table>\n",
       "</div>"
      ],
      "text/plain": [
       "   nbr_ratings  nbr_reviews user_id        user_name        joined  \\\n",
       "0         7820          465  184925          nmann08  1.199704e+09   \n",
       "1         2521         2504  163714      StJamesGate  1.191838e+09   \n",
       "2         1797         1143   19527          mdagnew  1.116410e+09   \n",
       "3           31           31   10867  helloloser12345  1.101380e+09   \n",
       "4          604          604    3708       cypressbob  1.069326e+09   \n",
       "\n",
       "                    location  \n",
       "0  United States, Washington  \n",
       "1    United States, New York  \n",
       "2           Northern Ireland  \n",
       "3           Northern Ireland  \n",
       "4           Northern Ireland  "
      ]
     },
     "execution_count": 71,
     "metadata": {},
     "output_type": "execute_result"
    }
   ],
   "source": [
    "# Load user data from BeerAdvocate\n",
    "df_user_ba = pd.read_csv('BeerAdvocate/users.csv')\n",
    "df_user_ba['user_id'] = df_user_ba['user_id'].apply(str_split)\n",
    "df_user_ba.head()"
   ]
  },
  {
   "cell_type": "code",
   "execution_count": 72,
   "metadata": {
    "pycharm": {
     "name": "#%%\n"
    }
   },
   "outputs": [
    {
     "data": {
      "text/html": [
       "<div>\n",
       "<style scoped>\n",
       "    .dataframe tbody tr th:only-of-type {\n",
       "        vertical-align: middle;\n",
       "    }\n",
       "\n",
       "    .dataframe tbody tr th {\n",
       "        vertical-align: top;\n",
       "    }\n",
       "\n",
       "    .dataframe thead th {\n",
       "        text-align: right;\n",
       "    }\n",
       "</style>\n",
       "<table border=\"1\" class=\"dataframe\">\n",
       "  <thead>\n",
       "    <tr style=\"text-align: right;\">\n",
       "      <th></th>\n",
       "      <th>beer_id</th>\n",
       "      <th>beer_name</th>\n",
       "      <th>brewery_id</th>\n",
       "      <th>brewery_name</th>\n",
       "      <th>style</th>\n",
       "      <th>nbr_ratings</th>\n",
       "      <th>nbr_reviews</th>\n",
       "      <th>avg</th>\n",
       "      <th>ba_score</th>\n",
       "      <th>bros_score</th>\n",
       "      <th>abv</th>\n",
       "      <th>avg_computed</th>\n",
       "      <th>zscore</th>\n",
       "      <th>nbr_matched_valid_ratings</th>\n",
       "      <th>avg_matched_valid_ratings</th>\n",
       "    </tr>\n",
       "  </thead>\n",
       "  <tbody>\n",
       "    <tr>\n",
       "      <th>0</th>\n",
       "      <td>166064</td>\n",
       "      <td>Nashe Moskovskoe</td>\n",
       "      <td>39912</td>\n",
       "      <td>Abdysh-Ata (Абдыш Ата)</td>\n",
       "      <td>Euro Pale Lager</td>\n",
       "      <td>0</td>\n",
       "      <td>0</td>\n",
       "      <td>NaN</td>\n",
       "      <td>NaN</td>\n",
       "      <td>NaN</td>\n",
       "      <td>4.7</td>\n",
       "      <td>NaN</td>\n",
       "      <td>NaN</td>\n",
       "      <td>0</td>\n",
       "      <td>NaN</td>\n",
       "    </tr>\n",
       "    <tr>\n",
       "      <th>1</th>\n",
       "      <td>166065</td>\n",
       "      <td>Nashe Pivovskoe</td>\n",
       "      <td>39912</td>\n",
       "      <td>Abdysh-Ata (Абдыш Ата)</td>\n",
       "      <td>Euro Pale Lager</td>\n",
       "      <td>0</td>\n",
       "      <td>0</td>\n",
       "      <td>NaN</td>\n",
       "      <td>NaN</td>\n",
       "      <td>NaN</td>\n",
       "      <td>3.8</td>\n",
       "      <td>NaN</td>\n",
       "      <td>NaN</td>\n",
       "      <td>0</td>\n",
       "      <td>NaN</td>\n",
       "    </tr>\n",
       "    <tr>\n",
       "      <th>2</th>\n",
       "      <td>166066</td>\n",
       "      <td>Nashe Shakhterskoe</td>\n",
       "      <td>39912</td>\n",
       "      <td>Abdysh-Ata (Абдыш Ата)</td>\n",
       "      <td>Euro Pale Lager</td>\n",
       "      <td>0</td>\n",
       "      <td>0</td>\n",
       "      <td>NaN</td>\n",
       "      <td>NaN</td>\n",
       "      <td>NaN</td>\n",
       "      <td>4.8</td>\n",
       "      <td>NaN</td>\n",
       "      <td>NaN</td>\n",
       "      <td>0</td>\n",
       "      <td>NaN</td>\n",
       "    </tr>\n",
       "    <tr>\n",
       "      <th>3</th>\n",
       "      <td>166067</td>\n",
       "      <td>Nashe Zhigulevskoe</td>\n",
       "      <td>39912</td>\n",
       "      <td>Abdysh-Ata (Абдыш Ата)</td>\n",
       "      <td>Euro Pale Lager</td>\n",
       "      <td>0</td>\n",
       "      <td>0</td>\n",
       "      <td>NaN</td>\n",
       "      <td>NaN</td>\n",
       "      <td>NaN</td>\n",
       "      <td>4.0</td>\n",
       "      <td>NaN</td>\n",
       "      <td>NaN</td>\n",
       "      <td>0</td>\n",
       "      <td>NaN</td>\n",
       "    </tr>\n",
       "    <tr>\n",
       "      <th>4</th>\n",
       "      <td>166063</td>\n",
       "      <td>Zhivoe</td>\n",
       "      <td>39912</td>\n",
       "      <td>Abdysh-Ata (Абдыш Ата)</td>\n",
       "      <td>Euro Pale Lager</td>\n",
       "      <td>0</td>\n",
       "      <td>0</td>\n",
       "      <td>NaN</td>\n",
       "      <td>NaN</td>\n",
       "      <td>NaN</td>\n",
       "      <td>4.5</td>\n",
       "      <td>NaN</td>\n",
       "      <td>NaN</td>\n",
       "      <td>0</td>\n",
       "      <td>NaN</td>\n",
       "    </tr>\n",
       "  </tbody>\n",
       "</table>\n",
       "</div>"
      ],
      "text/plain": [
       "   beer_id           beer_name  brewery_id            brewery_name  \\\n",
       "0   166064    Nashe Moskovskoe       39912  Abdysh-Ata (Абдыш Ата)   \n",
       "1   166065     Nashe Pivovskoe       39912  Abdysh-Ata (Абдыш Ата)   \n",
       "2   166066  Nashe Shakhterskoe       39912  Abdysh-Ata (Абдыш Ата)   \n",
       "3   166067  Nashe Zhigulevskoe       39912  Abdysh-Ata (Абдыш Ата)   \n",
       "4   166063              Zhivoe       39912  Abdysh-Ata (Абдыш Ата)   \n",
       "\n",
       "             style  nbr_ratings  nbr_reviews  avg  ba_score  bros_score  abv  \\\n",
       "0  Euro Pale Lager            0            0  NaN       NaN         NaN  4.7   \n",
       "1  Euro Pale Lager            0            0  NaN       NaN         NaN  3.8   \n",
       "2  Euro Pale Lager            0            0  NaN       NaN         NaN  4.8   \n",
       "3  Euro Pale Lager            0            0  NaN       NaN         NaN  4.0   \n",
       "4  Euro Pale Lager            0            0  NaN       NaN         NaN  4.5   \n",
       "\n",
       "   avg_computed  zscore  nbr_matched_valid_ratings  avg_matched_valid_ratings  \n",
       "0           NaN     NaN                          0                        NaN  \n",
       "1           NaN     NaN                          0                        NaN  \n",
       "2           NaN     NaN                          0                        NaN  \n",
       "3           NaN     NaN                          0                        NaN  \n",
       "4           NaN     NaN                          0                        NaN  "
      ]
     },
     "execution_count": 72,
     "metadata": {},
     "output_type": "execute_result"
    }
   ],
   "source": [
    "# Load beer data from BeerAdvocate\n",
    "df_beer_ba = pd.read_csv('BeerAdvocate/beers.csv')\n",
    "df_beer_ba.head()"
   ]
  },
  {
   "cell_type": "code",
   "execution_count": 73,
   "metadata": {
    "pycharm": {
     "name": "#%%\n"
    }
   },
   "outputs": [
    {
     "data": {
      "text/html": [
       "<div>\n",
       "<style scoped>\n",
       "    .dataframe tbody tr th:only-of-type {\n",
       "        vertical-align: middle;\n",
       "    }\n",
       "\n",
       "    .dataframe tbody tr th {\n",
       "        vertical-align: top;\n",
       "    }\n",
       "\n",
       "    .dataframe thead th {\n",
       "        text-align: right;\n",
       "    }\n",
       "</style>\n",
       "<table border=\"1\" class=\"dataframe\">\n",
       "  <thead>\n",
       "    <tr style=\"text-align: right;\">\n",
       "      <th></th>\n",
       "      <th>id</th>\n",
       "      <th>location</th>\n",
       "      <th>name</th>\n",
       "      <th>nbr_beers</th>\n",
       "    </tr>\n",
       "  </thead>\n",
       "  <tbody>\n",
       "    <tr>\n",
       "      <th>0</th>\n",
       "      <td>39912</td>\n",
       "      <td>Kyrgyzstan</td>\n",
       "      <td>Abdysh-Ata (Абдыш Ата)</td>\n",
       "      <td>5</td>\n",
       "    </tr>\n",
       "    <tr>\n",
       "      <th>1</th>\n",
       "      <td>39913</td>\n",
       "      <td>Kyrgyzstan</td>\n",
       "      <td>Arpa (АРПА)</td>\n",
       "      <td>1</td>\n",
       "    </tr>\n",
       "    <tr>\n",
       "      <th>2</th>\n",
       "      <td>39914</td>\n",
       "      <td>Kyrgyzstan</td>\n",
       "      <td>Bear Beer</td>\n",
       "      <td>4</td>\n",
       "    </tr>\n",
       "    <tr>\n",
       "      <th>3</th>\n",
       "      <td>39915</td>\n",
       "      <td>Kyrgyzstan</td>\n",
       "      <td>Blonder Pub</td>\n",
       "      <td>4</td>\n",
       "    </tr>\n",
       "    <tr>\n",
       "      <th>4</th>\n",
       "      <td>39916</td>\n",
       "      <td>Kyrgyzstan</td>\n",
       "      <td>Kellers Bier</td>\n",
       "      <td>2</td>\n",
       "    </tr>\n",
       "  </tbody>\n",
       "</table>\n",
       "</div>"
      ],
      "text/plain": [
       "      id    location                    name  nbr_beers\n",
       "0  39912  Kyrgyzstan  Abdysh-Ata (Абдыш Ата)          5\n",
       "1  39913  Kyrgyzstan             Arpa (АРПА)          1\n",
       "2  39914  Kyrgyzstan               Bear Beer          4\n",
       "3  39915  Kyrgyzstan             Blonder Pub          4\n",
       "4  39916  Kyrgyzstan            Kellers Bier          2"
      ]
     },
     "execution_count": 73,
     "metadata": {},
     "output_type": "execute_result"
    }
   ],
   "source": [
    "# Load brewery data from BeerAdvocate\n",
    "df_brewery_ba = pd.read_csv('BeerAdvocate/breweries.csv')\n",
    "df_brewery_ba.head()"
   ]
  },
  {
   "cell_type": "code",
   "execution_count": 74,
   "metadata": {
    "pycharm": {
     "name": "#%%\n"
    }
   },
   "outputs": [],
   "source": [
    "# Merge data based on user id in order to get users' location\n",
    "#user_region = df_user_ba[['user_id', 'location']]\n",
    "region_ba = pd.merge(df_rating_ba, df_user_ba, how=\"left\", left_on='user_id', right_on='user_id')"
   ]
  },
  {
   "cell_type": "code",
   "execution_count": 75,
   "metadata": {
    "pycharm": {
     "name": "#%%\n"
    }
   },
   "outputs": [
    {
     "data": {
      "text/html": [
       "<div>\n",
       "<style scoped>\n",
       "    .dataframe tbody tr th:only-of-type {\n",
       "        vertical-align: middle;\n",
       "    }\n",
       "\n",
       "    .dataframe tbody tr th {\n",
       "        vertical-align: top;\n",
       "    }\n",
       "\n",
       "    .dataframe thead th {\n",
       "        text-align: right;\n",
       "    }\n",
       "</style>\n",
       "<table border=\"1\" class=\"dataframe\">\n",
       "  <thead>\n",
       "    <tr style=\"text-align: right;\">\n",
       "      <th></th>\n",
       "      <th>location</th>\n",
       "      <th>count</th>\n",
       "    </tr>\n",
       "  </thead>\n",
       "  <tbody>\n",
       "    <tr>\n",
       "      <th>0</th>\n",
       "      <td>United States, Pennsylvania</td>\n",
       "      <td>260952</td>\n",
       "    </tr>\n",
       "    <tr>\n",
       "      <th>1</th>\n",
       "      <td>United States, California</td>\n",
       "      <td>235136</td>\n",
       "    </tr>\n",
       "    <tr>\n",
       "      <th>2</th>\n",
       "      <td>United States, New York</td>\n",
       "      <td>209952</td>\n",
       "    </tr>\n",
       "    <tr>\n",
       "      <th>3</th>\n",
       "      <td>United States, Illinois</td>\n",
       "      <td>201059</td>\n",
       "    </tr>\n",
       "    <tr>\n",
       "      <th>4</th>\n",
       "      <td>United States, Massachusetts</td>\n",
       "      <td>178341</td>\n",
       "    </tr>\n",
       "    <tr>\n",
       "      <th>5</th>\n",
       "      <td>United States, Ohio</td>\n",
       "      <td>136446</td>\n",
       "    </tr>\n",
       "    <tr>\n",
       "      <th>6</th>\n",
       "      <td>United States, Texas</td>\n",
       "      <td>132515</td>\n",
       "    </tr>\n",
       "    <tr>\n",
       "      <th>7</th>\n",
       "      <td>United States, New Jersey</td>\n",
       "      <td>109257</td>\n",
       "    </tr>\n",
       "    <tr>\n",
       "      <th>8</th>\n",
       "      <td>United States, Florida</td>\n",
       "      <td>95612</td>\n",
       "    </tr>\n",
       "    <tr>\n",
       "      <th>9</th>\n",
       "      <td>United States, Virginia</td>\n",
       "      <td>95248</td>\n",
       "    </tr>\n",
       "    <tr>\n",
       "      <th>10</th>\n",
       "      <td>United States, Michigan</td>\n",
       "      <td>94560</td>\n",
       "    </tr>\n",
       "    <tr>\n",
       "      <th>11</th>\n",
       "      <td>United States, Minnesota</td>\n",
       "      <td>93453</td>\n",
       "    </tr>\n",
       "    <tr>\n",
       "      <th>12</th>\n",
       "      <td>Canada</td>\n",
       "      <td>89853</td>\n",
       "    </tr>\n",
       "    <tr>\n",
       "      <th>13</th>\n",
       "      <td>United States, North Carolina</td>\n",
       "      <td>84890</td>\n",
       "    </tr>\n",
       "    <tr>\n",
       "      <th>14</th>\n",
       "      <td>United States, Washington</td>\n",
       "      <td>80398</td>\n",
       "    </tr>\n",
       "    <tr>\n",
       "      <th>15</th>\n",
       "      <td>United States, Connecticut</td>\n",
       "      <td>72007</td>\n",
       "    </tr>\n",
       "    <tr>\n",
       "      <th>16</th>\n",
       "      <td>United States, Maryland</td>\n",
       "      <td>70820</td>\n",
       "    </tr>\n",
       "    <tr>\n",
       "      <th>17</th>\n",
       "      <td>United States, Colorado</td>\n",
       "      <td>69393</td>\n",
       "    </tr>\n",
       "    <tr>\n",
       "      <th>18</th>\n",
       "      <td>United States, Wisconsin</td>\n",
       "      <td>66584</td>\n",
       "    </tr>\n",
       "    <tr>\n",
       "      <th>19</th>\n",
       "      <td>United States, Georgia</td>\n",
       "      <td>61790</td>\n",
       "    </tr>\n",
       "  </tbody>\n",
       "</table>\n",
       "</div>"
      ],
      "text/plain": [
       "                         location   count\n",
       "0     United States, Pennsylvania  260952\n",
       "1       United States, California  235136\n",
       "2         United States, New York  209952\n",
       "3         United States, Illinois  201059\n",
       "4    United States, Massachusetts  178341\n",
       "5             United States, Ohio  136446\n",
       "6            United States, Texas  132515\n",
       "7       United States, New Jersey  109257\n",
       "8          United States, Florida   95612\n",
       "9         United States, Virginia   95248\n",
       "10        United States, Michigan   94560\n",
       "11       United States, Minnesota   93453\n",
       "12                         Canada   89853\n",
       "13  United States, North Carolina   84890\n",
       "14      United States, Washington   80398\n",
       "15     United States, Connecticut   72007\n",
       "16        United States, Maryland   70820\n",
       "17        United States, Colorado   69393\n",
       "18       United States, Wisconsin   66584\n",
       "19         United States, Georgia   61790"
      ]
     },
     "execution_count": 75,
     "metadata": {},
     "output_type": "execute_result"
    }
   ],
   "source": [
    "region_agg = region_ba[['location', 'beer_id']].groupby('location').agg('count')\n",
    "region_agg = pd.DataFrame(region_agg.to_records())\n",
    "region_agg.rename(columns={'beer_id':'count'}, inplace=True)\n",
    "region_agg = region_agg.sort_values(by=['count'], ascending=False)\n",
    "region_agg.reset_index(inplace=True, drop=True)\n",
    "# Print top 20 region\n",
    "region_agg.head(20)"
   ]
  },
  {
   "cell_type": "markdown",
   "metadata": {
    "pycharm": {
     "name": "#%% md\n"
    }
   },
   "source": [
    "#### RateBeer\n",
    "First map to scale to 0-5 then filtered the invalid rating as previous steps"
   ]
  },
  {
   "cell_type": "code",
   "execution_count": 76,
   "metadata": {
    "pycharm": {
     "name": "#%%\n"
    }
   },
   "outputs": [],
   "source": [
    "list_value_rb = df_rating_rb[column_list].values\n",
    "list_value_scaler_rb = min_max_scaler.fit_transform(list_value_rb) * 5\n",
    "data_temp_rb = pd.DataFrame(list_value_scaler_rb,columns=column_list,index = df_rating_rb.index)\n",
    "df_rating_rb[column_list] = data_temp_rb"
   ]
  },
  {
   "cell_type": "code",
   "execution_count": 77,
   "metadata": {
    "pycharm": {
     "name": "#%%\n"
    }
   },
   "outputs": [
    {
     "name": "stdout",
     "output_type": "stream",
     "text": [
      "                            OLS Regression Results                            \n",
      "==============================================================================\n",
      "Dep. Variable:                 rating   R-squared:                       1.000\n",
      "Model:                            OLS   Adj. R-squared:                  1.000\n",
      "Method:                 Least Squares   F-statistic:                 1.529e+11\n",
      "Date:                Wed, 07 Dec 2022   Prob (F-statistic):               0.00\n",
      "Time:                        15:50:02   Log-Likelihood:             1.7073e+07\n",
      "No. Observations:             3443337   AIC:                        -3.415e+07\n",
      "Df Residuals:                 3443331   BIC:                        -3.415e+07\n",
      "Df Model:                           5                                         \n",
      "Covariance Type:            nonrobust                                         \n",
      "==============================================================================\n",
      "                 coef    std err          t      P>|t|      [0.025      0.975]\n",
      "------------------------------------------------------------------------------\n",
      "Intercept   5.049e-06   3.86e-06      1.309      0.190   -2.51e-06    1.26e-05\n",
      "appearance     0.0889   1.14e-06   7.81e+04      0.000       0.089       0.089\n",
      "aroma          0.2000   1.75e-06   1.14e+05      0.000       0.200       0.200\n",
      "palate         0.0889   1.29e-06   6.88e+04      0.000       0.089       0.089\n",
      "taste          0.2000   2.24e-06   8.92e+04      0.000       0.200       0.200\n",
      "overall        0.4222   2.25e-06   1.88e+05      0.000       0.422       0.422\n",
      "==================================================================================\n",
      "Omnibus:                 22573960.762   Durbin-Watson:                       2.000\n",
      "Prob(Omnibus):                  0.000   Jarque-Bera (JB):   151634840745896736.000\n",
      "Skew:                         597.821   Prob(JB):                             0.00\n",
      "Kurtosis:                 1028054.953   Cond. No.                             31.4\n",
      "==================================================================================\n",
      "\n",
      "Notes:\n",
      "[1] Standard Errors assume that the covariance matrix of the errors is correctly specified.\n"
     ]
    }
   ],
   "source": [
    "mod_rb = smf.ols(formula='rating ~appearance + aroma + palate + taste + overall',data =df_rating_rb)\n",
    "res_rb = mod_rb.fit()\n",
    "print(res_rb.summary())"
   ]
  },
  {
   "cell_type": "code",
   "execution_count": 78,
   "metadata": {
    "pycharm": {
     "name": "#%%\n"
    }
   },
   "outputs": [
    {
     "data": {
      "text/plain": [
       "(3412942, 16)"
      ]
     },
     "execution_count": 78,
     "metadata": {},
     "output_type": "execute_result"
    }
   ],
   "source": [
    "df_rating_rb['average'] = df_rating_rb[['appearance','aroma','palate','taste']].mean(axis = 1)\n",
    "df_rating_rb['diff'] = np.abs(df_rating_rb['overall']-df_rating_rb['average'])\n",
    "df_rating_rb = df_rating_rb[df_rating_rb['diff'] <1.5]\n",
    "df_rating_rb = df_rating_rb.drop(columns=['average','diff'])\n",
    "df_rating_rb.shape"
   ]
  },
  {
   "cell_type": "code",
   "execution_count": 79,
   "metadata": {
    "pycharm": {
     "name": "#%%\n"
    }
   },
   "outputs": [
    {
     "data": {
      "text/html": [
       "<div>\n",
       "<style scoped>\n",
       "    .dataframe tbody tr th:only-of-type {\n",
       "        vertical-align: middle;\n",
       "    }\n",
       "\n",
       "    .dataframe tbody tr th {\n",
       "        vertical-align: top;\n",
       "    }\n",
       "\n",
       "    .dataframe thead th {\n",
       "        text-align: right;\n",
       "    }\n",
       "</style>\n",
       "<table border=\"1\" class=\"dataframe\">\n",
       "  <thead>\n",
       "    <tr style=\"text-align: right;\">\n",
       "      <th></th>\n",
       "      <th>id</th>\n",
       "      <th>location</th>\n",
       "      <th>name</th>\n",
       "      <th>nbr_beers</th>\n",
       "    </tr>\n",
       "  </thead>\n",
       "  <tbody>\n",
       "    <tr>\n",
       "      <th>0</th>\n",
       "      <td>3198</td>\n",
       "      <td>Gabon</td>\n",
       "      <td>Sobraga</td>\n",
       "      <td>3</td>\n",
       "    </tr>\n",
       "    <tr>\n",
       "      <th>1</th>\n",
       "      <td>13538</td>\n",
       "      <td>Northern Ireland</td>\n",
       "      <td>Ards Brewing Co.</td>\n",
       "      <td>13</td>\n",
       "    </tr>\n",
       "    <tr>\n",
       "      <th>2</th>\n",
       "      <td>22304</td>\n",
       "      <td>Northern Ireland</td>\n",
       "      <td>Barrahooley Craft Brewery</td>\n",
       "      <td>4</td>\n",
       "    </tr>\n",
       "    <tr>\n",
       "      <th>3</th>\n",
       "      <td>22818</td>\n",
       "      <td>Northern Ireland</td>\n",
       "      <td>Boundary</td>\n",
       "      <td>66</td>\n",
       "    </tr>\n",
       "    <tr>\n",
       "      <th>4</th>\n",
       "      <td>24297</td>\n",
       "      <td>Northern Ireland</td>\n",
       "      <td>Brewbot Belfast</td>\n",
       "      <td>3</td>\n",
       "    </tr>\n",
       "  </tbody>\n",
       "</table>\n",
       "</div>"
      ],
      "text/plain": [
       "      id          location                       name  nbr_beers\n",
       "0   3198             Gabon                    Sobraga          3\n",
       "1  13538  Northern Ireland           Ards Brewing Co.         13\n",
       "2  22304  Northern Ireland  Barrahooley Craft Brewery          4\n",
       "3  22818  Northern Ireland                   Boundary         66\n",
       "4  24297  Northern Ireland            Brewbot Belfast          3"
      ]
     },
     "execution_count": 79,
     "metadata": {},
     "output_type": "execute_result"
    }
   ],
   "source": [
    "# Load brewery data on RateBeer website\n",
    "df_brewery_rb = pd.read_csv('RateBeer/breweries.csv')\n",
    "df_brewery_rb.head()"
   ]
  },
  {
   "cell_type": "code",
   "execution_count": 80,
   "metadata": {
    "pycharm": {
     "name": "#%%\n"
    }
   },
   "outputs": [
    {
     "data": {
      "text/html": [
       "<div>\n",
       "<style scoped>\n",
       "    .dataframe tbody tr th:only-of-type {\n",
       "        vertical-align: middle;\n",
       "    }\n",
       "\n",
       "    .dataframe tbody tr th {\n",
       "        vertical-align: top;\n",
       "    }\n",
       "\n",
       "    .dataframe thead th {\n",
       "        text-align: right;\n",
       "    }\n",
       "</style>\n",
       "<table border=\"1\" class=\"dataframe\">\n",
       "  <thead>\n",
       "    <tr style=\"text-align: right;\">\n",
       "      <th></th>\n",
       "      <th>beer_id</th>\n",
       "      <th>beer_name</th>\n",
       "      <th>brewery_id</th>\n",
       "      <th>brewery_name</th>\n",
       "      <th>style</th>\n",
       "      <th>nbr_ratings</th>\n",
       "      <th>overall_score</th>\n",
       "      <th>style_score</th>\n",
       "      <th>avg</th>\n",
       "      <th>abv</th>\n",
       "      <th>avg_computed</th>\n",
       "      <th>zscore</th>\n",
       "      <th>nbr_matched_valid_ratings</th>\n",
       "      <th>avg_matched_valid_ratings</th>\n",
       "    </tr>\n",
       "  </thead>\n",
       "  <tbody>\n",
       "    <tr>\n",
       "      <th>0</th>\n",
       "      <td>410549</td>\n",
       "      <td>33 Export (Gabon)</td>\n",
       "      <td>3198</td>\n",
       "      <td>Sobraga</td>\n",
       "      <td>Pale Lager</td>\n",
       "      <td>1</td>\n",
       "      <td>NaN</td>\n",
       "      <td>NaN</td>\n",
       "      <td>2.72</td>\n",
       "      <td>5.0</td>\n",
       "      <td>2.000000</td>\n",
       "      <td>NaN</td>\n",
       "      <td>0</td>\n",
       "      <td>NaN</td>\n",
       "    </tr>\n",
       "    <tr>\n",
       "      <th>1</th>\n",
       "      <td>105273</td>\n",
       "      <td>Castel Beer (Gabon)</td>\n",
       "      <td>3198</td>\n",
       "      <td>Sobraga</td>\n",
       "      <td>Pale Lager</td>\n",
       "      <td>10</td>\n",
       "      <td>5.0</td>\n",
       "      <td>58.0</td>\n",
       "      <td>2.18</td>\n",
       "      <td>5.2</td>\n",
       "      <td>1.910000</td>\n",
       "      <td>NaN</td>\n",
       "      <td>0</td>\n",
       "      <td>NaN</td>\n",
       "    </tr>\n",
       "    <tr>\n",
       "      <th>2</th>\n",
       "      <td>19445</td>\n",
       "      <td>Régab</td>\n",
       "      <td>3198</td>\n",
       "      <td>Sobraga</td>\n",
       "      <td>Pale Lager</td>\n",
       "      <td>27</td>\n",
       "      <td>1.0</td>\n",
       "      <td>22.0</td>\n",
       "      <td>1.83</td>\n",
       "      <td>4.5</td>\n",
       "      <td>1.811111</td>\n",
       "      <td>NaN</td>\n",
       "      <td>0</td>\n",
       "      <td>NaN</td>\n",
       "    </tr>\n",
       "    <tr>\n",
       "      <th>3</th>\n",
       "      <td>155699</td>\n",
       "      <td>Ards Bally Black Stout</td>\n",
       "      <td>13538</td>\n",
       "      <td>Ards Brewing Co.</td>\n",
       "      <td>Stout</td>\n",
       "      <td>6</td>\n",
       "      <td>NaN</td>\n",
       "      <td>NaN</td>\n",
       "      <td>3.18</td>\n",
       "      <td>4.6</td>\n",
       "      <td>3.866667</td>\n",
       "      <td>0.823699</td>\n",
       "      <td>6</td>\n",
       "      <td>3.866667</td>\n",
       "    </tr>\n",
       "    <tr>\n",
       "      <th>4</th>\n",
       "      <td>239097</td>\n",
       "      <td>Ards Belfast 366</td>\n",
       "      <td>13538</td>\n",
       "      <td>Ards Brewing Co.</td>\n",
       "      <td>Golden Ale/Blond Ale</td>\n",
       "      <td>1</td>\n",
       "      <td>NaN</td>\n",
       "      <td>NaN</td>\n",
       "      <td>2.79</td>\n",
       "      <td>4.2</td>\n",
       "      <td>3.000000</td>\n",
       "      <td>NaN</td>\n",
       "      <td>0</td>\n",
       "      <td>NaN</td>\n",
       "    </tr>\n",
       "  </tbody>\n",
       "</table>\n",
       "</div>"
      ],
      "text/plain": [
       "   beer_id               beer_name  brewery_id      brewery_name  \\\n",
       "0   410549       33 Export (Gabon)        3198           Sobraga   \n",
       "1   105273     Castel Beer (Gabon)        3198           Sobraga   \n",
       "2    19445                   Régab        3198           Sobraga   \n",
       "3   155699  Ards Bally Black Stout       13538  Ards Brewing Co.   \n",
       "4   239097        Ards Belfast 366       13538  Ards Brewing Co.   \n",
       "\n",
       "                  style  nbr_ratings  overall_score  style_score   avg  abv  \\\n",
       "0            Pale Lager            1            NaN          NaN  2.72  5.0   \n",
       "1            Pale Lager           10            5.0         58.0  2.18  5.2   \n",
       "2            Pale Lager           27            1.0         22.0  1.83  4.5   \n",
       "3                 Stout            6            NaN          NaN  3.18  4.6   \n",
       "4  Golden Ale/Blond Ale            1            NaN          NaN  2.79  4.2   \n",
       "\n",
       "   avg_computed    zscore  nbr_matched_valid_ratings  \\\n",
       "0      2.000000       NaN                          0   \n",
       "1      1.910000       NaN                          0   \n",
       "2      1.811111       NaN                          0   \n",
       "3      3.866667  0.823699                          6   \n",
       "4      3.000000       NaN                          0   \n",
       "\n",
       "   avg_matched_valid_ratings  \n",
       "0                        NaN  \n",
       "1                        NaN  \n",
       "2                        NaN  \n",
       "3                   3.866667  \n",
       "4                        NaN  "
      ]
     },
     "execution_count": 80,
     "metadata": {},
     "output_type": "execute_result"
    }
   ],
   "source": [
    "# Load beer date on RateBeer website\n",
    "df_beer_rb = pd.read_csv('RateBeer/beers.csv')\n",
    "df_beer_rb.head()"
   ]
  },
  {
   "cell_type": "code",
   "execution_count": 81,
   "metadata": {
    "pycharm": {
     "name": "#%%\n"
    }
   },
   "outputs": [
    {
     "data": {
      "text/html": [
       "<div>\n",
       "<style scoped>\n",
       "    .dataframe tbody tr th:only-of-type {\n",
       "        vertical-align: middle;\n",
       "    }\n",
       "\n",
       "    .dataframe tbody tr th {\n",
       "        vertical-align: top;\n",
       "    }\n",
       "\n",
       "    .dataframe thead th {\n",
       "        text-align: right;\n",
       "    }\n",
       "</style>\n",
       "<table border=\"1\" class=\"dataframe\">\n",
       "  <thead>\n",
       "    <tr style=\"text-align: right;\">\n",
       "      <th></th>\n",
       "      <th>nbr_ratings</th>\n",
       "      <th>user_id</th>\n",
       "      <th>user_name</th>\n",
       "      <th>joined</th>\n",
       "      <th>location</th>\n",
       "    </tr>\n",
       "  </thead>\n",
       "  <tbody>\n",
       "    <tr>\n",
       "      <th>0</th>\n",
       "      <td>1890</td>\n",
       "      <td>175852</td>\n",
       "      <td>Manslow</td>\n",
       "      <td>1.337508e+09</td>\n",
       "      <td>Poland</td>\n",
       "    </tr>\n",
       "    <tr>\n",
       "      <th>1</th>\n",
       "      <td>89</td>\n",
       "      <td>442761</td>\n",
       "      <td>MAGICuenca91</td>\n",
       "      <td>1.484046e+09</td>\n",
       "      <td>Spain</td>\n",
       "    </tr>\n",
       "    <tr>\n",
       "      <th>2</th>\n",
       "      <td>169</td>\n",
       "      <td>288889</td>\n",
       "      <td>Sibarh</td>\n",
       "      <td>1.384600e+09</td>\n",
       "      <td>Poland</td>\n",
       "    </tr>\n",
       "    <tr>\n",
       "      <th>3</th>\n",
       "      <td>3371</td>\n",
       "      <td>250510</td>\n",
       "      <td>fombe89</td>\n",
       "      <td>1.363950e+09</td>\n",
       "      <td>Spain</td>\n",
       "    </tr>\n",
       "    <tr>\n",
       "      <th>4</th>\n",
       "      <td>13043</td>\n",
       "      <td>122778</td>\n",
       "      <td>kevnic2008</td>\n",
       "      <td>1.296644e+09</td>\n",
       "      <td>Germany</td>\n",
       "    </tr>\n",
       "  </tbody>\n",
       "</table>\n",
       "</div>"
      ],
      "text/plain": [
       "   nbr_ratings  user_id     user_name        joined location\n",
       "0         1890   175852       Manslow  1.337508e+09   Poland\n",
       "1           89   442761  MAGICuenca91  1.484046e+09    Spain\n",
       "2          169   288889        Sibarh  1.384600e+09   Poland\n",
       "3         3371   250510       fombe89  1.363950e+09    Spain\n",
       "4        13043   122778    kevnic2008  1.296644e+09  Germany"
      ]
     },
     "execution_count": 81,
     "metadata": {},
     "output_type": "execute_result"
    }
   ],
   "source": [
    "# Load user date on RateBeer website\n",
    "df_user_rb = pd.read_csv('RateBeer/users.csv')\n",
    "df_user_rb.head()"
   ]
  },
  {
   "cell_type": "code",
   "execution_count": 82,
   "metadata": {
    "pycharm": {
     "name": "#%%\n"
    }
   },
   "outputs": [
    {
     "data": {
      "text/html": [
       "<div>\n",
       "<style scoped>\n",
       "    .dataframe tbody tr th:only-of-type {\n",
       "        vertical-align: middle;\n",
       "    }\n",
       "\n",
       "    .dataframe tbody tr th {\n",
       "        vertical-align: top;\n",
       "    }\n",
       "\n",
       "    .dataframe thead th {\n",
       "        text-align: right;\n",
       "    }\n",
       "</style>\n",
       "<table border=\"1\" class=\"dataframe\">\n",
       "  <thead>\n",
       "    <tr style=\"text-align: right;\">\n",
       "      <th></th>\n",
       "      <th>beer_name</th>\n",
       "      <th>beer_id</th>\n",
       "      <th>brewery_name</th>\n",
       "      <th>brewery_id</th>\n",
       "      <th>style</th>\n",
       "      <th>abv</th>\n",
       "      <th>date</th>\n",
       "      <th>user_name_x</th>\n",
       "      <th>user_id</th>\n",
       "      <th>appearance</th>\n",
       "      <th>aroma</th>\n",
       "      <th>palate</th>\n",
       "      <th>taste</th>\n",
       "      <th>overall</th>\n",
       "      <th>rating</th>\n",
       "      <th>text</th>\n",
       "      <th>nbr_ratings</th>\n",
       "      <th>user_name_y</th>\n",
       "      <th>joined</th>\n",
       "      <th>location</th>\n",
       "    </tr>\n",
       "  </thead>\n",
       "  <tbody>\n",
       "    <tr>\n",
       "      <th>0</th>\n",
       "      <td>ABC Extra Stout</td>\n",
       "      <td>9226</td>\n",
       "      <td>Singapore Brewery (Asia Pacific Breweries-Hein...</td>\n",
       "      <td>547</td>\n",
       "      <td>Foreign Stout</td>\n",
       "      <td>7.0</td>\n",
       "      <td>1500199200</td>\n",
       "      <td>mcberko</td>\n",
       "      <td>95615</td>\n",
       "      <td>3.75</td>\n",
       "      <td>2.777778</td>\n",
       "      <td>1.25</td>\n",
       "      <td>2.777778</td>\n",
       "      <td>2.631579</td>\n",
       "      <td>2.666667</td>\n",
       "      <td>330mL can, Cambodian version (8%), pours black...</td>\n",
       "      <td>15893.0</td>\n",
       "      <td>mcberko</td>\n",
       "      <td>1.253441e+09</td>\n",
       "      <td>Canada</td>\n",
       "    </tr>\n",
       "    <tr>\n",
       "      <th>1</th>\n",
       "      <td>ABC Extra Stout</td>\n",
       "      <td>9226</td>\n",
       "      <td>Singapore Brewery (Asia Pacific Breweries-Hein...</td>\n",
       "      <td>547</td>\n",
       "      <td>Foreign Stout</td>\n",
       "      <td>7.0</td>\n",
       "      <td>1497780000</td>\n",
       "      <td>Grumbo</td>\n",
       "      <td>118968</td>\n",
       "      <td>2.50</td>\n",
       "      <td>3.333333</td>\n",
       "      <td>3.75</td>\n",
       "      <td>2.777778</td>\n",
       "      <td>2.894737</td>\n",
       "      <td>3.000000</td>\n",
       "      <td>Can at Johnâs courtesy of Henrik. Sri Lanka ...</td>\n",
       "      <td>3050.0</td>\n",
       "      <td>Grumbo</td>\n",
       "      <td>1.292238e+09</td>\n",
       "      <td>England</td>\n",
       "    </tr>\n",
       "    <tr>\n",
       "      <th>2</th>\n",
       "      <td>ABC Extra Stout</td>\n",
       "      <td>9226</td>\n",
       "      <td>Singapore Brewery (Asia Pacific Breweries-Hein...</td>\n",
       "      <td>547</td>\n",
       "      <td>Foreign Stout</td>\n",
       "      <td>7.0</td>\n",
       "      <td>1497434400</td>\n",
       "      <td>alex_leit</td>\n",
       "      <td>243248</td>\n",
       "      <td>3.75</td>\n",
       "      <td>2.777778</td>\n",
       "      <td>2.50</td>\n",
       "      <td>2.777778</td>\n",
       "      <td>3.157895</td>\n",
       "      <td>3.000000</td>\n",
       "      <td>Can, Myanmar, 8,0%, dark brown color, coffee f...</td>\n",
       "      <td>4300.0</td>\n",
       "      <td>alex_leit</td>\n",
       "      <td>1.360148e+09</td>\n",
       "      <td>Belarus</td>\n",
       "    </tr>\n",
       "    <tr>\n",
       "      <th>3</th>\n",
       "      <td>ABC Extra Stout</td>\n",
       "      <td>9226</td>\n",
       "      <td>Singapore Brewery (Asia Pacific Breweries-Hein...</td>\n",
       "      <td>547</td>\n",
       "      <td>Foreign Stout</td>\n",
       "      <td>7.0</td>\n",
       "      <td>1491559200</td>\n",
       "      <td>gripweed57</td>\n",
       "      <td>60778</td>\n",
       "      <td>3.75</td>\n",
       "      <td>3.888889</td>\n",
       "      <td>3.75</td>\n",
       "      <td>3.888889</td>\n",
       "      <td>3.684211</td>\n",
       "      <td>3.777778</td>\n",
       "      <td>From old tasting notes. Pours an opaque black ...</td>\n",
       "      <td>2252.0</td>\n",
       "      <td>gripweed57</td>\n",
       "      <td>1.189678e+09</td>\n",
       "      <td>United States, New Jersey</td>\n",
       "    </tr>\n",
       "    <tr>\n",
       "      <th>4</th>\n",
       "      <td>ABC Extra Stout</td>\n",
       "      <td>9226</td>\n",
       "      <td>Singapore Brewery (Asia Pacific Breweries-Hein...</td>\n",
       "      <td>547</td>\n",
       "      <td>Foreign Stout</td>\n",
       "      <td>7.0</td>\n",
       "      <td>1486465200</td>\n",
       "      <td>fkoolen</td>\n",
       "      <td>261854</td>\n",
       "      <td>3.75</td>\n",
       "      <td>3.333333</td>\n",
       "      <td>3.75</td>\n",
       "      <td>3.333333</td>\n",
       "      <td>3.421053</td>\n",
       "      <td>3.444444</td>\n",
       "      <td>Big bottle in Nyaungshwe, Myanmar. Really dark...</td>\n",
       "      <td>1200.0</td>\n",
       "      <td>fkoolen</td>\n",
       "      <td>1.369908e+09</td>\n",
       "      <td>Netherlands</td>\n",
       "    </tr>\n",
       "  </tbody>\n",
       "</table>\n",
       "</div>"
      ],
      "text/plain": [
       "         beer_name  beer_id  \\\n",
       "0  ABC Extra Stout     9226   \n",
       "1  ABC Extra Stout     9226   \n",
       "2  ABC Extra Stout     9226   \n",
       "3  ABC Extra Stout     9226   \n",
       "4  ABC Extra Stout     9226   \n",
       "\n",
       "                                        brewery_name  brewery_id  \\\n",
       "0  Singapore Brewery (Asia Pacific Breweries-Hein...         547   \n",
       "1  Singapore Brewery (Asia Pacific Breweries-Hein...         547   \n",
       "2  Singapore Brewery (Asia Pacific Breweries-Hein...         547   \n",
       "3  Singapore Brewery (Asia Pacific Breweries-Hein...         547   \n",
       "4  Singapore Brewery (Asia Pacific Breweries-Hein...         547   \n",
       "\n",
       "           style  abv        date user_name_x  user_id  appearance     aroma  \\\n",
       "0  Foreign Stout  7.0  1500199200     mcberko    95615        3.75  2.777778   \n",
       "1  Foreign Stout  7.0  1497780000      Grumbo   118968        2.50  3.333333   \n",
       "2  Foreign Stout  7.0  1497434400   alex_leit   243248        3.75  2.777778   \n",
       "3  Foreign Stout  7.0  1491559200  gripweed57    60778        3.75  3.888889   \n",
       "4  Foreign Stout  7.0  1486465200     fkoolen   261854        3.75  3.333333   \n",
       "\n",
       "   palate     taste   overall    rating  \\\n",
       "0    1.25  2.777778  2.631579  2.666667   \n",
       "1    3.75  2.777778  2.894737  3.000000   \n",
       "2    2.50  2.777778  3.157895  3.000000   \n",
       "3    3.75  3.888889  3.684211  3.777778   \n",
       "4    3.75  3.333333  3.421053  3.444444   \n",
       "\n",
       "                                                text  nbr_ratings user_name_y  \\\n",
       "0  330mL can, Cambodian version (8%), pours black...      15893.0     mcberko   \n",
       "1  Can at Johnâs courtesy of Henrik. Sri Lanka ...       3050.0      Grumbo   \n",
       "2  Can, Myanmar, 8,0%, dark brown color, coffee f...       4300.0   alex_leit   \n",
       "3  From old tasting notes. Pours an opaque black ...       2252.0  gripweed57   \n",
       "4  Big bottle in Nyaungshwe, Myanmar. Really dark...       1200.0     fkoolen   \n",
       "\n",
       "         joined                   location  \n",
       "0  1.253441e+09                     Canada  \n",
       "1  1.292238e+09                    England  \n",
       "2  1.360148e+09                    Belarus  \n",
       "3  1.189678e+09  United States, New Jersey  \n",
       "4  1.369908e+09                Netherlands  "
      ]
     },
     "execution_count": 82,
     "metadata": {},
     "output_type": "execute_result"
    }
   ],
   "source": [
    "# Merge data based on user id in order to get users' location\n",
    "region_rb = pd.merge(df_rating_rb, df_user_rb, how=\"left\", left_on='user_id', right_on='user_id')\n",
    "region_rb.head()"
   ]
  },
  {
   "cell_type": "markdown",
   "metadata": {
    "pycharm": {
     "name": "#%% md\n"
    }
   },
   "source": [
    "## Data Analysis and visualization\n",
    "In this section we will explore more of the datasets we prepared above, and visualize them."
   ]
  },
  {
   "cell_type": "markdown",
   "metadata": {
    "pycharm": {
     "name": "#%% md\n"
    }
   },
   "source": [
    "#### Overall Rating Distribution of the two website"
   ]
  },
  {
   "cell_type": "code",
   "execution_count": 83,
   "metadata": {
    "pycharm": {
     "name": "#%%\n"
    }
   },
   "outputs": [
    {
     "data": {
      "image/png": "[encoded data removed]",
      "text/plain": [
       "<Figure size 432x288 with 1 Axes>"
      ]
     },
     "metadata": {
      "needs_background": "light"
     },
     "output_type": "display_data"
    }
   ],
   "source": [
    "#creating subplots\n",
    "ax=plt.subplots()\n",
    "\n",
    "#plotting columns\n",
    "ax=sns.histplot(data=df_rating_ba, x='rating', color = 'purple', binwidth=0.25, label='x')\n",
    "ax=sns.histplot(data=df_rating_rb, x='rating', color = 'pink', binwidth=0.25)\n",
    "\n",
    "# setting figure legend\n",
    "plt.legend(title='Website', loc='upper left', labels=['BeerAdvocate', 'RateBeer'])\n",
    "\n",
    "#renaming the axes\n",
    "ax.set(xlabel=\"Rating\", ylabel=\"Count\")\n",
    "\n",
    "# setting figute title\n",
    "ax.set_title(\"Rating Distribution on two website\")\n",
    "\n",
    "# visualizing illustration\n",
    "plt.show()"
   ]
  },
  {
   "cell_type": "markdown",
   "metadata": {
    "pycharm": {
     "name": "#%% md\n"
    }
   },
   "source": [
    "We can see that in this plot, rating on both websites are distributed like a normal distribution. There concentration of **rating** between 3-5 contributes to the majority."
   ]
  },
  {
   "cell_type": "markdown",
   "metadata": {
    "pycharm": {
     "name": "#%% md\n"
    }
   },
   "source": [
    "#### Rating Distribution of Brewery\n",
    "##### BeerAdvocate"
   ]
  },
  {
   "cell_type": "code",
   "execution_count": 84,
   "metadata": {
    "pycharm": {
     "name": "#%%\n"
    }
   },
   "outputs": [
    {
     "data": {
      "image/png": "[encoded data removed]",
      "text/plain": [
       "<Figure size 432x288 with 1 Axes>"
      ]
     },
     "metadata": {
      "needs_background": "light"
     },
     "output_type": "display_data"
    }
   ],
   "source": [
    "# explore ratings on each brewery\n",
    "rating_brewery = pd.merge(df_rating_ba, df_brewery_ba, how='left', left_on='brewery_id', right_on='id')\n",
    "rating_brewery = rating_brewery[['overall', 'brewery_name']]\n",
    "mean_rating_brewery = rating_brewery.groupby('brewery_name').mean()\n",
    "mean_rating_brewery = pd.DataFrame(mean_rating_brewery.to_records())\n",
    "\n",
    "# draw rating brewery distribution\n",
    "sns.histplot(data=mean_rating_brewery, x='overall')\n",
    "plt.xlabel('Rating')\n",
    "plt.title('Rating Brewery Distribution on BeerAdvocate')\n",
    "plt.show()"
   ]
  },
  {
   "cell_type": "markdown",
   "metadata": {
    "pycharm": {
     "name": "#%% md\n"
    }
   },
   "source": [
    "##### RateBeer"
   ]
  },
  {
   "cell_type": "code",
   "execution_count": 85,
   "metadata": {
    "pycharm": {
     "name": "#%%\n"
    }
   },
   "outputs": [
    {
     "data": {
      "image/png": "[encoded data removed]",
      "text/plain": [
       "<Figure size 432x288 with 1 Axes>"
      ]
     },
     "metadata": {
      "needs_background": "light"
     },
     "output_type": "display_data"
    }
   ],
   "source": [
    "# explore ratings on each brewery\n",
    "rating_brewery_rb = pd.merge(df_rating_rb, df_brewery_rb, how='left', left_on='brewery_id', right_on='id')\n",
    "rating_brewery_rb = rating_brewery_rb[['overall', 'brewery_name']]\n",
    "mean_rating_brewery_rb = rating_brewery_rb.groupby('brewery_name').mean()\n",
    "mean_rating_brewery_rb = pd.DataFrame(mean_rating_brewery_rb.to_records())\n",
    "\n",
    "# draw rating brewery distribution\n",
    "sns.histplot(data=mean_rating_brewery_rb, x='overall')\n",
    "plt.xlabel('Rating')\n",
    "plt.title('Rating Brewery Distribution on RateBeer')\n",
    "plt.show()"
   ]
  },
  {
   "cell_type": "markdown",
   "metadata": {
    "pycharm": {
     "name": "#%% md\n"
    }
   },
   "source": [
    "Generally, the distributions of brewery ratings on BeerAdvocate and RateBeer are similar. The majority of ratings fall between 3.0 and 4.0. But on RateBeer, there are relatively more ratings between 1.5 and 2.5."
   ]
  },
  {
   "cell_type": "markdown",
   "metadata": {
    "pycharm": {
     "name": "#%% md\n"
    }
   },
   "source": [
    "#### Rating Distribution of the detailed scores"
   ]
  },
  {
   "cell_type": "code",
   "execution_count": 86,
   "metadata": {
    "pycharm": {
     "name": "#%%\n"
    }
   },
   "outputs": [
    {
     "data": {
      "image/png": "[encoded data removed]",
      "text/plain": [
       "<Figure size 864x576 with 5 Axes>"
      ]
     },
     "metadata": {
      "needs_background": "light"
     },
     "output_type": "display_data"
    }
   ],
   "source": [
    "data_title = ['appearance', 'aroma','palate','taste','overall']\n",
    "plt.figure(figsize=(12,8))\n",
    "\n",
    "\n",
    "for index, i in enumerate(data_title):\n",
    "\n",
    "    #creating subplots\n",
    "    ax=plt.subplot(2,3,index+1)\n",
    "\n",
    "    #plotting columns\n",
    "    ax=sns.histplot(data=df_rating_ba, x=i, color = 'purple', binwidth=0.25, label='x')\n",
    "    ax=sns.histplot(data=df_rating_rb, x=i, color = 'pink', binwidth=0.25)\n",
    "\n",
    "    # setting figure legend\n",
    "    plt.legend(title='Website', loc='upper left', labels=['BeerAdvocate', 'RateBeer'])\n",
    "\n",
    "    #renaming the axes\n",
    "    ax.set(xlabel=\"Rating\", ylabel=\"Count\")\n",
    "\n",
    "    # setting figute title\n",
    "    ax.set_title(f\"{i} Distribution on two website\")\n",
    "\n",
    "    # visualizing illustration\n",
    "plt.tight_layout()\n",
    "plt.show()"
   ]
  },
  {
   "cell_type": "markdown",
   "metadata": {
    "pycharm": {
     "name": "#%% md\n"
    }
   },
   "source": [
    "#### The abv rankings on the two datasets"
   ]
  },
  {
   "cell_type": "code",
   "execution_count": 87,
   "metadata": {
    "pycharm": {
     "name": "#%%\n"
    }
   },
   "outputs": [
    {
     "name": "stdout",
     "output_type": "stream",
     "text": [
      "The average abv% of beers from BeerAdvocate is 7.5%.\n"
     ]
    },
    {
     "data": {
      "image/png": "[encoded data removed]",
      "text/plain": [
       "<Figure size 432x288 with 1 Axes>"
      ]
     },
     "metadata": {
      "needs_background": "light"
     },
     "output_type": "display_data"
    }
   ],
   "source": [
    "avg_ba_abv = region_ba.abv.mean()\n",
    "avg_ba_abv = round(avg_ba_abv, 2)\n",
    "print(f'The average abv% of beers from BeerAdvocate is {avg_ba_abv}%.')\n",
    "fig, ax = plt.subplots()\n",
    "ax.set_xlim(0, 20)\n",
    "sns.histplot(region_ba.abv, binwidth=0.5, ax=ax)\n",
    "plt.title(\"Abv rankings on BeerAdvocate\")\n",
    "plt.show()"
   ]
  },
  {
   "cell_type": "code",
   "execution_count": 88,
   "metadata": {
    "pycharm": {
     "name": "#%%\n"
    }
   },
   "outputs": [
    {
     "name": "stdout",
     "output_type": "stream",
     "text": [
      "The average abv% of beers from RateBeer is 6.84%.\n"
     ]
    },
    {
     "data": {
      "image/png": "[encoded data removed]",
      "text/plain": [
       "<Figure size 432x288 with 1 Axes>"
      ]
     },
     "metadata": {
      "needs_background": "light"
     },
     "output_type": "display_data"
    }
   ],
   "source": [
    "avg_rb_abv = region_rb.abv.mean()\n",
    "avg_rb_abv = round(avg_rb_abv, 2)\n",
    "print(f'The average abv% of beers from RateBeer is {avg_rb_abv}%.')\n",
    "fig, ax = plt.subplots()\n",
    "ax.set_xlim(0, 20)\n",
    "sns.histplot(region_rb.abv, binwidth=0.5, ax=ax)\n",
    "plt.title(\"Abv rankings on RateBeer\")\n",
    "plt.show()"
   ]
  },
  {
   "cell_type": "markdown",
   "metadata": {
    "pycharm": {
     "name": "#%% md\n"
    }
   },
   "source": [
    "According to the pictures above we found that the most popular beers has abv range from 4 to 10."
   ]
  },
  {
   "cell_type": "markdown",
   "metadata": {
    "pycharm": {
     "name": "#%% md\n"
    }
   },
   "source": [
    "#### (Interactive) Find the popular beers in top 10 regions with the largest number of users in each year.\n",
    "**(The interactive picture couldn't load in github page, so we put these image in read.md)**\n",
    "##### BeerAdvocate"
   ]
  },
  {
   "cell_type": "code",
   "execution_count": 89,
   "metadata": {
    "pycharm": {
     "name": "#%%\n"
    }
   },
   "outputs": [],
   "source": [
    "region_ba_style_change = region_ba[['date', 'location', 'beer_id', 'beer_name', 'brewery_id', 'brewery_name', 'overall', 'nbr_ratings', 'nbr_reviews', 'text', 'style']]"
   ]
  },
  {
   "cell_type": "code",
   "execution_count": 90,
   "metadata": {
    "pycharm": {
     "name": "#%%\n"
    }
   },
   "outputs": [],
   "source": [
    "region_ba_style_change['formal_date'] = region_ba_style_change.date.apply(lambda x: datetime.datetime.fromtimestamp(x))"
   ]
  },
  {
   "cell_type": "code",
   "execution_count": 91,
   "metadata": {
    "pycharm": {
     "name": "#%%\n"
    }
   },
   "outputs": [],
   "source": [
    "region_ba_style_change = region_ba_style_change[['formal_date', 'date', 'location', 'beer_id', 'beer_name', 'brewery_id', 'brewery_name', 'overall', 'nbr_ratings', 'nbr_reviews', 'text', 'style']]"
   ]
  },
  {
   "cell_type": "code",
   "execution_count": 92,
   "metadata": {
    "pycharm": {
     "name": "#%%\n"
    }
   },
   "outputs": [
    {
     "data": {
      "text/plain": [
       "count                          3267567\n",
       "mean     2013-02-26 08:27:11.016104192\n",
       "min                1996-08-22 12:00:00\n",
       "25%                2010-09-23 12:00:00\n",
       "50%                2014-12-30 12:00:00\n",
       "75%                2015-11-24 12:00:00\n",
       "max                2017-08-01 12:00:00\n",
       "Name: formal_date, dtype: object"
      ]
     },
     "execution_count": 92,
     "metadata": {},
     "output_type": "execute_result"
    }
   ],
   "source": [
    "region_ba_style_change.formal_date.describe(datetime_is_numeric=True)"
   ]
  },
  {
   "cell_type": "code",
   "execution_count": 93,
   "metadata": {
    "pycharm": {
     "name": "#%%\n"
    }
   },
   "outputs": [],
   "source": [
    "region_ba_style_change.sort_values('formal_date', inplace=True)\n",
    "region_ba_style_change['year'] = region_ba_style_change.formal_date.apply(lambda x: x.year)\n",
    "region_list = region_agg.location.to_list()\n",
    "year_list = region_ba_style_change.year.unique()\n",
    "region_list = region_list[:10]"
   ]
  },
  {
   "cell_type": "code",
   "execution_count": 94,
   "metadata": {
    "pycharm": {
     "name": "#%%\n"
    }
   },
   "outputs": [],
   "source": [
    "# since there may have insufficient in early years, we want to make an alert in the interactive graph\n",
    "def popup(text):\n",
    "    display(HTML(\"<script>alert('{}');</script>\".format(text)))"
   ]
  },
  {
   "cell_type": "code",
   "execution_count": 95,
   "metadata": {
    "pycharm": {
     "name": "#%%\n"
    }
   },
   "outputs": [
    {
     "data": {
      "application/vnd.jupyter.widget-view+json": {
       "model_id": "038f4188b14e410da41a2174f3ebb0f0",
       "version_major": 2,
       "version_minor": 0
      },
      "text/plain": [
       "interactive(children=(Dropdown(description='region', options=('United States, Pennsylvania', 'United States, C…"
      ]
     },
     "metadata": {},
     "output_type": "display_data"
    },
    {
     "data": {
      "text/plain": [
       "<function __main__.plot_interactive(region, year)>"
      ]
     },
     "execution_count": 95,
     "metadata": {},
     "output_type": "execute_result"
    }
   ],
   "source": [
    "def plot_interactive(region, year):\n",
    "    data_to_plot = region_ba_style_change[(region_ba_style_change.location==region) & (region_ba_style_change.year==year)][['brewery_name', 'style', 'beer_name','overall']]\n",
    "    data_to_plot = data_to_plot.groupby('style').mean().reset_index()\n",
    "    data_to_plot = data_to_plot.sort_values('overall', ascending=False).head(10)\n",
    "    if len(data_to_plot) > 0:\n",
    "        sns.barplot(y='style', x='overall', data=data_to_plot, palette=\"magma\")\n",
    "        plt.title(f'10 beer styles in {region} that are the most popular in year {year}.')\n",
    "        plt.xlabel('Overall score')\n",
    "        plt.ylabel('Beer style')\n",
    "        plt.show()\n",
    "    else:\n",
    "        popup(f\"Insufficient data for {region} in {year}.\")\n",
    "\n",
    "\n",
    "interact(plot_interactive, region=region_list, year=year_list[:])\n"
   ]
  },
  {
   "cell_type": "markdown",
   "metadata": {
    "pycharm": {
     "name": "#%% md\n"
    }
   },
   "source": [
    "##### RateBeer"
   ]
  },
  {
   "cell_type": "code",
   "execution_count": 96,
   "metadata": {
    "pycharm": {
     "name": "#%%\n"
    }
   },
   "outputs": [],
   "source": [
    "region_rb_style_change = region_rb[['date', 'location', 'beer_id', 'beer_name', 'brewery_id', 'brewery_name', 'overall', 'nbr_ratings', 'text', 'style']]"
   ]
  },
  {
   "cell_type": "code",
   "execution_count": 97,
   "metadata": {
    "pycharm": {
     "name": "#%%\n"
    }
   },
   "outputs": [],
   "source": [
    "region_rb_style_change['formal_date'] = region_rb_style_change.date.apply(lambda x: datetime.datetime.fromtimestamp(x))"
   ]
  },
  {
   "cell_type": "code",
   "execution_count": 98,
   "metadata": {
    "pycharm": {
     "name": "#%%\n"
    }
   },
   "outputs": [],
   "source": [
    "region_rb_style_change = region_rb_style_change[['formal_date', 'date', 'location', 'beer_id', 'beer_name', 'brewery_id', 'brewery_name', 'overall', 'nbr_ratings', 'text', 'style']]"
   ]
  },
  {
   "cell_type": "code",
   "execution_count": 99,
   "metadata": {
    "pycharm": {
     "name": "#%%\n"
    }
   },
   "outputs": [
    {
     "data": {
      "text/plain": [
       "count                          3414540\n",
       "mean     2011-03-08 04:16:46.752535296\n",
       "min                2000-04-12 12:00:00\n",
       "25%                2008-03-21 12:00:00\n",
       "50%                2011-10-01 12:00:00\n",
       "75%                2014-05-15 12:00:00\n",
       "max                2017-07-31 12:00:00\n",
       "Name: formal_date, dtype: object"
      ]
     },
     "execution_count": 99,
     "metadata": {},
     "output_type": "execute_result"
    }
   ],
   "source": [
    "region_rb_style_change.formal_date.describe(datetime_is_numeric=True)"
   ]
  },
  {
   "cell_type": "code",
   "execution_count": 100,
   "metadata": {
    "pycharm": {
     "name": "#%%\n"
    }
   },
   "outputs": [],
   "source": [
    "region_rb_style_change.sort_values('formal_date', inplace=True)\n",
    "region_rb_style_change['year'] = region_rb_style_change.formal_date.apply(lambda x: x.year)\n",
    "region_list = region_agg.location.to_list()\n",
    "year_list = region_rb_style_change.year.unique()\n",
    "region_list = region_list[:10]"
   ]
  },
  {
   "cell_type": "code",
   "execution_count": 102,
   "metadata": {
    "pycharm": {
     "name": "#%%\n"
    }
   },
   "outputs": [
    {
     "data": {
      "application/vnd.jupyter.widget-view+json": {
       "model_id": "f8340ae6dad746568da27ce3cfb4b27d",
       "version_major": 2,
       "version_minor": 0
      },
      "text/plain": [
       "interactive(children=(Dropdown(description='region', options=('United States, Pennsylvania', 'United States, C…"
      ]
     },
     "metadata": {},
     "output_type": "display_data"
    },
    {
     "data": {
      "text/plain": [
       "<function __main__.plot_interactive(region, year)>"
      ]
     },
     "execution_count": 102,
     "metadata": {},
     "output_type": "execute_result"
    }
   ],
   "source": [
    "def plot_interactive(region, year):\n",
    "    data_to_plot = region_rb_style_change[(region_rb_style_change.location==region) & (region_rb_style_change.year==year)][['brewery_name', 'style', 'beer_name','overall']]\n",
    "    data_to_plot = data_to_plot.groupby('style').mean().reset_index()\n",
    "    data_to_plot = data_to_plot.sort_values('overall', ascending=False).head(10)\n",
    "    if len(data_to_plot) > 0:\n",
    "        sns.barplot(y='style', x='overall', data=data_to_plot, palette=\"magma\")\n",
    "        plt.title(f'10 beer styles in {region} that are the most popular in year {year}.')\n",
    "        plt.xlabel('Overall score')\n",
    "        plt.ylabel('Beer style')\n",
    "        plt.show()\n",
    "    else:\n",
    "        popup(f\"Insufficient data for {region} in {year}.\")\n",
    "\n",
    "\n",
    "interact(plot_interactive, region=region_list, year=year_list[:])\n"
   ]
  },
  {
   "cell_type": "markdown",
   "metadata": {
    "pycharm": {
     "name": "#%% md\n"
    }
   },
   "source": [
    "#### Find the change of number of ratings\n",
    "##### (interactive) Of each style of beers\n",
    "###### BeerAdvocate"
   ]
  },
  {
   "cell_type": "code",
   "execution_count": 103,
   "metadata": {
    "pycharm": {
     "name": "#%%\n"
    }
   },
   "outputs": [],
   "source": [
    "beer_style_list = region_ba_style_change['style'].groupby(region_ba_style_change['style']).agg('count')\n",
    "beer_style_list.sort_values(ascending=False)\n",
    "beer_style_list = np.array(beer_style_list.index.to_list())"
   ]
  },
  {
   "cell_type": "code",
   "execution_count": 104,
   "metadata": {
    "pycharm": {
     "name": "#%%\n"
    }
   },
   "outputs": [
    {
     "data": {
      "application/vnd.jupyter.widget-view+json": {
       "model_id": "bb2ca058a2a04f6c8cecb1fd992cfb88",
       "version_major": 2,
       "version_minor": 0
      },
      "text/plain": [
       "interactive(children=(Dropdown(description='style', options=('Altbier', 'American Adjunct Lager', 'American Am…"
      ]
     },
     "metadata": {},
     "output_type": "display_data"
    },
    {
     "data": {
      "text/plain": [
       "<function __main__.plot_year_vs_no_ratings_interactive(style)>"
      ]
     },
     "execution_count": 104,
     "metadata": {},
     "output_type": "execute_result"
    }
   ],
   "source": [
    "def plot_year_vs_no_ratings_interactive(style):\n",
    "    specific_style = style\n",
    "    specific_style_region_by = region_ba_style_change[region_ba_style_change['style']==specific_style]\n",
    "    specific_style_region_by = specific_style_region_by.dropna(how='any')\n",
    "    specific_style_region_by = specific_style_region_by.drop_duplicates('year')\n",
    "    sns.lineplot(data=specific_style_region_by, x='year', y='nbr_ratings')\n",
    "    plt.title(f'The number of ratings of {style}')\n",
    "    plt.xlabel('Year')\n",
    "    plt.ylabel('Number of ratings')\n",
    "    plt.show()\n",
    "\n",
    "interact(plot_year_vs_no_ratings_interactive, style=beer_style_list)"
   ]
  },
  {
   "cell_type": "markdown",
   "metadata": {
    "pycharm": {
     "name": "#%% md\n"
    }
   },
   "source": [
    "###### RateBeer"
   ]
  },
  {
   "cell_type": "code",
   "execution_count": 105,
   "metadata": {
    "pycharm": {
     "name": "#%%\n"
    }
   },
   "outputs": [],
   "source": [
    "beer_style_list_rb = region_rb_style_change['style'].groupby(region_rb_style_change['style']).agg('count')\n",
    "beer_style_list_rb.sort_values(ascending=False)\n",
    "beer_style_list_rb = np.array(beer_style_list_rb.index.to_list())"
   ]
  },
  {
   "cell_type": "code",
   "execution_count": 106,
   "metadata": {
    "pycharm": {
     "name": "#%%\n"
    }
   },
   "outputs": [
    {
     "data": {
      "application/vnd.jupyter.widget-view+json": {
       "model_id": "cf2e3e8cf0154b489df7c18900ed1f65",
       "version_major": 2,
       "version_minor": 0
      },
      "text/plain": [
       "interactive(children=(Dropdown(description='style', options=('Abbey Dubbel', 'Abbey Tripel', 'Abt/Quadrupel', …"
      ]
     },
     "metadata": {},
     "output_type": "display_data"
    },
    {
     "data": {
      "text/plain": [
       "<function __main__.plot_year_vs_no_ratings_interactive(style)>"
      ]
     },
     "execution_count": 106,
     "metadata": {},
     "output_type": "execute_result"
    }
   ],
   "source": [
    "def plot_year_vs_no_ratings_interactive(style):\n",
    "    specific_style = style\n",
    "    specific_style_region_by = region_ba_style_change[region_rb_style_change['style']==specific_style]\n",
    "    specific_style_region_by = specific_style_region_by.dropna(how='any')\n",
    "    specific_style_region_by = specific_style_region_by.drop_duplicates('year')\n",
    "    sns.lineplot(data=specific_style_region_by, x='year', y='nbr_ratings')\n",
    "    plt.title(f'The number of ratings of {style}')\n",
    "    plt.xlabel('Year')\n",
    "    plt.ylabel('Number of ratings')\n",
    "    plt.show()\n",
    "\n",
    "interact(plot_year_vs_no_ratings_interactive, style=beer_style_list_rb)"
   ]
  },
  {
   "cell_type": "markdown",
   "metadata": {
    "pycharm": {
     "name": "#%% md\n"
    }
   },
   "source": [
    "##### Total number of ratings on the websites and overall scores\n",
    "###### BeerAdvocate"
   ]
  },
  {
   "cell_type": "code",
   "execution_count": 107,
   "metadata": {
    "pycharm": {
     "name": "#%%\n"
    }
   },
   "outputs": [
    {
     "data": {
      "image/png": "[encoded data removed]",
      "text/plain": [
       "<Figure size 432x288 with 1 Axes>"
      ]
     },
     "metadata": {
      "needs_background": "light"
     },
     "output_type": "display_data"
    }
   ],
   "source": [
    "plt.plot(region_ba_style_change.groupby(['year']).count()['formal_date'].index, region_ba_style_change.groupby(['year']).count()['formal_date'])\n",
    "plt.ylabel('Number of views')\n",
    "plt.xlabel('Year')\n",
    "plt.title('Number of views over time')\n",
    "plt.xticks([i for i in range(1998, 2018)], rotation=45)\n",
    "plt.show()"
   ]
  },
  {
   "cell_type": "markdown",
   "metadata": {
    "pycharm": {
     "name": "#%% md\n"
    }
   },
   "source": [
    "According the image above, the number of views are increase over time. In 2014, it has the largest number of reviews. But after that, the number of views are keep decreasing. It can be noted that the number of evaluations suddenly doubled before 2013 and 2014, but it is not possible to analyse what caused this."
   ]
  },
  {
   "cell_type": "code",
   "execution_count": 108,
   "metadata": {
    "pycharm": {
     "name": "#%%\n"
    }
   },
   "outputs": [],
   "source": [
    "# The bootstrapping function to use\n",
    "def bootstrapping(array, num_of_iters: int, sample_rate: float, confidence_level: float, value='mean', replace=True,test=False):\n",
    "    \"\"\"array: takes in an array of your concern(numpy array)\n",
    "        num_of_iters: the number of iterations you want to bootstrap\n",
    "        sample_rate: the percentage of data to be sampled each time\n",
    "        confidence_level: the confidence interval, e.g. 95%(input as 0.95)\n",
    "        value: which value to calculate(be bootstrapped) mean / median\n",
    "        replace: takes a boolean, if we will replace or not\n",
    "\n",
    "        output: e.g. 95% confidence intervals of the mean\n",
    "\n",
    "        Author: ZHANG Yuyao\n",
    "        \"\"\"\n",
    "    if test:\n",
    "        # array = np.array(array)\n",
    "        if value=='mean':\n",
    "            true_value = np.mean(array)\n",
    "        elif value == 'median':\n",
    "            true_value = np.median(array)\n",
    "        print(f'The true value of {value} is {true_value}')\n",
    "\n",
    "    sample_value = []\n",
    "    data_len = len(array)\n",
    "    sample_len = int(data_len*sample_rate)\n",
    "    for i in range(num_of_iters):\n",
    "        y = np.random.choice(array.tolist(), sample_len, replace=replace)\n",
    "        if value=='mean':\n",
    "            value_ = np.mean(y)\n",
    "        elif value == 'median':\n",
    "            value_ = np.median(y)\n",
    "        sample_value.append(value_)\n",
    "\n",
    "    bs_value = np.mean(sample_value)\n",
    "\n",
    "    alpha = 1-confidence_level\n",
    "    sample_value = np.sort(sample_value)\n",
    "\n",
    "    left = np.percentile(sample_value, alpha*50)#(100/2)\n",
    "    right = np.percentile(sample_value, 100-alpha*50)\n",
    "\n",
    "    # print(f'The {value} is {bs_value}.\\nAnd the {confidence_level} confidence interval for that is: ({left}, {right}).')\n",
    "    return bs_value, left, right"
   ]
  },
  {
   "cell_type": "code",
   "execution_count": 109,
   "metadata": {
    "pycharm": {
     "name": "#%%\n"
    }
   },
   "outputs": [],
   "source": [
    "def get_stats_num_by_time(x):\n",
    "    bs = bootstrapping(x['overall'], 1000, 0.1, 0.95)\n",
    "#     print(bs[1])\n",
    "    return pd.Series({'mean': bs[0],\n",
    "                  'left':bs[1],\n",
    "                  'right':bs[2]})"
   ]
  },
  {
   "cell_type": "code",
   "execution_count": 110,
   "metadata": {
    "pycharm": {
     "name": "#%%\n"
    }
   },
   "outputs": [],
   "source": [
    "def get_stats_num_by_time(x):\n",
    "    bs = bootstrapping(x['overall'], 1000, 0.1, 0.95)\n",
    "#     print(bs[1])\n",
    "    return pd.Series({'mean': bs[0],\n",
    "                  'left':bs[1],\n",
    "                  'right':bs[2]})"
   ]
  },
  {
   "cell_type": "code",
   "execution_count": 111,
   "metadata": {
    "pycharm": {
     "name": "#%%\n"
    }
   },
   "outputs": [],
   "source": [
    "stats_to_plot_ba = region_ba_style_change.groupby(['year']).apply(lambda x: get_stats_num_by_time(x))"
   ]
  },
  {
   "cell_type": "code",
   "execution_count": 112,
   "metadata": {
    "pycharm": {
     "name": "#%%\n"
    }
   },
   "outputs": [
    {
     "data": {
      "image/png": "[encoded data removed]",
      "text/plain": [
       "<Figure size 432x288 with 1 Axes>"
      ]
     },
     "metadata": {
      "needs_background": "light"
     },
     "output_type": "display_data"
    }
   ],
   "source": [
    "plt.errorbar(stats_to_plot_ba.index, stats_to_plot_ba['mean'],\n",
    "             yerr = [stats_to_plot_ba['mean']-stats_to_plot_ba.left,\n",
    "                     stats_to_plot_ba.right-stats_to_plot_ba['mean']],\n",
    "             capsize=3)\n",
    "# plt.plot(region_ba_style_change.groupby(['year']).mean()['overall'].index, region_ba_style_change.groupby(['year']).mean()['overall'])\n",
    "plt.ylabel('Overal Score')\n",
    "plt.xlabel('Year')\n",
    "plt.title('Overall Score over time')\n",
    "plt.xticks([i for i in range(1998, 2018)], rotation=45)\n",
    "plt.show()"
   ]
  },
  {
   "cell_type": "markdown",
   "metadata": {
    "pycharm": {
     "name": "#%% md\n"
    }
   },
   "source": [
    "It is easy to notice it has very high overall score in 1999. But after analysis the data, we notice it only have few reviews in 1999, so it make a illusion that sudden rise in ratings."
   ]
  },
  {
   "cell_type": "markdown",
   "metadata": {
    "pycharm": {
     "name": "#%% md\n"
    }
   },
   "source": [
    "###### RateBeer"
   ]
  },
  {
   "cell_type": "code",
   "execution_count": 113,
   "metadata": {
    "pycharm": {
     "name": "#%%\n"
    }
   },
   "outputs": [
    {
     "data": {
      "image/png": "[encoded data removed]",
      "text/plain": [
       "<Figure size 432x288 with 1 Axes>"
      ]
     },
     "metadata": {
      "needs_background": "light"
     },
     "output_type": "display_data"
    }
   ],
   "source": [
    "plt.plot(region_rb_style_change.groupby(['year']).count()['formal_date'].index, region_rb_style_change.groupby(['year']).count()['formal_date'])\n",
    "plt.ylabel('Number of views')\n",
    "plt.xlabel('Year')\n",
    "plt.title('Number of views over time')\n",
    "plt.xticks([i for i in range(1998, 2018)], rotation=45)\n",
    "plt.show()"
   ]
  },
  {
   "cell_type": "markdown",
   "metadata": {
    "pycharm": {
     "name": "#%% md\n"
    }
   },
   "source": [
    "The number of views are keep increase until 2016."
   ]
  },
  {
   "cell_type": "code",
   "execution_count": 114,
   "metadata": {
    "pycharm": {
     "name": "#%%\n"
    }
   },
   "outputs": [],
   "source": [
    "stats_to_plot_rb = region_rb_style_change.groupby(['year']).apply(lambda x: get_stats_num_by_time(x))"
   ]
  },
  {
   "cell_type": "code",
   "execution_count": 115,
   "metadata": {
    "pycharm": {
     "name": "#%%\n"
    }
   },
   "outputs": [
    {
     "data": {
      "image/png": "[encoded data removed]",
      "text/plain": [
       "<Figure size 432x288 with 1 Axes>"
      ]
     },
     "metadata": {
      "needs_background": "light"
     },
     "output_type": "display_data"
    }
   ],
   "source": [
    "plt.errorbar(stats_to_plot_rb.index, stats_to_plot_rb['mean'],\n",
    "             yerr = [stats_to_plot_rb['mean']-stats_to_plot_rb.left,\n",
    "                     stats_to_plot_rb.right-stats_to_plot_rb['mean']],\n",
    "             capsize=3)\n",
    "# plt.plot(region_rb_style_change.groupby(['year']).mean()['overall'].index, region_rb_style_change.groupby(['year']).mean()['overall'])\n",
    "plt.ylabel('Overal Score')\n",
    "plt.xlabel('Year')\n",
    "plt.title('Overall Score over time')\n",
    "plt.xticks([i for i in range(1998, 2018)], rotation=45)\n",
    "plt.show()"
   ]
  },
  {
   "cell_type": "markdown",
   "metadata": {
    "pycharm": {
     "name": "#%% md\n"
    }
   },
   "source": [
    "The overall score are keep increasing. In 2017 it was almost 2 points higher than the year of 2000."
   ]
  },
  {
   "cell_type": "markdown",
   "metadata": {
    "pycharm": {
     "name": "#%% md\n"
    }
   },
   "source": [
    "#### Relation between the overall and 4 scores\n",
    "##### BeerAdvocate"
   ]
  },
  {
   "cell_type": "markdown",
   "metadata": {
    "pycharm": {
     "name": "#%% md\n"
    }
   },
   "source": [
    "##### RateBeer"
   ]
  },
  {
   "cell_type": "markdown",
   "metadata": {
    "pycharm": {
     "name": "#%% md\n"
    }
   },
   "source": [
    "#### Hypothesis test about change in overall score\n",
    "##### RateBeer\n",
    "We observed that in the RateBeer dataset, the overall score has increased over the years.\n",
    "Therefore, we want to conduct a hypothesis test about whether it really changed.\n",
    "\n",
    "First, we split the data by the year 2011. (by experiment we find that the number of reviews are relatively close before and after this time point."
   ]
  },
  {
   "cell_type": "markdown",
   "metadata": {
    "pycharm": {
     "name": "#%% md\n"
    }
   },
   "source": [
    "#### Hypothesis test about change in overall score\n",
    "##### RateBeer\n",
    "We observed that in the RateBeer dataset, the overall score has increased over the years.\n",
    "Therefore, we want to conduct a hypothesis test about whether it really changed.\n",
    "$\\\\$\n",
    "First, we split the data by the year 2011. (by experiment we find that the number of reviews are relatively close before and after this time point."
   ]
  },
  {
   "cell_type": "code",
   "execution_count": 116,
   "metadata": {
    "pycharm": {
     "name": "#%%\n"
    }
   },
   "outputs": [
    {
     "name": "stdout",
     "output_type": "stream",
     "text": [
      "The number of reviews before 2011 is 1770869.\n"
     ]
    }
   ],
   "source": [
    "region_rb_style_change_before2011 = region_rb_style_change[region_rb_style_change.year<=2011]['overall']\n",
    "print(f'The number of reviews before 2011 is {len(region_rb_style_change_before2011)}.')"
   ]
  },
  {
   "cell_type": "code",
   "execution_count": 117,
   "metadata": {
    "pycharm": {
     "name": "#%%\n"
    }
   },
   "outputs": [
    {
     "name": "stdout",
     "output_type": "stream",
     "text": [
      "The number of reviews after 2011 is 1643671.\n"
     ]
    }
   ],
   "source": [
    "region_rb_style_change_after2011 = region_rb_style_change[region_rb_style_change.year>2011]['overall']\n",
    "print(f'The number of reviews after 2011 is {len(region_rb_style_change_after2011)}.')"
   ]
  },
  {
   "cell_type": "code",
   "execution_count": 118,
   "metadata": {
    "pycharm": {
     "name": "#%%\n"
    }
   },
   "outputs": [],
   "source": [
    "# we sample 1643671 data from before 2011 to make the dataset with the same\n",
    "sample_before2011 = region_rb_style_change_before2011[:len(region_rb_style_change_after2011)]"
   ]
  },
  {
   "cell_type": "code",
   "execution_count": 119,
   "metadata": {
    "pycharm": {
     "name": "#%%\n"
    }
   },
   "outputs": [],
   "source": [
    "hypo_test = stats.ttest_rel(sample_before2011, region_rb_style_change_after2011)"
   ]
  },
  {
   "cell_type": "code",
   "execution_count": 120,
   "metadata": {
    "pycharm": {
     "name": "#%%\n"
    }
   },
   "outputs": [
    {
     "name": "stdout",
     "output_type": "stream",
     "text": [
      "p value is 0.0 here so we can reject the null hypothesis that the mean of the splited data are the same, so the overall score has really increased over the time.\n"
     ]
    }
   ],
   "source": [
    "print(f'p value is {hypo_test.pvalue} here so we can reject the null hypothesis that the mean of the splited data are the same, so the overall score has really increased over the time.')"
   ]
  },
  {
   "cell_type": "markdown",
   "metadata": {
    "pycharm": {
     "name": "#%% md\n"
    }
   },
   "source": [
    "##### BeerAdvocate"
   ]
  },
  {
   "cell_type": "code",
   "execution_count": 121,
   "metadata": {
    "pycharm": {
     "name": "#%%\n"
    }
   },
   "outputs": [
    {
     "name": "stdout",
     "output_type": "stream",
     "text": [
      "The number of reviews before 2011 is 1637859.\n",
      "The number of reviews after 2011 is 1629708.\n",
      "p value is 0.0 here so we can reject the null hypothesis that the mean of the splited data are the same, so the overall score has really increased over the time.\n"
     ]
    }
   ],
   "source": [
    "region_ba_style_change_before2011 = region_ba_style_change[region_ba_style_change.year<=2014]['overall']\n",
    "print(f'The number of reviews before 2011 is {len(region_ba_style_change_before2011)}.')\n",
    "region_ba_style_change_after2011 = region_ba_style_change[region_ba_style_change.year>2014]['overall']\n",
    "print(f'The number of reviews after 2011 is {len(region_ba_style_change_after2011)}.')\n",
    "sample_before2011_ba = region_ba_style_change_before2011[:len(region_ba_style_change_after2011)]\n",
    "hypo_test_ba = stats.ttest_rel(sample_before2011_ba, region_ba_style_change_after2011)\n",
    "print(f'p value is {hypo_test_ba.pvalue} here so we can reject the null hypothesis that the mean of the splited data are the same, so the overall score has really increased over the time.')"
   ]
  },
  {
   "cell_type": "markdown",
   "metadata": {
    "pycharm": {
     "name": "#%% md\n"
    }
   },
   "source": [
    "Some reasons:\n",
    "\n",
    "\n",
    "In the past, fewer people have access to the Internet, so as the rating websites. Therefore, the users may be some experts in beer or have great passion for beers. In this case, they might be more strict while rating the beers.\n",
    "However, now we all can get online to rate the beers, so there exists user groups with higher diversity, which may leads to more relaxed standard, thus the score is higher."
   ]
  },
  {
   "cell_type": "code",
   "execution_count": null,
   "metadata": {
    "pycharm": {
     "name": "#%%\n"
    }
   },
   "outputs": [],
   "source": []
  }
 ],
 "metadata": {
  "kernelspec": {
   "display_name": "Python 3 (ipykernel)",
   "language": "python",
   "name": "python3"
  },
  "language_info": {
   "codemirror_mode": {
    "name": "ipython",
    "version": 3
   },
   "file_extension": ".py",
   "mimetype": "text/x-python",
   "name": "python",
   "nbconvert_exporter": "python",
   "pygments_lexer": "ipython3",
   "version": "3.8.13"
  }
 },
 "nbformat": 4,
 "nbformat_minor": 1
}