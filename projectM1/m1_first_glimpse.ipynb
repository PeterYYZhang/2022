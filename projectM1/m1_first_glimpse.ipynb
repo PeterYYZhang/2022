{
 "cells": [
  {
   "cell_type": "code",
   "execution_count": 15,
   "metadata": {
    "collapsed": true,
    "pycharm": {
     "name": "#%%\n"
    }
   },
   "outputs": [],
   "source": [
    "# The root dir\n",
    "root = '../projectM1/'\n",
    "# some names for simplicity\n",
    "BeerAdvocate = root+'BeerAdvocate/'\n",
    "matched_beer_data = root+'matched_beer_data/'\n",
    "RateBeer = root+'RateBeer/'"
   ]
  },
  {
   "cell_type": "markdown",
   "source": [
    "## This part is some import parts that may be useful later"
   ],
   "metadata": {
    "collapsed": false,
    "pycharm": {
     "name": "#%% md\n"
    }
   }
  },
  {
   "cell_type": "code",
   "execution_count": 16,
   "outputs": [],
   "source": [
    "# import some necessary libraries\n",
    "import os\n",
    "import numpy as np\n",
    "import pandas as pd\n",
    "import matplotlib.pyplot as plt\n",
    "from ipywidgets import interact\n",
    "%matplotlib inline"
   ],
   "metadata": {
    "collapsed": false,
    "pycharm": {
     "name": "#%%\n"
    }
   }
  },
  {
   "cell_type": "markdown",
   "source": [
    "## BeerAdvocate"
   ],
   "metadata": {
    "collapsed": false,
    "pycharm": {
     "name": "#%% md\n"
    }
   }
  },
  {
   "cell_type": "code",
   "execution_count": 21,
   "outputs": [
    {
     "data": {
      "text/plain": "       beer_id                 beer_name  brewery_id  \\\n25       19827                  Legbiter       10093   \n27       20842        St. Patrick's Best       10093   \n3231     18650                 Tawny Owl        6872   \n6185        21          Deep Shaft Stout          18   \n6194       856    Shakemantle Ginger Ale          18   \n12490    68335   Tempus Reserva Especial       18412   \n13120    27607              Beerlao Dark        2970   \n20678    58663  Yellowhead Premium Lager       22923   \n21808    57213  Russell Angry Scotch Ale        4045   \n31316      774           Sapporo Reserve         284   \n\n                               brewery_name                      style  \\\n25     Strangford Lough Brewing Company Ltd           English Pale Ale   \n27     Strangford Lough Brewing Company Ltd             English Bitter   \n3231                       Cotleigh Brewery             English Bitter   \n6185                 Freeminer Brewery Ltd.     Foreign / Export Stout   \n6194                 Freeminer Brewery Ltd.       Herbed / Spiced Beer   \n12490                     Cerveceria Primus               Scottish Ale   \n13120                       Lao Brewery Co.            Euro Dark Lager   \n20678                    Yellowhead Brewery  Dortmunder / Export Lager   \n21808               Russell Brewing Company     Scotch Ale / Wee Heavy   \n31316                Sapporo Breweries Ltd.            Euro Pale Lager   \n\n       nbr_ratings  nbr_reviews   avg  ba_score  bros_score  abv  \\\n25              75           59  3.45      80.0        80.0  4.8   \n27              64           48  3.56      82.0        90.0  4.2   \n3231            20           16  3.71      84.0        80.0  3.8   \n6185            66           66  4.25      90.0        94.0  6.2   \n6194            12           12  3.75      84.0        86.0  5.0   \n12490           21            7  3.36      81.0        77.0  6.1   \n13120          167           81  3.26      77.0        80.0  6.5   \n20678           21           12  3.52      83.0        90.0  5.0   \n21808           99           34  3.98      88.0        90.0  6.5   \n31316          368          181  3.27      76.0        83.0  5.2   \n\n       avg_computed    zscore  nbr_matched_valid_ratings  \\\n25         3.439867 -0.649167                         59   \n27         3.556094 -0.478579                         48   \n3231       3.707000 -0.216512                         16   \n6185       4.254848  0.751762                         66   \n6194       3.750000 -0.128881                         12   \n12490      3.509524 -0.643987                          7   \n13120      3.305329 -1.047711                         86   \n20678      3.575714 -0.500270                         13   \n21808      3.961313  0.131123                         37   \n31316      3.232880 -1.109183                        183   \n\n       avg_matched_valid_ratings  \n25                      3.504068  \n27                      3.580417  \n3231                    3.680625  \n6185                    4.254848  \n6194                    3.750000  \n12490                   3.298571  \n13120                   3.285581  \n20678                   3.593077  \n21808                   3.991351  \n31316                   3.305956  ",
      "text/html": "<div>\n<style scoped>\n    .dataframe tbody tr th:only-of-type {\n        vertical-align: middle;\n    }\n\n    .dataframe tbody tr th {\n        vertical-align: top;\n    }\n\n    .dataframe thead th {\n        text-align: right;\n    }\n</style>\n<table border=\"1\" class=\"dataframe\">\n  <thead>\n    <tr style=\"text-align: right;\">\n      <th></th>\n      <th>beer_id</th>\n      <th>beer_name</th>\n      <th>brewery_id</th>\n      <th>brewery_name</th>\n      <th>style</th>\n      <th>nbr_ratings</th>\n      <th>nbr_reviews</th>\n      <th>avg</th>\n      <th>ba_score</th>\n      <th>bros_score</th>\n      <th>abv</th>\n      <th>avg_computed</th>\n      <th>zscore</th>\n      <th>nbr_matched_valid_ratings</th>\n      <th>avg_matched_valid_ratings</th>\n    </tr>\n  </thead>\n  <tbody>\n    <tr>\n      <th>25</th>\n      <td>19827</td>\n      <td>Legbiter</td>\n      <td>10093</td>\n      <td>Strangford Lough Brewing Company Ltd</td>\n      <td>English Pale Ale</td>\n      <td>75</td>\n      <td>59</td>\n      <td>3.45</td>\n      <td>80.0</td>\n      <td>80.0</td>\n      <td>4.8</td>\n      <td>3.439867</td>\n      <td>-0.649167</td>\n      <td>59</td>\n      <td>3.504068</td>\n    </tr>\n    <tr>\n      <th>27</th>\n      <td>20842</td>\n      <td>St. Patrick's Best</td>\n      <td>10093</td>\n      <td>Strangford Lough Brewing Company Ltd</td>\n      <td>English Bitter</td>\n      <td>64</td>\n      <td>48</td>\n      <td>3.56</td>\n      <td>82.0</td>\n      <td>90.0</td>\n      <td>4.2</td>\n      <td>3.556094</td>\n      <td>-0.478579</td>\n      <td>48</td>\n      <td>3.580417</td>\n    </tr>\n    <tr>\n      <th>3231</th>\n      <td>18650</td>\n      <td>Tawny Owl</td>\n      <td>6872</td>\n      <td>Cotleigh Brewery</td>\n      <td>English Bitter</td>\n      <td>20</td>\n      <td>16</td>\n      <td>3.71</td>\n      <td>84.0</td>\n      <td>80.0</td>\n      <td>3.8</td>\n      <td>3.707000</td>\n      <td>-0.216512</td>\n      <td>16</td>\n      <td>3.680625</td>\n    </tr>\n    <tr>\n      <th>6185</th>\n      <td>21</td>\n      <td>Deep Shaft Stout</td>\n      <td>18</td>\n      <td>Freeminer Brewery Ltd.</td>\n      <td>Foreign / Export Stout</td>\n      <td>66</td>\n      <td>66</td>\n      <td>4.25</td>\n      <td>90.0</td>\n      <td>94.0</td>\n      <td>6.2</td>\n      <td>4.254848</td>\n      <td>0.751762</td>\n      <td>66</td>\n      <td>4.254848</td>\n    </tr>\n    <tr>\n      <th>6194</th>\n      <td>856</td>\n      <td>Shakemantle Ginger Ale</td>\n      <td>18</td>\n      <td>Freeminer Brewery Ltd.</td>\n      <td>Herbed / Spiced Beer</td>\n      <td>12</td>\n      <td>12</td>\n      <td>3.75</td>\n      <td>84.0</td>\n      <td>86.0</td>\n      <td>5.0</td>\n      <td>3.750000</td>\n      <td>-0.128881</td>\n      <td>12</td>\n      <td>3.750000</td>\n    </tr>\n    <tr>\n      <th>12490</th>\n      <td>68335</td>\n      <td>Tempus Reserva Especial</td>\n      <td>18412</td>\n      <td>Cerveceria Primus</td>\n      <td>Scottish Ale</td>\n      <td>21</td>\n      <td>7</td>\n      <td>3.36</td>\n      <td>81.0</td>\n      <td>77.0</td>\n      <td>6.1</td>\n      <td>3.509524</td>\n      <td>-0.643987</td>\n      <td>7</td>\n      <td>3.298571</td>\n    </tr>\n    <tr>\n      <th>13120</th>\n      <td>27607</td>\n      <td>Beerlao Dark</td>\n      <td>2970</td>\n      <td>Lao Brewery Co.</td>\n      <td>Euro Dark Lager</td>\n      <td>167</td>\n      <td>81</td>\n      <td>3.26</td>\n      <td>77.0</td>\n      <td>80.0</td>\n      <td>6.5</td>\n      <td>3.305329</td>\n      <td>-1.047711</td>\n      <td>86</td>\n      <td>3.285581</td>\n    </tr>\n    <tr>\n      <th>20678</th>\n      <td>58663</td>\n      <td>Yellowhead Premium Lager</td>\n      <td>22923</td>\n      <td>Yellowhead Brewery</td>\n      <td>Dortmunder / Export Lager</td>\n      <td>21</td>\n      <td>12</td>\n      <td>3.52</td>\n      <td>83.0</td>\n      <td>90.0</td>\n      <td>5.0</td>\n      <td>3.575714</td>\n      <td>-0.500270</td>\n      <td>13</td>\n      <td>3.593077</td>\n    </tr>\n    <tr>\n      <th>21808</th>\n      <td>57213</td>\n      <td>Russell Angry Scotch Ale</td>\n      <td>4045</td>\n      <td>Russell Brewing Company</td>\n      <td>Scotch Ale / Wee Heavy</td>\n      <td>99</td>\n      <td>34</td>\n      <td>3.98</td>\n      <td>88.0</td>\n      <td>90.0</td>\n      <td>6.5</td>\n      <td>3.961313</td>\n      <td>0.131123</td>\n      <td>37</td>\n      <td>3.991351</td>\n    </tr>\n    <tr>\n      <th>31316</th>\n      <td>774</td>\n      <td>Sapporo Reserve</td>\n      <td>284</td>\n      <td>Sapporo Breweries Ltd.</td>\n      <td>Euro Pale Lager</td>\n      <td>368</td>\n      <td>181</td>\n      <td>3.27</td>\n      <td>76.0</td>\n      <td>83.0</td>\n      <td>5.2</td>\n      <td>3.232880</td>\n      <td>-1.109183</td>\n      <td>183</td>\n      <td>3.305956</td>\n    </tr>\n  </tbody>\n</table>\n</div>"
     },
     "execution_count": 21,
     "metadata": {},
     "output_type": "execute_result"
    }
   ],
   "source": [
    "ba_beers = pd.read_csv(BeerAdvocate+'beers.csv')\n",
    "# drop the NaN values\n",
    "ba_beers = ba_beers.dropna(axis=0, how=\"any\")\n",
    "ba_beers.head(10)"
   ],
   "metadata": {
    "collapsed": false,
    "pycharm": {
     "name": "#%%\n"
    }
   }
  },
  {
   "cell_type": "code",
   "execution_count": 27,
   "outputs": [
    {
     "data": {
      "text/plain": "       id    location                                           name  \\\n0   39912  Kyrgyzstan                         Abdysh-Ata (Абдыш Ата)   \n1   39913  Kyrgyzstan                                    Arpa (АРПА)   \n2   39914  Kyrgyzstan                                      Bear Beer   \n3   39915  Kyrgyzstan                                    Blonder Pub   \n4   39916  Kyrgyzstan                                   Kellers Bier   \n..    ...         ...                                            ...   \n95  34614    Scotland                             Glenfinnan Brewery   \n96  16502    Scotland  Glenkindie Arms Hotel / Old Foreigner Brewery   \n97  47786    Scotland                               Grunting Growler   \n98   3398    Scotland             Harbour Bar / Fyfe Brewing Company   \n99    323    Scotland                       Harviestoun Brewery Ltd.   \n\n    nbr_beers  \n0           5  \n1           1  \n2           4  \n3           4  \n4           2  \n..        ...  \n95          0  \n96          0  \n97          2  \n98          1  \n99         74  \n\n[100 rows x 4 columns]",
      "text/html": "<div>\n<style scoped>\n    .dataframe tbody tr th:only-of-type {\n        vertical-align: middle;\n    }\n\n    .dataframe tbody tr th {\n        vertical-align: top;\n    }\n\n    .dataframe thead th {\n        text-align: right;\n    }\n</style>\n<table border=\"1\" class=\"dataframe\">\n  <thead>\n    <tr style=\"text-align: right;\">\n      <th></th>\n      <th>id</th>\n      <th>location</th>\n      <th>name</th>\n      <th>nbr_beers</th>\n    </tr>\n  </thead>\n  <tbody>\n    <tr>\n      <th>0</th>\n      <td>39912</td>\n      <td>Kyrgyzstan</td>\n      <td>Abdysh-Ata (Абдыш Ата)</td>\n      <td>5</td>\n    </tr>\n    <tr>\n      <th>1</th>\n      <td>39913</td>\n      <td>Kyrgyzstan</td>\n      <td>Arpa (АРПА)</td>\n      <td>1</td>\n    </tr>\n    <tr>\n      <th>2</th>\n      <td>39914</td>\n      <td>Kyrgyzstan</td>\n      <td>Bear Beer</td>\n      <td>4</td>\n    </tr>\n    <tr>\n      <th>3</th>\n      <td>39915</td>\n      <td>Kyrgyzstan</td>\n      <td>Blonder Pub</td>\n      <td>4</td>\n    </tr>\n    <tr>\n      <th>4</th>\n      <td>39916</td>\n      <td>Kyrgyzstan</td>\n      <td>Kellers Bier</td>\n      <td>2</td>\n    </tr>\n    <tr>\n      <th>...</th>\n      <td>...</td>\n      <td>...</td>\n      <td>...</td>\n      <td>...</td>\n    </tr>\n    <tr>\n      <th>95</th>\n      <td>34614</td>\n      <td>Scotland</td>\n      <td>Glenfinnan Brewery</td>\n      <td>0</td>\n    </tr>\n    <tr>\n      <th>96</th>\n      <td>16502</td>\n      <td>Scotland</td>\n      <td>Glenkindie Arms Hotel / Old Foreigner Brewery</td>\n      <td>0</td>\n    </tr>\n    <tr>\n      <th>97</th>\n      <td>47786</td>\n      <td>Scotland</td>\n      <td>Grunting Growler</td>\n      <td>2</td>\n    </tr>\n    <tr>\n      <th>98</th>\n      <td>3398</td>\n      <td>Scotland</td>\n      <td>Harbour Bar / Fyfe Brewing Company</td>\n      <td>1</td>\n    </tr>\n    <tr>\n      <th>99</th>\n      <td>323</td>\n      <td>Scotland</td>\n      <td>Harviestoun Brewery Ltd.</td>\n      <td>74</td>\n    </tr>\n  </tbody>\n</table>\n<p>100 rows × 4 columns</p>\n</div>"
     },
     "execution_count": 27,
     "metadata": {},
     "output_type": "execute_result"
    }
   ],
   "source": [
    "ba_breweries = pd.read_csv(BeerAdvocate+'breweries.csv')\n",
    "ba_breweries.head(100)"
   ],
   "metadata": {
    "collapsed": false,
    "pycharm": {
     "name": "#%%\n"
    }
   }
  },
  {
   "cell_type": "code",
   "execution_count": 41,
   "outputs": [
    {
     "data": {
      "text/plain": "     nbr_ratings  nbr_reviews               user_id      user_name  \\\n5           2326            0       hellpop65.48993      Hellpop65   \n6           3098            0        latarnik.52897       Latarnik   \n14           154            0   swungomonkey.698859   swungomonkey   \n18            10            0     samurai221.575106     samurai221   \n20           231            0  friedgold2112.672227  FriedGold2112   \n..           ...          ...                   ...            ...   \n518          164            0       rpopescu.566103       rpopescu   \n523            4            0   craftbeernut.669575   CraftBeerNut   \n530          996            0          bf_89.740295          Bf_89   \n532           53            0      danielfda.778336      danielfda   \n541          120            0             sjjn.6634           sjjn   \n\n           joined                   location  \n5    1.131966e+09      United States, Kansas  \n6    1.133521e+09  United States, New Jersey  \n14   1.350122e+09                        NaN  \n18   1.299150e+09    United States, Virginia  \n20   1.334225e+09                        NaN  \n..            ...                        ...  \n518  1.297508e+09                Netherlands  \n523  1.332842e+09                        NaN  \n530  1.373018e+09                     Canada  \n532  1.390648e+09                      Italy  \n541  1.086343e+09    United States, New York  \n\n[100 rows x 6 columns]",
      "text/html": "<div>\n<style scoped>\n    .dataframe tbody tr th:only-of-type {\n        vertical-align: middle;\n    }\n\n    .dataframe tbody tr th {\n        vertical-align: top;\n    }\n\n    .dataframe thead th {\n        text-align: right;\n    }\n</style>\n<table border=\"1\" class=\"dataframe\">\n  <thead>\n    <tr style=\"text-align: right;\">\n      <th></th>\n      <th>nbr_ratings</th>\n      <th>nbr_reviews</th>\n      <th>user_id</th>\n      <th>user_name</th>\n      <th>joined</th>\n      <th>location</th>\n    </tr>\n  </thead>\n  <tbody>\n    <tr>\n      <th>5</th>\n      <td>2326</td>\n      <td>0</td>\n      <td>hellpop65.48993</td>\n      <td>Hellpop65</td>\n      <td>1.131966e+09</td>\n      <td>United States, Kansas</td>\n    </tr>\n    <tr>\n      <th>6</th>\n      <td>3098</td>\n      <td>0</td>\n      <td>latarnik.52897</td>\n      <td>Latarnik</td>\n      <td>1.133521e+09</td>\n      <td>United States, New Jersey</td>\n    </tr>\n    <tr>\n      <th>14</th>\n      <td>154</td>\n      <td>0</td>\n      <td>swungomonkey.698859</td>\n      <td>swungomonkey</td>\n      <td>1.350122e+09</td>\n      <td>NaN</td>\n    </tr>\n    <tr>\n      <th>18</th>\n      <td>10</td>\n      <td>0</td>\n      <td>samurai221.575106</td>\n      <td>samurai221</td>\n      <td>1.299150e+09</td>\n      <td>United States, Virginia</td>\n    </tr>\n    <tr>\n      <th>20</th>\n      <td>231</td>\n      <td>0</td>\n      <td>friedgold2112.672227</td>\n      <td>FriedGold2112</td>\n      <td>1.334225e+09</td>\n      <td>NaN</td>\n    </tr>\n    <tr>\n      <th>...</th>\n      <td>...</td>\n      <td>...</td>\n      <td>...</td>\n      <td>...</td>\n      <td>...</td>\n      <td>...</td>\n    </tr>\n    <tr>\n      <th>518</th>\n      <td>164</td>\n      <td>0</td>\n      <td>rpopescu.566103</td>\n      <td>rpopescu</td>\n      <td>1.297508e+09</td>\n      <td>Netherlands</td>\n    </tr>\n    <tr>\n      <th>523</th>\n      <td>4</td>\n      <td>0</td>\n      <td>craftbeernut.669575</td>\n      <td>CraftBeerNut</td>\n      <td>1.332842e+09</td>\n      <td>NaN</td>\n    </tr>\n    <tr>\n      <th>530</th>\n      <td>996</td>\n      <td>0</td>\n      <td>bf_89.740295</td>\n      <td>Bf_89</td>\n      <td>1.373018e+09</td>\n      <td>Canada</td>\n    </tr>\n    <tr>\n      <th>532</th>\n      <td>53</td>\n      <td>0</td>\n      <td>danielfda.778336</td>\n      <td>danielfda</td>\n      <td>1.390648e+09</td>\n      <td>Italy</td>\n    </tr>\n    <tr>\n      <th>541</th>\n      <td>120</td>\n      <td>0</td>\n      <td>sjjn.6634</td>\n      <td>sjjn</td>\n      <td>1.086343e+09</td>\n      <td>United States, New York</td>\n    </tr>\n  </tbody>\n</table>\n<p>100 rows × 6 columns</p>\n</div>"
     },
     "execution_count": 41,
     "metadata": {},
     "output_type": "execute_result"
    }
   ],
   "source": [
    "ba_users = pd.read_csv(BeerAdvocate+'users.csv')\n",
    "ba_users = ba_users[(ba_users['nbr_ratings']>0) & (ba_users['nbr_reviews']==0)]\n",
    "ba_users.head(100)"
   ],
   "metadata": {
    "collapsed": false,
    "pycharm": {
     "name": "#%%\n"
    }
   }
  },
  {
   "cell_type": "code",
   "execution_count": null,
   "outputs": [],
   "source": [
    "## RateBeer\n"
   ],
   "metadata": {
    "collapsed": false,
    "pycharm": {
     "name": "#%%\n"
    }
   }
  }
 ],
 "metadata": {
  "kernelspec": {
   "display_name": "Python 3",
   "language": "python",
   "name": "python3"
  },
  "language_info": {
   "codemirror_mode": {
    "name": "ipython",
    "version": 2
   },
   "file_extension": ".py",
   "mimetype": "text/x-python",
   "name": "python",
   "nbconvert_exporter": "python",
   "pygments_lexer": "ipython2",
   "version": "2.7.6"
  }
 },
 "nbformat": 4,
 "nbformat_minor": 0
}