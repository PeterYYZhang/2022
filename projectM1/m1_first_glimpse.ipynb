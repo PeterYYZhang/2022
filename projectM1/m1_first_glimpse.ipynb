{
 "cells": [
  {
   "cell_type": "code",
   "execution_count": null,
   "metadata": {
    "collapsed": true,
    "pycharm": {
     "name": "#%%\n"
    }
   },
   "outputs": [],
   "source": [
    "# The root dir\n",
    "root = '../projectM1/'\n",
    "# some names for simplicity\n",
    "BeerAdvocate = root+'BeerAdvocate/'\n",
    "matched_beer_data = root+'matched_beer_data/'\n",
    "RateBeer = root+'RateBeer/'"
   ]
  },
  {
   "cell_type": "markdown",
   "source": [
    "## This part is some import parts that may be useful later"
   ],
   "metadata": {
    "collapsed": false,
    "pycharm": {
     "name": "#%% md\n"
    }
   }
  },
  {
   "cell_type": "code",
   "execution_count": null,
   "outputs": [],
   "source": [
    "# import some necessary libraries\n",
    "import os\n",
    "import numpy as np\n",
    "import pandas as pd\n",
    "import matplotlib.pyplot as plt\n",
    "from ipywidgets import interact\n",
    "%matplotlib inline"
   ],
   "metadata": {
    "collapsed": false,
    "pycharm": {
     "name": "#%%\n"
    }
   }
  },
  {
   "cell_type": "markdown",
   "source": [
    "## BeerAdvocate"
   ],
   "metadata": {
    "collapsed": false,
    "pycharm": {
     "name": "#%% md\n"
    }
   }
  },
  {
   "cell_type": "code",
   "execution_count": null,
   "outputs": [],
   "source": [
    "ba_beers = pd.read_csv(BeerAdvocate+'beers.csv')\n",
    "# drop the NaN values\n",
    "ba_beers = ba_beers.dropna(axis=0, how=\"any\")\n",
    "ba_beers.head(10)"
   ],
   "metadata": {
    "collapsed": false,
    "pycharm": {
     "name": "#%%\n"
    }
   }
  },
  {
   "cell_type": "code",
   "execution_count": null,
   "outputs": [],
   "source": [
    "ba_breweries = pd.read_csv(BeerAdvocate+'breweries.csv')\n",
    "ba_breweries.head(100)"
   ],
   "metadata": {
    "collapsed": false,
    "pycharm": {
     "name": "#%%\n"
    }
   }
  },
  {
   "cell_type": "code",
   "execution_count": null,
   "outputs": [],
   "source": [
    "ba_users = pd.read_csv(BeerAdvocate+'users.csv')\n",
    "ba_users = ba_users[(ba_users['nbr_ratings']>0) & (ba_users['nbr_reviews']==0)]\n",
    "ba_users.head(100)"
   ],
   "metadata": {
    "collapsed": false,
    "pycharm": {
     "name": "#%%\n"
    }
   }
  },
  {
   "cell_type": "markdown",
   "source": [
    "txt to csv"
   ],
   "metadata": {
    "collapsed": false,
    "pycharm": {
     "name": "#%% md\n"
    }
   }
  },
  {
   "cell_type": "code",
   "execution_count": 10,
   "outputs": [
    {
     "name": "stdout",
     "output_type": "stream",
     "text": [
      "../projectM1/matched_beer_data/\n"
     ]
    }
   ],
   "source": [
    "print(matched_beer_data)"
   ],
   "metadata": {
    "collapsed": false,
    "pycharm": {
     "name": "#%%\n"
    }
   }
  },
  {
   "cell_type": "code",
   "execution_count": 17,
   "outputs": [
    {
     "data": {
      "text/plain": "    abv  appearance  aroma  beer_id  \\\n0  11.3         4.5    4.5      645   \n1   5.0         NaN    NaN    28191   \n2   5.0         3.5    3.5    57911   \n3   5.0         4.0    3.5    57913   \n4   6.0         4.0    4.0    81125   \n\n                                       beer_name  brewery_id  \\\n0                        Trappistes Rochefort 10         207   \n1                             Myanmar Lager Beer        9369   \n2  Cantillon Tyrnilambic Baie D’Argousier Lambic         388   \n3              Cantillon Pikkulinnun Viskilambic         388   \n4     Drie Fonteinen Oude Geuze - Armand & Tommy        2216   \n\n                     brewery_name        date  overall  palate  ...  \\\n0          Brasserie de Rochefort  1324810800      5.0     4.5  ...   \n1  Myanmar Brewery and Distillery  1322650800      NaN     NaN  ...   \n2             Brasserie Cantillon  1344074400      4.0     4.0  ...   \n3             Brasserie Cantillon  1344074400      4.0     4.0  ...   \n4           Brouwerij 3 Fonteinen  1346234400      4.0     4.0  ...   \n\n                   brewery_name.1      date.1 overall.1  palate.1 rating.1  \\\n0             Brasserie Rochefort  1387710000      19.0       4.0      4.6   \n1  Myanmar Brewery and Distillery  1322564400       6.0       2.0      1.7   \n2                       Cantillon  1353582000      17.0       4.0      4.1   \n3                       Cantillon  1416222000      16.0       4.0      4.1   \n4           Brouwerij 3 Fonteinen  1345284000      16.0       4.0      4.0   \n\n                    style.1 taste.1  \\\n0             Abt/Quadrupel     9.0   \n1                Pale Lager     4.0   \n2      Lambic Style - Fruit     8.0   \n3  Lambic Style - Unblended     9.0   \n4     Lambic Style - Gueuze     8.0   \n\n                                              text.1  user_id.1  user_name.1  \n0   a)  Geruch malzig-schwer-sÃ¼Ã. Riecht schon ...      83106     Erzengel  \n1  Can. Weak and watery, not the best beer of the...      91324  visionthing  \n2  Bottle @ One Pint Pub, Helsinki. Originally ra...      98624        tiong  \n3  Draught @Â Pikkulintu, Helsinki, Finland. A pr...      98624        tiong  \n4  750ml bottleBottling date: 2011/02/17 - Pours ...      98624        tiong  \n\n[5 rows x 33 columns]",
      "text/html": "<div>\n<style scoped>\n    .dataframe tbody tr th:only-of-type {\n        vertical-align: middle;\n    }\n\n    .dataframe tbody tr th {\n        vertical-align: top;\n    }\n\n    .dataframe thead th {\n        text-align: right;\n    }\n</style>\n<table border=\"1\" class=\"dataframe\">\n  <thead>\n    <tr style=\"text-align: right;\">\n      <th></th>\n      <th>abv</th>\n      <th>appearance</th>\n      <th>aroma</th>\n      <th>beer_id</th>\n      <th>beer_name</th>\n      <th>brewery_id</th>\n      <th>brewery_name</th>\n      <th>date</th>\n      <th>overall</th>\n      <th>palate</th>\n      <th>...</th>\n      <th>brewery_name.1</th>\n      <th>date.1</th>\n      <th>overall.1</th>\n      <th>palate.1</th>\n      <th>rating.1</th>\n      <th>style.1</th>\n      <th>taste.1</th>\n      <th>text.1</th>\n      <th>user_id.1</th>\n      <th>user_name.1</th>\n    </tr>\n  </thead>\n  <tbody>\n    <tr>\n      <th>0</th>\n      <td>11.3</td>\n      <td>4.5</td>\n      <td>4.5</td>\n      <td>645</td>\n      <td>Trappistes Rochefort 10</td>\n      <td>207</td>\n      <td>Brasserie de Rochefort</td>\n      <td>1324810800</td>\n      <td>5.0</td>\n      <td>4.5</td>\n      <td>...</td>\n      <td>Brasserie Rochefort</td>\n      <td>1387710000</td>\n      <td>19.0</td>\n      <td>4.0</td>\n      <td>4.6</td>\n      <td>Abt/Quadrupel</td>\n      <td>9.0</td>\n      <td>a)  Geruch malzig-schwer-sÃ¼Ã. Riecht schon ...</td>\n      <td>83106</td>\n      <td>Erzengel</td>\n    </tr>\n    <tr>\n      <th>1</th>\n      <td>5.0</td>\n      <td>NaN</td>\n      <td>NaN</td>\n      <td>28191</td>\n      <td>Myanmar Lager Beer</td>\n      <td>9369</td>\n      <td>Myanmar Brewery and Distillery</td>\n      <td>1322650800</td>\n      <td>NaN</td>\n      <td>NaN</td>\n      <td>...</td>\n      <td>Myanmar Brewery and Distillery</td>\n      <td>1322564400</td>\n      <td>6.0</td>\n      <td>2.0</td>\n      <td>1.7</td>\n      <td>Pale Lager</td>\n      <td>4.0</td>\n      <td>Can. Weak and watery, not the best beer of the...</td>\n      <td>91324</td>\n      <td>visionthing</td>\n    </tr>\n    <tr>\n      <th>2</th>\n      <td>5.0</td>\n      <td>3.5</td>\n      <td>3.5</td>\n      <td>57911</td>\n      <td>Cantillon Tyrnilambic Baie D’Argousier Lambic</td>\n      <td>388</td>\n      <td>Brasserie Cantillon</td>\n      <td>1344074400</td>\n      <td>4.0</td>\n      <td>4.0</td>\n      <td>...</td>\n      <td>Cantillon</td>\n      <td>1353582000</td>\n      <td>17.0</td>\n      <td>4.0</td>\n      <td>4.1</td>\n      <td>Lambic Style - Fruit</td>\n      <td>8.0</td>\n      <td>Bottle @ One Pint Pub, Helsinki. Originally ra...</td>\n      <td>98624</td>\n      <td>tiong</td>\n    </tr>\n    <tr>\n      <th>3</th>\n      <td>5.0</td>\n      <td>4.0</td>\n      <td>3.5</td>\n      <td>57913</td>\n      <td>Cantillon Pikkulinnun Viskilambic</td>\n      <td>388</td>\n      <td>Brasserie Cantillon</td>\n      <td>1344074400</td>\n      <td>4.0</td>\n      <td>4.0</td>\n      <td>...</td>\n      <td>Cantillon</td>\n      <td>1416222000</td>\n      <td>16.0</td>\n      <td>4.0</td>\n      <td>4.1</td>\n      <td>Lambic Style - Unblended</td>\n      <td>9.0</td>\n      <td>Draught @Â Pikkulintu, Helsinki, Finland. A pr...</td>\n      <td>98624</td>\n      <td>tiong</td>\n    </tr>\n    <tr>\n      <th>4</th>\n      <td>6.0</td>\n      <td>4.0</td>\n      <td>4.0</td>\n      <td>81125</td>\n      <td>Drie Fonteinen Oude Geuze - Armand &amp; Tommy</td>\n      <td>2216</td>\n      <td>Brouwerij 3 Fonteinen</td>\n      <td>1346234400</td>\n      <td>4.0</td>\n      <td>4.0</td>\n      <td>...</td>\n      <td>Brouwerij 3 Fonteinen</td>\n      <td>1345284000</td>\n      <td>16.0</td>\n      <td>4.0</td>\n      <td>4.0</td>\n      <td>Lambic Style - Gueuze</td>\n      <td>8.0</td>\n      <td>750ml bottleBottling date: 2011/02/17 - Pours ...</td>\n      <td>98624</td>\n      <td>tiong</td>\n    </tr>\n  </tbody>\n</table>\n<p>5 rows × 33 columns</p>\n</div>"
     },
     "execution_count": 17,
     "metadata": {},
     "output_type": "execute_result"
    }
   ],
   "source": [
    "ratings_matched = pd.read_csv(matched_beer_data+'ratings.csv', skiprows=1)\n",
    "ratings_matched.head()"
   ],
   "metadata": {
    "collapsed": false,
    "pycharm": {
     "name": "#%%\n"
    }
   }
  },
  {
   "cell_type": "code",
   "execution_count": 24,
   "outputs": [
    {
     "data": {
      "text/plain": "21964"
     },
     "execution_count": 24,
     "metadata": {},
     "output_type": "execute_result"
    }
   ],
   "source": [
    "len(ratings_matched)"
   ],
   "metadata": {
    "collapsed": false,
    "pycharm": {
     "name": "#%%\n"
    }
   }
  },
  {
   "cell_type": "code",
   "execution_count": 25,
   "outputs": [
    {
     "data": {
      "text/plain": "19708"
     },
     "execution_count": 25,
     "metadata": {},
     "output_type": "execute_result"
    }
   ],
   "source": [
    "len(ratings_matched[ratings_matched['user_name']==ratings_matched['user_name.1']])"
   ],
   "metadata": {
    "collapsed": false,
    "pycharm": {
     "name": "#%%\n"
    }
   }
  },
  {
   "cell_type": "code",
   "execution_count": 26,
   "outputs": [
    {
     "data": {
      "text/plain": "        abv  appearance  aroma  beer_id  \\\n7       6.0        4.25   4.25   171095   \n8       6.5        4.75   4.75    81697   \n9      12.0        4.00   4.00    76421   \n10      9.1        4.75   4.75   237682   \n11      8.2        4.25   4.50   115317   \n...     ...         ...    ...      ...   \n21948   5.3        3.00   3.00    68714   \n21951   5.5         NaN    NaN    81814   \n21952   3.8        4.00   4.00   122625   \n21953   7.0        4.75   5.00   225942   \n21961   5.2         NaN    NaN      349   \n\n                                               beer_name  brewery_id  \\\n7      Lindemans Oude Gueuze Cuvée René Special Blend...         187   \n8                                                    Ann       22511   \n9                                        Mornin' Delight       23222   \n10                Beavertown / Boneyard Bloody Notorious       30471   \n11                                                Dinner       20681   \n...                                                  ...         ...   \n21948                                           5 Rabbit       25544   \n21951                                       Akari Shogun       18006   \n21952                                             Fierce       31678   \n21953                                        Juice Pants       37139   \n21961                                            Jupiler         134   \n\n                           brewery_name        date  overall  palate  ...  \\\n7                   Brouwerij Lindemans  1438164000     4.25    4.25  ...   \n8                Hill Farmstead Brewery  1384858800     4.75    4.75  ...   \n9      Toppling Goliath Brewing Company  1456830000     4.00    4.00  ...   \n10                   Beavertown Brewery  1467021600     4.75    4.75  ...   \n11                   Maine Beer Company  1458298800     4.25    4.25  ...   \n...                                 ...         ...      ...     ...  ...   \n21948               5 Rabbit Cerveceria  1393153200     3.00    2.75  ...   \n21951            Half Acre Beer Company  1401530400      NaN     NaN  ...   \n21952                 Off Color Brewing  1421060400     4.00    3.75  ...   \n21953    Maplewood Brewery & Distillery  1461319200     5.00    5.00  ...   \n21961               Brasserie Piedboeuf  1393239600      NaN     NaN  ...   \n\n                       brewery_name.1      date.1 overall.1  palate.1  \\\n7                 Brouwerij Lindemans  1438164000      18.0       4.0   \n8              Hill Farmstead Brewery  1351159200      19.0       5.0   \n9                    Toppling Goliath  1455620400      17.0       3.0   \n10                 Beavertown Brewery  1468058400      18.0       5.0   \n11                 Maine Beer Company  1444298400      18.0       4.0   \n...                               ...         ...       ...       ...   \n21948             5 Rabbit Cerveceria  1392202800      10.0       3.0   \n21951          Half Acre Beer Company  1466589600      17.0       4.0   \n21952               Off Color Brewing  1467021600      17.0       4.0   \n21953  Maplewood Brewery & Distillery  1462356000      20.0       5.0   \n21961     Brasserie Piedboeuf (InBev)  1393153200       1.0       1.0   \n\n      rating.1                style.1 taste.1  \\\n7          4.3  Lambic Style - Gueuze     8.0   \n8          4.6                 Saison     9.0   \n9          4.0         Imperial Stout     8.0   \n10         4.6           Imperial IPA    10.0   \n11         4.4           Imperial IPA     9.0   \n...        ...                    ...     ...   \n21948      2.4   Golden Ale/Blond Ale     5.0   \n21951      3.8              Wheat Ale     7.0   \n21952      4.1        Berliner Weisse     9.0   \n21953      5.0   India Pale Ale (IPA)    10.0   \n21961      1.2             Pale Lager     2.0   \n\n                                                  text.1  user_id.1  \\\n7      Bottle shared in London - many thanks to Paul....      74136   \n8      Bottle at THE Sour and Saison Tasting, London....      74136   \n9      Draft at RateBeer Best 2016. Pours oily black ...      74136   \n10     Keg at the brewery. Pours just slightly hazy y...      74136   \n11     Bottle shared in London - many thanks to Paul....      74136   \n...                                                  ...        ...   \n21948  Picked this beer up because it is a local brew...     301636   \n21951  Nice hop aroma and flavor. Light and crisp. A ...     402417   \n21952  subtle aroma with a subtle lacto hint to it. F...     402417   \n21953  Perfect IPA. Itâs cloudy from the hops and t...     402417   \n21961  Biere, foin, pain grillÃ©, terreux, banane, ca...     304802   \n\n           user_name.1  \n7             Leighton  \n8             Leighton  \n9             Leighton  \n10            Leighton  \n11            Leighton  \n...                ...  \n21948  Gangstafaceclay  \n21951       buttermilk  \n21952       buttermilk  \n21953       buttermilk  \n21961        maxilouis  \n\n[2256 rows x 33 columns]",
      "text/html": "<div>\n<style scoped>\n    .dataframe tbody tr th:only-of-type {\n        vertical-align: middle;\n    }\n\n    .dataframe tbody tr th {\n        vertical-align: top;\n    }\n\n    .dataframe thead th {\n        text-align: right;\n    }\n</style>\n<table border=\"1\" class=\"dataframe\">\n  <thead>\n    <tr style=\"text-align: right;\">\n      <th></th>\n      <th>abv</th>\n      <th>appearance</th>\n      <th>aroma</th>\n      <th>beer_id</th>\n      <th>beer_name</th>\n      <th>brewery_id</th>\n      <th>brewery_name</th>\n      <th>date</th>\n      <th>overall</th>\n      <th>palate</th>\n      <th>...</th>\n      <th>brewery_name.1</th>\n      <th>date.1</th>\n      <th>overall.1</th>\n      <th>palate.1</th>\n      <th>rating.1</th>\n      <th>style.1</th>\n      <th>taste.1</th>\n      <th>text.1</th>\n      <th>user_id.1</th>\n      <th>user_name.1</th>\n    </tr>\n  </thead>\n  <tbody>\n    <tr>\n      <th>7</th>\n      <td>6.0</td>\n      <td>4.25</td>\n      <td>4.25</td>\n      <td>171095</td>\n      <td>Lindemans Oude Gueuze Cuvée René Special Blend...</td>\n      <td>187</td>\n      <td>Brouwerij Lindemans</td>\n      <td>1438164000</td>\n      <td>4.25</td>\n      <td>4.25</td>\n      <td>...</td>\n      <td>Brouwerij Lindemans</td>\n      <td>1438164000</td>\n      <td>18.0</td>\n      <td>4.0</td>\n      <td>4.3</td>\n      <td>Lambic Style - Gueuze</td>\n      <td>8.0</td>\n      <td>Bottle shared in London - many thanks to Paul....</td>\n      <td>74136</td>\n      <td>Leighton</td>\n    </tr>\n    <tr>\n      <th>8</th>\n      <td>6.5</td>\n      <td>4.75</td>\n      <td>4.75</td>\n      <td>81697</td>\n      <td>Ann</td>\n      <td>22511</td>\n      <td>Hill Farmstead Brewery</td>\n      <td>1384858800</td>\n      <td>4.75</td>\n      <td>4.75</td>\n      <td>...</td>\n      <td>Hill Farmstead Brewery</td>\n      <td>1351159200</td>\n      <td>19.0</td>\n      <td>5.0</td>\n      <td>4.6</td>\n      <td>Saison</td>\n      <td>9.0</td>\n      <td>Bottle at THE Sour and Saison Tasting, London....</td>\n      <td>74136</td>\n      <td>Leighton</td>\n    </tr>\n    <tr>\n      <th>9</th>\n      <td>12.0</td>\n      <td>4.00</td>\n      <td>4.00</td>\n      <td>76421</td>\n      <td>Mornin' Delight</td>\n      <td>23222</td>\n      <td>Toppling Goliath Brewing Company</td>\n      <td>1456830000</td>\n      <td>4.00</td>\n      <td>4.00</td>\n      <td>...</td>\n      <td>Toppling Goliath</td>\n      <td>1455620400</td>\n      <td>17.0</td>\n      <td>3.0</td>\n      <td>4.0</td>\n      <td>Imperial Stout</td>\n      <td>8.0</td>\n      <td>Draft at RateBeer Best 2016. Pours oily black ...</td>\n      <td>74136</td>\n      <td>Leighton</td>\n    </tr>\n    <tr>\n      <th>10</th>\n      <td>9.1</td>\n      <td>4.75</td>\n      <td>4.75</td>\n      <td>237682</td>\n      <td>Beavertown / Boneyard Bloody Notorious</td>\n      <td>30471</td>\n      <td>Beavertown Brewery</td>\n      <td>1467021600</td>\n      <td>4.75</td>\n      <td>4.75</td>\n      <td>...</td>\n      <td>Beavertown Brewery</td>\n      <td>1468058400</td>\n      <td>18.0</td>\n      <td>5.0</td>\n      <td>4.6</td>\n      <td>Imperial IPA</td>\n      <td>10.0</td>\n      <td>Keg at the brewery. Pours just slightly hazy y...</td>\n      <td>74136</td>\n      <td>Leighton</td>\n    </tr>\n    <tr>\n      <th>11</th>\n      <td>8.2</td>\n      <td>4.25</td>\n      <td>4.50</td>\n      <td>115317</td>\n      <td>Dinner</td>\n      <td>20681</td>\n      <td>Maine Beer Company</td>\n      <td>1458298800</td>\n      <td>4.25</td>\n      <td>4.25</td>\n      <td>...</td>\n      <td>Maine Beer Company</td>\n      <td>1444298400</td>\n      <td>18.0</td>\n      <td>4.0</td>\n      <td>4.4</td>\n      <td>Imperial IPA</td>\n      <td>9.0</td>\n      <td>Bottle shared in London - many thanks to Paul....</td>\n      <td>74136</td>\n      <td>Leighton</td>\n    </tr>\n    <tr>\n      <th>...</th>\n      <td>...</td>\n      <td>...</td>\n      <td>...</td>\n      <td>...</td>\n      <td>...</td>\n      <td>...</td>\n      <td>...</td>\n      <td>...</td>\n      <td>...</td>\n      <td>...</td>\n      <td>...</td>\n      <td>...</td>\n      <td>...</td>\n      <td>...</td>\n      <td>...</td>\n      <td>...</td>\n      <td>...</td>\n      <td>...</td>\n      <td>...</td>\n      <td>...</td>\n      <td>...</td>\n    </tr>\n    <tr>\n      <th>21948</th>\n      <td>5.3</td>\n      <td>3.00</td>\n      <td>3.00</td>\n      <td>68714</td>\n      <td>5 Rabbit</td>\n      <td>25544</td>\n      <td>5 Rabbit Cerveceria</td>\n      <td>1393153200</td>\n      <td>3.00</td>\n      <td>2.75</td>\n      <td>...</td>\n      <td>5 Rabbit Cerveceria</td>\n      <td>1392202800</td>\n      <td>10.0</td>\n      <td>3.0</td>\n      <td>2.4</td>\n      <td>Golden Ale/Blond Ale</td>\n      <td>5.0</td>\n      <td>Picked this beer up because it is a local brew...</td>\n      <td>301636</td>\n      <td>Gangstafaceclay</td>\n    </tr>\n    <tr>\n      <th>21951</th>\n      <td>5.5</td>\n      <td>NaN</td>\n      <td>NaN</td>\n      <td>81814</td>\n      <td>Akari Shogun</td>\n      <td>18006</td>\n      <td>Half Acre Beer Company</td>\n      <td>1401530400</td>\n      <td>NaN</td>\n      <td>NaN</td>\n      <td>...</td>\n      <td>Half Acre Beer Company</td>\n      <td>1466589600</td>\n      <td>17.0</td>\n      <td>4.0</td>\n      <td>3.8</td>\n      <td>Wheat Ale</td>\n      <td>7.0</td>\n      <td>Nice hop aroma and flavor. Light and crisp. A ...</td>\n      <td>402417</td>\n      <td>buttermilk</td>\n    </tr>\n    <tr>\n      <th>21952</th>\n      <td>3.8</td>\n      <td>4.00</td>\n      <td>4.00</td>\n      <td>122625</td>\n      <td>Fierce</td>\n      <td>31678</td>\n      <td>Off Color Brewing</td>\n      <td>1421060400</td>\n      <td>4.00</td>\n      <td>3.75</td>\n      <td>...</td>\n      <td>Off Color Brewing</td>\n      <td>1467021600</td>\n      <td>17.0</td>\n      <td>4.0</td>\n      <td>4.1</td>\n      <td>Berliner Weisse</td>\n      <td>9.0</td>\n      <td>subtle aroma with a subtle lacto hint to it. F...</td>\n      <td>402417</td>\n      <td>buttermilk</td>\n    </tr>\n    <tr>\n      <th>21953</th>\n      <td>7.0</td>\n      <td>4.75</td>\n      <td>5.00</td>\n      <td>225942</td>\n      <td>Juice Pants</td>\n      <td>37139</td>\n      <td>Maplewood Brewery &amp; Distillery</td>\n      <td>1461319200</td>\n      <td>5.00</td>\n      <td>5.00</td>\n      <td>...</td>\n      <td>Maplewood Brewery &amp; Distillery</td>\n      <td>1462356000</td>\n      <td>20.0</td>\n      <td>5.0</td>\n      <td>5.0</td>\n      <td>India Pale Ale (IPA)</td>\n      <td>10.0</td>\n      <td>Perfect IPA. Itâs cloudy from the hops and t...</td>\n      <td>402417</td>\n      <td>buttermilk</td>\n    </tr>\n    <tr>\n      <th>21961</th>\n      <td>5.2</td>\n      <td>NaN</td>\n      <td>NaN</td>\n      <td>349</td>\n      <td>Jupiler</td>\n      <td>134</td>\n      <td>Brasserie Piedboeuf</td>\n      <td>1393239600</td>\n      <td>NaN</td>\n      <td>NaN</td>\n      <td>...</td>\n      <td>Brasserie Piedboeuf (InBev)</td>\n      <td>1393153200</td>\n      <td>1.0</td>\n      <td>1.0</td>\n      <td>1.2</td>\n      <td>Pale Lager</td>\n      <td>2.0</td>\n      <td>Biere, foin, pain grillÃ©, terreux, banane, ca...</td>\n      <td>304802</td>\n      <td>maxilouis</td>\n    </tr>\n  </tbody>\n</table>\n<p>2256 rows × 33 columns</p>\n</div>"
     },
     "execution_count": 26,
     "metadata": {},
     "output_type": "execute_result"
    }
   ],
   "source": [
    "ratings_matched[ratings_matched['user_name']!=ratings_matched['user_name.1']]"
   ],
   "metadata": {
    "collapsed": false,
    "pycharm": {
     "name": "#%%\n"
    }
   }
  },
  {
   "cell_type": "code",
   "execution_count": 27,
   "outputs": [
    {
     "data": {
      "text/plain": "abv                 187\nappearance           17\naroma                17\nbeer_id            9025\nbeer_name          8719\nbrewery_id         2230\nbrewery_name       2230\ndate               4622\noverall              17\npalate               17\nrating              377\nreview                1\nstyle               104\ntaste                17\ntext              18275\nuser_id             879\nuser_name           879\nabv.1               187\nappearance.1          5\naroma.1              10\nbeer_id.1          9025\nbeer_name.1        9025\nbrewery_id.1       2230\nbrewery_name.1     2230\ndate.1             4605\noverall.1            20\npalate.1              5\nrating.1             46\nstyle.1              79\ntaste.1              10\ntext.1            21959\nuser_id.1           879\nuser_name.1         879\ndtype: int64"
     },
     "execution_count": 27,
     "metadata": {},
     "output_type": "execute_result"
    }
   ],
   "source": [
    "ratings_matched.nunique()"
   ],
   "metadata": {
    "collapsed": false,
    "pycharm": {
     "name": "#%%\n"
    }
   }
  },
  {
   "cell_type": "code",
   "execution_count": null,
   "outputs": [],
   "source": [],
   "metadata": {
    "collapsed": false,
    "pycharm": {
     "name": "#%%\n"
    }
   }
  }
 ],
 "metadata": {
  "kernelspec": {
   "display_name": "Python 3",
   "language": "python",
   "name": "python3"
  },
  "language_info": {
   "codemirror_mode": {
    "name": "ipython",
    "version": 2
   },
   "file_extension": ".py",
   "mimetype": "text/x-python",
   "name": "python",
   "nbconvert_exporter": "python",
   "pygments_lexer": "ipython2",
   "version": "2.7.6"
  }
 },
 "nbformat": 4,
 "nbformat_minor": 0
}