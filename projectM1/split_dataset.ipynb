{
 "cells": [
  {
   "cell_type": "code",
   "execution_count": 1,
   "metadata": {
    "collapsed": true,
    "pycharm": {
     "name": "#%%\n"
    }
   },
   "outputs": [],
   "source": [
    "import numpy as np\n",
    "import pandas as pd\n",
    "import matplotlib.pyplot as plt\n",
    "import os\n",
    "%matplotlib inline"
   ]
  },
  {
   "cell_type": "code",
   "execution_count": 2,
   "outputs": [
    {
     "name": "stdout",
     "output_type": "stream",
     "text": [
      "/Users/zhangyuyao/Desktop/Exchange EPFL/2022/projectM1\r\n"
     ]
    }
   ],
   "source": [
    "!pwd"
   ],
   "metadata": {
    "collapsed": false,
    "pycharm": {
     "name": "#%%\n"
    }
   }
  },
  {
   "cell_type": "code",
   "execution_count": 3,
   "outputs": [],
   "source": [
    "data_root = 'ratings/'\n",
    "ba = os.path.join(data_root + \"data_ba/\")\n",
    "rb = os.path.join(data_root + \"data_rb/\")"
   ],
   "metadata": {
    "collapsed": false,
    "pycharm": {
     "name": "#%%\n"
    }
   }
  },
  {
   "cell_type": "code",
   "execution_count": 4,
   "outputs": [
    {
     "data": {
      "text/plain": "               beer_name  beer_id                               brewery_name  \\\n0                  Régab   142544  Societe des Brasseries du Gabon (SOBRAGA)   \n1          Barelegs Brew    19590       Strangford Lough Brewing Company Ltd   \n2          Barelegs Brew    19590       Strangford Lough Brewing Company Ltd   \n3          Barelegs Brew    19590       Strangford Lough Brewing Company Ltd   \n4          Barelegs Brew    19590       Strangford Lough Brewing Company Ltd   \n...                  ...      ...                                        ...   \n499995  Schell's Maifest     2268              August Schell Brewing Company   \n499996  Schell's Maifest     2268              August Schell Brewing Company   \n499997  Schell's Maifest     2268              August Schell Brewing Company   \n499998  Schell's Maifest     2268              August Schell Brewing Company   \n499999  Schell's Maifest     2268              August Schell Brewing Company   \n\n        brewery_id                  style  abv        date        user_name  \\\n0            37262        Euro Pale Lager  4.5  1440064800          nmann08   \n1            10093       English Pale Ale  4.5  1235127600      StJamesGate   \n2            10093       English Pale Ale  4.5  1142247600          mdagnew   \n3            10093       English Pale Ale  4.5  1101898800  helloloser12345   \n4            10093       English Pale Ale  4.5  1093860000       cypressbob   \n...            ...                    ...  ...         ...              ...   \n499995         417  Maibock / Helles Bock  6.2  1321441200         doucmehu   \n499996         417  Maibock / Helles Bock  6.2  1306576800    TheQuietMan22   \n499997         417  Maibock / Helles Bock  6.2  1306058400         MattyG85   \n499998         417  Maibock / Helles Bock  6.2  1305972000         PokerGod   \n499999         417  Maibock / Helles Bock  6.2  1303812000   homersimpson67   \n\n                      user_id  appearance  aroma  palate  taste  overall  \\\n0              nmann08.184925        3.25   2.75    3.25   2.75      3.0   \n1          stjamesgate.163714        3.00   3.50    3.50   4.00      3.5   \n2               mdagnew.19527        4.00   3.50    3.50   4.00      3.5   \n3       helloloser12345.10867        4.00   3.50    4.00   4.00      4.5   \n4             cypressbob.3708        4.00   4.00    4.00   4.00      4.0   \n...                       ...         ...    ...     ...    ...      ...   \n499995        doucmehu.433248         NaN    NaN     NaN    NaN      NaN   \n499996   thequietman22.288596        3.00   2.00    3.00   2.00      2.0   \n499997        mattyg85.497925        4.00   4.00    4.00   4.00      4.0   \n499998        pokergod.528714        3.00   4.00    3.50   3.50      3.5   \n499999  homersimpson67.514555        3.50   3.50    3.50   4.00      3.5   \n\n        rating                                               text  review  \n0         2.88  From a bottle, pours a piss yellow color with ...    True  \n1         3.67  Pours pale copper with a thin head that quickl...    True  \n2         3.73  500ml Bottle bought from The Vintage, Antrim.....    True  \n3         3.98                                            Serving    True  \n4         4.00  500ml bottlePours with a light, slightly hazy ...    True  \n...        ...                                                ...     ...  \n499995    4.00                                                NaN   False  \n499996    2.16                                         Appearance    True  \n499997    4.00  Poured from 12 oz. bottle into a Sam Adams pin...    True  \n499998    3.59  12 oz bottle (amber) poured into a Nonic Glass...    True  \n499999    3.70  Pours a nice copper, gold...with a finger of h...    True  \n\n[8393032 rows x 17 columns]",
      "text/html": "<div>\n<style scoped>\n    .dataframe tbody tr th:only-of-type {\n        vertical-align: middle;\n    }\n\n    .dataframe tbody tr th {\n        vertical-align: top;\n    }\n\n    .dataframe thead th {\n        text-align: right;\n    }\n</style>\n<table border=\"1\" class=\"dataframe\">\n  <thead>\n    <tr style=\"text-align: right;\">\n      <th></th>\n      <th>beer_name</th>\n      <th>beer_id</th>\n      <th>brewery_name</th>\n      <th>brewery_id</th>\n      <th>style</th>\n      <th>abv</th>\n      <th>date</th>\n      <th>user_name</th>\n      <th>user_id</th>\n      <th>appearance</th>\n      <th>aroma</th>\n      <th>palate</th>\n      <th>taste</th>\n      <th>overall</th>\n      <th>rating</th>\n      <th>text</th>\n      <th>review</th>\n    </tr>\n  </thead>\n  <tbody>\n    <tr>\n      <th>0</th>\n      <td>Régab</td>\n      <td>142544</td>\n      <td>Societe des Brasseries du Gabon (SOBRAGA)</td>\n      <td>37262</td>\n      <td>Euro Pale Lager</td>\n      <td>4.5</td>\n      <td>1440064800</td>\n      <td>nmann08</td>\n      <td>nmann08.184925</td>\n      <td>3.25</td>\n      <td>2.75</td>\n      <td>3.25</td>\n      <td>2.75</td>\n      <td>3.0</td>\n      <td>2.88</td>\n      <td>From a bottle, pours a piss yellow color with ...</td>\n      <td>True</td>\n    </tr>\n    <tr>\n      <th>1</th>\n      <td>Barelegs Brew</td>\n      <td>19590</td>\n      <td>Strangford Lough Brewing Company Ltd</td>\n      <td>10093</td>\n      <td>English Pale Ale</td>\n      <td>4.5</td>\n      <td>1235127600</td>\n      <td>StJamesGate</td>\n      <td>stjamesgate.163714</td>\n      <td>3.00</td>\n      <td>3.50</td>\n      <td>3.50</td>\n      <td>4.00</td>\n      <td>3.5</td>\n      <td>3.67</td>\n      <td>Pours pale copper with a thin head that quickl...</td>\n      <td>True</td>\n    </tr>\n    <tr>\n      <th>2</th>\n      <td>Barelegs Brew</td>\n      <td>19590</td>\n      <td>Strangford Lough Brewing Company Ltd</td>\n      <td>10093</td>\n      <td>English Pale Ale</td>\n      <td>4.5</td>\n      <td>1142247600</td>\n      <td>mdagnew</td>\n      <td>mdagnew.19527</td>\n      <td>4.00</td>\n      <td>3.50</td>\n      <td>3.50</td>\n      <td>4.00</td>\n      <td>3.5</td>\n      <td>3.73</td>\n      <td>500ml Bottle bought from The Vintage, Antrim.....</td>\n      <td>True</td>\n    </tr>\n    <tr>\n      <th>3</th>\n      <td>Barelegs Brew</td>\n      <td>19590</td>\n      <td>Strangford Lough Brewing Company Ltd</td>\n      <td>10093</td>\n      <td>English Pale Ale</td>\n      <td>4.5</td>\n      <td>1101898800</td>\n      <td>helloloser12345</td>\n      <td>helloloser12345.10867</td>\n      <td>4.00</td>\n      <td>3.50</td>\n      <td>4.00</td>\n      <td>4.00</td>\n      <td>4.5</td>\n      <td>3.98</td>\n      <td>Serving</td>\n      <td>True</td>\n    </tr>\n    <tr>\n      <th>4</th>\n      <td>Barelegs Brew</td>\n      <td>19590</td>\n      <td>Strangford Lough Brewing Company Ltd</td>\n      <td>10093</td>\n      <td>English Pale Ale</td>\n      <td>4.5</td>\n      <td>1093860000</td>\n      <td>cypressbob</td>\n      <td>cypressbob.3708</td>\n      <td>4.00</td>\n      <td>4.00</td>\n      <td>4.00</td>\n      <td>4.00</td>\n      <td>4.0</td>\n      <td>4.00</td>\n      <td>500ml bottlePours with a light, slightly hazy ...</td>\n      <td>True</td>\n    </tr>\n    <tr>\n      <th>...</th>\n      <td>...</td>\n      <td>...</td>\n      <td>...</td>\n      <td>...</td>\n      <td>...</td>\n      <td>...</td>\n      <td>...</td>\n      <td>...</td>\n      <td>...</td>\n      <td>...</td>\n      <td>...</td>\n      <td>...</td>\n      <td>...</td>\n      <td>...</td>\n      <td>...</td>\n      <td>...</td>\n      <td>...</td>\n    </tr>\n    <tr>\n      <th>499995</th>\n      <td>Schell's Maifest</td>\n      <td>2268</td>\n      <td>August Schell Brewing Company</td>\n      <td>417</td>\n      <td>Maibock / Helles Bock</td>\n      <td>6.2</td>\n      <td>1321441200</td>\n      <td>doucmehu</td>\n      <td>doucmehu.433248</td>\n      <td>NaN</td>\n      <td>NaN</td>\n      <td>NaN</td>\n      <td>NaN</td>\n      <td>NaN</td>\n      <td>4.00</td>\n      <td>NaN</td>\n      <td>False</td>\n    </tr>\n    <tr>\n      <th>499996</th>\n      <td>Schell's Maifest</td>\n      <td>2268</td>\n      <td>August Schell Brewing Company</td>\n      <td>417</td>\n      <td>Maibock / Helles Bock</td>\n      <td>6.2</td>\n      <td>1306576800</td>\n      <td>TheQuietMan22</td>\n      <td>thequietman22.288596</td>\n      <td>3.00</td>\n      <td>2.00</td>\n      <td>3.00</td>\n      <td>2.00</td>\n      <td>2.0</td>\n      <td>2.16</td>\n      <td>Appearance</td>\n      <td>True</td>\n    </tr>\n    <tr>\n      <th>499997</th>\n      <td>Schell's Maifest</td>\n      <td>2268</td>\n      <td>August Schell Brewing Company</td>\n      <td>417</td>\n      <td>Maibock / Helles Bock</td>\n      <td>6.2</td>\n      <td>1306058400</td>\n      <td>MattyG85</td>\n      <td>mattyg85.497925</td>\n      <td>4.00</td>\n      <td>4.00</td>\n      <td>4.00</td>\n      <td>4.00</td>\n      <td>4.0</td>\n      <td>4.00</td>\n      <td>Poured from 12 oz. bottle into a Sam Adams pin...</td>\n      <td>True</td>\n    </tr>\n    <tr>\n      <th>499998</th>\n      <td>Schell's Maifest</td>\n      <td>2268</td>\n      <td>August Schell Brewing Company</td>\n      <td>417</td>\n      <td>Maibock / Helles Bock</td>\n      <td>6.2</td>\n      <td>1305972000</td>\n      <td>PokerGod</td>\n      <td>pokergod.528714</td>\n      <td>3.00</td>\n      <td>4.00</td>\n      <td>3.50</td>\n      <td>3.50</td>\n      <td>3.5</td>\n      <td>3.59</td>\n      <td>12 oz bottle (amber) poured into a Nonic Glass...</td>\n      <td>True</td>\n    </tr>\n    <tr>\n      <th>499999</th>\n      <td>Schell's Maifest</td>\n      <td>2268</td>\n      <td>August Schell Brewing Company</td>\n      <td>417</td>\n      <td>Maibock / Helles Bock</td>\n      <td>6.2</td>\n      <td>1303812000</td>\n      <td>homersimpson67</td>\n      <td>homersimpson67.514555</td>\n      <td>3.50</td>\n      <td>3.50</td>\n      <td>3.50</td>\n      <td>4.00</td>\n      <td>3.5</td>\n      <td>3.70</td>\n      <td>Pours a nice copper, gold...with a finger of h...</td>\n      <td>True</td>\n    </tr>\n  </tbody>\n</table>\n<p>8393032 rows × 17 columns</p>\n</div>"
     },
     "execution_count": 4,
     "metadata": {},
     "output_type": "execute_result"
    }
   ],
   "source": [
    "ba_files = os.listdir(ba)\n",
    "ratings_ba = pd.read_csv(ba + ba_files[0])\n",
    "ratings_ba.drop(columns=['Unnamed: 0'], inplace=True)\n",
    "for file in ba_files[1:]:\n",
    "    temp = pd.read_csv(ba + file)\n",
    "    temp.drop(columns=['Unnamed: 0'], inplace=True)\n",
    "    ratings_ba = pd.concat([ratings_ba, temp])\n",
    "ratings_ba"
   ],
   "metadata": {
    "collapsed": false,
    "pycharm": {
     "name": "#%%\n"
    }
   }
  },
  {
   "cell_type": "code",
   "execution_count": 5,
   "outputs": [
    {
     "data": {
      "text/plain": "                                          beer_name  beer_id  brewery_id  \\\nbrewery_name                                                               \n#Freedom Brewery                                  3        3           1   \n'A Magara                                         3        3           1   \n't Hofbrouwerijke                                24       24           1   \n(512) Brewing Company                            57       57           1   \n1 Dampfbierbrauerei Zwiesel GmbH & Co.KG          5        5           1   \n\n                                          style  abv  date  user_name  \\\nbrewery_name                                                            \n#Freedom Brewery                              2    3    13         10   \n'A Magara                                     2    3     3          1   \n't Hofbrouwerijke                            13   13   180        149   \n(512) Brewing Company                        19   20  1418       1344   \n1 Dampfbierbrauerei Zwiesel GmbH & Co.KG      4    3    31         28   \n\n                                          user_id  appearance  aroma  palate  \\\nbrewery_name                                                                   \n#Freedom Brewery                               10           4      6       6   \n'A Magara                                       1           3      2       3   \n't Hofbrouwerijke                             149          10      9      11   \n(512) Brewing Company                        1344          14     15      16   \n1 Dampfbierbrauerei Zwiesel GmbH & Co.KG       28           8      9       9   \n\n                                          taste  overall  rating  text  review  \nbrewery_name                                                                    \n#Freedom Brewery                              4        5       9     4       2  \n'A Magara                                     3        3       3     3       1  \n't Hofbrouwerijke                            10        9      81    75       2  \n(512) Brewing Company                        16       17     206   542       2  \n1 Dampfbierbrauerei Zwiesel GmbH & Co.KG      6        7      28    21       2  ",
      "text/html": "<div>\n<style scoped>\n    .dataframe tbody tr th:only-of-type {\n        vertical-align: middle;\n    }\n\n    .dataframe tbody tr th {\n        vertical-align: top;\n    }\n\n    .dataframe thead th {\n        text-align: right;\n    }\n</style>\n<table border=\"1\" class=\"dataframe\">\n  <thead>\n    <tr style=\"text-align: right;\">\n      <th></th>\n      <th>beer_name</th>\n      <th>beer_id</th>\n      <th>brewery_id</th>\n      <th>style</th>\n      <th>abv</th>\n      <th>date</th>\n      <th>user_name</th>\n      <th>user_id</th>\n      <th>appearance</th>\n      <th>aroma</th>\n      <th>palate</th>\n      <th>taste</th>\n      <th>overall</th>\n      <th>rating</th>\n      <th>text</th>\n      <th>review</th>\n    </tr>\n    <tr>\n      <th>brewery_name</th>\n      <th></th>\n      <th></th>\n      <th></th>\n      <th></th>\n      <th></th>\n      <th></th>\n      <th></th>\n      <th></th>\n      <th></th>\n      <th></th>\n      <th></th>\n      <th></th>\n      <th></th>\n      <th></th>\n      <th></th>\n      <th></th>\n    </tr>\n  </thead>\n  <tbody>\n    <tr>\n      <th>#Freedom Brewery</th>\n      <td>3</td>\n      <td>3</td>\n      <td>1</td>\n      <td>2</td>\n      <td>3</td>\n      <td>13</td>\n      <td>10</td>\n      <td>10</td>\n      <td>4</td>\n      <td>6</td>\n      <td>6</td>\n      <td>4</td>\n      <td>5</td>\n      <td>9</td>\n      <td>4</td>\n      <td>2</td>\n    </tr>\n    <tr>\n      <th>'A Magara</th>\n      <td>3</td>\n      <td>3</td>\n      <td>1</td>\n      <td>2</td>\n      <td>3</td>\n      <td>3</td>\n      <td>1</td>\n      <td>1</td>\n      <td>3</td>\n      <td>2</td>\n      <td>3</td>\n      <td>3</td>\n      <td>3</td>\n      <td>3</td>\n      <td>3</td>\n      <td>1</td>\n    </tr>\n    <tr>\n      <th>'t Hofbrouwerijke</th>\n      <td>24</td>\n      <td>24</td>\n      <td>1</td>\n      <td>13</td>\n      <td>13</td>\n      <td>180</td>\n      <td>149</td>\n      <td>149</td>\n      <td>10</td>\n      <td>9</td>\n      <td>11</td>\n      <td>10</td>\n      <td>9</td>\n      <td>81</td>\n      <td>75</td>\n      <td>2</td>\n    </tr>\n    <tr>\n      <th>(512) Brewing Company</th>\n      <td>57</td>\n      <td>57</td>\n      <td>1</td>\n      <td>19</td>\n      <td>20</td>\n      <td>1418</td>\n      <td>1344</td>\n      <td>1344</td>\n      <td>14</td>\n      <td>15</td>\n      <td>16</td>\n      <td>16</td>\n      <td>17</td>\n      <td>206</td>\n      <td>542</td>\n      <td>2</td>\n    </tr>\n    <tr>\n      <th>1 Dampfbierbrauerei Zwiesel GmbH &amp; Co.KG</th>\n      <td>5</td>\n      <td>5</td>\n      <td>1</td>\n      <td>4</td>\n      <td>3</td>\n      <td>31</td>\n      <td>28</td>\n      <td>28</td>\n      <td>8</td>\n      <td>9</td>\n      <td>9</td>\n      <td>6</td>\n      <td>7</td>\n      <td>28</td>\n      <td>21</td>\n      <td>2</td>\n    </tr>\n  </tbody>\n</table>\n</div>"
     },
     "execution_count": 5,
     "metadata": {},
     "output_type": "execute_result"
    }
   ],
   "source": [
    "ratings_ba.groupby('brewery_name').nunique().head(5)"
   ],
   "metadata": {
    "collapsed": false,
    "pycharm": {
     "name": "#%%\n"
    }
   }
  },
  {
   "cell_type": "markdown",
   "source": [
    "## Split users by regions"
   ],
   "metadata": {
    "collapsed": false,
    "pycharm": {
     "name": "#%% md\n"
    }
   }
  },
  {
   "cell_type": "code",
   "execution_count": 25,
   "outputs": [],
   "source": [
    "user_root = 'BeerAdvocate/'\n",
    "users_path = os.path.join(user_root + 'users.csv')\n",
    "users = pd.read_csv(users_path)"
   ],
   "metadata": {
    "collapsed": false,
    "pycharm": {
     "name": "#%%\n"
    }
   }
  },
  {
   "cell_type": "code",
   "execution_count": 26,
   "outputs": [
    {
     "data": {
      "text/plain": "   nbr_ratings  nbr_reviews                user_id        user_name  \\\n0         7820          465         nmann08.184925          nmann08   \n1         2521         2504     stjamesgate.163714      StJamesGate   \n2         1797         1143          mdagnew.19527          mdagnew   \n3           31           31  helloloser12345.10867  helloloser12345   \n4          604          604        cypressbob.3708       cypressbob   \n\n         joined                   location  \n0  1.199704e+09  United States, Washington  \n1  1.191838e+09    United States, New York  \n2  1.116410e+09           Northern Ireland  \n3  1.101380e+09           Northern Ireland  \n4  1.069326e+09           Northern Ireland  ",
      "text/html": "<div>\n<style scoped>\n    .dataframe tbody tr th:only-of-type {\n        vertical-align: middle;\n    }\n\n    .dataframe tbody tr th {\n        vertical-align: top;\n    }\n\n    .dataframe thead th {\n        text-align: right;\n    }\n</style>\n<table border=\"1\" class=\"dataframe\">\n  <thead>\n    <tr style=\"text-align: right;\">\n      <th></th>\n      <th>nbr_ratings</th>\n      <th>nbr_reviews</th>\n      <th>user_id</th>\n      <th>user_name</th>\n      <th>joined</th>\n      <th>location</th>\n    </tr>\n  </thead>\n  <tbody>\n    <tr>\n      <th>0</th>\n      <td>7820</td>\n      <td>465</td>\n      <td>nmann08.184925</td>\n      <td>nmann08</td>\n      <td>1.199704e+09</td>\n      <td>United States, Washington</td>\n    </tr>\n    <tr>\n      <th>1</th>\n      <td>2521</td>\n      <td>2504</td>\n      <td>stjamesgate.163714</td>\n      <td>StJamesGate</td>\n      <td>1.191838e+09</td>\n      <td>United States, New York</td>\n    </tr>\n    <tr>\n      <th>2</th>\n      <td>1797</td>\n      <td>1143</td>\n      <td>mdagnew.19527</td>\n      <td>mdagnew</td>\n      <td>1.116410e+09</td>\n      <td>Northern Ireland</td>\n    </tr>\n    <tr>\n      <th>3</th>\n      <td>31</td>\n      <td>31</td>\n      <td>helloloser12345.10867</td>\n      <td>helloloser12345</td>\n      <td>1.101380e+09</td>\n      <td>Northern Ireland</td>\n    </tr>\n    <tr>\n      <th>4</th>\n      <td>604</td>\n      <td>604</td>\n      <td>cypressbob.3708</td>\n      <td>cypressbob</td>\n      <td>1.069326e+09</td>\n      <td>Northern Ireland</td>\n    </tr>\n  </tbody>\n</table>\n</div>"
     },
     "execution_count": 26,
     "metadata": {},
     "output_type": "execute_result"
    }
   ],
   "source": [
    "users.head()"
   ],
   "metadata": {
    "collapsed": false,
    "pycharm": {
     "name": "#%%\n"
    }
   }
  },
  {
   "cell_type": "code",
   "execution_count": 30,
   "outputs": [
    {
     "data": {
      "text/plain": "                nbr_ratings  nbr_reviews  user_id  user_name  joined\nlocation                                                            \nAfghanistan               5            5        5          5       5\nAlbania                   1            1        1          1       1\nAmerican Samoa            4            4        4          4       4\nAndorra                   3            3        3          3       3\nAngola                    1            1        1          1       1\n...                     ...          ...      ...        ...     ...\nVanuatu                   2            2        2          2       2\nVenezuela                 6            6        6          6       6\nVietnam                   7            7        7          7       7\nWales                    32           32       32         32      32\nZimbabwe                  1            1        1          1       1\n\n[194 rows x 5 columns]",
      "text/html": "<div>\n<style scoped>\n    .dataframe tbody tr th:only-of-type {\n        vertical-align: middle;\n    }\n\n    .dataframe tbody tr th {\n        vertical-align: top;\n    }\n\n    .dataframe thead th {\n        text-align: right;\n    }\n</style>\n<table border=\"1\" class=\"dataframe\">\n  <thead>\n    <tr style=\"text-align: right;\">\n      <th></th>\n      <th>nbr_ratings</th>\n      <th>nbr_reviews</th>\n      <th>user_id</th>\n      <th>user_name</th>\n      <th>joined</th>\n    </tr>\n    <tr>\n      <th>location</th>\n      <th></th>\n      <th></th>\n      <th></th>\n      <th></th>\n      <th></th>\n    </tr>\n  </thead>\n  <tbody>\n    <tr>\n      <th>Afghanistan</th>\n      <td>5</td>\n      <td>5</td>\n      <td>5</td>\n      <td>5</td>\n      <td>5</td>\n    </tr>\n    <tr>\n      <th>Albania</th>\n      <td>1</td>\n      <td>1</td>\n      <td>1</td>\n      <td>1</td>\n      <td>1</td>\n    </tr>\n    <tr>\n      <th>American Samoa</th>\n      <td>4</td>\n      <td>4</td>\n      <td>4</td>\n      <td>4</td>\n      <td>4</td>\n    </tr>\n    <tr>\n      <th>Andorra</th>\n      <td>3</td>\n      <td>3</td>\n      <td>3</td>\n      <td>3</td>\n      <td>3</td>\n    </tr>\n    <tr>\n      <th>Angola</th>\n      <td>1</td>\n      <td>1</td>\n      <td>1</td>\n      <td>1</td>\n      <td>1</td>\n    </tr>\n    <tr>\n      <th>...</th>\n      <td>...</td>\n      <td>...</td>\n      <td>...</td>\n      <td>...</td>\n      <td>...</td>\n    </tr>\n    <tr>\n      <th>Vanuatu</th>\n      <td>2</td>\n      <td>2</td>\n      <td>2</td>\n      <td>2</td>\n      <td>2</td>\n    </tr>\n    <tr>\n      <th>Venezuela</th>\n      <td>6</td>\n      <td>6</td>\n      <td>6</td>\n      <td>6</td>\n      <td>6</td>\n    </tr>\n    <tr>\n      <th>Vietnam</th>\n      <td>7</td>\n      <td>7</td>\n      <td>7</td>\n      <td>7</td>\n      <td>7</td>\n    </tr>\n    <tr>\n      <th>Wales</th>\n      <td>32</td>\n      <td>32</td>\n      <td>32</td>\n      <td>32</td>\n      <td>32</td>\n    </tr>\n    <tr>\n      <th>Zimbabwe</th>\n      <td>1</td>\n      <td>1</td>\n      <td>1</td>\n      <td>1</td>\n      <td>1</td>\n    </tr>\n  </tbody>\n</table>\n<p>194 rows × 5 columns</p>\n</div>"
     },
     "execution_count": 30,
     "metadata": {},
     "output_type": "execute_result"
    }
   ],
   "source": [
    "count_by_region = users.groupby('location').count()\n",
    "count_by_region"
   ],
   "metadata": {
    "collapsed": false,
    "pycharm": {
     "name": "#%%\n"
    }
   }
  },
  {
   "cell_type": "code",
   "execution_count": 31,
   "outputs": [],
   "source": [
    "users_100 = count_by_region[(count_by_region.nbr_ratings>100)]"
   ],
   "metadata": {
    "collapsed": false,
    "pycharm": {
     "name": "#%%\n"
    }
   }
  },
  {
   "cell_type": "code",
   "execution_count": 32,
   "outputs": [
    {
     "data": {
      "text/plain": "                              nbr_ratings  nbr_reviews  user_id  user_name  \\\nlocation                                                                     \nAustralia                             520          520      520        520   \nBelgium                               227          227      227        227   \nBrazil                                267          267      267        267   \nCanada                               3324         3324     3324       3324   \nEngland                               791          791      791        791   \n...                                   ...          ...      ...        ...   \nUnited States, Virginia              3604         3604     3604       3604   \nUnited States, Washington            2891         2891     2891       2891   \nUnited States, West Virginia          375          375      375        375   \nUnited States, Wisconsin             2375         2375     2375       2375   \nUnited States, Wyoming                103          103      103        103   \n\n                              joined  \nlocation                              \nAustralia                        520  \nBelgium                          227  \nBrazil                           267  \nCanada                          3324  \nEngland                          791  \n...                              ...  \nUnited States, Virginia         3604  \nUnited States, Washington       2891  \nUnited States, West Virginia     375  \nUnited States, Wisconsin        2375  \nUnited States, Wyoming           103  \n\n[66 rows x 5 columns]",
      "text/html": "<div>\n<style scoped>\n    .dataframe tbody tr th:only-of-type {\n        vertical-align: middle;\n    }\n\n    .dataframe tbody tr th {\n        vertical-align: top;\n    }\n\n    .dataframe thead th {\n        text-align: right;\n    }\n</style>\n<table border=\"1\" class=\"dataframe\">\n  <thead>\n    <tr style=\"text-align: right;\">\n      <th></th>\n      <th>nbr_ratings</th>\n      <th>nbr_reviews</th>\n      <th>user_id</th>\n      <th>user_name</th>\n      <th>joined</th>\n    </tr>\n    <tr>\n      <th>location</th>\n      <th></th>\n      <th></th>\n      <th></th>\n      <th></th>\n      <th></th>\n    </tr>\n  </thead>\n  <tbody>\n    <tr>\n      <th>Australia</th>\n      <td>520</td>\n      <td>520</td>\n      <td>520</td>\n      <td>520</td>\n      <td>520</td>\n    </tr>\n    <tr>\n      <th>Belgium</th>\n      <td>227</td>\n      <td>227</td>\n      <td>227</td>\n      <td>227</td>\n      <td>227</td>\n    </tr>\n    <tr>\n      <th>Brazil</th>\n      <td>267</td>\n      <td>267</td>\n      <td>267</td>\n      <td>267</td>\n      <td>267</td>\n    </tr>\n    <tr>\n      <th>Canada</th>\n      <td>3324</td>\n      <td>3324</td>\n      <td>3324</td>\n      <td>3324</td>\n      <td>3324</td>\n    </tr>\n    <tr>\n      <th>England</th>\n      <td>791</td>\n      <td>791</td>\n      <td>791</td>\n      <td>791</td>\n      <td>791</td>\n    </tr>\n    <tr>\n      <th>...</th>\n      <td>...</td>\n      <td>...</td>\n      <td>...</td>\n      <td>...</td>\n      <td>...</td>\n    </tr>\n    <tr>\n      <th>United States, Virginia</th>\n      <td>3604</td>\n      <td>3604</td>\n      <td>3604</td>\n      <td>3604</td>\n      <td>3604</td>\n    </tr>\n    <tr>\n      <th>United States, Washington</th>\n      <td>2891</td>\n      <td>2891</td>\n      <td>2891</td>\n      <td>2891</td>\n      <td>2891</td>\n    </tr>\n    <tr>\n      <th>United States, West Virginia</th>\n      <td>375</td>\n      <td>375</td>\n      <td>375</td>\n      <td>375</td>\n      <td>375</td>\n    </tr>\n    <tr>\n      <th>United States, Wisconsin</th>\n      <td>2375</td>\n      <td>2375</td>\n      <td>2375</td>\n      <td>2375</td>\n      <td>2375</td>\n    </tr>\n    <tr>\n      <th>United States, Wyoming</th>\n      <td>103</td>\n      <td>103</td>\n      <td>103</td>\n      <td>103</td>\n      <td>103</td>\n    </tr>\n  </tbody>\n</table>\n<p>66 rows × 5 columns</p>\n</div>"
     },
     "execution_count": 32,
     "metadata": {},
     "output_type": "execute_result"
    }
   ],
   "source": [
    "users_100"
   ],
   "metadata": {
    "collapsed": false,
    "pycharm": {
     "name": "#%%\n"
    }
   }
  },
  {
   "cell_type": "code",
   "execution_count": 35,
   "outputs": [],
   "source": [
    "users_100_list = users_100.index.to_list()"
   ],
   "metadata": {
    "collapsed": false,
    "pycharm": {
     "name": "#%%\n"
    }
   }
  },
  {
   "cell_type": "code",
   "execution_count": 36,
   "outputs": [
    {
     "data": {
      "text/plain": "['Australia',\n 'Belgium',\n 'Brazil',\n 'Canada',\n 'England',\n 'France',\n 'Germany',\n 'Ireland',\n 'Italy',\n 'Japan',\n 'Mexico',\n 'Netherlands',\n 'Norway',\n 'Russia',\n 'Spain',\n 'Sweden',\n 'United States, Alabama',\n 'United States, Alaska',\n 'United States, Arizona',\n 'United States, Arkansas',\n 'United States, California',\n 'United States, Colorado',\n 'United States, Connecticut',\n 'United States, Delaware',\n 'United States, Florida',\n 'United States, Georgia',\n 'United States, Hawaii',\n 'United States, Idaho',\n 'United States, Illinois',\n 'United States, Indiana',\n 'United States, Iowa',\n 'United States, Kansas',\n 'United States, Kentucky',\n 'United States, Louisiana',\n 'United States, Maine',\n 'United States, Maryland',\n 'United States, Massachusetts',\n 'United States, Michigan',\n 'United States, Minnesota',\n 'United States, Mississippi',\n 'United States, Missouri',\n 'United States, Montana',\n 'United States, Nebraska',\n 'United States, Nevada',\n 'United States, New Hampshire',\n 'United States, New Jersey',\n 'United States, New Mexico',\n 'United States, New York',\n 'United States, North Carolina',\n 'United States, North Dakota',\n 'United States, Ohio',\n 'United States, Oklahoma',\n 'United States, Oregon',\n 'United States, Pennsylvania',\n 'United States, Rhode Island',\n 'United States, South Carolina',\n 'United States, South Dakota',\n 'United States, Tennessee',\n 'United States, Texas',\n 'United States, Utah',\n 'United States, Vermont',\n 'United States, Virginia',\n 'United States, Washington',\n 'United States, West Virginia',\n 'United States, Wisconsin',\n 'United States, Wyoming']"
     },
     "execution_count": 36,
     "metadata": {},
     "output_type": "execute_result"
    }
   ],
   "source": [
    "users_100_list"
   ],
   "metadata": {
    "collapsed": false,
    "pycharm": {
     "name": "#%%\n"
    }
   }
  },
  {
   "cell_type": "code",
   "execution_count": null,
   "outputs": [],
   "source": [],
   "metadata": {
    "collapsed": false,
    "pycharm": {
     "name": "#%%\n"
    }
   }
  }
 ],
 "metadata": {
  "kernelspec": {
   "display_name": "Python 3",
   "language": "python",
   "name": "python3"
  },
  "language_info": {
   "codemirror_mode": {
    "name": "ipython",
    "version": 2
   },
   "file_extension": ".py",
   "mimetype": "text/x-python",
   "name": "python",
   "nbconvert_exporter": "python",
   "pygments_lexer": "ipython2",
   "version": "2.7.6"
  }
 },
 "nbformat": 4,
 "nbformat_minor": 0
}