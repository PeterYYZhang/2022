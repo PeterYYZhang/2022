{
 "cells": [
  {
   "cell_type": "markdown",
   "metadata": {
    "pycharm": {
     "name": "#%% md\n"
    }
   },
   "source": [
    "# Handling text exercise"
   ]
  },
  {
   "cell_type": "markdown",
   "metadata": {
    "pycharm": {
     "name": "#%% md\n"
    }
   },
   "source": [
    "## Welcome! This exercise consists of:\n",
    "\n",
    "## Part 1: Hands on tutorial\n",
    "1. Implementing the natural language processing pipeline\n",
    "2. Solving four typical language processing tasks:\n",
    "   * Sentiment analysis\n",
    "   * Document classification\n",
    "   * Topic detection\n",
    "   * Semantic analysis\n",
    "\n",
    "\n",
    "### We will be working with four books in plain text:\n",
    "1. Moby-Dick, by Herman Melville\n",
    "2. Frankenstein; or, The Modern Prometheus, by Mary Shelley\n",
    "3. Pride and Prejudice, by Jane Austen\n",
    "4. Dracula, Bram Stoker\n",
    "\n",
    "#### To run this notebook, you need to install the following libraries:\n",
    "\n",
    "conda install nltk gensim spacy <br>\n",
    "pip install pyLDAvis  <br>\n",
    "pip install vaderSentiment  <br>\n",
    "pip install empath <br>\n",
    "python -m spacy download en  <br>\n",
    "python -m nltk.downloader punkt <br>\n",
    "python -m nltk.downloader all-corpora <br>\n",
    "\n",
    "## Part 2: Handling text comprehension questions\n",
    "- You can test your understanding of important NLP concepts. Solutions will be released next week.\n",
    "\n",
    "## Part 3: Coding exercise\n",
    "- When you are done, in \"Handling_text_exercise_2.ipynb\", you will find additional exercises you can work on independently."
   ]
  },
  {
   "cell_type": "markdown",
   "metadata": {
    "pycharm": {
     "name": "#%% md\n"
    }
   },
   "source": [
    "## Part 1"
   ]
  },
  {
   "cell_type": "code",
   "execution_count": 2,
   "metadata": {
    "pycharm": {
     "name": "#%%\n"
    }
   },
   "outputs": [
    {
     "name": "stdout",
     "output_type": "stream",
     "text": [
      "The autoreload extension is already loaded. To reload it, use:\n",
      "  %reload_ext autoreload\n"
     ]
    }
   ],
   "source": [
    "%load_ext autoreload\n",
    "%autoreload 2\n",
    "\n",
    "import warnings; warnings.simplefilter('ignore')\n",
    "import os, codecs, string, random\n",
    "import numpy as np\n",
    "from numpy.random import seed as random_seed\n",
    "from numpy.random import shuffle as random_shuffle\n",
    "import matplotlib.pyplot as plt\n",
    "%matplotlib inline  \n",
    "\n",
    "seed = 42\n",
    "random.seed(seed)\n",
    "np.random.seed(seed)\n",
    "\n",
    "#NLP libraries\n",
    "import spacy, nltk, gensim, sklearn\n",
    "#import pyLDAvis.gensim\n",
    "import pyLDAvis.gensim_models\n",
    "\n",
    "#Vader\n",
    "import vaderSentiment\n",
    "from vaderSentiment.vaderSentiment import SentimentIntensityAnalyzer\n",
    "\n",
    "#Scikit imports\n",
    "from sklearn.feature_extraction.text import CountVectorizer\n",
    "from sklearn.model_selection import train_test_split\n",
    "from sklearn.model_selection import cross_val_score\n",
    "from sklearn.linear_model import LogisticRegression\n",
    "from sklearn import preprocessing\n",
    "from sklearn.preprocessing import StandardScaler\n",
    "from sklearn.utils import shuffle\n",
    "\n",
    "#The data\n",
    "corpus_root = 'books/'"
   ]
  },
  {
   "cell_type": "markdown",
   "metadata": {
    "pycharm": {
     "name": "#%% md\n"
    }
   },
   "source": [
    "#### In this tutorial we will be working with text in English. The same principles apply, but the methods cannot be applied directly to the text in unknown or other languages. We will be working mainly with the Spacy library."
   ]
  },
  {
   "cell_type": "markdown",
   "metadata": {
    "pycharm": {
     "name": "#%% md\n"
    }
   },
   "source": [
    "Initialize the Spacy analyzer in English"
   ]
  },
  {
   "cell_type": "code",
   "execution_count": 4,
   "metadata": {
    "pycharm": {
     "name": "#%%\n"
    }
   },
   "outputs": [],
   "source": [
    "nlp = spacy.load('en_core_web_sm')"
   ]
  },
  {
   "cell_type": "markdown",
   "metadata": {
    "pycharm": {
     "name": "#%% md\n"
    }
   },
   "source": [
    "Load the books"
   ]
  },
  {
   "cell_type": "code",
   "execution_count": 5,
   "metadata": {
    "pycharm": {
     "name": "#%%\n"
    }
   },
   "outputs": [
    {
     "name": "stdout",
     "output_type": "stream",
     "text": [
      "Moby_Dick.txt\n",
      "Frankenstein.txt\n",
      "DRACULA.txt\n",
      "PRIDE_AND_PREJUDICE.txt\n"
     ]
    }
   ],
   "source": [
    "books = list()\n",
    "\n",
    "for book_file in os.listdir(corpus_root):\n",
    "    if \".txt\" in book_file:\n",
    "        print(book_file)\n",
    "        with codecs.open(os.path.join(corpus_root,book_file),encoding=\"utf8\") as f:\n",
    "            books.append(f.read())"
   ]
  },
  {
   "cell_type": "markdown",
   "metadata": {
    "pycharm": {
     "name": "#%% md\n"
    }
   },
   "source": [
    "Print the beginning of Pride and Prejudice"
   ]
  },
  {
   "cell_type": "code",
   "execution_count": 6,
   "metadata": {
    "pycharm": {
     "name": "#%%\n"
    }
   },
   "outputs": [
    {
     "name": "stdout",
     "output_type": "stream",
     "text": [
      "PRIDE AND PREJUDICE\n",
      "\n",
      "By Jane Austen\n",
      "\n",
      "\n",
      "\n",
      "Chapter 1\n",
      "\n",
      "\n",
      "It is a truth universally acknowledged, that a single man in possession\n",
      "of a good fortune, must be in want of a wife.\n",
      "\n",
      "However little known the feelings or views of such a man may be on his\n",
      "first entering a neighbourhood, this truth is so well fixed in the minds\n",
      "of the surrounding families, that he is considered the rightful property\n",
      "of some one or other of their daughters.\n",
      "\n",
      "“My dear Mr. Bennet,” said his lady to him one day, “have you heard that\n",
      "Netherfield Park is let at last?”\n",
      "\n",
      "Mr. Bennet replied that he had not.\n",
      "\n",
      "“But it is,” returned she;\n"
     ]
    }
   ],
   "source": [
    "print(books[3][0:600])"
   ]
  },
  {
   "cell_type": "markdown",
   "metadata": {
    "pycharm": {
     "name": "#%% md\n"
    }
   },
   "source": [
    "#### Let's remove the new lines"
   ]
  },
  {
   "cell_type": "code",
   "execution_count": 7,
   "metadata": {
    "pycharm": {
     "name": "#%%\n"
    }
   },
   "outputs": [],
   "source": [
    "books = [\" \".join(b.split()) for b in books]"
   ]
  },
  {
   "cell_type": "code",
   "execution_count": 8,
   "metadata": {
    "pycharm": {
     "name": "#%%\n"
    }
   },
   "outputs": [
    {
     "name": "stdout",
     "output_type": "stream",
     "text": [
      "PRIDE AND PREJUDICE By Jane Austen Chapter 1 It is a truth universally acknowledged, that a single man in possession of a good fortune, must be in want of a wife. However little known the feelings or views of such a man may be on his first entering a neighbourhood, this truth is so well fixed in the minds of the surrounding families, that he is considered the rightful property of some one or other of their daughters. “My dear Mr. Bennet,” said his lady to him one day, “have you heard that Netherfield Park is let at last?” Mr. Bennet replied that he had not. “But it is,” returned she; “for Mrs.\n"
     ]
    }
   ],
   "source": [
    "print(books[3][0:600])"
   ]
  },
  {
   "cell_type": "markdown",
   "metadata": {
    "pycharm": {
     "name": "#%% md\n"
    }
   },
   "source": [
    "### Load Frankenstein"
   ]
  },
  {
   "cell_type": "code",
   "execution_count": 9,
   "metadata": {
    "pycharm": {
     "name": "#%%\n"
    }
   },
   "outputs": [],
   "source": [
    "#index all books\n",
    "book = books[1]\n",
    "\n",
    "#put in raw text, get a Spacy object\n",
    "doc = nlp(book)"
   ]
  },
  {
   "cell_type": "markdown",
   "metadata": {
    "pycharm": {
     "name": "#%% md\n"
    }
   },
   "source": [
    "## Let's create our own NLP pipeline with Spacy!"
   ]
  },
  {
   "cell_type": "markdown",
   "metadata": {
    "pycharm": {
     "name": "#%% md\n"
    }
   },
   "source": [
    "### Step 1: Sentence splitting\n",
    "\n",
    "#### May sound trivial, but it's not! (e.g., U.K. or Yahoo!) Spacy uses a statistical model to generate accurate predictions. This works well out of the box for general-purpose text or web text. For social media use dedicated libraries."
   ]
  },
  {
   "cell_type": "code",
   "execution_count": 10,
   "metadata": {
    "pycharm": {
     "name": "#%%\n"
    }
   },
   "outputs": [
    {
     "name": "stdout",
     "output_type": "stream",
     "text": [
      "Sentence 1: Frankenstein, or the Modern Prometheus by Mary Wollstonecraft (Godwin) \n",
      "\n",
      "Sentence 2: Shelley Letter 1 St. Petersburgh, Dec. 11th, 17-- TO Mrs. Saville, England You will rejoice to hear that no disaster has accompanied the commencement of an enterprise which you have regarded with such evil forebodings. \n",
      "\n",
      "Sentence 3: I arrived here yesterday, and my first task is to assure my dear sister of my welfare and increasing confidence in the success of my undertaking. \n",
      "\n"
     ]
    }
   ],
   "source": [
    "sentences = [sent for sent in doc.sents]\n",
    "print('Sentence 1:',sentences[0],'\\n')\n",
    "print('Sentence 2:',sentences[1],'\\n')\n",
    "print('Sentence 3:',sentences[2],'\\n')"
   ]
  },
  {
   "cell_type": "markdown",
   "metadata": {
    "pycharm": {
     "name": "#%% md\n"
    }
   },
   "source": [
    "### Step 2: Tokenization\n",
    "\n",
    "#### The task of splitting a text into meaningful segments called tokens. We segment the sentence into words, punctuation, etc. This is done by first splitting on whitespace characters and them applying rules specific to each language. For example, \"don't\" does not contain whitespace, but should be split into two tokens, \"do\" and \"n't\", while \"U.K.\" should always remain one token and \"but,\" shouldn't."
   ]
  },
  {
   "cell_type": "markdown",
   "metadata": {
    "pycharm": {
     "name": "#%% md\n"
    }
   },
   "source": [
    "### We will analyze the methods on an example sentence first"
   ]
  },
  {
   "cell_type": "code",
   "execution_count": 11,
   "metadata": {
    "pycharm": {
     "name": "#%%\n"
    }
   },
   "outputs": [
    {
     "name": "stdout",
     "output_type": "stream",
     "text": [
      "I am already far north of London, and as I walk in the streets of Petersburgh, I feel a cold northern breeze play upon my cheeks, which braces my nerves and fills me with delight. \n",
      "\n",
      "['I', 'am', 'already', 'far', 'north', 'of', 'London', ',', 'and', 'as', 'I', 'walk', 'in', 'the', 'streets', 'of', 'Petersburgh', ',', 'I', 'feel', 'a', 'cold', 'northern', 'breeze', 'play', 'upon', 'my', 'cheeks', ',', 'which', 'braces', 'my', 'nerves', 'and', 'fills', 'me', 'with', 'delight', '.']\n"
     ]
    }
   ],
   "source": [
    "example = 'I am already far north of London, and as I walk in the streets of Petersburgh, I feel a cold northern breeze play upon my cheeks, which braces my nerves and fills me with delight.'\n",
    "\n",
    "doc = nlp(example)\n",
    "\n",
    "#strings are encoded to hashes\n",
    "tokens = [token.text for token in doc]\n",
    "\n",
    "print(example,'\\n')\n",
    "print(tokens)"
   ]
  },
  {
   "cell_type": "markdown",
   "metadata": {
    "pycharm": {
     "name": "#%% md\n"
    }
   },
   "source": [
    "### Step 3: Part of speech tagging\n",
    "\n",
    "#### The model makes a prediction of which tag or label most likely applies in this context. For example, a word following \"the\" in English is most likely a noun."
   ]
  },
  {
   "cell_type": "code",
   "execution_count": 12,
   "metadata": {
    "pycharm": {
     "name": "#%%\n"
    }
   },
   "outputs": [
    {
     "name": "stdout",
     "output_type": "stream",
     "text": [
      "I am already far north of London, and as I walk in the streets of Petersburgh, I feel a cold northern breeze play upon my cheeks, which braces my nerves and fills me with delight. \n",
      "\n",
      "[('I', 'PRON'), ('am', 'AUX'), ('already', 'ADV'), ('far', 'ADV'), ('north', 'ADV'), ('of', 'ADP'), ('London', 'PROPN'), (',', 'PUNCT'), ('and', 'CCONJ'), ('as', 'SCONJ'), ('I', 'PRON'), ('walk', 'VERB'), ('in', 'ADP'), ('the', 'DET'), ('streets', 'NOUN'), ('of', 'ADP'), ('Petersburgh', 'PROPN'), (',', 'PUNCT'), ('I', 'PRON'), ('feel', 'VERB'), ('a', 'DET'), ('cold', 'ADJ'), ('northern', 'ADJ'), ('breeze', 'NOUN'), ('play', 'VERB'), ('upon', 'SCONJ'), ('my', 'PRON'), ('cheeks', 'NOUN'), (',', 'PUNCT'), ('which', 'PRON'), ('braces', 'VERB'), ('my', 'PRON'), ('nerves', 'NOUN'), ('and', 'CCONJ'), ('fills', 'VERB'), ('me', 'PRON'), ('with', 'ADP'), ('delight', 'NOUN'), ('.', 'PUNCT')]\n"
     ]
    }
   ],
   "source": [
    "pos_tagged = [(token.text, token.pos_) for token in doc]\n",
    "\n",
    "print(example,'\\n')\n",
    "print(pos_tagged)"
   ]
  },
  {
   "cell_type": "code",
   "execution_count": 13,
   "metadata": {
    "pycharm": {
     "name": "#%%\n"
    }
   },
   "outputs": [
    {
     "name": "stdout",
     "output_type": "stream",
     "text": [
      "coordinating conjunction\n",
      "adposition\n",
      "determiner\n"
     ]
    }
   ],
   "source": [
    "print(spacy.explain('CCONJ'))\n",
    "print(spacy.explain('ADP'))\n",
    "print(spacy.explain('DET'))"
   ]
  },
  {
   "cell_type": "markdown",
   "metadata": {
    "pycharm": {
     "name": "#%% md\n"
    }
   },
   "source": [
    "### When unsure, see here for more details: http://universaldependencies.org/u/pos/all.html"
   ]
  },
  {
   "cell_type": "markdown",
   "metadata": {
    "pycharm": {
     "name": "#%% md\n"
    }
   },
   "source": [
    "#### More detailed annotation:"
   ]
  },
  {
   "cell_type": "code",
   "execution_count": 14,
   "metadata": {
    "pycharm": {
     "name": "#%%\n"
    }
   },
   "outputs": [
    {
     "name": "stdout",
     "output_type": "stream",
     "text": [
      "[('I', 'PRP'), ('am', 'VBP'), ('already', 'RB'), ('far', 'RB'), ('north', 'RB'), ('of', 'IN'), ('London', 'NNP'), (',', ','), ('and', 'CC'), ('as', 'IN'), ('I', 'PRP'), ('walk', 'VBP'), ('in', 'IN'), ('the', 'DT'), ('streets', 'NNS'), ('of', 'IN'), ('Petersburgh', 'NNP'), (',', ','), ('I', 'PRP'), ('feel', 'VBP'), ('a', 'DT'), ('cold', 'JJ'), ('northern', 'JJ'), ('breeze', 'NN'), ('play', 'VB'), ('upon', 'IN'), ('my', 'PRP$'), ('cheeks', 'NNS'), (',', ','), ('which', 'WDT'), ('braces', 'VBZ'), ('my', 'PRP$'), ('nerves', 'NNS'), ('and', 'CC'), ('fills', 'VBZ'), ('me', 'PRP'), ('with', 'IN'), ('delight', 'NN'), ('.', '.')]\n"
     ]
    }
   ],
   "source": [
    "pos_tagged = [(token.text, token.tag_) for token in doc]\n",
    "\n",
    "print(pos_tagged)"
   ]
  },
  {
   "cell_type": "code",
   "execution_count": 15,
   "metadata": {
    "pycharm": {
     "name": "#%%\n"
    }
   },
   "outputs": [
    {
     "name": "stdout",
     "output_type": "stream",
     "text": [
      "pronoun, personal\n",
      "verb, non-3rd person singular present\n"
     ]
    }
   ],
   "source": [
    "print(spacy.explain('PRP'))\n",
    "print(spacy.explain('VBP'))"
   ]
  },
  {
   "cell_type": "markdown",
   "metadata": {
    "pycharm": {
     "name": "#%% md\n"
    }
   },
   "source": [
    "### Step 4: Named entity recognition\n",
    "\n",
    "#### For example, a person, a country, a product or a book title. Spacy can recognise various types of named entities in a document. This doesn't always work perfectly and might need some tuning later, depending on your use case.\n",
    "\n",
    "Built in entity types: <br>\n",
    "\n",
    "PERSON  People, including fictional.  <br>\n",
    "NORP\tNationalities or religious or political groups. <br>\n",
    "FAC\tBuildings, airports, highways, bridges, etc. <br>\n",
    "ORG\tCompanies, agencies, institutions, etc. <br>\n",
    "GPE\tCountries, cities, states. <br>\n",
    "LOC\tNon-GPE locations, mountain ranges, bodies of water. <br>\n",
    "PRODUCT\tObjects, vehicles, foods, etc. (Not services.) <br>\n",
    "EVENT\tNamed hurricanes, battles, wars, sports events, etc. <br>\n",
    "WORK_OF_ART\tTitles of books, songs, etc. <br>\n",
    "LAW\tNamed documents made into laws. <br>\n",
    "LANGUAGE\tAny named language. <br>\n",
    "DATE\tAbsolute or relative dates or periods. <br>\n",
    "TIME\tTimes smaller than a day. <br>\n",
    "PERCENT\tPercentage, including \"%\". <br>\n",
    "MONEY\tMonetary values, including unit. <br>\n",
    "QUANTITY\tMeasurements, as of weight or distance. <br>\n",
    "ORDINAL\t\"first\", \"second\", etc. <br>\n",
    "CARDINAL\tNumerals that do not fall under another type. <br>"
   ]
  },
  {
   "cell_type": "code",
   "execution_count": 16,
   "metadata": {
    "pycharm": {
     "name": "#%%\n"
    }
   },
   "outputs": [
    {
     "name": "stdout",
     "output_type": "stream",
     "text": [
      "I am already far north of London, and as I walk in the streets of Petersburgh, I feel a cold northern breeze play upon my cheeks, which braces my nerves and fills me with delight. \n",
      "\n",
      "London GPE\n",
      "Petersburgh GPE\n"
     ]
    }
   ],
   "source": [
    "print(example,'\\n')\n",
    "for ent in doc.ents:\n",
    "    print(ent.text, ent.label_)"
   ]
  },
  {
   "cell_type": "markdown",
   "metadata": {
    "pycharm": {
     "name": "#%% md\n"
    }
   },
   "source": [
    "### Step 5: Removing stop words"
   ]
  },
  {
   "cell_type": "markdown",
   "metadata": {
    "pycharm": {
     "name": "#%% md\n"
    }
   },
   "source": [
    "Let's check out all the stopwords:"
   ]
  },
  {
   "cell_type": "code",
   "execution_count": 17,
   "metadata": {
    "pycharm": {
     "name": "#%%\n"
    }
   },
   "outputs": [
    {
     "name": "stdout",
     "output_type": "stream",
     "text": [
      "Number of stop words: 326\n",
      "First ten stop words: ['might', 'throughout', 'will', 'former', 'moreover', '’d', 'or', 'over', 'go', 'quite']\n"
     ]
    }
   ],
   "source": [
    "spacy_stopwords = spacy.lang.en.stop_words.STOP_WORDS\n",
    "print('Number of stop words: %d' % len(spacy_stopwords))\n",
    "print('First ten stop words:',list(spacy_stopwords)[:10])"
   ]
  },
  {
   "cell_type": "markdown",
   "metadata": {
    "pycharm": {
     "name": "#%% md\n"
    }
   },
   "source": [
    "Detecting stopwords in the example:"
   ]
  },
  {
   "cell_type": "code",
   "execution_count": 18,
   "metadata": {
    "pycharm": {
     "name": "#%%\n"
    }
   },
   "outputs": [
    {
     "name": "stdout",
     "output_type": "stream",
     "text": [
      "I am already far north of London, and as I walk in the streets of Petersburgh, I feel a cold northern breeze play upon my cheeks, which braces my nerves and fills me with delight. \n",
      "\n",
      "['I', 'am', 'already', 'of', 'and', 'as', 'I', 'in', 'the', 'of', 'I', 'a', 'upon', 'my', 'which', 'my', 'and', 'me', 'with']\n"
     ]
    }
   ],
   "source": [
    "print(example,'\\n')\n",
    "\n",
    "stop_words = [token.text for token in doc if token.is_stop]\n",
    "\n",
    "print(stop_words)"
   ]
  },
  {
   "cell_type": "markdown",
   "metadata": {
    "pycharm": {
     "name": "#%% md\n"
    }
   },
   "source": [
    "#### Sometimes it's useful to define a custom list of stopwords. Other solutions: https://www.ranks.nl/stopwords \n"
   ]
  },
  {
   "cell_type": "markdown",
   "metadata": {
    "pycharm": {
     "name": "#%% md\n"
    }
   },
   "source": [
    "### Step 6: Lemmatization\n",
    "\n",
    "#### A rule-based deterministic lemmatizer maps the surface form of a token to a lemma."
   ]
  },
  {
   "cell_type": "code",
   "execution_count": 19,
   "metadata": {
    "pycharm": {
     "name": "#%%\n"
    }
   },
   "outputs": [
    {
     "name": "stdout",
     "output_type": "stream",
     "text": [
      "I am already far north of London, and as I walk in the streets of Petersburgh, I feel a cold northern breeze play upon my cheeks, which braces my nerves and fills me with delight. \n",
      "\n",
      "am ---> be\n",
      "streets ---> street\n",
      "cheeks ---> cheek\n",
      "braces ---> brace\n",
      "nerves ---> nerve\n",
      "fills ---> fill\n",
      "me ---> I\n"
     ]
    }
   ],
   "source": [
    "print(example,'\\n')\n",
    "for token in doc:\n",
    "    if token.text != token.lemma_:\n",
    "        print(token.text,'--->',token.lemma_)"
   ]
  },
  {
   "cell_type": "markdown",
   "metadata": {
    "pycharm": {
     "name": "#%% md\n"
    }
   },
   "source": [
    "### Step 7: Chunking (shallow parsing)\n",
    "\n",
    "#### Noun chunks are \"base noun phrases\" – flat phrases that have a noun as their head -- a noun plus the words describing the noun – for example, \"the lavish green grass\" or \"the world’s largest tech fund\". "
   ]
  },
  {
   "cell_type": "code",
   "execution_count": 20,
   "metadata": {
    "pycharm": {
     "name": "#%%\n"
    }
   },
   "outputs": [
    {
     "name": "stdout",
     "output_type": "stream",
     "text": [
      "I am already far north of London, and as I walk in the streets of Petersburgh, I feel a cold northern breeze play upon my cheeks, which braces my nerves and fills me with delight. \n",
      "\n",
      "I\n",
      "London\n",
      "I\n",
      "the streets\n",
      "Petersburgh\n",
      "I\n",
      "my cheeks\n",
      "which\n",
      "my nerves\n",
      "me\n",
      "delight\n"
     ]
    }
   ],
   "source": [
    "print(example,'\\n')\n",
    "\n",
    "for chunk in doc.noun_chunks:\n",
    "    print(chunk.text)"
   ]
  },
  {
   "cell_type": "markdown",
   "metadata": {
    "pycharm": {
     "name": "#%% md\n"
    }
   },
   "source": [
    "### Step 8: Dependancy parsing\n",
    "\n",
    "#### The terms head and child describe the words connected by an arc in the dependency tree. The type of syntactic relation that connects the child to the head can be obtain through .dep_."
   ]
  },
  {
   "cell_type": "code",
   "execution_count": 21,
   "metadata": {
    "pycharm": {
     "name": "#%%\n"
    }
   },
   "outputs": [
    {
     "name": "stdout",
     "output_type": "stream",
     "text": [
      "I am already far north of London, and as I walk in the streets of Petersburgh, I feel a cold northern breeze play upon my cheeks, which braces my nerves and fills me with delight. \n",
      "\n",
      "Token: I Head: am Children: []\n",
      "Token: am Head: am Children: [I, already, north, ,, and, feel]\n",
      "Token: already Head: am Children: []\n",
      "Token: far Head: north Children: []\n",
      "Token: north Head: am Children: [far, of]\n",
      "Token: of Head: north Children: [London]\n",
      "Token: London Head: of Children: []\n",
      "Token: , Head: am Children: []\n",
      "Token: and Head: am Children: []\n",
      "Token: as Head: walk Children: []\n",
      "Token: I Head: walk Children: []\n",
      "Token: walk Head: feel Children: [as, I, in]\n",
      "Token: in Head: walk Children: [streets]\n",
      "Token: the Head: streets Children: []\n",
      "Token: streets Head: in Children: [the, of]\n",
      "Token: of Head: streets Children: [Petersburgh]\n",
      "Token: Petersburgh Head: of Children: []\n",
      "Token: , Head: feel Children: []\n",
      "Token: I Head: feel Children: []\n",
      "Token: feel Head: am Children: [walk, ,, I, play, .]\n",
      "Token: a Head: play Children: []\n",
      "Token: cold Head: breeze Children: []\n",
      "Token: northern Head: breeze Children: []\n",
      "Token: breeze Head: play Children: [cold, northern]\n",
      "Token: play Head: feel Children: [a, breeze, upon]\n",
      "Token: upon Head: play Children: [cheeks]\n",
      "Token: my Head: cheeks Children: []\n",
      "Token: cheeks Head: upon Children: [my, ,, braces]\n",
      "Token: , Head: cheeks Children: []\n",
      "Token: which Head: braces Children: []\n",
      "Token: braces Head: cheeks Children: [which, nerves, and, fills]\n",
      "Token: my Head: nerves Children: []\n",
      "Token: nerves Head: braces Children: [my]\n",
      "Token: and Head: braces Children: []\n",
      "Token: fills Head: braces Children: [me, with]\n",
      "Token: me Head: fills Children: []\n",
      "Token: with Head: fills Children: [delight]\n",
      "Token: delight Head: with Children: []\n",
      "Token: . Head: feel Children: []\n"
     ]
    }
   ],
   "source": [
    "print(example,'\\n')\n",
    "\n",
    "for token in doc:\n",
    "    print('Token:',token.text,'Head:',token.head.text, 'Children:',[child for child in token.children])"
   ]
  },
  {
   "cell_type": "markdown",
   "metadata": {
    "pycharm": {
     "name": "#%% md\n"
    }
   },
   "source": [
    "### Counting word occurences"
   ]
  },
  {
   "cell_type": "code",
   "execution_count": 22,
   "metadata": {
    "pycharm": {
     "name": "#%%\n"
    }
   },
   "outputs": [
    {
     "name": "stdout",
     "output_type": "stream",
     "text": [
      "I am already far north of London, and as I walk in the streets of Petersburgh, I feel a cold northern breeze play upon my cheeks, which braces my nerves and fills me with delight. \n",
      "\n",
      "[('I', 3), (',', 3), ('of', 2), ('and', 2), ('my', 2), ('am', 1), ('already', 1), ('far', 1), ('north', 1), ('London', 1), ('as', 1), ('walk', 1), ('in', 1), ('the', 1), ('streets', 1), ('Petersburgh', 1), ('feel', 1), ('a', 1), ('cold', 1), ('northern', 1), ('breeze', 1), ('play', 1), ('upon', 1), ('cheeks', 1), ('which', 1), ('braces', 1), ('nerves', 1), ('fills', 1), ('me', 1), ('with', 1), ('delight', 1), ('.', 1)]\n"
     ]
    }
   ],
   "source": [
    "from collections import Counter\n",
    "\n",
    "print(example,'\\n')\n",
    "words = [token.text for token in doc]\n",
    "\n",
    "# five most common tokens\n",
    "word_freq = Counter(words)\n",
    "common_words = word_freq.most_common()\n",
    "\n",
    "print(common_words)"
   ]
  },
  {
   "cell_type": "markdown",
   "metadata": {
    "pycharm": {
     "name": "#%% md\n"
    }
   },
   "source": [
    "### Without stop words and punctuation"
   ]
  },
  {
   "cell_type": "code",
   "execution_count": 23,
   "metadata": {
    "pycharm": {
     "name": "#%%\n"
    }
   },
   "outputs": [
    {
     "name": "stdout",
     "output_type": "stream",
     "text": [
      "[('far', 1), ('north', 1), ('London', 1), ('walk', 1), ('streets', 1), ('Petersburgh', 1), ('feel', 1), ('cold', 1), ('northern', 1), ('breeze', 1), ('play', 1), ('cheeks', 1), ('braces', 1), ('nerves', 1), ('fills', 1), ('delight', 1)]\n"
     ]
    }
   ],
   "source": [
    "words = [token.text for token in doc if token.is_stop != True and token.is_punct != True]\n",
    "\n",
    "# five most common tokens\n",
    "word_freq = Counter(words)\n",
    "common_words = word_freq.most_common()\n",
    "\n",
    "print(common_words)"
   ]
  },
  {
   "cell_type": "markdown",
   "metadata": {
    "pycharm": {
     "name": "#%% md\n"
    }
   },
   "source": [
    "## Putting all the components together"
   ]
  },
  {
   "cell_type": "markdown",
   "metadata": {
    "pycharm": {
     "name": "#%% md\n"
    }
   },
   "source": [
    "### Under the hood: the pipeline [\"tokenizer\",\"tagger\", \"parser\", \"ner\"]."
   ]
  },
  {
   "cell_type": "markdown",
   "metadata": {
    "pycharm": {
     "name": "#%% md\n"
    }
   },
   "source": [
    "#### The NLP pipeline with Spacy\n",
    "<img src=\"spacy.png\">"
   ]
  },
  {
   "cell_type": "code",
   "execution_count": 24,
   "metadata": {
    "pycharm": {
     "name": "#%%\n"
    }
   },
   "outputs": [],
   "source": [
    "nlp = spacy.load('en_core_web_sm')"
   ]
  },
  {
   "cell_type": "markdown",
   "metadata": {
    "pycharm": {
     "name": "#%% md\n"
    }
   },
   "source": [
    "### If you don't need a particular component of the pipeline – for example, the tagger or the parser, you can disable loading it. This can sometimes make a big difference and improve loading speed. "
   ]
  },
  {
   "cell_type": "code",
   "execution_count": 25,
   "metadata": {
    "pycharm": {
     "name": "#%%\n"
    }
   },
   "outputs": [
    {
     "data": {
      "text/plain": "('tagger', <spacy.pipeline.tagger.Tagger at 0x7fa500bbcca0>)"
     },
     "execution_count": 25,
     "metadata": {},
     "output_type": "execute_result"
    }
   ],
   "source": [
    "nlp.remove_pipe('parser')\n",
    "nlp.remove_pipe('tagger')"
   ]
  },
  {
   "cell_type": "markdown",
   "metadata": {
    "pycharm": {
     "name": "#%% md\n"
    }
   },
   "source": [
    "# Task 1: Sentiment analysis"
   ]
  },
  {
   "cell_type": "markdown",
   "metadata": {
    "pycharm": {
     "name": "#%% md\n"
    }
   },
   "source": [
    "### Initialize the analyzer. Typically used for data from social media (short sentences)."
   ]
  },
  {
   "cell_type": "code",
   "execution_count": 26,
   "metadata": {
    "pycharm": {
     "name": "#%%\n"
    }
   },
   "outputs": [],
   "source": [
    "analyzer = SentimentIntensityAnalyzer()\n",
    "vs = analyzer.polarity_scores(example)"
   ]
  },
  {
   "cell_type": "markdown",
   "metadata": {
    "pycharm": {
     "name": "#%% md\n"
    }
   },
   "source": [
    "### The sentiment score consits of four values. Neutral, positive and negative sum to one. The final score is obtained by thresholding the compound value (e.g. +/-0.05)."
   ]
  },
  {
   "cell_type": "code",
   "execution_count": 27,
   "metadata": {
    "pycharm": {
     "name": "#%%\n"
    }
   },
   "outputs": [
    {
     "name": "stdout",
     "output_type": "stream",
     "text": [
      "I am already far north of London, and as I walk in the streets of Petersburgh, I feel a cold northern breeze play upon my cheeks, which braces my nerves and fills me with delight. \n",
      "\n",
      "Negative sentiment: 0.035\n",
      "Neutral sentiment: 0.806\n",
      "Positive sentiment: 0.159\n",
      "Compound sentiment: 0.7096\n"
     ]
    }
   ],
   "source": [
    "print(example, '\\n')\n",
    "print('Negative sentiment:',vs['neg'])\n",
    "print('Neutral sentiment:',vs['neu'])\n",
    "print('Positive sentiment:',vs['pos'])\n",
    "print('Compound sentiment:',vs['compound'])"
   ]
  },
  {
   "cell_type": "markdown",
   "metadata": {
    "pycharm": {
     "name": "#%% md\n"
    }
   },
   "source": [
    "### We can now observe the distributions of sentiment across all sentences in the book Pride and Prejudice:"
   ]
  },
  {
   "cell_type": "code",
   "execution_count": 28,
   "metadata": {
    "pycharm": {
     "name": "#%%\n"
    }
   },
   "outputs": [],
   "source": [
    "nlp = spacy.load('en_core_web_sm')\n",
    "doc = nlp(books[3])"
   ]
  },
  {
   "cell_type": "code",
   "execution_count": 29,
   "metadata": {
    "pycharm": {
     "name": "#%%\n"
    }
   },
   "outputs": [
    {
     "data": {
      "text/plain": "Text(0, 0.5, 'Number of sentences')"
     },
     "execution_count": 29,
     "metadata": {},
     "output_type": "execute_result"
    },
    {
     "data": {
      "text/plain": "<Figure size 432x288 with 1 Axes>",
      "image/png": "[encoded data removed]"
     },
     "metadata": {
      "needs_background": "light"
     },
     "output_type": "display_data"
    }
   ],
   "source": [
    "positive_sent = []\n",
    "#iterate through the sentences, get polarity scores, choose a value\n",
    "[positive_sent.append(analyzer.polarity_scores(sent.text)['pos']) for sent in doc.sents]\n",
    "plt.hist(positive_sent,bins=15)\n",
    "plt.xlim([0,1])\n",
    "plt.ylim([0,8000])\n",
    "plt.xlabel('Positive sentiment')\n",
    "plt.ylabel('Number of sentences')"
   ]
  },
  {
   "cell_type": "code",
   "execution_count": 30,
   "metadata": {
    "pycharm": {
     "name": "#%%\n"
    }
   },
   "outputs": [
    {
     "data": {
      "text/plain": "Text(0, 0.5, 'Number of sentences')"
     },
     "execution_count": 30,
     "metadata": {},
     "output_type": "execute_result"
    },
    {
     "data": {
      "text/plain": "<Figure size 432x288 with 1 Axes>",
      "image/png": "[encoded data removed]"
     },
     "metadata": {
      "needs_background": "light"
     },
     "output_type": "display_data"
    }
   ],
   "source": [
    "negative_sent = []\n",
    "[negative_sent.append(analyzer.polarity_scores(sent.text)['neg']) for sent in doc.sents]\n",
    "plt.hist(negative_sent,bins=15)\n",
    "plt.xlim([0,1])\n",
    "plt.ylim([0,8000])\n",
    "plt.xlabel('Negative sentiment')\n",
    "plt.ylabel('Number of sentences')"
   ]
  },
  {
   "cell_type": "code",
   "execution_count": 31,
   "metadata": {
    "pycharm": {
     "name": "#%%\n"
    }
   },
   "outputs": [
    {
     "data": {
      "text/plain": "Text(0, 0.5, 'Number of sentences')"
     },
     "execution_count": 31,
     "metadata": {},
     "output_type": "execute_result"
    },
    {
     "data": {
      "text/plain": "<Figure size 432x288 with 1 Axes>",
      "image/png": "[encoded data removed]"
     },
     "metadata": {
      "needs_background": "light"
     },
     "output_type": "display_data"
    }
   ],
   "source": [
    "total_sent = []\n",
    "[total_sent.append(analyzer.polarity_scores(sent.text)['compound']) for sent in doc.sents]\n",
    "plt.hist(total_sent,bins = 15)\n",
    "plt.xlim([-1,1])\n",
    "plt.ylim([0,8000])\n",
    "plt.xlabel('Compound sentiment')\n",
    "plt.ylabel('Number of sentences')"
   ]
  },
  {
   "cell_type": "code",
   "execution_count": 32,
   "metadata": {
    "pycharm": {
     "name": "#%%\n"
    }
   },
   "outputs": [
    {
     "name": "stdout",
     "output_type": "stream",
     "text": [
      "Number of positive sentences: 2724\n",
      "Number of negative sentences: 1339\n",
      "Number of neutral sentences: 1863\n"
     ]
    }
   ],
   "source": [
    "sents = [analyzer.polarity_scores(sent.text)['compound'] for sent in doc.sents]\n",
    "print('Number of positive sentences:',sum(np.array(sents)>=0.05))\n",
    "print('Number of negative sentences:',sum(np.array(sents)<=-0.05))\n",
    "print('Number of neutral sentences:',sum(np.abs(np.array(sents))<0.05))"
   ]
  },
  {
   "cell_type": "markdown",
   "metadata": {
    "pycharm": {
     "name": "#%% md\n"
    }
   },
   "source": [
    "#### Most of the sentences are quite neutral in sentiment. This is not the case when working with data from other sources (e.g., in social media opinions are strong and polarized (bimodal distribution))."
   ]
  },
  {
   "cell_type": "markdown",
   "metadata": {
    "pycharm": {
     "name": "#%% md\n"
    }
   },
   "source": [
    "# Task 2: Document classification: Can we detect paragraphs from Frankenstein?"
   ]
  },
  {
   "cell_type": "code",
   "execution_count": 33,
   "metadata": {
    "pycharm": {
     "name": "#%%\n"
    }
   },
   "outputs": [
    {
     "name": "stdout",
     "output_type": "stream",
     "text": [
      "['DRACULA.txt', 'Frankenstein.txt', 'Moby_Dick.txt', 'PRIDE_AND_PREJUDICE.txt']\n"
     ]
    }
   ],
   "source": [
    "# Let's load our corpus via NLTK this time\n",
    "from nltk.corpus import PlaintextCorpusReader\n",
    "?PlaintextCorpusReader\n",
    "our_books = PlaintextCorpusReader(corpus_root, '.*.txt')\n",
    "print(our_books.fileids())"
   ]
  },
  {
   "cell_type": "markdown",
   "metadata": {
    "pycharm": {
     "name": "#%% md\n"
    }
   },
   "source": [
    "### We will segment the books into equally long chunks"
   ]
  },
  {
   "cell_type": "code",
   "execution_count": 34,
   "metadata": {
    "pycharm": {
     "name": "#%%\n"
    }
   },
   "outputs": [
    {
     "name": "stdout",
     "output_type": "stream",
     "text": [
      "DRACULA.txt :\n",
      "Number of sentences: 9303\n",
      "Number of chunks: 187 \n",
      "\n",
      "Frankenstein.txt :\n",
      "Number of sentences: 3378\n",
      "Number of chunks: 68 \n",
      "\n",
      "Moby_Dick.txt :\n",
      "Number of sentences: 9609\n",
      "Number of chunks: 193 \n",
      "\n",
      "PRIDE_AND_PREJUDICE.txt :\n",
      "Number of sentences: 6055\n",
      "Number of chunks: 122 \n",
      "\n"
     ]
    }
   ],
   "source": [
    "def get_chunks(l, n):\n",
    "    \"\"\"Yield successive n-sized chunks from l.\"\"\"\n",
    "    for i in range(0, len(l), n):\n",
    "        yield l[i:i + n]\n",
    "\n",
    "\n",
    "# Get the data\n",
    "book_id = {f:n for n,f in enumerate(our_books.fileids())} # dictionary of books\n",
    "\n",
    "chunks = list()\n",
    "chunk_class = list() # this list contains the original book of the chunk, for evaluation\n",
    "\n",
    "limit = 500 # how many chunks total\n",
    "size = 50 # how many sentences per chunk/page\n",
    "\n",
    "for f in our_books.fileids():\n",
    "    sentences = our_books.sents(f)\n",
    "    print(f,\":\")\n",
    "    print('Number of sentences:',len(sentences))\n",
    "    \n",
    "    # create chunks\n",
    "    chunks_of_sents = [x for x in get_chunks(sentences,size)] # this is a list of lists of sentences, which are a list of tokens\n",
    "    chs = list()\n",
    "    \n",
    "    # regroup so to have a list of chunks which are strings\n",
    "    for c in chunks_of_sents:\n",
    "        grouped_chunk = list()\n",
    "        for s in c:\n",
    "            grouped_chunk.extend(s)\n",
    "        chs.append(\" \".join(grouped_chunk))\n",
    "    print(\"Number of chunks:\",len(chs),'\\n')\n",
    "    \n",
    "    # filter to the limit, to have the same number of chunks per book\n",
    "    chunks.extend(chs[:limit])\n",
    "    chunk_class.extend([book_id[f] for _ in range(len(chs[:limit]))])"
   ]
  },
  {
   "cell_type": "markdown",
   "metadata": {
    "pycharm": {
     "name": "#%% md\n"
    }
   },
   "source": [
    "### Representing the chunks with bag-of-words"
   ]
  },
  {
   "cell_type": "code",
   "execution_count": 35,
   "metadata": {
    "pycharm": {
     "name": "#%%\n"
    }
   },
   "outputs": [
    {
     "name": "stdout",
     "output_type": "stream",
     "text": [
      "Number of samples: 570\n",
      "Number of features: 23116\n"
     ]
    }
   ],
   "source": [
    "vectorizer = CountVectorizer()\n",
    "\n",
    "#initialize and specify minumum number of occurences to avoid untractable number of features\n",
    "#vectorizer = CountVectorizer(min_df = 2) if we want high frequency\n",
    "\n",
    "#create bag of words features\n",
    "X = vectorizer.fit_transform(chunks)\n",
    "\n",
    "print('Number of samples:',X.toarray().shape[0])\n",
    "print('Number of features:',X.toarray().shape[1])\n",
    "\n",
    "#mask and convert to int Frankenstein\n",
    "Y = np.array(chunk_class) == 1\n",
    "Y = Y.astype(int)  \n",
    "\n",
    "#shuffle the data\n",
    "X, Y = shuffle(X, Y, random_state=0)\n",
    "\n",
    "#split into training and test set\n",
    "X_train, X_test, Y_train, Y_test = train_test_split(X, Y, test_size=0.2, random_state=42)"
   ]
  },
  {
   "cell_type": "markdown",
   "metadata": {
    "pycharm": {
     "name": "#%% md\n"
    }
   },
   "source": [
    "### Let's fit the regularized logistic regression. We will crossvalidate the regularization parameter on the training set."
   ]
  },
  {
   "cell_type": "code",
   "execution_count": 36,
   "metadata": {
    "pycharm": {
     "name": "#%%\n"
    }
   },
   "outputs": [],
   "source": [
    "accs = []\n",
    "\n",
    "#the grid of regularization parameter \n",
    "grid = [0.01,0.1,1,10,100,1000,10000]\n",
    "\n",
    "for c in grid:\n",
    "    \n",
    "    #initialize the classifier\n",
    "    clf = LogisticRegression(random_state=0, solver='lbfgs',C = c)\n",
    "    \n",
    "    #crossvalidate\n",
    "    scores = cross_val_score(clf, X_train,Y_train, cv=10)\n",
    "    accs.append(np.mean(scores))"
   ]
  },
  {
   "cell_type": "code",
   "execution_count": 37,
   "metadata": {
    "pycharm": {
     "name": "#%%\n"
    }
   },
   "outputs": [
    {
     "data": {
      "text/plain": "(0.986, 1.0)"
     },
     "execution_count": 37,
     "metadata": {},
     "output_type": "execute_result"
    },
    {
     "data": {
      "text/plain": "<Figure size 432x288 with 1 Axes>",
      "image/png": "[encoded data removed]"
     },
     "metadata": {
      "needs_background": "light"
     },
     "output_type": "display_data"
    }
   ],
   "source": [
    "plt.plot(accs)\n",
    "plt.xticks(range(len(grid)), grid)\n",
    "plt.xlabel('Regularization parameter \\n (Low - strong regularization, High - weak regularization)')\n",
    "plt.ylabel('Crossvalidation accuracy')\n",
    "plt.ylim([0.986,1])"
   ]
  },
  {
   "cell_type": "markdown",
   "metadata": {
    "pycharm": {
     "name": "#%% md\n"
    }
   },
   "source": [
    "### Let's train again, on the entire training set, with the chosen regularization parameter. We will test on the test set"
   ]
  },
  {
   "cell_type": "code",
   "execution_count": 38,
   "metadata": {
    "pycharm": {
     "name": "#%%\n"
    }
   },
   "outputs": [
    {
     "name": "stdout",
     "output_type": "stream",
     "text": [
      "Accuracy: 0.9824561403508771\n"
     ]
    }
   ],
   "source": [
    "clf = LogisticRegression(random_state=0, solver='lbfgs',C = 10).fit(X_train,Y_train)\n",
    "\n",
    "#predict on the test set\n",
    "print('Accuracy:',clf.score(X_test,Y_test))"
   ]
  },
  {
   "cell_type": "markdown",
   "metadata": {
    "pycharm": {
     "name": "#%% md\n"
    }
   },
   "source": [
    "### What features characterize Frankenstein? BOW are interpretable!"
   ]
  },
  {
   "cell_type": "code",
   "execution_count": 39,
   "metadata": {
    "pycharm": {
     "name": "#%%\n"
    }
   },
   "outputs": [
    {
     "name": "stdout",
     "output_type": "stream",
     "text": [
      "['frankenstein' 'towards' 'death' 'creature' 'poor' 'father' 'me' 'my'\n",
      " 'by' 'yet' 'misery' 'but' 'who' 'of' 'had' 'will' 'and' 'justine' 'this'\n",
      " 'which']\n"
     ]
    }
   ],
   "source": [
    "coefs=clf.coef_[0]\n",
    "top_three = np.argpartition(coefs, -20)[-20:]\n",
    "\n",
    "print(np.array(vectorizer.get_feature_names())[top_three])"
   ]
  },
  {
   "cell_type": "markdown",
   "metadata": {
    "pycharm": {
     "name": "#%% md\n"
    }
   },
   "source": [
    "### We can perfectly predict paragraphs from Frankenstein! We saw issues of high dimensionality when using bag of words (more features than samples) and how regularization helps."
   ]
  },
  {
   "cell_type": "markdown",
   "metadata": {
    "pycharm": {
     "name": "#%% md\n"
    }
   },
   "source": [
    "### Alternative text representation: word emdeddings, pretrained on intergraded in Spacy (300-dimensional word vectors trained on Common Crawl with GloVe.) Depending on the application, might be suitable or not"
   ]
  },
  {
   "cell_type": "code",
   "execution_count": 40,
   "metadata": {
    "pycharm": {
     "name": "#%%\n"
    }
   },
   "outputs": [
    {
     "name": "stdout",
     "output_type": "stream",
     "text": [
      "I am already far north of London, and as I walk in the streets of Petersburgh, I feel a cold northern breeze play upon my cheeks, which braces my nerves and fills me with delight. \n",
      "\n",
      "Embedding representation: [-0.06188344, 0.080382735, 0.066186234, 0.10680722, -0.11235807, -0.2166132, 0.2031052, -0.13948984, 0.15524133, -0.20551799] ...\n"
     ]
    }
   ],
   "source": [
    "print(example,'\\n')\n",
    "print('Embedding representation:',list((nlp(example).vector)[0:10]),'...')"
   ]
  },
  {
   "cell_type": "markdown",
   "metadata": {
    "pycharm": {
     "name": "#%% md\n"
    }
   },
   "source": [
    "# Task 3: Topic detection"
   ]
  },
  {
   "cell_type": "code",
   "execution_count": 41,
   "metadata": {
    "pycharm": {
     "name": "#%%\n"
    }
   },
   "outputs": [
    {
     "name": "stdout",
     "output_type": "stream",
     "text": [
      "DRACULA.txt\n",
      "Number of sentences: 9303\n",
      "Number of chunks: 187 \n",
      "\n",
      "Frankenstein.txt\n",
      "Number of sentences: 3378\n",
      "Number of chunks: 68 \n",
      "\n",
      "Moby_Dick.txt\n",
      "Number of sentences: 9609\n",
      "Number of chunks: 193 \n",
      "\n",
      "PRIDE_AND_PREJUDICE.txt\n",
      "Number of sentences: 6055\n",
      "Number of chunks: 122 \n",
      "\n"
     ]
    }
   ],
   "source": [
    "# Get the chunks again (into smaller chunks)\n",
    "book_id = {f:n for n,f in enumerate(our_books.fileids())} # dictionary of books\n",
    "chunks = list()\n",
    "chunk_class = list() # this list contains the original book of the chunk, for evaluation\n",
    "\n",
    "limit = 60 # how many chunks total\n",
    "size = 50 # how many sentences per chunk/page\n",
    "\n",
    "for f in our_books.fileids():\n",
    "    sentences = our_books.sents(f)\n",
    "    print(f)\n",
    "    print('Number of sentences:',len(sentences))\n",
    "    \n",
    "    # create chunks\n",
    "    chunks_of_sents = [x for x in get_chunks(sentences,size)] # this is a list of lists of sentences, which are a list of tokens\n",
    "    chs = list()\n",
    "    \n",
    "    # regroup so to have a list of chunks which are strings\n",
    "    for c in chunks_of_sents:\n",
    "        grouped_chunk = list()\n",
    "        for s in c:\n",
    "            grouped_chunk.extend(s)\n",
    "        chs.append(\" \".join(grouped_chunk))\n",
    "    print(\"Number of chunks:\",len(chs),'\\n')\n",
    "    \n",
    "    # filter to the limit, to have the same number of chunks per book\n",
    "    chunks.extend(chs[:limit])\n",
    "    chunk_class.extend([book_id[f] for _ in range(len(chs[:limit]))])"
   ]
  },
  {
   "cell_type": "code",
   "execution_count": 42,
   "metadata": {
    "pycharm": {
     "name": "#%%\n"
    }
   },
   "outputs": [],
   "source": [
    "STOPWORDS = spacy.lang.en.stop_words.STOP_WORDS\n",
    "\n",
    "processed_docs = list()\n",
    "for doc in nlp.pipe(chunks, n_process=5, batch_size=10):\n",
    "\n",
    "    # Process document using Spacy NLP pipeline.\n",
    "    ents = doc.ents  # Named entities\n",
    "\n",
    "    # Keep only words (no numbers, no punctuation).\n",
    "    # Lemmatize tokens, remove punctuation and remove stopwords.\n",
    "    doc = [token.lemma_ for token in doc if token.is_alpha and not token.is_stop]\n",
    "\n",
    "    # Remove common words from a stopword list and keep only words of length 3 or more.\n",
    "    doc = [token for token in doc if token not in STOPWORDS and len(token) > 2]\n",
    "\n",
    "    # Add named entities, but only if they are a compound of more than word.\n",
    "    doc.extend([str(entity) for entity in ents if len(entity) > 1])\n",
    "\n",
    "    processed_docs.append(doc)\n",
    "docs = processed_docs\n",
    "del processed_docs"
   ]
  },
  {
   "cell_type": "code",
   "execution_count": 43,
   "metadata": {
    "pycharm": {
     "name": "#%%\n"
    }
   },
   "outputs": [],
   "source": [
    "# Add bigrams too\n",
    "from gensim.models.phrases import Phrases\n",
    "\n",
    "# Add bigrams to docs (only ones that appear 15 times or more).\n",
    "bigram = Phrases(docs, min_count=15)\n",
    "\n",
    "for idx in range(len(docs)):\n",
    "    for token in bigram[docs[idx]]:\n",
    "        if '_' in token:\n",
    "            # Token is a bigram, add to document.\n",
    "            docs[idx].append(token)"
   ]
  },
  {
   "cell_type": "code",
   "execution_count": 44,
   "metadata": {
    "pycharm": {
     "name": "#%%\n"
    }
   },
   "outputs": [
    {
     "name": "stdout",
     "output_type": "stream",
     "text": [
      "Number of unique tokens: 3073\n",
      "Number of chunks: 240\n"
     ]
    }
   ],
   "source": [
    "# Create a dictionary representation of the documents, and filter out frequent and rare words.\n",
    "from gensim.corpora import Dictionary\n",
    "dictionary = Dictionary(docs)\n",
    "\n",
    "# Remove rare and common tokens.\n",
    "# Filter out words that occur too frequently or too rarely.\n",
    "max_freq = 0.5\n",
    "min_wordcount = 5\n",
    "dictionary.filter_extremes(no_below=min_wordcount, no_above=max_freq)\n",
    "\n",
    "# Bag-of-words representation of the documents.\n",
    "corpus = [dictionary.doc2bow(doc) for doc in docs]\n",
    "#MmCorpus.serialize(\"models/corpus.mm\", corpus)\n",
    "\n",
    "print('Number of unique tokens: %d' % len(dictionary))\n",
    "print('Number of chunks: %d' % len(corpus))"
   ]
  },
  {
   "cell_type": "code",
   "execution_count": 45,
   "metadata": {
    "pycharm": {
     "name": "#%%\n"
    }
   },
   "outputs": [],
   "source": [
    "# models\n",
    "from gensim.models import LdaMulticore\n",
    "params = {'passes': 10, 'random_state': seed}\n",
    "base_models = dict()\n",
    "model = LdaMulticore(corpus=corpus, num_topics=4, id2word=dictionary, workers=6,\n",
    "                passes=params['passes'], random_state=params['random_state'])"
   ]
  },
  {
   "cell_type": "code",
   "execution_count": 46,
   "metadata": {
    "pycharm": {
     "name": "#%%\n"
    }
   },
   "outputs": [
    {
     "data": {
      "text/plain": "[(0,\n  '0.006*\"father\" + 0.005*\"life\" + 0.004*\"feeling\" + 0.004*\"mind\" + 0.004*\"night\"'),\n (1,\n  '0.019*\"whale\" + 0.012*\"ship\" + 0.011*\"sea\" + 0.009*\"old\" + 0.007*\"Queequeg\"'),\n (2,\n  '0.016*\"Elizabeth\" + 0.011*\"Darcy\" + 0.010*\"Bingley\" + 0.009*\"Miss\" + 0.009*\"Bennet\"'),\n (3,\n  '0.009*\"room\" + 0.009*\"night\" + 0.008*\"door\" + 0.007*\"sleep\" + 0.007*\"Lucy\"')]"
     },
     "execution_count": 46,
     "metadata": {},
     "output_type": "execute_result"
    }
   ],
   "source": [
    "model.show_topics(num_words=5)"
   ]
  },
  {
   "cell_type": "code",
   "execution_count": 47,
   "metadata": {
    "pycharm": {
     "name": "#%%\n"
    }
   },
   "outputs": [
    {
     "data": {
      "text/plain": "[('whale', 0.01897881),\n ('ship', 0.011723886),\n ('sea', 0.010644047),\n ('old', 0.008658722),\n ('Queequeg', 0.007100994),\n ('Captain', 0.0062467423),\n ('Ahab', 0.0059653074),\n ('head', 0.005057104),\n ('Bildad', 0.004193449),\n ('sail', 0.0040963776),\n ('stand', 0.003947095),\n ('Peleg', 0.0038650003),\n ('world', 0.0037362622),\n ('deck', 0.003686264),\n ('thou', 0.0036682205),\n ('sort', 0.0036644787),\n ('God', 0.0036201975),\n ('round', 0.003443694),\n ('Jonah', 0.0034346033),\n ('voyage', 0.0033189591)]"
     },
     "execution_count": 47,
     "metadata": {},
     "output_type": "execute_result"
    }
   ],
   "source": [
    "model.show_topic(1,20)"
   ]
  },
  {
   "cell_type": "code",
   "execution_count": 48,
   "metadata": {
    "pycharm": {
     "name": "#%%\n"
    }
   },
   "outputs": [
    {
     "data": {
      "text/plain": "[(3, 0.9972055)]"
     },
     "execution_count": 48,
     "metadata": {},
     "output_type": "execute_result"
    }
   ],
   "source": [
    "sorted(model[corpus[0]],key=lambda x:x[1],reverse=True)"
   ]
  },
  {
   "cell_type": "code",
   "execution_count": 50,
   "metadata": {
    "pycharm": {
     "name": "#%%\n"
    }
   },
   "outputs": [
    {
     "data": {
      "text/plain": "<IPython.core.display.HTML object>",
      "text/html": "\n<link rel=\"stylesheet\" type=\"text/css\" href=\"https://cdn.jsdelivr.net/gh/bmabey/pyLDAvis@3.3.1/pyLDAvis/js/ldavis.v1.0.0.css\">\n\n\n<div id=\"ldavis_el69363140347014196016250107552\"></div>\n<script type=\"text/javascript\">\n\nvar ldavis_el69363140347014196016250107552_data = {\"mdsDat\": {\"x\": [0.0272923284215191, 0.16525160739298467, -0.13967309940904254, -0.05287083640546099], \"y\": [-0.1082081467513777, 0.03453121407462189, -0.01315950371388134, 0.08683643639063714], \"topics\": [1, 2, 3, 4], \"cluster\": [1, 1, 1, 1], \"Freq\": [28.20105309154664, 27.37158853715759, 23.848150838117956, 20.57920753317781]}, \"tinfo\": {\"Term\": [\"whale\", \"Elizabeth\", \"Darcy\", \"ship\", \"Bingley\", \"Bennet\", \"Miss\", \"sea\", \"Jane\", \"Collins\", \"Mrs\", \"Lucy\", \"Ahab\", \"Queequeg\", \"Captain\", \"room\", \"sister\", \"Count\", \"sleep\", \"door\", \"old\", \"Mrs_Bennet\", \"night\", \"Bildad\", \"Lady\", \"bed\", \"window\", \"Peleg\", \"Catherine\", \"Wickham\", \"Clerval\", \"Felix\", \"Justine\", \"Henry\", \"wretch\", \"Geneva\", \"Safie\", \"creator\", \"Frankenstein\", \"inhabit\", \"victim\", \"thirst\", \"hovel\", \"Ernest\", \"forever\", \"abhor\", \"cottage\", \"unfortunate\", \"ardour\", \"hatred\", \"crime\", \"daemon\", \"cottager\", \"Victor\", \"protector\", \"Ingolstadt\", \"accent\", \"contemplate\", \"beheld\", \"Switzerland\", \"lake\", \"murderer\", \"sensation\", \"tale\", \"fiend\", \"miserable\", \"murder\", \"misery\", \"despair\", \"human\", \"gentle\", \"reflect\", \"endure\", \"scene\", \"weep\", \"mountain\", \"discover\", \"father\", \"horror\", \"creature\", \"destroy\", \"appear\", \"tear\", \"death\", \"life\", \"feeling\", \"endeavour\", \"month\", \"remain\", \"mind\", \"child\", \"pass\", \"return\", \"love\", \"heart\", \"night\", \"enter\", \"spirit\", \"fear\", \"word\", \"hope\", \"Elizabeth\", \"dear\", \"country\", \"old\", \"Bingley\", \"Darcy\", \"Jane\", \"Bennet\", \"Miss_Bingley\", \"Collins\", \"Mrs_Bennet\", \"Wickham\", \"Charlotte\", \"Lucas\", \"Netherfield\", \"Catherine\", \"Longbourn\", \"Lady_Catherine\", \"Lydia\", \"Miss_Bennet\", \"Hurst\", \"Lizzy\", \"Meryton\", \"Lady\", \"Colonel\", \"Lady Catherine\", \"Bourgh\", \"Fitzwilliam\", \"Miss_Lucas\", \"Hertfordshire\", \"Rosings\", \"Eliza\", \"Colonel_Fitzwilliam\", \"Mrs_Hurst\", \"Miss\", \"Sir_William\", \"Mrs\", \"Elizabeth\", \"dance\", \"sister\", \"lady\", \"daughter\", \"family\", \"young\", \"cousin\", \"wish\", \"attention\", \"reply\", \"hope\", \"manner\", \"believe\", \"dear\", \"room\", \"mother\", \"mean\", \"father\", \"walk\", \"Bildad\", \"Ahab\", \"Peleg\", \"Jonah\", \"Pequod\", \"ship\", \"mast\", \"Stubb\", \"Captain_Ahab\", \"whale\", \"Flask\", \"Nantucket\", \"Captain_Peleg\", \"mast_head\", \"captain\", \"Starbuck\", \"shipmate\", \"Cape\", \"whale_ship\", \"oil\", \"pilot\", \"sperm\", \"lance\", \"sperm_whale\", \"Captain\", \"pulpit\", \"whaling\", \"cabin\", \"fishery\", \"Bedford\", \"deck\", \"crew\", \"sailor\", \"whaleman\", \"leg\", \"sea\", \"thou\", \"mate\", \"sail\", \"Queequeg\", \"Whale\", \"voyage\", \"board\", \"old\", \"fish\", \"head\", \"boat\", \"God\", \"stand\", \"water\", \"round\", \"sort\", \"world\", \"chapter\", \"land\", \"small\", \"Count\", \"Mina\", \"Helsing\", \"Van_Helsing\", \"Lucy\", \"Van Helsing\", \"Westenra\", \"Jonathan\", \"Seward\", \"Dracula\", \"driver\", \"Hawkins\", \"diary\", \"Van\", \"Holmwood\", \"Arthur\", \"Diary\", \"Renfield\", \"Pass\", \"wolf\", \"lunch\", \"Bistritz\", \"lunatic\", \"Arthur Holmwood\", \"Amsterdam\", \"Transylvania\", \"key\", \"Murray\", \"Slovaks\", \"Harker\", \"September\", \"asleep\", \"later\", \"patient\", \"landlord\", \"window\", \"bed\", \"door\", \"sleep\", \"lock\", \"wake\", \"moonlight\", \"room\", \"night\", \"try\", \"ask\", \"castle\", \"open\", \"write\", \"face\", \"run\", \"dear\", \"fear\", \"sit\", \"close\", \"light\", \"old\", \"sort\", \"want\", \"fall\", \"till\", \"head\", \"round\", \"letter\", \"lie\", \"morning\", \"house\", \"love\"], \"Freq\": [339.0, 385.0, 229.0, 209.0, 205.0, 178.0, 193.0, 218.0, 142.0, 145.0, 192.0, 104.0, 105.0, 160.0, 115.0, 255.0, 177.0, 89.0, 161.0, 166.0, 283.0, 85.0, 271.0, 74.0, 89.0, 110.0, 103.0, 68.0, 78.0, 76.0, 51.31079547411449, 46.464279743018054, 52.12880725615332, 27.235476667993243, 20.64712956747286, 34.7142193581401, 23.36821316090991, 18.660436466320743, 14.809946253474005, 14.786448497983917, 16.60352051939221, 13.79334111948819, 13.739436059312961, 12.81920285126304, 30.17346409902464, 11.886562741779729, 53.74712006758907, 11.828511230965617, 12.726371633611828, 10.891627319393642, 23.559310451223645, 10.829755064643006, 23.44694284077967, 20.74097636506316, 13.526742371454272, 15.282174098973755, 9.883191895036179, 11.675145439595967, 24.21120460384107, 8.96888150111623, 31.350395052104677, 26.884884050582812, 42.21095403845046, 29.84710357952179, 28.37399586385047, 53.76900851948337, 39.17945633335887, 48.066828830807545, 39.0128339186423, 54.60958660795573, 32.01215415163339, 31.241407099398828, 32.66006530789799, 55.897995787864446, 26.113086564186396, 50.42772407874696, 48.6480770794964, 125.38025423156759, 45.73978784999741, 61.26229142987058, 37.113778755949916, 79.98879708011036, 46.48625953701338, 64.75874687034174, 106.6899585131679, 82.5973928761284, 46.528685539202534, 45.16923143460812, 64.47008179369045, 82.04354245026967, 51.41039201659071, 78.87041881753035, 69.86119836104653, 73.1237987929637, 68.32741064541698, 81.54115127964411, 58.58090078681026, 50.875906116150446, 55.0169627635936, 56.447466600352705, 54.736763657464145, 58.808900285940304, 54.25167460376535, 49.327465204524, 49.996613399278175, 203.55765212319042, 226.97866158080097, 141.60300640655126, 175.8543581411322, 67.13161353027586, 143.57007593152147, 83.88683073403996, 75.36242262573168, 70.69646976855792, 57.63114105170742, 48.25148268649797, 76.93994455863576, 39.78011856245763, 70.22023576377806, 35.97428734849535, 34.06301946038828, 29.430597045768106, 34.933065853295226, 29.400969778165255, 86.22560009950831, 29.302559842362765, 48.4977676598996, 30.17580016623658, 28.33037764969855, 22.82928300239019, 23.72340869515768, 24.58259245652207, 19.049340360359167, 22.66333857447811, 18.1265101170797, 182.28865689150396, 37.747415972505664, 171.14003204461065, 323.81347848099034, 59.170615777739506, 154.41428579480822, 95.16620844222425, 69.39833863843451, 77.63135478918228, 117.67642730648559, 53.30569063189885, 101.32880142166695, 59.588645115052955, 68.52508664936359, 89.05515696966256, 81.45297601394353, 70.08805974844049, 84.70219068292684, 88.90769021396204, 64.48510226698707, 70.3430096302504, 69.65053553372807, 64.99344822635277, 73.22139504968544, 104.15963900005923, 67.48638666173316, 59.97126756955773, 44.681089681605684, 204.70961279875704, 52.09168649818116, 42.769580125975814, 39.0062984833145, 331.3871145537602, 37.059248914721, 50.845818375010765, 27.654278859807906, 23.905724247226757, 49.65530924938391, 35.843005599885764, 31.183840807288192, 20.123520047903448, 21.022594562536174, 29.15744212258578, 17.278859520461587, 17.239723632244434, 19.88810913270494, 15.345695437372235, 109.07374707942746, 17.091105640491417, 16.194114660135043, 46.72155882900166, 14.354187211375118, 15.24320181270671, 64.36548811085815, 30.360940305798856, 43.544337773025056, 30.84853814437414, 34.19080560578323, 185.85463989053252, 64.0504333356775, 57.64020942117638, 71.52644296494856, 123.98974660394329, 52.59351944947575, 57.952015915602296, 37.83612465222484, 151.1890852463309, 44.36694962879025, 88.30158927147593, 48.84664995876298, 63.211909376190086, 68.91983385126616, 56.42320180498708, 60.12999832523742, 63.98509776620387, 65.23850320166375, 57.07382959435863, 45.43528030445189, 45.6068212386775, 88.03245679822997, 35.4532152322935, 26.084591008827573, 26.070714439634877, 101.18072273785081, 19.38733703431426, 20.281343468015564, 35.022597803726704, 18.3639440030449, 15.417550712286829, 28.950277078611663, 12.661540583008689, 13.530548669364558, 26.08719582557023, 13.443483766044611, 40.296830744257406, 10.682627975990991, 10.643079490679002, 8.844421956338477, 21.172317088149153, 8.80989717146485, 8.804514760572701, 7.891871170042628, 7.844809937182628, 6.95298733974032, 7.807196208010135, 31.217604292028625, 8.667174262991463, 6.9321882727194115, 6.926148518342878, 15.582969731085624, 26.227431441019316, 17.856473079014975, 21.956416042078494, 23.554847365005475, 81.24717755866835, 85.35011649950727, 114.49607583143695, 110.69168221692809, 30.030428803590702, 30.56810858549405, 18.380635879222083, 137.42180996165848, 135.62841906857707, 71.89486457485897, 72.51247100975617, 27.003035359605434, 69.75483835153058, 65.20756152652821, 58.072103704315445, 54.43995425469674, 77.93506448907063, 62.24576035006812, 61.26122732561142, 48.41118045244579, 55.83078256027668, 75.63935968288418, 55.32676016804208, 50.4900873258879, 45.73804910180319, 48.0288354526722, 56.63097173910864, 48.11507681292098, 49.58777529806102, 42.30157839733182, 43.0381539169118, 42.56019723295725, 42.58368443577488], \"Total\": [339.0, 385.0, 229.0, 209.0, 205.0, 178.0, 193.0, 218.0, 142.0, 145.0, 192.0, 104.0, 105.0, 160.0, 115.0, 255.0, 177.0, 89.0, 161.0, 166.0, 283.0, 85.0, 271.0, 74.0, 89.0, 110.0, 103.0, 68.0, 78.0, 76.0, 52.8607202007482, 47.965603886811806, 53.83523667788004, 28.37722130828808, 21.52864444503008, 36.20510243519147, 24.461655991132066, 19.568217373108027, 15.650833757357917, 15.650224000164657, 17.604870422566314, 14.669664153131665, 14.66826120657429, 13.69004192374371, 32.26329171945215, 12.711983083434959, 57.68741470678444, 12.709585392961367, 13.686841850888511, 11.731510543661898, 25.41540946843901, 11.729120512989418, 25.40864251923327, 22.477841846678704, 14.661471721885219, 16.61298034697044, 10.750543170238812, 12.70428287513751, 26.381488467367962, 9.772854975946984, 34.2023858853765, 29.317837178519902, 46.909249382712105, 33.21937354573467, 32.22577977290217, 64.34768985424617, 45.87008479553214, 57.5026924884696, 45.85823792517897, 69.13006317993639, 38.04181945032528, 37.03257273818919, 38.99558061865791, 71.99885982841441, 30.26064618432637, 65.30185284664252, 65.11473305583252, 211.74065567487642, 60.41397037650016, 90.23051142565853, 46.7673398803639, 133.54143249675292, 64.1890964921267, 104.73252088312346, 218.33243557914423, 161.1638052085207, 67.84390558815748, 65.04111503027848, 114.19452094395152, 171.9480383416436, 84.3227141342696, 180.32676585097568, 156.03173546231395, 184.00399328271223, 162.14497554773465, 271.1262746561781, 122.59286214207809, 100.46738906759421, 149.6709989789356, 170.22382407844435, 171.66301802618952, 385.40492341288626, 219.89422393549359, 107.05157135944543, 283.7670107087826, 205.45018318016784, 229.12372206280236, 142.96172729801162, 178.00135744385094, 68.17371966031324, 145.81623818839768, 85.21742163213409, 76.70222229449304, 71.96299845903462, 58.70716384792185, 49.24047309618903, 78.59624440229481, 40.71929817695017, 71.97156010675027, 36.93339999468905, 35.04078159163605, 30.305939286787392, 35.98785982177762, 30.306522593740272, 89.02609742815781, 30.308330692467653, 50.19797607961682, 31.254989103400188, 29.36206106628901, 23.678236087546505, 24.62632889362657, 25.573937054199916, 19.89204668477329, 23.68213966345978, 18.944983940942585, 193.29229320415172, 39.77808964314098, 192.51674578294885, 385.40492341288626, 64.46308890934714, 177.55615290109031, 125.52277224229205, 87.5647123273201, 113.62128244366329, 222.41668852214826, 71.58218685467041, 187.63538923650765, 85.95144869733957, 109.91259405588207, 171.66301802618952, 154.23448548792967, 134.27367213450827, 219.89422393549359, 255.83986705022664, 114.78145879985786, 167.2924963761453, 211.74065567487642, 134.03871621995557, 74.1637850732792, 105.54557315289038, 68.45945839123452, 60.851469519753444, 45.64352790459949, 209.2250320411779, 53.25227471647061, 43.74284995781551, 39.93955907935638, 339.5984153973525, 38.039196602806, 52.3110031407694, 28.529250505999578, 24.726055209184317, 51.36648568708176, 37.09715711430067, 32.33460162757914, 20.92319023715176, 21.875168242632565, 30.44399076670863, 18.07065720310199, 18.07214768582171, 20.927948358564457, 16.170687651707986, 115.05111147644831, 18.069357186059413, 17.121619418312463, 49.49701394833825, 15.221281053451328, 16.172795704079405, 68.5515362108116, 32.36365899164764, 46.648574934467746, 33.30324727250385, 37.1089620007756, 218.45539958433662, 72.48295541439519, 64.82752103745071, 84.94410048283717, 160.14691679909285, 63.036191724564176, 72.65495441087721, 42.88101998581194, 283.7670107087826, 57.18077921258232, 184.72115630305274, 70.92361947266238, 117.84748414795429, 141.51276757946079, 96.01280824738234, 123.43656438599433, 147.91858828968728, 157.2524415093316, 125.20866305851237, 77.74479307774384, 93.63963350554566, 89.48460087070382, 36.56313790791981, 26.94067645495933, 26.94052819821801, 104.85595206861845, 20.204209266845712, 21.165854908599172, 36.55573542222454, 19.240895992877636, 16.352549973359984, 30.77631473468059, 13.467496391924177, 14.428327543980444, 27.889001885667977, 14.428064041240328, 43.3293057520726, 11.541662016004853, 11.54118565079593, 9.618555571146192, 23.07635837419662, 9.618086869613087, 9.617784524259843, 8.6564820787105, 8.655590767686618, 7.694228255577578, 8.654993337262418, 34.611437508497474, 9.616937676333322, 7.693767489973074, 7.693724413266739, 17.315871923099532, 29.802648477950452, 20.184740701304815, 24.99053806963983, 26.907140734189777, 103.87297929629699, 110.6712436616608, 166.3861293561556, 161.766696062851, 38.429357454355156, 39.3492760627745, 22.12311083895299, 255.83986705022664, 271.1262746561781, 127.69706902239747, 139.03835154151744, 36.62761310646583, 142.28084036418625, 129.27406412888988, 125.78161216703353, 116.87610733348222, 219.89422393549359, 149.6709989789356, 150.50542552661128, 99.93972234620249, 140.73076489190294, 283.7670107087826, 147.91858828968728, 125.27368664534889, 104.13023139628663, 117.39307761993892, 184.72115630305274, 123.43656438599433, 139.21707951235229, 113.54650437717748, 143.9372220357072, 163.06612591481985, 184.00399328271223], \"Category\": [\"Default\", \"Default\", \"Default\", \"Default\", \"Default\", \"Default\", \"Default\", \"Default\", \"Default\", \"Default\", \"Default\", \"Default\", \"Default\", \"Default\", \"Default\", \"Default\", \"Default\", \"Default\", \"Default\", \"Default\", \"Default\", \"Default\", \"Default\", \"Default\", \"Default\", \"Default\", \"Default\", \"Default\", \"Default\", \"Default\", \"Topic1\", \"Topic1\", \"Topic1\", \"Topic1\", \"Topic1\", \"Topic1\", \"Topic1\", \"Topic1\", \"Topic1\", \"Topic1\", \"Topic1\", \"Topic1\", \"Topic1\", \"Topic1\", \"Topic1\", \"Topic1\", \"Topic1\", \"Topic1\", \"Topic1\", \"Topic1\", \"Topic1\", \"Topic1\", \"Topic1\", \"Topic1\", \"Topic1\", \"Topic1\", \"Topic1\", \"Topic1\", \"Topic1\", \"Topic1\", \"Topic1\", \"Topic1\", \"Topic1\", \"Topic1\", \"Topic1\", \"Topic1\", \"Topic1\", \"Topic1\", \"Topic1\", \"Topic1\", \"Topic1\", \"Topic1\", \"Topic1\", \"Topic1\", \"Topic1\", \"Topic1\", \"Topic1\", \"Topic1\", \"Topic1\", \"Topic1\", \"Topic1\", \"Topic1\", \"Topic1\", \"Topic1\", \"Topic1\", \"Topic1\", \"Topic1\", \"Topic1\", \"Topic1\", \"Topic1\", \"Topic1\", \"Topic1\", \"Topic1\", \"Topic1\", \"Topic1\", \"Topic1\", \"Topic1\", \"Topic1\", \"Topic1\", \"Topic1\", \"Topic1\", \"Topic1\", \"Topic1\", \"Topic1\", \"Topic1\", \"Topic2\", \"Topic2\", \"Topic2\", \"Topic2\", \"Topic2\", \"Topic2\", \"Topic2\", \"Topic2\", \"Topic2\", \"Topic2\", \"Topic2\", \"Topic2\", \"Topic2\", \"Topic2\", \"Topic2\", \"Topic2\", \"Topic2\", \"Topic2\", \"Topic2\", \"Topic2\", \"Topic2\", \"Topic2\", \"Topic2\", \"Topic2\", \"Topic2\", \"Topic2\", \"Topic2\", \"Topic2\", \"Topic2\", \"Topic2\", \"Topic2\", \"Topic2\", \"Topic2\", \"Topic2\", \"Topic2\", \"Topic2\", \"Topic2\", \"Topic2\", \"Topic2\", \"Topic2\", \"Topic2\", \"Topic2\", \"Topic2\", \"Topic2\", \"Topic2\", \"Topic2\", \"Topic2\", \"Topic2\", \"Topic2\", \"Topic2\", \"Topic2\", \"Topic2\", \"Topic2\", \"Topic3\", \"Topic3\", \"Topic3\", \"Topic3\", \"Topic3\", \"Topic3\", \"Topic3\", \"Topic3\", \"Topic3\", \"Topic3\", \"Topic3\", \"Topic3\", \"Topic3\", \"Topic3\", \"Topic3\", \"Topic3\", \"Topic3\", \"Topic3\", \"Topic3\", \"Topic3\", \"Topic3\", \"Topic3\", \"Topic3\", \"Topic3\", \"Topic3\", \"Topic3\", \"Topic3\", \"Topic3\", \"Topic3\", \"Topic3\", \"Topic3\", \"Topic3\", \"Topic3\", \"Topic3\", \"Topic3\", \"Topic3\", \"Topic3\", \"Topic3\", \"Topic3\", \"Topic3\", \"Topic3\", \"Topic3\", \"Topic3\", \"Topic3\", \"Topic3\", \"Topic3\", \"Topic3\", \"Topic3\", \"Topic3\", \"Topic3\", \"Topic3\", \"Topic3\", \"Topic3\", \"Topic3\", \"Topic3\", \"Topic3\", \"Topic4\", \"Topic4\", \"Topic4\", \"Topic4\", \"Topic4\", \"Topic4\", \"Topic4\", \"Topic4\", \"Topic4\", \"Topic4\", \"Topic4\", \"Topic4\", \"Topic4\", \"Topic4\", \"Topic4\", \"Topic4\", \"Topic4\", \"Topic4\", \"Topic4\", \"Topic4\", \"Topic4\", \"Topic4\", \"Topic4\", \"Topic4\", \"Topic4\", \"Topic4\", \"Topic4\", \"Topic4\", \"Topic4\", \"Topic4\", \"Topic4\", \"Topic4\", \"Topic4\", \"Topic4\", \"Topic4\", \"Topic4\", \"Topic4\", \"Topic4\", \"Topic4\", \"Topic4\", \"Topic4\", \"Topic4\", \"Topic4\", \"Topic4\", \"Topic4\", \"Topic4\", \"Topic4\", \"Topic4\", \"Topic4\", \"Topic4\", \"Topic4\", \"Topic4\", \"Topic4\", \"Topic4\", \"Topic4\", \"Topic4\", \"Topic4\", \"Topic4\", \"Topic4\", \"Topic4\", \"Topic4\", \"Topic4\", \"Topic4\", \"Topic4\", \"Topic4\", \"Topic4\", \"Topic4\", \"Topic4\"], \"logprob\": [30.0, 29.0, 28.0, 27.0, 26.0, 25.0, 24.0, 23.0, 22.0, 21.0, 20.0, 19.0, 18.0, 17.0, 16.0, 15.0, 14.0, 13.0, 12.0, 11.0, 10.0, 9.0, 8.0, 7.0, 6.0, 5.0, 4.0, 3.0, 2.0, 1.0, -5.9975, -6.0967, -5.9817, -6.6309, -6.9078, -6.3882, -6.784, -7.009, -7.2401, -7.2417, -7.1258, -7.3112, -7.3151, -7.3844, -6.5284, -7.46, -5.9511, -7.4649, -7.3917, -7.5474, -6.7759, -7.5531, -6.7806, -6.9033, -7.3307, -7.2087, -7.6445, -7.4779, -6.7486, -7.7416, -6.4901, -6.6438, -6.1927, -6.5393, -6.5899, -5.9507, -6.2672, -6.0628, -6.2715, -5.9352, -6.4693, -6.4936, -6.4492, -5.9118, -6.6729, -6.0148, -6.0508, -5.104, -6.1124, -5.8202, -6.3214, -5.5535, -6.0962, -5.7647, -5.2654, -5.5214, -6.0953, -6.125, -5.7692, -5.5281, -5.9955, -5.5676, -5.6889, -5.6432, -5.7111, -5.5343, -5.865, -6.006, -5.9277, -5.9021, -5.9328, -5.8611, -5.9417, -6.0369, -6.0234, -4.5896, -4.4807, -4.9525, -4.7359, -5.6989, -4.9387, -5.476, -5.5832, -5.6471, -5.8515, -6.0291, -5.5625, -6.2222, -5.6539, -6.3227, -6.3773, -6.5235, -6.3521, -6.5245, -5.4486, -6.5278, -6.024, -6.4985, -6.5616, -6.7775, -6.7391, -6.7035, -6.9585, -6.7848, -7.0081, -4.6999, -6.2746, -4.763, -4.1254, -5.8251, -4.8659, -5.3499, -5.6657, -5.5535, -5.1376, -5.9295, -5.2871, -5.8181, -5.6783, -5.4163, -5.5055, -5.6558, -5.4664, -5.4179, -5.7391, -5.6521, -5.662, -5.7312, -5.4742, -5.1218, -5.5558, -5.6739, -5.9682, -4.4461, -5.8147, -6.0119, -6.104, -3.9644, -6.1552, -5.8389, -6.4479, -6.5936, -5.8626, -6.1886, -6.3278, -6.7658, -6.7221, -6.395, -6.9182, -6.9205, -6.7776, -7.0369, -5.0757, -6.9292, -6.9831, -5.9235, -7.1037, -7.0436, -5.6031, -6.3546, -5.9939, -6.3386, -6.2358, -4.5428, -5.608, -5.7135, -5.4977, -4.9475, -5.8051, -5.7081, -6.1345, -4.7492, -5.9752, -5.287, -5.879, -5.6212, -5.5348, -5.7348, -5.6712, -5.6091, -5.5897, -5.7234, -5.9514, -5.9477, -5.1426, -6.0521, -6.3589, -6.3595, -5.0034, -6.6557, -6.6106, -6.0643, -6.7099, -6.8848, -6.2547, -7.0817, -7.0153, -6.3588, -7.0218, -5.924, -7.2517, -7.2554, -7.4405, -6.5676, -7.4444, -7.445, -7.5545, -7.5604, -7.6811, -7.5652, -6.1793, -7.4608, -7.6841, -7.685, -6.8741, -6.3535, -6.7379, -6.5312, -6.461, -5.2228, -5.1735, -4.8798, -4.9135, -6.2181, -6.2003, -6.709, -4.6972, -4.7104, -5.3451, -5.3365, -6.3243, -5.3753, -5.4427, -5.5586, -5.6232, -5.2644, -5.4892, -5.5051, -5.7406, -5.598, -5.2943, -5.607, -5.6985, -5.7974, -5.7485, -5.5837, -5.7467, -5.7165, -5.8755, -5.8582, -5.8694, -5.8688], \"loglift\": [30.0, 29.0, 28.0, 27.0, 26.0, 25.0, 24.0, 23.0, 22.0, 21.0, 20.0, 19.0, 18.0, 17.0, 16.0, 15.0, 14.0, 13.0, 12.0, 11.0, 10.0, 9.0, 8.0, 7.0, 6.0, 5.0, 4.0, 3.0, 2.0, 1.0, 1.2361, 1.234, 1.2336, 1.2247, 1.224, 1.2238, 1.2201, 1.2183, 1.2106, 1.209, 1.2073, 1.2042, 1.2004, 1.2001, 1.1988, 1.1987, 1.1951, 1.194, 1.1931, 1.1915, 1.19, 1.186, 1.1855, 1.1854, 1.1853, 1.1823, 1.1817, 1.1813, 1.18, 1.18, 1.1787, 1.1792, 1.1603, 1.1588, 1.1385, 1.0862, 1.1082, 1.0866, 1.1041, 1.03, 1.0932, 1.0958, 1.0885, 1.0127, 1.1184, 1.0073, 0.9743, 0.7418, 0.9876, 0.8786, 1.0346, 0.7533, 0.9431, 0.7851, 0.5497, 0.5974, 0.8887, 0.9012, 0.6941, 0.5259, 0.771, 0.4388, 0.4623, 0.343, 0.4016, 0.0643, 0.5274, 0.5854, 0.265, 0.162, 0.1228, -0.6142, -0.1337, 0.491, -0.4704, 1.2864, 1.2863, 1.2861, 1.2835, 1.2803, 1.2801, 1.2799, 1.278, 1.2779, 1.2772, 1.2754, 1.2744, 1.2723, 1.271, 1.2694, 1.2674, 1.2664, 1.2659, 1.2653, 1.2637, 1.2619, 1.2612, 1.2605, 1.2599, 1.2592, 1.2583, 1.2561, 1.2524, 1.2517, 1.2515, 1.2371, 1.2433, 1.178, 1.1215, 1.21, 1.156, 1.0188, 1.0631, 0.9148, 0.6591, 1.0009, 0.6795, 0.9293, 0.8232, 0.6394, 0.6572, 0.6455, 0.3417, 0.2387, 0.7191, 0.4293, 0.1838, 0.5718, 1.4207, 1.4202, 1.4191, 1.4189, 1.4122, 1.4116, 1.4114, 1.411, 1.4098, 1.409, 1.4074, 1.4051, 1.4023, 1.3997, 1.3996, 1.3991, 1.3972, 1.3945, 1.3937, 1.3903, 1.3887, 1.3863, 1.3825, 1.3811, 1.3801, 1.3778, 1.3778, 1.3758, 1.3748, 1.3743, 1.3705, 1.3696, 1.3646, 1.3569, 1.3516, 1.2718, 1.3098, 1.316, 1.2615, 1.1776, 1.2523, 1.2074, 1.3083, 0.8038, 1.1797, 0.6954, 1.0605, 0.8106, 0.714, 0.9019, 0.7142, 0.5955, 0.5537, 0.6478, 0.8963, 0.7141, 1.5645, 1.5501, 1.5486, 1.5481, 1.5452, 1.5396, 1.5382, 1.538, 1.5342, 1.522, 1.5197, 1.5192, 1.5166, 1.5141, 1.5102, 1.5083, 1.5035, 1.4999, 1.497, 1.4948, 1.4931, 1.4925, 1.4884, 1.4825, 1.4796, 1.4778, 1.4777, 1.4769, 1.4767, 1.4758, 1.4754, 1.4531, 1.4583, 1.4515, 1.4478, 1.3352, 1.3211, 1.2071, 1.2015, 1.3343, 1.3284, 1.3956, 0.9594, 0.8882, 1.0064, 0.9299, 1.276, 0.8681, 0.8965, 0.808, 0.8169, 0.5436, 0.7035, 0.682, 0.8561, 0.6564, 0.2587, 0.5975, 0.6722, 0.7582, 0.6872, 0.3986, 0.6388, 0.5486, 0.5935, 0.3736, 0.2377, 0.1174]}, \"token.table\": {\"Topic\": [1, 3, 4, 1, 4, 4, 3, 2, 4, 3, 1, 2, 4, 4, 2, 4, 3, 1, 2, 3, 3, 3, 2, 4, 2, 4, 1, 2, 2, 4, 2, 2, 2, 4, 1, 2, 4, 4, 4, 2, 1, 2, 3, 4, 1, 1, 3, 2, 3, 1, 1, 2, 1, 2, 3, 4, 4, 4, 4, 1, 2, 4, 2, 1, 2, 2, 4, 3, 3, 4, 1, 2, 2, 4, 2, 4, 2, 4, 2, 4, 2, 2, 2, 3, 4, 2, 2, 4, 1, 2, 4, 2, 2, 2, 1, 2, 3, 4, 2, 4, 2, 4, 1, 3, 2, 4, 3, 3, 3, 4, 4, 2, 1, 1, 2, 4, 4, 2, 3, 4, 4, 1, 3, 3, 1, 4, 3, 4, 4, 4, 1, 2, 4, 1, 3, 1, 2, 1, 1, 1, 2, 3, 4, 1, 1, 2, 3, 4, 1, 3, 4, 1, 2, 3, 4, 1, 2, 3, 4, 1, 2, 1, 2, 3, 4, 1, 3, 4, 1, 3, 4, 1, 3, 1, 3, 1, 3, 4, 1, 2, 3, 4, 1, 2, 3, 4, 1, 2, 3, 4, 1, 1, 2, 3, 1, 2, 1, 2, 3, 4, 1, 2, 4, 1, 1, 2, 3, 4, 1, 3, 1, 3, 1, 1, 2, 3, 4, 1, 2, 3, 4, 1, 2, 3, 4, 1, 2, 3, 4, 1, 3, 1, 2, 3, 4, 1, 2, 3, 4, 4, 1, 2, 3, 4, 1, 2, 3, 4, 3, 4, 1, 2, 1, 2, 3, 4, 1, 2, 3, 4, 1, 2, 3, 4, 1, 2, 3, 4, 1, 2, 3, 4, 1, 2, 3, 4, 1, 2, 3, 4, 1, 2, 3, 4, 1, 2, 3, 4, 1, 2, 3, 4, 3, 1, 2, 1, 2, 3, 4, 1, 1, 2, 3, 4, 1, 2, 3, 4, 1, 2, 3, 4, 1, 2, 3, 4, 1, 2, 3, 4, 1, 1, 2, 3, 4, 1, 1, 2, 3, 4, 1, 2, 3, 4, 1, 2, 3, 4, 3, 1, 3, 4, 3, 4, 3, 4, 3, 4, 1, 2, 3, 4, 1, 2, 3, 4, 1, 2, 3, 4, 1, 2, 3, 4, 1, 3, 4, 1, 2, 3, 4, 4, 4, 1, 2, 3, 4, 3, 3, 1, 3, 4, 1, 2, 3, 4, 1, 2, 3, 4, 1, 2, 3, 4, 1, 2, 3, 4, 1, 2, 3, 4, 1, 3, 4, 1, 2, 3, 4, 1, 2, 3, 4, 1, 2, 3, 4, 1, 2, 3, 4, 1, 3, 1, 2, 3, 4, 1, 3, 1, 2, 3, 4, 1, 2, 3, 4, 1, 2, 3, 4, 1, 2, 3, 4, 3, 1, 3, 3, 1, 2, 1, 2, 3, 4, 1, 2, 3, 4, 1, 2, 3, 4, 1, 2, 3, 4, 1, 2, 3, 4, 1, 2, 3, 4, 1, 3, 4, 1, 3, 4, 1, 2, 3, 4, 1, 3, 4, 1, 2, 4, 1, 3, 4, 3, 4, 1, 2, 3, 4, 1, 2, 3, 4, 1, 2, 3, 4, 1, 2, 3, 4, 1, 2, 3, 4, 3, 3, 1, 2, 3, 4, 1, 2, 3, 4, 1, 2, 3, 4, 1, 2, 3, 4, 1, 1, 3, 1, 2, 3, 4, 1, 2, 3, 4, 1, 1, 1, 3, 4, 2, 3, 4, 1, 2, 3, 4, 1, 2, 3, 4, 1, 2, 3, 4, 1, 2, 3, 4, 1, 3, 4, 3, 3, 4, 3, 1, 2, 3, 4, 1, 2, 3, 4, 3, 4, 1, 2, 3, 4, 1, 2, 3, 4, 1, 1, 2, 3, 4, 1, 2, 3, 4], \"Freq\": [0.009474580222814536, 0.9853563431727117, 0.9097728540774276, 0.046158136284109114, 0.9231627256821823, 0.9242581141735472, 0.9274834280022729, 0.9887565045986672, 0.0056179346852197, 0.9843079061818474, 0.004867359982458902, 0.992941436421616, 0.004867359982458902, 0.9357664415644219, 0.9598467592086392, 0.031994891973621306, 0.9558771761529692, 0.008691789128909949, 0.034767156515639795, 0.9474050150511844, 0.9764754769202745, 0.9814488464781689, 0.9796905766371681, 0.012723254242041144, 0.9866181443289523, 0.01389603020181623, 0.9647995677379768, 0.018917638583097585, 0.9875443351785618, 0.0068579467720733455, 0.9568326376750006, 0.9711960290263687, 0.011175107116417704, 0.9834094262447579, 0.004364454238945638, 0.9907311122406599, 0.004364454238945638, 0.9530689760925481, 0.9172881308686761, 0.9551556107368215, 0.15308574544802325, 0.8406742631382972, 0.002594673651661411, 0.005189347303322822, 0.949595338890313, 0.9590205537399217, 0.020848272907389602, 0.9536115307704741, 0.9726809003445319, 0.9584153938730618, 0.9667145691039364, 0.027620416260112468, 0.15273979016303388, 0.02545663169383898, 0.5345892655706186, 0.28002294863222876, 0.9098324327720253, 0.9652870601692151, 0.9650834136799795, 0.9514673655561251, 0.9745666966305859, 0.9010217838541309, 0.9569081402021832, 0.9029084298372397, 0.06019389532248265, 0.9932728338123192, 0.0069948791113543605, 0.9860074123686192, 0.027355488501321107, 0.9574420975462388, 0.9659101214904827, 0.018575194644047745, 0.9660088725039329, 0.02246532261637053, 0.9562138506116121, 0.019921121887741918, 0.9726064003083162, 0.01389437714726166, 0.9725501925741128, 0.027787148359260366, 0.9823352020011646, 0.9879543857755806, 0.009536893044904052, 0.019073786089808104, 0.9632261975353094, 0.9747274825815314, 0.9568897226760641, 0.9572482561027339, 0.005173512008281772, 0.9415791855072825, 0.051735120082817714, 0.970297991529833, 0.9827834000233302, 0.9713561396618043, 0.00519435333239759, 0.8882344198399879, 0.00519435333239759, 0.1038870666479518, 0.9857139349112268, 0.01173468970132413, 0.9501195702309174, 0.9358488432495963, 0.019116437077472796, 0.9749382909511125, 0.9748078558513071, 0.9356914282429537, 0.9786814207191947, 0.985901004279412, 0.7742890245933376, 0.2185493214577969, 0.9531083142433804, 0.977557735714155, 0.940247054751242, 0.05775048489853929, 0.05775048489853929, 0.9240077583766286, 0.9355073696496786, 0.9552997728374424, 0.025139467706248485, 0.025139467706248485, 0.909827338702758, 0.026956243491081628, 0.9704247656789387, 0.9830177969992377, 0.92091819863805, 0.924321913173235, 0.03585642842650081, 0.9322671390890211, 0.9403980996761021, 0.9650887246419978, 0.9342533924404728, 0.044488256782879654, 0.9449181281061549, 0.15863902508093874, 0.8407868329289754, 0.013037431903349123, 0.9778073927511843, 0.9439911869956193, 0.9301855582221582, 0.5990650130396438, 0.2695792558678397, 0.04492987597797329, 0.08237143929295103, 0.9498173604713696, 0.12226842314743445, 0.31645944814630095, 0.04315356111085922, 0.5250349935154538, 0.03355406485902929, 0.06710812971805857, 0.8724056863347616, 0.23268950440179206, 0.6980685132053761, 0.011634475220089603, 0.058172376100448016, 0.0993934796073017, 0.027107312620173192, 0.0993934796073017, 0.7680405242382404, 0.9097288058513568, 0.07581073382094641, 0.32024148380275824, 0.5213233457254204, 0.02978990547002402, 0.12660709824760208, 0.06996102240554472, 0.8861729504702331, 0.04664068160369648, 0.2537941539621808, 0.6908840857859366, 0.05639870088048462, 0.04040647789556496, 0.9495522305457765, 0.01946794659248981, 0.9733973296244905, 0.16381083808436392, 0.08190541904218196, 0.7371487713796376, 0.18369335985363622, 0.27154670587059265, 0.45524006572422887, 0.07986667819723313, 0.6048192414536273, 0.1660288113794271, 0.07115520487689733, 0.15416961056661088, 0.19011459661836816, 0.15009047101450118, 0.1801085652174014, 0.4802895072464038, 0.9445633506385628, 0.936079390530379, 0.017334803528340353, 0.05200441058502106, 0.905203809396349, 0.03935668736505865, 0.4577233138920815, 0.2802387636073968, 0.11209550544295872, 0.14946067392394496, 0.23748925182342104, 0.740407667449489, 0.013969955989613002, 0.970962231138698, 0.6760462623583627, 0.12190998173675395, 0.1440754329616183, 0.044330902449728704, 0.03089885480062926, 0.9269656440188778, 0.9443090039451588, 0.03934620849771495, 0.9378367276402393, 0.03102550674871555, 0.9152524490871087, 0.015512753374357775, 0.03102550674871555, 0.137041505431361, 0.7879886562303258, 0.011420125452613417, 0.05710062726306708, 0.24557261684072706, 0.3865494894715148, 0.01364292315781817, 0.3547160021032724, 0.6206286209088476, 0.06683692840556821, 0.18141451995797087, 0.13367385681113642, 0.0437626954234011, 0.9336041690325568, 0.8504469810556463, 0.04361266569516135, 0.06541899854274202, 0.04361266569516135, 0.7911504074135957, 0.04276488688722139, 0.08552977377444278, 0.08552977377444278, 0.9703134308065287, 0.7525178665477295, 0.12286005984452725, 0.10750255236396135, 0.015357507480565906, 0.12621244379721538, 0.12621244379721538, 0.06010116371295971, 0.6851532663277408, 0.032492519283770525, 0.9422830592293452, 0.6927667207915592, 0.2947943492730039, 0.8462497410337506, 0.07693179463943187, 0.07693179463943187, 0.02564393154647729, 0.48126782399143586, 0.21208412582673444, 0.1549845534887675, 0.1549845534887675, 0.15900575334843625, 0.08745316434163994, 0.29416064369460704, 0.4611166847104651, 0.30730748958213827, 0.0960335904944182, 0.15365374479106914, 0.4417545162743237, 0.2376315371496302, 0.6864911073211539, 0.06160817629805228, 0.017602336085157794, 0.5903448234898027, 0.33059310115428947, 0.033059310115428946, 0.047227585879184214, 0.3674726592006017, 0.10690113722199322, 0.1135824582983678, 0.4142419067352237, 0.5150039730857124, 0.3660871615910486, 0.01861460143683298, 0.10548274147538689, 0.8688695881781107, 0.03103105672064681, 0.06206211344129362, 0.03103105672064681, 0.06995357627305333, 0.06995357627305333, 0.7694893390035866, 0.08744197034131666, 0.9197648969779445, 0.929849324144208, 0.030994977471473596, 0.8411795351109681, 0.052573720944435506, 0.026286860472217753, 0.052573720944435506, 0.9376456645596158, 0.11909843160524014, 0.09744417131337829, 0.47639372642096056, 0.30857320915903125, 0.41937778071933624, 0.15418300761740303, 0.16651764822679527, 0.2590274527972371, 0.32039515926260254, 0.5184576213522114, 0.04077756572433123, 0.12233269717299369, 0.7614132908883123, 0.016552462845398096, 0.06620985138159238, 0.16552462845398094, 0.24529925988978624, 0.3434189638457007, 0.14717955593387175, 0.2636967043815202, 0.9544416889525545, 0.7956017609421576, 0.0867929193755081, 0.0867929193755081, 0.04339645968775405, 0.9584527352351112, 0.028892183393263843, 0.028892183393263843, 0.05778436678652769, 0.8956576851911792, 0.06373345534910503, 0.7568347822706222, 0.03983340959319064, 0.14340027453548632, 0.9063695177257881, 0.029237726378251228, 0.029237726378251228, 0.029237726378251228, 0.9556598505182804, 0.27011455261061995, 0.5788168984513284, 0.1414885751769914, 0.11149456680055289, 0.8919565344044231, 0.09908475068350582, 0.8917627561515524, 0.9162207231581789, 0.053895336656363466, 0.23703988128175046, 0.3663343619808871, 0.035915133527537946, 0.3591513352753795, 0.25540196203370674, 0.017613928416117707, 0.3434716041142953, 0.36989249673847185, 0.4900783510071417, 0.16946634567536675, 0.16030600266588746, 0.17862668868484605, 0.31265374016688496, 0.06395190139777193, 0.23449030512516375, 0.3979229420305809, 0.052043545156213435, 0.1561306354686403, 0.7806531773432016, 0.39673052034169404, 0.3315145443951142, 0.0434773172977199, 0.23369058047524444, 0.9241629483268922, 0.9357370256692273, 0.2852799090994693, 0.5251743781149322, 0.07131997727486733, 0.11670541735887383, 0.9764841084603793, 0.9706360273386986, 0.09255328453071364, 0.8946817504635652, 0.015425547421785608, 0.16737152356818197, 0.4184288089204549, 0.21519195887337683, 0.19725929563392874, 0.4768882552592672, 0.1570241816097587, 0.16865560246974085, 0.19773415461969615, 0.8391909658655237, 0.07770286720977071, 0.046621720325862426, 0.046621720325862426, 0.8347435210903372, 0.10434294013629215, 0.03478098004543072, 0.01739049002271536, 0.6918700575636078, 0.19987357218504223, 0.030749780336160343, 0.07687445084040086, 0.04520159968819858, 0.09040319937639715, 0.8136287943875744, 0.2292666173021842, 0.27789893006325356, 0.1945292510442775, 0.2987413498179976, 0.2178052122825168, 0.5575813434432431, 0.043561042456503364, 0.17424416982601346, 0.7656750585227956, 0.030627002340911827, 0.04594050351136774, 0.15313501170455912, 0.8502273360479747, 0.021800700924307047, 0.08720280369722819, 0.06540210277292113, 0.9209410583595813, 0.0682178561747838, 0.30244210047139924, 0.06638972937177055, 0.1327794587435411, 0.5016112885867109, 0.03284720481171373, 0.9525689395396981, 0.1762008905655096, 0.024668124679171347, 0.532126689507839, 0.2678253536595746, 0.1967938896644859, 0.14056706404606137, 0.1757088300575767, 0.49198472416121475, 0.4380935887536884, 0.25509246940088187, 0.12200074623520436, 0.1885466078180431, 0.040015144820545766, 0.040015144820545766, 0.040015144820545766, 0.8803331860520068, 0.9407516178814901, 0.9548836750885085, 0.06820597679203631, 0.9408193011489957, 0.8371009008518546, 0.1350162743309443, 0.5604472042175492, 0.17513975131798415, 0.1225978259225889, 0.1401118010543873, 0.23655160014493887, 0.6277715542307993, 0.0545888308026782, 0.0818832462040173, 0.4486266834922628, 0.39094610990040046, 0.04486266834922628, 0.11536114718372473, 0.09771737410687438, 0.34787385182047276, 0.019543474821374876, 0.5354912101056716, 0.06481061782458129, 0.05670929059650863, 0.48607963368435964, 0.38886370694748773, 0.08556068668052942, 0.10267282401663531, 0.3422427467221177, 0.4620277080748589, 0.1177244793123742, 0.8476162510490942, 0.035317343793712264, 0.04287376415698903, 0.9432228114537586, 0.021436882078494514, 0.777790094641187, 0.1111128706630267, 0.06944554416439169, 0.027778217665756676, 0.09612946184876867, 0.8514323763748082, 0.0503535276350693, 0.8953458124503404, 0.04263551487858764, 0.06395327231788146, 0.009559085643281808, 0.9798062784363853, 0.009559085643281808, 0.9587252800281659, 0.030926621936392448, 0.0732162743312072, 0.8673312497696853, 0.033792126614403326, 0.022528084409602217, 0.14617413241431698, 0.2259054773675808, 0.21926119862147547, 0.4053010035124244, 0.15454355320632118, 0.018545226384758542, 0.14836181107806834, 0.686173376236066, 0.14950934210107594, 0.22426401315161393, 0.49124498118924953, 0.14950934210107594, 0.006760475553225104, 0.18929331549030293, 0.43267043540640665, 0.37182615542738073, 0.9406740303111372, 0.9276043371238862, 0.5076274050048949, 0.2289300061786781, 0.09953478529507744, 0.1592556564721239, 0.0989310027601493, 0.1342635037459169, 0.48758851360359295, 0.2755935076889873, 0.9030874696868558, 0.03010291565622853, 0.03010291565622853, 0.03010291565622853, 0.7166326138527634, 0.04673690959909327, 0.12463175893091538, 0.10905278906455096, 0.954350410061112, 0.11037077550526025, 0.882966204042082, 0.017036779685383297, 0.3492539835503576, 0.2299965257526745, 0.40888271244919916, 0.13312756612305862, 0.18794479923255333, 0.11746549952034584, 0.5638343976976601, 0.9441692729524962, 0.9656418702297872, 0.17892792178331837, 0.7982938048794205, 0.01376368629102449, 0.025413428150614124, 0.17789399705429887, 0.7878162726690379, 0.2238159305462941, 0.4849345161836372, 0.08206584120030783, 0.2088948685098745, 0.08780774554149678, 0.3592135044879414, 0.15166792411713081, 0.3991261160977127, 0.2812124808435245, 0.010415277068278687, 0.5832555158236065, 0.12498332481934424, 0.8592017447884774, 0.03304622095340298, 0.06609244190680597, 0.06609244190680597, 0.020612581456864395, 0.9746806374603021, 0.0029446544938377707, 0.959992616608683, 0.9308401594097557, 0.06005420383288747, 0.9344910436969045, 0.08664428478870871, 0.09627142754300967, 0.028881428262902905, 0.7797985630983784, 0.2291678567405003, 0.5382779890881519, 0.026647425202383758, 0.20252043153811655, 0.04333439374551289, 0.9100222686557707, 0.3289786274228776, 0.24673397056715818, 0.1997370237924614, 0.22323549717980978, 0.26072727142724206, 0.19077605226383565, 0.41334811323831055, 0.1399024383268128, 0.9754446014295101, 0.08509054058231426, 0.31715565126135314, 0.09282604427161556, 0.5028077398045843, 0.14837016151651705, 0.530535729059061, 0.1618583580180186, 0.1618583580180186], \"Term\": [\"Ahab\", \"Ahab\", \"Amsterdam\", \"Arthur\", \"Arthur\", \"Arthur Holmwood\", \"Bedford\", \"Bennet\", \"Bennet\", \"Bildad\", \"Bingley\", \"Bingley\", \"Bingley\", \"Bistritz\", \"Bourgh\", \"Bourgh\", \"Cape\", \"Captain\", \"Captain\", \"Captain\", \"Captain_Ahab\", \"Captain_Peleg\", \"Catherine\", \"Catherine\", \"Charlotte\", \"Charlotte\", \"Clerval\", \"Clerval\", \"Collins\", \"Collins\", \"Colonel\", \"Colonel_Fitzwilliam\", \"Count\", \"Count\", \"Darcy\", \"Darcy\", \"Darcy\", \"Diary\", \"Dracula\", \"Eliza\", \"Elizabeth\", \"Elizabeth\", \"Elizabeth\", \"Elizabeth\", \"Ernest\", \"Felix\", \"Felix\", \"Fitzwilliam\", \"Flask\", \"Frankenstein\", \"Geneva\", \"Geneva\", \"God\", \"God\", \"God\", \"God\", \"Harker\", \"Hawkins\", \"Helsing\", \"Henry\", \"Hertfordshire\", \"Holmwood\", \"Hurst\", \"Ingolstadt\", \"Ingolstadt\", \"Jane\", \"Jane\", \"Jonah\", \"Jonathan\", \"Jonathan\", \"Justine\", \"Justine\", \"Lady\", \"Lady\", \"Lady Catherine\", \"Lady Catherine\", \"Lady_Catherine\", \"Lady_Catherine\", \"Lizzy\", \"Lizzy\", \"Longbourn\", \"Lucas\", \"Lucy\", \"Lucy\", \"Lucy\", \"Lydia\", \"Meryton\", \"Mina\", \"Miss\", \"Miss\", \"Miss\", \"Miss_Bennet\", \"Miss_Bingley\", \"Miss_Lucas\", \"Mrs\", \"Mrs\", \"Mrs\", \"Mrs\", \"Mrs_Bennet\", \"Mrs_Bennet\", \"Mrs_Hurst\", \"Murray\", \"Nantucket\", \"Nantucket\", \"Netherfield\", \"Pass\", \"Peleg\", \"Pequod\", \"Queequeg\", \"Queequeg\", \"Renfield\", \"Rosings\", \"Safie\", \"September\", \"September\", \"September\", \"Seward\", \"Sir_William\", \"Sir_William\", \"Sir_William\", \"Slovaks\", \"Starbuck\", \"Starbuck\", \"Stubb\", \"Switzerland\", \"Transylvania\", \"Van\", \"Van\", \"Van Helsing\", \"Van_Helsing\", \"Victor\", \"Victor\", \"Westenra\", \"Whale\", \"Whale\", \"Wickham\", \"Wickham\", \"abhor\", \"accent\", \"appear\", \"appear\", \"appear\", \"appear\", \"ardour\", \"ask\", \"ask\", \"ask\", \"ask\", \"asleep\", \"asleep\", \"asleep\", \"attention\", \"attention\", \"attention\", \"attention\", \"bed\", \"bed\", \"bed\", \"bed\", \"beheld\", \"beheld\", \"believe\", \"believe\", \"believe\", \"believe\", \"board\", \"board\", \"board\", \"boat\", \"boat\", \"boat\", \"cabin\", \"cabin\", \"captain\", \"captain\", \"castle\", \"castle\", \"castle\", \"chapter\", \"chapter\", \"chapter\", \"chapter\", \"child\", \"child\", \"child\", \"child\", \"close\", \"close\", \"close\", \"close\", \"contemplate\", \"cottage\", \"cottage\", \"cottage\", \"cottager\", \"cottager\", \"country\", \"country\", \"country\", \"country\", \"cousin\", \"cousin\", \"cousin\", \"creator\", \"creature\", \"creature\", \"creature\", \"creature\", \"crew\", \"crew\", \"crime\", \"crime\", \"daemon\", \"dance\", \"dance\", \"dance\", \"dance\", \"daughter\", \"daughter\", \"daughter\", \"daughter\", \"dear\", \"dear\", \"dear\", \"dear\", \"death\", \"death\", \"death\", \"death\", \"deck\", \"deck\", \"despair\", \"despair\", \"despair\", \"despair\", \"destroy\", \"destroy\", \"destroy\", \"destroy\", \"diary\", \"discover\", \"discover\", \"discover\", \"discover\", \"door\", \"door\", \"door\", \"door\", \"driver\", \"driver\", \"endeavour\", \"endeavour\", \"endure\", \"endure\", \"endure\", \"endure\", \"enter\", \"enter\", \"enter\", \"enter\", \"face\", \"face\", \"face\", \"face\", \"fall\", \"fall\", \"fall\", \"fall\", \"family\", \"family\", \"family\", \"family\", \"father\", \"father\", \"father\", \"father\", \"fear\", \"fear\", \"fear\", \"fear\", \"feeling\", \"feeling\", \"feeling\", \"feeling\", \"fiend\", \"fiend\", \"fiend\", \"fiend\", \"fish\", \"fish\", \"fish\", \"fish\", \"fishery\", \"forever\", \"forever\", \"gentle\", \"gentle\", \"gentle\", \"gentle\", \"hatred\", \"head\", \"head\", \"head\", \"head\", \"heart\", \"heart\", \"heart\", \"heart\", \"hope\", \"hope\", \"hope\", \"hope\", \"horror\", \"horror\", \"horror\", \"horror\", \"house\", \"house\", \"house\", \"house\", \"hovel\", \"human\", \"human\", \"human\", \"human\", \"inhabit\", \"key\", \"key\", \"key\", \"key\", \"lady\", \"lady\", \"lady\", \"lady\", \"lake\", \"lake\", \"lake\", \"lake\", \"lance\", \"land\", \"land\", \"land\", \"landlord\", \"landlord\", \"later\", \"later\", \"leg\", \"leg\", \"letter\", \"letter\", \"letter\", \"letter\", \"lie\", \"lie\", \"lie\", \"lie\", \"life\", \"life\", \"life\", \"life\", \"light\", \"light\", \"light\", \"light\", \"lock\", \"lock\", \"lock\", \"love\", \"love\", \"love\", \"love\", \"lunatic\", \"lunch\", \"manner\", \"manner\", \"manner\", \"manner\", \"mast\", \"mast_head\", \"mate\", \"mate\", \"mate\", \"mean\", \"mean\", \"mean\", \"mean\", \"mind\", \"mind\", \"mind\", \"mind\", \"miserable\", \"miserable\", \"miserable\", \"miserable\", \"misery\", \"misery\", \"misery\", \"misery\", \"month\", \"month\", \"month\", \"month\", \"moonlight\", \"moonlight\", \"moonlight\", \"morning\", \"morning\", \"morning\", \"morning\", \"mother\", \"mother\", \"mother\", \"mother\", \"mountain\", \"mountain\", \"mountain\", \"mountain\", \"murder\", \"murder\", \"murder\", \"murder\", \"murderer\", \"murderer\", \"night\", \"night\", \"night\", \"night\", \"oil\", \"oil\", \"old\", \"old\", \"old\", \"old\", \"open\", \"open\", \"open\", \"open\", \"pass\", \"pass\", \"pass\", \"pass\", \"patient\", \"patient\", \"patient\", \"patient\", \"pilot\", \"protector\", \"protector\", \"pulpit\", \"reflect\", \"reflect\", \"remain\", \"remain\", \"remain\", \"remain\", \"reply\", \"reply\", \"reply\", \"reply\", \"return\", \"return\", \"return\", \"return\", \"room\", \"room\", \"room\", \"room\", \"round\", \"round\", \"round\", \"round\", \"run\", \"run\", \"run\", \"run\", \"sail\", \"sail\", \"sail\", \"sailor\", \"sailor\", \"sailor\", \"scene\", \"scene\", \"scene\", \"scene\", \"sea\", \"sea\", \"sea\", \"sensation\", \"sensation\", \"sensation\", \"ship\", \"ship\", \"ship\", \"shipmate\", \"shipmate\", \"sister\", \"sister\", \"sister\", \"sister\", \"sit\", \"sit\", \"sit\", \"sit\", \"sleep\", \"sleep\", \"sleep\", \"sleep\", \"small\", \"small\", \"small\", \"small\", \"sort\", \"sort\", \"sort\", \"sort\", \"sperm\", \"sperm_whale\", \"spirit\", \"spirit\", \"spirit\", \"spirit\", \"stand\", \"stand\", \"stand\", \"stand\", \"tale\", \"tale\", \"tale\", \"tale\", \"tear\", \"tear\", \"tear\", \"tear\", \"thirst\", \"thou\", \"thou\", \"till\", \"till\", \"till\", \"till\", \"try\", \"try\", \"try\", \"try\", \"unfortunate\", \"victim\", \"voyage\", \"voyage\", \"voyage\", \"wake\", \"wake\", \"wake\", \"walk\", \"walk\", \"walk\", \"walk\", \"want\", \"want\", \"want\", \"want\", \"water\", \"water\", \"water\", \"water\", \"weep\", \"weep\", \"weep\", \"weep\", \"whale\", \"whale\", \"whale\", \"whale_ship\", \"whaleman\", \"whaleman\", \"whaling\", \"window\", \"window\", \"window\", \"window\", \"wish\", \"wish\", \"wish\", \"wish\", \"wolf\", \"wolf\", \"word\", \"word\", \"word\", \"word\", \"world\", \"world\", \"world\", \"world\", \"wretch\", \"write\", \"write\", \"write\", \"write\", \"young\", \"young\", \"young\", \"young\"]}, \"R\": 30, \"lambda.step\": 0.01, \"plot.opts\": {\"xlab\": \"PC1\", \"ylab\": \"PC2\"}, \"topic.order\": [1, 3, 2, 4]};\n\nfunction LDAvis_load_lib(url, callback){\n  var s = document.createElement('script');\n  s.src = url;\n  s.async = true;\n  s.onreadystatechange = s.onload = callback;\n  s.onerror = function(){console.warn(\"failed to load library \" + url);};\n  document.getElementsByTagName(\"head\")[0].appendChild(s);\n}\n\nif(typeof(LDAvis) !== \"undefined\"){\n   // already loaded: just create the visualization\n   !function(LDAvis){\n       new LDAvis(\"#\" + \"ldavis_el69363140347014196016250107552\", ldavis_el69363140347014196016250107552_data);\n   }(LDAvis);\n}else if(typeof define === \"function\" && define.amd){\n   // require.js is available: use it to load d3/LDAvis\n   require.config({paths: {d3: \"https://d3js.org/d3.v5\"}});\n   require([\"d3\"], function(d3){\n      window.d3 = d3;\n      LDAvis_load_lib(\"https://cdn.jsdelivr.net/gh/bmabey/pyLDAvis@3.3.1/pyLDAvis/js/ldavis.v3.0.0.js\", function(){\n        new LDAvis(\"#\" + \"ldavis_el69363140347014196016250107552\", ldavis_el69363140347014196016250107552_data);\n      });\n    });\n}else{\n    // require.js not available: dynamically load d3 & LDAvis\n    LDAvis_load_lib(\"https://d3js.org/d3.v5.js\", function(){\n         LDAvis_load_lib(\"https://cdn.jsdelivr.net/gh/bmabey/pyLDAvis@3.3.1/pyLDAvis/js/ldavis.v3.0.0.js\", function(){\n                 new LDAvis(\"#\" + \"ldavis_el69363140347014196016250107552\", ldavis_el69363140347014196016250107552_data);\n            })\n         });\n}\n</script>"
     },
     "execution_count": 50,
     "metadata": {},
     "output_type": "execute_result"
    }
   ],
   "source": [
    "# plot topics\n",
    "data =  pyLDAvis.gensim_models.prepare(model, corpus, dictionary)\n",
    "pyLDAvis.display(data)"
   ]
  },
  {
   "cell_type": "code",
   "execution_count": 51,
   "metadata": {
    "pycharm": {
     "name": "#%%\n"
    }
   },
   "outputs": [],
   "source": [
    "# assignment\n",
    "sent_to_cluster = list()\n",
    "for n,doc in enumerate(corpus):\n",
    "    if doc:\n",
    "        cluster = max(model[doc],key=lambda x:x[1])\n",
    "        sent_to_cluster.append(cluster[0])"
   ]
  },
  {
   "cell_type": "code",
   "execution_count": 52,
   "metadata": {
    "pycharm": {
     "name": "#%%\n"
    }
   },
   "outputs": [
    {
     "name": "stdout",
     "output_type": "stream",
     "text": [
      "DRACULA.txt : 3 - 55\n",
      "Accuracy: 0.9166666666666666\n",
      "------\n",
      "Frankenstein.txt : 0 - 60\n",
      "Accuracy: 1.0\n",
      "------\n",
      "Moby_Dick.txt : 1 - 52\n",
      "Accuracy: 0.8666666666666667\n",
      "------\n",
      "PRIDE_AND_PREJUDICE.txt : 2 - 60\n",
      "Accuracy: 1.0\n",
      "------\n"
     ]
    }
   ],
   "source": [
    "# accuracy\n",
    "from collections import Counter\n",
    "for book, cluster in book_id.items():\n",
    "    assignments = list()\n",
    "    for real,given in zip(chunk_class,sent_to_cluster):\n",
    "        if real == cluster:\n",
    "            assignments.append(given)\n",
    "    most_common,num_most_common = Counter(assignments).most_common(1)[0] # 4, 6 times\n",
    "    print(book,\":\",most_common,\"-\",num_most_common)\n",
    "    print(\"Accuracy:\",num_most_common/limit)\n",
    "    print(\"------\")"
   ]
  },
  {
   "cell_type": "markdown",
   "metadata": {
    "pycharm": {
     "name": "#%% md\n"
    }
   },
   "source": [
    "# Task 4: Semantic analysis based on lexical categories"
   ]
  },
  {
   "cell_type": "code",
   "execution_count": 53,
   "metadata": {
    "pycharm": {
     "name": "#%%\n"
    }
   },
   "outputs": [],
   "source": [
    "from empath import Empath\n",
    "lexicon = Empath()"
   ]
  },
  {
   "cell_type": "markdown",
   "metadata": {
    "pycharm": {
     "name": "#%% md\n"
    }
   },
   "source": [
    "### Let's see what pre-build categories we can study! More information: https://hci.stanford.edu/publications/2016/ethan/empath-chi-2016.pdf"
   ]
  },
  {
   "cell_type": "code",
   "execution_count": 54,
   "metadata": {
    "pycharm": {
     "name": "#%%\n"
    }
   },
   "outputs": [
    {
     "name": "stdout",
     "output_type": "stream",
     "text": [
      "help\n",
      "office\n",
      "dance\n",
      "money\n",
      "wedding\n",
      "domestic_work\n",
      "sleep\n",
      "medical_emergency\n",
      "cold\n",
      "hate\n",
      "cheerfulness\n",
      "aggression\n",
      "occupation\n",
      "envy\n",
      "anticipation\n"
     ]
    }
   ],
   "source": [
    "for cat in list(lexicon.cats.keys())[:15]:\n",
    "    print(cat)"
   ]
  },
  {
   "cell_type": "markdown",
   "metadata": {
    "pycharm": {
     "name": "#%% md\n"
    }
   },
   "source": [
    "### For each category, we can examine representative terms"
   ]
  },
  {
   "cell_type": "code",
   "execution_count": 55,
   "metadata": {
    "pycharm": {
     "name": "#%%\n"
    }
   },
   "outputs": [
    {
     "data": {
      "text/plain": "['painkiller',\n 'mental',\n 'hospital',\n 'disorder',\n 'asthma',\n 'cancerous',\n 'symptom',\n 'vaccination',\n 'cramp',\n 'malaria',\n 'syndrome',\n 'illness',\n 'medication',\n 'healthy',\n 'therapist']"
     },
     "execution_count": 55,
     "metadata": {},
     "output_type": "execute_result"
    }
   ],
   "source": [
    "lexicon.cats[\"health\"][:15]"
   ]
  },
  {
   "cell_type": "markdown",
   "metadata": {
    "pycharm": {
     "name": "#%% md\n"
    }
   },
   "source": [
    "### Studying Pride and Prejudice"
   ]
  },
  {
   "cell_type": "code",
   "execution_count": 56,
   "metadata": {
    "pycharm": {
     "name": "#%%\n"
    }
   },
   "outputs": [],
   "source": [
    "nlp = spacy.load('en_core_web_sm')\n",
    "doc = nlp(books[3])"
   ]
  },
  {
   "cell_type": "code",
   "execution_count": 57,
   "metadata": {
    "pycharm": {
     "name": "#%%\n"
    }
   },
   "outputs": [],
   "source": [
    "empath_features = lexicon.analyze(doc.text,categories = [\"disappointment\", \"pain\", \"joy\", \"beauty\", \"affection\"])"
   ]
  },
  {
   "cell_type": "code",
   "execution_count": 58,
   "metadata": {
    "pycharm": {
     "name": "#%%\n"
    }
   },
   "outputs": [
    {
     "data": {
      "text/plain": "{'disappointment': 149.0,\n 'pain': 228.0,\n 'joy': 278.0,\n 'beauty': 136.0,\n 'affection': 439.0}"
     },
     "execution_count": 58,
     "metadata": {},
     "output_type": "execute_result"
    }
   ],
   "source": [
    "empath_features"
   ]
  },
  {
   "cell_type": "code",
   "execution_count": 65,
   "metadata": {
    "pycharm": {
     "name": "#%%\n"
    }
   },
   "outputs": [],
   "source": [
    "empath_features = lexicon.analyze(doc.text,categories = [\"disappointment\", \"pain\", \"joy\", \"beauty\", \"affection\"], normalize = True)"
   ]
  },
  {
   "cell_type": "code",
   "execution_count": 66,
   "metadata": {
    "pycharm": {
     "name": "#%%\n"
    }
   },
   "outputs": [
    {
     "data": {
      "text/plain": "{'disappointment': 0.0012256615693403638,\n 'pain': 0.001875508978587939,\n 'joy': 0.002286804807225645,\n 'beauty': 0.0011187246538945602,\n 'affection': 0.0036111773754390585}"
     },
     "execution_count": 66,
     "metadata": {},
     "output_type": "execute_result"
    }
   ],
   "source": [
    "empath_features"
   ]
  },
  {
   "cell_type": "markdown",
   "metadata": {
    "pycharm": {
     "name": "#%% md\n"
    }
   },
   "source": [
    "### Usecase: the evolution of topics"
   ]
  },
  {
   "cell_type": "code",
   "execution_count": 67,
   "metadata": {
    "pycharm": {
     "name": "#%%\n"
    }
   },
   "outputs": [],
   "source": [
    "bins = range(0,len(doc.text),150000)\n"
   ]
  },
  {
   "cell_type": "code",
   "execution_count": 68,
   "metadata": {
    "pycharm": {
     "name": "#%%\n"
    }
   },
   "outputs": [],
   "source": [
    "love = []\n",
    "pain = []\n",
    "beauty = []\n",
    "affection = []\n",
    "\n",
    "\n",
    "for cnt,i in enumerate(bins[:-1]):\n",
    "    empath_features = lexicon.analyze(doc.text[bins[cnt]:bins[cnt+1]],\n",
    "                                      categories = [\"love\", \"pain\", \"joy\", \"beauty\", \"affection\"], normalize = True)\n",
    "    love.append(empath_features[\"love\"])\n",
    "    pain.append(empath_features[\"pain\"])\n",
    "    beauty.append(empath_features[\"beauty\"])\n",
    "    affection.append(empath_features[\"affection\"])"
   ]
  },
  {
   "cell_type": "code",
   "execution_count": 69,
   "metadata": {
    "pycharm": {
     "name": "#%%\n"
    }
   },
   "outputs": [
    {
     "data": {
      "text/plain": "<matplotlib.legend.Legend at 0x7fa513773310>"
     },
     "execution_count": 69,
     "metadata": {},
     "output_type": "execute_result"
    },
    {
     "data": {
      "text/plain": "<Figure size 432x288 with 1 Axes>",
      "image/png": "[encoded data removed]"
     },
     "metadata": {
      "needs_background": "light"
     },
     "output_type": "display_data"
    }
   ],
   "source": [
    "plt.plot(love,label = \"love\")\n",
    "plt.plot(beauty, label = \"beauty\")\n",
    "plt.plot(affection, label = \"affection\")\n",
    "plt.plot(pain,label = \"pain\")\n",
    "\n",
    "plt.xlabel(\"progression in the book\")\n",
    "plt.ylabel(\"frequency of a category\")\n",
    "plt.legend()"
   ]
  },
  {
   "cell_type": "code",
   "execution_count": 70,
   "metadata": {
    "pycharm": {
     "name": "#%%\n"
    }
   },
   "outputs": [],
   "source": [
    "# We can observe how as the story progresses, beauty and affection categories decrease, while love and pain intensify!"
   ]
  },
  {
   "cell_type": "markdown",
   "metadata": {
    "pycharm": {
     "name": "#%% md\n"
    }
   },
   "source": [
    "### We can create custom categories based on seed terms!\n",
    "### Models trained on: fiction, nytimes or reddit"
   ]
  },
  {
   "cell_type": "code",
   "execution_count": 71,
   "metadata": {
    "pycharm": {
     "name": "#%%\n"
    }
   },
   "outputs": [
    {
     "name": "stdout",
     "output_type": "stream",
     "text": [
      "[\"avocado\", \"kale\", \"Swiss_chard\", \"escarole\", \"black_beans\", \"cucumber\", \"dill\", \"leek\", \"mango\", \"red_peppers\", \"chicory\", \"chanterelles\", \"chutney\", \"tamarind\", \"papaya\", \"black_olives\", \"endive\", \"pesto\", \"walnuts\", \"green_beans\", \"bok_choy\", \"portobello_mushrooms\", \"lemon_grass\", \"radicchio\", \"ricotta\", \"chicken_breast\", \"porcini\", \"blue_cheese\", \"snow_peas\", \"pickled\", \"Gorgonzola\", \"chorizo\", \"yams\", \"hazelnuts\", \"fresh_tomatoes\", \"shiitake_mushrooms\", \"anchovies\", \"wild_rice\", \"scallion\", \"red_onions\", \"broccoli_rape\", \"red_cabbage\", \"wasabi\", \"sweet_potato\", \"feta\", \"roasted_garlic\", \"compote\", \"napoleon\", \"aioli\", \"crab_meat\", \"cauliflower\", \"jicama\", \"parsnips\", \"apricots\", \"new_potatoes\", \"truffle_oil\", \"lemongrass\", \"pistachios\", \"saut\\u00e9ed\", \"gnocchi\", \"duck_confit\", \"fresh_herbs\", \"ratatouille\", \"white_beans\", \"croutons\", \"fresh_mozzarella\", \"squab\", \"watercress\", \"roasted_red_peppers\", \"pine_nuts\", \"fritters\", \"butternut_squash\", \"fava_beans\", \"drizzled\", \"red_onion\", \"pea_shoots\", \"rosemary\", \"romaine\", \"mustard_greens\", \"horseradish\", \"caramelized_onions\", \"artichoke_hearts\", \"fettuccine\", \"grilled_eggplant\", \"julienne\", \"plum_tomatoes\", \"grilled_chicken\", \"pineapple\", \"candied\", \"pancetta\", \"celery_root\", \"sea_scallops\", \"shiitake\", \"porcini_mushrooms\", \"sour_cream\", \"bean_sprouts\", \"oyster_mushrooms\", \"monkfish\", \"chickpeas\", \"coconut_milk\"]\n"
     ]
    }
   ],
   "source": [
    "lexicon.create_category(\"healthy_food\", [\"healthy_food\",\"low_carb\",\"kale\",\"avocado\"], model=\"nytimes\")"
   ]
  },
  {
   "cell_type": "code",
   "execution_count": 72,
   "metadata": {
    "pycharm": {
     "name": "#%%\n"
    }
   },
   "outputs": [
    {
     "name": "stdout",
     "output_type": "stream",
     "text": [
      "[\"green_vegetables\", \"leafy_greens\", \"whole_grain_bread\", \"brown_rice\", \"white_rice\", \"green_veggies\", \"veggies\", \"whole_wheat_bread\", \"sweet_potatoes\", \"raw_veggies\", \"lean_meat\", \"spinach\", \"fatty_meat\", \"kale\", \"sweet_potato\", \"avocado\", \"hummus\", \"chicken_breast\", \"veggie\", \"whole_grain\", \"vegetables\", \"whole_wheat_pasta\", \"salads\", \"broccoli\", \"greek_yogurt\", \"Greek_yogurt\", \"yogurt\", \"avocados\", \"rice_cakes\", \"raw_vegetables\", \"almonds\", \"lean_protein\", \"grilled_chicken\", \"quinoa\", \"steamed_broccoli\", \"whole_grain_pasta\", \"brocolli\", \"kale\", \"avocado\", \"tofu\", \"Veggies\", \"edamame\", \"more_veggies\", \"lean_meats\", \"quinoa\", \"salad\", \"cottage_cheese\", \"whole_wheat\", \"wheat_bread\", \"romaine_lettuce\", \"white_bread\", \"raw_spinach\", \"oatmeal\", \"white_potatoes\", \"almond_butter\", \"pork_rinds\", \"veg\", \"cashews\", \"greek_yoghurt\", \"baby_carrots\", \"fresh_veggies\", \"fatty_meats\", \"more_vegetables\", \"avacado\", \"veges\", \"nut_butter\", \"hard_boiled_eggs\", \"carrot_sticks\", \"whole_grains\", \"grilled_chicken_breast\", \"steamed_vegetables\", \"meats\", \"lentils\", \"green_beans\", \"low_cal\", \"nuts/seeds\", \"iceberg_lettuce\", \"carrots\", \"red_meat\", \"other_foods\", \"fried_foods\", \"smoothies\", \"healthy_fats\", \"vegies\", \"avacados\", \"other_vegetables\", \"fresh_fruit\", \"spinach_salad\", \"egg_whites\", \"steamed_veggies\", \"nut_butters\", \"ground_turkey\", \"baked_chicken\"]\n"
     ]
    }
   ],
   "source": [
    "lexicon.create_category(\"healthy_food\", [\"healthy_food\",\"low_carb\",\"kale\",\"avocado\"], model=\"reddit\")"
   ]
  },
  {
   "cell_type": "code",
   "execution_count": 73,
   "metadata": {
    "pycharm": {
     "name": "#%%\n"
    }
   },
   "outputs": [
    {
     "name": "stdout",
     "output_type": "stream",
     "text": [
      "[\"turkey\", \"roast_beef\", \"white_bread\", \"fried_chicken\", \"pancakes\", \"peanut_butter\", \"gefilte_fish\", \"stuffing\", \"French_fries\", \"meatloaf\", \"brisket\", \"potato_salad\", \"pumpkin_pie\", \"scrambled_eggs\", \"french_fries\", \"spaghetti\", \"gravy\", \"tamales\", \"pot_roast\", \"oatmeal\", \"lasagna\", \"corned_beef\", \"latkes\", \"pickles\", \"sauerkraut\", \"burger\", \"grits\", \"biscuits\", \"hamburger\", \"salad_bar\", \"corn_bread\", \"chicken_soup\", \"bacon\", \"cream_cheese\", \"brownies\", \"tofu\", \"pastrami\", \"pork_chops\", \"salami\", \"marshmallows\", \"collard_greens\", \"macaroni\", \"pies\", \"raw_fish\", \"eggnog\", \"cheeseburgers\", \"truffles\", \"chocolate_cake\", \"hard-boiled_eggs\", \"baked_potatoes\", \"venison\", \"cottage_cheese\", \"pheasant\", \"applesauce\", \"quail\", \"fruit_salad\", \"meatballs\", \"chocolate_chip_cookies\", \"tacos\", \"roast\", \"jelly\", \"chicken_salad\", \"omelet\", \"gumbo\", \"steaks\", \"soup\", \"lox\", \"sausage\", \"roast_chicken\", \"rye\", \"bagel\", \"fruitcake\", \"fries\", \"fried_eggs\", \"ketchup\", \"chicken_wings\", \"barbecue_sauce\", \"sweet_potatoes\", \"pasta\", \"sausages\", \"crackers\", \"omelets\", \"roasting\", \"French_toast\", \"muffins\", \"mashed_potatoes\", \"fresh_fruit\", \"baked_potato\", \"waffles\", \"cranberry_sauce\", \"baked_beans\", \"cheese\", \"tripe\", \"noodles\", \"maple_syrup\", \"quiche\", \"buns\", \"baklava\", \"stews\"]\n"
     ]
    }
   ],
   "source": [
    "lexicon.create_category(\"festive_food\", [\"festive_food\",\"turkey\",\"eggnog\"], model=\"nytimes\")"
   ]
  },
  {
   "cell_type": "markdown",
   "metadata": {
    "pycharm": {
     "name": "#%% md\n"
    }
   },
   "source": [
    "### List of further resources\n",
    "    * NLTK\n",
    "    * Jellyfish: string similarity library\n",
    "    * TextBlob: simplified text processing\n",
    "    * PyEnchant: language detection\n",
    "    * WordNet: ontology of concepts (inc. in NLTK)\n",
    "    * Stanford NLP (Java)\n",
    "    * Tweet NLP: https://www.cs.cmu.edu/~ark/TweetNLP/"
   ]
  },
  {
   "cell_type": "markdown",
   "metadata": {
    "pycharm": {
     "name": "#%% md\n"
    }
   },
   "source": [
    "## Part 2"
   ]
  },
  {
   "cell_type": "markdown",
   "metadata": {
    "pycharm": {
     "name": "#%% md\n"
    }
   },
   "source": [
    "### Question 1:\n",
    "An NLP preprocessing model, using the list of stopwords ['a', 'the', 'is', 'you', 'I','my','with','was'] for the input sentence\n",
    "“I was driving down the street with my CAR! :)” <br>\n",
    "gives the following output: {driving, down, street, car, :)}.\n",
    "The model consists of: <br>\n",
    "\n",
    "a) Stopword Removal, Casefolding and Stemming <br>\n",
    "b) Stopword Removal and Casefolding <br>\n",
    "c) Stopword Removal and Stemming <br>\n",
    "d) Casefolding and Stemming <br>"
   ]
  },
  {
   "cell_type": "code",
   "execution_count": 137,
   "metadata": {
    "pycharm": {
     "name": "#%%\n"
    }
   },
   "outputs": [],
   "source": [
    "# write your code and/or answer here\n",
    "#b)"
   ]
  },
  {
   "cell_type": "markdown",
   "metadata": {
    "pycharm": {
     "name": "#%% md\n"
    }
   },
   "source": [
    "### Question 2:\n",
    "What statement is false about topic detection using LSA: <br>\n",
    "\n",
    "a) It finds the representation of documents and words in the latent \"topic space\" <br>\n",
    "b) It produces topics interpretable in “word space” <br>\n",
    "c) A document's topic representation is a probability distribution over topics <br>\n",
    "d) The vectors representing topics in “word space” are linearly independent <br>"
   ]
  },
  {
   "cell_type": "code",
   "execution_count": 138,
   "metadata": {
    "pycharm": {
     "name": "#%%\n"
    }
   },
   "outputs": [],
   "source": [
    "# write your code and/or answer here\n",
    "#c)"
   ]
  },
  {
   "cell_type": "markdown",
   "metadata": {
    "pycharm": {
     "name": "#%% md\n"
    }
   },
   "source": [
    "### Question 3:\n",
    "The problem of having more features than documents when using a TF-IDF matrix for document classification cannot be addressed by: <br>\n",
    "\n",
    "a) Using SVD for dimensionality reduction <br>\n",
    "b) Using min-max scaling of features <br>\n",
    "c) Penalizing very large positive and very large negative weights (a.k.a. regularization) <br>\n",
    "d) Using online feature selection <br>"
   ]
  },
  {
   "cell_type": "code",
   "execution_count": 139,
   "metadata": {
    "pycharm": {
     "name": "#%%\n"
    }
   },
   "outputs": [],
   "source": [
    "# write your code and/or answer here\n",
    "#b)"
   ]
  },
  {
   "cell_type": "markdown",
   "metadata": {
    "pycharm": {
     "name": "#%% md\n"
    }
   },
   "source": [
    "### Question 4:\n",
    "Which of the following is false about word vectors: <br>\n",
    "\n",
    "a) Word2vec is used to achieve a lower dimensional representation than bag of words <br>\n",
    "b) Semantically similar words typically have similar word2vec vectors <br>\n",
    "c) Each dimension in the word2vec embedding has a clear interpretation <br>\n",
    "d) Word2Vec can be used for the computation of sentence vectors <br>"
   ]
  },
  {
   "cell_type": "code",
   "execution_count": 140,
   "metadata": {
    "pycharm": {
     "name": "#%%\n"
    }
   },
   "outputs": [],
   "source": [
    "# write your code and/or answer here\n",
    "#c)"
   ]
  },
  {
   "cell_type": "markdown",
   "metadata": {
    "pycharm": {
     "name": "#%% md\n"
    }
   },
   "source": [
    "### Question 5:\n",
    "Given the following word (W) / context (C) co-occurrence frequencies, which statement is true regarding the pointwise mutual information (PMI)?\n",
    "\n",
    "|  |W1|W2|W3|\n",
    "|--|--|--|--|\n",
    "|C1| 2| 0| 3|\n",
    "|C2| 6| 4| 0|\n",
    "|C3| 1| 1| 3|\n",
    "\n",
    "a) PMI(w=W1, c=C2) > PMI(w=W2, c=C2) > PMI(w=W3, c=C3) <br>\n",
    "b) PMI(w=W2, c=C2) > PMI(w=W1, c=C2) >  PMI(w=W3, c=C3) <br>\n",
    "c) PMI(w=W3, c=C3) > PMI(w=W1, c=C2) > PMI(w=W2, c=C2) <br>\n",
    "d) PMI(w=W3, c=C3) > PMI(w=W2, c=C2) > PMI(w=W1, c=C2) <br>"
   ]
  },
  {
   "cell_type": "code",
   "execution_count": 141,
   "metadata": {
    "pycharm": {
     "name": "#%%\n"
    }
   },
   "outputs": [],
   "source": [
    "# write your code and/or answer here\n",
    "#d)"
   ]
  },
  {
   "cell_type": "code",
   "execution_count": null,
   "metadata": {
    "collapsed": true,
    "jupyter": {
     "outputs_hidden": true
    },
    "pycharm": {
     "name": "#%%\n"
    }
   },
   "outputs": [],
   "source": []
  }
 ],
 "metadata": {
  "kernelspec": {
   "display_name": "Python 3 (ipykernel)",
   "language": "python",
   "name": "python3"
  },
  "language_info": {
   "codemirror_mode": {
    "name": "ipython",
    "version": 3
   },
   "file_extension": ".py",
   "mimetype": "text/x-python",
   "name": "python",
   "nbconvert_exporter": "python",
   "pygments_lexer": "ipython3",
   "version": "3.9.13"
  },
  "toc": {
   "colors": {
    "hover_highlight": "#DAA520",
    "navigate_num": "#000000",
    "navigate_text": "#333333",
    "running_highlight": "#FF0000",
    "selected_highlight": "#FFD700",
    "sidebar_border": "#EEEEEE",
    "wrapper_background": "#FFFFFF"
   },
   "moveMenuLeft": true,
   "nav_menu": {
    "height": "228px",
    "width": "252px"
   },
   "navigate_menu": true,
   "number_sections": true,
   "sideBar": true,
   "threshold": 4,
   "toc_cell": false,
   "toc_section_display": "block",
   "toc_window_display": false,
   "widenNotebook": false
  },
  "varInspector": {
   "cols": {
    "lenName": 16,
    "lenType": 16,
    "lenVar": 40
   },
   "kernels_config": {
    "python": {
     "delete_cmd_postfix": "",
     "delete_cmd_prefix": "del ",
     "library": "var_list.py",
     "varRefreshCmd": "print(var_dic_list())"
    },
    "r": {
     "delete_cmd_postfix": ") ",
     "delete_cmd_prefix": "rm(",
     "library": "var_list.r",
     "varRefreshCmd": "cat(var_dic_list()) "
    }
   },
   "types_to_exclude": [
    "module",
    "function",
    "builtin_function_or_method",
    "instance",
    "_Feature"
   ],
   "window_display": false
  }
 },
 "nbformat": 4,
 "nbformat_minor": 4
}