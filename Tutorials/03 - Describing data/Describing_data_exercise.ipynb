{
 "cells": [
  {
   "cell_type": "markdown",
   "metadata": {
    "pycharm": {
     "name": "#%% md\n"
    }
   },
   "source": [
    "# Describing Data\n",
    "\n",
    "### What do you find in this notebook?\n",
    "\n",
    "In this exercise, first, you will familiarize yourself with the Python libraries 'statsmodels' and 'SciPy' that let you do statistical analysis: calculate descriptive statistics, sample datapoints, study relationships between variables, and perform hypothesis testing. Then, second, you will work on a set of exercises that will let you practice your skills.\n",
    "\n",
    "Here we show a couple of examples of how to do common analyses, but there are many more useful probability distributions and statistical tests. In the linked documentation, you will find complete information, and a lot more details compared to what is outlined in this notebook:\n",
    "- [statsmodels](https://www.statsmodels.org/stable/examples/index.html), [more complete documentation](https://www.statsmodels.org/stable/stats.html)\n",
    "- [SciPy](https://docs.scipy.org/doc/scipy/reference/stats.html)"
   ]
  },
  {
   "cell_type": "markdown",
   "metadata": {
    "pycharm": {
     "name": "#%% md\n"
    }
   },
   "source": [
    "# Tutorial: How to use the libraries\n",
    "\n",
    "- You will be working with the full US 2015 census dataset (acs2015_county_data.csv, available at https://www.kaggle.com/muonneutrino/us-census-demographic-data#acs2015_county_data.csv). Here we load it. Take some time to familiarize yourself with the contents. One row represents one county."
   ]
  },
  {
   "cell_type": "code",
   "execution_count": 72,
   "metadata": {
    "tags": [],
    "pycharm": {
     "name": "#%%\n"
    }
   },
   "outputs": [],
   "source": [
    "import random\n",
    "\n",
    "import pandas as pd\n",
    "import pandas as pd\n",
    "import numpy as np\n",
    "import matplotlib.pyplot as plt\n",
    "%matplotlib inline\n",
    "import seaborn as sns\n",
    "import math\n",
    "\n",
    "#load the statistical libraries\n",
    "from statsmodels.stats import diagnostic\n",
    "from scipy import stats"
   ]
  },
  {
   "cell_type": "code",
   "execution_count": 73,
   "metadata": {
    "tags": [],
    "pycharm": {
     "name": "#%%\n"
    }
   },
   "outputs": [],
   "source": [
    "data_folder = './data/'\n",
    "df = pd.read_csv(data_folder + 'acs2015_county_data.csv')"
   ]
  },
  {
   "cell_type": "code",
   "execution_count": 74,
   "metadata": {
    "pycharm": {
     "name": "#%%\n"
    }
   },
   "outputs": [
    {
     "data": {
      "text/plain": "Index(['CensusId', 'State', 'County', 'TotalPop', 'Men', 'Women', 'Hispanic',\n       'White', 'Black', 'Native', 'Asian', 'Pacific', 'Citizen', 'Income',\n       'IncomeErr', 'IncomePerCap', 'IncomePerCapErr', 'Poverty',\n       'ChildPoverty', 'Professional', 'Service', 'Office', 'Construction',\n       'Production', 'Drive', 'Carpool', 'Transit', 'Walk', 'OtherTransp',\n       'WorkAtHome', 'MeanCommute', 'Employed', 'PrivateWork', 'PublicWork',\n       'SelfEmployed', 'FamilyWork', 'Unemployment'],\n      dtype='object')"
     },
     "execution_count": 74,
     "metadata": {},
     "output_type": "execute_result"
    }
   ],
   "source": [
    "df.columns"
   ]
  },
  {
   "cell_type": "code",
   "execution_count": 75,
   "metadata": {
    "pycharm": {
     "name": "#%%\n"
    }
   },
   "outputs": [
    {
     "data": {
      "text/plain": "      CensusId           State      County  TotalPop     Men   Women  \\\n910      20045          Kansas     Douglas    114967   57490   57477   \n2252     42017    Pennsylvania       Bucks    626583  307126  319457   \n676      17163        Illinois   St. Clair    267029  128729  138300   \n1162     22099       Louisiana  St. Martin     53126   26136   26990   \n613      17037        Illinois      DeKalb    104345   51515   52830   \n1895     37011  North Carolina       Avery     17695    9673    8022   \n1610     30025         Montana      Fallon      3057    1568    1489   \n2284     42081    Pennsylvania    Lycoming    116656   57292   59364   \n527      13285         Georgia       Troup     68867   33189   35678   \n2107     39129            Ohio    Pickaway     56515   29866   26649   \n\n      Hispanic  White  Black  Native  ...  Walk  OtherTransp  WorkAtHome  \\\n910        5.7   80.1    3.8     2.2  ...   5.1          1.6         4.2   \n2252       4.7   85.5    3.7     0.1  ...   1.8          0.8         4.7   \n676        3.7   62.5   29.7     0.2  ...   1.7          1.3         3.2   \n1162       2.5   64.7   29.6     0.3  ...   1.4          1.4         1.3   \n613       10.6   78.4    6.6     0.1  ...   4.0          1.7         3.3   \n1895       4.7   87.3    4.1     0.5  ...   2.4          0.6         5.0   \n1610       1.0   95.6    1.3     0.3  ...   5.7          0.6         8.9   \n2284       1.7   90.9    4.7     0.2  ...   3.5          1.3         2.5   \n527        3.6   58.4   34.3     0.1  ...   1.4          3.1         1.5   \n2107       1.3   93.2    3.2     0.2  ...   1.4          0.6         3.3   \n\n      MeanCommute  Employed  PrivateWork  PublicWork  SelfEmployed  \\\n910          20.4     61881         71.8        23.4           4.7   \n2252         29.0    321488         85.4         9.1           5.3   \n676          24.4    116537         79.8        16.1           4.0   \n1162         27.5     23921         81.7        13.7           4.4   \n613          25.8     51637         75.8        20.0           3.9   \n1895         22.9      6873         75.3        14.9           9.5   \n1610         13.2      1632         64.7        19.8          14.0   \n2284         20.2     54324         83.8        11.1           5.0   \n527          22.0     28677         81.8        13.5           4.5   \n2107         27.7     24777         77.5        16.9           5.4   \n\n      FamilyWork  Unemployment  \n910          0.1           6.0  \n2252         0.2           7.0  \n676          0.1           8.9  \n1162         0.3           7.2  \n613          0.3          10.4  \n1895         0.3           6.9  \n1610         1.5           3.3  \n2284         0.1           7.7  \n527          0.2          11.9  \n2107         0.2           6.9  \n\n[10 rows x 37 columns]",
      "text/html": "<div>\n<style scoped>\n    .dataframe tbody tr th:only-of-type {\n        vertical-align: middle;\n    }\n\n    .dataframe tbody tr th {\n        vertical-align: top;\n    }\n\n    .dataframe thead th {\n        text-align: right;\n    }\n</style>\n<table border=\"1\" class=\"dataframe\">\n  <thead>\n    <tr style=\"text-align: right;\">\n      <th></th>\n      <th>CensusId</th>\n      <th>State</th>\n      <th>County</th>\n      <th>TotalPop</th>\n      <th>Men</th>\n      <th>Women</th>\n      <th>Hispanic</th>\n      <th>White</th>\n      <th>Black</th>\n      <th>Native</th>\n      <th>...</th>\n      <th>Walk</th>\n      <th>OtherTransp</th>\n      <th>WorkAtHome</th>\n      <th>MeanCommute</th>\n      <th>Employed</th>\n      <th>PrivateWork</th>\n      <th>PublicWork</th>\n      <th>SelfEmployed</th>\n      <th>FamilyWork</th>\n      <th>Unemployment</th>\n    </tr>\n  </thead>\n  <tbody>\n    <tr>\n      <th>910</th>\n      <td>20045</td>\n      <td>Kansas</td>\n      <td>Douglas</td>\n      <td>114967</td>\n      <td>57490</td>\n      <td>57477</td>\n      <td>5.7</td>\n      <td>80.1</td>\n      <td>3.8</td>\n      <td>2.2</td>\n      <td>...</td>\n      <td>5.1</td>\n      <td>1.6</td>\n      <td>4.2</td>\n      <td>20.4</td>\n      <td>61881</td>\n      <td>71.8</td>\n      <td>23.4</td>\n      <td>4.7</td>\n      <td>0.1</td>\n      <td>6.0</td>\n    </tr>\n    <tr>\n      <th>2252</th>\n      <td>42017</td>\n      <td>Pennsylvania</td>\n      <td>Bucks</td>\n      <td>626583</td>\n      <td>307126</td>\n      <td>319457</td>\n      <td>4.7</td>\n      <td>85.5</td>\n      <td>3.7</td>\n      <td>0.1</td>\n      <td>...</td>\n      <td>1.8</td>\n      <td>0.8</td>\n      <td>4.7</td>\n      <td>29.0</td>\n      <td>321488</td>\n      <td>85.4</td>\n      <td>9.1</td>\n      <td>5.3</td>\n      <td>0.2</td>\n      <td>7.0</td>\n    </tr>\n    <tr>\n      <th>676</th>\n      <td>17163</td>\n      <td>Illinois</td>\n      <td>St. Clair</td>\n      <td>267029</td>\n      <td>128729</td>\n      <td>138300</td>\n      <td>3.7</td>\n      <td>62.5</td>\n      <td>29.7</td>\n      <td>0.2</td>\n      <td>...</td>\n      <td>1.7</td>\n      <td>1.3</td>\n      <td>3.2</td>\n      <td>24.4</td>\n      <td>116537</td>\n      <td>79.8</td>\n      <td>16.1</td>\n      <td>4.0</td>\n      <td>0.1</td>\n      <td>8.9</td>\n    </tr>\n    <tr>\n      <th>1162</th>\n      <td>22099</td>\n      <td>Louisiana</td>\n      <td>St. Martin</td>\n      <td>53126</td>\n      <td>26136</td>\n      <td>26990</td>\n      <td>2.5</td>\n      <td>64.7</td>\n      <td>29.6</td>\n      <td>0.3</td>\n      <td>...</td>\n      <td>1.4</td>\n      <td>1.4</td>\n      <td>1.3</td>\n      <td>27.5</td>\n      <td>23921</td>\n      <td>81.7</td>\n      <td>13.7</td>\n      <td>4.4</td>\n      <td>0.3</td>\n      <td>7.2</td>\n    </tr>\n    <tr>\n      <th>613</th>\n      <td>17037</td>\n      <td>Illinois</td>\n      <td>DeKalb</td>\n      <td>104345</td>\n      <td>51515</td>\n      <td>52830</td>\n      <td>10.6</td>\n      <td>78.4</td>\n      <td>6.6</td>\n      <td>0.1</td>\n      <td>...</td>\n      <td>4.0</td>\n      <td>1.7</td>\n      <td>3.3</td>\n      <td>25.8</td>\n      <td>51637</td>\n      <td>75.8</td>\n      <td>20.0</td>\n      <td>3.9</td>\n      <td>0.3</td>\n      <td>10.4</td>\n    </tr>\n    <tr>\n      <th>1895</th>\n      <td>37011</td>\n      <td>North Carolina</td>\n      <td>Avery</td>\n      <td>17695</td>\n      <td>9673</td>\n      <td>8022</td>\n      <td>4.7</td>\n      <td>87.3</td>\n      <td>4.1</td>\n      <td>0.5</td>\n      <td>...</td>\n      <td>2.4</td>\n      <td>0.6</td>\n      <td>5.0</td>\n      <td>22.9</td>\n      <td>6873</td>\n      <td>75.3</td>\n      <td>14.9</td>\n      <td>9.5</td>\n      <td>0.3</td>\n      <td>6.9</td>\n    </tr>\n    <tr>\n      <th>1610</th>\n      <td>30025</td>\n      <td>Montana</td>\n      <td>Fallon</td>\n      <td>3057</td>\n      <td>1568</td>\n      <td>1489</td>\n      <td>1.0</td>\n      <td>95.6</td>\n      <td>1.3</td>\n      <td>0.3</td>\n      <td>...</td>\n      <td>5.7</td>\n      <td>0.6</td>\n      <td>8.9</td>\n      <td>13.2</td>\n      <td>1632</td>\n      <td>64.7</td>\n      <td>19.8</td>\n      <td>14.0</td>\n      <td>1.5</td>\n      <td>3.3</td>\n    </tr>\n    <tr>\n      <th>2284</th>\n      <td>42081</td>\n      <td>Pennsylvania</td>\n      <td>Lycoming</td>\n      <td>116656</td>\n      <td>57292</td>\n      <td>59364</td>\n      <td>1.7</td>\n      <td>90.9</td>\n      <td>4.7</td>\n      <td>0.2</td>\n      <td>...</td>\n      <td>3.5</td>\n      <td>1.3</td>\n      <td>2.5</td>\n      <td>20.2</td>\n      <td>54324</td>\n      <td>83.8</td>\n      <td>11.1</td>\n      <td>5.0</td>\n      <td>0.1</td>\n      <td>7.7</td>\n    </tr>\n    <tr>\n      <th>527</th>\n      <td>13285</td>\n      <td>Georgia</td>\n      <td>Troup</td>\n      <td>68867</td>\n      <td>33189</td>\n      <td>35678</td>\n      <td>3.6</td>\n      <td>58.4</td>\n      <td>34.3</td>\n      <td>0.1</td>\n      <td>...</td>\n      <td>1.4</td>\n      <td>3.1</td>\n      <td>1.5</td>\n      <td>22.0</td>\n      <td>28677</td>\n      <td>81.8</td>\n      <td>13.5</td>\n      <td>4.5</td>\n      <td>0.2</td>\n      <td>11.9</td>\n    </tr>\n    <tr>\n      <th>2107</th>\n      <td>39129</td>\n      <td>Ohio</td>\n      <td>Pickaway</td>\n      <td>56515</td>\n      <td>29866</td>\n      <td>26649</td>\n      <td>1.3</td>\n      <td>93.2</td>\n      <td>3.2</td>\n      <td>0.2</td>\n      <td>...</td>\n      <td>1.4</td>\n      <td>0.6</td>\n      <td>3.3</td>\n      <td>27.7</td>\n      <td>24777</td>\n      <td>77.5</td>\n      <td>16.9</td>\n      <td>5.4</td>\n      <td>0.2</td>\n      <td>6.9</td>\n    </tr>\n  </tbody>\n</table>\n<p>10 rows × 37 columns</p>\n</div>"
     },
     "execution_count": 75,
     "metadata": {},
     "output_type": "execute_result"
    }
   ],
   "source": [
    "df.sample(10)"
   ]
  },
  {
   "cell_type": "markdown",
   "metadata": {
    "pycharm": {
     "name": "#%% md\n"
    }
   },
   "source": [
    "- We will focus first on income per capita across counties."
   ]
  },
  {
   "cell_type": "code",
   "execution_count": 76,
   "metadata": {
    "pycharm": {
     "name": "#%%\n"
    }
   },
   "outputs": [
    {
     "data": {
      "text/plain": "<AxesSubplot:>"
     },
     "execution_count": 76,
     "metadata": {},
     "output_type": "execute_result"
    },
    {
     "data": {
      "text/plain": "<Figure size 432x288 with 1 Axes>",
      "image/png": "[encoded data removed]"
     },
     "metadata": {
      "needs_background": "light"
     },
     "output_type": "display_data"
    }
   ],
   "source": [
    "df['IncomePerCap'].hist(bins = 50)"
   ]
  },
  {
   "cell_type": "markdown",
   "metadata": {
    "pycharm": {
     "name": "#%% md\n"
    }
   },
   "source": [
    "### 1. Calculating descriptive statisctics\n",
    "\n",
    "- Let's calculate basic descriptive statistics of the income per capita."
   ]
  },
  {
   "cell_type": "code",
   "execution_count": 77,
   "metadata": {
    "pycharm": {
     "name": "#%%\n"
    }
   },
   "outputs": [
    {
     "data": {
      "text/plain": "count     3220.000000\nmean     23981.771739\nstd       6204.339960\nmin       5878.000000\n25%      20238.500000\n50%      23460.000000\n75%      27053.250000\nmax      65600.000000\nName: IncomePerCap, dtype: float64"
     },
     "execution_count": 77,
     "metadata": {},
     "output_type": "execute_result"
    }
   ],
   "source": [
    "df['IncomePerCap'].describe()"
   ]
  },
  {
   "cell_type": "markdown",
   "metadata": {
    "pycharm": {
     "name": "#%% md\n"
    }
   },
   "source": [
    "- What distribution does the data come from? Here is how we can test the goodness of the fit."
   ]
  },
  {
   "cell_type": "code",
   "execution_count": 78,
   "metadata": {
    "pycharm": {
     "name": "#%%\n"
    }
   },
   "outputs": [
    {
     "data": {
      "text/plain": "(0.0637621121184162, 0.0009999999999998899)"
     },
     "execution_count": 78,
     "metadata": {},
     "output_type": "execute_result"
    }
   ],
   "source": [
    "# does the data come from a normal distrbution?\n",
    "diagnostic.kstest_normal(df['IncomePerCap'].values, dist = 'norm')"
   ]
  },
  {
   "cell_type": "markdown",
   "metadata": {
    "pycharm": {
     "name": "#%% md\n"
    }
   },
   "source": [
    "- p_value < 0.05 -> we can reject the null hypothesis that the data comes from a normal distribution!"
   ]
  },
  {
   "cell_type": "code",
   "execution_count": 79,
   "metadata": {
    "pycharm": {
     "name": "#%%\n"
    }
   },
   "outputs": [
    {
     "data": {
      "text/plain": "(0.433243770582646, 0.0009999999999998899)"
     },
     "execution_count": 79,
     "metadata": {},
     "output_type": "execute_result"
    }
   ],
   "source": [
    "#how about exponential?\n",
    "diagnostic.kstest_normal(df['IncomePerCap'].values, dist = 'exp')"
   ]
  },
  {
   "cell_type": "markdown",
   "metadata": {
    "pycharm": {
     "name": "#%% md\n"
    }
   },
   "source": [
    "- p < 0.05 -> not exponential either!"
   ]
  },
  {
   "cell_type": "markdown",
   "metadata": {
    "pycharm": {
     "name": "#%% md\n"
    }
   },
   "source": [
    "### 2. How to sample the data"
   ]
  },
  {
   "cell_type": "markdown",
   "metadata": {
    "pycharm": {
     "name": "#%% md\n"
    }
   },
   "source": [
    "- Often we need to find random samples from the dataset. We can do so conveniently with pandas wrappers."
   ]
  },
  {
   "cell_type": "code",
   "execution_count": 80,
   "metadata": {
    "pycharm": {
     "name": "#%%\n"
    }
   },
   "outputs": [],
   "source": [
    "#make 10 samples with replacement\n",
    "sample1_counties = df.sample(n = 10, replace = True)\n",
    "\n",
    "#make 10 samples without replacement\n",
    "sample1_counties = df.sample(n = 10, replace = False)\n",
    "\n",
    "#sometimes we want to sample in an unbalanced way, so that we upsample datapoints of certain characteristic,\n",
    "#and downsample the others. this can be achieved with weights parameter\n",
    "#here we sample by upsampling counties with large population\n",
    "sample2_counties = df.sample(n = 10, replace = False, weights = df['TotalPop'])"
   ]
  },
  {
   "cell_type": "code",
   "execution_count": 81,
   "metadata": {
    "pycharm": {
     "name": "#%%\n"
    }
   },
   "outputs": [
    {
     "name": "stdout",
     "output_type": "stream",
     "text": [
      "109610.3\n",
      "325062.2\n"
     ]
    }
   ],
   "source": [
    "#on avergage, the samples in the sample produce with reveighting now have higher population, as we wanted!\n",
    "print(sample1_counties['TotalPop'].mean())\n",
    "print(sample2_counties['TotalPop'].mean())"
   ]
  },
  {
   "cell_type": "markdown",
   "metadata": {
    "pycharm": {
     "name": "#%% md\n"
    }
   },
   "source": [
    "### 3. Examining relationship between two variables"
   ]
  },
  {
   "cell_type": "markdown",
   "metadata": {
    "pycharm": {
     "name": "#%% md\n"
    }
   },
   "source": [
    "- Is income per capita of a county correlated with the unemployment?"
   ]
  },
  {
   "cell_type": "code",
   "execution_count": 82,
   "metadata": {
    "pycharm": {
     "name": "#%%\n"
    }
   },
   "outputs": [
    {
     "data": {
      "text/plain": "(0.2646136320394482, 9.942215354240067e-53)"
     },
     "execution_count": 82,
     "metadata": {},
     "output_type": "execute_result"
    }
   ],
   "source": [
    "stats.pearsonr(df['IncomePerCap'],df['Employed'])"
   ]
  },
  {
   "cell_type": "markdown",
   "metadata": {
    "pycharm": {
     "name": "#%% md\n"
    }
   },
   "source": [
    "- There is a small (0.26), but significant (p < 0.05) positive correlation."
   ]
  },
  {
   "cell_type": "code",
   "execution_count": 83,
   "metadata": {
    "pycharm": {
     "name": "#%%\n"
    }
   },
   "outputs": [
    {
     "data": {
      "text/plain": "SpearmanrResult(correlation=0.30770631560595474, pvalue=1.415296431173735e-71)"
     },
     "execution_count": 83,
     "metadata": {},
     "output_type": "execute_result"
    }
   ],
   "source": [
    "stats.spearmanr(df['IncomePerCap'],df['Employed'])"
   ]
  },
  {
   "cell_type": "markdown",
   "metadata": {
    "pycharm": {
     "name": "#%% md\n"
    }
   },
   "source": [
    "- Spearman rank coorrelation is also significant."
   ]
  },
  {
   "cell_type": "markdown",
   "metadata": {
    "pycharm": {
     "name": "#%% md\n"
    }
   },
   "source": [
    "### 4. Hypothesis testing"
   ]
  },
  {
   "cell_type": "markdown",
   "metadata": {
    "pycharm": {
     "name": "#%% md\n"
    }
   },
   "source": [
    "- Is income per capita higher in New York counties compared to California counties?"
   ]
  },
  {
   "cell_type": "code",
   "execution_count": 84,
   "metadata": {
    "pycharm": {
     "name": "#%%\n"
    }
   },
   "outputs": [
    {
     "data": {
      "text/plain": "28189.75806451613"
     },
     "execution_count": 84,
     "metadata": {},
     "output_type": "execute_result"
    }
   ],
   "source": [
    "df.loc[df['State'] == 'New York']['IncomePerCap'].mean()"
   ]
  },
  {
   "cell_type": "code",
   "execution_count": 85,
   "metadata": {
    "pycharm": {
     "name": "#%%\n"
    }
   },
   "outputs": [
    {
     "data": {
      "text/plain": "27902.603448275862"
     },
     "execution_count": 85,
     "metadata": {},
     "output_type": "execute_result"
    }
   ],
   "source": [
    "df.loc[df['State'] == 'California']['IncomePerCap'].mean()"
   ]
  },
  {
   "cell_type": "markdown",
   "metadata": {
    "pycharm": {
     "name": "#%% md\n"
    }
   },
   "source": [
    "- We see that there is a ~300$ gap. Quite a lot!\n",
    "- But is it significantly higher? Let's use a t-test. This is a two-sided test for the null hypothesis that the two independent samples have identical average (expected) values. "
   ]
  },
  {
   "cell_type": "code",
   "execution_count": 86,
   "metadata": {
    "pycharm": {
     "name": "#%%\n"
    }
   },
   "outputs": [
    {
     "data": {
      "text/plain": "Ttest_indResult(statistic=0.19788117232375713, pvalue=0.8434785239169611)"
     },
     "execution_count": 86,
     "metadata": {},
     "output_type": "execute_result"
    }
   ],
   "source": [
    "#Calculate the T-test for the means of two independent samples of scores.\n",
    "# This is a two-sided test for the null hypothesis that 2 independent samples have identical average (expected) values. This test assumes that the populations have identical variances by default.\n",
    "stats.ttest_ind(df.loc[df['State'] == 'New York']['IncomePerCap'], df.loc[df['State'] == 'California']['IncomePerCap'])"
   ]
  },
  {
   "cell_type": "markdown",
   "metadata": {
    "pycharm": {
     "name": "#%% md\n"
    }
   },
   "source": [
    "- p is not smaller than 0.05 -> we cannot reject the null hypothesis that the income is the same -> there is no significant difference"
   ]
  },
  {
   "cell_type": "markdown",
   "metadata": {
    "pycharm": {
     "name": "#%% md\n"
    }
   },
   "source": [
    "### 5. How to measure uncertainty\n",
    "- Now we see the importance of mesuring uncertainty and indicating it on data visualizations.\n",
    "- Visual inspection of 95% confidence intervals lets us see that the difference is not significant (the errorbars are overlapping)."
   ]
  },
  {
   "cell_type": "code",
   "execution_count": 87,
   "metadata": {
    "pycharm": {
     "name": "#%%\n"
    }
   },
   "outputs": [
    {
     "data": {
      "text/plain": "(25000.0, 32000.0)"
     },
     "execution_count": 87,
     "metadata": {},
     "output_type": "execute_result"
    },
    {
     "data": {
      "text/plain": "<Figure size 432x288 with 1 Axes>",
      "image/png": "[encoded data removed]"
     },
     "metadata": {
      "needs_background": "light"
     },
     "output_type": "display_data"
    }
   ],
   "source": [
    "ax = sns.barplot(x=\"State\", y=\"IncomePerCap\", data=df.loc[df['State'].isin(['New York','California'])])\n",
    "plt.ylim([25000,32000])"
   ]
  },
  {
   "cell_type": "markdown",
   "metadata": {
    "pycharm": {
     "name": "#%% md\n"
    }
   },
   "source": [
    "# Exercise 1: Boosting the economy by incentivizing self-employment\n",
    "\n",
    "Assume the biggest priority of the local government in 2018 is to increase per-capita income. To do so, the officials plan to adopt a strategy for incentivizing self-employment through a series of campaigns, educational programs, and dedicated funds.\n",
    "\n",
    "Since it is unethical and impossible in this setting to run a controlled experiment involving citizens (e.g., fire employees and force them to self-employ), the officials have asked you, the data scientist, to establish the effect of self-employment on the economy, relying on observational data.\n",
    "\n",
    "**A)** Using suitable methods, determine and quantify the dependency between the percentage of self-employed citizens and per capita income across all 3,212 US counties. Do citizens in counties that have a higher percentage of self-employed people earn more per capita?"
   ]
  },
  {
   "cell_type": "code",
   "execution_count": 88,
   "metadata": {
    "pycharm": {
     "name": "#%%\n"
    }
   },
   "outputs": [
    {
     "name": "stdout",
     "output_type": "stream",
     "text": [
      "Ttest_indResult(statistic=-6.383683424874673, pvalue=1.9770001771810227e-10)\n",
      "The p value is small we can reject the null hypothesis that self-employed rate are the same.\n"
     ]
    }
   ],
   "source": [
    "### your code and or answer here ###\n",
    "mean_income = df['IncomePerCap'].mean()\n",
    "lower_se = df.loc[df['IncomePerCap']<mean_income]['SelfEmployed']\n",
    "higher_se = df.loc[df['IncomePerCap']>=mean_income]['SelfEmployed']\n",
    "print(stats.ttest_ind(lower_se,higher_se))\n",
    "print('The p value is small we can reject the null hypothesis that self-employed rate are the same.')"
   ]
  },
  {
   "cell_type": "markdown",
   "metadata": {
    "pycharm": {
     "name": "#%% md\n"
    }
   },
   "source": [
    "**B)** The pilot program will involve all counties within a limited set of three US states. Set A includes Wisconsin, Tennessee, and  Minnesota. Quantify the dependency of per-capita income on self-employment rates across all the counties in set A."
   ]
  },
  {
   "cell_type": "code",
   "execution_count": 89,
   "metadata": {
    "pycharm": {
     "name": "#%%\n"
    }
   },
   "outputs": [
    {
     "name": "stdout",
     "output_type": "stream",
     "text": [
      "(-0.20229350736521495, 0.0011881639322139396)\n",
      "There is no specific dependencies of per-capita income on self-employment rates.\n"
     ]
    },
    {
     "data": {
      "text/plain": "<Figure size 432x288 with 1 Axes>",
      "image/png": "[encoded data removed]"
     },
     "metadata": {
      "needs_background": "light"
     },
     "output_type": "display_data"
    }
   ],
   "source": [
    "### your code and or answer here ###\n",
    "set_A = df.loc[(df['State']=='Wisconsin') | (df['State']=='Tennessee') | (df['State']=='Minnesota')][['IncomePerCap', 'SelfEmployed']]\n",
    "print(stats.pearsonr(set_A['SelfEmployed'], set_A['IncomePerCap']))\n",
    "sns.pointplot(y=set_A['IncomePerCap'],x=set_A['SelfEmployed'])\n",
    "print('There is no specific dependencies of per-capita income on self-employment rates.')"
   ]
  },
  {
   "cell_type": "markdown",
   "metadata": {
    "pycharm": {
     "name": "#%% md\n"
    }
   },
   "source": [
    "**C)** In which state within set A is the observed effect of self-employment on per-capita income the strongest?"
   ]
  },
  {
   "cell_type": "code",
   "execution_count": 90,
   "metadata": {
    "pycharm": {
     "name": "#%%\n"
    }
   },
   "outputs": [
    {
     "name": "stderr",
     "output_type": "stream",
     "text": [
      "/Users/zhangyuyao/opt/anaconda3/envs/CS-401/lib/python3.8/site-packages/seaborn/_decorators.py:36: FutureWarning: Pass the following variables as keyword args: x, y. From version 0.12, the only valid positional argument will be `data`, and passing other arguments without an explicit keyword will result in an error or misinterpretation.\n",
      "  warnings.warn(\n"
     ]
    },
    {
     "data": {
      "text/plain": "(0.0, 22.0)"
     },
     "execution_count": 90,
     "metadata": {},
     "output_type": "execute_result"
    },
    {
     "data": {
      "text/plain": "<Figure size 444.5x360 with 1 Axes>",
      "image/png": "[encoded data removed]"
     },
     "metadata": {
      "needs_background": "light"
     },
     "output_type": "display_data"
    }
   ],
   "source": [
    "### your code and or answer here ###\n",
    "per_capita_self_empl = df[['State','IncomePerCap', 'SelfEmployed']]\n",
    "SetA_per_capita_self_empl = per_capita_self_empl.query(\"State == 'Wisconsin' | \\\n",
    "                                                        State == 'Tennessee' | \\\n",
    "                                                        State == 'Minnesota' \")\n",
    "sns.lmplot('SelfEmployed','IncomePerCap', data=SetA_per_capita_self_empl, hue = 'State')\n",
    "plt.xlabel(\"Percentage of Self Employed people [%]\")\n",
    "plt.ylabel(\"Income per Capita [$]\")\n",
    "plt.ylim([10000,50000])\n",
    "plt.xlim([0,22])"
   ]
  },
  {
   "cell_type": "code",
   "execution_count": 91,
   "outputs": [
    {
     "name": "stdout",
     "output_type": "stream",
     "text": [
      "corr_Minn: (-0.25385519216540614, 0.01766519930091192)\n",
      "corr_Tenn: (-0.2383604868491315, 0.02001163195552807)\n",
      "corr_Wisc: (-0.32905300016378525, 0.004768134887745222)\n",
      "The effected observed in Tennessee is the strongest.\n"
     ]
    }
   ],
   "source": [
    "corr_Minn = stats.pearsonr(SetA_per_capita_self_empl.loc[SetA_per_capita_self_empl['State']=='Minnesota']['SelfEmployed'] \\\n",
    "                           ,SetA_per_capita_self_empl.loc[SetA_per_capita_self_empl['State']=='Minnesota']['IncomePerCap'])\n",
    "corr_Tenn = stats.pearsonr(SetA_per_capita_self_empl.loc[SetA_per_capita_self_empl['State']=='Tennessee']['SelfEmployed'] \\\n",
    "                           ,SetA_per_capita_self_empl.loc[SetA_per_capita_self_empl['State']=='Tennessee']['IncomePerCap'])\n",
    "corr_Wisc = stats.pearsonr(SetA_per_capita_self_empl.loc[SetA_per_capita_self_empl['State']=='Wisconsin']['SelfEmployed'] \\\n",
    "                           ,SetA_per_capita_self_empl.loc[SetA_per_capita_self_empl['State']=='Wisconsin']['IncomePerCap'])\n",
    "print(f'corr_Minn: {corr_Minn}')\n",
    "print(f'corr_Tenn: {corr_Tenn}')\n",
    "print(f'corr_Wisc: {corr_Wisc}')\n",
    "print('The effected observed in Tennessee is the strongest.')"
   ],
   "metadata": {
    "collapsed": false,
    "pycharm": {
     "name": "#%%\n"
    }
   }
  },
  {
   "cell_type": "markdown",
   "metadata": {
    "pycharm": {
     "name": "#%% md\n"
    }
   },
   "source": [
    "**D)** Set B includes New Jersey, Kansas, and Rhode Island. Repeat the analysis from steps B and C above, but now for set B. In which of the two sets A and B (if any) would you recommend incentivizing self-employment? Explain your reasoning. Hint: It is useful to add a notion of confidence to your results and explore the data visually."
   ]
  },
  {
   "cell_type": "code",
   "execution_count": 92,
   "metadata": {
    "pycharm": {
     "name": "#%%\n"
    }
   },
   "outputs": [
    {
     "name": "stderr",
     "output_type": "stream",
     "text": [
      "/Users/zhangyuyao/opt/anaconda3/envs/CS-401/lib/python3.8/site-packages/seaborn/_decorators.py:36: FutureWarning: Pass the following variables as keyword args: x, y. From version 0.12, the only valid positional argument will be `data`, and passing other arguments without an explicit keyword will result in an error or misinterpretation.\n",
      "  warnings.warn(\n"
     ]
    },
    {
     "data": {
      "text/plain": "(0.0, 25.0)"
     },
     "execution_count": 92,
     "metadata": {},
     "output_type": "execute_result"
    },
    {
     "data": {
      "text/plain": "<Figure size 455x360 with 1 Axes>",
      "image/png": "[encoded data removed]"
     },
     "metadata": {
      "needs_background": "light"
     },
     "output_type": "display_data"
    }
   ],
   "source": [
    "### your code and or answer here ###\n",
    "SetB_per_capita_self_empl = per_capita_self_empl.query(\"State == 'New Jersey'| State == 'Kansas'| State == 'Rhode Island'\")\n",
    "sns.lmplot('SelfEmployed','IncomePerCap', data= SetB_per_capita_self_empl, hue='State')\n",
    "plt.xlabel(\"Percentage of Self Employed people [%]\")\n",
    "plt.ylabel(\"Income per Capita [$]\")\n",
    "plt.ylim([10000,60000])\n",
    "plt.xlim([0,25])"
   ]
  },
  {
   "cell_type": "code",
   "execution_count": 93,
   "outputs": [
    {
     "name": "stdout",
     "output_type": "stream",
     "text": [
      "(-0.23222141346085695, 0.007607493042857402)\n"
     ]
    }
   ],
   "source": [
    "print(stats.pearsonr(SetB_per_capita_self_empl['SelfEmployed'],SetB_per_capita_self_empl['IncomePerCap']))"
   ],
   "metadata": {
    "collapsed": false,
    "pycharm": {
     "name": "#%%\n"
    }
   }
  },
  {
   "cell_type": "code",
   "execution_count": 94,
   "outputs": [
    {
     "name": "stdout",
     "output_type": "stream",
     "text": [
      "(0.48044784713362826, 0.027488944757806236)\n",
      "(0.25810299714436924, 0.007853351846832467)\n",
      "(0.9021788382149803, 0.036183102015759236)\n",
      "The effect observed the strongest is in Rhode Island\n"
     ]
    }
   ],
   "source": [
    "NJ_per_capita_self_empl = SetB_per_capita_self_empl.query(\"State == 'New Jersey'\")\n",
    "Kansas_per_capita_self_empl = SetB_per_capita_self_empl.query(\"State == 'Kansas'\")\n",
    "RI_per_capita_self_empl = SetB_per_capita_self_empl.query(\"State == 'Rhode Island'\")\n",
    "\n",
    "print(stats.pearsonr(NJ_per_capita_self_empl['SelfEmployed'],NJ_per_capita_self_empl['IncomePerCap']))\n",
    "print(stats.pearsonr(Kansas_per_capita_self_empl['SelfEmployed'],Kansas_per_capita_self_empl['IncomePerCap']))\n",
    "print(stats.pearsonr(RI_per_capita_self_empl['SelfEmployed'],RI_per_capita_self_empl['IncomePerCap']))\n",
    "print('The effect observed the strongest is in Rhode Island')"
   ],
   "metadata": {
    "collapsed": false,
    "pycharm": {
     "name": "#%%\n"
    }
   }
  },
  {
   "cell_type": "markdown",
   "metadata": {
    "pycharm": {
     "name": "#%% md\n"
    }
   },
   "source": [
    "# Exercise 2. Data visualization and read the stats comprehension and interpretation questions.\n",
    "\n",
    "- As part of the quizes, two homeworks and the final exam, you will be at times asked to interpret your result based on the understanding of underlying concepts. The questions below can help you practice and get a sense of how well you understand the concepts covered in the class so far. Can you answer these questions confidently?"
   ]
  },
  {
   "cell_type": "markdown",
   "metadata": {
    "pycharm": {
     "name": "#%% md\n"
    }
   },
   "source": [
    "### Question 1. The yearly salaries (in thousands of CHF) of 7000 people are summarized in the following box plot. If the 20th percentile of the salaries is 110,000, how many people earn between 110,000 and 114,000?\n",
    "\n",
    "- a) 2100\n",
    "- b) 700\n",
    "- c) 350\n",
    "- d) 70"
   ]
  },
  {
   "cell_type": "markdown",
   "metadata": {
    "pycharm": {
     "name": "#%% md\n"
    }
   },
   "source": [
    "<img src=\"boxplot.png\" style=\"width: 400px;\" align=\"left\"/>"
   ]
  },
  {
   "cell_type": "code",
   "execution_count": 95,
   "metadata": {
    "pycharm": {
     "name": "#%%\n"
    }
   },
   "outputs": [],
   "source": [
    "### your code and or answer here ###\n",
    "# c"
   ]
  },
  {
   "cell_type": "markdown",
   "metadata": {
    "pycharm": {
     "name": "#%% md\n"
    }
   },
   "source": [
    "### Question 2. What visualizations are suitable for getting insights about the distribution of a single continuous variable?\n",
    "\n",
    "- a) Barplot and histogram\n",
    "- b) Boxplot and histogram\n",
    "- c) Scatterplot and boxplot\n",
    "- d) Barplot, boxplot, and histogram"
   ]
  },
  {
   "cell_type": "code",
   "execution_count": 96,
   "metadata": {
    "pycharm": {
     "name": "#%%\n"
    }
   },
   "outputs": [],
   "source": [
    "### your code and or answer here ###\n",
    "# b) Boxplot and histogram"
   ]
  },
  {
   "cell_type": "markdown",
   "metadata": {
    "pycharm": {
     "name": "#%% md\n"
    }
   },
   "source": [
    "### Question 3. In a new groundbreaking study, 28 out of 100 patients reported improvements after taking a new medicine. It is known that, when given a placebo, 20% of the patients report feeling better. What is the p-value assuming the null hypothesis that the probability of successful treatment in this groundbreaking study is the same as the probability of reporting feeling better under placebo, according to a one-sided binomial test? Hint: you may use the statsmodels.stats.proportion.binom_test function.\n",
    "\n",
    "- a) 0.00034\n",
    "- b) 0.0034\n",
    "- c) 0.034\n",
    "- d) 0.34"
   ]
  },
  {
   "cell_type": "code",
   "execution_count": 97,
   "metadata": {
    "pycharm": {
     "name": "#%%\n"
    }
   },
   "outputs": [
    {
     "name": "stdout",
     "output_type": "stream",
     "text": [
      "BinomTestResult(k=28, n=100, alternative='greater', proportion_estimate=0.28, pvalue=0.03415162963907485)\n",
      "The p_value is 0.03415 < a=0.05 which shows that the the probability of successful treatment in this groundbreaking study is NOT the same as the probability of reporting feeling better under placebo, according to a one-sided binomial test.\n"
     ]
    }
   ],
   "source": [
    "### your code and or answer here ###\n",
    "p_value = stats.binomtest(28,100,0.2,alternative='greater')\n",
    "print(p_value)\n",
    "print(f'The p_value is 0.03415 < a=0.05 which shows that the the probability of successful treatment in this groundbreaking study is NOT the same as the probability of reporting feeling better under placebo, according to a one-sided binomial test.')"
   ]
  },
  {
   "cell_type": "markdown",
   "metadata": {
    "pycharm": {
     "name": "#%% md\n"
    }
   },
   "source": [
    "### Question 4. The 95% confidence interval of the average height of 1000 people using bootstrap resampling with 10000 bootstrap samples is calculated by:\n",
    "\n",
    "- a) Sampling 1000 height values with replacement and computing the mean. This is repeated 10000 times to create a sorted list of the 10000 means. The CI is defined by the 500th and the 9500th value in sorted order.\n",
    "- b) Sampling 10000 height values without replacement and computing the mean. This is repeated 1000 times to create a sorted list of the 1000 means. The CI is defined by the 25th and the 975th value in sorted order.\n",
    "- c) Sampling 1000 height values with replacement and computing the mean. This is repeated 10000 times to create a sorted list of the 10000 means. The CI is defined by the 250th and the 9750th value in sorted order.\n",
    "- d) Sampling 1000 height values without replacement and computing the mean. This is repeated 10000 times to create a sorted list of the 10000 means. The CI is defined by the 500th and the 9500th value in sorted order.\n",
    "\n",
    "### Implement your bootstrapping function that you will use in the rest of the course. It should take an array and the number of iterations as inputs, and output 95% confidence intervals of the mean."
   ]
  },
  {
   "cell_type": "markdown",
   "source": [
    "c) is correct:\n",
    "Sampling 10000 height values with replacement and computing the mean. This is repeated 10000 times to create a sorted list of the 10000 means. The CI is defined by the 250th and the 9750th value in sorted order."
   ],
   "metadata": {
    "collapsed": false,
    "pycharm": {
     "name": "#%% md\n"
    }
   }
  },
  {
   "cell_type": "code",
   "execution_count": 98,
   "metadata": {
    "pycharm": {
     "name": "#%%\n"
    }
   },
   "outputs": [],
   "source": [
    "### your code and or answer here ###\n",
    "# import numpy as np\n",
    "def bootstrapping(array, num_of_iters: int, sample_rate: float, confidence_level: float, value='mean', replace=True,test=False):\n",
    "    \"\"\"array: takes in an array of your concern(numpy array)\n",
    "        num_of_iters: the number of iterations you want to bootstrap\n",
    "        sample_rate: the percentage of data to be sampled each time\n",
    "        confidence_level: the confidence interval, e.g. 95%(input as 0.95)\n",
    "        value: which value to calculate(be bootstrapped) mean / median\n",
    "        replace: takes a boolean, if we will replace or not\n",
    "\n",
    "        output: e.g. 95% confidence intervals of the mean\n",
    "\n",
    "        Author: ZHANG Yuyao\n",
    "        \"\"\"\n",
    "    if test:\n",
    "        # array = np.array(array)\n",
    "        if value=='mean':\n",
    "            true_value = np.mean(array)\n",
    "        elif value == 'median':\n",
    "            true_value = np.median(array)\n",
    "        print(f'The true value of {value} is {true_value}')\n",
    "\n",
    "    sample_value = []\n",
    "    data_len = len(array)\n",
    "    sample_len = int(data_len*sample_rate)\n",
    "    for i in range(num_of_iters):\n",
    "        y = np.random.choice(array.tolist(), sample_len, replace=replace)\n",
    "        if value=='mean':\n",
    "            value_ = np.mean(y)\n",
    "        elif value == 'median':\n",
    "            value_ = np.median(y)\n",
    "        sample_value.append(value_)\n",
    "\n",
    "    bs_value = np.mean(sample_value)\n",
    "\n",
    "    alpha = 1-confidence_level\n",
    "    sample_value = np.sort(sample_value)\n",
    "\n",
    "    left = np.percentile(sample_value, alpha*50)#(100/2)\n",
    "    right = np.percentile(sample_value, 100-alpha*50)\n",
    "\n",
    "    print(f'The {value} is {bs_value}.\\nAnd the {confidence_level} confidence interval for that is: ({left}, {right}).')\n",
    "    return bs_value, left, right"
   ]
  },
  {
   "cell_type": "code",
   "execution_count": 99,
   "outputs": [
    {
     "name": "stdout",
     "output_type": "stream",
     "text": [
      "The true value of mean is 0.48571771248275886\n",
      "The mean is 0.48572133465256906.\n",
      "And the 0.95 confidence interval for that is: (0.3104271710730878, 0.6662699787958487).\n"
     ]
    }
   ],
   "source": [
    "a = np.random.random(100)\n",
    "p = bootstrapping(a, 100000, 0.1, 0.95, 'mean', True, True)"
   ],
   "metadata": {
    "collapsed": false,
    "pycharm": {
     "name": "#%%\n"
    }
   }
  },
  {
   "cell_type": "markdown",
   "metadata": {
    "pycharm": {
     "name": "#%% md\n"
    }
   },
   "source": [
    "### Question 5. A study conducted at EPFL revealed a negative Spearman’s correlation between GPA and entry-level job salary. Which of the following statements is true?\n",
    "\n",
    "- a) There could be a positive Spearman’s correlation between GPA and entry-level job salary in every single department of EPFL.\n",
    "- b) Spearman correlation between GPA and entry-level job salary in every single department has to be positive.\n",
    "- c) Across all levels, as opposed to entry-level only, higher GPA scores are associated with higher job salaries.\n",
    "- d) We can infer that finishing EPFL with a higher GPA causes you to have a lower entry-level job salary."
   ]
  },
  {
   "cell_type": "code",
   "execution_count": 100,
   "metadata": {
    "pycharm": {
     "name": "#%%\n"
    }
   },
   "outputs": [],
   "source": [
    "### your code and or answer here ###\n",
    "# a) There could be a positive Spearman's correlation between GPA and\n",
    "# entry-level job salary in every single department of EPFL."
   ]
  },
  {
   "cell_type": "markdown",
   "metadata": {
    "pycharm": {
     "name": "#%% md\n"
    }
   },
   "source": [
    "### Question 6. The average number of requests per page during a day on a large website is 200, while the median is 15. \n",
    "\n",
    "- a) You can assume that the distribution is heavy-tailed.\n",
    "- b) You are dealing with a left-skewed distribution.\n",
    "- c) Half of the pages get more than 200 requests.\n",
    "- d) None of the above."
   ]
  },
  {
   "cell_type": "code",
   "execution_count": 101,
   "metadata": {
    "pycharm": {
     "name": "#%%\n"
    }
   },
   "outputs": [],
   "source": [
    "### your code and or answer here ###\n",
    "# d) None of the above. The data is not necessarily heavy-tailed nor skewed, a signle outlier\n",
    "# could shift the average."
   ]
  }
 ],
 "metadata": {
  "kernelspec": {
   "display_name": "Python 3 (ipykernel)",
   "language": "python",
   "name": "python3"
  },
  "language_info": {
   "codemirror_mode": {
    "name": "ipython",
    "version": 3
   },
   "file_extension": ".py",
   "mimetype": "text/x-python",
   "name": "python",
   "nbconvert_exporter": "python",
   "pygments_lexer": "ipython3",
   "version": "3.9.13"
  },
  "varInspector": {
   "cols": {
    "lenName": 16,
    "lenType": 16,
    "lenVar": 40
   },
   "kernels_config": {
    "python": {
     "delete_cmd_postfix": "",
     "delete_cmd_prefix": "del ",
     "library": "var_list.py",
     "varRefreshCmd": "print(var_dic_list())"
    },
    "r": {
     "delete_cmd_postfix": ") ",
     "delete_cmd_prefix": "rm(",
     "library": "var_list.r",
     "varRefreshCmd": "cat(var_dic_list()) "
    }
   },
   "types_to_exclude": [
    "module",
    "function",
    "builtin_function_or_method",
    "instance",
    "_Feature"
   ],
   "window_display": false
  }
 },
 "nbformat": 4,
 "nbformat_minor": 4
}