{
 "cells": [
  {
   "cell_type": "markdown",
   "metadata": {
    "pycharm": {
     "name": "#%% md\n"
    }
   },
   "source": [
    "## Data from World Happiness Report\n",
    "\n",
    "The World Happiness Report is an annual publication of the United Nations Sustainable Development Solutions Network. It contains articles, and rankings of national happiness based on respondent ratings of their own lives, which the report also correlates with various life factors.\n",
    "\n",
    "In this notebook we will explore the happiness of different countries and the features associated.\n",
    "The datasets that we will use are available in *Data*: **happiness2020.pkl** and **countries_info.csv**.\n",
    "\n",
    "Although the features are self-explanatory, here a summary: \n",
    "\n",
    "**happiness2020.pkl**\n",
    "* country: *Name of the country*\n",
    "* happiness_score: *Happiness score*\n",
    "* social_support: *Social support (mitigation the effects of inequality)*\n",
    "* healthy_life_expectancy: *Healthy Life Expectancy*\n",
    "* freedom_of_choices: *Freedom to make life choices*\n",
    "* generosity: *Generosity (charity, volunteers)*\n",
    "* perception_of_corruption: *Corruption Perception*\n",
    "* world_region: *Area of the world of the country*\n",
    "\n",
    "**countries_info.csv**\n",
    "* country_name: *Name of the country*\n",
    "* area: *Area in sq mi*\n",
    "* population: *Number of people*\n",
    "* literacy: *Literacy percentage*"
   ]
  },
  {
   "cell_type": "code",
   "execution_count": 1,
   "metadata": {
    "pycharm": {
     "name": "#%%\n"
    }
   },
   "outputs": [
    {
     "name": "stdout",
     "output_type": "stream",
     "text": [
      "country_name,area,population,literacy\r\n",
      "afghanistan,647500,31056997,\"36,0\"\r\n",
      "albania,28748,3581655,\"86,5\"\r\n",
      "algeria,2381740,32930091,\"70,0\"\r\n",
      "argentina,2766890,39921833,\"97,1\"\r\n",
      "armenia,29800,2976372,\"98,6\"\r\n",
      "australia,7686850,20264082,\"100,0\"\r\n",
      "austria,83870,8192880,\"98,0\"\r\n",
      "azerbaijan,86600,7961619,\"97,0\"\r\n",
      "bahrain,665,698585,\"89,1\"\r\n"
     ]
    }
   ],
   "source": [
    "!head Data/countries_info.csv"
   ]
  },
  {
   "cell_type": "code",
   "execution_count": 2,
   "metadata": {
    "pycharm": {
     "name": "#%%\n"
    }
   },
   "outputs": [],
   "source": [
    "import pandas as pd\n",
    "%matplotlib inline\n",
    "\n",
    "DATA_FOLDER = 'Data/'\n",
    "HAPPINESS_DATASET = DATA_FOLDER+\"happiness2020.csv\"\n",
    "COUNTRIES_DATASET = DATA_FOLDER+\"countries_info.csv\""
   ]
  },
  {
   "cell_type": "markdown",
   "metadata": {
    "pycharm": {
     "name": "#%% md\n"
    }
   },
   "source": [
    "## Task 1: Load the data\n",
    "\n",
    "Load the 2 datasets in Pandas dataframes (called *happiness* and *countries*), and show the first rows.\n",
    "\n",
    "\n",
    "**Hint**: Use the correct reader and verify the data has the expected format."
   ]
  },
  {
   "cell_type": "code",
   "execution_count": 3,
   "metadata": {
    "pycharm": {
     "name": "#%%\n"
    }
   },
   "outputs": [
    {
     "data": {
      "text/plain": "       country  happiness_score  social_support  healthy_life_expectancy  \\\n0  Afghanistan           2.5669        0.470367                52.590000   \n1      Albania           4.8827        0.671070                68.708138   \n2      Algeria           5.0051        0.803385                65.905174   \n3    Argentina           5.9747        0.900568                68.803802   \n4      Armenia           4.6768        0.757479                66.750656   \n\n   freedom_of_choices  generosity  perception_of_corruption  \\\n0            0.396573   -0.096429                  0.933687   \n1            0.781994   -0.042309                  0.896304   \n2            0.466611   -0.121105                  0.735485   \n3            0.831132   -0.194914                  0.842010   \n4            0.712018   -0.138780                  0.773545   \n\n                         world_region  \n0                          South Asia  \n1          Central and Eastern Europe  \n2        Middle East and North Africa  \n3         Latin America and Caribbean  \n4  Commonwealth of Independent States  ",
      "text/html": "<div>\n<style scoped>\n    .dataframe tbody tr th:only-of-type {\n        vertical-align: middle;\n    }\n\n    .dataframe tbody tr th {\n        vertical-align: top;\n    }\n\n    .dataframe thead th {\n        text-align: right;\n    }\n</style>\n<table border=\"1\" class=\"dataframe\">\n  <thead>\n    <tr style=\"text-align: right;\">\n      <th></th>\n      <th>country</th>\n      <th>happiness_score</th>\n      <th>social_support</th>\n      <th>healthy_life_expectancy</th>\n      <th>freedom_of_choices</th>\n      <th>generosity</th>\n      <th>perception_of_corruption</th>\n      <th>world_region</th>\n    </tr>\n  </thead>\n  <tbody>\n    <tr>\n      <th>0</th>\n      <td>Afghanistan</td>\n      <td>2.5669</td>\n      <td>0.470367</td>\n      <td>52.590000</td>\n      <td>0.396573</td>\n      <td>-0.096429</td>\n      <td>0.933687</td>\n      <td>South Asia</td>\n    </tr>\n    <tr>\n      <th>1</th>\n      <td>Albania</td>\n      <td>4.8827</td>\n      <td>0.671070</td>\n      <td>68.708138</td>\n      <td>0.781994</td>\n      <td>-0.042309</td>\n      <td>0.896304</td>\n      <td>Central and Eastern Europe</td>\n    </tr>\n    <tr>\n      <th>2</th>\n      <td>Algeria</td>\n      <td>5.0051</td>\n      <td>0.803385</td>\n      <td>65.905174</td>\n      <td>0.466611</td>\n      <td>-0.121105</td>\n      <td>0.735485</td>\n      <td>Middle East and North Africa</td>\n    </tr>\n    <tr>\n      <th>3</th>\n      <td>Argentina</td>\n      <td>5.9747</td>\n      <td>0.900568</td>\n      <td>68.803802</td>\n      <td>0.831132</td>\n      <td>-0.194914</td>\n      <td>0.842010</td>\n      <td>Latin America and Caribbean</td>\n    </tr>\n    <tr>\n      <th>4</th>\n      <td>Armenia</td>\n      <td>4.6768</td>\n      <td>0.757479</td>\n      <td>66.750656</td>\n      <td>0.712018</td>\n      <td>-0.138780</td>\n      <td>0.773545</td>\n      <td>Commonwealth of Independent States</td>\n    </tr>\n  </tbody>\n</table>\n</div>"
     },
     "execution_count": 3,
     "metadata": {},
     "output_type": "execute_result"
    }
   ],
   "source": [
    "# Write your code here\n",
    "# Load the two datasets\n",
    "happiness = pd.read_csv(HAPPINESS_DATASET)\n",
    "countries = pd.read_csv(COUNTRIES_DATASET, decimal=',')\n",
    "# show the first lines of happiness\n",
    "happiness.head()"
   ]
  },
  {
   "cell_type": "code",
   "execution_count": 4,
   "outputs": [
    {
     "data": {
      "text/plain": "  country_name     area  population  literacy\n0  afghanistan   647500    31056997      36.0\n1      albania    28748     3581655      86.5\n2      algeria  2381740    32930091      70.0\n3    argentina  2766890    39921833      97.1\n4      armenia    29800     2976372      98.6",
      "text/html": "<div>\n<style scoped>\n    .dataframe tbody tr th:only-of-type {\n        vertical-align: middle;\n    }\n\n    .dataframe tbody tr th {\n        vertical-align: top;\n    }\n\n    .dataframe thead th {\n        text-align: right;\n    }\n</style>\n<table border=\"1\" class=\"dataframe\">\n  <thead>\n    <tr style=\"text-align: right;\">\n      <th></th>\n      <th>country_name</th>\n      <th>area</th>\n      <th>population</th>\n      <th>literacy</th>\n    </tr>\n  </thead>\n  <tbody>\n    <tr>\n      <th>0</th>\n      <td>afghanistan</td>\n      <td>647500</td>\n      <td>31056997</td>\n      <td>36.0</td>\n    </tr>\n    <tr>\n      <th>1</th>\n      <td>albania</td>\n      <td>28748</td>\n      <td>3581655</td>\n      <td>86.5</td>\n    </tr>\n    <tr>\n      <th>2</th>\n      <td>algeria</td>\n      <td>2381740</td>\n      <td>32930091</td>\n      <td>70.0</td>\n    </tr>\n    <tr>\n      <th>3</th>\n      <td>argentina</td>\n      <td>2766890</td>\n      <td>39921833</td>\n      <td>97.1</td>\n    </tr>\n    <tr>\n      <th>4</th>\n      <td>armenia</td>\n      <td>29800</td>\n      <td>2976372</td>\n      <td>98.6</td>\n    </tr>\n  </tbody>\n</table>\n</div>"
     },
     "execution_count": 4,
     "metadata": {},
     "output_type": "execute_result"
    }
   ],
   "source": [
    "# show the first lines of countries\n",
    "countries.head()"
   ],
   "metadata": {
    "collapsed": false,
    "pycharm": {
     "name": "#%%\n"
    }
   }
  },
  {
   "cell_type": "markdown",
   "metadata": {
    "pycharm": {
     "name": "#%% md\n"
    }
   },
   "source": [
    "## Task 2: Let's merge the data\n",
    "\n",
    "Create a dataframe called *country_features* by merging *happiness* and *countries*. A row of this dataframe must describe all the features that we have about a country.\n",
    "\n",
    "**Hint**: Verify that all the rows are in the final dataframe."
   ]
  },
  {
   "cell_type": "code",
   "execution_count": 5,
   "metadata": {
    "pycharm": {
     "name": "#%%\n"
    }
   },
   "outputs": [
    {
     "data": {
      "text/plain": "  country_name     area  population  literacy      country  happiness_score  \\\n0  afghanistan   647500    31056997      36.0  Afghanistan           2.5669   \n1      albania    28748     3581655      86.5      Albania           4.8827   \n2      algeria  2381740    32930091      70.0      Algeria           5.0051   \n3    argentina  2766890    39921833      97.1    Argentina           5.9747   \n4      armenia    29800     2976372      98.6      Armenia           4.6768   \n\n   social_support  healthy_life_expectancy  freedom_of_choices  generosity  \\\n0        0.470367                52.590000            0.396573   -0.096429   \n1        0.671070                68.708138            0.781994   -0.042309   \n2        0.803385                65.905174            0.466611   -0.121105   \n3        0.900568                68.803802            0.831132   -0.194914   \n4        0.757479                66.750656            0.712018   -0.138780   \n\n   perception_of_corruption                        world_region  \n0                  0.933687                          South Asia  \n1                  0.896304          Central and Eastern Europe  \n2                  0.735485        Middle East and North Africa  \n3                  0.842010         Latin America and Caribbean  \n4                  0.773545  Commonwealth of Independent States  ",
      "text/html": "<div>\n<style scoped>\n    .dataframe tbody tr th:only-of-type {\n        vertical-align: middle;\n    }\n\n    .dataframe tbody tr th {\n        vertical-align: top;\n    }\n\n    .dataframe thead th {\n        text-align: right;\n    }\n</style>\n<table border=\"1\" class=\"dataframe\">\n  <thead>\n    <tr style=\"text-align: right;\">\n      <th></th>\n      <th>country_name</th>\n      <th>area</th>\n      <th>population</th>\n      <th>literacy</th>\n      <th>country</th>\n      <th>happiness_score</th>\n      <th>social_support</th>\n      <th>healthy_life_expectancy</th>\n      <th>freedom_of_choices</th>\n      <th>generosity</th>\n      <th>perception_of_corruption</th>\n      <th>world_region</th>\n    </tr>\n  </thead>\n  <tbody>\n    <tr>\n      <th>0</th>\n      <td>afghanistan</td>\n      <td>647500</td>\n      <td>31056997</td>\n      <td>36.0</td>\n      <td>Afghanistan</td>\n      <td>2.5669</td>\n      <td>0.470367</td>\n      <td>52.590000</td>\n      <td>0.396573</td>\n      <td>-0.096429</td>\n      <td>0.933687</td>\n      <td>South Asia</td>\n    </tr>\n    <tr>\n      <th>1</th>\n      <td>albania</td>\n      <td>28748</td>\n      <td>3581655</td>\n      <td>86.5</td>\n      <td>Albania</td>\n      <td>4.8827</td>\n      <td>0.671070</td>\n      <td>68.708138</td>\n      <td>0.781994</td>\n      <td>-0.042309</td>\n      <td>0.896304</td>\n      <td>Central and Eastern Europe</td>\n    </tr>\n    <tr>\n      <th>2</th>\n      <td>algeria</td>\n      <td>2381740</td>\n      <td>32930091</td>\n      <td>70.0</td>\n      <td>Algeria</td>\n      <td>5.0051</td>\n      <td>0.803385</td>\n      <td>65.905174</td>\n      <td>0.466611</td>\n      <td>-0.121105</td>\n      <td>0.735485</td>\n      <td>Middle East and North Africa</td>\n    </tr>\n    <tr>\n      <th>3</th>\n      <td>argentina</td>\n      <td>2766890</td>\n      <td>39921833</td>\n      <td>97.1</td>\n      <td>Argentina</td>\n      <td>5.9747</td>\n      <td>0.900568</td>\n      <td>68.803802</td>\n      <td>0.831132</td>\n      <td>-0.194914</td>\n      <td>0.842010</td>\n      <td>Latin America and Caribbean</td>\n    </tr>\n    <tr>\n      <th>4</th>\n      <td>armenia</td>\n      <td>29800</td>\n      <td>2976372</td>\n      <td>98.6</td>\n      <td>Armenia</td>\n      <td>4.6768</td>\n      <td>0.757479</td>\n      <td>66.750656</td>\n      <td>0.712018</td>\n      <td>-0.138780</td>\n      <td>0.773545</td>\n      <td>Commonwealth of Independent States</td>\n    </tr>\n  </tbody>\n</table>\n</div>"
     },
     "execution_count": 5,
     "metadata": {},
     "output_type": "execute_result"
    }
   ],
   "source": [
    "# Write your code here\n",
    "country_features = pd.merge(countries, happiness, how='outer', left_index=True, right_index=True)\n",
    "country_features.drop('country', axis=1)\n",
    "country_features.country_name.apply(lambda x: x.capitalize())\n",
    "country_features.head()"
   ]
  },
  {
   "cell_type": "code",
   "execution_count": 6,
   "outputs": [
    {
     "name": "stdout",
     "output_type": "stream",
     "text": [
      "happiness = 135\n",
      "countries = 135\n",
      "country_features = 135\n"
     ]
    },
    {
     "data": {
      "text/plain": "True"
     },
     "execution_count": 6,
     "metadata": {},
     "output_type": "execute_result"
    }
   ],
   "source": [
    "country_features.head()\n",
    "print(\"happiness = {}\".format(len(happiness)))\n",
    "print(\"countries = {}\".format(len(countries)))\n",
    "print(\"country_features = {}\".format(len(country_features)))\n",
    "\n",
    "len(happiness) == len(countries) == len(country_features)"
   ],
   "metadata": {
    "collapsed": false,
    "pycharm": {
     "name": "#%%\n"
    }
   }
  },
  {
   "cell_type": "markdown",
   "metadata": {
    "pycharm": {
     "name": "#%% md\n"
    }
   },
   "source": [
    "## Task 3: Where are people happier?\n",
    "\n",
    "Print the top 10 countries based on their happiness score (higher is better)."
   ]
  },
  {
   "cell_type": "code",
   "execution_count": 7,
   "metadata": {
    "pycharm": {
     "name": "#%%\n"
    }
   },
   "outputs": [
    {
     "name": "stdout",
     "output_type": "stream",
     "text": [
      "    country_name  happiness_score\n",
      "38       finland           7.8087\n",
      "31       denmark           7.6456\n",
      "115  switzerland           7.5599\n",
      "50       iceland           7.5045\n",
      "92        norway           7.4880\n",
      "87   netherlands           7.4489\n",
      "114       sweden           7.3535\n",
      "88   new zealand           7.2996\n",
      "6        austria           7.2942\n",
      "72    luxembourg           7.2375\n"
     ]
    }
   ],
   "source": [
    "# Write your code here\n",
    "print(country_features.sort_values('happiness_score', ascending=False)[['country_name', 'happiness_score']][:10])"
   ]
  },
  {
   "cell_type": "markdown",
   "metadata": {
    "pycharm": {
     "name": "#%% md\n"
    }
   },
   "source": [
    "We are interested to know in what world region people are happier. \n",
    "\n",
    "Create and print a dataframe with the (1) average happiness score and (2) the number of contries for each world region.\n",
    "Sort the result to show the happiness ranking."
   ]
  },
  {
   "cell_type": "code",
   "execution_count": 8,
   "metadata": {
    "pycharm": {
     "name": "#%%\n"
    }
   },
   "outputs": [
    {
     "data": {
      "text/plain": "                                        mean  count\nworld_region                                       \nNorth America and ANZ               7.173525      4\nWestern Europe                      6.967405     20\nLatin America and Caribbean         5.971280     20\nCentral and Eastern Europe          5.891393     14\nSoutheast Asia                      5.517788      8\nEast Asia                           5.483633      3\nCommonwealth of Independent States  5.358342     12\nMiddle East and North Africa        5.269306     16\nSub-Saharan Africa                  4.393856     32\nSouth Asia                          4.355083      6",
      "text/html": "<div>\n<style scoped>\n    .dataframe tbody tr th:only-of-type {\n        vertical-align: middle;\n    }\n\n    .dataframe tbody tr th {\n        vertical-align: top;\n    }\n\n    .dataframe thead th {\n        text-align: right;\n    }\n</style>\n<table border=\"1\" class=\"dataframe\">\n  <thead>\n    <tr style=\"text-align: right;\">\n      <th></th>\n      <th>mean</th>\n      <th>count</th>\n    </tr>\n    <tr>\n      <th>world_region</th>\n      <th></th>\n      <th></th>\n    </tr>\n  </thead>\n  <tbody>\n    <tr>\n      <th>North America and ANZ</th>\n      <td>7.173525</td>\n      <td>4</td>\n    </tr>\n    <tr>\n      <th>Western Europe</th>\n      <td>6.967405</td>\n      <td>20</td>\n    </tr>\n    <tr>\n      <th>Latin America and Caribbean</th>\n      <td>5.971280</td>\n      <td>20</td>\n    </tr>\n    <tr>\n      <th>Central and Eastern Europe</th>\n      <td>5.891393</td>\n      <td>14</td>\n    </tr>\n    <tr>\n      <th>Southeast Asia</th>\n      <td>5.517788</td>\n      <td>8</td>\n    </tr>\n    <tr>\n      <th>East Asia</th>\n      <td>5.483633</td>\n      <td>3</td>\n    </tr>\n    <tr>\n      <th>Commonwealth of Independent States</th>\n      <td>5.358342</td>\n      <td>12</td>\n    </tr>\n    <tr>\n      <th>Middle East and North Africa</th>\n      <td>5.269306</td>\n      <td>16</td>\n    </tr>\n    <tr>\n      <th>Sub-Saharan Africa</th>\n      <td>4.393856</td>\n      <td>32</td>\n    </tr>\n    <tr>\n      <th>South Asia</th>\n      <td>4.355083</td>\n      <td>6</td>\n    </tr>\n  </tbody>\n</table>\n</div>"
     },
     "execution_count": 8,
     "metadata": {},
     "output_type": "execute_result"
    }
   ],
   "source": [
    "# Write your code here\n",
    "# grouped_country = country_features.groupby(country_features.world_region)\n",
    "# avg_happy, count_countries = grouped_country.happiness_score.mean(), grouped_country.country_name.count()\n",
    "# avg_happy.head()\n",
    "average_by_region = country_features.groupby(\"world_region\")['happiness_score'].agg(['mean','count'])\n",
    "average_by_region.sort_values(\"mean\", ascending=False)"
   ]
  },
  {
   "cell_type": "markdown",
   "metadata": {
    "pycharm": {
     "name": "#%% md\n"
    }
   },
   "source": [
    "The first region has only a few countries! What are them and what is their score?"
   ]
  },
  {
   "cell_type": "code",
   "execution_count": 9,
   "metadata": {
    "pycharm": {
     "name": "#%%\n"
    }
   },
   "outputs": [
    {
     "data": {
      "text/plain": "           country  happiness_score\n5        Australia           7.2228\n21          Canada           7.2321\n88     New Zealand           7.2996\n127  United States           6.9396",
      "text/html": "<div>\n<style scoped>\n    .dataframe tbody tr th:only-of-type {\n        vertical-align: middle;\n    }\n\n    .dataframe tbody tr th {\n        vertical-align: top;\n    }\n\n    .dataframe thead th {\n        text-align: right;\n    }\n</style>\n<table border=\"1\" class=\"dataframe\">\n  <thead>\n    <tr style=\"text-align: right;\">\n      <th></th>\n      <th>country</th>\n      <th>happiness_score</th>\n    </tr>\n  </thead>\n  <tbody>\n    <tr>\n      <th>5</th>\n      <td>Australia</td>\n      <td>7.2228</td>\n    </tr>\n    <tr>\n      <th>21</th>\n      <td>Canada</td>\n      <td>7.2321</td>\n    </tr>\n    <tr>\n      <th>88</th>\n      <td>New Zealand</td>\n      <td>7.2996</td>\n    </tr>\n    <tr>\n      <th>127</th>\n      <td>United States</td>\n      <td>6.9396</td>\n    </tr>\n  </tbody>\n</table>\n</div>"
     },
     "execution_count": 9,
     "metadata": {},
     "output_type": "execute_result"
    }
   ],
   "source": [
    "# Write your code here\n",
    "country_features[country_features.world_region=='North America and ANZ'][['country', 'happiness_score']]"
   ]
  },
  {
   "cell_type": "markdown",
   "metadata": {
    "pycharm": {
     "name": "#%% md\n"
    }
   },
   "source": [
    "## Task 4: How literate is the world?\n",
    "\n",
    "Print the names of the countries with a level of literacy of 100%. \n",
    "\n",
    "For each country, print the name and the world region in the format: *{region name} - {country name} ({happiness score})*"
   ]
  },
  {
   "cell_type": "code",
   "execution_count": 10,
   "metadata": {
    "pycharm": {
     "name": "#%%\n"
    }
   },
   "outputs": [
    {
     "name": "stdout",
     "output_type": "stream",
     "text": [
      "North America and ANZ - Australia (7.222799778)\n",
      "Western Europe - Denmark (7.645599842)\n",
      "Western Europe - Finland (7.808700085)\n",
      "Western Europe - Luxembourg (7.237500191)\n",
      "Western Europe - Norway (7.487999916000001)\n"
     ]
    }
   ],
   "source": [
    "# Write your code here\n",
    "for idx, row in country_features[country_features.literacy==100].iterrows():\n",
    "    print(\"{} - {} ({})\".format(row.world_region, row.country, row.happiness_score))"
   ]
  },
  {
   "cell_type": "markdown",
   "metadata": {
    "pycharm": {
     "name": "#%% md\n"
    }
   },
   "source": [
    "What is the global average?"
   ]
  },
  {
   "cell_type": "code",
   "execution_count": 11,
   "metadata": {
    "pycharm": {
     "name": "#%%\n"
    }
   },
   "outputs": [
    {
     "name": "stdout",
     "output_type": "stream",
     "text": [
      "global avg of literacy is:81.85112781954886\n",
      "global avg of happiness score is:5.52506221665926\n"
     ]
    }
   ],
   "source": [
    "# Write your code here\n",
    "print(f'global avg of literacy is:{country_features.literacy.mean()}')\n",
    "print(f'global avg of happiness score is:{country_features.happiness_score.mean()}')"
   ]
  },
  {
   "cell_type": "markdown",
   "metadata": {
    "pycharm": {
     "name": "#%% md\n"
    }
   },
   "source": [
    "Calculate the proportion of countries with a literacy level below 50%. Print the value in percentage, formatted with 2 decimals."
   ]
  },
  {
   "cell_type": "code",
   "execution_count": 12,
   "metadata": {
    "pycharm": {
     "name": "#%%\n"
    }
   },
   "outputs": [
    {
     "name": "stdout",
     "output_type": "stream",
     "text": [
      "Percentage of countries with literacy level < 50%: 11.85%\n"
     ]
    }
   ],
   "source": [
    "# Write your code here\n",
    "low = len(country_features[country_features.literacy<50])\n",
    "percentage = low/len(country_features)\n",
    "print(\"Percentage of countries with literacy level < 50%: {:.2%}\".format(percentage))"
   ]
  },
  {
   "cell_type": "markdown",
   "metadata": {
    "pycharm": {
     "name": "#%% md\n"
    }
   },
   "source": [
    "Print the raw number and the percentage of world population that is illiterate."
   ]
  },
  {
   "cell_type": "code",
   "execution_count": 13,
   "metadata": {
    "pycharm": {
     "name": "#%%\n"
    }
   },
   "outputs": [
    {
     "name": "stdout",
     "output_type": "stream",
     "text": [
      "Illiterate people: 1249372988 (20.33%)\n"
     ]
    }
   ],
   "source": [
    "# Write your code here\n",
    "illiterate = country_features.population * (100 - country_features.literacy)/100\n",
    "percentage_illiterate = illiterate.sum()/country_features.population.sum()\n",
    "print(\"Illiterate people: {:.0f} ({:.2%})\".format(illiterate.sum(), percentage_illiterate))"
   ]
  },
  {
   "cell_type": "markdown",
   "metadata": {
    "pycharm": {
     "name": "#%% md\n"
    }
   },
   "source": [
    "## Task 5: Population density\n",
    "\n",
    "Add to the dataframe a new field called *population_density* computed by dividing *population* by *area*."
   ]
  },
  {
   "cell_type": "code",
   "execution_count": 14,
   "metadata": {
    "pycharm": {
     "name": "#%%\n"
    }
   },
   "outputs": [
    {
     "data": {
      "text/plain": "  country_name     area  population  literacy      country  happiness_score  \\\n0  afghanistan   647500    31056997      36.0  Afghanistan           2.5669   \n1      albania    28748     3581655      86.5      Albania           4.8827   \n2      algeria  2381740    32930091      70.0      Algeria           5.0051   \n3    argentina  2766890    39921833      97.1    Argentina           5.9747   \n4      armenia    29800     2976372      98.6      Armenia           4.6768   \n\n   social_support  healthy_life_expectancy  freedom_of_choices  generosity  \\\n0        0.470367                52.590000            0.396573   -0.096429   \n1        0.671070                68.708138            0.781994   -0.042309   \n2        0.803385                65.905174            0.466611   -0.121105   \n3        0.900568                68.803802            0.831132   -0.194914   \n4        0.757479                66.750656            0.712018   -0.138780   \n\n   perception_of_corruption                        world_region  \\\n0                  0.933687                          South Asia   \n1                  0.896304          Central and Eastern Europe   \n2                  0.735485        Middle East and North Africa   \n3                  0.842010         Latin America and Caribbean   \n4                  0.773545  Commonwealth of Independent States   \n\n   population_density  \n0           47.964474  \n1          124.587971  \n2           13.826065  \n3           14.428413  \n4           99.878255  ",
      "text/html": "<div>\n<style scoped>\n    .dataframe tbody tr th:only-of-type {\n        vertical-align: middle;\n    }\n\n    .dataframe tbody tr th {\n        vertical-align: top;\n    }\n\n    .dataframe thead th {\n        text-align: right;\n    }\n</style>\n<table border=\"1\" class=\"dataframe\">\n  <thead>\n    <tr style=\"text-align: right;\">\n      <th></th>\n      <th>country_name</th>\n      <th>area</th>\n      <th>population</th>\n      <th>literacy</th>\n      <th>country</th>\n      <th>happiness_score</th>\n      <th>social_support</th>\n      <th>healthy_life_expectancy</th>\n      <th>freedom_of_choices</th>\n      <th>generosity</th>\n      <th>perception_of_corruption</th>\n      <th>world_region</th>\n      <th>population_density</th>\n    </tr>\n  </thead>\n  <tbody>\n    <tr>\n      <th>0</th>\n      <td>afghanistan</td>\n      <td>647500</td>\n      <td>31056997</td>\n      <td>36.0</td>\n      <td>Afghanistan</td>\n      <td>2.5669</td>\n      <td>0.470367</td>\n      <td>52.590000</td>\n      <td>0.396573</td>\n      <td>-0.096429</td>\n      <td>0.933687</td>\n      <td>South Asia</td>\n      <td>47.964474</td>\n    </tr>\n    <tr>\n      <th>1</th>\n      <td>albania</td>\n      <td>28748</td>\n      <td>3581655</td>\n      <td>86.5</td>\n      <td>Albania</td>\n      <td>4.8827</td>\n      <td>0.671070</td>\n      <td>68.708138</td>\n      <td>0.781994</td>\n      <td>-0.042309</td>\n      <td>0.896304</td>\n      <td>Central and Eastern Europe</td>\n      <td>124.587971</td>\n    </tr>\n    <tr>\n      <th>2</th>\n      <td>algeria</td>\n      <td>2381740</td>\n      <td>32930091</td>\n      <td>70.0</td>\n      <td>Algeria</td>\n      <td>5.0051</td>\n      <td>0.803385</td>\n      <td>65.905174</td>\n      <td>0.466611</td>\n      <td>-0.121105</td>\n      <td>0.735485</td>\n      <td>Middle East and North Africa</td>\n      <td>13.826065</td>\n    </tr>\n    <tr>\n      <th>3</th>\n      <td>argentina</td>\n      <td>2766890</td>\n      <td>39921833</td>\n      <td>97.1</td>\n      <td>Argentina</td>\n      <td>5.9747</td>\n      <td>0.900568</td>\n      <td>68.803802</td>\n      <td>0.831132</td>\n      <td>-0.194914</td>\n      <td>0.842010</td>\n      <td>Latin America and Caribbean</td>\n      <td>14.428413</td>\n    </tr>\n    <tr>\n      <th>4</th>\n      <td>armenia</td>\n      <td>29800</td>\n      <td>2976372</td>\n      <td>98.6</td>\n      <td>Armenia</td>\n      <td>4.6768</td>\n      <td>0.757479</td>\n      <td>66.750656</td>\n      <td>0.712018</td>\n      <td>-0.138780</td>\n      <td>0.773545</td>\n      <td>Commonwealth of Independent States</td>\n      <td>99.878255</td>\n    </tr>\n  </tbody>\n</table>\n</div>"
     },
     "execution_count": 14,
     "metadata": {},
     "output_type": "execute_result"
    }
   ],
   "source": [
    "# Write your code here\n",
    "country_features[\"population_density\"] = country_features['population']/country_features['area']\n",
    "country_features.head()"
   ]
  },
  {
   "cell_type": "markdown",
   "metadata": {
    "pycharm": {
     "name": "#%% md\n"
    }
   },
   "source": [
    "What is the happiness score of the 3 countries with the lowest population density?"
   ]
  },
  {
   "cell_type": "code",
   "execution_count": 15,
   "metadata": {
    "pycharm": {
     "name": "#%%\n"
    }
   },
   "outputs": [
    {
     "data": {
      "text/plain": "    happiness_score    country\n83           5.4562   Mongolia\n5            7.2228  Australia\n14           3.4789   Botswana",
      "text/html": "<div>\n<style scoped>\n    .dataframe tbody tr th:only-of-type {\n        vertical-align: middle;\n    }\n\n    .dataframe tbody tr th {\n        vertical-align: top;\n    }\n\n    .dataframe thead th {\n        text-align: right;\n    }\n</style>\n<table border=\"1\" class=\"dataframe\">\n  <thead>\n    <tr style=\"text-align: right;\">\n      <th></th>\n      <th>happiness_score</th>\n      <th>country</th>\n    </tr>\n  </thead>\n  <tbody>\n    <tr>\n      <th>83</th>\n      <td>5.4562</td>\n      <td>Mongolia</td>\n    </tr>\n    <tr>\n      <th>5</th>\n      <td>7.2228</td>\n      <td>Australia</td>\n    </tr>\n    <tr>\n      <th>14</th>\n      <td>3.4789</td>\n      <td>Botswana</td>\n    </tr>\n  </tbody>\n</table>\n</div>"
     },
     "execution_count": 15,
     "metadata": {},
     "output_type": "execute_result"
    }
   ],
   "source": [
    "# Write your code here\n",
    "country_features.sort_values('population_density',ascending=True)[['happiness_score', 'country']].head(3)"
   ]
  },
  {
   "cell_type": "markdown",
   "metadata": {
    "pycharm": {
     "name": "#%% md\n"
    }
   },
   "source": [
    "## Task 6: Healty and happy?\n",
    "\n",
    "Plot in a scatter plot the happiness score (x) and healty life expectancy (y)."
   ]
  },
  {
   "cell_type": "code",
   "execution_count": 16,
   "metadata": {
    "pycharm": {
     "name": "#%%\n"
    }
   },
   "outputs": [
    {
     "data": {
      "text/plain": "<Figure size 432x288 with 1 Axes>",
      "image/png": "[encoded data removed]"
     },
     "metadata": {
      "needs_background": "light"
     },
     "output_type": "display_data"
    }
   ],
   "source": [
    "# Write your code here\n",
    "import matplotlib.pyplot as plt\n",
    "scatter = plt.scatter(x=country_features.happiness_score, y=country_features.healthy_life_expectancy)"
   ]
  },
  {
   "cell_type": "markdown",
   "metadata": {
    "pycharm": {
     "name": "#%% md\n"
    }
   },
   "source": [
    "Feel free to continue the exploration of the dataset! We'll release the solutions next week.\n",
    "\n",
    "----\n",
    "Enjoy EPFL and be happy, next year Switzerland must be #1."
   ]
  },
  {
   "cell_type": "code",
   "execution_count": 16,
   "outputs": [],
   "source": [],
   "metadata": {
    "collapsed": false,
    "pycharm": {
     "name": "#%%\n"
    }
   }
  }
 ],
 "metadata": {
  "kernelspec": {
   "display_name": "Python 3 (ipykernel)",
   "language": "python",
   "name": "python3"
  },
  "language_info": {
   "codemirror_mode": {
    "name": "ipython",
    "version": 3
   },
   "file_extension": ".py",
   "mimetype": "text/x-python",
   "name": "python",
   "nbconvert_exporter": "python",
   "pygments_lexer": "ipython3",
   "version": "3.9.13"
  }
 },
 "nbformat": 4,
 "nbformat_minor": 4
}